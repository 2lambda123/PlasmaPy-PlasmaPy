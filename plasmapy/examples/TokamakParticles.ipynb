{
 "cells": [
  {
   "cell_type": "code",
   "execution_count": 122,
   "metadata": {},
   "outputs": [
    {
     "data": {
      "text/plain": [
       "CircularWire(normal=[0. 0. 1.], center=[0. 0. 0.], radius=1.0, current=15000000.0)"
      ]
     },
     "execution_count": 122,
     "metadata": {},
     "output_type": "execute_result"
    }
   ],
   "source": [
    "from plasmapy import simulation\n",
    "\n",
    "from plasmapy.formulary import magnetostatics\n",
    "\n",
    "import astropy.units as u\n",
    "import numpy as np\n",
    "radius = 1 * u.m\n",
    "main_current = 15 * u.MA\n",
    "plasma_wire = magnetostatics.CircularWire([0, 0, 1], u.Quantity((0, 0, 0), u.m), radius, main_current)\n",
    "plasma_wire"
   ]
  },
  {
   "cell_type": "code",
   "execution_count": 123,
   "metadata": {},
   "outputs": [
    {
     "data": {
      "text/plain": [
       "array([0.        , 1.57079633, 3.14159265, 4.71238898])"
      ]
     },
     "execution_count": 123,
     "metadata": {},
     "output_type": "execute_result"
    }
   ],
   "source": [
    "n_coils = 4\n",
    "coil_angles = np.linspace(0, 2*np.pi, n_coils, endpoint=False)\n",
    "coil_angles"
   ]
  },
  {
   "cell_type": "code",
   "execution_count": 124,
   "metadata": {},
   "outputs": [
    {
     "data": {
      "text/latex": [
       "$[1000000,~1000000,~1000000,~1000000] \\; \\mathrm{A}$"
      ],
      "text/plain": [
       "<Quantity [1000000., 1000000., 1000000., 1000000.] A>"
      ]
     },
     "execution_count": 124,
     "metadata": {},
     "output_type": "execute_result"
    }
   ],
   "source": [
    "minor_radius = 0.3 * u.m\n",
    "currents = u.Quantity(n_coils * [1e6], u.A)\n",
    "currents"
   ]
  },
  {
   "cell_type": "code",
   "execution_count": 125,
   "metadata": {},
   "outputs": [],
   "source": [
    "coils = []\n",
    "for i in range(n_coils):\n",
    "    coil_angle = coil_angles[i]\n",
    "    x = radius * np.cos(coil_angle)\n",
    "    y = radius * np.sin(coil_angle)\n",
    "    normal_angle = np.pi/2 + coil_angle\n",
    "    normal = u.Quantity([np.cos(normal_angle), np.sin(normal_angle), 0])\n",
    "    center = u.Quantity([x, y, 0 * u.m])\n",
    "    coil = magnetostatics.CircularWire(normal, center, minor_radius, currents[i])\n",
    "    coils.append(coil)"
   ]
  },
  {
   "cell_type": "code",
   "execution_count": 126,
   "metadata": {},
   "outputs": [],
   "source": [
    "all_currents = coils + [plasma_wire]"
   ]
  },
  {
   "cell_type": "markdown",
   "metadata": {},
   "source": [
    "# TODO Add functions to visualize our MagnetoStatics\n",
    "\n",
    "Maybe I'm crazy but Mayavi could be a good fit!\n",
    "\n",
    "# TODO units in reprs for MagnetoStatics\n",
    "\n",
    "# TODO MagnetoStatics.magnetic_field accepts no units, just numpy arrays!\n",
    "\n",
    "# TODO mendeleev vs atomic - comparison"
   ]
  },
  {
   "cell_type": "code",
   "execution_count": 127,
   "metadata": {},
   "outputs": [
    {
     "data": {
      "text/latex": [
       "$[0,~0,~10.454286] \\; \\mathrm{T}$"
      ],
      "text/plain": [
       "<Quantity [ 0.        ,  0.        , 10.45428585] T>"
      ]
     },
     "execution_count": 127,
     "metadata": {},
     "output_type": "execute_result"
    }
   ],
   "source": [
    "plasma_wire.magnetic_field(center.value)"
   ]
  },
  {
   "cell_type": "code",
   "execution_count": 128,
   "metadata": {},
   "outputs": [
    {
     "data": {
      "application/vnd.jupyter.widget-view+json": {
       "model_id": "c1e483ac191e49a7bbc6fd2a36680226",
       "version_major": 2,
       "version_minor": 0
      },
      "text/plain": [
       "HBox(children=(FloatProgress(value=0.0, max=99999.0), HTML(value='')))"
      ]
     },
     "metadata": {},
     "output_type": "display_data"
    },
    {
     "name": "stdout",
     "output_type": "stream",
     "text": [
      "\n"
     ]
    }
   ],
   "source": [
    "from plasmapy.classes.plasma_base import GenericPlasma\n",
    "\n",
    "E_unit = u.V / u.m\n",
    "class Coils(GenericPlasma):\n",
    "    \"\"\"\n",
    "    Work-in-progress class for passing analytical functions as fields \n",
    "\n",
    "    This is primarily helpful for `plasmapy.simulation.ParticleTracker`.\n",
    "    \"\"\"\n",
    "\n",
    "    def __init__(self, *magnetostatics):\n",
    "        \"\"\"\n",
    "        Initialize plasma paramters.\n",
    "        The most basic description is composition (ion), temperature,\n",
    "        density, and ionization.\n",
    "        \"\"\"\n",
    "        self.magnetostatics = magnetostatics\n",
    "    \n",
    "    def interpolate_E(self, r: u.m):\n",
    "        return u.Quantity(np.zeros(r.shape), E_unit)\n",
    "    \n",
    "    def interpolate_B(self, r: u.m):\n",
    "        B = u.Quantity(np.zeros(r.shape), u.T)\n",
    "        for ms in self.magnetostatics:\n",
    "            field = ms.magnetic_field(r.si.value[0])\n",
    "            B[0] += field\n",
    "        return B\n",
    "        \n",
    "\n",
    "    @classmethod\n",
    "    def is_datasource_for(cls, **kwargs):\n",
    "        match = 'interpolate_B' in kwargs.keys()\n",
    "        return match\n",
    "    \n",
    "c = Coils(*all_currents)\n",
    "\n",
    "sim = simulation.ParticleTracker(c, 'e', dt=1e-8 * u.s, nt=int(1e5))\n",
    "sim._x[0][0] = 1 + minor_radius.si.value / 2 # * (u.m / u.s)\n",
    "sim._v[0][1] = 1000 # * (u.m / u.s)\n",
    "sim._v[0][2] = 100 # * (u.m / u.s)\n",
    "\n",
    "\n",
    "sim.run() # this should return a Solution object or sth"
   ]
  },
  {
   "cell_type": "code",
   "execution_count": 129,
   "metadata": {},
   "outputs": [
    {
     "name": "stdout",
     "output_type": "stream",
     "text": [
      "Notebook initialized with ipy backend.\n"
     ]
    }
   ],
   "source": [
    "import mayavi\n",
    "from mayavi import mlab\n",
    "mlab.init_notebook()"
   ]
  },
  {
   "cell_type": "code",
   "execution_count": 130,
   "metadata": {},
   "outputs": [
    {
     "data": {
      "application/vnd.jupyter.widget-view+json": {
       "model_id": "8c685201c02a48e48263fcfcab28f7c9",
       "version_major": 2,
       "version_minor": 0
      },
      "text/plain": [
       "Image(value=b'\\x89PNG\\r\\n\\x1a\\n\\x00\\x00\\x00\\rIHDR\\x00\\x00\\x01\\x90\\x00\\x00\\x01^\\x08\\x02\\x00\\x00\\x00$?\\xde_\\x00\\…"
      ]
     },
     "metadata": {},
     "output_type": "display_data"
    }
   ],
   "source": [
    "fig = mlab.figure()\n",
    "for ms in all_currents:\n",
    "    x, y, z = ms.curve(np.linspace(0, 2*np.pi))\n",
    "    mlab.plot3d(x, y, z, figure=fig)\n",
    "x, y, z = sim.position_history[:,0,:].T\n",
    "\n",
    "trajectory = mlab.plot3d(x,y,z, sim.t, figure=fig, line_width=1e-4, representation='points')\n",
    "mlab.colorbar(trajectory, title=\"Time\")\n",
    "mlab.orientation_axes(figure=fig)\n",
    "display(fig)"
   ]
  },
  {
   "cell_type": "code",
   "execution_count": 131,
   "metadata": {},
   "outputs": [
    {
     "data": {
      "application/vnd.jupyter.widget-view+json": {
       "model_id": "8ba48c17cb714a4eb2f2e12bd83cf854",
       "version_major": 2,
       "version_minor": 0
      },
      "text/plain": [
       "Image(value=b'\\x89PNG\\r\\n\\x1a\\n\\x00\\x00\\x00\\rIHDR\\x00\\x00\\x01\\x90\\x00\\x00\\x01^\\x08\\x02\\x00\\x00\\x00$?\\xde_\\x00\\…"
      ]
     },
     "metadata": {},
     "output_type": "display_data"
    }
   ],
   "source": [
    "fig2 = mlab.figure()\n",
    "x, y, z = sim.position_history[:,0,:].T\n",
    "\n",
    "trajectory = mlab.plot3d(x,y,z, sim.t, figure=fig2, line_width=1e-13, representation='points')\n",
    "mlab.colorbar(trajectory, title=\"Time\")\n",
    "mlab.orientation_axes(figure=fig2)\n",
    "display(fig2)"
   ]
  },
  {
   "cell_type": "code",
   "execution_count": 132,
   "metadata": {},
   "outputs": [
    {
     "data": {
      "application/vnd.jupyter.widget-view+json": {
       "model_id": "13ba97aba18b46d882ff0099286a786f",
       "version_major": 2,
       "version_minor": 0
      },
      "text/plain": [
       "HBox(children=(FloatProgress(value=0.0, max=50.0), HTML(value='')))"
      ]
     },
     "metadata": {},
     "output_type": "display_data"
    },
    {
     "name": "stdout",
     "output_type": "stream",
     "text": [
      "\n"
     ]
    },
    {
     "data": {
      "application/vnd.jupyter.widget-view+json": {
       "model_id": "0738b1dc073b4e6da0adb07205f903e4",
       "version_major": 2,
       "version_minor": 0
      },
      "text/plain": [
       "Image(value=b'\\x89PNG\\r\\n\\x1a\\n\\x00\\x00\\x00\\rIHDR\\x00\\x00\\x01\\x90\\x00\\x00\\x01^\\x08\\x02\\x00\\x00\\x00$?\\xde_\\x00\\…"
      ]
     },
     "metadata": {},
     "output_type": "display_data"
    }
   ],
   "source": [
    "x = np.linspace(-1.2 * (radius + minor_radius), 1.2 * (radius + minor_radius), 50)\n",
    "z = np.linspace(-1.2 * minor_radius, 1.2 * minor_radius, 50)\n",
    "X, Y, Z = np.meshgrid(x, x, z, indexing='ij')\n",
    "\n",
    "Bval = np.zeros((3, *Z.shape))\n",
    "\n",
    "from tqdm import auto as tqdm\n",
    "\n",
    "for i, xi in tqdm.tqdm(enumerate(x), total=len(x)):\n",
    "    for j, yi in enumerate(x):\n",
    "        for k, zi in enumerate(z):\n",
    "            pos = u.Quantity([xi, yi, zi]).reshape(1, 3)\n",
    "            field = c.interpolate_B(pos)\n",
    "            Bval[:, i,j,k] = field.si.value\n",
    "\n",
    "Bmag2 = np.sum(Bval**2, axis=0)\n",
    "\n",
    "fig = mlab.figure()\n",
    "for ms in all_currents:\n",
    "    x, y, z = ms.curve(np.linspace(0, 2*np.pi))\n",
    "    mlab.plot3d(x, y, z, figure=fig)\n",
    "\n",
    "contours = mlab.contour3d(X.value, Y.value, Z.value, Bmag2, figure=fig, contours = np.linspace(Bmag2.min(), Bmag2.max(), 50).tolist())\n",
    "mlab.colorbar(contours, title=\"|B|^2\")\n",
    "mlab.orientation_axes(figure=fig)\n",
    "display(fig)"
   ]
  },
  {
   "cell_type": "code",
   "execution_count": 133,
   "metadata": {},
   "outputs": [
    {
     "data": {
      "application/vnd.jupyter.widget-view+json": {
       "model_id": "bc02170a8b0940549a87d8ddbe411352",
       "version_major": 2,
       "version_minor": 0
      },
      "text/plain": [
       "Image(value=b'\\x89PNG\\r\\n\\x1a\\n\\x00\\x00\\x00\\rIHDR\\x00\\x00\\x01\\x90\\x00\\x00\\x01^\\x08\\x02\\x00\\x00\\x00$?\\xde_\\x00\\…"
      ]
     },
     "metadata": {},
     "output_type": "display_data"
    }
   ],
   "source": [
    "fig = mlab.figure()\n",
    "for ms in all_currents:\n",
    "    x, y, z = ms.curve(np.linspace(0, 2*np.pi))\n",
    "    mlab.plot3d(x, y, z, figure=fig, line_width = 1e-3)\n",
    "\n",
    "contours = mlab.contour3d(X.value, Y.value, Z.value, Bmag2, figure=fig, contours = np.linspace(Bmag2.min(), Bmag2.max(), 5).tolist())\n",
    "mlab.colorbar(contours, title=\"|B|^2\")\n",
    "mlab.orientation_axes(figure=fig)\n",
    "display(fig)"
   ]
  }
 ],
 "metadata": {
  "kernelspec": {
   "display_name": "Python 3",
   "language": "python",
   "name": "python3"
  },
  "language_info": {
   "codemirror_mode": {
    "name": "ipython",
    "version": 3
   },
   "file_extension": ".py",
   "mimetype": "text/x-python",
   "name": "python",
   "nbconvert_exporter": "python",
   "pygments_lexer": "ipython3",
   "version": "3.7.6"
  }
 },
 "nbformat": 4,
 "nbformat_minor": 4
}
