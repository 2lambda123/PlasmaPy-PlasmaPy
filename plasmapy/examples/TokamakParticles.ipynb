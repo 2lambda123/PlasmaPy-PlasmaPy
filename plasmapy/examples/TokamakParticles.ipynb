{
 "cells": [
  {
   "cell_type": "markdown",
   "metadata": {},
   "source": [
    "# Particle movement in a simple model of a tokamak"
   ]
  },
  {
   "cell_type": "code",
   "execution_count": 5,
   "metadata": {},
   "outputs": [
    {
     "name": "stdout",
     "output_type": "stream",
     "text": [
      "The autoreload extension is already loaded. To reload it, use:\n",
      "  %reload_ext autoreload\n"
     ]
    }
   ],
   "source": [
    "%load_ext autoreload\n",
    "%autoreload 2\n",
    "from plasmapy import simulation\n",
    "from plasmapy.formulary import magnetostatics\n",
    "from plasmapy.classes.sources import Coils\n",
    "import astropy.units as u\n",
    "import numpy as np\n",
    "radius = 1 * u.m\n",
    "main_current = 15 * u.MA\n",
    "plasma_wire = magnetostatics.CircularWire([0, 0, 1], u.Quantity((0, 0, 0), u.m), radius, main_current)"
   ]
  },
  {
   "cell_type": "markdown",
   "metadata": {},
   "source": [
    "Let's visualize this coil using the awesome `mayavi` library.\n",
    "\n",
    "Some pointers on installing it:"
   ]
  },
  {
   "cell_type": "code",
   "execution_count": 6,
   "metadata": {},
   "outputs": [
    {
     "name": "stdout",
     "output_type": "stream",
     "text": [
      "Notebook initialized with ipy backend.\n"
     ]
    },
    {
     "data": {
      "application/vnd.jupyter.widget-view+json": {
       "model_id": "db6c6c1012c54f35b72ae2eb18c48ba1",
       "version_major": 2,
       "version_minor": 0
      },
      "text/plain": [
       "Image(value=b'\\x89PNG\\r\\n\\x1a\\n\\x00\\x00\\x00\\rIHDR\\x00\\x00\\x01\\x90\\x00\\x00\\x01^\\x08\\x02\\x00\\x00\\x00$?\\xde_\\x00\\…"
      ]
     },
     "metadata": {},
     "output_type": "display_data"
    }
   ],
   "source": [
    "from mayavi import mlab\n",
    "mlab.init_notebook()\n",
    "plasma_wire.visualize()"
   ]
  },
  {
   "cell_type": "markdown",
   "metadata": {},
   "source": [
    "That's supposed to model just the plasma; let's add a few coils:"
   ]
  },
  {
   "cell_type": "code",
   "execution_count": 7,
   "metadata": {},
   "outputs": [
    {
     "data": {
      "application/vnd.jupyter.widget-view+json": {
       "model_id": "9144b705a4334042a3ae4b22e46114c3",
       "version_major": 2,
       "version_minor": 0
      },
      "text/plain": [
       "Image(value=b'\\x89PNG\\r\\n\\x1a\\n\\x00\\x00\\x00\\rIHDR\\x00\\x00\\x01\\x90\\x00\\x00\\x01^\\x08\\x02\\x00\\x00\\x00$?\\xde_\\x00\\…"
      ]
     },
     "metadata": {},
     "output_type": "display_data"
    }
   ],
   "source": [
    "n_coils = 8\n",
    "currents = u.Quantity(n_coils * [10], u.MA)\n",
    "\n",
    "coil_angles = np.linspace(0, 2*np.pi, n_coils, endpoint=False)\n",
    "coil_angles\n",
    "minor_radius = 0.3 * u.m\n",
    "\n",
    "coils = []\n",
    "for i in range(n_coils):\n",
    "    coil_angle = coil_angles[i]\n",
    "    x = radius * np.cos(coil_angle)\n",
    "    y = radius * np.sin(coil_angle)\n",
    "    normal_angle = np.pi/2 + coil_angle\n",
    "    normal = u.Quantity([np.cos(normal_angle), np.sin(normal_angle), 0])\n",
    "    center = u.Quantity([x, y, 0 * u.m])\n",
    "    coil = magnetostatics.CircularWire(normal, center, minor_radius, currents[i])\n",
    "    coils.append(coil)\n",
    "all_currents = coils + [plasma_wire]\n",
    "c = Coils(*all_currents)\n",
    "c.visualize()"
   ]
  },
  {
   "cell_type": "code",
   "execution_count": 8,
   "metadata": {},
   "outputs": [],
   "source": [
    "# from plasmapy import formulary\n",
    "\n",
    "# r = np.array([[0, 0, 1.1]], dtype=float)\n",
    "# optimizable = lambda r: 1/20/formulary.gyrofrequency(np.linalg.norm(c._interpolate_B(r)), 'e-', to_hz = True)\n",
    "# from scipy import optimize\n",
    "\n",
    "# optimize.minimize(optimizable, r).fun"
   ]
  },
  {
   "cell_type": "code",
   "execution_count": 9,
   "metadata": {},
   "outputs": [
    {
     "data": {
      "application/vnd.jupyter.widget-view+json": {
       "model_id": "0b286d2de2654e46abc9dc1df92e9a17",
       "version_major": 2,
       "version_minor": 0
      },
      "text/plain": [
       "HBox(children=(FloatProgress(value=0.0, max=9999.0), HTML(value='')))"
      ]
     },
     "metadata": {},
     "output_type": "display_data"
    },
    {
     "name": "stdout",
     "output_type": "stream",
     "text": [
      "\n"
     ]
    },
    {
     "data": {
      "text/plain": [
       "array([[ 6.81784598e-02,  5.64767074e+03, -8.25310943e+03],\n",
       "       [ 2.89166961e+01,  9.99995684e+03,  1.00135164e+02],\n",
       "       [ 4.90531750e+01,  5.64805841e+03, -8.25269835e+03],\n",
       "       ...,\n",
       "       [ 4.25646929e+03,  6.31846897e+03,  6.47838090e+03],\n",
       "       [-4.00903407e+03, -4.49203985e+03, -7.98493731e+03],\n",
       "       [ 4.26229989e+03,  6.32981606e+03,  6.46345328e+03]])"
      ]
     },
     "execution_count": 9,
     "metadata": {},
     "output_type": "execute_result"
    }
   ],
   "source": [
    "x = u.Quantity([[1 + minor_radius.si.value / 2, 0, 0]],  u.m)\n",
    "v = u.Quantity([[0, 10000, 100]], u.m / u.s)\n",
    "\n",
    "sim = simulation.ParticleTracker(c, x, v, 'e',)\n",
    "solution = sim.run(1e-7 * u.s, 1e4)\n",
    "solution._velocity_history[:,0,:]"
   ]
  },
  {
   "cell_type": "code",
   "execution_count": 10,
   "metadata": {},
   "outputs": [
    {
     "data": {
      "application/vnd.jupyter.widget-view+json": {
       "model_id": "5f676e6ca3fa44ce8e1c349079ffbc50",
       "version_major": 2,
       "version_minor": 0
      },
      "text/plain": [
       "Image(value=b'\\x89PNG\\r\\n\\x1a\\n\\x00\\x00\\x00\\rIHDR\\x00\\x00\\x03 \\x00\\x00\\x02X\\x08\\x02\\x00\\x00\\x00\\x15\\x14\\x15\\'\\…"
      ]
     },
     "metadata": {},
     "output_type": "display_data"
    }
   ],
   "source": [
    "fig = mlab.figure(size=(800, 600))\n",
    "c.visualize(fig)\n",
    "solution.visualize(fig)\n",
    "mlab.orientation_axes(figure=fig)\n",
    "fig"
   ]
  },
  {
   "cell_type": "code",
   "execution_count": 11,
   "metadata": {},
   "outputs": [
    {
     "name": "stderr",
     "output_type": "stream",
     "text": [
      "WARNING: IERSStaleWarning: leap-second file is expired. [astropy.utils.iers.iers]\n"
     ]
    },
    {
     "data": {
      "image/png": "[encoded data removed]",
      "text/plain": [
       "<Figure size 432x288 with 1 Axes>"
      ]
     },
     "metadata": {
      "needs_background": "light"
     },
     "output_type": "display_data"
    }
   ],
   "source": [
    "solution.plot_time_trajectories()"
   ]
  },
  {
   "cell_type": "code",
   "execution_count": null,
   "metadata": {},
   "outputs": [
    {
     "data": {
      "application/vnd.jupyter.widget-view+json": {
       "model_id": "da3a874e9bcc42b39bc35c64c2cba79b",
       "version_major": 2,
       "version_minor": 0
      },
      "text/plain": [
       "HBox(children=(FloatProgress(value=0.0, max=99999.0), HTML(value='')))"
      ]
     },
     "metadata": {},
     "output_type": "display_data"
    }
   ],
   "source": [
    "solution2 = sim.run(1e-8 * u.s, int(1e5))\n",
    "\n",
    "fig = mlab.figure(size=(800, 600))\n",
    "c.visualize(fig)\n",
    "solution2.visualize(fig)\n",
    "mlab.orientation_axes(figure=fig)\n",
    "fig"
   ]
  },
  {
   "cell_type": "code",
   "execution_count": null,
   "metadata": {},
   "outputs": [],
   "source": [
    "x = u.Quantity([[1 + minor_radius.si.value / 2, 0, 0]],  u.m)\n",
    "v = u.Quantity([[10000, 10000, 1000000]], u.m / u.s)\n",
    "\n",
    "banana_sim = simulation.ParticleTracker(c, x, v, 'e',)\n",
    "banana_solution = banana_sim.run(1e-8 * u.s, 1e4)\n",
    "banana_solution.plot_time_trajectories()\n",
    "fig = mlab.figure(size=(800, 600))\n",
    "c.visualize(fig)\n",
    "banana_solution.visualize(fig)\n",
    "mlab.orientation_axes(figure=fig)\n",
    "fig"
   ]
  },
  {
   "cell_type": "code",
   "execution_count": null,
   "metadata": {},
   "outputs": [],
   "source": [
    "dir(mlab)"
   ]
  },
  {
   "cell_type": "code",
   "execution_count": null,
   "metadata": {},
   "outputs": [],
   "source": [
    "solution2 = sim.run(1e-7 * u.s, int(3e4))\n",
    "\n",
    "fig = mlab.figure(size=(800, 600))\n",
    "c.visualize(fig)\n",
    "solution2.visualize(fig)\n",
    "mlab.orientation_axes(figure=fig)\n",
    "fig"
   ]
  },
  {
   "cell_type": "code",
   "execution_count": null,
   "metadata": {},
   "outputs": [],
   "source": [
    "solution2_unstable = sim.run(1e-5 * u.s, int(3e2))\n",
    "\n",
    "fig = mlab.figure()\n",
    "c.visualize(fig)\n",
    "solution2_unstable.visualize(fig)\n",
    "mlab.orientation_axes(figure=fig)\n",
    "fig"
   ]
  },
  {
   "cell_type": "code",
   "execution_count": null,
   "metadata": {},
   "outputs": [],
   "source": [
    "x2 = u.Quantity([[1 + minor_radius.si.value / 2, 0, 0]],  u.m)\n",
    "v2 = u.Quantity([[0, 10000, 0]], u.m / u.s)\n",
    "\n",
    "sim2 = simulation.ParticleTracker(c, x2, v2, 'e', )\n",
    "solution3 = sim.run(1e-8 * u.s, int(3e5))\n",
    "\n",
    "fig2 = mlab.figure()\n",
    "c.visualize(fig2)\n",
    "solution3.visualize(fig2)\n",
    "mlab.orientation_axes(figure=fig2)\n",
    "display(fig2)"
   ]
  },
  {
   "cell_type": "code",
   "execution_count": null,
   "metadata": {},
   "outputs": [],
   "source": [
    "solution3.plot_time_trajectories('xy') # TODO fix labels - they're showing up as units!"
   ]
  },
  {
   "cell_type": "code",
   "execution_count": null,
   "metadata": {},
   "outputs": [],
   "source": [
    "factor = 1.7\n",
    "x = np.linspace(-factor * (radius + minor_radius), factor * (radius + minor_radius), 100)\n",
    "z = np.linspace(-2*factor * minor_radius, 2*factor * minor_radius, 100)\n",
    "X, Y, Z = np.meshgrid(x, x, z, indexing='ij')\n",
    "\n",
    "Bval = np.zeros((3, *Z.shape))\n",
    "\n",
    "from tqdm import auto as tqdm\n",
    "\n",
    "for i, xi in tqdm.tqdm(enumerate(x.si.value), total=len(x)):\n",
    "    for j, yi in enumerate(x.si.value):\n",
    "        for k, zi in enumerate(z.si.value):\n",
    "            pos = np.array([[xi, yi, zi]])\n",
    "            field = c._interpolate_B(pos)\n",
    "            Bval[:, i,j,k] = field\n",
    "\n",
    "Bmag2 = np.sum(Bval**2, axis=0)\n",
    "\n",
    "\n",
    "# In[70]:\n",
    "\n",
    "\n",
    "fig = mlab.figure(size=(800, 600))\n",
    "c.visualize(fig)\n",
    "\n",
    "contours = mlab.contour3d(X.value, Y.value, Z.value, np.log10(Bmag2), figure=fig,\n",
    "#                           contours = np.linspace(Bmag2.min(), Bmag2.max(), 50).tolist(),\n",
    "#                           contours = np.logspace(np.log10(Bmag2.min()),\n",
    "#                                                  np.log10(Bmag2.max()),\n",
    "#                                                  num=10,\n",
    "#                                                 ).tolist(),\n",
    "                          contours = 15,\n",
    "                          opacity = 0.3,\n",
    "                         )\n",
    "mlab.colorbar(contours, title=\"log10 |B|^2\")\n",
    "mlab.orientation_axes(figure=fig)\n",
    "solution3.visualize(fig2)\n",
    "display(fig)"
   ]
  },
  {
   "cell_type": "markdown",
   "metadata": {},
   "source": [
    "# TODO units in reprs for MagnetoStatics\n",
    "\n",
    "# TODO MagnetoStatics.magnetic_field accepts no units, just numpy arrays!\n",
    "\n",
    "# TODO mendeleev vs atomic - comparison\n",
    "\n",
    "# TODO Automatically generate unit-less wrappers for Astropy units"
   ]
  }
 ],
 "metadata": {
  "kernelspec": {
   "display_name": "Python 3",
   "language": "python",
   "name": "python3"
  },
  "language_info": {
   "codemirror_mode": {
    "name": "ipython",
    "version": 3
   },
   "file_extension": ".py",
   "mimetype": "text/x-python",
   "name": "python",
   "nbconvert_exporter": "python",
   "pygments_lexer": "ipython3",
   "version": "3.7.6"
  }
 },
 "nbformat": 4,
 "nbformat_minor": 4
}
