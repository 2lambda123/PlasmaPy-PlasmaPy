{
 "cells": [
  {
   "cell_type": "markdown",
   "metadata": {},
   "source": [
    "# Particle movement in a simple model of a tokamak"
   ]
  },
  {
   "cell_type": "code",
   "execution_count": 1,
   "metadata": {},
   "outputs": [],
   "source": [
    "from plasmapy import simulation\n",
    "from plasmapy.formulary import magnetostatics\n",
    "from plasmapy.classes.sources import Coils\n",
    "import astropy.units as u\n",
    "import numpy as np\n",
    "radius = 1 * u.m\n",
    "main_current = 15 * u.MA\n",
    "plasma_wire = magnetostatics.CircularWire([0, 0, 1], u.Quantity((0, 0, 0), u.m), radius, main_current)"
   ]
  },
  {
   "cell_type": "markdown",
   "metadata": {},
   "source": [
    "Let's visualize this coil using the awesome `mayavi` library.\n",
    "\n",
    "Some pointers on installing it: TODO"
   ]
  },
  {
   "cell_type": "code",
   "execution_count": 2,
   "metadata": {},
   "outputs": [
    {
     "name": "stdout",
     "output_type": "stream",
     "text": [
      "Notebook initialized with ipy backend.\n"
     ]
    },
    {
     "data": {
      "application/vnd.jupyter.widget-view+json": {
       "model_id": "1da82a4d02e64a0cb4a4f641445b2f39",
       "version_major": 2,
       "version_minor": 0
      },
      "text/plain": [
       "Image(value=b'\\x89PNG\\r\\n\\x1a\\n\\x00\\x00\\x00\\rIHDR\\x00\\x00\\x01\\x90\\x00\\x00\\x01^\\x08\\x02\\x00\\x00\\x00$?\\xde_\\x00\\…"
      ]
     },
     "metadata": {},
     "output_type": "display_data"
    }
   ],
   "source": [
    "from mayavi import mlab\n",
    "mlab.init_notebook()\n",
    "plasma_wire.visualize()"
   ]
  },
  {
   "cell_type": "markdown",
   "metadata": {},
   "source": [
    "That's supposed to model just the plasma; let's add a few coils:"
   ]
  },
  {
   "cell_type": "code",
   "execution_count": 3,
   "metadata": {},
   "outputs": [
    {
     "data": {
      "application/vnd.jupyter.widget-view+json": {
       "model_id": "5e48b472dbaa489f8310d3a266726d30",
       "version_major": 2,
       "version_minor": 0
      },
      "text/plain": [
       "Image(value=b'\\x89PNG\\r\\n\\x1a\\n\\x00\\x00\\x00\\rIHDR\\x00\\x00\\x01\\x90\\x00\\x00\\x01^\\x08\\x02\\x00\\x00\\x00$?\\xde_\\x00\\…"
      ]
     },
     "metadata": {},
     "output_type": "display_data"
    }
   ],
   "source": [
    "n_coils = 8\n",
    "currents = u.Quantity(n_coils * [10], u.MA)\n",
    "\n",
    "coil_angles = np.linspace(0, 2*np.pi, n_coils, endpoint=False)\n",
    "coil_angles\n",
    "minor_radius = 0.3 * u.m\n",
    "\n",
    "coils = []\n",
    "for i in range(n_coils):\n",
    "    coil_angle = coil_angles[i]\n",
    "    x = radius * np.cos(coil_angle)\n",
    "    y = radius * np.sin(coil_angle)\n",
    "    normal_angle = np.pi/2 + coil_angle\n",
    "    normal = u.Quantity([np.cos(normal_angle), np.sin(normal_angle), 0])\n",
    "    center = u.Quantity([x, y, 0 * u.m])\n",
    "    coil = magnetostatics.CircularWire(normal, center, minor_radius, currents[i])\n",
    "    coils.append(coil)\n",
    "all_currents = coils + [plasma_wire]\n",
    "c = Coils(*all_currents)\n",
    "c.visualize()"
   ]
  },
  {
   "cell_type": "code",
   "execution_count": 4,
   "metadata": {},
   "outputs": [
    {
     "data": {
      "application/vnd.jupyter.widget-view+json": {
       "model_id": "8f87338d0f9d4ae9877c0295ceac0a09",
       "version_major": 2,
       "version_minor": 0
      },
      "text/plain": [
       "HBox(children=(FloatProgress(value=0.0, max=9999.0), HTML(value='')))"
      ]
     },
     "metadata": {},
     "output_type": "display_data"
    },
    {
     "name": "stdout",
     "output_type": "stream",
     "text": [
      "\n"
     ]
    },
    {
     "data": {
      "text/plain": [
       "array([[ 6.81784598e-02,  5.64767074e+03, -8.25310943e+03],\n",
       "       [ 2.89166961e+01,  9.99995684e+03,  1.00135164e+02],\n",
       "       [ 4.90531750e+01,  5.64805841e+03, -8.25269835e+03],\n",
       "       ...,\n",
       "       [ 4.25646929e+03,  6.31846897e+03,  6.47838090e+03],\n",
       "       [-4.00903407e+03, -4.49203985e+03, -7.98493731e+03],\n",
       "       [ 4.26229989e+03,  6.32981606e+03,  6.46345328e+03]])"
      ]
     },
     "execution_count": 4,
     "metadata": {},
     "output_type": "execute_result"
    }
   ],
   "source": [
    "x = u.Quantity([[1 + minor_radius.si.value / 2, 0, 0]],  u.m)\n",
    "v = u.Quantity([[0, 10000, 100]], u.m / u.s)\n",
    "\n",
    "sim = simulation.ParticleTracker(c, x, v, 'e',)\n",
    "solution = sim.run(1e-7 * u.s, 1e4)\n",
    "solution._velocity_history[:,0,:]"
   ]
  },
  {
   "cell_type": "code",
   "execution_count": 10,
   "metadata": {},
   "outputs": [
    {
     "data": {
      "application/vnd.jupyter.widget-view+json": {
       "model_id": "5f676e6ca3fa44ce8e1c349079ffbc50",
       "version_major": 2,
       "version_minor": 0
      },
      "text/plain": [
       "Image(value=b'\\x89PNG\\r\\n\\x1a\\n\\x00\\x00\\x00\\rIHDR\\x00\\x00\\x03 \\x00\\x00\\x02X\\x08\\x02\\x00\\x00\\x00\\x15\\x14\\x15\\'\\…"
      ]
     },
     "metadata": {},
     "output_type": "display_data"
    }
   ],
   "source": [
    "fig = mlab.figure(size=(800, 600))\n",
    "c.visualize(fig)\n",
    "solution.visualize(fig)\n",
    "mlab.orientation_axes(figure=fig)\n",
    "fig"
   ]
  },
  {
   "cell_type": "code",
   "execution_count": 11,
   "metadata": {},
   "outputs": [
    {
     "name": "stderr",
     "output_type": "stream",
     "text": [
      "WARNING: IERSStaleWarning: leap-second file is expired. [astropy.utils.iers.iers]\n"
     ]
    },
    {
     "data": {
      "image/png": "[encoded data removed]",
      "text/plain": [
       "<Figure size 432x288 with 1 Axes>"
      ]
     },
     "metadata": {
      "needs_background": "light"
     },
     "output_type": "display_data"
    }
   ],
   "source": [
    "solution.plot_time_trajectories()"
   ]
  },
  {
   "cell_type": "code",
   "execution_count": 12,
   "metadata": {},
   "outputs": [
    {
     "data": {
      "application/vnd.jupyter.widget-view+json": {
       "model_id": "da3a874e9bcc42b39bc35c64c2cba79b",
       "version_major": 2,
       "version_minor": 0
      },
      "text/plain": [
       "HBox(children=(FloatProgress(value=0.0, max=99999.0), HTML(value='')))"
      ]
     },
     "metadata": {},
     "output_type": "display_data"
    },
    {
     "name": "stdout",
     "output_type": "stream",
     "text": [
      "\n"
     ]
    },
    {
     "data": {
      "application/vnd.jupyter.widget-view+json": {
       "model_id": "17c70021a1f346f7a33b5b8b05a59f1c",
       "version_major": 2,
       "version_minor": 0
      },
      "text/plain": [
       "Image(value=b'\\x89PNG\\r\\n\\x1a\\n\\x00\\x00\\x00\\rIHDR\\x00\\x00\\x03 \\x00\\x00\\x02X\\x08\\x02\\x00\\x00\\x00\\x15\\x14\\x15\\'\\…"
      ]
     },
     "metadata": {},
     "output_type": "display_data"
    }
   ],
   "source": [
    "solution2 = sim.run(1e-8 * u.s, int(1e5))\n",
    "\n",
    "fig = mlab.figure(size=(800, 600))\n",
    "c.visualize(fig)\n",
    "solution2.visualize(fig)\n",
    "mlab.orientation_axes(figure=fig)\n",
    "fig"
   ]
  },
  {
   "cell_type": "code",
   "execution_count": 13,
   "metadata": {},
   "outputs": [
    {
     "data": {
      "application/vnd.jupyter.widget-view+json": {
       "model_id": "98b83eb99469461fa82a81e430f9ed07",
       "version_major": 2,
       "version_minor": 0
      },
      "text/plain": [
       "HBox(children=(FloatProgress(value=0.0, max=9999.0), HTML(value='')))"
      ]
     },
     "metadata": {},
     "output_type": "display_data"
    },
    {
     "name": "stdout",
     "output_type": "stream",
     "text": [
      "\n"
     ]
    },
    {
     "data": {
      "image/png": "[encoded data removed]",
      "text/plain": [
       "<Figure size 432x288 with 1 Axes>"
      ]
     },
     "metadata": {
      "needs_background": "light"
     },
     "output_type": "display_data"
    },
    {
     "data": {
      "application/vnd.jupyter.widget-view+json": {
       "model_id": "0f87d6c296c44d47a66aa127de74da24",
       "version_major": 2,
       "version_minor": 0
      },
      "text/plain": [
       "Image(value=b'\\x89PNG\\r\\n\\x1a\\n\\x00\\x00\\x00\\rIHDR\\x00\\x00\\x03 \\x00\\x00\\x02X\\x08\\x02\\x00\\x00\\x00\\x15\\x14\\x15\\'\\…"
      ]
     },
     "metadata": {},
     "output_type": "display_data"
    }
   ],
   "source": [
    "x = u.Quantity([[1 + minor_radius.si.value / 2, 0, 0]],  u.m)\n",
    "v = u.Quantity([[10000, 10000, 1000000]], u.m / u.s)\n",
    "\n",
    "banana_sim = simulation.ParticleTracker(c, x, v, 'e',)\n",
    "banana_solution = banana_sim.run(1e-8 * u.s, 1e4)\n",
    "banana_solution.plot_time_trajectories()\n",
    "fig = mlab.figure(size=(800, 600))\n",
    "c.visualize(fig)\n",
    "banana_solution.visualize(fig)\n",
    "mlab.orientation_axes(figure=fig)\n",
    "fig"
   ]
  },
  {
   "cell_type": "code",
   "execution_count": 14,
   "metadata": {},
   "outputs": [
    {
     "data": {
      "text/plain": [
       "['__builtins__',\n",
       " '__cached__',\n",
       " '__doc__',\n",
       " '__file__',\n",
       " '__loader__',\n",
       " '__name__',\n",
       " '__package__',\n",
       " '__spec__',\n",
       " 'animate',\n",
       " 'axes',\n",
       " 'barchart',\n",
       " 'clf',\n",
       " 'close',\n",
       " 'colorbar',\n",
       " 'contour3d',\n",
       " 'contour_surf',\n",
       " 'draw',\n",
       " 'figure',\n",
       " 'flow',\n",
       " 'gcf',\n",
       " 'get_engine',\n",
       " 'imshow',\n",
       " 'init_notebook',\n",
       " 'mesh',\n",
       " 'move',\n",
       " 'options',\n",
       " 'orientation_axes',\n",
       " 'outline',\n",
       " 'pipeline',\n",
       " 'pitch',\n",
       " 'plot3d',\n",
       " 'points3d',\n",
       " 'process_ui_events',\n",
       " 'quiver3d',\n",
       " 'roll',\n",
       " 'savefig',\n",
       " 'scalarbar',\n",
       " 'screenshot',\n",
       " 'set_engine',\n",
       " 'show',\n",
       " 'show_engine',\n",
       " 'show_pipeline',\n",
       " 'start_recording',\n",
       " 'stop_recording',\n",
       " 'surf',\n",
       " 'sync_camera',\n",
       " 'test_barchart',\n",
       " 'test_contour3d',\n",
       " 'test_contour3d_anim',\n",
       " 'test_contour_surf',\n",
       " 'test_fancy_mesh',\n",
       " 'test_flow',\n",
       " 'test_flow_anim',\n",
       " 'test_imshow',\n",
       " 'test_mesh',\n",
       " 'test_mesh_mask_custom_colors',\n",
       " 'test_mesh_sphere',\n",
       " 'test_mesh_sphere_anim',\n",
       " 'test_molecule',\n",
       " 'test_plot3d',\n",
       " 'test_plot3d_anim',\n",
       " 'test_points3d',\n",
       " 'test_points3d_anim',\n",
       " 'test_quiver3d',\n",
       " 'test_quiver3d_2d_data',\n",
       " 'test_simple_surf',\n",
       " 'test_simple_surf_anim',\n",
       " 'test_surf',\n",
       " 'test_triangular_mesh',\n",
       " 'test_volume_slice',\n",
       " 'test_volume_slice_anim',\n",
       " 'text',\n",
       " 'text3d',\n",
       " 'title',\n",
       " 'triangular_mesh',\n",
       " 'vectorbar',\n",
       " 'view',\n",
       " 'volume_slice',\n",
       " 'xlabel',\n",
       " 'yaw',\n",
       " 'ylabel',\n",
       " 'zlabel']"
      ]
     },
     "execution_count": 14,
     "metadata": {},
     "output_type": "execute_result"
    }
   ],
   "source": [
    "dir(mlab)"
   ]
  },
  {
   "cell_type": "code",
   "execution_count": 15,
   "metadata": {},
   "outputs": [
    {
     "data": {
      "application/vnd.jupyter.widget-view+json": {
       "model_id": "c3cfcf1fe47145178a7bae48bc9b6e1e",
       "version_major": 2,
       "version_minor": 0
      },
      "text/plain": [
       "HBox(children=(FloatProgress(value=0.0, max=29999.0), HTML(value='')))"
      ]
     },
     "metadata": {},
     "output_type": "display_data"
    },
    {
     "name": "stdout",
     "output_type": "stream",
     "text": [
      "\n"
     ]
    },
    {
     "data": {
      "application/vnd.jupyter.widget-view+json": {
       "model_id": "173cc8272ce246e99c37aff8fc6b8c6e",
       "version_major": 2,
       "version_minor": 0
      },
      "text/plain": [
       "Image(value=b'\\x89PNG\\r\\n\\x1a\\n\\x00\\x00\\x00\\rIHDR\\x00\\x00\\x03 \\x00\\x00\\x02X\\x08\\x02\\x00\\x00\\x00\\x15\\x14\\x15\\'\\…"
      ]
     },
     "metadata": {},
     "output_type": "display_data"
    }
   ],
   "source": [
    "solution2 = sim.run(1e-7 * u.s, int(3e4))\n",
    "\n",
    "fig = mlab.figure(size=(800, 600))\n",
    "c.visualize(fig)\n",
    "solution2.visualize(fig)\n",
    "mlab.orientation_axes(figure=fig)\n",
    "fig"
   ]
  },
  {
   "cell_type": "code",
   "execution_count": 16,
   "metadata": {},
   "outputs": [
    {
     "data": {
      "application/vnd.jupyter.widget-view+json": {
       "model_id": "dc91775550484a50877b53e1e9ebf655",
       "version_major": 2,
       "version_minor": 0
      },
      "text/plain": [
       "HBox(children=(FloatProgress(value=0.0, max=299.0), HTML(value='')))"
      ]
     },
     "metadata": {},
     "output_type": "display_data"
    },
    {
     "name": "stdout",
     "output_type": "stream",
     "text": [
      "\n"
     ]
    },
    {
     "data": {
      "application/vnd.jupyter.widget-view+json": {
       "model_id": "aebf056463264765ae1051cd6dc61239",
       "version_major": 2,
       "version_minor": 0
      },
      "text/plain": [
       "Image(value=b'\\x89PNG\\r\\n\\x1a\\n\\x00\\x00\\x00\\rIHDR\\x00\\x00\\x01\\x90\\x00\\x00\\x01^\\x08\\x02\\x00\\x00\\x00$?\\xde_\\x00\\…"
      ]
     },
     "metadata": {},
     "output_type": "display_data"
    }
   ],
   "source": [
    "solution2_unstable = sim.run(1e-5 * u.s, int(3e2))\n",
    "\n",
    "fig = mlab.figure()\n",
    "c.visualize(fig)\n",
    "solution2_unstable.visualize(fig)\n",
    "mlab.orientation_axes(figure=fig)\n",
    "fig"
   ]
  },
  {
   "cell_type": "code",
   "execution_count": 17,
   "metadata": {},
   "outputs": [
    {
     "data": {
      "application/vnd.jupyter.widget-view+json": {
       "model_id": "423904304bdc4eaabcadcf09bbb5d8bd",
       "version_major": 2,
       "version_minor": 0
      },
      "text/plain": [
       "HBox(children=(FloatProgress(value=0.0, max=299999.0), HTML(value='')))"
      ]
     },
     "metadata": {},
     "output_type": "display_data"
    },
    {
     "name": "stdout",
     "output_type": "stream",
     "text": [
      "\n"
     ]
    },
    {
     "data": {
      "application/vnd.jupyter.widget-view+json": {
       "model_id": "dad1650b691446239c1f7be5baa871b6",
       "version_major": 2,
       "version_minor": 0
      },
      "text/plain": [
       "Image(value=b'\\x89PNG\\r\\n\\x1a\\n\\x00\\x00\\x00\\rIHDR\\x00\\x00\\x01\\x90\\x00\\x00\\x01^\\x08\\x02\\x00\\x00\\x00$?\\xde_\\x00\\…"
      ]
     },
     "metadata": {},
     "output_type": "display_data"
    }
   ],
   "source": [
    "x2 = u.Quantity([[1 + minor_radius.si.value / 2, 0, 0]],  u.m)\n",
    "v2 = u.Quantity([[0, 10000, 0]], u.m / u.s)\n",
    "\n",
    "sim2 = simulation.ParticleTracker(c, x2, v2, 'e', )\n",
    "solution3 = sim.run(1e-8 * u.s, int(3e5))\n",
    "\n",
    "fig2 = mlab.figure()\n",
    "c.visualize(fig2)\n",
    "solution3.visualize(fig2)\n",
    "mlab.orientation_axes(figure=fig2)\n",
    "display(fig2)"
   ]
  },
  {
   "cell_type": "code",
   "execution_count": 18,
   "metadata": {},
   "outputs": [
    {
     "data": {
      "image/png": "[encoded data removed]",
      "text/plain": [
       "<Figure size 432x288 with 1 Axes>"
      ]
     },
     "metadata": {
      "needs_background": "light"
     },
     "output_type": "display_data"
    }
   ],
   "source": [
    "solution3.plot_time_trajectories('xy') # TODO fix labels - they're showing up as units!"
   ]
  },
  {
   "cell_type": "code",
   "execution_count": 19,
   "metadata": {},
   "outputs": [
    {
     "data": {
      "application/vnd.jupyter.widget-view+json": {
       "model_id": "94d8cb34deae4913905dad96326d57fe",
       "version_major": 2,
       "version_minor": 0
      },
      "text/plain": [
       "HBox(children=(FloatProgress(value=0.0), HTML(value='')))"
      ]
     },
     "metadata": {},
     "output_type": "display_data"
    },
    {
     "ename": "KeyboardInterrupt",
     "evalue": "",
     "output_type": "error",
     "traceback": [
      "\u001b[0;31m---------------------------------------------------------------------------\u001b[0m",
      "\u001b[0;31mKeyboardInterrupt\u001b[0m                         Traceback (most recent call last)",
      "\u001b[0;32m<ipython-input-19-cd73980e4ad8>\u001b[0m in \u001b[0;36m<module>\u001b[0;34m\u001b[0m\n\u001b[1;32m     12\u001b[0m         \u001b[0;32mfor\u001b[0m \u001b[0mk\u001b[0m\u001b[0;34m,\u001b[0m \u001b[0mzi\u001b[0m \u001b[0;32min\u001b[0m \u001b[0menumerate\u001b[0m\u001b[0;34m(\u001b[0m\u001b[0mz\u001b[0m\u001b[0;34m.\u001b[0m\u001b[0msi\u001b[0m\u001b[0;34m.\u001b[0m\u001b[0mvalue\u001b[0m\u001b[0;34m)\u001b[0m\u001b[0;34m:\u001b[0m\u001b[0;34m\u001b[0m\u001b[0;34m\u001b[0m\u001b[0m\n\u001b[1;32m     13\u001b[0m             \u001b[0mpos\u001b[0m \u001b[0;34m=\u001b[0m \u001b[0mnp\u001b[0m\u001b[0;34m.\u001b[0m\u001b[0marray\u001b[0m\u001b[0;34m(\u001b[0m\u001b[0;34m[\u001b[0m\u001b[0;34m[\u001b[0m\u001b[0mxi\u001b[0m\u001b[0;34m,\u001b[0m \u001b[0myi\u001b[0m\u001b[0;34m,\u001b[0m \u001b[0mzi\u001b[0m\u001b[0;34m]\u001b[0m\u001b[0;34m]\u001b[0m\u001b[0;34m)\u001b[0m\u001b[0;34m\u001b[0m\u001b[0;34m\u001b[0m\u001b[0m\n\u001b[0;32m---> 14\u001b[0;31m             \u001b[0mfield\u001b[0m \u001b[0;34m=\u001b[0m \u001b[0mc\u001b[0m\u001b[0;34m.\u001b[0m\u001b[0m_interpolate_B\u001b[0m\u001b[0;34m(\u001b[0m\u001b[0mpos\u001b[0m\u001b[0;34m)\u001b[0m\u001b[0;34m\u001b[0m\u001b[0;34m\u001b[0m\u001b[0m\n\u001b[0m\u001b[1;32m     15\u001b[0m             \u001b[0mBval\u001b[0m\u001b[0;34m[\u001b[0m\u001b[0;34m:\u001b[0m\u001b[0;34m,\u001b[0m \u001b[0mi\u001b[0m\u001b[0;34m,\u001b[0m\u001b[0mj\u001b[0m\u001b[0;34m,\u001b[0m\u001b[0mk\u001b[0m\u001b[0;34m]\u001b[0m \u001b[0;34m=\u001b[0m \u001b[0mfield\u001b[0m\u001b[0;34m\u001b[0m\u001b[0;34m\u001b[0m\u001b[0m\n\u001b[1;32m     16\u001b[0m \u001b[0;34m\u001b[0m\u001b[0m\n",
      "\u001b[0;32m~/Code/PlasmaPy/plasmapy/classes/sources/coils.py\u001b[0m in \u001b[0;36m_interpolate_B\u001b[0;34m(self, r)\u001b[0m\n\u001b[1;32m     20\u001b[0m         \u001b[0mB\u001b[0m \u001b[0;34m=\u001b[0m \u001b[0mnp\u001b[0m\u001b[0;34m.\u001b[0m\u001b[0mzeros\u001b[0m\u001b[0;34m(\u001b[0m\u001b[0mr\u001b[0m\u001b[0;34m.\u001b[0m\u001b[0mshape\u001b[0m\u001b[0;34m)\u001b[0m\u001b[0;34m\u001b[0m\u001b[0;34m\u001b[0m\u001b[0m\n\u001b[1;32m     21\u001b[0m         \u001b[0;32mfor\u001b[0m \u001b[0mms\u001b[0m \u001b[0;32min\u001b[0m \u001b[0mself\u001b[0m\u001b[0;34m.\u001b[0m\u001b[0mmagnetostatics\u001b[0m\u001b[0;34m:\u001b[0m\u001b[0;34m\u001b[0m\u001b[0;34m\u001b[0m\u001b[0m\n\u001b[0;32m---> 22\u001b[0;31m             \u001b[0mfield\u001b[0m \u001b[0;34m=\u001b[0m \u001b[0mms\u001b[0m\u001b[0;34m.\u001b[0m\u001b[0m_magnetic_field\u001b[0m\u001b[0;34m(\u001b[0m\u001b[0mr\u001b[0m\u001b[0;34m,\u001b[0m \u001b[0mms\u001b[0m\u001b[0;34m.\u001b[0m\u001b[0mpt\u001b[0m\u001b[0;34m,\u001b[0m \u001b[0mms\u001b[0m\u001b[0;34m.\u001b[0m\u001b[0mdl\u001b[0m\u001b[0;34m,\u001b[0m \u001b[0mms\u001b[0m\u001b[0;34m.\u001b[0m\u001b[0mcurrent\u001b[0m\u001b[0;34m,\u001b[0m \u001b[0mms\u001b[0m\u001b[0;34m.\u001b[0m\u001b[0mw\u001b[0m\u001b[0;34m)\u001b[0m\u001b[0;34m\u001b[0m\u001b[0;34m\u001b[0m\u001b[0m\n\u001b[0m\u001b[1;32m     23\u001b[0m             \u001b[0mB\u001b[0m \u001b[0;34m+=\u001b[0m \u001b[0mfield\u001b[0m  \u001b[0;31m# FIXME\u001b[0m\u001b[0;34m\u001b[0m\u001b[0;34m\u001b[0m\u001b[0m\n\u001b[1;32m     24\u001b[0m         \u001b[0;32mreturn\u001b[0m \u001b[0mB\u001b[0m\u001b[0;34m\u001b[0m\u001b[0;34m\u001b[0m\u001b[0m\n",
      "\u001b[0;31mKeyboardInterrupt\u001b[0m: "
     ]
    }
   ],
   "source": [
    "factor = 1.7\n",
    "x = np.linspace(-factor * (radius + minor_radius), factor * (radius + minor_radius), 100)\n",
    "z = np.linspace(-2*factor * minor_radius, 2*factor * minor_radius, 100)\n",
    "X, Y, Z = np.meshgrid(x, x, z, indexing='ij')\n",
    "\n",
    "Bval = np.zeros((3, *Z.shape))\n",
    "\n",
    "from tqdm import auto as tqdm\n",
    "\n",
    "for i, xi in tqdm.tqdm(enumerate(x.si.value), total=len(x)):\n",
    "    for j, yi in enumerate(x.si.value):\n",
    "        for k, zi in enumerate(z.si.value):\n",
    "            pos = np.array([[xi, yi, zi]])\n",
    "            field = c._interpolate_B(pos)\n",
    "            Bval[:, i,j,k] = field\n",
    "\n",
    "Bmag2 = np.sum(Bval**2, axis=0)\n",
    "\n",
    "\n",
    "# In[70]:\n",
    "\n",
    "\n",
    "fig = mlab.figure(size=(800, 600))\n",
    "c.visualize(fig)\n",
    "\n",
    "contours = mlab.contour3d(X.value, Y.value, Z.value, np.log10(Bmag2), figure=fig,\n",
    "#                           contours = np.linspace(Bmag2.min(), Bmag2.max(), 50).tolist(),\n",
    "#                           contours = np.logspace(np.log10(Bmag2.min()),\n",
    "#                                                  np.log10(Bmag2.max()),\n",
    "#                                                  num=10,\n",
    "#                                                 ).tolist(),\n",
    "                          contours = 15,\n",
    "                          opacity = 0.3,\n",
    "                         )\n",
    "mlab.colorbar(contours, title=\"log10 |B|^2\")\n",
    "mlab.orientation_axes(figure=fig)\n",
    "solution3.visualize(fig2)\n",
    "display(fig)"
   ]
  },
  {
   "cell_type": "markdown",
   "metadata": {},
   "source": [
    "# TODO units in reprs for MagnetoStatics\n",
    "\n",
    "# TODO MagnetoStatics.magnetic_field accepts no units, just numpy arrays!\n",
    "\n",
    "# TODO mendeleev vs atomic - comparison\n",
    "\n",
    "# TODO Automatically generate unit-less wrappers for Astropy units"
   ]
  }
 ],
 "metadata": {
  "kernelspec": {
   "display_name": "Python 3",
   "language": "python",
   "name": "python3"
  },
  "language_info": {
   "codemirror_mode": {
    "name": "ipython",
    "version": 3
   },
   "file_extension": ".py",
   "mimetype": "text/x-python",
   "name": "python",
   "nbconvert_exporter": "python",
   "pygments_lexer": "ipython3",
   "version": "3.7.6"
  }
 },
 "nbformat": 4,
 "nbformat_minor": 4
}
