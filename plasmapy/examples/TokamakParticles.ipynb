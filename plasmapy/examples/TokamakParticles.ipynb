{
 "cells": [
  {
   "cell_type": "code",
   "execution_count": 122,
   "metadata": {},
   "outputs": [
    {
     "data": {
      "text/plain": [
       "CircularWire(normal=[0. 0. 1.], center=[0. 0. 0.], radius=1.0, current=15000000.0)"
      ]
     },
     "execution_count": 122,
     "metadata": {},
     "output_type": "execute_result"
    }
   ],
   "source": [
    "from plasmapy import simulation\n",
    "\n",
    "from plasmapy.formulary import magnetostatics\n",
    "\n",
    "import astropy.units as u\n",
    "import numpy as np\n",
    "radius = 1 * u.m\n",
    "main_current = 15 * u.MA\n",
    "plasma_wire = magnetostatics.CircularWire([0, 0, 1], u.Quantity((0, 0, 0), u.m), radius, main_current)\n",
    "plasma_wire"
   ]
  },
  {
   "cell_type": "code",
   "execution_count": 123,
   "metadata": {},
   "outputs": [
    {
     "data": {
      "text/plain": [
       "array([0.        , 1.57079633, 3.14159265, 4.71238898])"
      ]
     },
     "execution_count": 123,
     "metadata": {},
     "output_type": "execute_result"
    }
   ],
   "source": [
    "n_coils = 4\n",
    "coil_angles = np.linspace(0, 2*np.pi, n_coils, endpoint=False)\n",
    "coil_angles"
   ]
  },
  {
   "cell_type": "code",
   "execution_count": 124,
   "metadata": {},
   "outputs": [
    {
     "data": {
      "text/latex": [
       "$[1000000,~1000000,~1000000,~1000000] \\; \\mathrm{A}$"
      ],
      "text/plain": [
       "<Quantity [1000000., 1000000., 1000000., 1000000.] A>"
      ]
     },
     "execution_count": 124,
     "metadata": {},
     "output_type": "execute_result"
    }
   ],
   "source": [
    "minor_radius = 0.3 * u.m\n",
    "currents = u.Quantity(n_coils * [1e6], u.A)\n",
    "currents"
   ]
  },
  {
   "cell_type": "code",
   "execution_count": 125,
   "metadata": {},
   "outputs": [],
   "source": [
    "coils = []\n",
    "for i in range(n_coils):\n",
    "    coil_angle = coil_angles[i]\n",
    "    x = radius * np.cos(coil_angle)\n",
    "    y = radius * np.sin(coil_angle)\n",
    "    normal_angle = np.pi/2 + coil_angle\n",
    "    normal = u.Quantity([np.cos(normal_angle), np.sin(normal_angle), 0])\n",
    "    center = u.Quantity([x, y, 0 * u.m])\n",
    "    coil = magnetostatics.CircularWire(normal, center, minor_radius, currents[i])\n",
    "    coils.append(coil)"
   ]
  },
  {
   "cell_type": "code",
   "execution_count": 126,
   "metadata": {},
   "outputs": [],
   "source": [
    "all_currents = coils + [plasma_wire]"
   ]
  },
  {
   "cell_type": "markdown",
   "metadata": {},
   "source": [
    "# TODO Add functions to visualize our MagnetoStatics\n",
    "\n",
    "Maybe I'm crazy but Mayavi could be a good fit!\n",
    "\n",
    "# TODO units in reprs for MagnetoStatics\n",
    "\n",
    "# TODO MagnetoStatics.magnetic_field accepts no units, just numpy arrays!\n",
    "\n",
    "# TODO mendeleev vs atomic - comparison"
   ]
  },
  {
   "cell_type": "code",
   "execution_count": 127,
   "metadata": {},
   "outputs": [
    {
     "data": {
      "text/latex": [
       "$[0,~0,~10.454286] \\; \\mathrm{T}$"
      ],
      "text/plain": [
       "<Quantity [ 0.        ,  0.        , 10.45428585] T>"
      ]
     },
     "execution_count": 127,
     "metadata": {},
     "output_type": "execute_result"
    }
   ],
   "source": [
    "plasma_wire.magnetic_field(center.value)"
   ]
  },
  {
   "cell_type": "code",
   "execution_count": null,
   "metadata": {},
   "outputs": [
    {
     "data": {
      "application/vnd.jupyter.widget-view+json": {
       "model_id": "c1e483ac191e49a7bbc6fd2a36680226",
       "version_major": 2,
       "version_minor": 0
      },
      "text/plain": [
       "HBox(children=(FloatProgress(value=0.0, max=99999.0), HTML(value='')))"
      ]
     },
     "metadata": {},
     "output_type": "display_data"
    }
   ],
   "source": [
    "from plasmapy.classes.plasma_base import GenericPlasma\n",
    "\n",
    "E_unit = u.V / u.m\n",
    "class Coils(GenericPlasma):\n",
    "    \"\"\"\n",
    "    Work-in-progress class for passing analytical functions as fields \n",
    "\n",
    "    This is primarily helpful for `plasmapy.simulation.ParticleTracker`.\n",
    "    \"\"\"\n",
    "\n",
    "    def __init__(self, *magnetostatics):\n",
    "        \"\"\"\n",
    "        Initialize plasma paramters.\n",
    "        The most basic description is composition (ion), temperature,\n",
    "        density, and ionization.\n",
    "        \"\"\"\n",
    "        self.magnetostatics = magnetostatics\n",
    "    \n",
    "    def interpolate_E(self, r: u.m):\n",
    "        return u.Quantity(np.zeros(r.shape), E_unit)\n",
    "    \n",
    "    def interpolate_B(self, r: u.m):\n",
    "        B = u.Quantity(np.zeros(r.shape), u.T)\n",
    "        for ms in self.magnetostatics:\n",
    "            field = ms.magnetic_field(r.si.value[0])\n",
    "            B[0] += field\n",
    "        return B\n",
    "        \n",
    "\n",
    "    @classmethod\n",
    "    def is_datasource_for(cls, **kwargs):\n",
    "        match = 'interpolate_B' in kwargs.keys()\n",
    "        return match\n",
    "    \n",
    "c = Coils(*all_currents)\n",
    "\n",
    "sim = simulation.ParticleTracker(c, 'e', dt=1e-8 * u.s, nt=int(1e5))\n",
    "sim._x[0][0] = 1 + minor_radius.si.value / 2 # * (u.m / u.s)\n",
    "sim._v[0][1] = 1000 # * (u.m / u.s)\n",
    "sim._v[0][2] = 100 # * (u.m / u.s)\n",
    "\n",
    "\n",
    "sim.run() # this should return a Solution object or sth"
   ]
  },
  {
   "cell_type": "code",
   "execution_count": 13,
   "metadata": {},
   "outputs": [],
   "source": [
    "import mayavi\n",
    "from mayavi import mlab\n",
    "mlab.init_notebook()"
   ]
  },
  {
   "cell_type": "code",
   "execution_count": 111,
   "metadata": {},
   "outputs": [
    {
     "data": {
      "application/vnd.jupyter.widget-view+json": {
       "model_id": "05a3125812834aec973c4efbc8a760f0",
       "version_major": 2,
       "version_minor": 0
      },
      "text/plain": [
       "Image(value=b'\\x89PNG\\r\\n\\x1a\\n\\x00\\x00\\x00\\rIHDR\\x00\\x00\\x01\\x90\\x00\\x00\\x01^\\x08\\x02\\x00\\x00\\x00$?\\xde_\\x00\\…"
      ]
     },
     "metadata": {},
     "output_type": "display_data"
    }
   ],
   "source": [
    "fig = mlab.figure()\n",
    "for ms in all_currents:\n",
    "    x, y, z = ms.curve(np.linspace(0, 2*np.pi))\n",
    "    mlab.plot3d(x, y, z, figure=fig)\n",
    "x, y, z = sim.position_history[:,0,:].T\n",
    "\n",
    "trajectory = mlab.plot3d(x,y,z, sim.t, figure=fig, line_width=1e-4, representation='points')\n",
    "mlab.colorbar(trajectory, title=\"Time\")\n",
    "mlab.orientation_axes(figure=fig)\n",
    "display(fig)"
   ]
  },
  {
   "cell_type": "code",
   "execution_count": 112,
   "metadata": {},
   "outputs": [
    {
     "data": {
      "application/vnd.jupyter.widget-view+json": {
       "model_id": "803d0a001b154e3d93b169022694f5c8",
       "version_major": 2,
       "version_minor": 0
      },
      "text/plain": [
       "Image(value=b'\\x89PNG\\r\\n\\x1a\\n\\x00\\x00\\x00\\rIHDR\\x00\\x00\\x01\\x90\\x00\\x00\\x01^\\x08\\x02\\x00\\x00\\x00$?\\xde_\\x00\\…"
      ]
     },
     "metadata": {},
     "output_type": "display_data"
    }
   ],
   "source": [
    "fig2 = mlab.figure()\n",
    "x, y, z = sim.position_history[:,0,:].T\n",
    "\n",
    "trajectory = mlab.plot3d(x,y,z, sim.t, figure=fig2, line_width=1e-13, representation='points')\n",
    "mlab.colorbar(trajectory, title=\"Time\")\n",
    "mlab.orientation_axes(figure=fig2)\n",
    "display(fig2)"
   ]
  },
  {
   "cell_type": "code",
   "execution_count": 118,
   "metadata": {},
   "outputs": [
    {
     "data": {
      "application/vnd.jupyter.widget-view+json": {
       "model_id": "18ae6a044889423d8528849b413fb04e",
       "version_major": 2,
       "version_minor": 0
      },
      "text/plain": [
       "HBox(children=(FloatProgress(value=0.0, max=50.0), HTML(value='')))"
      ]
     },
     "metadata": {},
     "output_type": "display_data"
    },
    {
     "name": "stderr",
     "output_type": "stream",
     "text": [
      "Exception occurred in traits notification handler for object: <mayavi.tools.modules.IsoSurfaceFactory object at 0x7f9e974a95f0>, trait: contours, old value: 5, new value: [1.37437549e-15 6.63437070e-11 1.32686040e-10 1.99028372e-10\n",
      " 2.65370705e-10 3.31713037e-10 3.98055370e-10 4.64397703e-10\n",
      " 5.30740035e-10 5.97082368e-10 6.63424701e-10 7.29767033e-10\n",
      " 7.96109366e-10 8.62451698e-10 9.28794031e-10 9.95136364e-10\n",
      " 1.06147870e-09 1.12782103e-09 1.19416336e-09 1.26050569e-09\n",
      " 1.32684803e-09 1.39319036e-09 1.45953269e-09 1.52587502e-09\n",
      " 1.59221736e-09 1.65855969e-09 1.72490202e-09 1.79124435e-09\n",
      " 1.85758669e-09 1.92392902e-09 1.99027135e-09 2.05661369e-09\n",
      " 2.12295602e-09 2.18929835e-09 2.25564068e-09 2.32198302e-09\n",
      " 2.38832535e-09 2.45466768e-09 2.52101001e-09 2.58735235e-09\n",
      " 2.65369468e-09 2.72003701e-09 2.78637934e-09 2.85272168e-09\n",
      " 2.91906401e-09 2.98540634e-09 3.05174867e-09 3.11809101e-09\n",
      " 3.18443334e-09 3.25077567e-09]\n",
      "Traceback (most recent call last):\n",
      "  File \"/home/dominik/miniconda3/lib/python3.7/site-packages/traits/trait_notifiers.py\", line 394, in __call__\n",
      "    self.handler(*args)\n",
      "  File \"/home/dominik/miniconda3/lib/python3.7/site-packages/mayavi/tools/modules.py\", line 185, in _contours_changed\n",
      "    self._target.contour.contours = self.contours\n",
      "  File \"/home/dominik/miniconda3/lib/python3.7/site-packages/traits/trait_types.py\", line 2561, in validate\n",
      "    self.error(object, name, value)\n",
      "  File \"/home/dominik/miniconda3/lib/python3.7/site-packages/traits/trait_handlers.py\", line 236, in error\n",
      "    object, name, self.full_info(object, name, value), value\n",
      "traits.trait_errors.TraitError: The 'contours' trait of a Contour instance must be a list of items which are 1.3743754944193476e-15 <= a number <= 3.250775672527035e-09, but a value of array([1.37437549e-15, 6.63437070e-11, 1.32686040e-10, 1.99028372e-10,\n",
      "       2.65370705e-10, 3.31713037e-10, 3.98055370e-10, 4.64397703e-10,\n",
      "       5.30740035e-10, 5.97082368e-10, 6.63424701e-10, 7.29767033e-10,\n",
      "       7.96109366e-10, 8.62451698e-10, 9.28794031e-10, 9.95136364e-10,\n",
      "       1.06147870e-09, 1.12782103e-09, 1.19416336e-09, 1.26050569e-09,\n",
      "       1.32684803e-09, 1.39319036e-09, 1.45953269e-09, 1.52587502e-09,\n",
      "       1.59221736e-09, 1.65855969e-09, 1.72490202e-09, 1.79124435e-09,\n",
      "       1.85758669e-09, 1.92392902e-09, 1.99027135e-09, 2.05661369e-09,\n",
      "       2.12295602e-09, 2.18929835e-09, 2.25564068e-09, 2.32198302e-09,\n",
      "       2.38832535e-09, 2.45466768e-09, 2.52101001e-09, 2.58735235e-09,\n",
      "       2.65369468e-09, 2.72003701e-09, 2.78637934e-09, 2.85272168e-09,\n",
      "       2.91906401e-09, 2.98540634e-09, 3.05174867e-09, 3.11809101e-09,\n",
      "       3.18443334e-09, 3.25077567e-09]) <class 'numpy.ndarray'> was specified.\n"
     ]
    },
    {
     "name": "stdout",
     "output_type": "stream",
     "text": [
      "\n",
      "Exception occurred in traits notification handler.\n",
      "Please check the log file for details.\n"
     ]
    },
    {
     "ename": "TraitError",
     "evalue": "The 'contours' trait of a Contour instance must be a list of items which are 1.3743754944193476e-15 <= a number <= 3.250775672527035e-09, but a value of array([1.37437549e-15, 6.63437070e-11, 1.32686040e-10, 1.99028372e-10,\n       2.65370705e-10, 3.31713037e-10, 3.98055370e-10, 4.64397703e-10,\n       5.30740035e-10, 5.97082368e-10, 6.63424701e-10, 7.29767033e-10,\n       7.96109366e-10, 8.62451698e-10, 9.28794031e-10, 9.95136364e-10,\n       1.06147870e-09, 1.12782103e-09, 1.19416336e-09, 1.26050569e-09,\n       1.32684803e-09, 1.39319036e-09, 1.45953269e-09, 1.52587502e-09,\n       1.59221736e-09, 1.65855969e-09, 1.72490202e-09, 1.79124435e-09,\n       1.85758669e-09, 1.92392902e-09, 1.99027135e-09, 2.05661369e-09,\n       2.12295602e-09, 2.18929835e-09, 2.25564068e-09, 2.32198302e-09,\n       2.38832535e-09, 2.45466768e-09, 2.52101001e-09, 2.58735235e-09,\n       2.65369468e-09, 2.72003701e-09, 2.78637934e-09, 2.85272168e-09,\n       2.91906401e-09, 2.98540634e-09, 3.05174867e-09, 3.11809101e-09,\n       3.18443334e-09, 3.25077567e-09]) <class 'numpy.ndarray'> was specified.",
     "output_type": "error",
     "traceback": [
      "\u001b[0;31m---------------------------------------------------------------------------\u001b[0m",
      "\u001b[0;31mTraitError\u001b[0m                                Traceback (most recent call last)",
      "\u001b[0;32m<ipython-input-118-25e7b54e5504>\u001b[0m in \u001b[0;36m<module>\u001b[0;34m\u001b[0m\n\u001b[1;32m     21\u001b[0m     \u001b[0mmlab\u001b[0m\u001b[0;34m.\u001b[0m\u001b[0mplot3d\u001b[0m\u001b[0;34m(\u001b[0m\u001b[0mx\u001b[0m\u001b[0;34m,\u001b[0m \u001b[0my\u001b[0m\u001b[0;34m,\u001b[0m \u001b[0mz\u001b[0m\u001b[0;34m,\u001b[0m \u001b[0mfigure\u001b[0m\u001b[0;34m=\u001b[0m\u001b[0mfig\u001b[0m\u001b[0;34m)\u001b[0m\u001b[0;34m\u001b[0m\u001b[0;34m\u001b[0m\u001b[0m\n\u001b[1;32m     22\u001b[0m \u001b[0;34m\u001b[0m\u001b[0m\n\u001b[0;32m---> 23\u001b[0;31m \u001b[0mcontours\u001b[0m \u001b[0;34m=\u001b[0m \u001b[0mmlab\u001b[0m\u001b[0;34m.\u001b[0m\u001b[0mcontour3d\u001b[0m\u001b[0;34m(\u001b[0m\u001b[0mX\u001b[0m\u001b[0;34m.\u001b[0m\u001b[0mvalue\u001b[0m\u001b[0;34m,\u001b[0m \u001b[0mY\u001b[0m\u001b[0;34m.\u001b[0m\u001b[0mvalue\u001b[0m\u001b[0;34m,\u001b[0m \u001b[0mZ\u001b[0m\u001b[0;34m.\u001b[0m\u001b[0mvalue\u001b[0m\u001b[0;34m,\u001b[0m \u001b[0mBmag2\u001b[0m\u001b[0;34m,\u001b[0m \u001b[0mfigure\u001b[0m\u001b[0;34m=\u001b[0m\u001b[0mfig\u001b[0m\u001b[0;34m,\u001b[0m \u001b[0mcontours\u001b[0m \u001b[0;34m=\u001b[0m \u001b[0mnp\u001b[0m\u001b[0;34m.\u001b[0m\u001b[0mlinspace\u001b[0m\u001b[0;34m(\u001b[0m\u001b[0mBmag2\u001b[0m\u001b[0;34m.\u001b[0m\u001b[0mmin\u001b[0m\u001b[0;34m(\u001b[0m\u001b[0;34m)\u001b[0m\u001b[0;34m,\u001b[0m \u001b[0mBmag2\u001b[0m\u001b[0;34m.\u001b[0m\u001b[0mmax\u001b[0m\u001b[0;34m(\u001b[0m\u001b[0;34m)\u001b[0m\u001b[0;34m,\u001b[0m \u001b[0;36m50\u001b[0m\u001b[0;34m)\u001b[0m\u001b[0;34m)\u001b[0m\u001b[0;34m\u001b[0m\u001b[0;34m\u001b[0m\u001b[0m\n\u001b[0m\u001b[1;32m     24\u001b[0m \u001b[0mmlab\u001b[0m\u001b[0;34m.\u001b[0m\u001b[0mcolorbar\u001b[0m\u001b[0;34m(\u001b[0m\u001b[0mcontours\u001b[0m\u001b[0;34m,\u001b[0m \u001b[0mtitle\u001b[0m\u001b[0;34m=\u001b[0m\u001b[0;34m\"|B|^2\"\u001b[0m\u001b[0;34m)\u001b[0m\u001b[0;34m\u001b[0m\u001b[0;34m\u001b[0m\u001b[0m\n\u001b[1;32m     25\u001b[0m \u001b[0mmlab\u001b[0m\u001b[0;34m.\u001b[0m\u001b[0morientation_axes\u001b[0m\u001b[0;34m(\u001b[0m\u001b[0mfigure\u001b[0m\u001b[0;34m=\u001b[0m\u001b[0mfig\u001b[0m\u001b[0;34m)\u001b[0m\u001b[0;34m\u001b[0m\u001b[0;34m\u001b[0m\u001b[0m\n",
      "\u001b[0;32m~/miniconda3/lib/python3.7/site-packages/mayavi/tools/helper_functions.py\u001b[0m in \u001b[0;36mthe_function\u001b[0;34m(*args, **kwargs)\u001b[0m\n\u001b[1;32m     35\u001b[0m \u001b[0;34m\u001b[0m\u001b[0m\n\u001b[1;32m     36\u001b[0m     \u001b[0;32mdef\u001b[0m \u001b[0mthe_function\u001b[0m\u001b[0;34m(\u001b[0m\u001b[0;34m*\u001b[0m\u001b[0margs\u001b[0m\u001b[0;34m,\u001b[0m \u001b[0;34m**\u001b[0m\u001b[0mkwargs\u001b[0m\u001b[0;34m)\u001b[0m\u001b[0;34m:\u001b[0m\u001b[0;34m\u001b[0m\u001b[0;34m\u001b[0m\u001b[0m\n\u001b[0;32m---> 37\u001b[0;31m         \u001b[0;32mreturn\u001b[0m \u001b[0mpipeline\u001b[0m\u001b[0;34m(\u001b[0m\u001b[0;34m*\u001b[0m\u001b[0margs\u001b[0m\u001b[0;34m,\u001b[0m \u001b[0;34m**\u001b[0m\u001b[0mkwargs\u001b[0m\u001b[0;34m)\u001b[0m\u001b[0;34m\u001b[0m\u001b[0;34m\u001b[0m\u001b[0m\n\u001b[0m\u001b[1;32m     38\u001b[0m \u001b[0;34m\u001b[0m\u001b[0m\n\u001b[1;32m     39\u001b[0m     \u001b[0;32mif\u001b[0m \u001b[0mhasattr\u001b[0m\u001b[0;34m(\u001b[0m\u001b[0mpipeline\u001b[0m\u001b[0;34m,\u001b[0m \u001b[0;34m'doc'\u001b[0m\u001b[0;34m)\u001b[0m\u001b[0;34m:\u001b[0m\u001b[0;34m\u001b[0m\u001b[0;34m\u001b[0m\u001b[0m\n",
      "\u001b[0;32m~/miniconda3/lib/python3.7/site-packages/mayavi/tools/helper_functions.py\u001b[0m in \u001b[0;36m__call__\u001b[0;34m(self, *args, **kwargs)\u001b[0m\n\u001b[1;32m     80\u001b[0m             \u001b[0mscene\u001b[0m\u001b[0;34m.\u001b[0m\u001b[0mdisable_render\u001b[0m \u001b[0;34m=\u001b[0m \u001b[0;32mTrue\u001b[0m\u001b[0;34m\u001b[0m\u001b[0;34m\u001b[0m\u001b[0m\n\u001b[1;32m     81\u001b[0m         \u001b[0;31m# Then call the real logic\u001b[0m\u001b[0;34m\u001b[0m\u001b[0;34m\u001b[0m\u001b[0;34m\u001b[0m\u001b[0m\n\u001b[0;32m---> 82\u001b[0;31m         \u001b[0moutput\u001b[0m \u001b[0;34m=\u001b[0m \u001b[0mself\u001b[0m\u001b[0;34m.\u001b[0m\u001b[0m__call_internal__\u001b[0m\u001b[0;34m(\u001b[0m\u001b[0;34m*\u001b[0m\u001b[0margs\u001b[0m\u001b[0;34m,\u001b[0m \u001b[0;34m**\u001b[0m\u001b[0mkwargs\u001b[0m\u001b[0;34m)\u001b[0m\u001b[0;34m\u001b[0m\u001b[0;34m\u001b[0m\u001b[0m\n\u001b[0m\u001b[1;32m     83\u001b[0m         \u001b[0;31m# And re-enable the rendering, if needed.\u001b[0m\u001b[0;34m\u001b[0m\u001b[0;34m\u001b[0m\u001b[0;34m\u001b[0m\u001b[0m\n\u001b[1;32m     84\u001b[0m         \u001b[0;32mif\u001b[0m \u001b[0mscene\u001b[0m \u001b[0;32mis\u001b[0m \u001b[0;32mnot\u001b[0m \u001b[0;32mNone\u001b[0m\u001b[0;34m:\u001b[0m\u001b[0;34m\u001b[0m\u001b[0;34m\u001b[0m\u001b[0m\n",
      "\u001b[0;32m~/miniconda3/lib/python3.7/site-packages/mayavi/tools/helper_functions.py\u001b[0m in \u001b[0;36m__call_internal__\u001b[0;34m(self, *args, **kwargs)\u001b[0m\n\u001b[1;32m     93\u001b[0m         \u001b[0;31m# Copy the pipeline so as not to modify it for the next call\u001b[0m\u001b[0;34m\u001b[0m\u001b[0;34m\u001b[0m\u001b[0;34m\u001b[0m\u001b[0m\n\u001b[1;32m     94\u001b[0m         \u001b[0mself\u001b[0m\u001b[0;34m.\u001b[0m\u001b[0mpipeline\u001b[0m \u001b[0;34m=\u001b[0m \u001b[0mself\u001b[0m\u001b[0;34m.\u001b[0m\u001b[0m_pipeline\u001b[0m\u001b[0;34m[\u001b[0m\u001b[0;34m:\u001b[0m\u001b[0;34m]\u001b[0m\u001b[0;34m\u001b[0m\u001b[0;34m\u001b[0m\u001b[0m\n\u001b[0;32m---> 95\u001b[0;31m         \u001b[0;32mreturn\u001b[0m \u001b[0mself\u001b[0m\u001b[0;34m.\u001b[0m\u001b[0mbuild_pipeline\u001b[0m\u001b[0;34m(\u001b[0m\u001b[0;34m)\u001b[0m\u001b[0;34m\u001b[0m\u001b[0;34m\u001b[0m\u001b[0m\n\u001b[0m\u001b[1;32m     96\u001b[0m \u001b[0;34m\u001b[0m\u001b[0m\n\u001b[1;32m     97\u001b[0m     \u001b[0;32mdef\u001b[0m \u001b[0mstore_kwargs\u001b[0m\u001b[0;34m(\u001b[0m\u001b[0mself\u001b[0m\u001b[0;34m,\u001b[0m \u001b[0mkwargs\u001b[0m\u001b[0;34m)\u001b[0m\u001b[0;34m:\u001b[0m\u001b[0;34m\u001b[0m\u001b[0;34m\u001b[0m\u001b[0m\n",
      "\u001b[0;32m~/miniconda3/lib/python3.7/site-packages/mayavi/tools/helper_functions.py\u001b[0m in \u001b[0;36mbuild_pipeline\u001b[0;34m(self)\u001b[0m\n\u001b[1;32m    121\u001b[0m                 \u001b[0;32mif\u001b[0m \u001b[0mkey\u001b[0m \u001b[0;32min\u001b[0m \u001b[0mkeywords\u001b[0m\u001b[0;34m:\u001b[0m\u001b[0;34m\u001b[0m\u001b[0;34m\u001b[0m\u001b[0m\n\u001b[1;32m    122\u001b[0m                     \u001b[0mthis_kwargs\u001b[0m\u001b[0;34m[\u001b[0m\u001b[0mkey\u001b[0m\u001b[0;34m]\u001b[0m \u001b[0;34m=\u001b[0m \u001b[0mvalue\u001b[0m\u001b[0;34m\u001b[0m\u001b[0;34m\u001b[0m\u001b[0m\n\u001b[0;32m--> 123\u001b[0;31m             \u001b[0mobject\u001b[0m \u001b[0;34m=\u001b[0m \u001b[0mpipe\u001b[0m\u001b[0;34m(\u001b[0m\u001b[0mobject\u001b[0m\u001b[0;34m,\u001b[0m \u001b[0;34m**\u001b[0m\u001b[0mthis_kwargs\u001b[0m\u001b[0;34m)\u001b[0m\u001b[0;34m.\u001b[0m\u001b[0m_target\u001b[0m\u001b[0;34m\u001b[0m\u001b[0;34m\u001b[0m\u001b[0m\n\u001b[0m\u001b[1;32m    124\u001b[0m         \u001b[0;32mreturn\u001b[0m \u001b[0mobject\u001b[0m\u001b[0;34m\u001b[0m\u001b[0;34m\u001b[0m\u001b[0m\n\u001b[1;32m    125\u001b[0m \u001b[0;34m\u001b[0m\u001b[0m\n",
      "\u001b[0;32m~/miniconda3/lib/python3.7/site-packages/mayavi/tools/modules.py\u001b[0m in \u001b[0;36m__init__\u001b[0;34m(self, *args, **kwargs)\u001b[0m\n\u001b[1;32m    160\u001b[0m \u001b[0;34m\u001b[0m\u001b[0m\n\u001b[1;32m    161\u001b[0m     \u001b[0;32mdef\u001b[0m \u001b[0m__init__\u001b[0m\u001b[0;34m(\u001b[0m\u001b[0mself\u001b[0m\u001b[0;34m,\u001b[0m \u001b[0;34m*\u001b[0m\u001b[0margs\u001b[0m\u001b[0;34m,\u001b[0m \u001b[0;34m**\u001b[0m\u001b[0mkwargs\u001b[0m\u001b[0;34m)\u001b[0m\u001b[0;34m:\u001b[0m\u001b[0;34m\u001b[0m\u001b[0;34m\u001b[0m\u001b[0m\n\u001b[0;32m--> 162\u001b[0;31m         \u001b[0msuper\u001b[0m\u001b[0;34m(\u001b[0m\u001b[0mDataModuleFactory\u001b[0m\u001b[0;34m,\u001b[0m \u001b[0mself\u001b[0m\u001b[0;34m)\u001b[0m\u001b[0;34m.\u001b[0m\u001b[0m__init__\u001b[0m\u001b[0;34m(\u001b[0m\u001b[0;34m*\u001b[0m\u001b[0margs\u001b[0m\u001b[0;34m,\u001b[0m \u001b[0;34m**\u001b[0m\u001b[0mkwargs\u001b[0m\u001b[0;34m)\u001b[0m\u001b[0;34m\u001b[0m\u001b[0;34m\u001b[0m\u001b[0m\n\u001b[0m\u001b[1;32m    163\u001b[0m         \u001b[0;31m# We are adding data to the scene, reset the zoom:\u001b[0m\u001b[0;34m\u001b[0m\u001b[0;34m\u001b[0m\u001b[0;34m\u001b[0m\u001b[0m\n\u001b[1;32m    164\u001b[0m         \u001b[0mscene\u001b[0m \u001b[0;34m=\u001b[0m \u001b[0mself\u001b[0m\u001b[0;34m.\u001b[0m\u001b[0m_scene\u001b[0m\u001b[0;34m.\u001b[0m\u001b[0mscene\u001b[0m\u001b[0;34m\u001b[0m\u001b[0;34m\u001b[0m\u001b[0m\n",
      "\u001b[0;32m~/miniconda3/lib/python3.7/site-packages/mayavi/tools/pipe_base.py\u001b[0m in \u001b[0;36m__init__\u001b[0;34m(self, parent, **kwargs)\u001b[0m\n\u001b[1;32m    161\u001b[0m         \u001b[0;31m# Now calling the traits setter, so that traits handlers are\u001b[0m\u001b[0;34m\u001b[0m\u001b[0;34m\u001b[0m\u001b[0;34m\u001b[0m\u001b[0m\n\u001b[1;32m    162\u001b[0m         \u001b[0;31m# called\u001b[0m\u001b[0;34m\u001b[0m\u001b[0;34m\u001b[0m\u001b[0;34m\u001b[0m\u001b[0m\n\u001b[0;32m--> 163\u001b[0;31m         \u001b[0mself\u001b[0m\u001b[0;34m.\u001b[0m\u001b[0mtrait_set\u001b[0m\u001b[0;34m(\u001b[0m\u001b[0;34m**\u001b[0m\u001b[0mtraits\u001b[0m\u001b[0;34m)\u001b[0m\u001b[0;34m\u001b[0m\u001b[0;34m\u001b[0m\u001b[0m\n\u001b[0m\u001b[1;32m    164\u001b[0m         \u001b[0;32mif\u001b[0m \u001b[0mscene\u001b[0m \u001b[0;32mis\u001b[0m \u001b[0;32mnot\u001b[0m \u001b[0;32mNone\u001b[0m\u001b[0;34m:\u001b[0m\u001b[0;34m\u001b[0m\u001b[0;34m\u001b[0m\u001b[0m\n\u001b[1;32m    165\u001b[0m             \u001b[0mscene\u001b[0m\u001b[0;34m.\u001b[0m\u001b[0mdisable_render\u001b[0m \u001b[0;34m=\u001b[0m \u001b[0;32mnot\u001b[0m \u001b[0mself\u001b[0m\u001b[0;34m.\u001b[0m\u001b[0m_do_redraw\u001b[0m\u001b[0;34m\u001b[0m\u001b[0;34m\u001b[0m\u001b[0m\n",
      "\u001b[0;32m~/miniconda3/lib/python3.7/site-packages/mayavi/tools/pipe_base.py\u001b[0m in \u001b[0;36mtrait_set\u001b[0;34m(self, trait_change_notify, **traits)\u001b[0m\n\u001b[1;32m    181\u001b[0m             \u001b[0;32mtry\u001b[0m\u001b[0;34m:\u001b[0m\u001b[0;34m\u001b[0m\u001b[0;34m\u001b[0m\u001b[0m\n\u001b[1;32m    182\u001b[0m                 \u001b[0;32mif\u001b[0m \u001b[0mcallback\u001b[0m \u001b[0;32mis\u001b[0m \u001b[0;32mnot\u001b[0m \u001b[0;32mNone\u001b[0m\u001b[0;34m:\u001b[0m\u001b[0;34m\u001b[0m\u001b[0;34m\u001b[0m\u001b[0m\n\u001b[0;32m--> 183\u001b[0;31m                     \u001b[0mcallback\u001b[0m\u001b[0;34m(\u001b[0m\u001b[0;34m)\u001b[0m\u001b[0;34m\u001b[0m\u001b[0;34m\u001b[0m\u001b[0m\n\u001b[0m\u001b[1;32m    184\u001b[0m                 \u001b[0mself\u001b[0m\u001b[0;34m.\u001b[0m\u001b[0m_anytrait_changed\u001b[0m\u001b[0;34m(\u001b[0m\u001b[0mtrait\u001b[0m\u001b[0;34m,\u001b[0m \u001b[0mvalue\u001b[0m\u001b[0;34m)\u001b[0m\u001b[0;34m\u001b[0m\u001b[0;34m\u001b[0m\u001b[0m\n\u001b[1;32m    185\u001b[0m             \u001b[0;32mexcept\u001b[0m \u001b[0mTraitError\u001b[0m\u001b[0;34m:\u001b[0m\u001b[0;34m\u001b[0m\u001b[0;34m\u001b[0m\u001b[0m\n",
      "\u001b[0;32m~/miniconda3/lib/python3.7/site-packages/mayavi/tools/modules.py\u001b[0m in \u001b[0;36m_contours_changed\u001b[0;34m(self)\u001b[0m\n\u001b[1;32m    183\u001b[0m         \u001b[0;32mif\u001b[0m \u001b[0mcontour_list\u001b[0m\u001b[0;34m:\u001b[0m\u001b[0;34m\u001b[0m\u001b[0;34m\u001b[0m\u001b[0m\n\u001b[1;32m    184\u001b[0m             \u001b[0mself\u001b[0m\u001b[0;34m.\u001b[0m\u001b[0m_target\u001b[0m\u001b[0;34m.\u001b[0m\u001b[0mcontour\u001b[0m\u001b[0;34m.\u001b[0m\u001b[0mauto_contours\u001b[0m \u001b[0;34m=\u001b[0m \u001b[0;32mFalse\u001b[0m\u001b[0;34m\u001b[0m\u001b[0;34m\u001b[0m\u001b[0m\n\u001b[0;32m--> 185\u001b[0;31m             \u001b[0mself\u001b[0m\u001b[0;34m.\u001b[0m\u001b[0m_target\u001b[0m\u001b[0;34m.\u001b[0m\u001b[0mcontour\u001b[0m\u001b[0;34m.\u001b[0m\u001b[0mcontours\u001b[0m \u001b[0;34m=\u001b[0m \u001b[0mself\u001b[0m\u001b[0;34m.\u001b[0m\u001b[0mcontours\u001b[0m\u001b[0;34m\u001b[0m\u001b[0;34m\u001b[0m\u001b[0m\n\u001b[0m\u001b[1;32m    186\u001b[0m         \u001b[0;32melse\u001b[0m\u001b[0;34m:\u001b[0m\u001b[0;34m\u001b[0m\u001b[0;34m\u001b[0m\u001b[0m\n\u001b[1;32m    187\u001b[0m             \u001b[0;32massert\u001b[0m \u001b[0mtype\u001b[0m\u001b[0;34m(\u001b[0m\u001b[0mself\u001b[0m\u001b[0;34m.\u001b[0m\u001b[0mcontours\u001b[0m\u001b[0;34m)\u001b[0m \u001b[0;34m==\u001b[0m \u001b[0mint\u001b[0m\u001b[0;34m,\u001b[0m\u001b[0;31m \u001b[0m\u001b[0;31m\\\u001b[0m\u001b[0;34m\u001b[0m\u001b[0;34m\u001b[0m\u001b[0m\n",
      "\u001b[0;32m~/miniconda3/lib/python3.7/site-packages/traits/trait_types.py\u001b[0m in \u001b[0;36mvalidate\u001b[0;34m(self, object, name, value)\u001b[0m\n\u001b[1;32m   2559\u001b[0m             \u001b[0;32mreturn\u001b[0m \u001b[0mTraitListObject\u001b[0m\u001b[0;34m(\u001b[0m\u001b[0mself\u001b[0m\u001b[0;34m,\u001b[0m \u001b[0mobject\u001b[0m\u001b[0;34m,\u001b[0m \u001b[0mname\u001b[0m\u001b[0;34m,\u001b[0m \u001b[0mvalue\u001b[0m\u001b[0;34m)\u001b[0m\u001b[0;34m\u001b[0m\u001b[0;34m\u001b[0m\u001b[0m\n\u001b[1;32m   2560\u001b[0m \u001b[0;34m\u001b[0m\u001b[0m\n\u001b[0;32m-> 2561\u001b[0;31m         \u001b[0mself\u001b[0m\u001b[0;34m.\u001b[0m\u001b[0merror\u001b[0m\u001b[0;34m(\u001b[0m\u001b[0mobject\u001b[0m\u001b[0;34m,\u001b[0m \u001b[0mname\u001b[0m\u001b[0;34m,\u001b[0m \u001b[0mvalue\u001b[0m\u001b[0;34m)\u001b[0m\u001b[0;34m\u001b[0m\u001b[0;34m\u001b[0m\u001b[0m\n\u001b[0m\u001b[1;32m   2562\u001b[0m \u001b[0;34m\u001b[0m\u001b[0m\n\u001b[1;32m   2563\u001b[0m     \u001b[0;32mdef\u001b[0m \u001b[0mfull_info\u001b[0m\u001b[0;34m(\u001b[0m\u001b[0mself\u001b[0m\u001b[0;34m,\u001b[0m \u001b[0mobject\u001b[0m\u001b[0;34m,\u001b[0m \u001b[0mname\u001b[0m\u001b[0;34m,\u001b[0m \u001b[0mvalue\u001b[0m\u001b[0;34m)\u001b[0m\u001b[0;34m:\u001b[0m\u001b[0;34m\u001b[0m\u001b[0;34m\u001b[0m\u001b[0m\n",
      "\u001b[0;32m~/miniconda3/lib/python3.7/site-packages/traits/trait_handlers.py\u001b[0m in \u001b[0;36merror\u001b[0;34m(self, object, name, value)\u001b[0m\n\u001b[1;32m    234\u001b[0m         \"\"\"\n\u001b[1;32m    235\u001b[0m         raise TraitError(\n\u001b[0;32m--> 236\u001b[0;31m             \u001b[0mobject\u001b[0m\u001b[0;34m,\u001b[0m \u001b[0mname\u001b[0m\u001b[0;34m,\u001b[0m \u001b[0mself\u001b[0m\u001b[0;34m.\u001b[0m\u001b[0mfull_info\u001b[0m\u001b[0;34m(\u001b[0m\u001b[0mobject\u001b[0m\u001b[0;34m,\u001b[0m \u001b[0mname\u001b[0m\u001b[0;34m,\u001b[0m \u001b[0mvalue\u001b[0m\u001b[0;34m)\u001b[0m\u001b[0;34m,\u001b[0m \u001b[0mvalue\u001b[0m\u001b[0;34m\u001b[0m\u001b[0;34m\u001b[0m\u001b[0m\n\u001b[0m\u001b[1;32m    237\u001b[0m         )\n\u001b[1;32m    238\u001b[0m \u001b[0;34m\u001b[0m\u001b[0m\n",
      "\u001b[0;31mTraitError\u001b[0m: The 'contours' trait of a Contour instance must be a list of items which are 1.3743754944193476e-15 <= a number <= 3.250775672527035e-09, but a value of array([1.37437549e-15, 6.63437070e-11, 1.32686040e-10, 1.99028372e-10,\n       2.65370705e-10, 3.31713037e-10, 3.98055370e-10, 4.64397703e-10,\n       5.30740035e-10, 5.97082368e-10, 6.63424701e-10, 7.29767033e-10,\n       7.96109366e-10, 8.62451698e-10, 9.28794031e-10, 9.95136364e-10,\n       1.06147870e-09, 1.12782103e-09, 1.19416336e-09, 1.26050569e-09,\n       1.32684803e-09, 1.39319036e-09, 1.45953269e-09, 1.52587502e-09,\n       1.59221736e-09, 1.65855969e-09, 1.72490202e-09, 1.79124435e-09,\n       1.85758669e-09, 1.92392902e-09, 1.99027135e-09, 2.05661369e-09,\n       2.12295602e-09, 2.18929835e-09, 2.25564068e-09, 2.32198302e-09,\n       2.38832535e-09, 2.45466768e-09, 2.52101001e-09, 2.58735235e-09,\n       2.65369468e-09, 2.72003701e-09, 2.78637934e-09, 2.85272168e-09,\n       2.91906401e-09, 2.98540634e-09, 3.05174867e-09, 3.11809101e-09,\n       3.18443334e-09, 3.25077567e-09]) <class 'numpy.ndarray'> was specified."
     ]
    }
   ],
   "source": [
    "x = np.linspace(-1.2 * (radius + minor_radius), 1.2 * (radius + minor_radius), 50)\n",
    "z = np.linspace(-1.2 * minor_radius, 1.2 * minor_radius, 50)\n",
    "X, Y, Z = np.meshgrid(x, x, z, indexing='ij')\n",
    "\n",
    "Bval = np.zeros((3, *Z.shape))\n",
    "\n",
    "from tqdm import auto as tqdm\n",
    "\n",
    "for i, xi in tqdm.tqdm(enumerate(x), total=len(x)):\n",
    "    for j, yi in enumerate(x):\n",
    "        for k, zi in enumerate(z):\n",
    "            pos = u.Quantity([xi, yi, zi]).reshape(1, 3)\n",
    "            field = c.interpolate_B(pos)\n",
    "            Bval[:, i,j,k] = field.si.value\n",
    "\n",
    "Bmag2 = np.sum(Bval**2, axis=0)\n",
    "\n",
    "fig = mlab.figure()\n",
    "for ms in all_currents:\n",
    "    x, y, z = ms.curve(np.linspace(0, 2*np.pi))\n",
    "    mlab.plot3d(x, y, z, figure=fig)\n",
    "\n",
    "contours = mlab.contour3d(X.value, Y.value, Z.value, Bmag2, figure=fig, contours = np.linspace(Bmag2.min(), Bmag2.max(), 50).tolist())\n",
    "mlab.colorbar(contours, title=\"|B|^2\")\n",
    "mlab.orientation_axes(figure=fig)\n",
    "display(fig)"
   ]
  },
  {
   "cell_type": "code",
   "execution_count": 121,
   "metadata": {},
   "outputs": [
    {
     "data": {
      "application/vnd.jupyter.widget-view+json": {
       "model_id": "caec44e5190b4878a5f2a92234550028",
       "version_major": 2,
       "version_minor": 0
      },
      "text/plain": [
       "Image(value=b'\\x89PNG\\r\\n\\x1a\\n\\x00\\x00\\x00\\rIHDR\\x00\\x00\\x01\\x90\\x00\\x00\\x01^\\x08\\x02\\x00\\x00\\x00$?\\xde_\\x00\\…"
      ]
     },
     "metadata": {},
     "output_type": "display_data"
    }
   ],
   "source": [
    "fig = mlab.figure()\n",
    "for ms in all_currents:\n",
    "    x, y, z = ms.curve(np.linspace(0, 2*np.pi))\n",
    "    mlab.plot3d(x, y, z, figure=fig, line_width = 1e-3)\n",
    "\n",
    "contours = mlab.contour3d(X.value, Y.value, Z.value, Bmag2, figure=fig, contours = np.linspace(Bmag2.min(), Bmag2.max(), 5).tolist())\n",
    "mlab.colorbar(contours, title=\"|B|^2\")\n",
    "mlab.orientation_axes(figure=fig)\n",
    "display(fig)"
   ]
  }
 ],
 "metadata": {
  "kernelspec": {
   "display_name": "Python 3",
   "language": "python",
   "name": "python3"
  },
  "language_info": {
   "codemirror_mode": {
    "name": "ipython",
    "version": 3
   },
   "file_extension": ".py",
   "mimetype": "text/x-python",
   "name": "python",
   "nbconvert_exporter": "python",
   "pygments_lexer": "ipython3",
   "version": "3.7.6"
  }
 },
 "nbformat": 4,
 "nbformat_minor": 4
}
