{
 "cells": [
  {
   "cell_type": "code",
   "execution_count": 2,
   "metadata": {},
   "outputs": [
    {
     "name": "stdout",
     "output_type": "stream",
     "text": [
      "Notebook initialized with ipy backend.\n"
     ]
    },
    {
     "data": {
      "application/vnd.jupyter.widget-view+json": {
       "model_id": "4c0bc472a329453b8668eeebd1077f14",
       "version_major": 2,
       "version_minor": 0
      },
      "text/plain": [
       "Image(value=b'\\x89PNG\\r\\n\\x1a\\n\\x00\\x00\\x00\\rIHDR\\x00\\x00\\x01\\x90\\x00\\x00\\x01^\\x08\\x02\\x00\\x00\\x00$?\\xde_\\x00\\…"
      ]
     },
     "metadata": {},
     "output_type": "display_data"
    }
   ],
   "source": [
    "from plasmapy import simulation\n",
    "from plasmapy.formulary import magnetostatics\n",
    "from plasmapy.classes.sources import Coils\n",
    "import astropy.units as u\n",
    "import numpy as np\n",
    "radius = 1 * u.m\n",
    "main_current = 15 * u.MA\n",
    "plasma_wire = magnetostatics.CircularWire([0, 0, 1], u.Quantity((0, 0, 0), u.m), radius, main_current)\n",
    "\n",
    "from mayavi import mlab\n",
    "mlab.init_notebook()\n",
    "plasma_wire.visualize()"
   ]
  },
  {
   "cell_type": "code",
   "execution_count": 3,
   "metadata": {},
   "outputs": [
    {
     "data": {
      "application/vnd.jupyter.widget-view+json": {
       "model_id": "48bd90f4a9364b70b70fd12161150653",
       "version_major": 2,
       "version_minor": 0
      },
      "text/plain": [
       "Image(value=b'\\x89PNG\\r\\n\\x1a\\n\\x00\\x00\\x00\\rIHDR\\x00\\x00\\x01\\x90\\x00\\x00\\x01^\\x08\\x02\\x00\\x00\\x00$?\\xde_\\x00\\…"
      ]
     },
     "metadata": {},
     "output_type": "display_data"
    }
   ],
   "source": [
    "n_coils = 8\n",
    "currents = u.Quantity(n_coils * [10e6], u.A)\n",
    "\n",
    "coil_angles = np.linspace(0, 2*np.pi, n_coils, endpoint=False)\n",
    "coil_angles\n",
    "minor_radius = 0.3 * u.m\n",
    "\n",
    "coils = []\n",
    "for i in range(n_coils):\n",
    "    coil_angle = coil_angles[i]\n",
    "    x = radius * np.cos(coil_angle)\n",
    "    y = radius * np.sin(coil_angle)\n",
    "    normal_angle = np.pi/2 + coil_angle\n",
    "    normal = u.Quantity([np.cos(normal_angle), np.sin(normal_angle), 0])\n",
    "    center = u.Quantity([x, y, 0 * u.m])\n",
    "    coil = magnetostatics.CircularWire(normal, center, minor_radius, currents[i])\n",
    "    coils.append(coil)\n",
    "all_currents = coils + [plasma_wire]\n",
    "c = Coils(*all_currents)\n",
    "c.visualize()"
   ]
  },
  {
   "cell_type": "code",
   "execution_count": 5,
   "metadata": {},
   "outputs": [
    {
     "data": {
      "application/vnd.jupyter.widget-view+json": {
       "model_id": "79d9aebb36e3440aa29c00e7616c1bd0",
       "version_major": 2,
       "version_minor": 0
      },
      "text/plain": [
       "HBox(children=(FloatProgress(value=0.0, max=999999.0), HTML(value='')))"
      ]
     },
     "metadata": {},
     "output_type": "display_data"
    },
    {
     "name": "stdout",
     "output_type": "stream",
     "text": [
      "\n"
     ]
    },
    {
     "ename": "NameError",
     "evalue": "name 'fig2' is not defined",
     "output_type": "error",
     "traceback": [
      "\u001b[0;31m---------------------------------------------------------------------------\u001b[0m",
      "\u001b[0;31mNameError\u001b[0m                                 Traceback (most recent call last)",
      "\u001b[0;32m<ipython-input-5-53248d88396f>\u001b[0m in \u001b[0;36m<module>\u001b[0;34m\u001b[0m\n\u001b[1;32m      7\u001b[0m \u001b[0mfig\u001b[0m \u001b[0;34m=\u001b[0m \u001b[0mmlab\u001b[0m\u001b[0;34m.\u001b[0m\u001b[0mfigure\u001b[0m\u001b[0;34m(\u001b[0m\u001b[0;34m)\u001b[0m\u001b[0;34m\u001b[0m\u001b[0;34m\u001b[0m\u001b[0m\n\u001b[1;32m      8\u001b[0m \u001b[0mc\u001b[0m\u001b[0;34m.\u001b[0m\u001b[0mvisualize\u001b[0m\u001b[0;34m(\u001b[0m\u001b[0mfig\u001b[0m\u001b[0;34m)\u001b[0m\u001b[0;34m\u001b[0m\u001b[0;34m\u001b[0m\u001b[0m\n\u001b[0;32m----> 9\u001b[0;31m \u001b[0msim\u001b[0m\u001b[0;34m.\u001b[0m\u001b[0mvisualize\u001b[0m\u001b[0;34m(\u001b[0m\u001b[0mfig\u001b[0m\u001b[0;34m)\u001b[0m\u001b[0;34m\u001b[0m\u001b[0;34m\u001b[0m\u001b[0m\n\u001b[0m\u001b[1;32m     10\u001b[0m \u001b[0mmlab\u001b[0m\u001b[0;34m.\u001b[0m\u001b[0morientation_axes\u001b[0m\u001b[0;34m(\u001b[0m\u001b[0mfigure\u001b[0m\u001b[0;34m=\u001b[0m\u001b[0mfig\u001b[0m\u001b[0;34m)\u001b[0m\u001b[0;34m\u001b[0m\u001b[0;34m\u001b[0m\u001b[0m\n\u001b[1;32m     11\u001b[0m \u001b[0mfig\u001b[0m\u001b[0;34m\u001b[0m\u001b[0;34m\u001b[0m\u001b[0m\n",
      "\u001b[0;32m~/PlasmaPy/plasmapy/simulation/particletracker.py\u001b[0m in \u001b[0;36mvisualize\u001b[0;34m(self, figure)\u001b[0m\n\u001b[1;32m    326\u001b[0m             \u001b[0mfig\u001b[0m \u001b[0;34m=\u001b[0m \u001b[0mfigure\u001b[0m\u001b[0;34m\u001b[0m\u001b[0;34m\u001b[0m\u001b[0m\n\u001b[1;32m    327\u001b[0m         \u001b[0mx\u001b[0m\u001b[0;34m,\u001b[0m \u001b[0my\u001b[0m\u001b[0;34m,\u001b[0m \u001b[0mz\u001b[0m \u001b[0;34m=\u001b[0m \u001b[0mself\u001b[0m\u001b[0;34m.\u001b[0m\u001b[0mposition_history\u001b[0m\u001b[0;34m[\u001b[0m\u001b[0;34m:\u001b[0m\u001b[0;34m,\u001b[0m\u001b[0;36m0\u001b[0m\u001b[0;34m,\u001b[0m\u001b[0;34m:\u001b[0m\u001b[0;34m]\u001b[0m\u001b[0;34m.\u001b[0m\u001b[0mT\u001b[0m   \u001b[0;31m# FIXME\u001b[0m\u001b[0;34m\u001b[0m\u001b[0;34m\u001b[0m\u001b[0m\n\u001b[0;32m--> 328\u001b[0;31m         \u001b[0mtrajectory\u001b[0m \u001b[0;34m=\u001b[0m \u001b[0mmlab\u001b[0m\u001b[0;34m.\u001b[0m\u001b[0mplot3d\u001b[0m\u001b[0;34m(\u001b[0m\u001b[0mx\u001b[0m\u001b[0;34m,\u001b[0m\u001b[0my\u001b[0m\u001b[0;34m,\u001b[0m\u001b[0mz\u001b[0m\u001b[0;34m,\u001b[0m \u001b[0mself\u001b[0m\u001b[0;34m.\u001b[0m\u001b[0mt\u001b[0m\u001b[0;34m,\u001b[0m \u001b[0mfigure\u001b[0m\u001b[0;34m=\u001b[0m\u001b[0mfig2\u001b[0m\u001b[0;34m,\u001b[0m \u001b[0mline_width\u001b[0m\u001b[0;34m=\u001b[0m\u001b[0;36m1e-13\u001b[0m\u001b[0;34m,\u001b[0m \u001b[0mrepresentation\u001b[0m\u001b[0;34m=\u001b[0m\u001b[0;34m'surface'\u001b[0m\u001b[0;34m)\u001b[0m\u001b[0;34m\u001b[0m\u001b[0;34m\u001b[0m\u001b[0m\n\u001b[0m\u001b[1;32m    329\u001b[0m         \u001b[0mmlab\u001b[0m\u001b[0;34m.\u001b[0m\u001b[0mcolorbar\u001b[0m\u001b[0;34m(\u001b[0m\u001b[0mtrajectory\u001b[0m\u001b[0;34m,\u001b[0m \u001b[0mtitle\u001b[0m\u001b[0;34m=\u001b[0m\u001b[0;34m\"Trajectory - Time\"\u001b[0m\u001b[0;34m,\u001b[0m \u001b[0morientation\u001b[0m\u001b[0;34m=\u001b[0m\u001b[0;34m\"vertical\"\u001b[0m\u001b[0;34m)\u001b[0m\u001b[0;34m\u001b[0m\u001b[0;34m\u001b[0m\u001b[0m\n\u001b[1;32m    330\u001b[0m         \u001b[0;32mif\u001b[0m \u001b[0mfigure\u001b[0m \u001b[0;32mis\u001b[0m \u001b[0;32mNone\u001b[0m\u001b[0;34m:\u001b[0m\u001b[0;34m\u001b[0m\u001b[0;34m\u001b[0m\u001b[0m\n",
      "\u001b[0;31mNameError\u001b[0m: name 'fig2' is not defined"
     ]
    }
   ],
   "source": [
    "sim = simulation.ParticleTracker(c, 'e', dt=1e-8 * u.s, nt=int(1e6))\n",
    "sim._x[0][0] = 1 + minor_radius.si.value / 2 # * (u.m / u.s)\n",
    "sim._v[0][1] = 10000 # * (u.m / u.s)\n",
    "sim._v[0][2] = 100 # * (u.m / u.s)\n",
    "sim.run() # this should return a Solution object or sth\n",
    "\n",
    "fig = mlab.figure()\n",
    "c.visualize(fig)\n",
    "sim.visualize(fig)\n",
    "mlab.orientation_axes(figure=fig)\n",
    "fig"
   ]
  },
  {
   "cell_type": "code",
   "execution_count": null,
   "metadata": {},
   "outputs": [],
   "source": [
    "sim2 = simulation.ParticleTracker(c, 'e', dt=1e-8 * u.s, nt=int(1e6))\n",
    "sim2._x[0][0] = 1 + minor_radius.si.value / 2 # * (u.m / u.s)\n",
    "sim2._v[0][0] = 0 # * (u.m / u.s)\n",
    "sim2._v[0][1] = 10000 # * (u.m / u.s)\n",
    "sim2._v[0][2] = 0 # * (u.m / u.s)\n",
    "sim2.run() # this should return a Solution object or sth\n",
    "\n",
    "\n",
    "# In[38]:\n",
    "\n",
    "\n",
    "fig2 = mlab.figure()\n",
    "c.visualize(fig2)\n",
    "sim2.visualize(fig2)\n",
    "mlab.orientation_axes(figure=fig2)\n",
    "display(fig2)"
   ]
  },
  {
   "cell_type": "code",
   "execution_count": null,
   "metadata": {},
   "outputs": [],
   "source": [
    "# In[68]:\n",
    "\n",
    "\n",
    "factor = 1.7\n",
    "x = np.linspace(-factor * (radius + minor_radius), factor * (radius + minor_radius), 100)\n",
    "z = np.linspace(-2*factor * minor_radius, 2*factor * minor_radius, 100)\n",
    "X, Y, Z = np.meshgrid(x, x, z, indexing='ij')\n",
    "\n",
    "Bval = np.zeros((3, *Z.shape))\n",
    "\n",
    "from tqdm import auto as tqdm\n",
    "\n",
    "for i, xi in tqdm.tqdm(enumerate(x.si.value), total=len(x)):\n",
    "    for j, yi in enumerate(x.si.value):\n",
    "        for k, zi in enumerate(z.si.value):\n",
    "            pos = np.array([[xi, yi, zi]])\n",
    "            field = c._interpolate_B(pos)\n",
    "            Bval[:, i,j,k] = field\n",
    "\n",
    "Bmag2 = np.sum(Bval**2, axis=0)\n",
    "\n",
    "\n",
    "# In[70]:\n",
    "\n",
    "\n",
    "fig = mlab.figure(size=(800, 600))\n",
    "c.visualize(fig)\n",
    "\n",
    "contours = mlab.contour3d(X.value, Y.value, Z.value, np.log10(Bmag2), figure=fig,\n",
    "#                           contours = np.linspace(Bmag2.min(), Bmag2.max(), 50).tolist(),\n",
    "#                           contours = np.logspace(np.log10(Bmag2.min()),\n",
    "#                                                  np.log10(Bmag2.max()),\n",
    "#                                                  num=10,\n",
    "#                                                 ).tolist(),\n",
    "                          contours = 15,\n",
    "                          opacity = 0.3,\n",
    "                         )\n",
    "mlab.colorbar(contours, title=\"log10 |B|^2\")\n",
    "mlab.orientation_axes(figure=fig)\n",
    "sim.visualize(fig2)\n",
    "display(fig)"
   ]
  },
  {
   "cell_type": "markdown",
   "metadata": {},
   "source": [
    "# TODO units in reprs for MagnetoStatics\n",
    "\n",
    "# TODO MagnetoStatics.magnetic_field accepts no units, just numpy arrays!\n",
    "\n",
    "# TODO mendeleev vs atomic - comparison"
   ]
  }
 ],
 "metadata": {
  "kernelspec": {
   "display_name": "Python 3",
   "language": "python",
   "name": "python3"
  },
  "language_info": {
   "codemirror_mode": {
    "name": "ipython",
    "version": 3
   },
   "file_extension": ".py",
   "mimetype": "text/x-python",
   "name": "python",
   "nbconvert_exporter": "python",
   "pygments_lexer": "ipython3",
   "version": "3.7.6"
  }
 },
 "nbformat": 4,
 "nbformat_minor": 4
}
