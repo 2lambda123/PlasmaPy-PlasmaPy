{
 "cells": [
  {
   "cell_type": "code",
   "execution_count": 1,
   "metadata": {},
   "outputs": [],
   "source": [
    "from plasmapy import simulation"
   ]
  },
  {
   "cell_type": "code",
   "execution_count": 2,
   "metadata": {},
   "outputs": [],
   "source": [
    "from plasmapy.formulary import magnetostatics"
   ]
  },
  {
   "cell_type": "code",
   "execution_count": 3,
   "metadata": {},
   "outputs": [
    {
     "data": {
      "text/plain": [
       "CircularWire(normal=[0. 0. 1.], center=[0. 0. 0.], radius=1.0, current=1.0)"
      ]
     },
     "execution_count": 3,
     "metadata": {},
     "output_type": "execute_result"
    }
   ],
   "source": [
    "import astropy.units as u\n",
    "import numpy as np\n",
    "radius = 1 * u.m\n",
    "main_current = 1 * u.A\n",
    "plasma_wire = magnetostatics.CircularWire([0, 0, 1], u.Quantity((0, 0, 0), u.m), radius, main_current)\n",
    "plasma_wire"
   ]
  },
  {
   "cell_type": "code",
   "execution_count": 4,
   "metadata": {},
   "outputs": [
    {
     "data": {
      "text/plain": [
       "array([0.        , 1.57079633, 3.14159265, 4.71238898])"
      ]
     },
     "execution_count": 4,
     "metadata": {},
     "output_type": "execute_result"
    }
   ],
   "source": [
    "n_coils = 4\n",
    "coil_angles = np.linspace(0, 2*np.pi, n_coils, endpoint=False)\n",
    "coil_angles"
   ]
  },
  {
   "cell_type": "code",
   "execution_count": 5,
   "metadata": {},
   "outputs": [
    {
     "data": {
      "text/latex": [
       "$[0.1,~0.1,~0.1,~0.1] \\; \\mathrm{A}$"
      ],
      "text/plain": [
       "<Quantity [0.1, 0.1, 0.1, 0.1] A>"
      ]
     },
     "execution_count": 5,
     "metadata": {},
     "output_type": "execute_result"
    }
   ],
   "source": [
    "minor_radius = 0.3 * u.m\n",
    "currents = u.Quantity(n_coils * [0.1], u.A)\n",
    "currents"
   ]
  },
  {
   "cell_type": "code",
   "execution_count": 6,
   "metadata": {},
   "outputs": [],
   "source": [
    "coils = []\n",
    "for i in range(n_coils):\n",
    "    coil_angle = coil_angles[i]\n",
    "    x = radius * np.cos(coil_angle)\n",
    "    y = radius * np.sin(coil_angle)\n",
    "    normal_angle = np.pi/2 + coil_angle\n",
    "    normal = u.Quantity([np.cos(normal_angle), np.sin(normal_angle), 0])\n",
    "    center = u.Quantity([x, y, 0 * u.m])\n",
    "    coil = magnetostatics.CircularWire(normal, center, minor_radius, currents[i])\n",
    "    coils.append(coil)"
   ]
  },
  {
   "cell_type": "code",
   "execution_count": 7,
   "metadata": {},
   "outputs": [],
   "source": [
    "all_currents = coils + [plasma_wire]"
   ]
  },
  {
   "cell_type": "markdown",
   "metadata": {},
   "source": [
    "# TODO Add functions to visualize our MagnetoStatics\n",
    "\n",
    "Maybe I'm crazy but Mayavi could be a good fit!\n",
    "\n",
    "# TODO units in reprs for MagnetoStatics\n",
    "\n",
    "# TODO MagnetoStatics.magnetic_field accepts no units, just numpy arrays!"
   ]
  },
  {
   "cell_type": "code",
   "execution_count": 8,
   "metadata": {},
   "outputs": [
    {
     "data": {
      "text/latex": [
       "$[0,~0,~6.9695239 \\times 10^{-7}] \\; \\mathrm{T}$"
      ],
      "text/plain": [
       "<Quantity [0.0000000e+00, 0.0000000e+00, 6.9695239e-07] T>"
      ]
     },
     "execution_count": 8,
     "metadata": {},
     "output_type": "execute_result"
    }
   ],
   "source": [
    "plasma_wire.magnetic_field(center.value)"
   ]
  },
  {
   "cell_type": "code",
   "execution_count": 26,
   "metadata": {},
   "outputs": [],
   "source": [
    "from plasmapy.classes.plasma_base import GenericPlasma\n",
    "\n",
    "E_unit = u.V / u.m\n",
    "class Coils(GenericPlasma):\n",
    "    \"\"\"\n",
    "    Work-in-progress class for passing analytical functions as fields \n",
    "\n",
    "    This is primarily helpful for `plasmapy.simulation.ParticleTracker`.\n",
    "    \"\"\"\n",
    "\n",
    "    def __init__(self, *magnetostatics):\n",
    "        \"\"\"\n",
    "        Initialize plasma paramters.\n",
    "        The most basic description is composition (ion), temperature,\n",
    "        density, and ionization.\n",
    "        \"\"\"\n",
    "        self.magnetostatics = magnetostatics\n",
    "    \n",
    "    def interpolate_E(self, r: u.m):\n",
    "        return u.Quantity(np.zeros(r.shape), E_unit)\n",
    "    \n",
    "    def interpolate_B(self, r: u.m):\n",
    "        B = u.Quantity(np.zeros(r.shape), u.T)\n",
    "        for ms in self.magnetostatics:\n",
    "            field = ms.magnetic_field(r.si.value[0])\n",
    "            B[0] += field\n",
    "        return B\n",
    "        \n",
    "\n",
    "    @classmethod\n",
    "    def is_datasource_for(cls, **kwargs):\n",
    "        match = 'interpolate_B' in kwargs.keys()\n",
    "        return match\n",
    "    \n",
    "c = Coils(*all_currents)\n",
    "\n",
    "sim = simulation.ParticleTracker(c, 'e', dt=1e-5 * u.s, nt=int(1e4))\n",
    "sim._x[0][0] = 1 # * (u.m / u.s)\n",
    "sim._v[0][1] = 1 # * (u.m / u.s)\n"
   ]
  },
  {
   "cell_type": "code",
   "execution_count": null,
   "metadata": {},
   "outputs": [
    {
     "data": {
      "application/vnd.jupyter.widget-view+json": {
       "model_id": "b3cd8586f6f24c238bf7c9a39bbe5442",
       "version_major": 2,
       "version_minor": 0
      },
      "text/plain": [
       "HBox(children=(FloatProgress(value=0.0, max=9999.0), HTML(value='')))"
      ]
     },
     "metadata": {},
     "output_type": "display_data"
    }
   ],
   "source": [
    "sim.run() # this should return a Solution object or sth"
   ]
  },
  {
   "cell_type": "code",
   "execution_count": null,
   "metadata": {},
   "outputs": [],
   "source": [
    "sim.plot_time_trajectories()"
   ]
  },
  {
   "cell_type": "code",
   "execution_count": null,
   "metadata": {},
   "outputs": [],
   "source": [
    "sim.plot_trajectories()"
   ]
  }
 ],
 "metadata": {
  "kernelspec": {
   "display_name": "Python 3",
   "language": "python",
   "name": "python3"
  },
  "language_info": {
   "codemirror_mode": {
    "name": "ipython",
    "version": 3
   },
   "file_extension": ".py",
   "mimetype": "text/x-python",
   "name": "python",
   "nbconvert_exporter": "python",
   "pygments_lexer": "ipython3",
   "version": "3.7.6"
  }
 },
 "nbformat": 4,
 "nbformat_minor": 4
}
