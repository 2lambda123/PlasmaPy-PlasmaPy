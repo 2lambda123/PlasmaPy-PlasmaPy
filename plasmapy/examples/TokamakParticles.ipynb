{
 "cells": [
  {
   "cell_type": "code",
   "execution_count": 21,
   "metadata": {},
   "outputs": [
    {
     "data": {
      "text/plain": [
       "CircularWire(normal=[0. 0. 1.], center=[0. 0. 0.], radius=1.0, current=15000000.0)"
      ]
     },
     "execution_count": 21,
     "metadata": {},
     "output_type": "execute_result"
    }
   ],
   "source": [
    "from plasmapy import simulation\n",
    "\n",
    "from plasmapy.formulary import magnetostatics\n",
    "\n",
    "import astropy.units as u\n",
    "import numpy as np\n",
    "radius = 1 * u.m\n",
    "main_current = 15 * u.MA\n",
    "plasma_wire = magnetostatics.CircularWire([0, 0, 1], u.Quantity((0, 0, 0), u.m), radius, main_current)\n",
    "plasma_wire"
   ]
  },
  {
   "cell_type": "code",
   "execution_count": 22,
   "metadata": {},
   "outputs": [
    {
     "data": {
      "text/plain": [
       "array([0.        , 0.78539816, 1.57079633, 2.35619449, 3.14159265,\n",
       "       3.92699082, 4.71238898, 5.49778714])"
      ]
     },
     "execution_count": 22,
     "metadata": {},
     "output_type": "execute_result"
    }
   ],
   "source": [
    "n_coils = 8\n",
    "coil_angles = np.linspace(0, 2*np.pi, n_coils, endpoint=False)\n",
    "coil_angles"
   ]
  },
  {
   "cell_type": "code",
   "execution_count": 23,
   "metadata": {},
   "outputs": [
    {
     "data": {
      "text/latex": [
       "$[10000000,~10000000,~10000000,~10000000,~10000000,~10000000,~10000000,~10000000] \\; \\mathrm{A}$"
      ],
      "text/plain": [
       "<Quantity [10000000., 10000000., 10000000., 10000000., 10000000.,\n",
       "           10000000., 10000000., 10000000.] A>"
      ]
     },
     "execution_count": 23,
     "metadata": {},
     "output_type": "execute_result"
    }
   ],
   "source": [
    "minor_radius = 0.3 * u.m\n",
    "currents = u.Quantity(n_coils * [10e6], u.A)\n",
    "currents"
   ]
  },
  {
   "cell_type": "code",
   "execution_count": 24,
   "metadata": {},
   "outputs": [],
   "source": [
    "coils = []\n",
    "for i in range(n_coils):\n",
    "    coil_angle = coil_angles[i]\n",
    "    x = radius * np.cos(coil_angle)\n",
    "    y = radius * np.sin(coil_angle)\n",
    "    normal_angle = np.pi/2 + coil_angle\n",
    "    normal = u.Quantity([np.cos(normal_angle), np.sin(normal_angle), 0])\n",
    "    center = u.Quantity([x, y, 0 * u.m])\n",
    "    coil = magnetostatics.CircularWire(normal, center, minor_radius, currents[i])\n",
    "    coils.append(coil)"
   ]
  },
  {
   "cell_type": "code",
   "execution_count": 25,
   "metadata": {},
   "outputs": [],
   "source": [
    "all_currents = coils + [plasma_wire]"
   ]
  },
  {
   "cell_type": "markdown",
   "metadata": {},
   "source": [
    "# TODO Add functions to visualize our MagnetoStatics\n",
    "\n",
    "Maybe I'm crazy but Mayavi could be a good fit!\n",
    "\n",
    "# TODO units in reprs for MagnetoStatics\n",
    "\n",
    "# TODO MagnetoStatics.magnetic_field accepts no units, just numpy arrays!\n",
    "\n",
    "# TODO mendeleev vs atomic - comparison"
   ]
  },
  {
   "cell_type": "code",
   "execution_count": 26,
   "metadata": {},
   "outputs": [
    {
     "data": {
      "text/latex": [
       "$[0,~0,~10.603976] \\; \\mathrm{T}$"
      ],
      "text/plain": [
       "<Quantity [ 0.        ,  0.        , 10.60397635] T>"
      ]
     },
     "execution_count": 26,
     "metadata": {},
     "output_type": "execute_result"
    }
   ],
   "source": [
    "plasma_wire.magnetic_field(center.value)"
   ]
  },
  {
   "cell_type": "code",
   "execution_count": 33,
   "metadata": {},
   "outputs": [
    {
     "data": {
      "application/vnd.jupyter.widget-view+json": {
       "model_id": "4709d187f2ee4633aa2404e1676ac260",
       "version_major": 2,
       "version_minor": 0
      },
      "text/plain": [
       "HBox(children=(FloatProgress(value=0.0, max=999999.0), HTML(value='')))"
      ]
     },
     "metadata": {},
     "output_type": "display_data"
    },
    {
     "name": "stdout",
     "output_type": "stream",
     "text": [
      "\n"
     ]
    }
   ],
   "source": [
    "from plasmapy.classes.plasma_base import GenericPlasma\n",
    "\n",
    "E_unit = u.V / u.m\n",
    "class Coils(GenericPlasma):\n",
    "    \"\"\"\n",
    "    Work-in-progress class for passing analytical functions as fields \n",
    "\n",
    "    This is primarily helpful for `plasmapy.simulation.ParticleTracker`.\n",
    "    \"\"\"\n",
    "\n",
    "    def __init__(self, *magnetostatics):\n",
    "        \"\"\"\n",
    "        Initialize plasma paramters.\n",
    "        The most basic description is composition (ion), temperature,\n",
    "        density, and ionization.\n",
    "        \"\"\"\n",
    "        self.magnetostatics = magnetostatics\n",
    "    \n",
    "    def interpolate_E(self, r: u.m):\n",
    "        return u.Quantity(np.zeros(r.shape), E_unit)\n",
    "    \n",
    "    def _interpolate_B(self, r):\n",
    "        B = np.zeros(r.shape)\n",
    "        for ms in self.magnetostatics:\n",
    "            field = ms._magnetic_field(r[0], ms.pt, ms.dl, ms.current)\n",
    "            B[0] += field\n",
    "        return B\n",
    "\n",
    "    def interpolate_B(self, r: u.m):\n",
    "        return u.Quantity(self._interpolate_B(r.si.value), u.T)\n",
    "\n",
    "    @classmethod\n",
    "    def is_datasource_for(cls, **kwargs):\n",
    "        match = 'interpolate_B' in kwargs.keys()\n",
    "        return match\n",
    "    \n",
    "c = Coils(*all_currents)\n",
    "\n",
    "sim = simulation.ParticleTracker(c, 'e', dt=1e-8 * u.s, nt=int(1e6))\n",
    "sim._x[0][0] = 1 + minor_radius.si.value / 2 # * (u.m / u.s)\n",
    "sim._v[0][1] = 10000 # * (u.m / u.s)\n",
    "sim._v[0][2] = 100 # * (u.m / u.s)\n",
    "\n",
    "\n",
    "sim.run() # this should return a Solution object or sth"
   ]
  },
  {
   "cell_type": "code",
   "execution_count": 34,
   "metadata": {},
   "outputs": [
    {
     "name": "stdout",
     "output_type": "stream",
     "text": [
      "Notebook initialized with ipy backend.\n"
     ]
    }
   ],
   "source": [
    "import mayavi\n",
    "from mayavi import mlab\n",
    "mlab.init_notebook()"
   ]
  },
  {
   "cell_type": "code",
   "execution_count": 35,
   "metadata": {},
   "outputs": [
    {
     "data": {
      "application/vnd.jupyter.widget-view+json": {
       "model_id": "cfa0e32d90be4a139c0daf6fff4200f9",
       "version_major": 2,
       "version_minor": 0
      },
      "text/plain": [
       "Image(value=b'\\x89PNG\\r\\n\\x1a\\n\\x00\\x00\\x00\\rIHDR\\x00\\x00\\x01\\x90\\x00\\x00\\x01^\\x08\\x02\\x00\\x00\\x00$?\\xde_\\x00\\…"
      ]
     },
     "metadata": {},
     "output_type": "display_data"
    }
   ],
   "source": [
    "fig = mlab.figure()\n",
    "for ms in all_currents:\n",
    "    x, y, z = ms.curve(np.linspace(0, 2*np.pi))\n",
    "    mlab.plot3d(x, y, z, figure=fig)\n",
    "x, y, z = sim.position_history[:,0,:].T\n",
    "\n",
    "trajectory = mlab.plot3d(x,y,z, sim.t, figure=fig, line_width=1e-4, representation='surface')\n",
    "mlab.colorbar(trajectory, title=\"Time\")\n",
    "mlab.orientation_axes(figure=fig)\n",
    "display(fig)"
   ]
  },
  {
   "cell_type": "code",
   "execution_count": 36,
   "metadata": {},
   "outputs": [],
   "source": [
    "sim2 = simulation.ParticleTracker(c, 'e', dt=1e-8 * u.s, nt=int(1e6))\n",
    "sim2._x[0][0] = 1 + minor_radius.si.value / 2 # * (u.m / u.s)\n",
    "sim2._v[0][0] = 0 # * (u.m / u.s)\n",
    "sim2._v[0][1] = 10000 # * (u.m / u.s)\n",
    "sim2._v[0][2] = 0 # * (u.m / u.s)\n",
    "sim2.run() # this should return a Solution object or sth"
   ]
  },
  {
   "cell_type": "code",
   "execution_count": 38,
   "metadata": {},
   "outputs": [
    {
     "data": {
      "application/vnd.jupyter.widget-view+json": {
       "model_id": "6e0ffc511eee487bb28708c8297467d4",
       "version_major": 2,
       "version_minor": 0
      },
      "text/plain": [
       "HBox(children=(FloatProgress(value=0.0, max=999999.0), HTML(value='')))"
      ]
     },
     "metadata": {},
     "output_type": "display_data"
    },
    {
     "name": "stdout",
     "output_type": "stream",
     "text": [
      "\n"
     ]
    },
    {
     "data": {
      "application/vnd.jupyter.widget-view+json": {
       "model_id": "fac504bd9d3848f8a8e56bcbf8bf726d",
       "version_major": 2,
       "version_minor": 0
      },
      "text/plain": [
       "Image(value=b'\\x89PNG\\r\\n\\x1a\\n\\x00\\x00\\x00\\rIHDR\\x00\\x00\\x01\\x90\\x00\\x00\\x01^\\x08\\x02\\x00\\x00\\x00$?\\xde_\\x00\\…"
      ]
     },
     "metadata": {},
     "output_type": "display_data"
    }
   ],
   "source": [
    "fig2 = mlab.figure()\n",
    "for ms in all_currents:\n",
    "    x, y, z = ms.curve(np.linspace(0, 2*np.pi))\n",
    "    mlab.plot3d(x, y, z, figure=fig2)\n",
    "x, y, z = sim2.position_history[:,0,:].T\n",
    "\n",
    "trajectory = mlab.plot3d(x,y,z, sim2.t, figure=fig2, line_width=1e-13, representation='surface')\n",
    "mlab.colorbar(trajectory, title=\"Time\")\n",
    "mlab.orientation_axes(figure=fig2)\n",
    "display(fig2)"
   ]
  },
  {
   "cell_type": "code",
   "execution_count": 68,
   "metadata": {},
   "outputs": [
    {
     "data": {
      "application/vnd.jupyter.widget-view+json": {
       "model_id": "cb9733145e974e7fb77e2e316b4aafc8",
       "version_major": 2,
       "version_minor": 0
      },
      "text/plain": [
       "HBox(children=(FloatProgress(value=0.0), HTML(value='')))"
      ]
     },
     "metadata": {},
     "output_type": "display_data"
    },
    {
     "name": "stdout",
     "output_type": "stream",
     "text": [
      "\n"
     ]
    }
   ],
   "source": [
    "factor = 1.7\n",
    "x = np.linspace(-factor * (radius + minor_radius), factor * (radius + minor_radius), 100)\n",
    "z = np.linspace(-2*factor * minor_radius, 2*factor * minor_radius, 100)\n",
    "X, Y, Z = np.meshgrid(x, x, z, indexing='ij')\n",
    "\n",
    "Bval = np.zeros((3, *Z.shape))\n",
    "\n",
    "from tqdm import auto as tqdm\n",
    "\n",
    "for i, xi in tqdm.tqdm(enumerate(x.si.value), total=len(x)):\n",
    "    for j, yi in enumerate(x.si.value):\n",
    "        for k, zi in enumerate(z.si.value):\n",
    "            pos = np.array([[xi, yi, zi]])\n",
    "            field = c._interpolate_B(pos)\n",
    "            Bval[:, i,j,k] = field\n",
    "\n",
    "Bmag2 = np.sum(Bval**2, axis=0)"
   ]
  },
  {
   "cell_type": "code",
   "execution_count": 70,
   "metadata": {},
   "outputs": [
    {
     "data": {
      "application/vnd.jupyter.widget-view+json": {
       "model_id": "9ad8cabca4d0482e869ae461c65e2294",
       "version_major": 2,
       "version_minor": 0
      },
      "text/plain": [
       "Image(value=b'\\x89PNG\\r\\n\\x1a\\n\\x00\\x00\\x00\\rIHDR\\x00\\x00\\x03 \\x00\\x00\\x02X\\x08\\x02\\x00\\x00\\x00\\x15\\x14\\x15\\'\\…"
      ]
     },
     "metadata": {},
     "output_type": "display_data"
    }
   ],
   "source": [
    "fig = mlab.figure(size=(800, 600))\n",
    "for ms in all_currents:\n",
    "    x, y, z = ms.curve(np.linspace(0, 2*np.pi))\n",
    "    mlab.plot3d(x, y, z, figure=fig)\n",
    "\n",
    "contours = mlab.contour3d(X.value, Y.value, Z.value, np.log10(Bmag2), figure=fig,\n",
    "#                           contours = np.linspace(Bmag2.min(), Bmag2.max(), 50).tolist(),\n",
    "#                           contours = np.logspace(np.log10(Bmag2.min()),\n",
    "#                                                  np.log10(Bmag2.max()),\n",
    "#                                                  num=10,\n",
    "#                                                 ).tolist(),\n",
    "                          contours = 15,\n",
    "                          opacity = 0.3,\n",
    "                         )\n",
    "mlab.colorbar(contours, title=\"log10 |B|^2\")\n",
    "mlab.orientation_axes(figure=fig)\n",
    "x, y, z = sim.position_history[:,0,:].T\n",
    "\n",
    "trajectory = mlab.plot3d(x,y,z, sim.t, figure=fig, line_width=1e-4, representation='surface')\n",
    "mlab.colorbar(trajectory, title=\"Trajectory - time\", orientation='vertical')\n",
    "display(fig)"
   ]
  }
 ],
 "metadata": {
  "kernelspec": {
   "display_name": "Python 3",
   "language": "python",
   "name": "python3"
  },
  "language_info": {
   "codemirror_mode": {
    "name": "ipython",
    "version": 3
   },
   "file_extension": ".py",
   "mimetype": "text/x-python",
   "name": "python",
   "nbconvert_exporter": "python",
   "pygments_lexer": "ipython3",
   "version": "3.7.6"
  }
 },
 "nbformat": 4,
 "nbformat_minor": 4
}
