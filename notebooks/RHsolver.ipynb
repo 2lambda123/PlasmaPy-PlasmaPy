{
 "cells": [
  {
   "cell_type": "markdown",
   "metadata": {},
   "source": [
    "## Equations"
   ]
  },
  {
   "cell_type": "code",
   "execution_count": 81,
   "metadata": {},
   "outputs": [],
   "source": [
    "%config InteractiveShell.ast_node_interactivity = 'last_expr_or_assign'"
   ]
  },
  {
   "cell_type": "code",
   "execution_count": 86,
   "metadata": {},
   "outputs": [
    {
     "data": {
      "image/png": "[encoded data removed]",
      "text/latex": [
       "$\\displaystyle \\left( {B_x}_{1}, \\  {B_x}_{2}\\right)$"
      ],
      "text/plain": [
       "({B_x}_{1}, {B_x}_{2})"
      ]
     },
     "execution_count": 86,
     "metadata": {},
     "output_type": "execute_result"
    }
   ],
   "source": [
    "import sympy\n",
    "sympy.init_printing()\n",
    "def pair_across_jump(symbol, **assumptions):\n",
    "    return sympy.symbols(\"{\" + symbol + \"}_{1:3}\", **assumptions)\n",
    "Bx = pair_across_jump(\"B_x\", real=True)"
   ]
  },
  {
   "cell_type": "code",
   "execution_count": 87,
   "metadata": {},
   "outputs": [
    {
     "data": {
      "image/png": "[encoded data removed]",
      "text/latex": [
       "$\\displaystyle \\left( {V_x}_{1}, \\  {V_x}_{2}\\right)$"
      ],
      "text/plain": [
       "({V_x}_{1}, {V_x}_{2})"
      ]
     },
     "execution_count": 87,
     "metadata": {},
     "output_type": "execute_result"
    }
   ],
   "source": [
    "Vx = pair_across_jump(\"V_x\", real=True)"
   ]
  },
  {
   "cell_type": "code",
   "execution_count": 88,
   "metadata": {},
   "outputs": [
    {
     "data": {
      "image/png": "[encoded data removed]",
      "text/latex": [
       "$\\displaystyle \\left( {V_y}_{1}, \\  {V_y}_{2}\\right)$"
      ],
      "text/plain": [
       "({V_y}_{1}, {V_y}_{2})"
      ]
     },
     "execution_count": 88,
     "metadata": {},
     "output_type": "execute_result"
    }
   ],
   "source": [
    "Vy = pair_across_jump(\"V_y\", real=True)"
   ]
  },
  {
   "cell_type": "code",
   "execution_count": 89,
   "metadata": {},
   "outputs": [
    {
     "data": {
      "image/png": "[encoded data removed]",
      "text/latex": [
       "$\\displaystyle \\left( {B_y}_{1}, \\  {B_y}_{2}\\right)$"
      ],
      "text/plain": [
       "({B_y}_{1}, {B_y}_{2})"
      ]
     },
     "execution_count": 89,
     "metadata": {},
     "output_type": "execute_result"
    }
   ],
   "source": [
    "By = pair_across_jump(\"B_y\", real=True)"
   ]
  },
  {
   "cell_type": "code",
   "execution_count": 90,
   "metadata": {},
   "outputs": [
    {
     "data": {
      "image/png": "[encoded data removed]",
      "text/latex": [
       "$\\displaystyle {B_x}_{1} = {B_x}_{2}$"
      ],
      "text/plain": [
       "{B_x}_{1} = {B_x}_{2}"
      ]
     },
     "execution_count": 90,
     "metadata": {},
     "output_type": "execute_result"
    }
   ],
   "source": [
    "Eq933 = sympy.Eq(Bx[0], Bx[1])"
   ]
  },
  {
   "cell_type": "code",
   "execution_count": 91,
   "metadata": {},
   "outputs": [
    {
     "data": {
      "image/png": "[encoded data removed]",
      "text/latex": [
       "$\\displaystyle - {B_x}_{1} {V_y}_{1} + {B_y}_{1} {V_x}_{1} = - {B_x}_{2} {V_y}_{2} + {B_y}_{2} {V_x}_{2}$"
      ],
      "text/plain": [
       "-{B_x}_{1}⋅{V_y}_{1} + {B_y}_{1}⋅{V_x}_{1} = -{B_x}_{2}⋅{V_y}_{2} + {B_y}_{2}⋅\n",
       "{V_x}_{2}"
      ]
     },
     "execution_count": 91,
     "metadata": {},
     "output_type": "execute_result"
    }
   ],
   "source": [
    "Eq934 = sympy.Eq(Vx[0] * By[0] - Vy[0] * Bx[0],\n",
    "                 Vx[1] * By[1] - Vy[1] * Bx[1])"
   ]
  },
  {
   "cell_type": "code",
   "execution_count": 92,
   "metadata": {},
   "outputs": [
    {
     "data": {
      "image/png": "[encoded data removed]",
      "text/latex": [
       "$\\displaystyle \\left( {\\rho}_{1}, \\  {\\rho}_{2}\\right)$"
      ],
      "text/plain": [
       "({\\rho}_{1}, {\\rho}_{2})"
      ]
     },
     "execution_count": 92,
     "metadata": {},
     "output_type": "execute_result"
    }
   ],
   "source": [
    "rho = pair_across_jump(r\"\\rho\", positive=True)"
   ]
  },
  {
   "cell_type": "code",
   "execution_count": 93,
   "metadata": {},
   "outputs": [
    {
     "data": {
      "image/png": "[encoded data removed]",
      "text/latex": [
       "$\\displaystyle {V_x}_{1} {\\rho}_{1} = {V_x}_{2} {\\rho}_{2}$"
      ],
      "text/plain": [
       "{V_x}_{1}⋅{\\rho}_{1} = {V_x}_{2}⋅{\\rho}_{2}"
      ]
     },
     "execution_count": 93,
     "metadata": {},
     "output_type": "execute_result"
    }
   ],
   "source": [
    "Eq935 = sympy.Eq(rho[0] * Vx[0],\n",
    "                 rho[1] * Vx[1])"
   ]
  },
  {
   "cell_type": "code",
   "execution_count": 94,
   "metadata": {},
   "outputs": [
    {
     "data": {
      "image/png": "[encoded data removed]",
      "text/latex": [
       "$\\displaystyle \\left( {p}_{1}, \\  {p}_{2}\\right)$"
      ],
      "text/plain": [
       "({p}_{1}, {p}_{2})"
      ]
     },
     "execution_count": 94,
     "metadata": {},
     "output_type": "execute_result"
    }
   ],
   "source": [
    "p = pair_across_jump(\"p\", positive = True)"
   ]
  },
  {
   "cell_type": "code",
   "execution_count": 95,
   "metadata": {},
   "outputs": [
    {
     "data": {
      "image/png": "[encoded data removed]",
      "text/latex": [
       "$\\displaystyle \\mu_0$"
      ],
      "text/plain": [
       "\\mu₀"
      ]
     },
     "execution_count": 95,
     "metadata": {},
     "output_type": "execute_result"
    }
   ],
   "source": [
    "mu_0 = sympy.symbols(\"\\mu_0\", positive = True)"
   ]
  },
  {
   "cell_type": "code",
   "execution_count": 96,
   "metadata": {},
   "outputs": [
    {
     "data": {
      "image/png": "[encoded data removed]",
      "text/latex": [
       "$\\displaystyle {V_x}_{1}^{2} {\\rho}_{1} + {p}_{1} + \\frac{{B_y}_{1}^{2}}{2 \\mu_0} = {V_x}_{2}^{2} {\\rho}_{2} + {p}_{2} + \\frac{{B_y}_{2}^{2}}{2 \\mu_0}$"
      ],
      "text/plain": [
       "                                           2                                  \n",
       "         2                        {B_y}_{1}             2                     \n",
       "{V_x}_{1} ⋅{\\rho}_{1} + {p}_{1} + ────────── = {V_x}_{2} ⋅{\\rho}_{2} + {p}_{2}\n",
       "                                    2⋅\\mu₀                                    \n",
       "\n",
       "            2\n",
       "   {B_y}_{2} \n",
       " + ──────────\n",
       "     2⋅\\mu₀  "
      ]
     },
     "execution_count": 96,
     "metadata": {},
     "output_type": "execute_result"
    }
   ],
   "source": [
    "Eq936 = sympy.Eq(rho[0] * Vx[0]**2 + p[0] + By[0]**2 / 2 / mu_0,\n",
    "                 rho[1] * Vx[1]**2 + p[1] + By[1]**2 / 2 / mu_0)"
   ]
  },
  {
   "cell_type": "code",
   "execution_count": 97,
   "metadata": {},
   "outputs": [
    {
     "data": {
      "image/png": "[encoded data removed]",
      "text/latex": [
       "$\\displaystyle {V_x}_{1} {V_y}_{1} {\\rho}_{1} - \\frac{{B_x}_{1} {B_y}_{1}}{\\mu_0} = {V_x}_{2} {V_y}_{2} {\\rho}_{2} - \\frac{{B_x}_{2} {B_y}_{2}}{\\mu_0}$"
      ],
      "text/plain": [
       "                                 {B_x}_{1}⋅{B_y}_{1}                          \n",
       "{V_x}_{1}⋅{V_y}_{1}⋅{\\rho}_{1} - ─────────────────── = {V_x}_{2}⋅{V_y}_{2}⋅{\\r\n",
       "                                         \\mu₀                                 \n",
       "\n",
       "          {B_x}_{2}⋅{B_y}_{2}\n",
       "ho}_{2} - ───────────────────\n",
       "                  \\mu₀       "
      ]
     },
     "execution_count": 97,
     "metadata": {},
     "output_type": "execute_result"
    }
   ],
   "source": [
    "Eq937 = sympy.Eq(rho[0] * Vx[0] * Vy[0] - Bx[0] * By[0] / mu_0,\n",
    "                 rho[1] * Vx[1] * Vy[1] - Bx[1] * By[1] / mu_0)"
   ]
  },
  {
   "cell_type": "code",
   "execution_count": 98,
   "metadata": {},
   "outputs": [
    {
     "data": {
      "image/png": "[encoded data removed]",
      "text/latex": [
       "$\\displaystyle \\left( {V_x}_{1}^{2} + {V_y}_{1}^{2}, \\  {V_x}_{2}^{2} + {V_y}_{2}^{2}\\right)$"
      ],
      "text/plain": [
       "⎛         2            2           2            2⎞\n",
       "⎝{V_x}_{1}  + {V_y}_{1} , {V_x}_{2}  + {V_y}_{2} ⎠"
      ]
     },
     "execution_count": 98,
     "metadata": {},
     "output_type": "execute_result"
    }
   ],
   "source": [
    "V2 = (Vx[0]**2 + Vy[0]**2, Vx[1]**2 + Vy[1]**2)"
   ]
  },
  {
   "cell_type": "code",
   "execution_count": 99,
   "metadata": {},
   "outputs": [
    {
     "data": {
      "image/png": "[encoded data removed]",
      "text/latex": [
       "$\\displaystyle \\Gamma$"
      ],
      "text/plain": [
       "Γ"
      ]
     },
     "execution_count": 99,
     "metadata": {},
     "output_type": "execute_result"
    }
   ],
   "source": [
    "Gamma = sympy.symbols(\"Gamma\", positive=True)"
   ]
  },
  {
   "cell_type": "code",
   "execution_count": 100,
   "metadata": {},
   "outputs": [
    {
     "data": {
      "image/png": "[encoded data removed]",
      "text/latex": [
       "$\\displaystyle \\frac{\\Gamma {V_x}_{1} {p}_{1}}{\\Gamma - 1} + 0.5 {V_x}_{1} {\\rho}_{1} \\left({V_x}_{1}^{2} + {V_y}_{1}^{2}\\right) + \\frac{{B_y}_{1} \\left(- {B_x}_{1} {V_y}_{1} + {B_y}_{1} {V_x}_{1}\\right)}{\\mu_0} = \\frac{\\Gamma {V_x}_{2} {p}_{2}}{\\Gamma - 1} + 0.5 {V_x}_{2} {\\rho}_{2} \\left({V_x}_{2}^{2} + {V_y}_{2}^{2}\\right) + \\frac{{B_y}_{2} \\left(- {B_x}_{2} {V_y}_{2} + {B_y}_{2} {V_x}_{2}\\right)}{\\mu_0}$"
      ],
      "text/plain": [
       "Γ⋅{V_x}_{1}⋅{p}_{1}                            ⎛         2            2⎞   {B_\n",
       "─────────────────── + 0.5⋅{V_x}_{1}⋅{\\rho}_{1}⋅⎝{V_x}_{1}  + {V_y}_{1} ⎠ + ───\n",
       "       Γ - 1                                                                  \n",
       "\n",
       "y}_{1}⋅(-{B_x}_{1}⋅{V_y}_{1} + {B_y}_{1}⋅{V_x}_{1})   Γ⋅{V_x}_{2}⋅{p}_{2}     \n",
       "─────────────────────────────────────────────────── = ─────────────────── + 0.\n",
       "                      \\mu₀                                   Γ - 1            \n",
       "\n",
       "                       ⎛         2            2⎞   {B_y}_{2}⋅(-{B_x}_{2}⋅{V_y}\n",
       "5⋅{V_x}_{2}⋅{\\rho}_{2}⋅⎝{V_x}_{2}  + {V_y}_{2} ⎠ + ───────────────────────────\n",
       "                                                                            \\m\n",
       "\n",
       "_{2} + {B_y}_{2}⋅{V_x}_{2})\n",
       "───────────────────────────\n",
       "u₀                         "
      ]
     },
     "execution_count": 100,
     "metadata": {},
     "output_type": "execute_result"
    }
   ],
   "source": [
    "Eq938 = sympy.Eq(\n",
    "    1/2 * rho[0] * V2[0] * Vx[0] + Gamma / (Gamma - 1) * p[0] * Vx[0] + By[0] * (Vx[0] * By[0] - Vy[0] * Bx[0]) / mu_0,\n",
    "    1/2 * rho[1] * V2[1] * Vx[1] + Gamma / (Gamma - 1) * p[1] * Vx[1] + By[1] * (Vx[1] * By[1] - Vy[1] * Bx[1]) / mu_0,\n",
    ")"
   ]
  },
  {
   "cell_type": "code",
   "execution_count": 101,
   "metadata": {},
   "outputs": [
    {
     "data": {
      "image/png": "[encoded data removed]",
      "text/latex": [
       "$\\displaystyle \\left[ {B_x}_{1} = {B_x}_{2}, \\  - {B_x}_{1} {V_y}_{1} + {B_y}_{1} {V_x}_{1} = - {B_x}_{2} {V_y}_{2} + {B_y}_{2} {V_x}_{2}, \\  {V_x}_{1} {\\rho}_{1} = {V_x}_{2} {\\rho}_{2}, \\  {V_x}_{1}^{2} {\\rho}_{1} + {p}_{1} + \\frac{{B_y}_{1}^{2}}{2 \\mu_0} = {V_x}_{2}^{2} {\\rho}_{2} + {p}_{2} + \\frac{{B_y}_{2}^{2}}{2 \\mu_0}, \\  {V_x}_{1} {V_y}_{1} {\\rho}_{1} - \\frac{{B_x}_{1} {B_y}_{1}}{\\mu_0} = {V_x}_{2} {V_y}_{2} {\\rho}_{2} - \\frac{{B_x}_{2} {B_y}_{2}}{\\mu_0}, \\  \\frac{\\Gamma {V_x}_{1} {p}_{1}}{\\Gamma - 1} + 0.5 {V_x}_{1} {\\rho}_{1} \\left({V_x}_{1}^{2} + {V_y}_{1}^{2}\\right) + \\frac{{B_y}_{1} \\left(- {B_x}_{1} {V_y}_{1} + {B_y}_{1} {V_x}_{1}\\right)}{\\mu_0} = \\frac{\\Gamma {V_x}_{2} {p}_{2}}{\\Gamma - 1} + 0.5 {V_x}_{2} {\\rho}_{2} \\left({V_x}_{2}^{2} + {V_y}_{2}^{2}\\right) + \\frac{{B_y}_{2} \\left(- {B_x}_{2} {V_y}_{2} + {B_y}_{2} {V_x}_{2}\\right)}{\\mu_0}\\right]$"
      ],
      "text/plain": [
       "⎡                                                                             \n",
       "⎢                                                                             \n",
       "⎢{B_x}_{1} = {B_x}_{2}, -{B_x}_{1}⋅{V_y}_{1} + {B_y}_{1}⋅{V_x}_{1} = -{B_x}_{2\n",
       "⎣                                                                             \n",
       "\n",
       "                                                                              \n",
       "                                                                              \n",
       "}⋅{V_y}_{2} + {B_y}_{2}⋅{V_x}_{2}, {V_x}_{1}⋅{\\rho}_{1} = {V_x}_{2}⋅{\\rho}_{2}\n",
       "                                                                              \n",
       "\n",
       "                                             2                                \n",
       "           2                        {B_y}_{1}             2                   \n",
       ", {V_x}_{1} ⋅{\\rho}_{1} + {p}_{1} + ────────── = {V_x}_{2} ⋅{\\rho}_{2} + {p}_{\n",
       "                                      2⋅\\mu₀                                  \n",
       "\n",
       "              2                                                               \n",
       "     {B_y}_{2}                                    {B_x}_{1}⋅{B_y}_{1}         \n",
       "2} + ──────────, {V_x}_{1}⋅{V_y}_{1}⋅{\\rho}_{1} - ─────────────────── = {V_x}_\n",
       "       2⋅\\mu₀                                             \\mu₀                \n",
       "\n",
       "                                                                              \n",
       "                           {B_x}_{2}⋅{B_y}_{2}  Γ⋅{V_x}_{1}⋅{p}_{1}           \n",
       "{2}⋅{V_y}_{2}⋅{\\rho}_{2} - ───────────────────, ─────────────────── + 0.5⋅{V_x\n",
       "                                   \\mu₀                Γ - 1                  \n",
       "\n",
       "                                                                              \n",
       "                 ⎛         2            2⎞   {B_y}_{1}⋅(-{B_x}_{1}⋅{V_y}_{1} +\n",
       "}_{1}⋅{\\rho}_{1}⋅⎝{V_x}_{1}  + {V_y}_{1} ⎠ + ─────────────────────────────────\n",
       "                                                                      \\mu₀    \n",
       "\n",
       "                                                                              \n",
       " {B_y}_{1}⋅{V_x}_{1})   Γ⋅{V_x}_{2}⋅{p}_{2}                            ⎛      \n",
       "───────────────────── = ─────────────────── + 0.5⋅{V_x}_{2}⋅{\\rho}_{2}⋅⎝{V_x}_\n",
       "                               Γ - 1                                          \n",
       "\n",
       "                                                                           ⎤\n",
       "   2            2⎞   {B_y}_{2}⋅(-{B_x}_{2}⋅{V_y}_{2} + {B_y}_{2}⋅{V_x}_{2})⎥\n",
       "{2}  + {V_y}_{2} ⎠ + ──────────────────────────────────────────────────────⎥\n",
       "                                              \\mu₀                         ⎦"
      ]
     },
     "execution_count": 101,
     "metadata": {},
     "output_type": "execute_result"
    }
   ],
   "source": [
    "all_equations = [Eq933, Eq934, Eq935, Eq936, Eq937, Eq938]"
   ]
  },
  {
   "cell_type": "code",
   "execution_count": 102,
   "metadata": {},
   "outputs": [
    {
     "data": {
      "text/plain": [
       "{'Bx0': {B_x}_{1},\n",
       " 'Bx1': {B_x}_{2},\n",
       " 'By0': {B_y}_{1},\n",
       " 'By1': {B_y}_{2},\n",
       " 'Vx0': {V_x}_{1},\n",
       " 'Vx1': {V_x}_{2},\n",
       " 'Vy0': {V_y}_{1},\n",
       " 'Vy1': {V_y}_{2},\n",
       " 'p0': {p}_{1},\n",
       " 'p1': {p}_{2},\n",
       " 'rho0': {\\rho}_{1},\n",
       " 'rho1': {\\rho}_{2}}"
      ]
     },
     "execution_count": 102,
     "metadata": {},
     "output_type": "execute_result"
    }
   ],
   "source": [
    "names_to_symbols_dict = {}\n",
    "for key, pair in {\n",
    "    \"Bx\": Bx,\n",
    "    \"By\": By,\n",
    "    \"Vx\": Vx,\n",
    "    \"Vy\": Vy,\n",
    "    \"p\": p,\n",
    "    \"rho\": rho}.items():\n",
    "    for i, value in enumerate(pair):\n",
    "        names_to_symbols_dict[f\"{key}{i}\"] = value\n",
    "names_to_symbols_dict"
   ]
  },
  {
   "cell_type": "markdown",
   "metadata": {},
   "source": [
    "## Hydrodynamic approximation"
   ]
  },
  {
   "cell_type": "code",
   "execution_count": 103,
   "metadata": {},
   "outputs": [
    {
     "data": {
      "image/png": "[encoded data removed]",
      "text/latex": [
       "$\\displaystyle \\left\\{ {B_x}_{1} : 0, \\  {B_x}_{2} : 0, \\  {B_y}_{1} : 0, \\  {B_y}_{2} : 0\\right\\}$"
      ],
      "text/plain": [
       "{{B_x}_{1}: 0, {B_x}_{2}: 0, {B_y}_{1}: 0, {B_y}_{2}: 0}"
      ]
     },
     "execution_count": 103,
     "metadata": {},
     "output_type": "execute_result"
    }
   ],
   "source": [
    "hydrodynamics_substitutions = {\n",
    "    Bx[0]:0,\n",
    "    Bx[1]:0,\n",
    "    By[0]:0,\n",
    "    By[1]:0\n",
    "}"
   ]
  },
  {
   "cell_type": "code",
   "execution_count": 104,
   "metadata": {},
   "outputs": [
    {
     "data": {
      "image/png": "[encoded data removed]",
      "text/latex": [
       "$\\displaystyle \\left[ {V_x}_{1} {\\rho}_{1} = {V_x}_{2} {\\rho}_{2}, \\  {V_x}_{1}^{2} {\\rho}_{1} + {p}_{1} = {V_x}_{2}^{2} {\\rho}_{2} + {p}_{2}, \\  {V_x}_{1} {V_y}_{1} {\\rho}_{1} = {V_x}_{2} {V_y}_{2} {\\rho}_{2}, \\  \\frac{\\Gamma {V_x}_{1} {p}_{1}}{\\Gamma - 1} + 0.5 {V_x}_{1} {\\rho}_{1} \\left({V_x}_{1}^{2} + {V_y}_{1}^{2}\\right) = \\frac{\\Gamma {V_x}_{2} {p}_{2}}{\\Gamma - 1} + 0.5 {V_x}_{2} {\\rho}_{2} \\left({V_x}_{2}^{2} + {V_y}_{2}^{2}\\right)\\right]$"
      ],
      "text/plain": [
       "⎡                                                      2                      \n",
       "⎢{V_x}_{1}⋅{\\rho}_{1} = {V_x}_{2}⋅{\\rho}_{2}, {V_x}_{1} ⋅{\\rho}_{1} + {p}_{1} \n",
       "⎣                                                                             \n",
       "\n",
       "           2                                                                  \n",
       "= {V_x}_{2} ⋅{\\rho}_{2} + {p}_{2}, {V_x}_{1}⋅{V_y}_{1}⋅{\\rho}_{1} = {V_x}_{2}⋅\n",
       "                                                                              \n",
       "\n",
       "                      Γ⋅{V_x}_{1}⋅{p}_{1}                            ⎛        \n",
       "{V_y}_{2}⋅{\\rho}_{2}, ─────────────────── + 0.5⋅{V_x}_{1}⋅{\\rho}_{1}⋅⎝{V_x}_{1\n",
       "                             Γ - 1                                            \n",
       "\n",
       " 2            2⎞   Γ⋅{V_x}_{2}⋅{p}_{2}                            ⎛         2 \n",
       "}  + {V_y}_{1} ⎠ = ─────────────────── + 0.5⋅{V_x}_{2}⋅{\\rho}_{2}⋅⎝{V_x}_{2}  \n",
       "                          Γ - 1                                               \n",
       "\n",
       "           2⎞⎤\n",
       "+ {V_y}_{2} ⎠⎥\n",
       "             ⎦"
      ]
     },
     "execution_count": 104,
     "metadata": {},
     "output_type": "execute_result"
    }
   ],
   "source": [
    "hydrodynamic_equations = [equation.subs(hydrodynamics_substitutions) for equation in all_equations] \n",
    "hydrodynamic_equations = [equation for equation in hydrodynamic_equations if equation != True]"
   ]
  },
  {
   "cell_type": "markdown",
   "metadata": {},
   "source": [
    "## Initial interface design"
   ]
  },
  {
   "cell_type": "code",
   "execution_count": 106,
   "metadata": {},
   "outputs": [
    {
     "data": {
      "image/png": "[encoded data removed]",
      "text/latex": [
       "$\\displaystyle 1596786241.6416316$"
      ],
      "text/plain": [
       "1596786241.6416316"
      ]
     },
     "execution_count": 106,
     "metadata": {},
     "output_type": "execute_result"
    }
   ],
   "source": [
    "import time"
   ]
  },
  {
   "cell_type": "code",
   "execution_count": null,
   "metadata": {},
   "outputs": [
    {
     "name": "stdout",
     "output_type": "stream",
     "text": [
      "I'll try to solve for these unknowns:\n"
     ]
    },
    {
     "data": {
      "image/png": "[encoded data removed]",
      "text/latex": [
       "$\\displaystyle \\left[ {B_x}_{2}, \\  {B_y}_{2}, \\  {V_x}_{2}, \\  {V_y}_{2}, \\  {\\rho}_{2}, \\  {p}_{2}\\right]$"
      ],
      "text/plain": [
       "[{B_x}_{2}, {B_y}_{2}, {V_x}_{2}, {V_y}_{2}, {\\rho}_{2}, {p}_{2}]"
      ]
     },
     "metadata": {},
     "output_type": "display_data"
    },
    {
     "name": "stdout",
     "output_type": "stream",
     "text": [
      "Given these substitutions\n"
     ]
    },
    {
     "data": {
      "image/png": "[encoded data removed]",
      "text/latex": [
       "$\\displaystyle \\left\\{ {B_x}_{1} : 1, \\  {B_y}_{1} : 1, \\  {V_x}_{1} : 1, \\  {V_y}_{1} : 1, \\  {\\rho}_{1} : 1, \\  {p}_{1} : 1\\right\\}$"
      ],
      "text/plain": [
       "{{B_x}_{1}: 1, {B_y}_{1}: 1, {V_x}_{1}: 1, {V_y}_{1}: 1, {\\rho}_{1}: 1, {p}_{1\n",
       "}: 1}"
      ]
     },
     "metadata": {},
     "output_type": "display_data"
    },
    {
     "name": "stdout",
     "output_type": "stream",
     "text": [
      "These are the equations I'll be trying to solve:\n"
     ]
    },
    {
     "data": {
      "image/png": "[encoded data removed]",
      "text/latex": [
       "$\\displaystyle \\left[ 1 = {B_x}_{2}, \\  0 = - {B_x}_{2} {V_y}_{2} + {B_y}_{2} {V_x}_{2}, \\  1 = {V_x}_{2} {\\rho}_{2}, \\  2 + \\frac{1}{2 \\mu_0} = {V_x}_{2}^{2} {\\rho}_{2} + {p}_{2} + \\frac{{B_y}_{2}^{2}}{2 \\mu_0}, \\  1 - \\frac{1}{\\mu_0} = {V_x}_{2} {V_y}_{2} {\\rho}_{2} - \\frac{{B_x}_{2} {B_y}_{2}}{\\mu_0}, \\  \\frac{\\Gamma}{\\Gamma - 1} + 1.0 = \\frac{\\Gamma {V_x}_{2} {p}_{2}}{\\Gamma - 1} + 0.5 {V_x}_{2} {\\rho}_{2} \\left({V_x}_{2}^{2} + {V_y}_{2}^{2}\\right) + \\frac{{B_y}_{2} \\left(- {B_x}_{2} {V_y}_{2} + {B_y}_{2} {V_x}_{2}\\right)}{\\mu_0}\\right]$"
      ],
      "text/plain": [
       "⎡                                                                             \n",
       "⎢                                                                             \n",
       "⎢1 = {B_x}_{2}, 0 = -{B_x}_{2}⋅{V_y}_{2} + {B_y}_{2}⋅{V_x}_{2}, 1 = {V_x}_{2}⋅\n",
       "⎣                                                                             \n",
       "\n",
       "                                                                    2         \n",
       "                  1               2                        {B_y}_{2}        1 \n",
       "{\\rho}_{2}, 2 + ────── = {V_x}_{2} ⋅{\\rho}_{2} + {p}_{2} + ──────────, 1 - ───\n",
       "                2⋅\\mu₀                                       2⋅\\mu₀        \\mu\n",
       "\n",
       "                                                                              \n",
       "                                     {B_x}_{2}⋅{B_y}_{2}    Γ           Γ⋅{V_x\n",
       "─ = {V_x}_{2}⋅{V_y}_{2}⋅{\\rho}_{2} - ───────────────────, ───── + 1.0 = ──────\n",
       "₀                                            \\mu₀         Γ - 1               \n",
       "\n",
       "                                                                              \n",
       "}_{2}⋅{p}_{2}                            ⎛         2            2⎞   {B_y}_{2}\n",
       "───────────── + 0.5⋅{V_x}_{2}⋅{\\rho}_{2}⋅⎝{V_x}_{2}  + {V_y}_{2} ⎠ + ─────────\n",
       " Γ - 1                                                                        \n",
       "\n",
       "                                             ⎤\n",
       "⋅(-{B_x}_{2}⋅{V_y}_{2} + {B_y}_{2}⋅{V_x}_{2})⎥\n",
       "─────────────────────────────────────────────⎥\n",
       "                \\mu₀                         ⎦"
      ]
     },
     "metadata": {},
     "output_type": "display_data"
    },
    {
     "name": "stdout",
     "output_type": "stream",
     "text": [
      "Here I go!\n"
     ]
    }
   ],
   "source": [
    "def solve_RH(\n",
    "    Bx0 = None,\n",
    "    Bx1 = None,\n",
    "    By0 = None,\n",
    "    By1 = None,\n",
    "    Vx0 = None,\n",
    "    Vx1 = None,\n",
    "    Vy0 = None,\n",
    "    Vy1 = None,\n",
    "    rho0 = None,\n",
    "    rho1 = None,\n",
    "    p0 = None,\n",
    "    p1 = None,\n",
    "):\n",
    "    all_arguments = dict(\n",
    "        Bx0=Bx0,\n",
    "        Bx1=Bx1,\n",
    "        By0=By0,\n",
    "        By1=By1,\n",
    "        Vx0=Vx0,\n",
    "        Vx1=Vx1,\n",
    "        Vy0=Vy0,\n",
    "        Vy1=Vy1,\n",
    "        rho0=rho0,\n",
    "        rho1=rho1,\n",
    "        p0=p0,\n",
    "        p1=p1,\n",
    "    )\n",
    "    specified_arguments = {arg: value for arg, value in all_arguments.items() if value is not None}\n",
    "    assert len(specified_arguments) == 6, \"Problem is either overconstrained or underconstrained\"\n",
    "    solve_for_these = [names_to_symbols_dict[arg] for arg in all_arguments if arg not in specified_arguments]\n",
    "    print(\"I'll try to solve for these unknowns:\")\n",
    "    display(solve_for_these)\n",
    "    substitutions = {names_to_symbols_dict[key]: value for key, value in specified_arguments.items()}\n",
    "    \n",
    "    print(\"Given these substitutions\")\n",
    "    display(substitutions)\n",
    "    subs_equations = [eq.subs(substitutions) for eq in all_equations]\n",
    "    print(\"These are the equations I'll be trying to solve:\")\n",
    "    display(subs_equations)\n",
    "    print(\"Here I go!\")\n",
    "    start_time = time.time()\n",
    "    solution = sympy.solve(subs_equations, solve_for_these) # more wrapping will happen here, of course\n",
    "    end_time = time.time()\n",
    "    print(f\"That took {end_time - start_time:.2f}s... welp.\")\n",
    "    return solution\n",
    "    \n",
    "    \n",
    "solve_RH(\n",
    "    Bx0=1,\n",
    "    By0=1,\n",
    "    Vx0=1,\n",
    "    Vy0=1,\n",
    "    rho0=1,\n",
    "    p0=1\n",
    ")"
   ]
  }
 ],
 "metadata": {
  "kernelspec": {
   "display_name": "Python 3",
   "language": "python",
   "name": "python3"
  },
  "language_info": {
   "codemirror_mode": {
    "name": "ipython",
    "version": 3
   },
   "file_extension": ".py",
   "mimetype": "text/x-python",
   "name": "python",
   "nbconvert_exporter": "python",
   "pygments_lexer": "ipython3",
   "version": "3.8.2"
  },
  "widgets": {
   "application/vnd.jupyter.widget-state+json": {
    "state": {},
    "version_major": 2,
    "version_minor": 0
   }
  }
 },
 "nbformat": 4,
 "nbformat_minor": 4
}
