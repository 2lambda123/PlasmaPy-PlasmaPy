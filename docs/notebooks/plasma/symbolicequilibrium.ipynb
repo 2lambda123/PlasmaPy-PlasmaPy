{
 "cells": [
  {
   "cell_type": "markdown",
   "metadata": {},
   "source": [
    "# Flux surface"
   ]
  },
  {
   "cell_type": "code",
   "execution_count": null,
   "metadata": {},
   "outputs": [],
   "source": [
    "ITER = {\"aspect_ratio\": 0.32, \"A\": -0.155, \"elongation\": 1.7, \"triangularity\": 0.33}"
   ]
  },
  {
   "cell_type": "code",
   "execution_count": null,
   "metadata": {},
   "outputs": [],
   "source": [
    "from plasmapy.plasma import SymbolicEquilibrium\n",
    "\n",
    "assert ITER[\"triangularity\"] <= 0.841  # for convex plasma surfaces\n",
    "eq = SymbolicEquilibrium(**ITER, B0=5.2, config=\"single-null\")\n",
    "ax = eq.plot((0.6, 1.4, 0.001), (-0.6, 0.6, 0.001), vmax=-0)\n",
    "for psi_value in [0, -0.01, -0.02]:\n",
    "    fs = eq.get_flux_surface(psi_value)\n",
    "    fs.plot(ax, B=True, n=True)"
   ]
  },
  {
   "cell_type": "markdown",
   "metadata": {},
   "source": [
    "## On a grid"
   ]
  },
  {
   "cell_type": "code",
   "execution_count": null,
   "metadata": {
    "tags": []
   },
   "outputs": [],
   "source": [
    "levels = np.linspace(-0.03556, 0, 200)\n",
    "surfaces = [eq.get_flux_surface(level) for level in levels]\n",
    "\n",
    "# ax = eq.plot()\n",
    "ax = None\n",
    "for fs in surfaces:\n",
    "    ax = fs.plot(ax, legend=False)"
   ]
  },
  {
   "cell_type": "markdown",
   "metadata": {},
   "source": [
    "## One particular surface"
   ]
  },
  {
   "cell_type": "code",
   "execution_count": null,
   "metadata": {
    "incorrectly_encoded_metadata": "nbsphinx-thumbnail={\"tooltip\": \"An axisymmetric equilibrium flux surface\"}",
    "nbsphinx-thumbnail": {
     "tooltip": "An axisymmetric equilibrium flux surface"
    },
    "tags": []
   },
   "outputs": [],
   "source": [
    "ax = eq.plot()\n",
    "fs = eq.get_flux_surface(-0.01)\n",
    "fs.plot(ax, n=True);"
   ]
  }
 ],
 "metadata": {
  "kernelspec": {
   "display_name": "Python 3",
   "language": "python",
   "name": "python3"
  },
  "language_info": {
   "codemirror_mode": {
    "name": "ipython",
    "version": 3
   },
   "file_extension": ".py",
   "mimetype": "text/x-python",
   "name": "python",
   "nbconvert_exporter": "python",
   "pygments_lexer": "ipython3",
   "version": "3.9.2"
  },
  "widgets": {
   "application/vnd.jupyter.widget-state+json": {
    "state": {},
    "version_major": 2,
    "version_minor": 0
   }
  }
 },
 "nbformat": 4,
 "nbformat_minor": 4
}
