{
 "cells": [
  {
   "cell_type": "markdown",
   "metadata": {},
   "source": [
    "# Thomson Scattering Module"
   ]
  },
  {
   "cell_type": "code",
   "execution_count": 31,
   "metadata": {},
   "outputs": [],
   "source": [
    "import matplotlib.pyplot as plt\n",
    "import astropy.units as u\n",
    "import numpy as np\n",
    "\n",
    "import plasmapy.diagnostics.thomson as thomson"
   ]
  },
  {
   "cell_type": "markdown",
   "metadata": {},
   "source": [
    "Define sets of parameters for a variety of example cases"
   ]
  },
  {
   "cell_type": "code",
   "execution_count": 32,
   "metadata": {},
   "outputs": [],
   "source": [
    "# A single-species and stationary hydrogen plasma with densities and temperatures that mean scattering is\n",
    "# dominated by single-electron scattering (rather than collective multi-particle scattering)\n",
    "non_collective = {'name':'Non-Collective Regime', 'ne':5e15*u.cm**-3, 'Te':40*u.eV, 'Ti':np.array([10])*u.eV,\n",
    "                  'fract':np.array([1]), 'ion_z':np.array([1]), 'ion_mu':np.array([1]),\n",
    "                  'fluid_vel':np.array([0, 0, 0])*u.km/u.s, 'ion_vel':np.array([[0, 0, 0]])*u.km/u.s}\n",
    "\n",
    "# A single-species and stationary hydrogen plasma with densities and temperatures that mean scattering is\n",
    "# weakly collective (scattering paramter alpha approaching 1)\n",
    "weakly_collective = {'name':'Weakly Collective Regime', 'ne':2e17*u.cm**-3, 'Te':20*u.eV, 'Ti':np.array([10])*u.eV,\n",
    "                  'fract':np.array([1]), 'ion_z':np.array([1]), 'ion_mu':np.array([1]),\n",
    "                  'fluid_vel':np.array([0, 0, 0])*u.km/u.s, 'ion_vel':np.array([[0, 0, 0]])*u.km/u.s}\n",
    "\n",
    "# A single-species and stationary hydrogen plasma with densities and temperatures that mean scattering is\n",
    "# dominated by multi-particle scattering, including scattering off of ions.\n",
    "collective = {'name':'Collective Regime', 'ne':5e17*u.cm**-3, 'Te':10*u.eV, 'Ti':np.array([4])*u.eV,\n",
    "              'fract':np.array([1]), 'ion_z':np.array([1]), 'ion_mu':np.array([1]),\n",
    "              'fluid_vel':np.array([0, 0, 0])*u.km/u.s, 'ion_vel':np.array([[0, 0, 0]])*u.km/u.s}\n",
    "\n",
    "# Identical to the collective example above, except now the electron fluid has a substantial drift velocity parallel to the\n",
    "# probe laser and the ions have a drift (relative to the electrons) at an angle.\n",
    "drifts = {'name':'Drift Velocities', 'ne':5e17*u.cm**-3, 'Te':10*u.eV, 'Ti':np.array([10])*u.eV,\n",
    "          'fract':np.array([1]), 'ion_z':np.array([1]), 'ion_mu':np.array([1]),\n",
    "          'fluid_vel':np.array([700, 0, 0])*u.km/u.s, 'ion_vel':np.array([[-600, -100, 0]])*u.km/u.s}\n",
    "\n",
    "# Identical to the collective example, except now the plasma consists 25% He+1 and 75% C+5\n",
    "two_species = {'name':'Two Ion Species', 'ne':5e17*u.cm**-3, 'Te':10*u.eV, 'Ti':np.array([10, 50])*u.eV,\n",
    "               'fract':np.array([.25, .75]), 'ion_z':np.array([1,5]), 'ion_mu':np.array([4,12]),\n",
    "               'fluid_vel':np.array([0, 0, 0])*u.km/u.s, 'ion_vel':np.array([[0, 0, 0],[0, 0, 0]])*u.km/u.s}\n",
    "\n",
    "examples = [non_collective, weakly_collective, collective, drifts, two_species]"
   ]
  },
  {
   "cell_type": "markdown",
   "metadata": {},
   "source": [
    "Define some parameters that we won't change between the examples"
   ]
  },
  {
   "cell_type": "code",
   "execution_count": 33,
   "metadata": {},
   "outputs": [],
   "source": [
    "# The probe wavelength can in theory be anything, but in practice integer frequency multiples of the Nd:YAG wavelength\n",
    "# 1064 nm are used (532 corresponds to a frequency-doubled probe beam from such a laser).\n",
    "probe_wavelength = 532*u.nm\n",
    "\n",
    "# Wavelengths over which to calcualte the spectral distribution\n",
    "wavelengths = np.arange(probe_wavelength.value-60, probe_wavelength.value+60, 0.01)*u.nm\n",
    "\n",
    "# The scattering geometry is defined by unit vectors for the orientation of the probe laser beam (probe_n) and\n",
    "# the path from the scattering volume (where the measurement is made) to the detector (scatter_n).\n",
    "# These can be setup for any experimental geometry.\n",
    "probe_vec = np.array([1, 0, 0])\n",
    "scattering_angle = np.deg2rad(90)\n",
    "scatter_vec = np.array([np.cos(scattering_angle), np.sin(scattering_angle), 0])"
   ]
  },
  {
   "cell_type": "markdown",
   "metadata": {},
   "source": [
    "For each example, plot the the spectral distribution function over a large range to show the broad electron scattering feature (top row) and a narrow range around the probe wavelength to show the ion scattering feature (bottom row)"
   ]
  },
  {
   "cell_type": "code",
   "execution_count": 34,
   "metadata": {},
   "outputs": [
    {
     "ename": "TypeError",
     "evalue": "multiple values for argument 'fract'",
     "output_type": "error",
     "traceback": [
      "\u001b[1;31m---------------------------------------------------------------------------\u001b[0m",
      "\u001b[1;31mTypeError\u001b[0m                                 Traceback (most recent call last)",
      "\u001b[1;32m<ipython-input-34-cf677020b89d>\u001b[0m in \u001b[0;36m<module>\u001b[1;34m\u001b[0m\n\u001b[0;32m     10\u001b[0m                      \u001b[0mx\u001b[0m\u001b[1;33m[\u001b[0m\u001b[1;34m'ne'\u001b[0m\u001b[1;33m]\u001b[0m\u001b[1;33m,\u001b[0m \u001b[0mx\u001b[0m\u001b[1;33m[\u001b[0m\u001b[1;34m'Te'\u001b[0m\u001b[1;33m]\u001b[0m\u001b[1;33m,\u001b[0m \u001b[0mx\u001b[0m\u001b[1;33m[\u001b[0m\u001b[1;34m'Ti'\u001b[0m\u001b[1;33m]\u001b[0m\u001b[1;33m,\u001b[0m \u001b[0mfract\u001b[0m\u001b[1;33m=\u001b[0m\u001b[0mx\u001b[0m\u001b[1;33m[\u001b[0m\u001b[1;34m'fract'\u001b[0m\u001b[1;33m]\u001b[0m\u001b[1;33m,\u001b[0m\u001b[1;33m\u001b[0m\u001b[1;33m\u001b[0m\u001b[0m\n\u001b[0;32m     11\u001b[0m                      \u001b[0mion_z\u001b[0m\u001b[1;33m=\u001b[0m\u001b[0mx\u001b[0m\u001b[1;33m[\u001b[0m\u001b[1;34m'ion_z'\u001b[0m\u001b[1;33m]\u001b[0m\u001b[1;33m,\u001b[0m \u001b[0mion_mu\u001b[0m\u001b[1;33m=\u001b[0m\u001b[0mx\u001b[0m\u001b[1;33m[\u001b[0m\u001b[1;34m'ion_mu'\u001b[0m\u001b[1;33m]\u001b[0m\u001b[1;33m,\u001b[0m \u001b[0mion_vel\u001b[0m\u001b[1;33m=\u001b[0m\u001b[0mx\u001b[0m\u001b[1;33m[\u001b[0m\u001b[1;34m'ion_vel'\u001b[0m\u001b[1;33m]\u001b[0m\u001b[1;33m,\u001b[0m \u001b[0mfluid_vel\u001b[0m\u001b[1;33m=\u001b[0m\u001b[0mx\u001b[0m\u001b[1;33m[\u001b[0m\u001b[1;34m'fluid_vel'\u001b[0m\u001b[1;33m]\u001b[0m\u001b[1;33m,\u001b[0m\u001b[1;33m\u001b[0m\u001b[1;33m\u001b[0m\u001b[0m\n\u001b[1;32m---> 12\u001b[1;33m                      probe_vec=probe_vec, scatter_vec=scatter_vec)\n\u001b[0m\u001b[0;32m     13\u001b[0m \u001b[1;33m\u001b[0m\u001b[0m\n\u001b[0;32m     14\u001b[0m     \u001b[0max\u001b[0m\u001b[1;33m[\u001b[0m\u001b[1;36m0\u001b[0m\u001b[1;33m]\u001b[0m\u001b[1;33m[\u001b[0m\u001b[0mi\u001b[0m\u001b[1;33m]\u001b[0m\u001b[1;33m.\u001b[0m\u001b[0maxvline\u001b[0m\u001b[1;33m(\u001b[0m\u001b[0mx\u001b[0m\u001b[1;33m=\u001b[0m\u001b[0mprobe_wavelength\u001b[0m\u001b[1;33m.\u001b[0m\u001b[0mvalue\u001b[0m\u001b[1;33m,\u001b[0m \u001b[0mcolor\u001b[0m\u001b[1;33m=\u001b[0m\u001b[1;34m'red'\u001b[0m\u001b[1;33m)\u001b[0m  \u001b[1;31m# Mark the probe wavelength\u001b[0m\u001b[1;33m\u001b[0m\u001b[1;33m\u001b[0m\u001b[0m\n",
      "\u001b[1;32mc:\\users\\peter\\documents\\github\\plasmapy\\plasmapy\\utils\\decorators\\helpers.py\u001b[0m in \u001b[0;36mwrapper\u001b[1;34m(*args, **kwargs)\u001b[0m\n\u001b[0;32m     42\u001b[0m     \u001b[1;33m@\u001b[0m\u001b[0mfunctools\u001b[0m\u001b[1;33m.\u001b[0m\u001b[0mwraps\u001b[0m\u001b[1;33m(\u001b[0m\u001b[0mf\u001b[0m\u001b[1;33m,\u001b[0m \u001b[0massigned\u001b[0m\u001b[1;33m=\u001b[0m\u001b[0massigned\u001b[0m\u001b[1;33m)\u001b[0m\u001b[1;33m\u001b[0m\u001b[1;33m\u001b[0m\u001b[0m\n\u001b[0;32m     43\u001b[0m     \u001b[1;32mdef\u001b[0m \u001b[0mwrapper\u001b[0m\u001b[1;33m(\u001b[0m\u001b[1;33m*\u001b[0m\u001b[0margs\u001b[0m\u001b[1;33m,\u001b[0m \u001b[1;33m**\u001b[0m\u001b[0mkwargs\u001b[0m\u001b[1;33m)\u001b[0m\u001b[1;33m:\u001b[0m\u001b[1;33m\u001b[0m\u001b[1;33m\u001b[0m\u001b[0m\n\u001b[1;32m---> 44\u001b[1;33m         \u001b[1;32mreturn\u001b[0m \u001b[0mf\u001b[0m\u001b[1;33m(\u001b[0m\u001b[1;33m*\u001b[0m\u001b[0margs\u001b[0m\u001b[1;33m,\u001b[0m \u001b[1;33m**\u001b[0m\u001b[0mkwargs\u001b[0m\u001b[1;33m)\u001b[0m\u001b[1;33m\u001b[0m\u001b[1;33m\u001b[0m\u001b[0m\n\u001b[0m\u001b[0;32m     45\u001b[0m \u001b[1;33m\u001b[0m\u001b[0m\n\u001b[0;32m     46\u001b[0m     \u001b[1;31m# add '__signature__' if it does not exist\u001b[0m\u001b[1;33m\u001b[0m\u001b[1;33m\u001b[0m\u001b[1;33m\u001b[0m\u001b[0m\n",
      "\u001b[1;32mc:\\users\\peter\\documents\\github\\plasmapy\\plasmapy\\utils\\decorators\\validators.py\u001b[0m in \u001b[0;36mwrapper\u001b[1;34m(*args, **kwargs)\u001b[0m\n\u001b[0;32m    182\u001b[0m         \u001b[1;32mdef\u001b[0m \u001b[0mwrapper\u001b[0m\u001b[1;33m(\u001b[0m\u001b[1;33m*\u001b[0m\u001b[0margs\u001b[0m\u001b[1;33m,\u001b[0m \u001b[1;33m**\u001b[0m\u001b[0mkwargs\u001b[0m\u001b[1;33m)\u001b[0m\u001b[1;33m:\u001b[0m\u001b[1;33m\u001b[0m\u001b[1;33m\u001b[0m\u001b[0m\n\u001b[0;32m    183\u001b[0m             \u001b[1;31m# combine args and kwargs into dictionary\u001b[0m\u001b[1;33m\u001b[0m\u001b[1;33m\u001b[0m\u001b[1;33m\u001b[0m\u001b[0m\n\u001b[1;32m--> 184\u001b[1;33m             \u001b[0mbound_args\u001b[0m \u001b[1;33m=\u001b[0m \u001b[0mwrapped_sign\u001b[0m\u001b[1;33m.\u001b[0m\u001b[0mbind\u001b[0m\u001b[1;33m(\u001b[0m\u001b[1;33m*\u001b[0m\u001b[0margs\u001b[0m\u001b[1;33m,\u001b[0m \u001b[1;33m**\u001b[0m\u001b[0mkwargs\u001b[0m\u001b[1;33m)\u001b[0m\u001b[1;33m\u001b[0m\u001b[1;33m\u001b[0m\u001b[0m\n\u001b[0m\u001b[0;32m    185\u001b[0m             \u001b[0mbound_args\u001b[0m\u001b[1;33m.\u001b[0m\u001b[0mapply_defaults\u001b[0m\u001b[1;33m(\u001b[0m\u001b[1;33m)\u001b[0m\u001b[1;33m\u001b[0m\u001b[1;33m\u001b[0m\u001b[0m\n\u001b[0;32m    186\u001b[0m \u001b[1;33m\u001b[0m\u001b[0m\n",
      "\u001b[1;32m~\\Anaconda3\\envs\\plasmapy\\lib\\inspect.py\u001b[0m in \u001b[0;36mbind\u001b[1;34m(*args, **kwargs)\u001b[0m\n\u001b[0;32m   3013\u001b[0m         \u001b[1;32mif\u001b[0m \u001b[0mthe\u001b[0m \u001b[0mpassed\u001b[0m \u001b[0marguments\u001b[0m \u001b[0mcan\u001b[0m \u001b[1;32mnot\u001b[0m \u001b[0mbe\u001b[0m \u001b[0mbound\u001b[0m\u001b[1;33m.\u001b[0m\u001b[1;33m\u001b[0m\u001b[1;33m\u001b[0m\u001b[0m\n\u001b[0;32m   3014\u001b[0m         \"\"\"\n\u001b[1;32m-> 3015\u001b[1;33m         \u001b[1;32mreturn\u001b[0m \u001b[0margs\u001b[0m\u001b[1;33m[\u001b[0m\u001b[1;36m0\u001b[0m\u001b[1;33m]\u001b[0m\u001b[1;33m.\u001b[0m\u001b[0m_bind\u001b[0m\u001b[1;33m(\u001b[0m\u001b[0margs\u001b[0m\u001b[1;33m[\u001b[0m\u001b[1;36m1\u001b[0m\u001b[1;33m:\u001b[0m\u001b[1;33m]\u001b[0m\u001b[1;33m,\u001b[0m \u001b[0mkwargs\u001b[0m\u001b[1;33m)\u001b[0m\u001b[1;33m\u001b[0m\u001b[1;33m\u001b[0m\u001b[0m\n\u001b[0m\u001b[0;32m   3016\u001b[0m \u001b[1;33m\u001b[0m\u001b[0m\n\u001b[0;32m   3017\u001b[0m     \u001b[1;32mdef\u001b[0m \u001b[0mbind_partial\u001b[0m\u001b[1;33m(\u001b[0m\u001b[1;33m*\u001b[0m\u001b[0margs\u001b[0m\u001b[1;33m,\u001b[0m \u001b[1;33m**\u001b[0m\u001b[0mkwargs\u001b[0m\u001b[1;33m)\u001b[0m\u001b[1;33m:\u001b[0m\u001b[1;33m\u001b[0m\u001b[1;33m\u001b[0m\u001b[0m\n",
      "\u001b[1;32m~\\Anaconda3\\envs\\plasmapy\\lib\\inspect.py\u001b[0m in \u001b[0;36m_bind\u001b[1;34m(self, args, kwargs, partial)\u001b[0m\n\u001b[0;32m   2954\u001b[0m                         raise TypeError(\n\u001b[0;32m   2955\u001b[0m                             'multiple values for argument {arg!r}'.format(\n\u001b[1;32m-> 2956\u001b[1;33m                                 arg=param.name)) from None\n\u001b[0m\u001b[0;32m   2957\u001b[0m \u001b[1;33m\u001b[0m\u001b[0m\n\u001b[0;32m   2958\u001b[0m                     \u001b[0marguments\u001b[0m\u001b[1;33m[\u001b[0m\u001b[0mparam\u001b[0m\u001b[1;33m.\u001b[0m\u001b[0mname\u001b[0m\u001b[1;33m]\u001b[0m \u001b[1;33m=\u001b[0m \u001b[0marg_val\u001b[0m\u001b[1;33m\u001b[0m\u001b[1;33m\u001b[0m\u001b[0m\n",
      "\u001b[1;31mTypeError\u001b[0m: multiple values for argument 'fract'"
     ]
    },
    {
     "data": {
      "image/png": "[encoded data removed]",
      "text/plain": [
       "<Figure size 1800x720 with 10 Axes>"
      ]
     },
     "metadata": {
      "needs_background": "light"
     },
     "output_type": "display_data"
    }
   ],
   "source": [
    "fig, ax = plt.subplots(ncols=len(examples), nrows=2, figsize=[25,10])\n",
    "fig.subplots_adjust( wspace=0.4, hspace=0.4)\n",
    "\n",
    "lbls = 'abcdefg'\n",
    "\n",
    "for i, x in enumerate(examples):\n",
    "    \n",
    "    \n",
    "    alpha, Skw = thomson.spectral_density(wavelengths, probe_wavelength,\n",
    "                     x['ne'], x['Te'], x['Ti'], fract=x['fract'],\n",
    "                     ion_z=x['ion_z'], ion_mu=x['ion_mu'], ion_vel=x['ion_vel'], fluid_vel=x['fluid_vel'],\n",
    "                     probe_vec=probe_vec, scatter_vec=scatter_vec)\n",
    "    \n",
    "    ax[0][i].axvline(x=probe_wavelength.value, color='red')  # Mark the probe wavelength\n",
    "    ax[0][i].plot(wavelengths, Skw)\n",
    "    ax[0][i].set_xlim(probe_wavelength.value-15, probe_wavelength.value+15)\n",
    "    ax[0][i].set_ylim(0, 1e-13)\n",
    "    ax[0][i].set_xlabel('$\\lambda$ (nm)')\n",
    "    \n",
    "    ax[0][i].set_title( lbls[i] + ') ' + x['name'] + '\\n$\\\\alpha$={:.4f}'.format(alpha))\n",
    "\n",
    "    \n",
    "    ax[1][i].axvline(x=probe_wavelength.value, color='red')  # Mark the probe wavelength\n",
    "    ax[1][i].plot(wavelengths, Skw)\n",
    "    ax[1][i].set_xlim(probe_wavelength.value-1, probe_wavelength.value+1)\n",
    "    ax[1][i].set_ylim(0, 1.1*np.max(Skw.value))\n",
    "    ax[1][i].set_xlabel('$\\lambda$ (nm)')\n",
    "    \n",
    "    "
   ]
  },
  {
   "cell_type": "markdown",
   "metadata": {},
   "source": [
    "Plots of the spectral density function (Skw) which determines the amount of light scattered into different wavelengths.\n",
    "- a) In the non-collective regime only the electron feature is visible.\n",
    "- b) In the weakly collective regime (alpha approaches 1) an ion feature starts to appear and the electron feature is distorted\n",
    "- c) In the collective regime both features split into two peaks, corresponding to scattering off of forward and backwards propagating plasma oscillations. \n",
    "- d) The introduction of drift velocities introduces several Doppler shifts in the calculations, resulting in a shifted spectrum.\n",
    "- e) Changing the ion species present changes the resulting ion feature."
   ]
  },
  {
   "cell_type": "code",
   "execution_count": null,
   "metadata": {},
   "outputs": [],
   "source": []
  }
 ],
 "metadata": {
  "kernelspec": {
   "display_name": "Python 3",
   "language": "python",
   "name": "python3"
  },
  "language_info": {
   "codemirror_mode": {
    "name": "ipython",
    "version": 3
   },
   "file_extension": ".py",
   "mimetype": "text/x-python",
   "name": "python",
   "nbconvert_exporter": "python",
   "pygments_lexer": "ipython3",
   "version": "3.7.6"
  }
 },
 "nbformat": 4,
 "nbformat_minor": 4
}
