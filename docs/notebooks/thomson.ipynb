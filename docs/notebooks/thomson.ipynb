{
 "cells": [
  {
   "cell_type": "markdown",
   "metadata": {},
   "source": [
    "# Thomson Scattering Module"
   ]
  },
  {
   "cell_type": "code",
   "execution_count": null,
   "metadata": {},
   "outputs": [],
   "source": [
    "import matplotlib.pyplot as plt\n",
    "import astropy.units as u\n",
    "import numpy as np\n",
    "\n",
    "import plasmapy.diagnostics.thomson as thomson"
   ]
  },
  {
   "cell_type": "markdown",
   "metadata": {},
   "source": [
    "Define sets of parameters for a variety of example cases"
   ]
  },
  {
   "cell_type": "code",
   "execution_count": null,
   "metadata": {},
   "outputs": [],
   "source": [
    "# A single-species and stationary hydrogen plasma with densities and temperatures that mean scattering is\n",
    "# dominated by single-electron scattering (rather than collective multi-particle scattering)\n",
    "non_collective = {'name':'Non-Collective Regime', 'ne':5e15*u.cm**-3, 'Te':40*u.eV, 'Ti':np.array([10])*u.eV,\n",
    "                  'fract':np.array([1]), 'ion_z':np.array([1]), 'ion_mu':np.array([1]),\n",
    "                  'fluid_vel':np.array([0, 0, 0])*u.km/u.s, 'ion_vel':np.array([[0, 0, 0]])*u.km/u.s}\n",
    "\n",
    "# A single-species and stationary hydrogen plasma with densities and temperatures that mean scattering is\n",
    "# weakly collective (scattering paramter alpha approaching 1)\n",
    "weakly_collective = {'name':'Weakly Collective Regime', 'ne':2e17*u.cm**-3, 'Te':20*u.eV, 'Ti':np.array([10])*u.eV,\n",
    "                  'fract':np.array([1]), 'ion_z':np.array([1]), 'ion_mu':np.array([1]),\n",
    "                  'fluid_vel':np.array([0, 0, 0])*u.km/u.s, 'ion_vel':np.array([[0, 0, 0]])*u.km/u.s}\n",
    "\n",
    "# A single-species and stationary hydrogen plasma with densities and temperatures that mean scattering is\n",
    "# dominated by multi-particle scattering, including scattering off of ions.\n",
    "collective = {'name':'Collective Regime', 'ne':5e17*u.cm**-3, 'Te':10*u.eV, 'Ti':np.array([4])*u.eV,\n",
    "              'fract':np.array([1]), 'ion_z':np.array([1]), 'ion_mu':np.array([1]),\n",
    "              'fluid_vel':np.array([0, 0, 0])*u.km/u.s, 'ion_vel':np.array([[0, 0, 0]])*u.km/u.s}\n",
    "\n",
    "# Identical to the collective example above, except now the electron fluid has a substantial drift velocity parallel to the\n",
    "# probe laser and the ions have a drift (relative to the electrons) at an angle.\n",
    "drifts = {'name':'Drift Velocities', 'ne':5e17*u.cm**-3, 'Te':10*u.eV, 'Ti':np.array([10])*u.eV,\n",
    "          'fract':np.array([1]), 'ion_z':np.array([1]), 'ion_mu':np.array([1]),\n",
    "          'fluid_vel':np.array([700, 0, 0])*u.km/u.s, 'ion_vel':np.array([[-600, -100, 0]])*u.km/u.s}\n",
    "\n",
    "# Identical to the collective example, except now the plasma consists 25% He+1 and 75% C+5\n",
    "two_species = {'name':'Two Ion Species', 'ne':5e17*u.cm**-3, 'Te':10*u.eV, 'Ti':np.array([10, 50])*u.eV,\n",
    "               'fract':np.array([.25, .75]), 'ion_z':np.array([1,5]), 'ion_mu':np.array([4,12]),\n",
    "               'fluid_vel':np.array([0, 0, 0])*u.km/u.s, 'ion_vel':np.array([[0, 0, 0],[0, 0, 0]])*u.km/u.s}\n",
    "\n",
    "examples = [non_collective, weakly_collective, collective, drifts, two_species]"
   ]
  },
  {
   "cell_type": "markdown",
   "metadata": {},
   "source": [
    "Define some parameters that we won't change between the examples"
   ]
  },
  {
   "cell_type": "code",
   "execution_count": null,
   "metadata": {},
   "outputs": [],
   "source": [
    "# The probe wavelength can in theory be anything, but in practice integer frequency multiples of the Nd:YAG wavelength\n",
    "# 1064 nm are used (532 corresponds to a frequency-doubled probe beam from such a laser).\n",
    "probe_wavelength = 532*u.nm\n",
    "\n",
    "# Wavelengths over which to calcualte the spectral distribution\n",
    "wavelength = np.arange(probe_wavelength.value-60, probe_wavelength.value+60, 0.01)*u.nm\n",
    "\n",
    "# The scattering geometry is defined by unit vectors for the orientation of the probe laser beam (probe_n) and\n",
    "# the path from the scattering volume (where the measurement is made) to the detector (scatter_n).\n",
    "# These can be setup for any experimental geometry.\n",
    "probe_vec = np.array([1, 0, 0])\n",
    "scattering_angle = np.deg2rad(90)\n",
    "scatter_vec = np.array([np.cos(scattering_angle), np.sin(scattering_angle), 0])"
   ]
  },
  {
   "cell_type": "markdown",
   "metadata": {},
   "source": [
    "For each example, plot the the spectral distribution function over a large range to show the broad electron scattering feature (top row) and a narrow range around the probe wavelength to show the ion scattering feature (bottom row)"
   ]
  },
  {
   "cell_type": "code",
   "execution_count": null,
   "metadata": {},
   "outputs": [],
   "source": [
    "fig, ax = plt.subplots(ncols=len(examples), nrows=2, figsize=[25,10])\n",
    "fig.subplots_adjust( wspace=0.4, hspace=0.4)\n",
    "\n",
    "lbls = 'abcdefg'\n",
    "\n",
    "for i, x in enumerate(examples):\n",
    "    \n",
    "    alpha, Skw = thomson.spectral_density(wavelength, probe_wavelength=probe_wavelength,\n",
    "                     ne=x['ne'], fract =x['fract'], Te=x['Te'], Ti=x['Ti'],\n",
    "                     ion_z=x['ion_z'], ion_mu=x['ion_mu'], ion_vel=x['ion_vel'], fluid_vel=x['fluid_vel'],\n",
    "                     probe_vec=probe_vec, scatter_vec=scatter_vec)\n",
    "    \n",
    "    ax[0][i].axvline(x=probe_wavelength.value, color='red')  # Mark the probe wavelength\n",
    "    ax[0][i].plot(wavelength, Skw)\n",
    "    ax[0][i].set_xlim(probe_wavelength.value-15, probe_wavelength.value+15)\n",
    "    ax[0][i].set_ylim(0, 1e-13)\n",
    "    ax[0][i].set_xlabel('$\\lambda$ (nm)')\n",
    "    \n",
    "    ax[0][i].set_title( lbls[i] + ') ' + x['name'] + '\\n$\\\\alpha$={:.4f}'.format(alpha))\n",
    "\n",
    "    \n",
    "    ax[1][i].axvline(x=probe_wavelength.value, color='red')  # Mark the probe wavelength\n",
    "    ax[1][i].plot(wavelength, Skw)\n",
    "    ax[1][i].set_xlim(probe_wavelength.value-1, probe_wavelength.value+1)\n",
    "    ax[1][i].set_ylim(0, 1.1*np.max(Skw.value))\n",
    "    ax[1][i].set_xlabel('$\\lambda$ (nm)')\n",
    "    \n",
    "    "
   ]
  },
  {
   "cell_type": "markdown",
   "metadata": {},
   "source": [
    "Plots of the spectral density function (Skw) which determines the amount of light scattered into different wavelengths.\n",
    "- a) In the non-collective regime only the electron feature is visible.\n",
    "- b) In the weakly collective regime (alpha approaches 1) an ion feature starts to appear and the electron feature is distorted\n",
    "- c) In the collective regime both features split into two peaks, corresponding to scattering off of forward and backwards propagating plasma oscillations. \n",
    "- d) The introduction of drift velocities introduces several Doppler shifts in the calculations, resulting in a shifted spectrum.\n",
    "- e) Changing the ion species present changes the resulting ion feature."
   ]
  },
  {
   "cell_type": "code",
   "execution_count": null,
   "metadata": {},
   "outputs": [],
   "source": []
  }
 ],
 "metadata": {
  "kernelspec": {
   "display_name": "Python 3",
   "language": "python",
   "name": "python3"
  },
  "language_info": {
   "codemirror_mode": {
    "name": "ipython",
    "version": 3
   },
   "file_extension": ".py",
   "mimetype": "text/x-python",
   "name": "python",
   "nbconvert_exporter": "python",
   "pygments_lexer": "ipython3",
   "version": "3.7.6"
  }
 },
 "nbformat": 4,
 "nbformat_minor": 4
}
