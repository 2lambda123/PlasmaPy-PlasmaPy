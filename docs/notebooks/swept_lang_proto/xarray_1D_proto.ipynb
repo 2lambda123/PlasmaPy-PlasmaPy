{
 "cells": [
  {
   "cell_type": "markdown",
   "metadata": {},
   "source": [
    "# Prototyping the Swept Langmuir Diagnostic\n",
    "\n",
    "### Table of Contents\n",
    "\n",
    "1. [Import Packages](#Import-Packages)\n",
    "1. [Enable the Swept Langmuir Diagnostic](#Enable-the-Swept-Langmuir-Diagnostic)\n",
    "1. [Build the `xarray.Dataset` for Swept Langmuir Analysis](#Build-the-xarray.Dataset-for-Swept-Langmuir-Analysis)\n",
    "\n",
    "## Import Packages"
   ]
  },
  {
   "cell_type": "code",
   "execution_count": 6,
   "metadata": {},
   "outputs": [],
   "source": [
    "%matplotlib inline\n",
    "\n",
    "import astropy.units as u\n",
    "import numpy as np\n",
    "import os\n",
    "import sys\n",
    "import xarray as xr\n",
    "\n",
    "from plasmapy.diagnostics import xdiagnostics"
   ]
  },
  {
   "cell_type": "markdown",
   "metadata": {},
   "source": [
    "## Enable the Swept Langmuir Diagnostic\n",
    "\n",
    "By default `plasmapy` does not register any of its `xarray.Dataset` accessors to avoid polution of the namespace and reduce overhead of importing unnecessary code.  Instead, we provide the `xdiagnostics` object so the user can enable the `xarray.Dataset` accessor(s) he or she wants.  Just executing `xdiagnostics` will show what diagnosics are available and enabled/disabled."
   ]
  },
  {
   "cell_type": "code",
   "execution_count": 2,
   "metadata": {},
   "outputs": [
    {
     "data": {
      "text/plain": [
       "<plasmapy.diagnostics.core.XDiagnosticEnabler object at 0x1168db690>\n",
       "\n",
       "Enabled   Available Diagnostic\n",
       "    [ ]   swept_langmuir"
      ]
     },
     "execution_count": 2,
     "metadata": {},
     "output_type": "execute_result"
    }
   ],
   "source": [
    "xdiagnostics"
   ]
  },
  {
   "cell_type": "code",
   "execution_count": 4,
   "metadata": {
    "collapsed": false,
    "jupyter": {
     "outputs_hidden": false
    },
    "pycharm": {
     "name": "#%%\n"
    }
   },
   "outputs": [
    {
     "data": {
      "text/plain": [
       "<plasmapy.diagnostics.core.XDiagnosticEnabler object at 0x1168db690>\n",
       "\n",
       "Enabled   Available Diagnostic\n",
       "    [x]   swept_langmuir"
      ]
     },
     "execution_count": 4,
     "metadata": {},
     "output_type": "execute_result"
    }
   ],
   "source": [
    "xdiagnostics.enable('swept_langmuir')\n",
    "xdiagnostics"
   ]
  },
  {
   "cell_type": "code",
   "execution_count": null,
   "metadata": {
    "collapsed": false,
    "jupyter": {
     "outputs_hidden": false
    },
    "pycharm": {
     "name": "#%%\n"
    }
   },
   "outputs": [],
   "source": [
    "## Build the `xarray.Dataset` for Swept Langmuir Analysis"
   ]
  },
  {
   "cell_type": "code",
   "execution_count": null,
   "metadata": {
    "collapsed": false,
    "jupyter": {
     "outputs_hidden": false
    },
    "pycharm": {
     "name": "#%%\n"
    }
   },
   "outputs": [],
   "source": [
    "dir(ds.swept_langmuir)\n"
   ]
  },
  {
   "cell_type": "code",
   "execution_count": null,
   "metadata": {},
   "outputs": [],
   "source": []
  }
 ],
 "metadata": {
  "kernelspec": {
   "display_name": "Python 3",
   "language": "python",
   "name": "python3"
  },
  "language_info": {
   "codemirror_mode": {
    "name": "ipython",
    "version": 3
   },
   "file_extension": ".py",
   "mimetype": "text/x-python",
   "name": "python",
   "nbconvert_exporter": "python",
   "pygments_lexer": "ipython3",
   "version": "3.7.6"
  }
 },
 "nbformat": 4,
 "nbformat_minor": 4
}