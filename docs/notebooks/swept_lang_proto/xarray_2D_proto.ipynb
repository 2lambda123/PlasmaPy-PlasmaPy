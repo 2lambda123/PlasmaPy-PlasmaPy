{
 "cells": [
  {
   "cell_type": "markdown",
   "metadata": {},
   "source": [
    "# Prototyping the Swept Langmuir Diagnostic\n",
    "\n",
    "This notebook will focus on the mechanics of operating on 2D DataArrays where one dimension is `shot_index` and the second is `time_index`.  **This notebook is for prototyping purposes and will either be deleted or converted into a documentaiton notebook when the protoyping is finished.**\n",
    "\n",
    "### Table of Contents\n",
    "\n",
    "1. [Import Packages](#Import-Packages)\n",
    "1. [Enable the Swept Langmuir Diagnostic](#Enable-the-Swept-Langmuir-Diagnostic)\n",
    "1. [Build the `xarray.Dataset`](#Build-the-xarray.Dataset)\n",
    "\n",
    "## Import Packages"
   ]
  },
  {
   "cell_type": "code",
   "execution_count": null,
   "metadata": {},
   "outputs": [],
   "source": [
    "%matplotlib inline\n",
    "\n",
    "import astropy.units as u\n",
    "import numpy as np\n",
    "import os\n",
    "import pandas as pd\n",
    "import sys\n",
    "import xarray as xr\n",
    "\n",
    "from numbers import Number\n",
    "from typing import Mapping, Hashable, Any\n",
    "from warnings import warn\n",
    "from xarray.core.utils import either_dict_or_kwargs\n",
    "from xarray.core.coordinates import remap_label_indexers\n",
    "\n",
    "from plasmapy import __file__ as plasmapy_file\n",
    "from plasmapy.diagnostics import xdiagnostics\n",
    "from plasmapy.utils.exceptions import PlasmaPyError, PlasmaPyWarning\n",
    "\n",
    "plasmapy_dir = os.path.dirname(os.path.abspath(plasmapy_file))"
   ]
  },
  {
   "cell_type": "markdown",
   "metadata": {},
   "source": [
    "## Enable the Swept Langmuir Diagnostic\n",
    "\n",
    "By default `plasmapy` does not register any of its `xarray.Dataset` accessors to avoid polution of the namespace and reduce overhead of importing unnecessary code.  Instead, we provide the `xdiagnostics` object so the user can enable the `xarray.Dataset` accessor(s) he or she wants.  Just executing `xdiagnostics` will show what diagnosics are available and enabled/disabled."
   ]
  },
  {
   "cell_type": "code",
   "execution_count": null,
   "metadata": {},
   "outputs": [],
   "source": [
    "xdiagnostics"
   ]
  },
  {
   "cell_type": "code",
   "execution_count": null,
   "metadata": {},
   "outputs": [],
   "source": [
    "hasattr(xr.Dataset, \"swept_langmuir\")"
   ]
  },
  {
   "cell_type": "code",
   "execution_count": null,
   "metadata": {
    "collapsed": false,
    "jupyter": {
     "outputs_hidden": false
    },
    "pycharm": {
     "name": "#%%\n"
    }
   },
   "outputs": [],
   "source": [
    "# xdiagnostics.enable('swept_langmuir')\n",
    "xdiagnostics.enable('swept_langmuir', rename=\"slang\")\n",
    "xdiagnostics"
   ]
  },
  {
   "cell_type": "code",
   "execution_count": null,
   "metadata": {},
   "outputs": [],
   "source": [
    "(hasattr(xr.Dataset, \"swept_langmuir\"),\n",
    " hasattr(xr.Dataset, \"slang\"),\n",
    ")"
   ]
  },
  {
   "cell_type": "markdown",
   "metadata": {
    "jupyter": {
     "outputs_hidden": false
    },
    "pycharm": {
     "name": "#%%\n"
    }
   },
   "source": [
    "## Build the `xarray.Dataset`\n",
    "\n",
    "- The `Dataset` needs to have two `DataArray`s named `voltage` and `current`.\n",
    "- The `DataArray`'s are either 1D or 2D.\n",
    "- The `DataArray`'s have to have matching `dims` and `shape`.\n",
    "- The names of the dimesions do not matter, since the **diagnostic** is agnostic towards the names but the order does matter.\n",
    "  - Dims for 1D: `dims=[\"time_index\"]`\n",
    "  - Dims for 2D: `dims=[\"signal_index\", \"time_index\"]`"
   ]
  },
  {
   "cell_type": "code",
   "execution_count": null,
   "metadata": {
    "collapsed": false,
    "jupyter": {
     "outputs_hidden": false
    },
    "pycharm": {
     "name": "#%%\n"
    }
   },
   "outputs": [],
   "source": [
    "# Load the bias and current values stored in the example file\n",
    "path = os.path.abspath(os.path.join(\n",
    "    plasmapy_dir, '..','docs', \"notebooks\", \"langmuir_samples\", \"Beckers2017.npy\"\n",
    "))\n",
    "bias, current = np.load(path)\n",
    "bias = np.tile(bias, (4, 1))\n",
    "current = np.tile(current, (4, 1))\n",
    "\n",
    "# voltage DataArray\n",
    "da_volt = xr.DataArray(bias,\n",
    "                       dims=['shotnum', 'time'],\n",
    "                       name='voltage')\n",
    "\n",
    "# current DataArray\n",
    "da_curr = xr.DataArray(current,\n",
    "                       dims=['shotnum', 'time'],\n",
    "                       name='current')\n",
    "\n",
    "# Build coordinate arrays\n",
    "shotnum = np.arange(10, 14)\n",
    "time = np.arange(bias.shape[1]) * 0.1\n",
    "\n",
    "\n",
    "# build dataset\n",
    "ds = xr.Dataset(\n",
    "    {da_volt.name: da_volt,\n",
    "     da_curr.name: da_curr},\n",
    "#     coords={\"shotnum\": (\"shotnum\", shotnum),\n",
    "#             \"time\": (\"time\", time)},\n",
    "        coords={\"shotnum\": (\"shotnum\", shotnum)},\n",
    ")\n",
    "\n",
    "# initialize Dataset with swept langmuir components\n",
    "ds.slang\n",
    "\n",
    "# artificlaly adjust start and stop indices for shotnum 11\n",
    "ds[\"id_wstart\"].loc[dict(id={\"id_signum\": 11, \"id_swpnum\": 0})] = 100 # * 0.1\n",
    "ds[\"id_wstop\"].loc[dict(id={\"id_signum\": 11, \"id_swpnum\": 0})] = 200 # * 0.1\n",
    "\n",
    "# show dataset\n",
    "ds"
   ]
  },
  {
   "cell_type": "code",
   "execution_count": null,
   "metadata": {},
   "outputs": [],
   "source": [
    "ds.sel(id=(11, 0))"
   ]
  },
  {
   "cell_type": "markdown",
   "metadata": {},
   "source": [
    "### Select a Sweep based in its ID"
   ]
  },
  {
   "cell_type": "code",
   "execution_count": null,
   "metadata": {},
   "outputs": [],
   "source": [
    "indexers = ds.slang.sel_indexers(id=(11,0))\n",
    "print(indexers)\n",
    "ds.slang.sel(id=(11, 0))\n",
    "# ds.loc[indexers]"
   ]
  },
  {
   "cell_type": "code",
   "execution_count": null,
   "metadata": {},
   "outputs": [],
   "source": [
    "# How many sweeps does signal number 11 have?\n",
    "ds.slang.sweep_count(11)"
   ]
  },
  {
   "cell_type": "code",
   "execution_count": null,
   "metadata": {},
   "outputs": [],
   "source": [
    "ds.slang.sel(id=(11, 0)).plot.scatter(x='voltage', y='current')"
   ]
  },
  {
   "cell_type": "markdown",
   "metadata": {},
   "source": [
    "The sweep window can be overridden"
   ]
  },
  {
   "cell_type": "code",
   "execution_count": null,
   "metadata": {},
   "outputs": [],
   "source": [
    "ds.slang.sel(id=(11, 0), time=slice(None)).plot.scatter(x='voltage', y='current')"
   ]
  },
  {
   "cell_type": "code",
   "execution_count": null,
   "metadata": {},
   "outputs": [],
   "source": [
    "def smooth(a, window_len=10):\n",
    "    s=np.r_[a[window_len-1:0:-1], a, a[-2:-window_len-1:-1]]\n",
    "    w = np.ones(window_len, 'd')\n",
    "    sm = np.convolve(w / w.sum(), s, mode='valid')\n",
    "    return sm\n",
    "\n",
    "smooth(ds.slang.sel(id=(11, 0)).current)"
   ]
  },
  {
   "cell_type": "code",
   "execution_count": null,
   "metadata": {},
   "outputs": [],
   "source": [
    "# midx = pd.MultiIndex.from_tuples([(10, 0),\n",
    "#                                   (11, 0),\n",
    "#                                   (11, 1)], names=[\"sid\", \"tid\"])\n",
    "# midx\n",
    "# ds.coords[\"id\"] = (\"id\", midx)\n",
    "# ds.coords[\"id_num\"] = (\"id\", np.arange(ds.coords[\"id\"].size))\n",
    "# ds.coords\n",
    "\n",
    "def sel_(ds, indexers: Mapping[Hashable, Any] = None, method: str = None, tolerance: Number = None, drop: bool = False, **indexers_kwargs: Any) -> Mapping[Hashable, Any]:\n",
    "    _shot_index = \"shotnum\"\n",
    "    _time_index = \"time_index\"\n",
    "    _id_index = \"id\"\n",
    "    _id_shot = \"s\" + _id_index\n",
    "    _id_trace = \"tr\" + _id_index\n",
    "    _id_wstart = _id_index + \"_wstart\"\n",
    "    _id_wstop = _id_index + \"_wstop\"\n",
    "    \n",
    "    indexers = either_dict_or_kwargs(indexers, indexers_kwargs, \"swept_langmuir.index\")\n",
    "\n",
    "    if _id_index in indexers and _shot_index in indexers:\n",
    "        print(f\"{_id_index} and {_shot_index}\")\n",
    "        \n",
    "        raise ValueErrors(\n",
    "            f\"I'm not smart enough to resolve indexing using both {_id_index} and \"\n",
    "            f\"{_shot_index}, use just one.\"\n",
    "        )\n",
    "    elif _id_index in indexers:\n",
    "        # generate sel for shot index\n",
    "        sn = ds[_id_shot].sel({_id_index: indexers[_id_index]}).data\n",
    "        indexers[_shot_index] = sn\n",
    "        \n",
    "        # generate sel for time index\n",
    "        if _time_index in indexers:\n",
    "            # let the id time interval be overruled by _time_index\n",
    "            pass\n",
    "        else:\n",
    "            wstart = ds[_id_wstart].sel({_id_index: indexers[_id_index]}).data\n",
    "            wstop = ds[_id_wstop].sel({_id_index: indexers[_id_index]}).data\n",
    "            indexers[_time_index] = slice(np.min(wstart), np.max(wstop))\n",
    "    elif _shot_index in indexers and _time_index in indexers:\n",
    "        # need to filter for both sid's and trid's\n",
    "        \n",
    "        # get shot index values\n",
    "        sn = indexers[_shot_index]\n",
    "        \n",
    "        # get trace index values\n",
    "        # pick id's where any time value falls between wstart and wstop\n",
    "#         mask = xr.where((ds[_id_wstart] >= np.min(indexers[_time_index])) \n",
    "#                         & (ds[_id_wstop] <= np.max(indexers[_time_index])), True, False).data\n",
    "        warn(f\"I'm not smart enough to select trace id's '{_id_trace}' based on \"\"\n",
    "             f\"time index '{_time_index}' values.  Only filtering for shot index values\", PlasmaPyWarning)\n",
    "        \n",
    "    elif _shot_index in indexers:\n",
    "        # need to filter for sid only\n",
    "        pass\n",
    "    elif _time_index in indexers:\n",
    "        # need to filert for trid only\n",
    "        pass\n",
    "\n",
    "#     pos_indexers, new_indexes = remap_label_indexers(\n",
    "#         ds, indexers=indexers, method=method, tolerance=tolerance\n",
    "#     )\n",
    "#     result = ds.isel(indexers=pos_indexers, drop=drop)\n",
    "#     return result._overwrite_indexes(new_indexes)\n",
    "#     return ds\n",
    "\n",
    "#     return ds.sel(indexers=indexers, method=method, tolerance=tolerance, drop=drop)\n",
    "    return indexers\n",
    "\n",
    "# ds.sel(id={\"sid\": 11, \"trid\": 0})\n",
    "# indexers = index(ds, id={\"sid\": 11, \"trid\": 0})\n",
    "indexers = sel_(ds, id=([10],))\n",
    "# sn = ds[\"sid\"].sel(indexers).data\n",
    "# ds.sel(shotnum=sn)\n",
    "# ds[\"id\"].sel(id=slice(15))\n",
    "print(indexers)\n",
    "ds.sel(indexers).plot.scatter(x=\"voltage\", y=\"current\")"
   ]
  },
  {
   "cell_type": "code",
   "execution_count": null,
   "metadata": {},
   "outputs": [],
   "source": [
    "mask = xr.where((ds.coords[\"id_wstart\"] >= 50) & (ds.coords[\"id_wstop\"] <= 300), True, False).data\n",
    "ds[\"trid\"][mask].data"
   ]
  },
  {
   "cell_type": "code",
   "execution_count": null,
   "metadata": {},
   "outputs": [],
   "source": [
    "# data = ds.sel(id={\"sid\": 11, \"trid\": 0})\n",
    "data = ds[\"id\"].sel(id=([11, 12], [0]))\n",
    "# data = ds[\"id\"].isel(id=0)\n",
    "# data[\"id\"].data.tolist()\n",
    "# ds\n",
    "\n",
    "# dir(data[\"id\"].data)\n",
    "\n",
    "\n",
    "# data[\"id\"].data\n",
    "\n",
    "data"
   ]
  },
  {
   "cell_type": "code",
   "execution_count": null,
   "metadata": {},
   "outputs": [],
   "source": [
    "ds.coords[\"pname\"] = (\"pname\", [\"vf\", \"Isat\", \"Te\", \"vp\"])\n",
    "ds.coords[\"pquantity\"] = (\"pquantity\", [\"value\", \"error\"])\n",
    "ds[\"parameters\"] = ((\"id\", \"pname\", \"pquantity\"), np.tile(np.nan, (ds[\"id\"].size, ds[\"pname\"].size, ds[\"pquantity\"].size)))\n",
    "ds"
   ]
  },
  {
   "cell_type": "code",
   "execution_count": null,
   "metadata": {},
   "outputs": [],
   "source": [
    "ds.slang.sel(id=(11,0))\n"
   ]
  },
  {
   "cell_type": "code",
   "execution_count": null,
   "metadata": {},
   "outputs": [],
   "source": [
    "ds.voltage.dims == ds.current.dims\n",
    "ds.voltage.shape\n"
   ]
  },
  {
   "cell_type": "code",
   "execution_count": null,
   "metadata": {},
   "outputs": [],
   "source": [
    "f\"voltage {ds.voltage.shape}\""
   ]
  },
  {
   "cell_type": "code",
   "execution_count": null,
   "metadata": {},
   "outputs": [],
   "source": [
    "ds[\"id\"].size"
   ]
  },
  {
   "cell_type": "code",
   "execution_count": null,
   "metadata": {},
   "outputs": [],
   "source": [
    "pd.MultiIndex.from_product([ds[\"time_index\"], [0]], names=[\"sid\", \"trid\"])"
   ]
  },
  {
   "cell_type": "code",
   "execution_count": null,
   "metadata": {},
   "outputs": [],
   "source": [
    "np.repeat(0, 5)"
   ]
  },
  {
   "cell_type": "code",
   "execution_count": null,
   "metadata": {},
   "outputs": [],
   "source": [
    "ds.coords[\"id\"] = np.arange(ds.current.shape[0])"
   ]
  },
  {
   "cell_type": "code",
   "execution_count": null,
   "metadata": {},
   "outputs": [],
   "source": [
    "# del ds[\"id\"]\n",
    "# ds.expand_dims(\"id\")\n",
    "# ds.coords[\"id\"] = (\"id\", [0])\n",
    "# ds.assign_coords({\n",
    "#     \"id_istop\": (\"id\", np.array([0])),\n",
    "# })\n",
    "ds.coords[\"id_start\"] = (\"id\", [5])\n",
    "ds"
   ]
  },
  {
   "cell_type": "code",
   "execution_count": null,
   "metadata": {},
   "outputs": [],
   "source": [
    "names = data.dtype.names\n",
    "del names['signal']\n",
    "\n",
    "xa = xr.DataArray(data['signal'], dims=[\"shotnum\", \"time\"], name=\"rename\")\n",
    "\n",
    "for name in names:\n",
    "    if name = 'xyz':\n",
    "        pass\n",
    "    else:\n",
    "        xa.coord[name] = data[name]\n",
    "    "
   ]
  }
 ],
 "metadata": {
  "kernelspec": {
   "display_name": "Python 3",
   "language": "python",
   "name": "python3"
  },
  "language_info": {
   "codemirror_mode": {
    "name": "ipython",
    "version": 3
   },
   "file_extension": ".py",
   "mimetype": "text/x-python",
   "name": "python",
   "nbconvert_exporter": "python",
   "pygments_lexer": "ipython3",
   "version": "3.7.6"
  }
 },
 "nbformat": 4,
 "nbformat_minor": 4
}
