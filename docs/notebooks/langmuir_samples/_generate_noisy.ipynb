{
 "cells": [
  {
   "cell_type": "markdown",
   "metadata": {},
   "source": [
    "# Generate noisy signals\n",
    "\n",
    "The default langmuir samples are not noisy and, thus, do not properly reflect real world data.  This notebook will add noise to the signals to help simulate real world data."
   ]
  },
  {
   "cell_type": "code",
   "execution_count": 8,
   "metadata": {},
   "outputs": [],
   "source": [
    "import astropy.units as u\n",
    "import numpy as np\n",
    "import os\n",
    "\n",
    "from plasmapy.utils.decorators import validate_quantities"
   ]
  },
  {
   "cell_type": "code",
   "execution_count": 9,
   "metadata": {},
   "outputs": [],
   "source": [
    "# noise generator\n",
    "@validate_quantities\n",
    "def add_noise(signal, snr_db: u.dB = 10 * u.dB):\n",
    "    sig_pwr = signal ** 2\n",
    "    sig_pwr_ave = np.mean(sig_pwr)\n",
    "    sig_pwr_ave_db = 10. * np.log10(sig_pwr_ave)\n",
    "    \n",
    "    noise_pwr_ave_db = sig_pwr_ave_db - snr_db.value\n",
    "    noise_pwr_ave = 10.0 ** (noise_pwr_ave_db / 10.0)\n",
    "    \n",
    "    noise = np.random.normal(0.0, np.sqrt(noise_pwr_ave), signal.size)\n",
    "    \n",
    "    return signal + noise"
   ]
  },
  {
   "cell_type": "code",
   "execution_count": 10,
   "metadata": {},
   "outputs": [],
   "source": [
    "# read in example data\n",
    "# this can be found at \n",
    "#   https://github.com/PlasmaPy/PlasmaPy/blob/master/docs/notebooks/langmuir_samples/Beckers2017.npy\n",
    "#\n",
    "filename = \"Beckers2017.npy\"\n",
    "samples_path = os.path.join(os.path.abspath(\"./\"))\n",
    "path = os.path.join(samples_path, filename)\n",
    "voltage, current = np.load(path)\n",
    "\n",
    "# add some artificial noise to simulate reliztic digitized signals\n",
    "voltage = add_noise(voltage, 38 * u.dB)\n",
    "current = add_noise(current, 28 * u.dB)"
   ]
  },
  {
   "cell_type": "code",
   "execution_count": 11,
   "metadata": {},
   "outputs": [],
   "source": [
    "save = False\n",
    "if save:\n",
    "    save_path = os.path.join(samples_path, filename + \"_noisy.npy\")\n",
    "    with open(save_path, \"wb\") as fp:\n",
    "        np.save(fp, [voltage, current])"
   ]
  }
 ],
 "metadata": {
  "kernelspec": {
   "display_name": "plasmapy37-nb",
   "language": "python",
   "name": "plasmapy37-nb"
  },
  "language_info": {
   "codemirror_mode": {
    "name": "ipython",
    "version": 3
   },
   "file_extension": ".py",
   "mimetype": "text/x-python",
   "name": "python",
   "nbconvert_exporter": "python",
   "pygments_lexer": "ipython3",
   "version": "3.7.6"
  },
  "nbsphinx": {
   "orphan": true
  }
 },
 "nbformat": 4,
 "nbformat_minor": 4
}
