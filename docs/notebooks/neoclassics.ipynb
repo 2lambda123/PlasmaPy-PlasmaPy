{
 "cells": [
  {
   "cell_type": "markdown",
   "metadata": {},
   "source": [
    "# Neoclassical transport calculations for axisymmetric plasmas"
   ]
  },
  {
   "cell_type": "markdown",
   "metadata": {},
   "source": [
    "## Define particles in our simulation"
   ]
  },
  {
   "cell_type": "code",
   "execution_count": null,
   "metadata": {},
   "outputs": [],
   "source": [
    "import astropy.units as u\n",
    "\n",
    "from plasmapy.particles import IonizationStateCollection\n",
    "\n",
    "all_species = IonizationStateCollection(\n",
    "    {\n",
    "        \"H\": [0, 1],\n",
    "        #      \"D\": [0, 1],   raises ParticleError, why?\n",
    "        \"C\": [0, 0, 0, 0, 0, 0, 1],\n",
    "    },\n",
    "    n0=1e20 * u.m ** -3,\n",
    "    abundances={\"H\": 1, \"C\": 0.08},\n",
    "    T_e=10 * u.eV,\n",
    ")"
   ]
  },
  {
   "cell_type": "markdown",
   "metadata": {},
   "source": [
    "## `SymbolicEquilibrium`"
   ]
  },
  {
   "cell_type": "code",
   "execution_count": null,
   "metadata": {},
   "outputs": [],
   "source": [
    "from plasmapy.plasma.symbolicequilibrium import SymbolicEquilibrium\n",
    "\n",
    "params = {\"aspect_ratio\": 0.32, \"A\": -0.155, \"elongation\": 1.7, \"triangularity\": 0.33}\n",
    "eq = SymbolicEquilibrium(**params, B0=5.2, config=\"single-null\")\n",
    "eq.plot();"
   ]
  },
  {
   "cell_type": "markdown",
   "metadata": {},
   "source": [
    "## `FluxSurface`"
   ]
  },
  {
   "cell_type": "code",
   "execution_count": null,
   "metadata": {},
   "outputs": [],
   "source": [
    "ax = eq.plot()\n",
    "flux_surface = eq.get_flux_surface(-0.01)\n",
    "flux_surface.plot(ax, n=True);"
   ]
  },
  {
   "cell_type": "markdown",
   "metadata": {},
   "source": [
    "## Multiple flux surfaces - radial grid"
   ]
  },
  {
   "cell_type": "code",
   "execution_count": null,
   "metadata": {},
   "outputs": [],
   "source": [
    "ax = eq.plot()\n",
    "for fs in eq.get_multiple_flux_surfaces(np.linspace(-0.037228, 0, 50)):\n",
    "    fs.plot(ax)\n",
    "ax.legend().remove()"
   ]
  },
  {
   "cell_type": "markdown",
   "metadata": {},
   "source": [
    "## `FlowCalculator`"
   ]
  },
  {
   "cell_type": "code",
   "execution_count": null,
   "metadata": {},
   "outputs": [],
   "source": [
    "from plasmapy.transport.flows import FlowCalculator\n",
    "\n",
    "density_gradient = {\n",
    "    \"H 1+\": 1e18 * u.m ** -3 / u.m,\n",
    "    \"C 1+\": 1e18 * u.m ** -3 / u.m,\n",
    "}\n",
    "temperature_gradient = {\n",
    "    \"H 1+\": -10 * u.K / u.m,\n",
    "    \"C 1+\": -10 * u.K / u.m,\n",
    "}\n",
    "\n",
    "fc = FlowCalculator(all_species, flux_surface, density_gradient, temperature_gradient)"
   ]
  },
  {
   "cell_type": "markdown",
   "metadata": {},
   "source": [
    "### Bootstrap current"
   ]
  },
  {
   "cell_type": "code",
   "execution_count": null,
   "metadata": {},
   "outputs": [],
   "source": [
    "fc.bootstrap_current.si  # TODO should be A/m^2? missing a magnetic field in the denominator somewhere?"
   ]
  },
  {
   "cell_type": "code",
   "execution_count": null,
   "metadata": {},
   "outputs": [],
   "source": [
    "(fc.bootstrap_current / u.T).to(u.A / u.m ** 2)"
   ]
  },
  {
   "cell_type": "markdown",
   "metadata": {},
   "source": [
    "### Fluxes\n",
    "\n",
    "The units are horribly off for each of them atm."
   ]
  },
  {
   "cell_type": "code",
   "execution_count": null,
   "metadata": {},
   "outputs": [],
   "source": [
    "flux_unit = u.m ** -2 / u.s"
   ]
  },
  {
   "cell_type": "code",
   "execution_count": null,
   "metadata": {},
   "outputs": [],
   "source": [
    "fc._fluxes_BP"
   ]
  },
  {
   "cell_type": "code",
   "execution_count": null,
   "metadata": {},
   "outputs": [],
   "source": [
    "fc._fluxes_BP[\"H 1+\"].particle_flux.to(flux_unit)"
   ]
  },
  {
   "cell_type": "code",
   "execution_count": null,
   "metadata": {},
   "outputs": [],
   "source": [
    "fc._fluxes_BP[\"H 1+\"].heat_flux.to(u.J * flux_unit)"
   ]
  },
  {
   "cell_type": "code",
   "execution_count": null,
   "metadata": {},
   "outputs": [],
   "source": [
    "fc._fluxes_CL"
   ]
  },
  {
   "cell_type": "code",
   "execution_count": null,
   "metadata": {},
   "outputs": [],
   "source": [
    "(fc._fluxes_CL[\"H 1+\"].particle_flux / (u.kg / u.s / u.m ** 4)).to(flux_unit)"
   ]
  },
  {
   "cell_type": "code",
   "execution_count": null,
   "metadata": {},
   "outputs": [],
   "source": [
    "(fc._fluxes_CL[\"H 1+\"].heat_flux / (u.kg / u.s / u.m ** 4)).to(u.J * flux_unit)"
   ]
  },
  {
   "cell_type": "code",
   "execution_count": null,
   "metadata": {},
   "outputs": [],
   "source": [
    "fc._fluxes_PS"
   ]
  },
  {
   "cell_type": "code",
   "execution_count": null,
   "metadata": {},
   "outputs": [],
   "source": [
    "(fc._fluxes_PS[\"H 1+\"].particle_flux / (u.kg / u.s / u.m ** 3)).to(flux_unit)"
   ]
  },
  {
   "cell_type": "code",
   "execution_count": null,
   "metadata": {},
   "outputs": [],
   "source": [
    "(fc._fluxes_PS[\"H 1+\"].heat_flux / (u.kg / u.s / u.m ** 3)).to(u.J * flux_unit)"
   ]
  }
 ],
 "metadata": {
  "jupytext": {
   "cell_metadata_filter": "tags,incorrectly_encoded_metadata,-all",
   "main_language": "python",
   "notebook_metadata_filter": "-all"
  },
  "kernelspec": {
   "display_name": "Python 3",
   "language": "python",
   "name": "python3"
  },
  "language_info": {
   "codemirror_mode": {
    "name": "ipython",
    "version": 3
   },
   "file_extension": ".py",
   "mimetype": "text/x-python",
   "name": "python",
   "nbconvert_exporter": "python",
   "pygments_lexer": "ipython3",
   "version": "3.9.3"
  },
  "toc-autonumbering": false,
  "toc-showcode": false,
  "toc-showmarkdowntxt": false,
  "widgets": {
   "application/vnd.jupyter.widget-state+json": {
    "state": {},
    "version_major": 2,
    "version_minor": 0
   }
  }
 },
 "nbformat": 4,
 "nbformat_minor": 4
}
