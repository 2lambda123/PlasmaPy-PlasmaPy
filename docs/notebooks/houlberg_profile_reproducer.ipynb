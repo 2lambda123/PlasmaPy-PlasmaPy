{
 "cells": [
  {
   "cell_type": "markdown",
   "id": "859acbf3-5ca3-4657-8b41-e42dcd0ed547",
   "metadata": {
    "extensions": {
     "jupyter_dashboards": {
      "activeView": "grid_default",
      "views": {
       "grid_default": {
        "col": null,
        "height": 2,
        "hidden": true,
        "row": null,
        "width": 2
       }
      }
     }
    },
    "tags": []
   },
   "source": [
    "# Houlberg profile reproducer 1"
   ]
  },
  {
   "cell_type": "code",
   "execution_count": 1,
   "id": "b6f8d3b1-ddb4-43d5-b42a-34dc0aeb85cb",
   "metadata": {
    "extensions": {
     "jupyter_dashboards": {
      "activeView": "grid_default",
      "views": {
       "grid_default": {
        "col": null,
        "height": 2,
        "hidden": true,
        "row": null,
        "width": 2
       }
      }
     }
    }
   },
   "outputs": [],
   "source": [
    "import pandas as pd\n",
    "import matplotlib.pyplot as plt\n",
    "import sympy"
   ]
  },
  {
   "cell_type": "code",
   "execution_count": 2,
   "id": "08d0fd25-bd71-4eb9-8783-1c84672d8b6a",
   "metadata": {
    "extensions": {
     "jupyter_dashboards": {
      "activeView": "grid_default",
      "views": {
       "grid_default": {
        "col": 0,
        "height": 3,
        "hidden": false,
        "row": 0,
        "width": 4
       }
      }
     }
    }
   },
   "outputs": [
    {
     "ename": "FileNotFoundError",
     "evalue": "[Errno 2] No such file or directory: '/home/dominik/Code/IFPILM/Magisterka/houlberg-profiles.csv'",
     "output_type": "error",
     "traceback": [
      "\u001b[0;31m---------------------------------------------------------------------------\u001b[0m",
      "\u001b[0;31mFileNotFoundError\u001b[0m                         Traceback (most recent call last)",
      "\u001b[0;32m<ipython-input-2-ca7f85bd38c2>\u001b[0m in \u001b[0;36m<module>\u001b[0;34m\u001b[0m\n\u001b[0;32m----> 1\u001b[0;31m \u001b[0mT_data\u001b[0m \u001b[0;34m=\u001b[0m \u001b[0mpd\u001b[0m\u001b[0;34m.\u001b[0m\u001b[0mread_csv\u001b[0m\u001b[0;34m(\u001b[0m\u001b[0;34m\"/home/dominik/Code/IFPILM/Magisterka/houlberg-profiles.csv\"\u001b[0m\u001b[0;34m)\u001b[0m\u001b[0;34m\u001b[0m\u001b[0;34m\u001b[0m\u001b[0m\n\u001b[0m\u001b[1;32m      2\u001b[0m \u001b[0mT_data\u001b[0m\u001b[0;34m.\u001b[0m\u001b[0miloc\u001b[0m\u001b[0;34m[\u001b[0m\u001b[0;36m0\u001b[0m\u001b[0;34m]\u001b[0m \u001b[0;34m=\u001b[0m \u001b[0;34m{\u001b[0m\u001b[0;34m\"x\"\u001b[0m\u001b[0;34m:\u001b[0m \u001b[0;36m0\u001b[0m\u001b[0;34m,\u001b[0m \u001b[0;34m\"ToverT0\"\u001b[0m\u001b[0;34m:\u001b[0m \u001b[0;36m1\u001b[0m\u001b[0;34m,\u001b[0m \u001b[0;34m\"neoverne0\"\u001b[0m\u001b[0;34m:\u001b[0m \u001b[0;36m1\u001b[0m\u001b[0;34m}\u001b[0m\u001b[0;34m\u001b[0m\u001b[0;34m\u001b[0m\u001b[0m\n\u001b[1;32m      3\u001b[0m \u001b[0mT_data\u001b[0m\u001b[0;34m.\u001b[0m\u001b[0miloc\u001b[0m\u001b[0;34m[\u001b[0m\u001b[0;34m-\u001b[0m\u001b[0;36m1\u001b[0m\u001b[0;34m]\u001b[0m\u001b[0;34m[\u001b[0m\u001b[0;34m\"x\"\u001b[0m\u001b[0;34m]\u001b[0m \u001b[0;34m=\u001b[0m \u001b[0;36m1\u001b[0m\u001b[0;34m\u001b[0m\u001b[0;34m\u001b[0m\u001b[0m\n\u001b[1;32m      4\u001b[0m \u001b[0;34m\u001b[0m\u001b[0m\n\u001b[1;32m      5\u001b[0m \u001b[0mzeff\u001b[0m \u001b[0;34m=\u001b[0m \u001b[0mpd\u001b[0m\u001b[0;34m.\u001b[0m\u001b[0mread_csv\u001b[0m\u001b[0;34m(\u001b[0m\u001b[0;34m\"/home/dominik/Code/IFPILM/Magisterka/houlberg-profiles-zeff.csv\"\u001b[0m\u001b[0;34m)\u001b[0m\u001b[0;34m\u001b[0m\u001b[0;34m\u001b[0m\u001b[0m\n",
      "\u001b[0;32m/usr/lib/python3.9/site-packages/pandas/io/parsers.py\u001b[0m in \u001b[0;36mread_csv\u001b[0;34m(filepath_or_buffer, sep, delimiter, header, names, index_col, usecols, squeeze, prefix, mangle_dupe_cols, dtype, engine, converters, true_values, false_values, skipinitialspace, skiprows, skipfooter, nrows, na_values, keep_default_na, na_filter, verbose, skip_blank_lines, parse_dates, infer_datetime_format, keep_date_col, date_parser, dayfirst, cache_dates, iterator, chunksize, compression, thousands, decimal, lineterminator, quotechar, quoting, doublequote, escapechar, comment, encoding, dialect, error_bad_lines, warn_bad_lines, delim_whitespace, low_memory, memory_map, float_precision, storage_options)\u001b[0m\n\u001b[1;32m    608\u001b[0m     \u001b[0mkwds\u001b[0m\u001b[0;34m.\u001b[0m\u001b[0mupdate\u001b[0m\u001b[0;34m(\u001b[0m\u001b[0mkwds_defaults\u001b[0m\u001b[0;34m)\u001b[0m\u001b[0;34m\u001b[0m\u001b[0;34m\u001b[0m\u001b[0m\n\u001b[1;32m    609\u001b[0m \u001b[0;34m\u001b[0m\u001b[0m\n\u001b[0;32m--> 610\u001b[0;31m     \u001b[0;32mreturn\u001b[0m \u001b[0m_read\u001b[0m\u001b[0;34m(\u001b[0m\u001b[0mfilepath_or_buffer\u001b[0m\u001b[0;34m,\u001b[0m \u001b[0mkwds\u001b[0m\u001b[0;34m)\u001b[0m\u001b[0;34m\u001b[0m\u001b[0;34m\u001b[0m\u001b[0m\n\u001b[0m\u001b[1;32m    611\u001b[0m \u001b[0;34m\u001b[0m\u001b[0m\n\u001b[1;32m    612\u001b[0m \u001b[0;34m\u001b[0m\u001b[0m\n",
      "\u001b[0;32m/usr/lib/python3.9/site-packages/pandas/io/parsers.py\u001b[0m in \u001b[0;36m_read\u001b[0;34m(filepath_or_buffer, kwds)\u001b[0m\n\u001b[1;32m    460\u001b[0m \u001b[0;34m\u001b[0m\u001b[0m\n\u001b[1;32m    461\u001b[0m     \u001b[0;31m# Create the parser.\u001b[0m\u001b[0;34m\u001b[0m\u001b[0;34m\u001b[0m\u001b[0;34m\u001b[0m\u001b[0m\n\u001b[0;32m--> 462\u001b[0;31m     \u001b[0mparser\u001b[0m \u001b[0;34m=\u001b[0m \u001b[0mTextFileReader\u001b[0m\u001b[0;34m(\u001b[0m\u001b[0mfilepath_or_buffer\u001b[0m\u001b[0;34m,\u001b[0m \u001b[0;34m**\u001b[0m\u001b[0mkwds\u001b[0m\u001b[0;34m)\u001b[0m\u001b[0;34m\u001b[0m\u001b[0;34m\u001b[0m\u001b[0m\n\u001b[0m\u001b[1;32m    463\u001b[0m \u001b[0;34m\u001b[0m\u001b[0m\n\u001b[1;32m    464\u001b[0m     \u001b[0;32mif\u001b[0m \u001b[0mchunksize\u001b[0m \u001b[0;32mor\u001b[0m \u001b[0miterator\u001b[0m\u001b[0;34m:\u001b[0m\u001b[0;34m\u001b[0m\u001b[0;34m\u001b[0m\u001b[0m\n",
      "\u001b[0;32m/usr/lib/python3.9/site-packages/pandas/io/parsers.py\u001b[0m in \u001b[0;36m__init__\u001b[0;34m(self, f, engine, **kwds)\u001b[0m\n\u001b[1;32m    817\u001b[0m             \u001b[0mself\u001b[0m\u001b[0;34m.\u001b[0m\u001b[0moptions\u001b[0m\u001b[0;34m[\u001b[0m\u001b[0;34m\"has_index_names\"\u001b[0m\u001b[0;34m]\u001b[0m \u001b[0;34m=\u001b[0m \u001b[0mkwds\u001b[0m\u001b[0;34m[\u001b[0m\u001b[0;34m\"has_index_names\"\u001b[0m\u001b[0;34m]\u001b[0m\u001b[0;34m\u001b[0m\u001b[0;34m\u001b[0m\u001b[0m\n\u001b[1;32m    818\u001b[0m \u001b[0;34m\u001b[0m\u001b[0m\n\u001b[0;32m--> 819\u001b[0;31m         \u001b[0mself\u001b[0m\u001b[0;34m.\u001b[0m\u001b[0m_engine\u001b[0m \u001b[0;34m=\u001b[0m \u001b[0mself\u001b[0m\u001b[0;34m.\u001b[0m\u001b[0m_make_engine\u001b[0m\u001b[0;34m(\u001b[0m\u001b[0mself\u001b[0m\u001b[0;34m.\u001b[0m\u001b[0mengine\u001b[0m\u001b[0;34m)\u001b[0m\u001b[0;34m\u001b[0m\u001b[0;34m\u001b[0m\u001b[0m\n\u001b[0m\u001b[1;32m    820\u001b[0m \u001b[0;34m\u001b[0m\u001b[0m\n\u001b[1;32m    821\u001b[0m     \u001b[0;32mdef\u001b[0m \u001b[0mclose\u001b[0m\u001b[0;34m(\u001b[0m\u001b[0mself\u001b[0m\u001b[0;34m)\u001b[0m\u001b[0;34m:\u001b[0m\u001b[0;34m\u001b[0m\u001b[0;34m\u001b[0m\u001b[0m\n",
      "\u001b[0;32m/usr/lib/python3.9/site-packages/pandas/io/parsers.py\u001b[0m in \u001b[0;36m_make_engine\u001b[0;34m(self, engine)\u001b[0m\n\u001b[1;32m   1048\u001b[0m             )\n\u001b[1;32m   1049\u001b[0m         \u001b[0;31m# error: Too many arguments for \"ParserBase\"\u001b[0m\u001b[0;34m\u001b[0m\u001b[0;34m\u001b[0m\u001b[0;34m\u001b[0m\u001b[0m\n\u001b[0;32m-> 1050\u001b[0;31m         \u001b[0;32mreturn\u001b[0m \u001b[0mmapping\u001b[0m\u001b[0;34m[\u001b[0m\u001b[0mengine\u001b[0m\u001b[0;34m]\u001b[0m\u001b[0;34m(\u001b[0m\u001b[0mself\u001b[0m\u001b[0;34m.\u001b[0m\u001b[0mf\u001b[0m\u001b[0;34m,\u001b[0m \u001b[0;34m**\u001b[0m\u001b[0mself\u001b[0m\u001b[0;34m.\u001b[0m\u001b[0moptions\u001b[0m\u001b[0;34m)\u001b[0m  \u001b[0;31m# type: ignore[call-arg]\u001b[0m\u001b[0;34m\u001b[0m\u001b[0;34m\u001b[0m\u001b[0m\n\u001b[0m\u001b[1;32m   1051\u001b[0m \u001b[0;34m\u001b[0m\u001b[0m\n\u001b[1;32m   1052\u001b[0m     \u001b[0;32mdef\u001b[0m \u001b[0m_failover_to_python\u001b[0m\u001b[0;34m(\u001b[0m\u001b[0mself\u001b[0m\u001b[0;34m)\u001b[0m\u001b[0;34m:\u001b[0m\u001b[0;34m\u001b[0m\u001b[0;34m\u001b[0m\u001b[0m\n",
      "\u001b[0;32m/usr/lib/python3.9/site-packages/pandas/io/parsers.py\u001b[0m in \u001b[0;36m__init__\u001b[0;34m(self, src, **kwds)\u001b[0m\n\u001b[1;32m   1865\u001b[0m \u001b[0;34m\u001b[0m\u001b[0m\n\u001b[1;32m   1866\u001b[0m         \u001b[0;31m# open handles\u001b[0m\u001b[0;34m\u001b[0m\u001b[0;34m\u001b[0m\u001b[0;34m\u001b[0m\u001b[0m\n\u001b[0;32m-> 1867\u001b[0;31m         \u001b[0mself\u001b[0m\u001b[0;34m.\u001b[0m\u001b[0m_open_handles\u001b[0m\u001b[0;34m(\u001b[0m\u001b[0msrc\u001b[0m\u001b[0;34m,\u001b[0m \u001b[0mkwds\u001b[0m\u001b[0;34m)\u001b[0m\u001b[0;34m\u001b[0m\u001b[0;34m\u001b[0m\u001b[0m\n\u001b[0m\u001b[1;32m   1868\u001b[0m         \u001b[0;32massert\u001b[0m \u001b[0mself\u001b[0m\u001b[0;34m.\u001b[0m\u001b[0mhandles\u001b[0m \u001b[0;32mis\u001b[0m \u001b[0;32mnot\u001b[0m \u001b[0;32mNone\u001b[0m\u001b[0;34m\u001b[0m\u001b[0;34m\u001b[0m\u001b[0m\n\u001b[1;32m   1869\u001b[0m         \u001b[0;32mfor\u001b[0m \u001b[0mkey\u001b[0m \u001b[0;32min\u001b[0m \u001b[0;34m(\u001b[0m\u001b[0;34m\"storage_options\"\u001b[0m\u001b[0;34m,\u001b[0m \u001b[0;34m\"encoding\"\u001b[0m\u001b[0;34m,\u001b[0m \u001b[0;34m\"memory_map\"\u001b[0m\u001b[0;34m,\u001b[0m \u001b[0;34m\"compression\"\u001b[0m\u001b[0;34m)\u001b[0m\u001b[0;34m:\u001b[0m\u001b[0;34m\u001b[0m\u001b[0;34m\u001b[0m\u001b[0m\n",
      "\u001b[0;32m/usr/lib/python3.9/site-packages/pandas/io/parsers.py\u001b[0m in \u001b[0;36m_open_handles\u001b[0;34m(self, src, kwds)\u001b[0m\n\u001b[1;32m   1360\u001b[0m         \u001b[0mLet\u001b[0m \u001b[0mthe\u001b[0m \u001b[0mreaders\u001b[0m \u001b[0mopen\u001b[0m \u001b[0mIOHanldes\u001b[0m \u001b[0mafter\u001b[0m \u001b[0mthey\u001b[0m \u001b[0mare\u001b[0m \u001b[0mdone\u001b[0m \u001b[0;32mwith\u001b[0m \u001b[0mtheir\u001b[0m \u001b[0mpotential\u001b[0m \u001b[0mraises\u001b[0m\u001b[0;34m.\u001b[0m\u001b[0;34m\u001b[0m\u001b[0;34m\u001b[0m\u001b[0m\n\u001b[1;32m   1361\u001b[0m         \"\"\"\n\u001b[0;32m-> 1362\u001b[0;31m         self.handles = get_handle(\n\u001b[0m\u001b[1;32m   1363\u001b[0m             \u001b[0msrc\u001b[0m\u001b[0;34m,\u001b[0m\u001b[0;34m\u001b[0m\u001b[0;34m\u001b[0m\u001b[0m\n\u001b[1;32m   1364\u001b[0m             \u001b[0;34m\"r\"\u001b[0m\u001b[0;34m,\u001b[0m\u001b[0;34m\u001b[0m\u001b[0;34m\u001b[0m\u001b[0m\n",
      "\u001b[0;32m/usr/lib/python3.9/site-packages/pandas/io/common.py\u001b[0m in \u001b[0;36mget_handle\u001b[0;34m(path_or_buf, mode, encoding, compression, memory_map, is_text, errors, storage_options)\u001b[0m\n\u001b[1;32m    640\u001b[0m                 \u001b[0merrors\u001b[0m \u001b[0;34m=\u001b[0m \u001b[0;34m\"replace\"\u001b[0m\u001b[0;34m\u001b[0m\u001b[0;34m\u001b[0m\u001b[0m\n\u001b[1;32m    641\u001b[0m             \u001b[0;31m# Encoding\u001b[0m\u001b[0;34m\u001b[0m\u001b[0;34m\u001b[0m\u001b[0;34m\u001b[0m\u001b[0m\n\u001b[0;32m--> 642\u001b[0;31m             handle = open(\n\u001b[0m\u001b[1;32m    643\u001b[0m                 \u001b[0mhandle\u001b[0m\u001b[0;34m,\u001b[0m\u001b[0;34m\u001b[0m\u001b[0;34m\u001b[0m\u001b[0m\n\u001b[1;32m    644\u001b[0m                 \u001b[0mioargs\u001b[0m\u001b[0;34m.\u001b[0m\u001b[0mmode\u001b[0m\u001b[0;34m,\u001b[0m\u001b[0;34m\u001b[0m\u001b[0;34m\u001b[0m\u001b[0m\n",
      "\u001b[0;31mFileNotFoundError\u001b[0m: [Errno 2] No such file or directory: '/home/dominik/Code/IFPILM/Magisterka/houlberg-profiles.csv'"
     ]
    }
   ],
   "source": [
    "T_data = pd.read_csv(\"/home/dominik/Code/IFPILM/Magisterka/houlberg-profiles.csv\")\n",
    "T_data.iloc[0] = {\"x\": 0, \"ToverT0\": 1, \"neoverne0\": 1}\n",
    "T_data.iloc[-1][\"x\"] = 1\n",
    "\n",
    "zeff = pd.read_csv(\"/home/dominik/Code/IFPILM/Magisterka/houlberg-profiles-zeff.csv\")\n",
    "\n",
    "fig, ax = plt.subplots(sharex=True)\n",
    "T_data.plot(x=\"x\", ax=ax)\n",
    "ax2 = plt.twinx()\n",
    "zeff.plot(x=\"x\", ax=ax2, c=\"g\")\n",
    "ax.set_xlim(0, 1)\n",
    "plt.legend()"
   ]
  },
  {
   "cell_type": "code",
   "execution_count": null,
   "id": "fd269a0d-7f12-4cd2-984b-478b67429e45",
   "metadata": {
    "extensions": {
     "jupyter_dashboards": {
      "activeView": "grid_default",
      "views": {
       "grid_default": {
        "col": 4,
        "height": 1,
        "hidden": false,
        "row": 0,
        "width": 8
       }
      }
     }
    }
   },
   "outputs": [],
   "source": [
    "import sympy\n",
    "# sympy.init_printing()\n",
    "rho, T0, Ta, ne0, nea, nC, e, = sympy.symbols(\"rho T_0 T_a n_{e0} n_{ea} n_{C-6+} e\")\n",
    "n_i = sympy.Function('n_i')(rho)"
   ]
  },
  {
   "cell_type": "code",
   "execution_count": null,
   "id": "3aecc03b-0536-45bf-9697-6a4141a4b936",
   "metadata": {
    "extensions": {
     "jupyter_dashboards": {
      "activeView": "grid_default",
      "views": {
       "grid_default": {
        "col": 4,
        "height": 1,
        "hidden": false,
        "row": 1,
        "width": 8
       }
      }
     }
    }
   },
   "outputs": [],
   "source": [
    "T = (T0 - Ta) * (1 - rho**2) + Ta"
   ]
  },
  {
   "cell_type": "code",
   "execution_count": null,
   "id": "878a3c1f-5d38-449e-9487-b82d735fc957",
   "metadata": {
    "extensions": {
     "jupyter_dashboards": {
      "activeView": "grid_default",
      "views": {
       "grid_default": {
        "col": 4,
        "height": 2,
        "hidden": false,
        "row": 2,
        "width": 8
       }
      }
     }
    }
   },
   "outputs": [],
   "source": [
    "n_e = (ne0 - nea) * sympy.sqrt(1 - rho**2) + nea"
   ]
  },
  {
   "cell_type": "code",
   "execution_count": null,
   "id": "369d9ebc-7cb8-4950-8b37-ef44648547c0",
   "metadata": {
    "extensions": {
     "jupyter_dashboards": {
      "activeView": "grid_default",
      "views": {
       "grid_default": {
        "col": null,
        "height": 2,
        "hidden": true,
        "row": null,
        "width": 2
       }
      }
     }
    }
   },
   "outputs": [],
   "source": [
    "charge_density = (n_i + 6 * nC - n_e) * e"
   ]
  },
  {
   "cell_type": "code",
   "execution_count": null,
   "id": "bab0fcfe-541c-4879-83a4-d56ac5fb5544",
   "metadata": {
    "extensions": {
     "jupyter_dashboards": {
      "activeView": "grid_default",
      "views": {
       "grid_default": {
        "col": null,
        "height": 2,
        "hidden": true,
        "row": null,
        "width": 2
       }
      }
     }
    }
   },
   "outputs": [],
   "source": [
    "n_i_solution = sympy.solve(charge_density, n_i)[0]"
   ]
  },
  {
   "cell_type": "code",
   "execution_count": null,
   "id": "b8e5e4d0-e9a0-49c3-a511-27c332392a83",
   "metadata": {
    "extensions": {
     "jupyter_dashboards": {
      "activeView": "grid_default",
      "views": {
       "grid_default": {
        "col": null,
        "height": 2,
        "hidden": true,
        "row": null,
        "width": 2
       }
      }
     }
    }
   },
   "outputs": [],
   "source": [
    "nea_ratio = 0.22"
   ]
  },
  {
   "cell_type": "code",
   "execution_count": null,
   "id": "3fe741aa-6b47-4161-a2a8-00ac6e24ac0f",
   "metadata": {
    "extensions": {
     "jupyter_dashboards": {
      "activeView": "grid_default",
      "views": {
       "grid_default": {
        "col": null,
        "height": 2,
        "hidden": true,
        "row": null,
        "width": 2
       }
      }
     }
    }
   },
   "outputs": [],
   "source": [
    "Z_eff = (n_i + 6**2 * nC)/n_e"
   ]
  },
  {
   "cell_type": "code",
   "execution_count": null,
   "id": "8768bfad-839d-41a2-b1d6-bfc8f6227947",
   "metadata": {
    "extensions": {
     "jupyter_dashboards": {
      "activeView": "grid_default",
      "views": {
       "grid_default": {
        "col": null,
        "height": 2,
        "hidden": true,
        "row": null,
        "width": 2
       }
      }
     }
    }
   },
   "outputs": [],
   "source": [
    "Z_eff.subs(n_i, n_i_solution)"
   ]
  },
  {
   "cell_type": "code",
   "execution_count": null,
   "id": "86a53c79-52e5-4a6d-afa4-9382e7113d61",
   "metadata": {
    "extensions": {
     "jupyter_dashboards": {
      "activeView": "grid_default",
      "views": {
       "grid_default": {
        "col": null,
        "height": 2,
        "hidden": true,
        "row": null,
        "width": 2
       }
      }
     }
    }
   },
   "outputs": [],
   "source": [
    "_.subs(nea, nea_ratio * ne0)"
   ]
  },
  {
   "cell_type": "code",
   "execution_count": null,
   "id": "75f8b880-695c-4b96-9aa3-728ba64978aa",
   "metadata": {
    "extensions": {
     "jupyter_dashboards": {
      "activeView": "grid_default",
      "views": {
       "grid_default": {
        "col": null,
        "height": 2,
        "hidden": true,
        "row": null,
        "width": 2
       }
      }
     }
    }
   },
   "outputs": [],
   "source": [
    "_.subs(ne0, 6.5e19 + 6 * nC)"
   ]
  },
  {
   "cell_type": "code",
   "execution_count": null,
   "id": "4765927b-0344-40eb-852e-b5844ae675f4",
   "metadata": {
    "extensions": {
     "jupyter_dashboards": {
      "activeView": "grid_default",
      "views": {
       "grid_default": {
        "col": null,
        "height": 2,
        "hidden": true,
        "row": null,
        "width": 2
       }
      }
     }
    }
   },
   "outputs": [],
   "source": [
    "Zeff_substitutions = _.subs(nC, 5e18)"
   ]
  },
  {
   "cell_type": "code",
   "execution_count": null,
   "id": "93d30356-a67e-4895-bd70-a38943a985e9",
   "metadata": {
    "extensions": {
     "jupyter_dashboards": {
      "activeView": "grid_default",
      "views": {
       "grid_default": {
        "col": null,
        "height": 2,
        "hidden": true,
        "row": null,
        "width": 2
       }
      }
     }
    }
   },
   "outputs": [],
   "source": [
    "Zeff_substitutions.subs(rho, 0)"
   ]
  },
  {
   "cell_type": "code",
   "execution_count": null,
   "id": "e128a964-7b97-4000-880e-ade517d5bc9b",
   "metadata": {
    "extensions": {
     "jupyter_dashboards": {
      "activeView": "grid_default",
      "views": {
       "grid_default": {
        "col": null,
        "height": 2,
        "hidden": true,
        "row": null,
        "width": 2
       }
      }
     }
    }
   },
   "outputs": [],
   "source": [
    "Zeff_substitutions.subs(rho, 1)"
   ]
  },
  {
   "attachments": {
    "82aa7cf4-a716-45ae-a910-d3f1082b2795.png": {
     "image/png": "[encoded data removed]"
    }
   },
   "cell_type": "markdown",
   "id": "307e6752-de73-44f3-a458-46c5a349aa25",
   "metadata": {
    "extensions": {
     "jupyter_dashboards": {
      "activeView": "grid_default",
      "views": {
       "grid_default": {
        "col": null,
        "height": 2,
        "hidden": true,
        "row": null,
        "width": 2
       }
      }
     }
    }
   },
   "source": [
    "![image.png](attachment:82aa7cf4-a716-45ae-a910-d3f1082b2795.png)"
   ]
  },
  {
   "cell_type": "code",
   "execution_count": null,
   "id": "cee3875f-6e6d-42bb-b9a1-7fd75b147a7c",
   "metadata": {
    "extensions": {
     "jupyter_dashboards": {
      "activeView": "grid_default",
      "views": {
       "grid_default": {
        "col": null,
        "height": 2,
        "hidden": true,
        "row": null,
        "width": 2
       }
      }
     }
    }
   },
   "outputs": [],
   "source": [
    "from scipy import interpolate"
   ]
  },
  {
   "cell_type": "code",
   "execution_count": null,
   "id": "88a9d06d-be41-4fad-8426-daddfd14a579",
   "metadata": {},
   "outputs": [],
   "source": [
    "interpolate.CubicSpline"
   ]
  },
  {
   "cell_type": "code",
   "execution_count": null,
   "id": "49f8d0f0-de44-4401-a55d-6fa7a5473118",
   "metadata": {
    "extensions": {
     "jupyter_dashboards": {
      "activeView": "grid_default",
      "views": {
       "grid_default": {
        "col": null,
        "height": 2,
        "hidden": true,
        "row": null,
        "width": 2
       }
      }
     }
    }
   },
   "outputs": [],
   "source": [
    "x0 = zeff.x.copy()\n",
    "from scipy.optimize import curve_fit\n",
    "\n",
    "def poly(x, b, c, d, e):\n",
    "    return zeff.Zeff.iloc[0] + b*x + c*x**2 + d * x**3 + e * x**4\n",
    "\n",
    "def exponent(x, a, b, c, d):\n",
    "    return a * (np.exp(b * x) - 1) + c * (np.exp(d * x) - 1) + zeff.Zeff.iloc[0]\n",
    "\n",
    "def inverse(x, a):\n",
    "    return a / (1.1 - x)**2 + zeff.Zeff.iloc[0]\n",
    "\n",
    "x0.iloc[-1] = 1\n",
    "indices = [0, 5, 10, 14, 21, 25]\n",
    "plt.plot(x0, zeff.Zeff)\n",
    "plt.scatter(x0[indices], zeff.Zeff[indices])\n",
    "# plt.plot(x0, x0**13.790008 + 1.4542466)\n",
    "# plt.plot(x0, x0**-2.2004218)\n",
    "# plt.plot(x0, np.exp(np.arctan(x0**2)))\n",
    "func = inverse\n",
    "result = curve_fit(func, x0[indices], zeff.Zeff[indices])\n",
    "display(result)\n",
    "plt.plot(x0, func(x0, *result[0]))"
   ]
  },
  {
   "cell_type": "code",
   "execution_count": null,
   "id": "6a0b4cc7-d879-4d22-9436-2c6b65dc6e7d",
   "metadata": {},
   "outputs": [],
   "source": [
    "def inverse_diff(x, a):\n",
    "    return +2 * a / (1.1 - x)"
   ]
  },
  {
   "cell_type": "code",
   "execution_count": null,
   "id": "4636bc68-0d4d-460f-9ca3-2c6b3be12f33",
   "metadata": {},
   "outputs": [],
   "source": [
    "from scipy.signal import savgol_filter"
   ]
  },
  {
   "cell_type": "code",
   "execution_count": null,
   "id": "9ed88717-332d-49a4-8210-a3b27e1c6bfb",
   "metadata": {
    "extensions": {
     "jupyter_dashboards": {
      "activeView": "grid_default",
      "views": {
       "grid_default": {
        "col": null,
        "height": 2,
        "hidden": true,
        "row": null,
        "width": 2
       }
      }
     }
    }
   },
   "outputs": [],
   "source": [
    "poly = interpolate.CubicSpline(zeff.x, zeff.Zeff, bc_type=((1, 0), (1, 10)))\n",
    "# poly = np.polynomial.Polynomial.fit(zeff.x, zeff.Zeff, 2)\n",
    "# plt.plot(zeff.x, sympy.lambdify(rho, Zeff_substitutions)(zeff.x))\n",
    "fig, (ax1, ax2) = plt.subplots(2)\n",
    "ax1.plot(zeff.x, zeff.Zeff)\n",
    "ax1.plot(zeff.x, savgol_filter(zeff.Zeff, 9, 2))\n",
    "x_interpolation = np.linspace(0, 1, 1000)\n",
    "ax1.plot(x_interpolation, poly(x_interpolation))\n",
    "\n",
    "T_data['Zeff'] = inverse(T_data.x, *result[0])\n",
    "T_data['Zeff_derivative'] = inverse_diff(T_data.x, *result[0])\n",
    "\n",
    "ax2.plot(T_data.x, T_data.Zeff_derivative)"
   ]
  },
  {
   "cell_type": "code",
   "execution_count": null,
   "id": "87964701-3687-4cd2-a71a-93f505526a2e",
   "metadata": {},
   "outputs": [],
   "source": [
    "T_data"
   ]
  },
  {
   "cell_type": "markdown",
   "id": "b6838d50-345b-421b-814e-c5e2089ae942",
   "metadata": {},
   "source": [
    "$$Z_{eff} = \\sum_i n_i q_i / \\sum_i n_i$$\n",
    "$$Z_{eff} = (n_D q_D + n_C * q_C) / (n_D + n_C)$$"
   ]
  },
  {
   "cell_type": "code",
   "execution_count": null,
   "id": "8b4496f1-bde3-42b3-bc0b-308edded6037",
   "metadata": {},
   "outputs": [],
   "source": [
    "sympy.lambdify(\n",
    "    (\n",
    "        n_i.diff(rho),\n",
    "        n_i,\n",
    "        nC,\n",
    "    ),\n",
    "    ((n_i + nC * 6) / (n_i + nC)).diff(rho)\n",
    ")"
   ]
  },
  {
   "cell_type": "markdown",
   "id": "fb0f9be0-d85b-470a-8237-0e36bf6d7bb8",
   "metadata": {},
   "source": [
    "$$n_i + 6 n_C - n_e = 0$$"
   ]
  },
  {
   "cell_type": "code",
   "execution_count": null,
   "id": "f3f5ac5a-a4fc-47db-9bcb-dc3a75f17560",
   "metadata": {},
   "outputs": [],
   "source": [
    "T_data"
   ]
  },
  {
   "cell_type": "code",
   "execution_count": null,
   "id": "355e6692-f3dd-4300-a39f-99b31f4ca555",
   "metadata": {},
   "outputs": [],
   "source": [
    "(T_data[\"n_D\"] + T_data[\"n_C\"]) / T_data[\"n_e\"]"
   ]
  },
  {
   "cell_type": "code",
   "execution_count": null,
   "id": "000b6835-da51-469a-8cc9-d50e3108f89a",
   "metadata": {
    "extensions": {
     "jupyter_dashboards": {
      "activeView": "grid_default",
      "views": {
       "grid_default": {
        "col": null,
        "height": 2,
        "hidden": true,
        "row": null,
        "width": 2
       }
      }
     }
    }
   },
   "outputs": [],
   "source": [
    "nC0_value = 5e18\n",
    "C6charge = 6\n",
    "ne0_value = 6.5e19 + C6charge * nC0_value\n",
    "T_data[\"n_C\"] = nC0_value\n",
    "T_data[\"n_e\"] = ne0_value * T_data[\"neoverne0\"]\n",
    "T_data[\"n_D_charge\"] = T_data[\"n_e\"] - C6charge * T_data[\"n_C\"] \n",
    "T_data[\"n_D_zeff_no_square\"] = T_data[\"Zeff\"] * T_data[\"n_e\"] - C6charge * T_data[\"n_C\"]\n",
    "T_data[\"charge_density_charge\"] = T_data[\"n_D_charge\"] - T_data[\"n_e\"] + C6charge * T_data[\"n_C\"]\n",
    "T_data[\"charge_density_zeff_no_square\"] = T_data[\"n_D_zeff_no_square\"] - T_data[\"n_e\"] + C6charge * T_data[\"n_C\"]\n",
    "T_data[\"n_D\"] = T_data[\"n_D_zeff_no_square\"]\n",
    "T_data[\"Zeff_reproduced\"] = (T_data[\"n_D\"] + T_data[\"n_C\"])/T_data[\"n_e\"]\n",
    "T_data.loc[:, [\"x\", \"n_C\", \"n_e\", \"n_D_charge\", \"n_D_zeff_no_square\"]].plot(x=\"x\")\n",
    "T_data.loc[:, [\"x\", \"charge_density_charge\", \"charge_density_zeff_no_square\"]].plot(x=\"x\")\n",
    "T_data[\"ToverT0_derivative\"] = sympy.lambdify((T0, Ta, rho), T.diff(rho))(1,\n",
    "                                                                          T_data[\"ToverT0\"].iloc[-1],\n",
    "                                                                          T_data[\"x\"])\n",
    "T_data[\"n_e_derivative\"] = sympy.lambdify((ne0, nea, rho), n_e.diff(rho))(ne0_value,\n",
    "                                                                                T_data[\"neoverne0\"].iloc[-1],\n",
    "                                                                                T_data[\"x\"])\n",
    "T_data.drop(labels=[\"ToverT0\", \"neoverne0\", \"Zeff\"], axis=1).plot(x=\"x\")\n",
    "T_data.loc[:, [\"x\", \"ToverT0\", \"ToverT0_derivative\"]].plot(x=\"x\")\n",
    "# T_data.loc[:, [\"x\",\n",
    "#                \"n_e\",\n",
    "#                \"n_e_derivative\",\n",
    "#               ]].plot(x=\"x\")\n",
    "T_data[\"n_C_derivative\"] = 0\n",
    "T_data[\"n_D_derivative\"] = T_data[\"Zeff_derivative\"] * T_data[\"n_e\"] + T_data[\"Zeff\"] * T_data[\"n_e_derivative\"] - 6 * T_data[\"n_C_derivative\"]"
   ]
  },
  {
   "cell_type": "code",
   "execution_count": null,
   "id": "472cacaa-ceea-43d9-bf9a-b94cc943afdc",
   "metadata": {},
   "outputs": [],
   "source": [
    "from scipy import integrate"
   ]
  },
  {
   "cell_type": "code",
   "execution_count": null,
   "id": "532183c0-6aba-4523-ae47-05b3871985fa",
   "metadata": {},
   "outputs": [],
   "source": [
    "T_data.Zeff"
   ]
  },
  {
   "cell_type": "code",
   "execution_count": null,
   "id": "9e81777c-c226-495d-a3ae-81994cd6e786",
   "metadata": {},
   "outputs": [],
   "source": [
    "# plt.plot(T_data[\"x\"], integrate.cumtrapz(T_data[\"Zeff_derivative\"], T_data[\"x\"], initial= T_data[\"Zeff\"].iloc[0]))\n",
    "plt.plot(T_data[\"x\"], T_data[\"Zeff\"])"
   ]
  },
  {
   "cell_type": "code",
   "execution_count": null,
   "id": "fbdf42b4-6b4f-4a14-882c-4792ddd45438",
   "metadata": {
    "extensions": {
     "jupyter_dashboards": {
      "activeView": "grid_default",
      "views": {
       "grid_default": {
        "col": null,
        "height": 2,
        "hidden": true,
        "row": null,
        "width": 2
       }
      }
     }
    }
   },
   "outputs": [],
   "source": [
    "T_data.plot(x=\"x\", y=\"Zeff_derivative\")"
   ]
  },
  {
   "cell_type": "code",
   "execution_count": null,
   "id": "c9feea8a-ed43-4832-93ce-d43df2084a7d",
   "metadata": {
    "extensions": {
     "jupyter_dashboards": {
      "activeView": "grid_default",
      "views": {
       "grid_default": {
        "col": null,
        "height": 2,
        "hidden": true,
        "row": null,
        "width": 2
       }
      }
     }
    }
   },
   "outputs": [],
   "source": [
    "T_data.to_csv(\"/home/dominik/HoulbergNSTX.csv\")"
   ]
  }
 ],
 "metadata": {
  "extensions": {
   "jupyter_dashboards": {
    "activeView": "grid_default",
    "version": 1,
    "views": {
     "grid_default": {
      "cellMargin": 2,
      "defaultCellHeight": 60,
      "maxColumns": 12,
      "name": "grid",
      "type": "grid"
     }
    }
   }
  },
  "kernelspec": {
   "display_name": "Python 3",
   "language": "python",
   "name": "python3"
  },
  "language_info": {
   "codemirror_mode": {
    "name": "ipython",
    "version": 3
   },
   "file_extension": ".py",
   "mimetype": "text/x-python",
   "name": "python",
   "nbconvert_exporter": "python",
   "pygments_lexer": "ipython3",
   "version": "3.9.5"
  },
  "widgets": {
   "application/vnd.jupyter.widget-state+json": {
    "state": {},
    "version_major": 2,
    "version_minor": 0
   }
  }
 },
 "nbformat": 4,
 "nbformat_minor": 5
}
