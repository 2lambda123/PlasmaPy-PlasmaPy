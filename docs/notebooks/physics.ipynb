{
 "cells": [
  {
   "cell_type": "code",
   "execution_count": null,
   "metadata": {
    "collapsed": false,
    "jupyter": {
     "outputs_hidden": false
    }
   },
   "outputs": [],
   "source": [
    "%matplotlib inline"
   ]
  },
  {
   "cell_type": "markdown",
   "metadata": {},
   "source": [
    "# Using the formulary with `astropy.units` input"
   ]
  },
  {
   "cell_type": "code",
   "execution_count": null,
   "metadata": {},
   "outputs": [],
   "source": [
    "from astropy import units as u\n",
    "from plasmapy import formulary\n",
    "import matplotlib.pyplot as plt\n",
    "import numpy as np\n",
    "from mpl_toolkits.mplot3d import Axes3D"
   ]
  },
  {
   "cell_type": "markdown",
   "metadata": {},
   "source": [
    "## Sample ITER data"
   ]
  },
  {
   "cell_type": "raw",
   "metadata": {
    "raw_mimetype": "text/restructuredtext"
   },
   "source": [
    "The radius of electric field shielding clouds, also known as the :func:`~plasmapy.formulary.parameters.Debye_length`,\n",
    "would be"
   ]
  },
  {
   "cell_type": "code",
   "execution_count": null,
   "metadata": {
    "collapsed": false,
    "jupyter": {
     "outputs_hidden": false
    }
   },
   "outputs": [],
   "source": [
    "electron_temperature = 8.8 * u.keV\n",
    "electron_concentration = 10.1e19 / u.m**3\n",
    "formulary.Debye_length(electron_temperature, electron_concentration)"
   ]
  },
  {
   "cell_type": "markdown",
   "metadata": {},
   "source": [
    "Note that we can also neglect the unit for the concentration, as\n",
    "1/m^3 is the a standard unit for this kind of Quantity:\n",
    "\n"
   ]
  },
  {
   "cell_type": "code",
   "execution_count": null,
   "metadata": {
    "collapsed": false,
    "jupyter": {
     "outputs_hidden": false
    }
   },
   "outputs": [],
   "source": [
    "formulary.Debye_length(electron_temperature, 10.1e19)"
   ]
  },
  {
   "cell_type": "markdown",
   "metadata": {},
   "source": [
    "PlasmaPy will continue to shout at us for doing that, thought. We can silence these warnings using:"
   ]
  },
  {
   "cell_type": "code",
   "execution_count": null,
   "metadata": {},
   "outputs": [],
   "source": [
    "from plasmapy.utils.exceptions import ImplicitUnitConversionWarning\n",
    "import warnings\n",
    "warnings.simplefilter(\"ignore\", ImplicitUnitConversionWarning)\n",
    "formulary.Debye_length(electron_temperature, electron_concentration)"
   ]
  },
  {
   "cell_type": "markdown",
   "metadata": {},
   "source": [
    "We can try calculating the gyroradius:"
   ]
  },
  {
   "cell_type": "code",
   "execution_count": null,
   "metadata": {
    "collapsed": false,
    "jupyter": {
     "outputs_hidden": false
    }
   },
   "outputs": [],
   "source": [
    "B = 5.3 * u.T\n",
    "ion_temperature = 8 * u.keV\n",
    "\n",
    "formulary.gyroradius(B, T_i=ion_temperature, particle='e')"
   ]
  },
  {
   "cell_type": "raw",
   "metadata": {
    "raw_mimetype": "text/restructuredtext"
   },
   "source": [
    "The electron :func:`~plasmapy.formulary.parameters.inertial_length` would be"
   ]
  },
  {
   "cell_type": "code",
   "execution_count": null,
   "metadata": {
    "collapsed": false,
    "jupyter": {
     "outputs_hidden": false
    }
   },
   "outputs": [],
   "source": [
    "print(formulary.inertial_length(electron_concentration, particle='e'))"
   ]
  },
  {
   "cell_type": "markdown",
   "metadata": {},
   "source": [
    "In these conditions, they should reach thermal velocities of about\n",
    "\n"
   ]
  },
  {
   "cell_type": "code",
   "execution_count": null,
   "metadata": {
    "collapsed": false,
    "jupyter": {
     "outputs_hidden": false
    }
   },
   "outputs": [],
   "source": [
    "print(formulary.thermal_speed(T=electron_temperature, particle='e'))"
   ]
  },
  {
   "cell_type": "raw",
   "metadata": {
    "raw_mimetype": "text/restructuredtext"
   },
   "source": [
    "And the Langmuir wave :func:`~plasmapy.formulary.parameters.plasma_frequency` should be on the order of"
   ]
  },
  {
   "cell_type": "code",
   "execution_count": null,
   "metadata": {
    "collapsed": false,
    "jupyter": {
     "outputs_hidden": false
    }
   },
   "outputs": [],
   "source": [
    "print(formulary.plasma_frequency(electron_concentration))"
   ]
  },
  {
   "cell_type": "markdown",
   "metadata": {},
   "source": [
    "# Usage with plots"
   ]
  },
  {
   "cell_type": "markdown",
   "metadata": {},
   "source": [
    "Let's try to recreate some plots and get a feel for some of these quantities.\n",
    "We will also compare our data to real-world plasma situations.\n",
    "\n"
   ]
  },
  {
   "cell_type": "code",
   "execution_count": null,
   "metadata": {
    "collapsed": false,
    "jupyter": {
     "outputs_hidden": false
    },
    "tags": [
     "nbsphinx-thumbnail"
    ]
   },
   "outputs": [],
   "source": [
    "_, T_axis = plt.subplots(figsize=(15,10))\n",
    "_, omega_axis = plt.subplots(figsize=(15,10))\n",
    "\n",
    "n_e = np.logspace(4, 30, 100) / u.m**3\n",
    "omega_axis.plot(n_e, formulary.plasma_frequency(n_e), label=\"Theory\")\n",
    "omega_axis.scatter(\n",
    "    electron_concentration,\n",
    "    formulary.plasma_frequency(electron_concentration),\n",
    "    )\n",
    "\n",
    "# IRT1 Tokamak Data\n",
    "# http://article.sapub.org/pdf/10.5923.j.jnpp.20110101.03.pdf\n",
    "n_e = 1.2e19 / u.m**3\n",
    "T_e = 136.8323 * u.eV\n",
    "B = 0.82 * u.T\n",
    "label = \"IRT1 Tokamak\"\n",
    "T_axis.scatter(n_e, T_e, label=label)\n",
    "omega_axis.scatter(n_e, formulary.plasma_frequency(n_e), label=label)\n",
    "\n",
    "# Wendelstein 7-X Stellerator Data\n",
    "# https://nucleus.iaea.org/sites/fusionportal/Shared%20Documents/FEC%202016/fec2016-preprints/preprint0541.pdf\n",
    "n_e = 3e19 / u.m**3\n",
    "T_e = 6 * u.keV\n",
    "B = 3 * u.T\n",
    "label = \"W7-X Stellerator\"\n",
    "T_axis.scatter(n_e, T_e.to(u.K, equivalencies=u.temperature_energy()), label=label)\n",
    "omega_axis.scatter(n_e, formulary.plasma_frequency(n_e), label=label)\n",
    "\n",
    "# Solar Corona\n",
    "# Estimated by Nick Murphy\n",
    "n_e = 1e15 / u.m**3\n",
    "T_e = 1e6 * u.K\n",
    "B = 0.005 * u.T\n",
    "label = \"Solar Corona\"\n",
    "T_axis.scatter(n_e, T_e, label=label)\n",
    "omega_axis.scatter(n_e, formulary.plasma_frequency(n_e), label=label)\n",
    "\n",
    "# Interstellar (warm neutral) Medium\n",
    "# Estimated by Nick Murphy\n",
    "n_e = 1e6 / u.m**3\n",
    "T_e = 5e3 * u.K\n",
    "B = 0.005 * u.T\n",
    "label = \"Interstellar Medium\"\n",
    "T_axis.scatter(n_e, T_e, label=label)\n",
    "omega_axis.scatter(n_e, formulary.plasma_frequency(n_e), label=label)\n",
    "\n",
    "# Solar Wind at 1 AU\n",
    "# Estimated by Nick Murphy\n",
    "n_e = 7e6 / u.m**3\n",
    "T_e = 1e5 * u.K\n",
    "B = 5e-9 * u.T\n",
    "label = \"Solar Wind (1 AU)\"\n",
    "T_axis.scatter(n_e, T_e, label=label)\n",
    "omega_axis.scatter(n_e, formulary.plasma_frequency(n_e), label=label)\n",
    "\n",
    "# Projected ITER parameters\n",
    "# http://fusionwiki.ciemat.es/wiki/ITER\n",
    "n_e = 10.1e19 / u.m**3\n",
    "T_e = 8.8 * u.keV.to(u.K, equivalencies=u.temperature_energy())\n",
    "B = 5.3 * u.T\n",
    "label = \"ITER (projected data)\"\n",
    "T_axis.scatter(n_e, T_e, label=label)\n",
    "omega_axis.scatter(n_e, formulary.plasma_frequency(n_e), label=label)\n",
    "\n",
    "\n",
    "\n",
    "omega_axis.set(xlabel=\"Electron Concentration ($m^{-3}$)\", ylabel=\"Langmuir Wave Plasma Frequency (rad/s)\", xscale=\"log\", yscale=\"log\", title=\"Log-scale plot of plasma frequencies\")\n",
    "omega_axis.legend(loc='best')\n",
    "omega_axis.grid()\n",
    "T_axis.set(xlabel=\"Electron Concentration ($m^{-3}$)\", ylabel=\"Electron temperature [K]\", xscale=\"log\", yscale=\"log\", title=\"Log-scale plot of electron temperature vs frequency\")\n",
    "T_axis.legend(loc='best')\n",
    "T_axis.grid()\n",
    "plt.show()"
   ]
  }
 ],
 "metadata": {
  "kernelspec": {
   "display_name": "Python 3",
   "language": "python",
   "name": "python3"
  },
  "language_info": {
   "codemirror_mode": {
    "name": "ipython",
    "version": 3
   },
   "file_extension": ".py",
   "mimetype": "text/x-python",
   "name": "python",
   "nbconvert_exporter": "python",
   "pygments_lexer": "ipython3",
   "version": "3.8.2"
  },
  "widgets": {
   "application/vnd.jupyter.widget-state+json": {
    "state": {},
    "version_major": 2,
    "version_minor": 0
   }
  }
 },
 "nbformat": 4,
 "nbformat_minor": 4
}
