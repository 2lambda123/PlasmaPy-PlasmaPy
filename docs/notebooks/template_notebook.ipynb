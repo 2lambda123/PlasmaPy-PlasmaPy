{
 "cells": [
  {
   "cell_type": "markdown",
   "metadata": {},
   "source": [
    "\n",
    "Template Notebook\n",
    "=========================\n",
    "\n",
    "Template Notebook with links examples."
   ]
  },
  {
   "cell_type": "markdown",
   "metadata": {
    "jupyter": {
     "outputs_hidden": false
    }
   },
   "source": [
    "### Table of Contents\n",
    "\n",
    "* [Link to documentation page](#1)\n",
    "* [Link to acces a code objet in PlasmaPy](#2)\n",
    "* [Link to acces another notebook in the gallery](#3)\n",
    "* [Link to an external webiste](#4)\n",
    "* [Sample math](#5)\n",
    "* [Sample in line code](#6)"
   ]
  },
  {
   "cell_type": "markdown",
   "metadata": {},
   "source": [
    "[//]: # (An example link to the documentation page on how to create notebooks #1381)\n",
    "## link to the documentation page on how to create notebooks ?    [Documentation page](.) \n",
    "<a class=\"anchor\" id=\"1\"></a>\n",
    "\n",
    "(it has to be in the same folder than tamplate notebook otherwise it has to be imported from python by sys and os.)[documentation page](.) <a class=\"anchor\" id=\"chapter1\"></a>"
   ]
  },
  {
   "cell_type": "markdown",
   "metadata": {},
   "source": [
    "## link to access a code object in PlasmaPy?\n",
    "<a class=\"anchor\" id=\"2\"></a>"
   ]
  },
  {
   "cell_type": "code",
   "execution_count": 16,
   "metadata": {},
   "outputs": [],
   "source": [
    "from astropy import units as u\n",
    "from plasmapy.formulary import thermal_speed"
   ]
  },
  {
   "cell_type": "code",
   "execution_count": 18,
   "metadata": {},
   "outputs": [
    {
     "name": "stdout",
     "output_type": "stream",
     "text": [
      "1964568.6104266963 m / s\n"
     ]
    }
   ],
   "source": [
    "T = 1e5 * u.K\n",
    "v_mean_magnitude = thermal_speed(T=T, particle=\"e-\", method=\"mean_magnitude\", ndim=3)\n",
    "print(v_mean_magnitude)"
   ]
  },
  {
   "cell_type": "markdown",
   "metadata": {},
   "source": [
    "## link to access another notebook in the gallery: [Cold plasma tensor elements Notebook](./cold_plasma_tensor_elements.ipynb)\n",
    "<a class=\"anchor\" id=\"3\"></a>"
   ]
  },
  {
   "cell_type": "markdown",
   "metadata": {},
   "source": [
    "## A link to an external website [Plasmapy web](https://www.plasmapy.org/)"
   ]
  },
  {
   "cell_type": "markdown",
   "metadata": {},
   "source": [
    "## Sample math\n",
    "<a class=\"anchor\" id=\"5\"></a>\n",
    "- 'mean_magnitude' <br>\n",
    "$v_{th} = \\sqrt{\\frac{8 k_B T}{m\\pi}}$\n",
    "\n"
   ]
  },
  {
   "cell_type": "markdown",
   "metadata": {},
   "source": [
    "## Sample in-line code \n",
    "<a class=\"anchor\" id=\"6\"></a>"
   ]
  },
  {
   "cell_type": "code",
   "execution_count": null,
   "metadata": {},
   "outputs": [],
   "source": [
    "## Sample in-line code like `import this`\n",
    "from astropy import units as u\n",
    "from plasmapy.formulary import thermal_speed"
   ]
  }
 ],
 "metadata": {
  "kernelspec": {
   "display_name": "Python 3 (ipykernel)",
   "language": "python",
   "name": "python3"
  },
  "language_info": {
   "codemirror_mode": {
    "name": "ipython",
    "version": 3
   },
   "file_extension": ".py",
   "mimetype": "text/x-python",
   "name": "python",
   "nbconvert_exporter": "python",
   "pygments_lexer": "ipython3",
   "version": "3.7.3"
  },
  "widgets": {
   "application/vnd.jupyter.widget-state+json": {
    "state": {},
    "version_major": 2,
    "version_minor": 0
   }
  }
 },
 "nbformat": 4,
 "nbformat_minor": 4
}
