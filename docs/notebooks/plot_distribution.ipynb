{
  "cells": [
    {
      "cell_type": "code",
      "execution_count": null,
      "metadata": {
        "collapsed": false
      },
      "outputs": [],
      "source": [
        "%matplotlib inline"
      ]
    },
    {
      "cell_type": "markdown",
      "metadata": {},
      "source": [
        "\n1D Maxwellian distribution function\n===================================\n\nWe import the usual modules, and the hero of this notebook,\nthe Maxwellian 1D distribution:\n"
      ]
    },
    {
      "cell_type": "code",
      "execution_count": null,
      "metadata": {
        "collapsed": false
      },
      "outputs": [],
      "source": [
        "import numpy as np\nfrom astropy import units as u\nimport matplotlib.pyplot as plt\nfrom astropy.constants import (m_e, k_B)\n\nfrom plasmapy.formulary import Maxwellian_1D"
      ]
    },
    {
      "cell_type": "markdown",
      "metadata": {},
      "source": [
        "Given we'll be plotting, import astropy's quantity support:\n\n"
      ]
    },
    {
      "cell_type": "code",
      "execution_count": null,
      "metadata": {
        "collapsed": false
      },
      "outputs": [],
      "source": [
        "from astropy.visualization import quantity_support\nquantity_support()"
      ]
    },
    {
      "cell_type": "markdown",
      "metadata": {},
      "source": [
        "As a first example, let's get the probability density of\nfinding an electron with a speed of 1 m/s if we have a\nplasma at a temperature of 30 000 K:\n\n"
      ]
    },
    {
      "cell_type": "code",
      "execution_count": null,
      "metadata": {
        "collapsed": false
      },
      "outputs": [],
      "source": [
        "p_dens = Maxwellian_1D(v=1 * u.m / u.s,\n                       T=30000 * u.K,\n                       particle='e',\n                       v_drift=0 * u.m / u.s)\nprint(p_dens)"
      ]
    },
    {
      "cell_type": "markdown",
      "metadata": {},
      "source": [
        "Note the units! Integrated over speed, this will give us a\nprobability. Let's test that for a bunch of particles:\n\n"
      ]
    },
    {
      "cell_type": "code",
      "execution_count": null,
      "metadata": {
        "collapsed": false
      },
      "outputs": [],
      "source": [
        "T = 3e4 * u.K\ndv = 10 * u.m / u.s\nv = np.arange(-5e6, 5e6, 10) * u.m / u.s"
      ]
    },
    {
      "cell_type": "markdown",
      "metadata": {},
      "source": [
        "Check that the integral over all speeds is 1\n(the particle has to be somewhere):\n\n"
      ]
    },
    {
      "cell_type": "code",
      "execution_count": null,
      "metadata": {
        "collapsed": false
      },
      "outputs": [],
      "source": [
        "for particle in ['p', 'e']:\n    pdf = Maxwellian_1D(v, T=T, particle=particle)\n    integral = (pdf).sum() * dv\n    print(f\"Integral value for {particle}: {integral}\")\n    plt.plot(v, pdf, label=particle)\nplt.legend()"
      ]
    },
    {
      "cell_type": "markdown",
      "metadata": {},
      "source": [
        "The standard deviation of this distribution should give us back the\ntemperature:\n\n"
      ]
    },
    {
      "cell_type": "code",
      "execution_count": null,
      "metadata": {
        "collapsed": false
      },
      "outputs": [],
      "source": [
        "std = np.sqrt((Maxwellian_1D(v, T=T, particle='e') * v ** 2 * dv).sum())\nT_theo = (std ** 2 / k_B * m_e).to(u.K)\n\nprint('T from standard deviation:', T_theo)\nprint('Initial T:', T)"
      ]
    }
  ],
  "metadata": {
    "kernelspec": {
      "display_name": "Python 3",
      "language": "python",
      "name": "python3"
    },
    "language_info": {
      "codemirror_mode": {
        "name": "ipython",
        "version": 3
      },
      "file_extension": ".py",
      "mimetype": "text/x-python",
      "name": "python",
      "nbconvert_exporter": "python",
      "pygments_lexer": "ipython3",
      "version": "3.8.2"
    }
  },
  "nbformat": 4,
  "nbformat_minor": 0
}
