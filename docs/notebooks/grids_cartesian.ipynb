{
 "cells": [
  {
   "cell_type": "markdown",
   "metadata": {},
   "source": [
    "# Grids: Uniformly-Spaced Cartesian Grids"
   ]
  },
  {
   "cell_type": "markdown",
   "metadata": {},
   "source": [
    "Grids are a datastructure that represent one or more physical quantities that share spatial coordiantes. For example, the density or magnetic field in a plasma as specified on a Cartesian grid. In addition to storing data, grids have built-in interpolator functions for estimating the values of quantities in between grid vertices."
   ]
  },
  {
   "cell_type": "markdown",
   "metadata": {},
   "source": [
    "## Creating a grid"
   ]
  },
  {
   "cell_type": "code",
   "execution_count": 18,
   "metadata": {},
   "outputs": [],
   "source": [
    "%matplotlib inline\n",
    "\n",
    "import astropy.units as u\n",
    "import matplotlib.pyplot as plt\n",
    "import numpy as np\n",
    "\n",
    "from plasmapy.plasma import grids"
   ]
  },
  {
   "cell_type": "markdown",
   "metadata": {},
   "source": [
    "A grid can be created either by providing three arrays of spatial coordinates for vertices (eg. x,yz positions) or using a np.linspace-like syntax. For example, the two following methods are equivalent:"
   ]
  },
  {
   "cell_type": "code",
   "execution_count": 19,
   "metadata": {},
   "outputs": [],
   "source": [
    "#Method 1\n",
    "xaxis,yaxis, zaxis = [np.linspace(-1*u.cm, 1*u.cm, num=20)]*3\n",
    "x,y,z = np.meshgrid(xaxis, yaxis, zaxis, indexing='ij')\n",
    "grid = grids.CartesianGrid(x,y,z)\n",
    "\n",
    "#Method 2\n",
    "grid = grids.CartesianGrid(np.array([-1,-1,-1])*u.cm, np.array([1,1,1])*u.cm, num=(150,150,150))"
   ]
  },
  {
   "cell_type": "markdown",
   "metadata": {},
   "source": [
    "The grid object provides access to a number of properties"
   ]
  },
  {
   "cell_type": "code",
   "execution_count": 20,
   "metadata": {},
   "outputs": [
    {
     "name": "stdout",
     "output_type": "stream",
     "text": [
      "Is the grid uniformly spaced? True\n",
      "Grid shape: (150, 150, 150)\n",
      "Grid units: [Unit(\"cm\"), Unit(\"cm\"), Unit(\"cm\")]\n",
      "Grid spacing on xaxis: 0.01 cm\n"
     ]
    }
   ],
   "source": [
    "print(f\"Is the grid uniformly spaced? {grid.is_uniform_grid}\")\n",
    "print(f\"Grid shape: {grid.shape}\")\n",
    "print(f\"Grid units: {grid.units}\")\n",
    "print(f\"Grid spacing on xaxis: {grid.dax0:.2f}\")"
   ]
  },
  {
   "cell_type": "markdown",
   "metadata": {},
   "source": [
    "The grid points themselves can be accessed in one of two forms"
   ]
  },
  {
   "cell_type": "code",
   "execution_count": 21,
   "metadata": {},
   "outputs": [
    {
     "data": {
      "text/plain": [
       "(150, 150, 150)"
      ]
     },
     "execution_count": 21,
     "metadata": {},
     "output_type": "execute_result"
    }
   ],
   "source": [
    "x,y,z = grid.grids\n",
    "x.shape"
   ]
  },
  {
   "cell_type": "code",
   "execution_count": 22,
   "metadata": {},
   "outputs": [
    {
     "data": {
      "text/plain": [
       "(150, 150, 150, 3)"
      ]
     },
     "execution_count": 22,
     "metadata": {},
     "output_type": "execute_result"
    }
   ],
   "source": [
    "xyz = grid.grid\n",
    "xyz.shape"
   ]
  },
  {
   "cell_type": "markdown",
   "metadata": {},
   "source": [
    "And the axes can be accessed similarly. "
   ]
  },
  {
   "cell_type": "code",
   "execution_count": 23,
   "metadata": {},
   "outputs": [
    {
     "data": {
      "text/plain": [
       "(150,)"
      ]
     },
     "execution_count": 23,
     "metadata": {},
     "output_type": "execute_result"
    }
   ],
   "source": [
    "xaxis = grid.ax0\n",
    "xaxis.shape"
   ]
  },
  {
   "cell_type": "markdown",
   "metadata": {},
   "source": [
    "## Adding Quantities"
   ]
  },
  {
   "cell_type": "markdown",
   "metadata": {},
   "source": [
    "Now that the grid has been initialized, we can add quantities to it that represent physical properties defined on the grid verticies. Each quantity must be a u.Quantity arry of the same shape as the grid."
   ]
  },
  {
   "cell_type": "code",
   "execution_count": 24,
   "metadata": {},
   "outputs": [
    {
     "data": {
      "text/plain": [
       "(150, 150, 150)"
      ]
     },
     "execution_count": 24,
     "metadata": {},
     "output_type": "execute_result"
    }
   ],
   "source": [
    "Ex = np.random.rand(*grid.shape)*u.V/u.m\n",
    "Ey = np.random.rand(*grid.shape)*u.V/u.m\n",
    "Ez = np.random.rand(*grid.shape)*u.V/u.m\n",
    "Bz = np.random.rand(*grid.shape)*u.T\n",
    "Bz.shape"
   ]
  },
  {
   "cell_type": "markdown",
   "metadata": {},
   "source": [
    "When quantities are added to the grid, they are associated with a key string (just like a dictionary). Any key string can be used, but PlasmaPy functions use a shared set of recognized keys to automatically interperet quantities. The full list of recognized keys can be accessed in the module:"
   ]
  },
  {
   "cell_type": "code",
   "execution_count": 25,
   "metadata": {},
   "outputs": [
    {
     "name": "stdout",
     "output_type": "stream",
     "text": [
      "x -> x spatial position (m)\n",
      "y -> y spatial position (m)\n",
      "z -> z spatial position (m)\n",
      "rho -> Mass density (kg / m3)\n",
      "E_x -> Electric field (x component) (V / m)\n",
      "E_y -> Electric field (y component) (V / m)\n",
      "E_z -> Electric field (z component) (V / m)\n",
      "B_x -> Magnetic field (x component) (T)\n",
      "B_y -> Magnetic field (y component) (T)\n",
      "B_z -> Magnetic field (z component) (T)\n"
     ]
    }
   ],
   "source": [
    "for key in grids.recognized_keys.keys():\n",
    "    name,unit = grids.recognized_keys[key]\n",
    "    print(f\"{key} -> {name} ({unit})\")"
   ]
  },
  {
   "cell_type": "markdown",
   "metadata": {},
   "source": [
    "Quantities can be added to the grid one at a time, or in groups"
   ]
  },
  {
   "cell_type": "code",
   "execution_count": 26,
   "metadata": {},
   "outputs": [],
   "source": [
    "grid.add_quantity('B_z', Bz)\n",
    "grid.add_quantities(['E_x', 'E_y', 'E_z'], [Ex, Ey, Ez])"
   ]
  },
  {
   "cell_type": "markdown",
   "metadata": {},
   "source": [
    "Adding an unrecognized quantity will lead to a warning"
   ]
  },
  {
   "cell_type": "code",
   "execution_count": 27,
   "metadata": {},
   "outputs": [
    {
     "name": "stderr",
     "output_type": "stream",
     "text": [
      "C:\\Users\\Peter\\Anaconda3\\envs\\plasmapy\\lib\\site-packages\\ipykernel_launcher.py:2: UserWarning: Warning: int_B is not recognized quantity key\n",
      "  \n"
     ]
    }
   ],
   "source": [
    "custom_quantity = np.random.rand(*grid.shape)*u.T*u.mm\n",
    "grid.add_quantity(\"int_B\", custom_quantity)"
   ]
  },
  {
   "cell_type": "markdown",
   "metadata": {},
   "source": [
    "A summary of the grid, including the currently-defined quantities, can be produced by printing the grid object"
   ]
  },
  {
   "cell_type": "code",
   "execution_count": 28,
   "metadata": {},
   "outputs": [
    {
     "name": "stdout",
     "output_type": "stream",
     "text": [
      "*** Grid summary ***:\n",
      "<class 'plasmapy.plasma.grids.CartesianGrid'>\n",
      "Shape: (150, 150, 150)\n",
      "Units: [Unit(\"cm\"), Unit(\"cm\"), Unit(\"cm\")]\n",
      "Uniformly Spaced, dx,dy,dz = (0.013 cm,0.013 cm,0.013 cm)\n",
      "-----------------------------\n",
      "Recognized Quantities:\n",
      "-> B_z (T)\n",
      "-> E_x (V / m)\n",
      "-> E_y (V / m)\n",
      "-> E_z (V / m)\n",
      "-----------------------------\n",
      "Unrecognized Quantities:\n",
      "-> int_B (mm T)\n",
      "\n"
     ]
    }
   ],
   "source": [
    "print(grid)"
   ]
  },
  {
   "cell_type": "markdown",
   "metadata": {},
   "source": [
    "## Interpolating Quantities"
   ]
  },
  {
   "cell_type": "markdown",
   "metadata": {},
   "source": [
    "Grid objects contain several interpolator methods to evaluate quantites at positions between the grid verticies. These interpolators use the fact that the quantities are defined on the same grid to perform faster interpolations using a nearest-neighbor scheme. When an interpolation at a position is requested, the grid indices closest to that position are calculated. Then, the quantity arrays are evaluated at the interpolated indices. Using this method, many quantities can be interpolated at the same positions in almost the same amount of time as is required to interpolate one quantity. \n",
    "\n",
    "Positions are provided to the interpolator as an u.Quantity array of shape [N,3] where N is the number of positions and [i,:] represents the x,y,z coordinates of the ith position:"
   ]
  },
  {
   "cell_type": "code",
   "execution_count": 29,
   "metadata": {},
   "outputs": [
    {
     "name": "stdout",
     "output_type": "stream",
     "text": [
      "Pos shape: (2, 3)\n",
      "Position 1: [ 0.1 -0.3  0. ] cm\n",
      "Position 2: [0.5  0.25 0.8 ] cm\n"
     ]
    }
   ],
   "source": [
    "pos = np.array([[0.1, -0.3, 0], [0.5, .25, .8]]) * u.cm\n",
    "print(f\"Pos shape: {pos.shape}\")\n",
    "print(f\"Position 1: {pos[0,:]}\")\n",
    "print(f\"Position 2: {pos[1,:]}\")"
   ]
  },
  {
   "cell_type": "markdown",
   "metadata": {},
   "source": [
    "The simplest interpolator directly returns the nearest-neighbor values for each quantity. Positions that are out-of-bounds return an interpolated value of zero."
   ]
  },
  {
   "cell_type": "code",
   "execution_count": 30,
   "metadata": {},
   "outputs": [
    {
     "name": "stdout",
     "output_type": "stream",
     "text": [
      "Ex at position 1: 0.63 V / m\n"
     ]
    }
   ],
   "source": [
    "Ex_vals = grid.nearest_neighbor_interpolator(pos, \"E_x\")\n",
    "print(f\"Ex at position 1: {Ex_vals[0]:.2f}\")"
   ]
  },
  {
   "cell_type": "markdown",
   "metadata": {},
   "source": [
    "Multiple values can be interpolated at the same time by including additional keys as arguments. In this case, the interpolator returns a tuple of arrays as a result."
   ]
  },
  {
   "cell_type": "code",
   "execution_count": 31,
   "metadata": {},
   "outputs": [
    {
     "name": "stdout",
     "output_type": "stream",
     "text": [
      "E at position 1: (0.63 V / m,0.39 V / m,0.33 V / m)\n"
     ]
    }
   ],
   "source": [
    "Ex_vals, Ey_vals, Ez_vals = grid.nearest_neighbor_interpolator(pos, \"E_x\",\"E_y\",\"E_z\")\n",
    "print(f\"E at position 1: ({Ex_vals[0]:.2f},{Ey_vals[0]:.2f},{Ez_vals[0]:.2f})\")"
   ]
  },
  {
   "cell_type": "markdown",
   "metadata": {},
   "source": [
    "For a higher-order interpolation, some grids (such as the CartesianGrid subclass) also include a volume-weighted interpolator. This interpolator averages the values on the eight grid verticies surrounding the position (weighted by their distance). The syntax for using this interpolator is the same:"
   ]
  },
  {
   "cell_type": "code",
   "execution_count": 32,
   "metadata": {},
   "outputs": [
    {
     "name": "stdout",
     "output_type": "stream",
     "text": [
      "E at position 1: (0.59 V / m,0.48 V / m,0.42 V / m)\n"
     ]
    }
   ],
   "source": [
    "Ex_vals, Ey_vals, Ez_vals = grid.volume_averaged_interpolator(pos, \"E_x\",\"E_y\",\"E_z\")\n",
    "print(f\"E at position 1: ({Ex_vals[0]:.2f},{Ey_vals[0]:.2f},{Ez_vals[0]:.2f})\")"
   ]
  },
  {
   "cell_type": "code",
   "execution_count": null,
   "metadata": {},
   "outputs": [],
   "source": []
  }
 ],
 "metadata": {
  "kernelspec": {
   "display_name": "Python 3",
   "language": "python",
   "name": "python3"
  },
  "language_info": {
   "codemirror_mode": {
    "name": "ipython",
    "version": 3
   },
   "file_extension": ".py",
   "mimetype": "text/x-python",
   "name": "python",
   "nbconvert_exporter": "python",
   "pygments_lexer": "ipython3",
   "version": "3.7.6"
  }
 },
 "nbformat": 4,
 "nbformat_minor": 4
}
