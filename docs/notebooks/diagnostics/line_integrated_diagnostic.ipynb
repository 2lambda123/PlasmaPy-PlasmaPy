{
 "cells": [
  {
   "cell_type": "markdown",
   "id": "unavailable-usage",
   "metadata": {},
   "source": [
    "# Line Integrated Diagnostics"
   ]
  },
  {
   "cell_type": "markdown",
   "id": "genetic-genetics",
   "metadata": {},
   "source": [
    "[LineIntegratedDiagnostic]: ../../api/plasmapy.diagnostics.path_integrated_diagnostic.LineIntegratedDiagnostic.rst#plasmapy.diagnostics.path_integrated_diagnostic.LineIntegratedDiagnostic\n",
    "\n",
    "Many plasma diagnostics use a beam of light or particles to probe the properties of a plasma. Such measurements are inherently line-integrated: for example, an imaging interferometer reduces the density along the probe beam path, $n(x,y,z)$, to a 2D plane of phase shifts, $\\Delta \\phi(x,y)$. \n",
    "\n",
    "The [LineIntegratedDiagnostic] class in PlasmaPy provides an abstract framework for creating synthetic diagnostics that work in this manner. These synthetic diagnostics can then be used to predict the results of experimental measurements given an analytical model or simulation result describing a plasma. In this notebook, we will review the synthetic diagnostics implemented in PlasmaPy as subclasses of LineIntegrated Diagnostic. We will then explicitly re-create the `Interferometer` synthetic diagnostic class to provide an example of how the [LineIntegratedDiagnostic] abstract class can be subclassed to create a custom synthetic diagnostic."
   ]
  },
  {
   "cell_type": "code",
   "execution_count": null,
   "id": "hollywood-papua",
   "metadata": {},
   "outputs": [],
   "source": [
    "import astropy.constants as const\n",
    "import astropy.units as u\n",
    "import matplotlib.pyplot as plt\n",
    "import numpy as np\n",
    "\n",
    "from scipy.signal import medfilt\n",
    "\n",
    "from plasmapy.diagnostics.path_integrated_diagnostic import (\n",
    "    Interferometer,\n",
    "    LineIntegratedDiagnostic,\n",
    ")\n",
    "from plasmapy.plasma.grids import CartesianGrid"
   ]
  },
  {
   "cell_type": "markdown",
   "id": "eight-communist",
   "metadata": {},
   "source": [
    "## Contents\n",
    "\n",
    "1. [The Line Integrated Diagnostic Framework](#The-Line-Integrated-Diagnostic-Framework)\n",
    "1. [Interferometer](#Interferometer)\n",
    "1. [Creating a Custom Diagnostic Class](#Creating-a-Custom-Diagnostic-Class)\n"
   ]
  },
  {
   "cell_type": "markdown",
   "id": "enabling-surgeon",
   "metadata": {},
   "source": [
    "## The Line Integrated Diagnostic Framework"
   ]
  },
  {
   "cell_type": "markdown",
   "id": "weekly-howard",
   "metadata": {},
   "source": [
    "[LineIntegratedDiagnostic]: ../../api/plasmapy.diagnostics.path_integrated_diagnostic.LineIntegratedDiagnostic.rst#plasmapy.diagnostics.path_integrated_diagnostic.LineIntegratedDiagnostic\n",
    "\n",
    "[Grid]: ../../api/plasmapy.plasma.grids.rst#plasmapy.plasma.grids\n",
    "\n",
    "<img src=\"line_integrated_diagnostic_setup.png\">\n",
    "\n",
    "A [LineIntegratedDiagnostic] class object is instantiated by providing a [Grid] object (representing the plasma to be measured) as well as vectors from the origin of the [Grid] to the detector plane and the source plane. The line integral through the grid is then calculated using the `line_integral` method. This method takes keywords that define the size and resolution of the detector. The line integral is then calculated using the following method:\n",
    "\n",
    "1. A 2D array of points (Nx, Ny) in the detector plane is created. A corresponding array of points is created in the source plane. If the `collimated` keyword is False, all of the source points will instead be set equal to the point defined by the source vector. \n",
    "2. Equations are calculated for lines that connect each point in the detector plane to the corresponding point in the source plane. \n",
    "3. A number of points (set by the `num` keyword) are generated on each line in the region where the lines cross the grid. The result is a 3D array with dimensions (Nx, Ny, num).\n",
    "4. The `integrand()` method is evaluated at each point in the 3D array.\n",
    "5. The resulting integrand array is then integrated along the last dimension to produce the final (Nx,Ny) array representing the line-integral as collected in the detector plane.\n",
    "\n",
    "Subclasses of [LineIntegratedDiagnostic] overwrite the `integrand()` method in order to line-integrate different quantities and thus represent different diagnostics."
   ]
  },
  {
   "cell_type": "markdown",
   "id": "07e2b816",
   "metadata": {},
   "source": [
    "## Interferometer"
   ]
  },
  {
   "cell_type": "markdown",
   "id": "dfaa16bd",
   "metadata": {},
   "source": [
    "[Interferometer]: ../../api/plasmapy.diagnostics.path_integrated_diagnostic.interferometry.Interferometer.rst#plasmapy.diagnostics.path_integrated_diagnostic.interferometry.Interferometer\n",
    "\n",
    "An interferometer diagnoses plasma density by measuring the phase shift ($\\Delta \\phi$) of a probe beam. The phase shift is \n",
    "\n",
    "\\begin{equation}\n",
    "\\Delta \\phi = -\\frac{\\omega_{probe}}{2 c n_c} \\int n_e dl\n",
    "\\end{equation}\n",
    "\n",
    "Where $\\omega_{probe}$ is the probe beam frequency, $c$ is the speed of light, $\\int n_e dl$ is the line-integrated electron density, and $n_c$ is the critical density\n",
    "\n",
    "\\begin{equation}\n",
    "n_c = \\frac{\\epsilon_0 m_e}{e^2} \\omega_{probe}^2\n",
    "\\end{equation}\n",
    "\n",
    "The PlasmaPy [Interferometer] class calculates $\\Delta \\phi$ given a grid of electron densities. In order to demonstrate the use of this class, we will first create a cylinder of constant electron density."
   ]
  },
  {
   "cell_type": "code",
   "execution_count": null,
   "id": "cc0ddd49",
   "metadata": {},
   "outputs": [],
   "source": [
    "axis = np.linspace(-2, 2, num=200) * u.mm\n",
    "xarr, yarr, zarr = np.meshgrid(axis, axis, axis, indexing=\"ij\")\n",
    "r = np.sqrt(xarr ** 2 + yarr ** 2)\n",
    "r0 = 1 * u.mm\n",
    "n_e = np.where(r < r0, np.cos((r / r0).value * np.pi / 2), 0) * 2e19 / u.cm ** 3\n",
    "grid = CartesianGrid(xarr, yarr, zarr)\n",
    "grid.add_quantities(n_e=n_e)\n",
    "\n",
    "\n",
    "fig, ax = plt.subplots(ncols=2, figsize=(12, 6))\n",
    "fig.subplots_adjust(right=1)\n",
    "p1 = ax[0].pcolormesh(\n",
    "    axis.to(u.mm).value, axis.to(u.mm).value, grid[\"n_e\"][:, :, 100], shading=\"auto\"\n",
    ")\n",
    "ax[0].set_xlabel(\"X (mm)\")\n",
    "ax[0].set_ylabel(\"Y (mm)\")\n",
    "ax[0].set_aspect(\"equal\")\n",
    "\n",
    "p2 = ax[1].pcolormesh(\n",
    "    axis.to(u.mm).value, axis.to(u.mm).value, grid[\"n_e\"][:, 100, :], shading=\"auto\"\n",
    ")\n",
    "ax[1].set_xlabel(\"X (mm)\")\n",
    "ax[1].set_ylabel(\"Z (mm)\")\n",
    "ax[1].set_aspect(\"equal\")\n",
    "\n",
    "cb = fig.colorbar(p2, ax=ax, orientation=\"vertical\", pad=0.03, shrink=0.7)\n",
    "cb.ax.set_ylabel(\"Density (cm$^{-3}$)\", fontsize=16);"
   ]
  },
  {
   "cell_type": "markdown",
   "id": "c9bd28a7",
   "metadata": {},
   "source": [
    "Next we will instantiate an Interferometer object with this grid"
   ]
  },
  {
   "cell_type": "code",
   "execution_count": null,
   "id": "fd0e4f48",
   "metadata": {},
   "outputs": [],
   "source": [
    "source = (0 * u.mm, -5 * u.mm, 0 * u.mm)\n",
    "detector = (0 * u.mm, 5 * u.mm, 0 * u.mm)\n",
    "obj = Interferometer(grid, source, detector, verbose=False)"
   ]
  },
  {
   "cell_type": "markdown",
   "id": "8ecf694c",
   "metadata": {},
   "source": [
    "Finally, we will use the `evaluate` function to carry out the line integration and calculate the phase shift. This function takes the following arguments\n",
    "\n",
    "- $\\omega_{probe}$, the frequency of the probe beam in Hz\n",
    "- `num` : The number of interpolated points over which the line integral is carried out.\n",
    "\n",
    "and the keywords\n",
    "- `size` : An array defining the size of the detector plane\n",
    "- `bins` : A list of two values defining the horizontal and vertical resolution of the detector plane.\n",
    "- `unwrapped` : If true, returns the total phase shift (without 2$\\pi$ discontinuities)."
   ]
  },
  {
   "cell_type": "code",
   "execution_count": null,
   "id": "68a50a9f",
   "metadata": {},
   "outputs": [],
   "source": [
    "wprobe = 1.14e15 * u.Hz\n",
    "size = np.array([[-1, 1], [-1, 1]]) * 1.2 * u.mm\n",
    "bins = [100, 100]\n",
    "hax, vax, phase = obj.evaluate(wprobe, 30, size=size, bins=bins, unwrapped=False)\n",
    "hax = hax.to(u.mm).value\n",
    "vax = vax.to(u.mm).value"
   ]
  },
  {
   "cell_type": "code",
   "execution_count": null,
   "id": "8da58d8c",
   "metadata": {},
   "outputs": [],
   "source": [
    "fig, ax = plt.subplots(figsize=(8, 8))\n",
    "plot = ax.pcolormesh(hax, vax, phase.T / np.pi, cmap=\"binary\", shading=\"auto\")\n",
    "ax.set_aspect(\"equal\")\n",
    "ax.set_xlabel(\"X (mm)\", fontsize=16)\n",
    "ax.set_ylabel(\"Z (mm)\", fontsize=16)\n",
    "\n",
    "cb = fig.colorbar(plot, ax=ax, orientation=\"vertical\", pad=0.03, shrink=0.7)\n",
    "cb.ax.set_ylabel(\"Phase Shift / $\\pi$\", fontsize=16);"
   ]
  },
  {
   "cell_type": "markdown",
   "id": "3f8575e9",
   "metadata": {},
   "source": [
    "The resulting image represents the line-integral through the 3D grid, projected onto the detector plane. Running the `evaluate` method with more `bins` and larger `num` will create a higher resolution image."
   ]
  },
  {
   "cell_type": "code",
   "execution_count": null,
   "id": "02cb03b0",
   "metadata": {},
   "outputs": [],
   "source": [
    "size = np.array([[-1, 1], [-1, 1]]) * 1.2 * u.mm\n",
    "bins = [300, 300]\n",
    "hax, vax, phase = obj.evaluate(wprobe, 400, size=size, bins=bins, unwrapped=False)\n",
    "hax = hax.to(u.mm).value\n",
    "vax = vax.to(u.mm).value"
   ]
  },
  {
   "cell_type": "code",
   "execution_count": null,
   "id": "ff4a2fc9",
   "metadata": {},
   "outputs": [],
   "source": [
    "fig, ax = plt.subplots(figsize=(8, 8))\n",
    "plot = ax.pcolormesh(hax, vax, phase.T / np.pi, cmap=\"binary\", shading=\"auto\")\n",
    "ax.set_aspect(\"equal\")\n",
    "ax.set_xlabel(\"X (mm)\", fontsize=16)\n",
    "ax.set_ylabel(\"Z (mm)\", fontsize=16)\n",
    "\n",
    "cb = fig.colorbar(plot, ax=ax, orientation=\"vertical\", pad=0.03, shrink=0.7)\n",
    "cb.ax.set_ylabel(\"Phase Shift / $\\pi$\", fontsize=16);"
   ]
  },
  {
   "cell_type": "markdown",
   "id": "efa480c6",
   "metadata": {},
   "source": [
    "[scipy.signal.medfilt]: https://docs.scipy.org/doc/scipy/reference/generated/scipy.signal.medfilt.html\n",
    "\n",
    "The alternating fringes in the image are phase jumps which occur when the phase shift exceeds $2 \\pi$. With an experimental interferogram, these phase jumps must be 'unwrapped' to recover the total phase shift, which is possible when a region of zero phase shift is present in the image. In this case, $\\Delta \\phi = 0$ along the horizontal boundaries of the image, so each row of the interferogram can be unwrapped separately.\n",
    "\n",
    "Since this method is sensitive to the finite resolution noise on the interferogram, we will first average over the vertical dimension and apply a median filter ([scipy.signal.medfilt]) to smooth the profile."
   ]
  },
  {
   "cell_type": "code",
   "execution_count": null,
   "id": "fac4771e",
   "metadata": {},
   "outputs": [],
   "source": [
    "mean_phase = np.mean(phase, axis=1)\n",
    "filt_phase = medfilt(mean_phase, 5)\n",
    "unwrapped = np.unwrap(filt_phase)\n",
    "\n",
    "fig, ax = plt.subplots(figsize=(6, 6))\n",
    "ax.plot(hax, mean_phase, label=\"Mean\")\n",
    "ax.plot(hax, filt_phase, label=\"Filtered\")\n",
    "ax.plot(hax, unwrapped, label=\"Unwrapped\")\n",
    "ax.legend(fontsize=12)\n",
    "ax.set_xlabel(\"X (mm)\", fontsize=16)\n",
    "ax.set_ylabel(\"$\\Delta \\phi$\", fontsize=16);"
   ]
  },
  {
   "cell_type": "markdown",
   "id": "8a7c136f",
   "metadata": {},
   "source": [
    "The line-integrated density can then be recovered from the unwrapped phase\n",
    "\n",
    "\\begin{equation}\n",
    "\\int n_e dl = \\frac{2 c \\epsilon_0 m_e}{e^2} \\omega_p \\Delta \\phi\n",
    "\\end{equation}"
   ]
  },
  {
   "cell_type": "code",
   "execution_count": null,
   "id": "a3c045b2",
   "metadata": {},
   "outputs": [],
   "source": [
    "int_ne = (\n",
    "    -2 * const.c * const.eps0.si * const.m_e / const.e.si ** 2 * wprobe * unwrapped\n",
    ").to(u.cm ** -2)\n",
    "\n",
    "fig, ax = plt.subplots(figsize=(6, 6))\n",
    "ax.plot(hax, int_ne.value)\n",
    "ax.set_xlabel(\"X (mm)\", fontsize=16)\n",
    "ax.set_ylabel(\"Line-Integrated $n_e$ (cm$^{-2}$)\", fontsize=16);"
   ]
  },
  {
   "cell_type": "markdown",
   "id": "308e1cbd",
   "metadata": {},
   "source": [
    "The unwrapped phase shift can also be recovered directly from the `Interferometer` class by running `evaluate` with `unwrapped = True`."
   ]
  },
  {
   "cell_type": "code",
   "execution_count": null,
   "id": "3a7ef4d4",
   "metadata": {},
   "outputs": [],
   "source": [
    "size = np.array([[-1, 1], [-1, 1]]) * 1.2 * u.mm\n",
    "bins = [300, 300]\n",
    "hax, vax, phase = obj.evaluate(wprobe, 400, size=size, bins=bins, unwrapped=True)\n",
    "hax = hax.to(u.mm).value\n",
    "vax = vax.to(u.mm).value"
   ]
  },
  {
   "cell_type": "code",
   "execution_count": null,
   "id": "65a3befe",
   "metadata": {},
   "outputs": [],
   "source": [
    "fig, ax = plt.subplots(figsize=(8, 8))\n",
    "plot = ax.pcolormesh(hax, vax, phase.T / np.pi, cmap=\"binary\", shading=\"auto\")\n",
    "ax.set_aspect(\"equal\")\n",
    "ax.set_xlabel(\"X (mm)\", fontsize=16)\n",
    "ax.set_ylabel(\"Z (mm)\", fontsize=16)\n",
    "\n",
    "cb = fig.colorbar(plot, ax=ax, orientation=\"vertical\", pad=0.03, shrink=0.7)\n",
    "cb.ax.set_ylabel(\"Phase Shift / $\\pi$ (unwrapped)\", fontsize=16);"
   ]
  },
  {
   "cell_type": "markdown",
   "id": "032caf1f",
   "metadata": {},
   "source": [
    "As with any LineIntegratedDiagnostic, `Interferometer` is capable of line-integrating through grids at arbitrary angles as set by the provided source and detector vectors. The following example integrates through the test cylinder at an angle of $45^\\circ$ to the cylinder axis."
   ]
  },
  {
   "cell_type": "code",
   "execution_count": null,
   "id": "c69974d0",
   "metadata": {},
   "outputs": [],
   "source": [
    "source = (0 * u.mm, -5 * u.mm, -5 * u.mm)\n",
    "detector = (0 * u.mm, 5 * u.mm, 5 * u.mm)\n",
    "obj = Interferometer(grid, source, detector, verbose=False)\n",
    "\n",
    "size = np.array([[-1, 1], [-1, 1]]) * 1.5 * u.mm\n",
    "bins = [300, 300]\n",
    "hax, vax, phase = obj.evaluate(wprobe, 400, size=size, bins=bins, unwrapped=False)\n",
    "hax = hax.to(u.mm).value\n",
    "vax = vax.to(u.mm).value"
   ]
  },
  {
   "cell_type": "code",
   "execution_count": null,
   "id": "4eef6312",
   "metadata": {},
   "outputs": [],
   "source": [
    "fig, ax = plt.subplots(figsize=(8, 8))\n",
    "plot = ax.pcolormesh(hax, vax, phase.T / np.pi, cmap=\"binary\", shading=\"auto\")\n",
    "ax.set_aspect(\"equal\")\n",
    "ax.set_xlabel(\"X (mm)\", fontsize=16)\n",
    "ax.set_ylabel(\"Z (mm)\", fontsize=16)\n",
    "\n",
    "cb = fig.colorbar(plot, ax=ax, orientation=\"vertical\", pad=0.03, shrink=0.7)\n",
    "cb.ax.set_ylabel(\"Phase Shift / $\\pi$\", fontsize=16);"
   ]
  },
  {
   "cell_type": "markdown",
   "id": "recent-accountability",
   "metadata": {},
   "source": [
    "## Creating a Custom Diagnostic Class"
   ]
  },
  {
   "cell_type": "markdown",
   "id": "marine-haiti",
   "metadata": {},
   "source": [
    "[LineIntegratedDiagnostic]: ../../api/plasmapy.diagnostics.path_integrated_diagnostic.LineIntegratedDiagnostic.rst#plasmapy.diagnostics.path_integrated_diagnostic.LineIntegratedDiagnostic\n",
    "\n",
    "A [LineIntegratedDiagnostic] synthetic diagnostic for interferometry ([Interferometer]) is already implemented in PlasmaPy. However, in this notebook we will re-create this class in order to demonstrate how a custom subclass of [LineIntegratedDiagnostic] can be used to create a new synthetic diagnostic.\n",
    "\n",
    "In order to predict the phase shift through a plasma, we therefore only need to know the density line-integrated along the probe beam axis. This can be accomplished by defining a [LineIntegratedDiagnostic] with an appropriate `_integrand()` method as follows."
   ]
  },
  {
   "cell_type": "code",
   "execution_count": null,
   "id": "written-defeat",
   "metadata": {},
   "outputs": [],
   "source": [
    "class ExampleInterferometer(LineIntegratedDiagnostic):\n",
    "    def _integrand(self, pts):\n",
    "        # Reshape the pts array from grid shape (nx, ny, nz, 3) to a list\n",
    "        # of points (nx*ny*nz, 3) as required by the grids interpolators\n",
    "        nx, ny, nz, ndim = pts.shape\n",
    "        pts = np.reshape(pts, (nx * ny * nz, ndim))\n",
    "\n",
    "        integrand = self.grid.volume_averaged_interpolator(pts, \"n_e\")\n",
    "\n",
    "        # Reshape the integrands from (nx*ny*nz) to (nx, ny, nz)\n",
    "        integrand = np.reshape(integrand, (nx, ny, nz))\n",
    "\n",
    "        return integrand\n",
    "\n",
    "    def evaluate(\n",
    "        self,\n",
    "        probe_freq: u.Hz,\n",
    "        num,\n",
    "        size=np.array([[-1, 1], [-1, 1]]) * u.cm,\n",
    "        bins=[50, 50],\n",
    "        collimated=True,\n",
    "        unwrapped=False,\n",
    "    ):\n",
    "\n",
    "        n_c = (\n",
    "            (const.eps0.si * const.m_e / const.e.si ** 2)\n",
    "            * (2 * np.pi) ** 2\n",
    "            * probe_freq ** 2\n",
    "        ).to(u.cm ** -3)\n",
    "\n",
    "        hax, vax, int_ne = self._line_integral(\n",
    "            size=size, bins=bins, collimated=collimated, num=num\n",
    "        )\n",
    "\n",
    "        phase_shift = (-np.pi * probe_freq / (const.c.si * n_c)) * int_ne\n",
    "        phase_shift = phase_shift.to(u.dimensionless_unscaled).value\n",
    "\n",
    "        if not unwrapped:\n",
    "            phase_shift = (phase_shift + np.pi) % (2 * np.pi) - np.pi\n",
    "\n",
    "        return hax, vax, phase_shift"
   ]
  },
  {
   "cell_type": "markdown",
   "id": "subject-nickname",
   "metadata": {},
   "source": [
    "[LineIntegratedDiagnostic]: ../../api/plasmapy.diagnostics.path_integrated_diagnostic.LineIntegratedDiagnostic.rst#plasmapy.diagnostics.path_integrated_diagnostic.LineIntegratedDiagnostic\n",
    "\n",
    "In this case, the `_integrand()` method will return the density at each of the integration points. The `evaluate()` method is a wrapper around the `_line_integral()` method of [LineIntegratedDiagnostic] that calculates the total phase shift from the line-integrated density. If the `unwrapped` keyword is not set, then the function takes the modulus with respect to $2 \\pi$ to estimate where jumps in the phase will occur.\n",
    "\n",
    "In order to demonstrate the use of this ExampleInterferometer class, we will create an interferogram from an example grid which contains a sphere of constant density."
   ]
  },
  {
   "cell_type": "code",
   "execution_count": null,
   "id": "indoor-exclusive",
   "metadata": {},
   "outputs": [],
   "source": [
    "axis = np.linspace(-2, 2, num=200) * u.mm\n",
    "xarr, yarr, zarr = np.meshgrid(axis, axis, axis, indexing=\"ij\")\n",
    "r = np.sqrt(xarr ** 2 + yarr ** 2 + zarr ** 2)\n",
    "n_e = np.where(r < 1 * u.mm, 1, 0) * 3e19 / u.cm ** 3\n",
    "grid = CartesianGrid(xarr, yarr, zarr)\n",
    "grid.add_quantities(n_e=n_e)\n",
    "\n",
    "fig, ax = plt.subplots(figsize=(6, 6))\n",
    "ax.pcolormesh(\n",
    "    axis.to(u.mm).value, axis.to(u.mm).value, grid[\"n_e\"][:, 100, :], shading=\"auto\"\n",
    ")\n",
    "ax.set_xlabel(\"X (mm)\")\n",
    "ax.set_ylabel(\"Z (mm)\")\n",
    "ax.set_aspect(\"equal\")"
   ]
  },
  {
   "cell_type": "markdown",
   "id": "pediatric-spending",
   "metadata": {},
   "source": [
    "Now we can initialize the `ExampleInterferometer` class by also defining the locations of the source and detector"
   ]
  },
  {
   "cell_type": "code",
   "execution_count": null,
   "id": "beginning-liechtenstein",
   "metadata": {},
   "outputs": [],
   "source": [
    "source = (0 * u.mm, -5 * u.mm, 0 * u.mm)\n",
    "detector = (0 * u.mm, 5 * u.mm, 0 * u.mm)\n",
    "obj = Interferometer(grid, source, detector, verbose=False)"
   ]
  },
  {
   "cell_type": "markdown",
   "id": "prerequisite-england",
   "metadata": {},
   "source": [
    "Finally we will specify the size and resolution of the detector plane when calling the `evaluate()` method to create the synthetic interferogram."
   ]
  },
  {
   "cell_type": "code",
   "execution_count": null,
   "id": "executive-utilization",
   "metadata": {},
   "outputs": [],
   "source": [
    "size = np.array([[-1, 1], [-1, 1]]) * 1.2 * u.mm\n",
    "bins = [300, 300]\n",
    "\n",
    "hax, vax, phase = obj.evaluate(1.14e15 * u.Hz, 400, size=size, bins=bins)\n",
    "hax = hax.to(u.mm).value\n",
    "vax = vax.to(u.mm).value"
   ]
  },
  {
   "cell_type": "code",
   "execution_count": null,
   "id": "lasting-chosen",
   "metadata": {
    "nbsphinx-thumbnail": {
     "output-index": -1,
     "tooltip": "Line Integrated Interferometry Diagnostic"
    }
   },
   "outputs": [],
   "source": [
    "fig, ax = plt.subplots(figsize=(8, 8))\n",
    "plot = ax.pcolormesh(hax, vax, phase.T / np.pi, cmap=\"binary\", shading=\"auto\")\n",
    "ax.set_aspect(\"equal\")\n",
    "ax.set_xlabel(\"X (mm)\", fontsize=16)\n",
    "ax.set_ylabel(\"Z (mm)\", fontsize=16)\n",
    "\n",
    "cb = fig.colorbar(plot, ax=ax, orientation=\"vertical\", pad=0.03, shrink=0.7)\n",
    "cb.ax.set_ylabel(\"Phase Shift / $\\pi$\", fontsize=16);"
   ]
  }
 ],
 "metadata": {
  "kernelspec": {
   "display_name": "Python 3",
   "language": "python",
   "name": "python3"
  },
  "language_info": {
   "codemirror_mode": {
    "name": "ipython",
    "version": 3
   },
   "file_extension": ".py",
   "mimetype": "text/x-python",
   "name": "python",
   "nbconvert_exporter": "python",
   "pygments_lexer": "ipython3",
   "version": "3.7.10"
  }
 },
 "nbformat": 4,
 "nbformat_minor": 5
}
