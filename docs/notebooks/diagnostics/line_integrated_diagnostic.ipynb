{
 "cells": [
  {
   "cell_type": "markdown",
   "id": "unavailable-usage",
   "metadata": {},
   "source": [
    "# Line Integrated Diagnostics: Interferometry"
   ]
  },
  {
   "cell_type": "markdown",
   "id": "genetic-genetics",
   "metadata": {},
   "source": [
    "[LineIntegratedDiagnostic]: ../../api/plasmapy.diagnostics.path_integrated_diagnostic.LineIntegratedDiagnostic.rst#plasmapy.diagnostics.path_integrated_diagnostic.LineIntegratedDiagnostic\n",
    "\n",
    "Many plasma diagnostics use a beam of light or particles to probe the properties of a plasma. Such measurements are inherently line-integrated: for example, an imaging interferometer reduces the density along the probe beam path, $n(x,y,z)$, to a 2D plane of phase shifts, $\\Delta \\phi(x,y)$. \n",
    "\n",
    "The [LineIntegratedDiagnostic] class in PlasmaPy provides an abstract framework for creating synthetic diagnostics that work in this manner. These synthetic diagnostics can then be used to predict the results of experimental measurements given an analytical model or simulation result describing a plasma.\n",
    "\n",
    "Although PlasmaPy contains LineIntegrateDiagnostic subclasses for several diagnostics (including interferometry), this notebook will explicitly create an Interferometer synthetic diagnostic to demonstrate the use of the [LineIntegratedDiagnostic] abstract class."
   ]
  },
  {
   "cell_type": "code",
   "execution_count": null,
   "id": "hollywood-papua",
   "metadata": {},
   "outputs": [],
   "source": [
    "import astropy.constants as const\n",
    "import astropy.units as u\n",
    "import matplotlib.pyplot as plt\n",
    "import numpy as np\n",
    "\n",
    "from plasmapy.diagnostics.path_integrated_diagnostic import LineIntegratedDiagnostic\n",
    "from plasmapy.plasma.grids import CartesianGrid"
   ]
  },
  {
   "cell_type": "markdown",
   "id": "eight-communist",
   "metadata": {},
   "source": [
    "## Contents\n",
    "\n",
    "1. [The Line Integrated Diagnostic Framework](#The-Line-Integrated-Diagnostic-Framework)\n",
    "1. [Creating the Interferometer Class](#Creating-the-Interferometer-Class)\n",
    "1. [Using the Interferometer Class](#Using-the-Interferometer-Class)   "
   ]
  },
  {
   "cell_type": "markdown",
   "id": "enabling-surgeon",
   "metadata": {},
   "source": [
    "## The Line Integrated Diagnostic Framework"
   ]
  },
  {
   "cell_type": "markdown",
   "id": "weekly-howard",
   "metadata": {},
   "source": [
    "[LineIntegratedDiagnostic]: ../../api/plasmapy.diagnostics.path_integrated_diagnostic.LineIntegratedDiagnostic.rst#plasmapy.diagnostics.path_integrated_diagnostic.LineIntegratedDiagnostic\n",
    "\n",
    "[CartesianGrid]: ../../api/plasmapy.plasma.grids.CartesianGrid.rst#plasmapy.plasma.grids.CartesianGrid\n",
    "\n",
    "<img src=\"line_integrated_diagnostic_setup.png\">\n",
    "\n",
    "A [LineIntegratedDiagnostic] class object is instantiated by providing a [CartesianGrid] object (representing the plasma to be measured) as well as vectors from the origin of the [CartesianGrid] to the detector plane and the source plane. The line integral through the grid is then calculated using the `line_integral` method. This method takes keywords that define the size and resolution of the detector. The line integral is then calculated using the following method:\n",
    "\n",
    "1. A 2D array of points (Nx, Ny) in the detector plane is created. A corresponding array of points is created in the source plane. If the `collimated` keyword is False, all of the source points will instead be set equal to the point defined by the source vector. \n",
    "2. Equations are calculated for lines that connect each point in the detector plane to the corresponding point in the source plane. \n",
    "3. A number of points (set by the `num` keyword) are generated on each line in the region where the lines cross the grid. The result is a 3D array with dimensions (Nx, Ny, num).\n",
    "4. The `integrand()` method is evaluated at each point in the 3D array.\n",
    "5. The resulting integrand array is then integrated along the last dimension to produce the final (Nx,Ny) array representing the line-integral as collected in the detector plane.\n",
    "\n",
    "Subclasses of [LineIntegratedDiagnostic] overwrite the `integrand()` method in order to line-integrate different quantities and thus represent different diagnostics."
   ]
  },
  {
   "cell_type": "markdown",
   "id": "recent-accountability",
   "metadata": {},
   "source": [
    "## Creating the Interferometer Class"
   ]
  },
  {
   "cell_type": "markdown",
   "id": "marine-haiti",
   "metadata": {},
   "source": [
    "[LineIntegratedDiagnostic]: ../../api/plasmapy.diagnostics.path_integrated_diagnostic.LineIntegratedDiagnostic.rst#plasmapy.diagnostics.path_integrated_diagnostic.LineIntegratedDiagnostic\n",
    "\n",
    "An interferometer diagnoses plasma density by measuring the phase shift ($\\Delta \\phi$) of a probe beam. The phase shift is \n",
    "\n",
    "\\begin{equation}\n",
    "\\Delta \\phi = -\\frac{\\omega_{probe}}{2 c n_c} \\int n_e dl\n",
    "\\end{equation}\n",
    "\n",
    "Where $\\omega_{probe}$ is the probe beam frequency, $c$ is the speed of light, $\\int n_e dl$ is the line-integrated electron density, and $n_c$ is the critical density\n",
    "\n",
    "\\begin{equation}\n",
    "n_c = \\frac{\\epsilon_0 m_e}{e^2} \\omega_{probe}^2\n",
    "\\end{equation}\n",
    "\n",
    "In order to predict the phase shift through a plasma, we therefore only need to know the density line-integrated along the probe beam axis. This can be accomplished by defining a [LineIntegratedDiagnostic] with an appropriate `_integrand()` method as follows."
   ]
  },
  {
   "cell_type": "code",
   "execution_count": null,
   "id": "written-defeat",
   "metadata": {},
   "outputs": [],
   "source": [
    "class Interferometer(LineIntegratedDiagnostic):\n",
    "    def _integrand(self, pts):\n",
    "        # Reshape the pts array from grid shape (nx, ny, nz, 3) to a list\n",
    "        # of points (nx*ny*nz, 3) as required by the grids interpolators\n",
    "        nx, ny, nz, ndim = pts.shape\n",
    "        pts = np.reshape(pts, (nx * ny * nz, ndim))\n",
    "        \n",
    "        integrand =  self.grid.volume_averaged_interpolator(pts, \"n_e\")\n",
    "        \n",
    "        # Reshape the integrands from (nx*ny*nz) to (nx, ny, nz)\n",
    "        integrand = np.reshape(integrand, (nx, ny, nz))\n",
    "\n",
    "        return integrand\n",
    "\n",
    "    def evaluate(\n",
    "        self,\n",
    "        probe_freq: u.Hz,\n",
    "        size=np.array([[-1, 1], [-1, 1]]) * u.cm,\n",
    "        bins=[50, 50],\n",
    "        collimated=True,\n",
    "        num=100,\n",
    "        unwrapped=False,\n",
    "    ):\n",
    "\n",
    "        n_c = (\n",
    "            (const.eps0.si * const.m_e / const.e.si ** 2)\n",
    "            * (2 * np.pi) ** 2\n",
    "            * probe_freq ** 2\n",
    "        ).to(u.cm ** -3)\n",
    "\n",
    "        hax, vax, int_ne = self._line_integral(\n",
    "            size=size, bins=bins, collimated=collimated, num=num\n",
    "        )\n",
    "\n",
    "        phase_shift = (-np.pi * probe_freq / (const.c.si * n_c)) * int_ne\n",
    "        phase_shift = phase_shift.to(u.dimensionless_unscaled).value\n",
    "\n",
    "        if not unwrapped:\n",
    "            phase_shift = (phase_shift + np.pi) % (2 * np.pi) - np.pi\n",
    "\n",
    "        return hax, vax, phase_shift"
   ]
  },
  {
   "cell_type": "markdown",
   "id": "subject-nickname",
   "metadata": {},
   "source": [
    "[LineIntegratedDiagnostic]: ../../api/plasmapy.diagnostics.path_integrated_diagnostic.LineIntegratedDiagnostic.rst#plasmapy.diagnostics.path_integrated_diagnostic.LineIntegratedDiagnostic\n",
    "\n",
    "The `_integrand()` method will return the line-integrated density. The `evaluate()` method is a wrapper around the `_line_integral()` method of [LineIntegratedDiagnostic] that calculates the total phase shift from the line-integrated density. If the `unwrapped` keyword is not set, then the function takes the modulus with respect to $2 \\pi$ to estimate where jumps in the phase will occur.\n",
    "\n",
    "The resulting `Interferometer` class is equivalent to the implementation in PlasmaPy, although the latter actually makes use of the `LineIntegratedScalarQuantity` subclass of [LineIntegratedDiagnostic]."
   ]
  },
  {
   "cell_type": "markdown",
   "id": "secure-frontier",
   "metadata": {},
   "source": [
    "## Using the Interferometer Class"
   ]
  },
  {
   "cell_type": "markdown",
   "id": "sixth-watts",
   "metadata": {},
   "source": [
    "In order to demonstrate the use of the Interferometer class, we'll create a sphere of constant electron density."
   ]
  },
  {
   "cell_type": "code",
   "execution_count": null,
   "id": "indoor-exclusive",
   "metadata": {},
   "outputs": [],
   "source": [
    "axis = np.linspace(-2, 2, num=200) * u.mm\n",
    "xarr, yarr, zarr = np.meshgrid(axis, axis, axis, indexing=\"ij\")\n",
    "r = np.sqrt(xarr ** 2 + yarr ** 2 + zarr ** 2)\n",
    "n_e = np.where(r < 1 * u.mm, 1, 0) * 3e19 / u.cm ** 3\n",
    "grid = CartesianGrid(xarr, yarr, zarr)\n",
    "grid.add_quantities(n_e=n_e)\n",
    "\n",
    "\n",
    "fig, ax = plt.subplots(figsize=(6, 6))\n",
    "ax.pcolormesh(\n",
    "    axis.to(u.mm).value, axis.to(u.mm).value, grid[\"n_e\"][:, 100, :], shading=\"auto\"\n",
    ")\n",
    "ax.set_xlabel(\"X (mm)\")\n",
    "ax.set_ylabel(\"Z (mm)\")\n",
    "ax.set_aspect(\"equal\")"
   ]
  },
  {
   "cell_type": "markdown",
   "id": "pediatric-spending",
   "metadata": {},
   "source": [
    "Now we can initialize the `Interferometer` class by also defining the locations of the source and detector"
   ]
  },
  {
   "cell_type": "code",
   "execution_count": null,
   "id": "beginning-liechtenstein",
   "metadata": {},
   "outputs": [],
   "source": [
    "source = (0 * u.mm, -5 * u.mm, 0 * u.mm)\n",
    "detector = (0 * u.mm, 5 * u.mm, 0 * u.mm)\n",
    "obj = Interferometer(grid, source, detector, verbose=False)"
   ]
  },
  {
   "cell_type": "markdown",
   "id": "prerequisite-england",
   "metadata": {},
   "source": [
    "Finally we will specify the size and resolution of the detector plane when calling the `evaluate()` method to create the synthetic interferogram."
   ]
  },
  {
   "cell_type": "code",
   "execution_count": null,
   "id": "executive-utilization",
   "metadata": {},
   "outputs": [],
   "source": [
    "size = np.array([[-1, 1], [-1, 1]]) * 1.2 * u.mm\n",
    "bins = [350, 350]\n",
    "\n",
    "hax, vax, phase = obj.evaluate(1.14e15 * u.Hz, size=size, bins=bins, num=100)\n",
    "hax = hax.to(u.mm).value\n",
    "vax = vax.to(u.mm).value"
   ]
  },
  {
   "cell_type": "code",
   "execution_count": null,
   "id": "lasting-chosen",
   "metadata": {
    "nbsphinx-thumbnail": {
     "output-index": -1,
     "tooltip": "Line Integrated Interferometry Diagnostic"
    }
   },
   "outputs": [],
   "source": [
    "fig, ax = plt.subplots(figsize=(8, 8))\n",
    "plot = ax.pcolormesh(hax, vax, phase.T / np.pi, cmap=\"binary\", shading=\"auto\")\n",
    "ax.set_aspect(\"equal\")\n",
    "ax.set_xlabel(\"X (mm)\", fontsize=16)\n",
    "ax.set_ylabel(\"Z (mm)\", fontsize=16)\n",
    "\n",
    "cb = fig.colorbar(plot, ax=ax, orientation=\"vertical\", pad=0.03, shrink=0.7)\n",
    "cb.ax.set_ylabel(\"Phase Shift / $\\pi$\", fontsize=16)"
   ]
  },
  {
   "cell_type": "markdown",
   "id": "competent-martial",
   "metadata": {},
   "source": [
    "Running the same calculation with `unwrapped=True` shows the total phase shift experienced. As expected, the phase shift is highest at the center of the sphere where the line-integrated density is highest. "
   ]
  },
  {
   "cell_type": "code",
   "execution_count": null,
   "id": "coordinate-turtle",
   "metadata": {},
   "outputs": [],
   "source": [
    "hax, vax, phase = obj.evaluate(\n",
    "    1.14e15 * u.Hz, size=size, bins=bins, num=100, unwrapped=True\n",
    ")\n",
    "hax = hax.to(u.mm).value\n",
    "vax = vax.to(u.mm).value"
   ]
  },
  {
   "cell_type": "code",
   "execution_count": null,
   "id": "marked-delaware",
   "metadata": {},
   "outputs": [],
   "source": [
    "fig, ax = plt.subplots(figsize=(8, 8))\n",
    "plot = ax.pcolormesh(hax, vax, phase.T, cmap=\"binary\", shading=\"auto\")\n",
    "ax.set_aspect(\"equal\")\n",
    "ax.set_xlabel(\"X (mm)\")\n",
    "ax.set_ylabel(\"Z (mm)\")\n",
    "\n",
    "cb = fig.colorbar(plot, ax=ax, orientation=\"vertical\", pad=0.03, shrink=0.7)\n",
    "cb.ax.set_ylabel(\"Phase Shift (unwrapped)\", fontsize=16)"
   ]
  }
 ],
 "metadata": {
  "kernelspec": {
   "display_name": "Python 3",
   "language": "python",
   "name": "python3"
  },
  "language_info": {
   "codemirror_mode": {
    "name": "ipython",
    "version": 3
   },
   "file_extension": ".py",
   "mimetype": "text/x-python",
   "name": "python",
   "nbconvert_exporter": "python",
   "pygments_lexer": "ipython3",
   "version": "3.7.10"
  }
 },
 "nbformat": 4,
 "nbformat_minor": 5
}
