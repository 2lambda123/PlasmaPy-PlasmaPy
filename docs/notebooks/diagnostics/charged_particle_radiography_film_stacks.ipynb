{
 "cells": [
  {
   "cell_type": "markdown",
   "id": "1b4c5f7f",
   "metadata": {},
   "source": [
    "# Synthetic Charged Particle Radiographs with Multiple Detector Layers"
   ]
  },
  {
   "cell_type": "markdown",
   "id": "d77e602c",
   "metadata": {},
   "source": [
    "[charged_particle_radiography]: ../../ad/diagnostics/charged_particle_radiography.rst\n",
    "\n",
    "[Bragg peak]:\n",
    "https://en.wikipedia.org/wiki/Bragg_peak\n",
    "    \n",
    "Charged particle radiographs are often recorded on detector stacks with multiple layers (often either radiochromic film or CR39 plastic). Since charged particles deposit most of their energy at a depth related to their energy (the [Bragg peak]), each detector layer records a different energy band of particles. The energy bands recorded on each layer are further discriminated by including layers of filter material (eg. thin strips of aluminum) between the active layers. In order to analyze this data, it is necessary to calculate what range of particle energies are stopped in each detector layer.\n",
    "\n",
    "The [charged_particle_radiography] module includes a tool for calculating the energy bands for a given stack of detectors. "
   ]
  },
  {
   "cell_type": "code",
   "execution_count": null,
   "id": "d24d2476",
   "metadata": {},
   "outputs": [],
   "source": [
    "import astropy.units as u\n",
    "import matplotlib.pyplot as plt\n",
    "import numpy as np\n",
    "\n",
    "from plasmapy.data.data import get_file\n",
    "from plasmapy.diagnostics import charged_particle_radiography as cpr"
   ]
  },
  {
   "cell_type": "markdown",
   "id": "91186291",
   "metadata": {},
   "source": [
    "[charged_particle_radiography]: ../../ad/diagnostics/charged_particle_radiography.rst\n",
    "\n",
    "[Layer]:\n",
    "../../api/plasmapy.diagnostics.charged_particle_radiography.Layer.rst#plasmapy.diagnostics.charged_particle_radiography.Layer\n",
    "\n",
    "[Stack]:\n",
    "../../api/plasmapy.diagnostics.charged_particle_radiography.Stack.rst#plasmapy.diagnostics.charged_particle_radiography.Stack\n",
    "\n",
    "[astropy Quantity]:\n",
    "https://docs.astropy.org/en/stable/api/astropy.units.quantity.Quantity.html\n",
    "\n",
    "[PSTAR]:\n",
    "https://physics.nist.gov/PhysRefData/Star/Text/PSTAR.html\n",
    "\n",
    "[ESTAR]:\n",
    "https://physics.nist.gov/PhysRefData/Star/Text/ESTAR.html\n",
    "\n",
    "The [charged_particle_radiography] module represents a detector stack with a [Stack] object, which contains an ordered list of [Layer] objects. In this example, we will create a list of [Layer] objects, use them to initialize a [Stack], then compute the energy bands.\n",
    "\n",
    "Each [Layer] is defined by the following required properties:\n",
    "- `thickness`: an [astropy Quantity] defining the thickness of the layer.\n",
    "- `active`: a boolean flag which indicates whether the layer is active (detector) or inactive (eg. a filter).\n",
    "- `energy_axis`: An [astropy Quantity] array of energies.\n",
    "- `stopping_power`: An [astropy Quantity] array containing the product of stopping power and material density at each energy in `energy_axis`. \n",
    "\n",
    "The stopping power in various materials for protons and electrons is tabulated by NIST in the [PSTAR] and [ESTAR] databases. The stopping powers are tabulated in units of MeV cm$^2$ / g, so the product of stopping power and density has units of MeV/cm.\n",
    "\n",
    "For this demonstration, we will load two stopping power tables, downloaded from [PSTAR], for aluminum and a human tissue equivalent that is a good approxmation for many radiochromic films."
   ]
  },
  {
   "cell_type": "code",
   "execution_count": null,
   "id": "073dad43",
   "metadata": {},
   "outputs": [],
   "source": [
    "tissue_path = get_file(\"NIST_PSTAR_tissue_equivalent.txt\")\n",
    "aluminum_path = get_file(\"NIST_PSTAR_aluminum.txt\")\n",
    "\n",
    "arr = np.loadtxt(tissue_path, skiprows=8)\n",
    "energy_axis = arr[:, 0] * u.MeV\n",
    "tissue_density = 1.04 * u.g / u.cm ** 3\n",
    "tissue_stopping_power = arr[:, 1] * u.MeV * u.cm ** 2 / u.g * tissue_density\n",
    "\n",
    "arr = np.loadtxt(aluminum_path, skiprows=8)\n",
    "aluminum_density = 2.7 * u.g / u.cm ** 3\n",
    "aluminum_stopping_power = arr[:, 1] * u.MeV * u.cm ** 2 / u.g * aluminum_density"
   ]
  },
  {
   "cell_type": "markdown",
   "id": "59d7daf8",
   "metadata": {},
   "source": [
    "If we plot the stopping powers as a function of energy on a log-log scale, we see that they are non-linear, with much higher values at lower energies. This is why particles deposit most of their energy at a characteristic depth. As particles propagate into material, they lose energy slowly at first. But, as they loose energy, the effective stopping power increases expontentially. "
   ]
  },
  {
   "cell_type": "code",
   "execution_count": null,
   "id": "b6f59d48",
   "metadata": {},
   "outputs": [],
   "source": [
    "fig, ax = plt.subplots()\n",
    "ax.plot(energy_axis.value, tissue_stopping_power, label=\"Tissue equivalent\")\n",
    "ax.plot(energy_axis.value, aluminum_stopping_power, label=\"Aluminum\")\n",
    "ax.set_xscale(\"log\")\n",
    "ax.set_yscale(\"log\")\n",
    "ax.set_xlabel(\"Energy (MeV)\")\n",
    "ax.set_ylabel(\"Stopping power (MeV/cm)\")\n",
    "ax.legend();"
   ]
  },
  {
   "cell_type": "markdown",
   "id": "9fbc08a9",
   "metadata": {},
   "source": [
    "We will start by creating a list that represents a common type of radiochromic film, [HDV2]. "
   ]
  },
  {
   "cell_type": "code",
   "execution_count": null,
   "id": "7e991901",
   "metadata": {},
   "outputs": [],
   "source": [
    "HDV2 = [\n",
    "    cpr.Layer(12 * u.um, energy_axis, tissue_stopping_power, name=\"2-HDV2-active\"),\n",
    "    cpr.Layer(\n",
    "        97 * u.um,\n",
    "        energy_axis,\n",
    "        tissue_stopping_power,\n",
    "        name=\"2-HDV2-substrate\",\n",
    "        active=False,\n",
    "    ),\n",
    "]"
   ]
  },
  {
   "cell_type": "code",
   "execution_count": null,
   "id": "89a14676",
   "metadata": {},
   "outputs": [],
   "source": []
  }
 ],
 "metadata": {
  "kernelspec": {
   "display_name": "Python 3",
   "language": "python",
   "name": "python3"
  },
  "language_info": {
   "codemirror_mode": {
    "name": "ipython",
    "version": 3
   },
   "file_extension": ".py",
   "mimetype": "text/x-python",
   "name": "python",
   "nbconvert_exporter": "python",
   "pygments_lexer": "ipython3",
   "version": "3.7.10"
  }
 },
 "nbformat": 4,
 "nbformat_minor": 5
}
