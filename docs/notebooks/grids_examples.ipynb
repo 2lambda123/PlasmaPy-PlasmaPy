{
 "cells": [
  {
   "cell_type": "markdown",
   "metadata": {},
   "source": [
    "# Example Grids"
   ]
  },
  {
   "cell_type": "markdown",
   "metadata": {},
   "source": [
    "The `example_grid` function automatically generates grids representing some common physical scenarios for testing\n",
    "    and illustration. This notebook illustrates these examples."
   ]
  },
  {
   "cell_type": "code",
   "execution_count": null,
   "metadata": {},
   "outputs": [],
   "source": [
    "%matplotlib inline\n",
    "\n",
    "import astropy.units as u\n",
    "import matplotlib.pyplot as plt\n",
    "import numpy as np\n",
    "\n",
    "from plasmapy.plasma import grids"
   ]
  },
  {
   "cell_type": "markdown",
   "metadata": {},
   "source": [
    "## axially_magnetized_cylinder"
   ]
  },
  {
   "cell_type": "markdown",
   "metadata": {},
   "source": [
    "An electric field created by a sphere\n",
    "        of potential of radius L/2 with a radial Gaussian distribution:\n",
    "        \n",
    "\\begin{align}\n",
    "\\rho &= \\sqrt{x^2 + y^2}\\\\\n",
    "a &= L/4\n",
    "\\end{align}\n",
    "\n",
    "\\begin{equation}\n",
    "\\vec B = \n",
    "\\begin{cases}\n",
    "100 \\text{ T } \\hat z & \\rho < a \\\\\n",
    "0 \\text{ T } & \\rho \\geq a \n",
    "\\end{cases}\n",
    "\\end{equation}\n"
   ]
  },
  {
   "cell_type": "code",
   "execution_count": null,
   "metadata": {},
   "outputs": [],
   "source": [
    "grid = grids.example_grid(\"axially_magnetized_cylinder\", L=1 * u.cm, num=100)\n",
    "xaxis,yaxis,zaxis = grid.ax0.to(u.mm).value, grid.ax1.to(u.mm).value, grid.ax2.to(u.mm).value\n",
    "y0 = np.argmin(np.abs(zaxis))\n",
    "z0 = np.argmin(np.abs(zaxis))\n",
    "\n",
    "print(grid)\n",
    "\n",
    "fig, ax = plt.subplots(ncols=2)\n",
    "fig.subplots_adjust(wspace=0.5)\n",
    "\n",
    "ax[0].set_aspect(\"equal\")\n",
    "ax[0].set_xlabel(\"X (mm)\")\n",
    "ax[0].set_ylabel(\"Y (mm)\")\n",
    "ax[0].pcolormesh(xaxis, yaxis, grid['B_z'][:,:,z0].T)\n",
    "ax[0].set_title(\"B_z (T)\")\n",
    "    \n",
    "ax[1].set_aspect(\"equal\")\n",
    "ax[1].set_xlabel(\"X (mm)\")\n",
    "ax[1].set_ylabel(\"Z (mm)\")\n",
    "ax[1].pcolormesh(xaxis, zaxis, grid['B_z'][:,y0,:].T)\n",
    "ax[1].set_title(\"B_z (T)\")\n"
   ]
  },
  {
   "cell_type": "markdown",
   "metadata": {},
   "source": [
    "## electrostatic_discontinuity"
   ]
  },
  {
   "cell_type": "markdown",
   "metadata": {},
   "source": [
    "A discontinuity in the electric field at z=0\n",
    "        with a radial gaussian profile in the xy plane.\n",
    "        \n",
    "\\begin{align}\n",
    "a =& L/2\\\\\n",
    "\\delta =& a/120\\\\\n",
    "\\rho =& \\sqrt{x^2 + y^2}\n",
    "\\end{align}\n",
    "\n",
    "\\begin{equation}\n",
    "\\phi = [1 - \\Gamma(z/\\delta)] e^{-(\\rho/a)^2}\n",
    "\\end{equation}\n",
    "\n",
    "\\begin{equation}\n",
    "\\vec E = - \\nabla \\phi\n",
    "\\end{equation}\n",
    "\n",
    "Where $\\Gamma$ is the error function."
   ]
  },
  {
   "cell_type": "code",
   "execution_count": null,
   "metadata": {},
   "outputs": [],
   "source": [
    "grid = grids.example_grid(\"electrostatic_discontinuity\", L=1 * u.cm, num=100)\n",
    "xaxis,yaxis,zaxis = grid.ax0.to(u.mm).value, grid.ax1.to(u.mm).value, grid.ax2.to(u.mm).value\n",
    "x0 = np.argmin(np.abs(xaxis))\n",
    "y0 = np.argmin(np.abs(yaxis))\n",
    "z0 = np.argmin(np.abs(zaxis))\n",
    "\n",
    "\n",
    "print(grid)\n",
    "\n",
    "fig, ax = plt.subplots(ncols=3, figsize=(12,4))\n",
    "fig.subplots_adjust(wspace=0.5)\n",
    "\n",
    "ax[0].set_aspect(\"equal\")\n",
    "ax[0].set_xlabel(\"X (mm)\")\n",
    "ax[0].set_ylabel(\"Z (mm)\")\n",
    "ax[0].pcolormesh(xaxis, zaxis, grid['phi'][:,y0,:].T)\n",
    "ax[0].set_title(\"Potential (V)\\nat y=0\")\n",
    "    \n",
    "ax[1].set_aspect(\"equal\")\n",
    "ax[1].set_xlabel(\"X (mm)\")\n",
    "ax[1].set_ylabel(\"Z (mm)\")\n",
    "Ez = grid['E_z'][:,y0,:]\n",
    "Ezmax = np.max(np.abs(Ez))\n",
    "ax[1].pcolormesh(xaxis, zaxis, Ez.T,\n",
    "                vmin=-Ezmax, vmax=Ezmax, cmap='seismic')\n",
    "ax[1].set_title(\"E_z (V/m)\\nat y=0\")\n",
    "\n",
    "\n",
    "ax[2].set_aspect(\"equal\")\n",
    "ax[2].set_xlabel(\"X (mm)\")\n",
    "ax[2].set_ylabel(\"Y (mm)\")\n",
    "Ex = grid['E_x'][:,:,z0]\n",
    "Ey = grid['E_y'][:,:,z0]\n",
    "Et = np.sqrt(Ex**2 + Ey**2)\n",
    "Etmax = np.max(np.abs(Et))\n",
    "ax[2].pcolormesh(xaxis, zaxis, Et.T,\n",
    "                vmin=-Etmax, vmax=Etmax, cmap='seismic')\n",
    "ax[2].set_title(\"sqrt(Ex^2 + Ey^2) (V/m)\\nat z=0\")\n"
   ]
  },
  {
   "cell_type": "code",
   "execution_count": null,
   "metadata": {},
   "outputs": [],
   "source": [
    "fig, ax = plt.subplots( figsize=(4,4))\n",
    "\n",
    "ax.plot(zaxis, grid['phi'][x0,y0,:])\n",
    "ax.set_xlabel(\"Z (mm)\")\n",
    "ax.set_ylabel(\"Potential (V)\")"
   ]
  },
  {
   "cell_type": "markdown",
   "metadata": {},
   "source": [
    "## electrostatic_gaussian_sphere"
   ]
  },
  {
   "cell_type": "markdown",
   "metadata": {},
   "source": [
    "An electric field created by a sphere\n",
    "        of potential of radius L/2 with a radial Gaussian distribution:\n",
    "        \n",
    "\\begin{align}\n",
    "\\rho =& \\sqrt{x^2 + y^2}\\\\\n",
    "a =& L/3\\\\\n",
    "b =& L/2\n",
    "\\end{align}\n",
    "\n",
    "\\begin{equation}\n",
    "\\phi = e^{-(r/a)^2}\n",
    "\\end{equation}\n",
    "\n",
    "\\begin{equation}\n",
    "\\vec E =\n",
    "\\begin{cases}\n",
    "    0 & r \\geq b \\\\\n",
    " -\\nabla \\phi & r < b\n",
    "\\end{cases}\n",
    "\\end{equation}\n"
   ]
  },
  {
   "cell_type": "code",
   "execution_count": null,
   "metadata": {},
   "outputs": [],
   "source": [
    "grid = grids.example_grid(\"electrostatic_gaussian_sphere\", L=1 * u.cm, num=100)\n",
    "xaxis,yaxis,zaxis = grid.ax0.to(u.mm).value, grid.ax1.to(u.mm).value, grid.ax2.to(u.mm).value\n",
    "z0 = np.argmin(np.abs(zaxis))\n",
    "\n",
    "print(grid)\n",
    "\n",
    "fig, ax = plt.subplots(ncols=3, sharey='all', figsize=(12,4))\n",
    "fig.subplots_adjust(wspace=0.5)\n",
    "\n",
    "plots = {'phi':'Electric potential (V)', 'E_x':'Ex (V/m)', 'E_y':'Ey (V/m)'}\n",
    "\n",
    "ax[0].set_ylabel('Y (mm)')\n",
    "for i,key in enumerate(plots.keys()):\n",
    "    ax[i].set_xlabel('X (mm)')\n",
    "    ax[i].set_aspect('equal')\n",
    "    ax[i].set_title(plots[key])\n",
    "    ax[i].pcolormesh(xaxis, yaxis, grid[key][:,:,z0])"
   ]
  },
  {
   "cell_type": "code",
   "execution_count": null,
   "metadata": {},
   "outputs": [],
   "source": []
  }
 ],
 "metadata": {
  "kernelspec": {
   "display_name": "Python 3",
   "language": "python",
   "name": "python3"
  },
  "language_info": {
   "codemirror_mode": {
    "name": "ipython",
    "version": 3
   },
   "file_extension": ".py",
   "mimetype": "text/x-python",
   "name": "python",
   "nbconvert_exporter": "python",
   "pygments_lexer": "ipython3",
   "version": "3.7.6"
  }
 },
 "nbformat": 4,
 "nbformat_minor": 4
}
