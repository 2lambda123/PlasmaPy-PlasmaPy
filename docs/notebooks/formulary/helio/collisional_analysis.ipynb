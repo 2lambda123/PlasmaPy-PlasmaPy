{
 "cells": [
  {
   "cell_type": "markdown",
   "metadata": {},
   "source": [
    "# Collisional Analysis\n",
    "\n",
    "[coal]: ../../api_static/plasmapy.collisions.formulary.helio.collisional_analysis.rst\n",
    "[maruca2013]: https://www.doi.org/10.1103/PhysRevLett.111.241101\n",
    "[johnson2023]: https://www.doi.org/10.1103/PhysRevLett.111.241101\n",
    "\n",
    "This notebook will introduce and demonstrate collisional analysis, the functionality is contained in the [collisional_analysis()][coal] module. Collisional analysis, first introduced by [Maruca 2013][maruca2013], uses the idea that Coulomb collisions - \"soft,\" small-angle deflections mediated by the electrostatic force, act to erode non-local thermal equilibrium (LTE) features within the solar wind. Though remnants may persist through much of the inner heliosphere and beyond, this results in strong departures from LTE.\n",
    "\n",
    "The theory behind this techniquie is detailed below, after which we show how to use the functionality and then apply it to observations. The final section compares observations from the Wind spacecraft with the predictions of this method.\n",
    "\n",
    "\n",
    "## Contents\n",
    "\n",
    "1. [Introudction](#Introduction)\n",
    "2. [Application](#Application)\n",
    "3. [Comparision](#Comparision)\n",
    "\n"
   ]
  },
  {
   "cell_type": "code",
   "execution_count": 1,
   "metadata": {},
   "outputs": [
    {
     "ename": "ModuleNotFoundError",
     "evalue": "No module named 'plasmapy.formulary.collisions.helio'; 'plasmapy.formulary.collisions' is not a package",
     "output_type": "error",
     "traceback": [
      "\u001B[0;31m---------------------------------------------------------------------------\u001B[0m",
      "\u001B[0;31mModuleNotFoundError\u001B[0m                       Traceback (most recent call last)",
      "Input \u001B[0;32mIn [1]\u001B[0m, in \u001B[0;36m<cell line: 6>\u001B[0;34m()\u001B[0m\n\u001B[1;32m      2\u001B[0m \u001B[38;5;28;01mimport\u001B[39;00m \u001B[38;5;21;01mnumpy\u001B[39;00m \u001B[38;5;28;01mas\u001B[39;00m \u001B[38;5;21;01mnp\u001B[39;00m\n\u001B[1;32m      4\u001B[0m \u001B[38;5;28;01mfrom\u001B[39;00m \u001B[38;5;21;01mastropy\u001B[39;00m \u001B[38;5;28;01mimport\u001B[39;00m units \u001B[38;5;28;01mas\u001B[39;00m u\n\u001B[0;32m----> 6\u001B[0m \u001B[38;5;28;01mfrom\u001B[39;00m \u001B[38;5;21;01mplasmapy\u001B[39;00m\u001B[38;5;21;01m.\u001B[39;00m\u001B[38;5;21;01mformulary\u001B[39;00m\u001B[38;5;21;01m.\u001B[39;00m\u001B[38;5;21;01mcollisions\u001B[39;00m\u001B[38;5;21;01m.\u001B[39;00m\u001B[38;5;21;01mhelio\u001B[39;00m \u001B[38;5;28;01mimport\u001B[39;00m collisional_analysis \u001B[38;5;28;01mas\u001B[39;00m coal\n\u001B[1;32m      7\u001B[0m \u001B[38;5;28;01mfrom\u001B[39;00m \u001B[38;5;21;01mplasmapy\u001B[39;00m\u001B[38;5;21;01m.\u001B[39;00m\u001B[38;5;21;01mparticles\u001B[39;00m \u001B[38;5;28;01mimport\u001B[39;00m Particle\n\u001B[1;32m      9\u001B[0m plt\u001B[38;5;241m.\u001B[39mrcParams[\u001B[38;5;124m\"\u001B[39m\u001B[38;5;124mfigure.figsize\u001B[39m\u001B[38;5;124m\"\u001B[39m] \u001B[38;5;241m=\u001B[39m [\u001B[38;5;241m10.5\u001B[39m, \u001B[38;5;241m0.56\u001B[39m \u001B[38;5;241m*\u001B[39m \u001B[38;5;241m10.5\u001B[39m]\n",
      "\u001B[0;31mModuleNotFoundError\u001B[0m: No module named 'plasmapy.formulary.collisions.helio'; 'plasmapy.formulary.collisions' is not a package"
     ]
    }
   ],
   "source": [
    "import matplotlib.pyplot as plt\n",
    "import numpy as np\n",
    "\n",
    "from astropy import units as u\n",
    "\n",
    "from plasmapy.formulary.collisions.helio import collisional_analysis as coal\n",
    "from plasmapy.particles import Particle\n",
    "\n",
    "plt.rcParams[\"figure.figsize\"] = [10.5, 0.56 * 10.5]"
   ]
  },
  {
   "cell_type": "markdown",
   "metadata": {},
   "source": [
    "[verscharen2019]: https://doi.org/10.1007/s41116-019-0021-0\n",
    "[maruca2013]: https://www.doi.org/10.1103/PhysRevLett.111.241101\n",
    "[hellinger2011]: https://doi.org/10.1029/2011JA016674\n",
    "\n",
    "## Introduction\n",
    "\n",
    "The processes by which collisions bring ion temperatures, especially those of protons $(T_{\\rm p})$ and α-particles $(T_{\\alpha})$, into LTE have received considerable attention. In situ observations of near-Earth solar wind have shown that the α-proton relative temperature,\n",
    "\n",
    "$$\n",
    "        \\theta_{\\alpha \\rm p} = \\frac{T_{\\alpha}}{T_{\\rm p}}\n",
    "\n",
    "$$\n",
    "\n",
    "varies widely [Verscharen 2019][verscharen2019]. Collisional analysis allows us to understand how the $\\theta_{\\alpha \\rm p}$ temperature ratio should evolve as a function of distance from the Sun. The derived model from [Maruca 2013][maruca2013] gives the radial gradient in $\\theta_{\\alpha{\\rm p}}$ as\n",
    "\n",
    "$$\n",
    "    \\frac{d\\theta_{\\alpha {\\rm p}}}{dr} = \\left( \\frac{An_{\\rm p}}{v_{r\\rm p}T^{3/2}_{\\rm p}}  \\right) \\left( \\frac{\\mu_{\\alpha}^{1/2}Z^{2}_{\\alpha}(1 - \\theta_{\\alpha {\\rm p}})(1 + \\eta_{\\alpha {\\rm p}} \\theta_{\\alpha {\\rm p}})}{(\\mu_{\\alpha} + \\theta_{\\alpha {\\rm p}})^{3/2}} \\right) \\lambda_{\\alpha \\rm p} \\ ,\n",
    "$$\n",
    "\n",
    "where\n",
    "\n",
    "$$\n",
    "   \\lambda_{\\alpha \\rm p} = 9 + \\ln \\left[ B \\left( \\frac{T^{3/2}_{\\rm p} (\\mu_{\\alpha} + \\theta_{\\alpha {\\rm p}})}{n^{1/2}_{\\rm p}Z_{\\alpha}(1 + \\mu_{\\alpha})} \\right) \\left( 1 + \\frac{Z^{2}_{\\alpha} \\eta_{\\alpha \\rm p} }{\\theta_{\\alpha {\\rm p}}} \\right)^{-1/2} \\right] \\ ,\n",
    "$$\n",
    "\n",
    "\n",
    "In these equations, $A = 2.60 \\times 10^{7} \\, {\\rm cm}^{3} \\, {\\rm km} \\, {\\rm K}^{3/2} \\, {\\rm s}^{-1} \\, {\\rm au}^{-1}$, $B = 1 \\, {\\rm cm}^{-3/2}{\\rm K}^{-3/2} $, $Z_\\alpha \\equiv q_\\alpha/q_{\\rm p} = 2$ is the $\\alpha$-proton relative charge, $\\mu_\\alpha \\equiv m_\\alpha/m_{\\rm p} \\approx 4$ is their relative mass, and $\\eta_{\\alpha{\\rm p}} \\equiv n_\\alpha/n_{\\rm p}$ is the their relative abundance.\n",
    "\n",
    "<div class=\"alert alert-info\">\n",
    "\n",
    "Note\n",
    "The model allows parameters to vary with $r$. In particular, [Maruca 2013][maruca2013] used the following radial scaling based on the analysis of Helios observations by [Hellinger 2011][hellinger2011]:\n",
    "\n",
    "$$\n",
    "    n_{\\rm p}(r) \\propto r^{-1.8}\\ , \\hspace{1cm} v_{r\\rm p}(r) \\propto r^{-0.2}\\ , \\hspace{0.5cm} {\\rm and} \\hspace{0.5cm} T_{\\rm p}(r) \\propto r^{-0.74}\n",
    "$$\n",
    "\n",
    "These values are not fixed and can be altered within the function, they can be taken from simulations, data or both.\n",
    "\n",
    "</div>\n",
    "\n",
    "<div class=\"alert alert-info\">\n",
    "\n",
    "Assumptions:\n",
    "model assumed ηαp remained fixed within any\n",
    "given parcel of solar wind plasma as it expands through the\n",
    "heliosphere.\n",
    "\n",
    "assuming a system in steady state,\n",
    "\n",
    "If the components of a plasma have different temperatures, but no relative\n",
    "drift, equilibration is described by\n",
    "\n",
    "fully ionized particles\n",
    "\n",
    "</div>\n"
   ]
  },
  {
   "cell_type": "code",
   "execution_count": null,
   "metadata": {},
   "outputs": [],
   "source": [
    "\n",
    "radii = [0.2, 0.3, 0.4, 0.5, 0.6, 0.7, 0.8, 0.9, 1.0]\n",
    "theta = []\n",
    "for radius in radii:\n",
    "    params = {\n",
    "        \"r_0\": [0.1] * u.au,\n",
    "        \"r_n\": [radius] * u.au,\n",
    "        \"n_1\": [1500] * u.cm**-3,\n",
    "        \"n_2\": [10] * u.cm**-3,\n",
    "        \"v_1\": [400] * u.km / u.s,\n",
    "        \"T_1\": [2 * 10**5] * u.K,\n",
    "        \"T_2\": [1.8 * 10**6] * u.K,\n",
    "        \"ions\": [\"p+\", \"He-4++\"],\n",
    "    }\n",
    "    theta.append(float(coal.temp_ratio(**params)[0]))\n",
    "\n",
    "# plot the results\n",
    "\n",
    "fs = 14  # default font size\n",
    "figwidth, figheight = plt.rcParams[\"figure.figsize\"]\n",
    "figheight = 1.6 * figheight\n",
    "fig = plt.figure(figsize=[figwidth, figheight])\n",
    "\n",
    "plt.plot(radii, theta)\n",
    "\n",
    "# adjust axes\n",
    "plt.xlabel(r\"radius ${\\rm [au]}$\", fontsize=fs)\n",
    "plt.ylabel(r\"$\\alpha$-proton relative temperature, $\\theta_{\\alpha \\rm p}$\", fontsize=fs)\n",
    "\n",
    "pad = 1.10\n",
    "plt.ylim(0, max(theta) * pad)\n",
    "plt.xlim(min(radii) * pad, 1)\n",
    "\n",
    "plt.tick_params(\n",
    "    which=\"both\",\n",
    "    direction=\"in\",\n",
    "    labelsize=fs,\n",
    "    right=True,\n",
    "    length=5,\n",
    ")\n",
    "\n",
    "# plot caption\n",
    "txt = (\n",
    "    f\"Fig. 1-1: Waves normal surfaces, parameters represent \\nthe shear Alfvén wave \"\n",
    "    \"and the compressional Alfvén wave. \\nThe zero-order magnetic field is directed along \"\n",
    "    \" the z-axis.\"\n",
    ")\n",
    "\n",
    "plt.figtext(0.25, -0.04, txt, ha=\"left\", fontsize=fs)\n",
    "\n",
    "plt.show()"
   ]
  },
  {
   "cell_type": "markdown",
   "metadata": {},
   "source": [
    "## Application"
   ]
  },
  {
   "cell_type": "code",
   "execution_count": null,
   "metadata": {},
   "outputs": [],
   "source": []
  },
  {
   "cell_type": "code",
   "execution_count": null,
   "metadata": {},
   "outputs": [],
   "source": []
  },
  {
   "cell_type": "code",
   "execution_count": null,
   "metadata": {},
   "outputs": [],
   "source": []
  },
  {
   "cell_type": "code",
   "execution_count": null,
   "metadata": {},
   "outputs": [],
   "source": []
  }
 ],
 "metadata": {
  "kernelspec": {
   "display_name": "Python 3 (ipykernel)",
   "language": "python",
   "name": "python3"
  },
  "language_info": {
   "codemirror_mode": {
    "name": "ipython",
    "version": 3
   },
   "file_extension": ".py",
   "mimetype": "text/x-python",
   "name": "python",
   "nbconvert_exporter": "python",
   "pygments_lexer": "ipython3",
   "version": "3.9.13"
  }
 },
 "nbformat": 4,
 "nbformat_minor": 1
}
