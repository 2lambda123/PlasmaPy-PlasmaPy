{
 "cells": [
  {
   "cell_type": "markdown",
   "source": [
    "# Collisional Analysis\n",
    "\n",
    "[coal]: ../../api_static/plasmapy.collisions.formulary.helio.collisional_analysis.rst\n",
    "[maruca2013]: https://www.doi.org/10.1103/PhysRevLett.111.241101\n",
    "[johnson2023]: https://www.doi.org/10.1103/PhysRevLett.111.241101\n",
    "\n",
    "This notebook will introduce and demonstrate collisional analysis, the functionality is contained in the [collisional_analysis()][coal] module. Collisional analysis, first introduced by [Maruca 2013][maruca2013], uses the idea that Coulomb collisions - \"soft,\" small-angle deflections mediated by the electrostatic force, act to erode non-local thermal equilibrium (LTE) features within the solar wind. Though remnants may persist through much of the inner heliosphere and beyond, this results in strong departures from LTE.\n",
    "\n",
    "The theory behind this techniquie is detailed below, after which we show how to use the functionality and then apply it to observations. The final section compares observations from the Wind spacecraft with the predictions of this method.\n",
    "\n",
    "\n",
    "## Contents\n",
    "\n",
    "1. [Introudction](#Introduction)\n",
    "2. [Application](#Application)\n",
    "3. [Comparision](#Comparision)\n",
    "\n"
   ],
   "metadata": {
    "collapsed": false
   }
  },
  {
   "cell_type": "code",
   "execution_count": 3,
   "outputs": [],
   "source": [
    "import matplotlib.pyplot as plt\n",
    "import numpy as np\n",
    "\n",
    "from astropy import units as u\n",
    "\n",
    "from plasmapy.particles import Particle\n",
    "\n",
    "plt.rcParams[\"figure.figsize\"] = [10.5, 0.56 * 10.5]"
   ],
   "metadata": {
    "collapsed": false
   }
  },
  {
   "cell_type": "markdown",
   "source": [
    "[verscharen2019]: https://doi.org/10.1007/s41116-019-0021-0\n",
    "[maruca2013]: https://www.doi.org/10.1103/PhysRevLett.111.241101\n",
    "[hellinger2011]: https://doi.org/10.1029/2011JA016674\n",
    "\n",
    "## Introduction\n",
    "\n",
    "The processes by which collisions bring ion temperatures, especially those of protons $(T_{\\rm p})$ and α-particles $(T_{\\alpha})$, into LTE have received considerable attention. In situ observations of near-Earth solar wind have shown that the α-proton relative temperature,\n",
    "\n",
    "$$\n",
    "        \\theta_{\\alpha \\rm p} = \\frac{T_{\\alpha}}{T_{\\rm p}}\n",
    "\n",
    "$$\n",
    "\n",
    "varies widely [Verscharen 2019][verscharen2019]. Collisional analysis allows us to understand how the $\\theta_{\\alpha \\rm p}$ temperature ratio should evolve as a function of distance from the Sun. The derived model from [Maruca 2013][maruca2013] gives the radial gradient in $\\theta_{\\alpha{\\rm p}}$ as\n",
    "\n",
    "$$\n",
    "    \\frac{d\\theta_{\\alpha {\\rm p}}}{dr} = \\left( \\frac{An_{\\rm p}}{v_{r\\rm p}T^{3/2}_{\\rm p}}  \\right) \\left( \\frac{\\mu_{\\alpha}^{1/2}Z^{2}_{\\alpha}(1 - \\theta_{\\alpha {\\rm p}})(1 + \\eta_{\\alpha {\\rm p}} \\theta_{\\alpha {\\rm p}})}{(\\mu_{\\alpha} + \\theta_{\\alpha {\\rm p}})^{3/2}} \\right) \\lambda_{\\alpha \\rm p} \\ ,\n",
    "$$\n",
    "\n",
    "where\n",
    "\n",
    "$$\n",
    "   \\lambda_{\\alpha \\rm p} = 9 + \\ln \\left[ B \\left( \\frac{T^{3/2}_{\\rm p} (\\mu_{\\alpha} + \\theta_{\\alpha {\\rm p}})}{n^{1/2}_{\\rm p}Z_{\\alpha}(1 + \\mu_{\\alpha})} \\right) \\left( 1 + \\frac{Z^{2}_{\\alpha} \\eta_{\\alpha \\rm p} }{\\theta_{\\alpha {\\rm p}}} \\right)^{-1/2} \\right] \\ ,\n",
    "$$\n",
    "\n",
    "\n",
    "In these equations, $A = 2.60 \\times 10^{7} \\, {\\rm cm}^{3} \\, {\\rm km} \\, {\\rm K}^{3/2} \\, {\\rm s}^{-1} \\, {\\rm au}^{-1}$, $B = 1 \\, {\\rm cm}^{-3/2}{\\rm K}^{-3/2} $, $Z_\\alpha \\equiv q_\\alpha/q_{\\rm p} = 2$ is the $\\alpha$-proton relative charge, $\\mu_\\alpha \\equiv m_\\alpha/m_{\\rm p} \\approx 4$ is their relative mass, and $\\eta_{\\alpha{\\rm p}} \\equiv n_\\alpha/n_{\\rm p}$ is the their relative abundance.\n",
    "\n",
    "\n",
    "\n",
    "\n",
    "<div class=\"alert alert-info\">\n",
    "\n",
    "Note\n",
    "The model allows parameters to vary with $r$. In particular, [Maruca 2013][maruca2013] used the following radial scaling based on the analysis of Helios observations by [Hellinger 2011][hellinger2011]:\n",
    "\n",
    "$$\n",
    "    n_{\\rm p}(r) \\propto r^{-1.8}\\ , \\hspace{1cm} v_{r\\rm p}(r) \\propto r^{-0.2}\\ , \\hspace{0.5cm} {\\rm and} \\hspace{0.5cm} T_{\\rm p}(r) \\propto r^{-0.74}\n",
    "$$\n",
    "\n",
    "These values are not fixed and can be altered within the function, they can be taken from simulations, data or both.\n",
    "\n",
    "</div>\n"
   ],
   "metadata": {
    "collapsed": false
   }
  },
  {
   "cell_type": "code",
   "execution_count": null,
   "outputs": [],
   "source": [
    "#graph here of the decay curves"
   ],
   "metadata": {
    "collapsed": false
   }
  },
  {
   "cell_type": "markdown",
   "source": [
    "Assumptions:\n"
   ],
   "metadata": {
    "collapsed": false
   }
  },
  {
   "cell_type": "markdown",
   "source": [
    "## Application"
   ],
   "metadata": {
    "collapsed": false
   }
  },
  {
   "cell_type": "code",
   "execution_count": null,
   "outputs": [],
   "source": [],
   "metadata": {
    "collapsed": false
   }
  },
  {
   "cell_type": "code",
   "execution_count": null,
   "outputs": [],
   "source": [],
   "metadata": {
    "collapsed": false
   }
  },
  {
   "cell_type": "code",
   "execution_count": null,
   "outputs": [],
   "source": [],
   "metadata": {
    "collapsed": false
   }
  },
  {
   "cell_type": "code",
   "execution_count": null,
   "outputs": [],
   "source": [],
   "metadata": {
    "collapsed": false
   }
  }
 ],
 "metadata": {
  "kernelspec": {
   "display_name": "Python 3",
   "language": "python",
   "name": "python3"
  },
  "language_info": {
   "codemirror_mode": {
    "name": "ipython",
    "version": 2
   },
   "file_extension": ".py",
   "mimetype": "text/x-python",
   "name": "python",
   "nbconvert_exporter": "python",
   "pygments_lexer": "ipython2",
   "version": "2.7.6"
  }
 },
 "nbformat": 4,
 "nbformat_minor": 0
}
