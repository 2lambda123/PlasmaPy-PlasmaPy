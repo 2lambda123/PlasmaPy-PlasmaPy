{
 "cells": [
  {
   "cell_type": "markdown",
   "metadata": {},
   "source": [
    "# Collisional Analysis\n",
    "\n",
    "[coal]: ../../api_static/plasmapy.collisions.formulary.helio.collisional_analysis.rst\n",
    "[maruca2013]: https://www.doi.org/10.1103/PhysRevLett.111.241101\n",
    "\n",
    "This notebook will introduce and demonstrate collisional analysis, the functionality is contained in the [collisional_analysis()][coal] module. Collisional analysis, first introduced by [Maruca 2013][maruca2013], uses the idea that Coulomb collisions - \"soft,\" small-angle deflections mediated by the electrostatic force, act to erode non-local thermal equilibrium (LTE) features within the solar wind. Though remnants may persist through much of the inner heliosphere and beyond, this results in strong departures from LTE.\n",
    "\n",
    "The theory behind this techniquie is detailed below, after which we show how to use the functionality and then apply it to observations. The final section compares observations from the Wind spacecraft with the predictions of this method.\n",
    "\n",
    "\n",
    "## Contents\n",
    "\n",
    "1. [Introudction](#Introduction)\n",
    "2. [Application](#Application)\n",
    "3. [Comparison](#Comparison)\n",
    "\n"
   ]
  },
  {
   "cell_type": "code",
   "execution_count": 1,
   "metadata": {},
   "outputs": [],
   "source": [
    "import matplotlib.pyplot as plt\n",
    "import numpy as np\n",
    "import random\n",
    "\n",
    "from astropy import units as u\n",
    "from hapiclient import hapi\n",
    "\n",
    "from plasmapy.formulary.collisions.helio import collisional_analysis as coal\n",
    "from plasmapy.particles import Particle\n",
    "\n",
    "plt.rcParams[\"figure.figsize\"] = [10.5, 0.56 * 10.5]"
   ]
  },
  {
   "cell_type": "markdown",
   "metadata": {},
   "source": [
    "[verscharen2019]: https://doi.org/10.1007/s41116-019-0021-0\n",
    "[maruca2013]: https://www.doi.org/10.1103/PhysRevLett.111.241101\n",
    "[johnson2023]: https://\n",
    "\n",
    "## Introduction\n",
    "\n",
    "The processes by which collisions bring ion temperatures, especially those of protons $(T_{\\rm p})$ and α-particles $(T_{\\alpha})$, into LTE has received considerable attention [Verscharen 2019][verscharen2019]. In situ observations of near-Earth solar wind have shown that the α-proton relative temperature,\n",
    "\n",
    "$$\n",
    "    \\theta_{\\alpha \\rm p} = \\frac{T_{\\alpha}}{T_{\\rm p}}\n",
    "$$\n",
    "\n",
    "varies widely [Johnson 2023][johnson2023]. Collisional analysis allows us to understand how the $\\theta_{\\alpha \\rm p}$ temperature ratio should evolve as a function of distance from the Sun. The derived model from [Maruca 2013][maruca2013] gives the radial gradient in $\\theta_{\\alpha{\\rm p}}$ as,\n",
    "\n",
    "$$\n",
    "    \\frac{d\\theta_{\\alpha {\\rm p}}}{dr} = \\left( \\frac{An_{\\rm p}}{v_{r\\rm p}T^{3/2}_{\\rm p}}  \\right) \\left( \\frac{\\mu_{\\alpha}^{1/2}Z^{2}_{\\alpha}(1 - \\theta_{\\alpha {\\rm p}})(1 + \\eta_{\\alpha {\\rm p}} \\theta_{\\alpha {\\rm p}})}{(\\mu_{\\alpha} + \\theta_{\\alpha {\\rm p}})^{3/2}} \\right) \\lambda_{\\alpha \\rm p} \\ ,\n",
    "$$\n",
    "\n",
    "where\n",
    "\n",
    "$$\n",
    "   \\lambda_{\\alpha \\rm p} = 9 + \\ln \\left[ B \\left( \\frac{T^{3/2}_{\\rm p} (\\mu_{\\alpha} + \\theta_{\\alpha {\\rm p}})}{n^{1/2}_{\\rm p}Z_{\\alpha}(1 + \\mu_{\\alpha})} \\right) \\left( 1 + \\frac{Z^{2}_{\\alpha} \\eta_{\\alpha \\rm p} }{\\theta_{\\alpha {\\rm p}}} \\right)^{-1/2} \\right] \\ ,\n",
    "$$\n",
    "\n",
    "\n",
    "In these equations, $A = 2.60 \\times 10^{7} \\, {\\rm cm}^{3} \\, {\\rm km} \\, {\\rm K}^{3/2} \\, {\\rm s}^{-1} \\, {\\rm au}^{-1}$, $B = 1 \\, {\\rm cm}^{-3/2}{\\rm K}^{-3/2} $, $Z_\\alpha \\equiv q_\\alpha/q_{\\rm p} = 2$ is the $\\alpha$-proton relative charge, $\\mu_\\alpha \\equiv m_\\alpha/m_{\\rm p} \\approx 4$ is their relative mass, and $\\eta_{\\alpha{\\rm p}} \\equiv n_\\alpha/n_{\\rm p}$ is the their relative abundance.\n",
    "\n",
    "<div class=\"alert alert-info\">\n",
    "\n",
    "Assumptions\n",
    "\n",
    "This model assumed the following conditions:\n",
    "\n",
    "  * $\\eta_{\\alpha \\rm p}$ remains fixed within any given parcel of plasma\n",
    "  * The system is in a steady state\n",
    "  * No relative drift between ion species\n",
    "  * All particles are fully ionized\n",
    "\n",
    "</div>\n",
    "\n"
   ]
  },
  {
   "cell_type": "markdown",
   "source": [
    "We can model how the temperature ratio changes over distance, this allows us to produce characteristic decay curves for two ion species due to the thermalization. Essentially, predicting the temperature ratio for the two ion species at a different point in space, depending on the location of observations this can either be closer to the Earth or the Sun.\n",
    "\n",
    "Let us model and show how the temperature ratio of the ion species evolve as they travel through the heliosphere."
   ],
   "metadata": {
    "collapsed": false
   }
  },
  {
   "cell_type": "code",
   "execution_count": null,
   "metadata": {
    "pycharm": {
     "is_executing": true
    }
   },
   "outputs": [],
   "source": [
    "theta = {}\n",
    "\n",
    "# Define the location, i.e. starting point, at which params were observed in [au]\n",
    "r_start = 0.1\n",
    "r_end = 1.1\n",
    "radii = np.arange(r_start, r_end, 0.01).tolist()\n",
    "\n",
    "# Define typical values for parameters within the solar wind\n",
    "n_p_min = 1000\n",
    "n_p_max = 1500\n",
    "\n",
    "n_a_min = 5\n",
    "n_a_max = 15\n",
    "\n",
    "v_p_min = 350\n",
    "v_p_max = 450\n",
    "\n",
    "T_p = 10**5\n",
    "T_a = 10**6\n",
    "\n",
    "# Define parameters\n",
    "params = {\n",
    "        \"r_0\": [r_start] * u.au,\n",
    "        \"r_n\": [r_end] * u.au,\n",
    "        \"n_1\": [random.randint(n_p_min, n_p_max)] * u.cm**-3,\n",
    "        \"n_2\": [random.randint(n_a_min, n_a_max)] * u.cm**-3,\n",
    "        \"v_1\": [random.randint(v_p_min, v_p_max)] * u.km / u.s,\n",
    "        \"T_1\": [(1 + random.random()) * T_p] * u.K,\n",
    "        \"T_2\": [(1 + random.random()) * T_a] * u.K,\n",
    "        \"ions\": [\"p+\", \"He-4++\"],\n",
    "        \"n_step\": 100,\n",
    "    }\n",
    "\n",
    "# Check values to ensure consistency with observed values\n",
    "def rand_asgn(params):\n",
    "    params[\"n_1\"][0] = [random.randint(n_p_min, n_p_max)] * u.cm**-3\n",
    "    params[\"n_2\"][0] = [random.randint(n_a_min, n_a_max)] * u.cm**-3\n",
    "    params[\"v_1\"][0] = [random.randint(v_p_min, v_p_max)] * u.km / u.s\n",
    "    params[\"T_1\"][0] = [random.random() * T_p] * u.K\n",
    "    params[\"T_2\"][0] = [random.random() * T_a] * u.K\n",
    "\n",
    "    return params\n",
    "\n",
    "while params[\"T_2\"][0] / params[\"T_1\"][0] > 15:\n",
    "    rand_asgn(params)\n",
    "\n",
    "#Generate minium and maximum values to vary each parameter\n",
    "mm_vals = {}\n",
    "mm_vals[\"n_1\"] = (0.8, 5)\n",
    "mm_vals[\"n_2\"] = (0.5, 10)\n",
    "mm_vals[\"v_1\"] = (0.6, 10)\n",
    "mm_vals[\"T_1\"] = (0.8, 2)\n",
    "mm_vals[\"T_2\"] = (0.8, 10)\n",
    "\n",
    "# Calculate theta for the given parameters\n",
    "for param in (\"n_1\", \"n_2\", \"v_1\", \"T_1\", \"T_2\"): # Vary certain parameters so we can see their individual affect\n",
    "    theta[param] = {}\n",
    "    for mm_val in mm_vals[param]:\n",
    "        theta[param][mm_val] = []\n",
    "        params[str(param)][0] = params[str(param)][0] * mm_val\n",
    "        for radius in radii:\n",
    "            params[\"r_n\"] = [radius] * u.au\n",
    "            theta[param][mm_val].append(float(coal.temp_ratio(**params)[0]))\n",
    "\n",
    "# Plot the results\n",
    "fs = 14  # Default font size\n",
    "figwidth, figheight = plt.rcParams[\"figure.figsize\"]\n",
    "figheight = 1.6 * figheight\n",
    "fig = plt.figure(figsize=[figwidth, figheight])\n",
    "\n",
    "\n",
    "# Show all variations of theta\n",
    "for param in theta:\n",
    "    for mm_val in theta[param]:\n",
    "        if mm_val < 1:\n",
    "            lbl = \"min\"\n",
    "        elif mm_val > 1:\n",
    "            lbl = \"max\"\n",
    "\n",
    "        plt.plot(\n",
    "            radii,\n",
    "            theta[param][mm_val], label=f\"{str(param)} {lbl}\"\n",
    "        )\n",
    "\n",
    "# Adjust axes\n",
    "plt.xlabel(r\"radius ${\\rm [au]}$\", fontsize=fs)\n",
    "plt.ylabel(\n",
    "    r\"$\\alpha$-proton relative temperature, $\\theta_{\\alpha \\rm p} = \\frac{T_{\\alpha}}{T_{\\rm p}}$\",\n",
    "    fontsize=fs,\n",
    ")\n",
    "\n",
    "plt.ylim(0, 16)\n",
    "plt.xlim(0.1, 1)\n",
    "\n",
    "plt.tick_params(\n",
    "    which=\"both\",\n",
    "    direction=\"in\",\n",
    "    labelsize=fs,\n",
    "    right=True,\n",
    "    length=5,\n",
    "    pad=10,\n",
    ")\n",
    "\n",
    "# Plot caption\n",
    "txt = r\"Fig. 1-1: Graph of $\\alpha$-proton relative temperature, against distance from the sun in [au].\" f\"\\nDemonstrates how the temperature ratio evolves with distance due to collisional thermalization. \\nParameters in the legend vary the minimum and maximum value of said parameter to show \\nits individual affect.\"\n",
    "\n",
    "plt.figtext(0.1, -0.08, txt, ha=\"left\", fontsize=fs)\n",
    "plt.legend(loc=\"upper right\", fontsize=fs)\n",
    "plt.grid()\n",
    "plt.show()\n"
   ]
  },
  {
   "cell_type": "markdown",
   "metadata": {},
   "source": [
    "\n",
    "[maruca2013]: https://www.doi.org/10.1103/PhysRevLett.111.241101\n",
    "[hellinger2011]: https://doi.org/10.1029/2011JA016674\n",
    "\n",
    "<div class=\"alert alert-info\">\n",
    "\n",
    "Note:\n",
    "\n",
    "The model allows parameters to vary with $r$. In particular, [Maruca 2013][maruca2013] used the following radial scaling based on the analysis of Helios observations by [Hellinger 2011][hellinger2011]:\n",
    "\n",
    "$$\n",
    "    n_{\\rm p}(r) \\propto r^{-1.8}\\ , \\hspace{1cm} v_{r\\rm p}(r) \\propto r^{-0.2}\\ , \\hspace{0.5cm} {\\rm and} \\hspace{0.5cm} T_{\\rm p}(r) \\propto r^{-0.74}\n",
    "$$\n",
    "\n",
    "These values are not fixed and can be altered within the function, they can be taken from simulations, data or both.\n",
    "\n",
    "</div>\n",
    "\n",
    "Looking at the plot, we can see a tendency for the temperature ratio to decrease over distance, in the limit as $r \\to \\infty$ we can see that $\\theta_{\\alpha \\rm p} \\to 1$. The variation in density does not have a major effect on the temperature ratio, this is to be expected as it is assumed that for each parcel of plasma the density ratio, $\\eta_{\\alpha \\rm p} \\equiv n_{\\alpha}/n_{p}$ remains fixed. The variation in speed shows that slower moving plasma thermalizes quicker than faster moving plasma, though the degree in variation is small. The main parameter that affects the rate of thermalization is the temperature of the secondary ion species, in this case the $\\alpha$-particle temperature.\n"
   ]
  },
  {
   "cell_type": "markdown",
   "metadata": {},
   "source": [
    "[maruca2013]: https://www.doi.org/10.1103/PhysRevLett.111.241101\n",
    "\n",
    "## Application\n",
    "\n",
    "This method can be applied to observations from spacecraft, data in this workbook is taken from CDA Web NASA.\n",
    "\n",
    "\n",
    "To do this we shall create a probability distribution of $\\alpha$-proton relative temperature for a data set. The data are sorted among 45 bins ranging from $\\theta_{\\alpha \\rm}$ = 0 to 10, the count of the number of data in each bin was divided by the total number of data, and the $\\theta_{\\alpha \\rm}$-width of the bin to approximate probability density [Maruca 2013][maruca2013]. Only protons and $\\alpha$-particles are considered: other ion species and electrons are neglected."
   ]
  },
  {
   "cell_type": "code",
   "execution_count": 3,
   "metadata": {},
   "outputs": [
    {
     "data": {
      "text/plain": "<Figure size 1050x940.8 with 1 Axes>",
      "image/png": "[encoded data removed]"
     },
     "metadata": {},
     "output_type": "display_data"
    }
   ],
   "source": [
    "# Get Dst index from CDAWeb HAPI server\n",
    "server     = 'https://cdaweb.gsfc.nasa.gov/hapi'\n",
    "dataset    = 'HELIOS2_40SEC_MAG-PLASMA'\n",
    "start      = \"1976-09-12T01:21:38Z\" #1974-12-12T01:21:38Z\n",
    "stop       = '1976-11-18T01:21:38Z' #1985-09-04T09:52:10Z\n",
    "\n",
    "# Get data\n",
    "time = hapi(server, dataset, 'Time', start, stop)\n",
    "t_p = hapi(server, dataset, 'Tp', start, stop)\n",
    "t_a = hapi(server, dataset, 'T_a', start, stop)\n",
    "\n",
    "# Calculate and clean up theta values\n",
    "theta = []\n",
    "for i in range(len(t_p[0])):\n",
    "    theta.append(t_a[0][i][1]/t_p[0][i][1])\n",
    "\n",
    "theta = [x for x in theta if str(x) != 'nan']\n",
    "\n",
    "# Plot the results\n",
    "fs = 14  # Default font size\n",
    "figwidth, figheight = plt.rcParams[\"figure.figsize\"]\n",
    "figheight = 1.6 * figheight\n",
    "fig = plt.figure(figsize=[figwidth, figheight])\n",
    "\n",
    "plt.hist(theta, range=(0,10), density=1)\n",
    "\n",
    "# Adjust axes\n",
    "plt.ylabel(r\"Probability Density\", fontsize=fs)\n",
    "plt.xlabel(\n",
    "    r\"$\\alpha$-proton relative temperature, $\\theta_{\\alpha \\rm p} = \\frac{T_{\\alpha}}{T_{\\rm p}}$\",\n",
    "    fontsize=fs,\n",
    ")\n",
    "\n",
    "plt.tick_params(\n",
    "    which=\"both\",\n",
    "    direction=\"in\",\n",
    "    labelsize=fs,\n",
    "    right=True,\n",
    "    length=5,\n",
    "    pad=10,\n",
    ")\n",
    "\n",
    "# plot caption\n",
    "txt = f\"Fig. 1-1: W\"\n",
    "\n",
    "plt.figtext(0.25, -0.04, txt, ha=\"left\", fontsize=fs)\n",
    "plt.grid()\n",
    "plt.show()\n",
    "\n"
   ]
  },
  {
   "cell_type": "markdown",
   "metadata": {},
   "source": [
    "This histogram shows us what the probability of observing a specific temperature ratio,"
   ]
  },
  {
   "cell_type": "code",
   "execution_count": null,
   "metadata": {
    "pycharm": {
     "is_executing": true
    }
   },
   "outputs": [
    {
     "name": "stderr",
     "output_type": "stream",
     "text": [
      "/Users/elliotjohnson/opt/anaconda3/envs/PlasmaPy/lib/python3.10/site-packages/astropy/units/quantity.py:611: RuntimeWarning: invalid value encountered in sqrt\n",
      "  result = super().__array_ufunc__(function, method, *arrays, **kwargs)\n"
     ]
    },
    {
     "name": "stdout",
     "output_type": "stream",
     "text": [
      " 5.46 %"
     ]
    }
   ],
   "source": [
    "r_n = hapi(server, dataset, 'R_Helio', start, stop)\n",
    "n_p = hapi(server, dataset, 'Np', start, stop)\n",
    "n_a = hapi(server, dataset, 'N_a', start, stop)\n",
    "v_p = hapi(server, dataset, 'Vp', start, stop)\n",
    "\n",
    "theta_pred = []\n",
    "L = len(r_n[0])\n",
    "\n",
    "for i in range(L):\n",
    "    params = {\n",
    "            \"r_0\": [r_n[0][i][1]] * u.au,\n",
    "            \"r_n\": [1.0] * u.au,\n",
    "            \"n_1\": [n_p[0][i][1]] * u.cm**-3,\n",
    "            \"n_2\": [n_a[0][i][1]] * u.cm**-3,\n",
    "            \"v_1\": [v_p[0][i][1]] * u.km / u.s,\n",
    "            \"T_1\": [abs(t_p[0][i][1])] * u.K,\n",
    "            \"T_2\": [abs(t_a[0][i][1])] * u.K,\n",
    "            \"ions\": [\"p+\", \"He-4++\"],\n",
    "        }\n",
    "\n",
    "    theta_pred.append(float(coal.temp_ratio(**params)[0]))\n",
    "    print('\\r', f\"{(i / L) * 100:.2f} %\", end=\"\")\n",
    "\n",
    "theta_pred = [x for x in theta_pred if str(x) != 'nan']\n",
    "print(theta_pred)\n",
    "# Plot the results\n",
    "fs = 14  # Default font size\n",
    "figwidth, figheight = plt.rcParams[\"figure.figsize\"]\n",
    "figheight = 1.6 * figheight\n",
    "fig = plt.figure(figsize=[figwidth, figheight])\n",
    "\n",
    "plt.hist(theta_pred, range=(0, 10), density=1)\n",
    "plt.grid()\n",
    "plt.show()"
   ]
  },
  {
   "cell_type": "markdown",
   "metadata": {},
   "source": [
    "\n",
    "here we introduce the wind data\n",
    "\n",
    "pyspedas, spacepy, pystat\n",
    "\n",
    "https://github.com/hapi-server/client-python/blob/master/README.md\n",
    "\n",
    "\n",
    "what if instead of the alpha particles being heated prefentially, but that the protons are under heated.\n",
    "by this i mean that because there are so many of them, some are not heated and this disparity between the heated and underheated ions is what is causing the behaviour."
   ]
  },
  {
   "cell_type": "markdown",
   "source": [
    "[maruca2013]: https://www.doi.org/10.1103/PhysRevLett.111.241101\n",
    "\n",
    "## Comparision\n",
    "\n",
    "Now that we have made a prediction, we can compare it with the actual observed values from the Wind spacecraft."
   ],
   "metadata": {
    "collapsed": false
   }
  },
  {
   "cell_type": "code",
   "execution_count": null,
   "outputs": [],
   "source": [
    "# Get data from Wind\n",
    "dataset    = 'WI_PM_3DP'\n",
    "start      = \"1996-11-01T01:21:38\" #1994-11-15T12:53:43Z\n",
    "stop       = '1996-11-05T01:21:38' #2023-04-24T23:59:58Z\n",
    "\n",
    "# Get data\n",
    "time = hapi(server, dataset, 'Time', start, stop)\n",
    "t_p = hapi(server, dataset, 'P_TEMP', start, stop)\n",
    "t_a = hapi(server, dataset, 'A_TEMP', start, stop)\n",
    "\n",
    "theta = []\n",
    "for i in range(len(t_p[0])):\n",
    "    theta.append(t_a[0][i][1]/t_p[0][i][1])\n",
    "\n",
    "theta = [x for x in theta if str(x) != 'nan']\n",
    "\n",
    "# Plot the results\n",
    "fs = 14  # Default font size\n",
    "figwidth, figheight = plt.rcParams[\"figure.figsize\"]\n",
    "figheight = 1.6 * figheight\n",
    "fig = plt.figure(figsize=[figwidth, figheight])\n",
    "\n",
    "plt.hist(theta, range=(0,10), density=1)\n",
    "\n",
    "plt.show()\n"
   ],
   "metadata": {
    "collapsed": false,
    "pycharm": {
     "is_executing": true
    }
   }
  },
  {
   "cell_type": "code",
   "execution_count": null,
   "outputs": [],
   "source": [],
   "metadata": {
    "collapsed": false,
    "pycharm": {
     "is_executing": true
    }
   }
  }
 ],
 "metadata": {
  "kernelspec": {
   "display_name": "Python 3 (ipykernel)",
   "language": "python",
   "name": "python3"
  },
  "language_info": {
   "codemirror_mode": {
    "name": "ipython",
    "version": 3
   },
   "file_extension": ".py",
   "mimetype": "text/x-python",
   "name": "python",
   "nbconvert_exporter": "python",
   "pygments_lexer": "ipython3",
   "version": "3.9.13"
  }
 },
 "nbformat": 4,
 "nbformat_minor": 1
}
