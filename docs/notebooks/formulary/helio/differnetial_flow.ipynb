{
 "cells": [
  {
   "cell_type": "markdown",
   "source": [
    "# Collisional Analysis - Differential Flow\n",
    "\n",
    "[maruca2013]: https://doi.org/10.1103/PhysRevLett.111.241101\n",
    "[CoAl]: ../../api_static/plasmapy.formulary.helio.collisional_analysis.rst\n",
    "\n",
    "\n",
    "This notebook acts as a follow on from the collisional analysis notebook, all functionality is contained within the [collisional_analysis()][CoAl] module. The work done by [Maruca 2013][maruca2013] is expanded upon, instead of analysis the effects of Coulomb collisions on the thermalization of ion temperature ratios, here it is applied to the differential flow between ion species.\n",
    "\n",
    "The first section will focus on the theroetical framework of collisional analysis and how it was adapted to differetinal flow. The latter section then focus on use of the function and application, the predictions from this technique are also compared with observed values.\n",
    "\n",
    "## Contents\n",
    "\n",
    "1. [Mathematical Model](#Mathematical-model)\n",
    "2. [Usage](#Usage)\n",
    "3. [Comparision](#Comparision)"
   ],
   "metadata": {
    "collapsed": false
   }
  },
  {
   "cell_type": "code",
   "execution_count": 2,
   "outputs": [],
   "source": [
    "import matplotlib.pyplot as plt\n",
    "import numpy as np\n",
    "import random\n",
    "\n",
    "from astropy import units as u\n",
    "from hapiclient import hapi\n",
    "\n",
    "from plasmapy.formulary.collisions.helio import collisional_analysis as coal\n",
    "from plasmapy.particles import Particle\n",
    "\n",
    "plt.rcParams[\"figure.figsize\"] = [10.5, 0.56 * 10.5]"
   ],
   "metadata": {
    "collapsed": false
   }
  },
  {
   "cell_type": "markdown",
   "source": [
    "[johnson2023a]: https://doi.org/10.3847/1538-4357/accc32\n",
    "[johnson2023b]: https://\n",
    "[maruca2013]: https://doi.org/10.1103/PhysRevLett.111.241101\n",
    "[verscharen2019]: https://doi.org/10.1007/s41116-019-0021-0\n",
    "[nrl]: https://apps.dtic.mil/sti/pdfs/AD1116543.pdf\n",
    "[larroche2021]: https://doi.org/10.1140/epjd/s10053-021-00305-2\n",
    "\n",
    "## Mathematical Model\n",
    "\n",
    "[Maruca 2013](maruca2013) investiged how Coulomb collisions - \"soft,\" small-angle deflections mediated by the electrostatic force, act to erode non-local thermal equilibrium (LTE) feature within the solar wind. Previous work has focused primarily on ion temperatures, specifically those of protons $(T_{\\rm p})$ and $\\alpha$-particles $(T_{\\rm \\alpha})$ [Verscharen 2019](verscharen2019). Following the work by [Johnson 2023a](johnson2023a), the mathematical model for the collisional analysis of differential flow was derived. Begining with the collisional slowing time for two particle species,\n",
    "\n",
    "$$\n",
    "\n",
    "        \\Delta \\vec{v}_{\\rm i j} = \\vec{v}_{\\rm i} - \\vec{v}_{\\rm j}\n",
    "\n",
    "$$\n",
    "\n",
    "our interest lies in the radial evolution of this parameter through the innner heliosphere. To do this, the slowing down rate of test particles streaming with a velocity through a background particle field is considered [NRL](nrl).\n",
    "\n",
    "$$\n",
    "\n",
    "        \\frac{\\Delta \\vec{v}_{\\rm i j} }{dt} = -\\nu^{(\\rm ij)} \\Delta \\vec{v}_{\\rm i j}\n",
    "\n",
    "$$\n",
    "\n",
    "Here $\\nu^{(\\rm ij)}$ is the collision rate between the two ion species. When discussing the solar wind, the two species of primary concern as those that are most abundent, protons and $\\alpha$-particles. Hence he background particles are taken to be protons and the proton velocity is the streaming velocity of the background particle field. Thus following the example in [Maruca 2013](maruca2013) the chain rule can be applied and the proton velocity subsituted as follows:\n",
    "\n",
    "$$\n",
    "\n",
    "         \\frac{\\Delta \\vec{v}_{\\alpha \\rm p} }{dr} =   \\frac{\\Delta \\vec{v}_{\\alpha \\rm p} }{dt} \\cdot \\frac{dt}{dr} = \\frac{\\Delta \\vec{v}_{\\alpha \\rm p} }{dt} \\cdot \\frac{1}{|\\vec{v}_{\\rm p}|} = -\\nu^{(\\alpha \\rm p)}  \\frac{\\Delta \\vec{v}_{\\alpha \\rm p}}{|\\vec{v}_{\\rm p}|}\n",
    "\n",
    "$$\n",
    "\n",
    "The formulation of the collision rate, $\\nu^{(\\rm ij)}$, is derived from the velocity distrubtion function for the two colliding ion species [Larroche 2021](larroche2021), i.e. protons and $\\alpha$-particles. Resulting in the following equation for collisional analysis of differential flow:\n",
    "\n",
    "$$\n",
    "\n",
    "        \\frac{\\Delta \\vec{v}_{\\alpha \\rm p} }{dr} = - \\frac{4\\sqrt{2\\pi} \\, e^{4} Z^{2}_{\\alpha} Z^{2}_{\\rm p}(m_{\\alpha} + m_{\\rm p})(n_{\\alpha}m_{\\alpha} + n_{\\rm p}m_{\\rm p})\\, \\lambda_{\\alpha \\rm p}}{3m_{\\alpha}^{2}m_{\\rm p}^{2}(4\\pi \\epsilon_{0})^{2}\\left( \\frac{k_{B}T_{\\alpha}}{m_{\\alpha}} + \\frac{k_{B}T_{\\rm p}}{m_{\\rm p}} \\right)^{3/2}} \\cdot \\frac{\\Delta \\vec{v}_{\\alpha \\rm p}}{|\\vec{v}_{\\rm p}|}\n",
    "\n",
    "\n",
    "\n",
    "$$\n",
    "\n"
   ],
   "metadata": {
    "collapsed": false
   }
  },
  {
   "cell_type": "code",
   "execution_count": null,
   "outputs": [],
   "source": [],
   "metadata": {
    "collapsed": false
   }
  },
  {
   "cell_type": "code",
   "execution_count": null,
   "outputs": [],
   "source": [],
   "metadata": {
    "collapsed": false
   }
  },
  {
   "cell_type": "code",
   "execution_count": null,
   "outputs": [],
   "source": [],
   "metadata": {
    "collapsed": false
   }
  }
 ],
 "metadata": {
  "kernelspec": {
   "display_name": "Python 3",
   "language": "python",
   "name": "python3"
  },
  "language_info": {
   "codemirror_mode": {
    "name": "ipython",
    "version": 2
   },
   "file_extension": ".py",
   "mimetype": "text/x-python",
   "name": "python",
   "nbconvert_exporter": "python",
   "pygments_lexer": "ipython2",
   "version": "2.7.6"
  }
 },
 "nbformat": 4,
 "nbformat_minor": 0
}
