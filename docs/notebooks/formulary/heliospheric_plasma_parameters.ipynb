{
 "cells": [
  {
   "cell_type": "markdown",
   "id": "955ce3dd",
   "metadata": {},
   "source": [
    "# Heliospheric plasma parameters"
   ]
  },
  {
   "cell_type": "markdown",
   "id": "1c740ee3",
   "metadata": {},
   "source": [
    "The purpose of this notebook is to demonstrate `plasmapy.formulary` in the context of the heliosphere."
   ]
  },
  {
   "cell_type": "code",
   "execution_count": 3,
   "id": "1bec0a7f",
   "metadata": {},
   "outputs": [],
   "source": [
    "import astropy.units as u\n",
    "\n",
    "from plasmapy.formulary import *\n",
    "from plasmapy.particles import *"
   ]
  },
  {
   "cell_type": "markdown",
   "id": "95657a6d",
   "metadata": {},
   "source": [
    "## Contents:"
   ]
  },
  {
   "cell_type": "markdown",
   "id": "d4b1f0a2",
   "metadata": {},
   "source": [
    "1. ..."
   ]
  },
  {
   "cell_type": "markdown",
   "id": "f24a4eeb",
   "metadata": {},
   "source": [
    "## The solar corona"
   ]
  },
  {
   "cell_type": "markdown",
   "id": "8414d286",
   "metadata": {},
   "source": [
    "Plasma beta (β) is one of the most fundamental plasma parameters. β is the ratio of the plasma (gas) pressure to the magnetic pressure. How a plasma behaves depends hugely on β. When β ≫ 1, the magnetic field is not strong enough to exert much of a force on the plasma, so its motions start to resemble a gas. When β ≪ 1, magnetic tension and pressure are the dominant macroscopic forces. Let's compare how β changes in the solar atmosphere."
   ]
  },
  {
   "cell_type": "markdown",
   "id": "60aa77b5",
   "metadata": {},
   "source": [
    "Let's start by defining some plasma parameters for an active region in the solar corona."
   ]
  },
  {
   "cell_type": "code",
   "execution_count": 28,
   "id": "c4b98f58",
   "metadata": {},
   "outputs": [],
   "source": [
    "B_corona = 50 * u.G\n",
    "n_corona = 1e9 * u.cm ** -3\n",
    "T_corona = 2 * u.MK"
   ]
  },
  {
   "cell_type": "markdown",
   "id": "cdc0c334",
   "metadata": {},
   "source": [
    "We can calculate β using `plasmapy.formulary.beta` we find that beta in the solar corona is quite small and thus magnetically dominated."
   ]
  },
  {
   "cell_type": "code",
   "execution_count": 10,
   "id": "98b23229",
   "metadata": {},
   "outputs": [
    {
     "data": {
      "text/latex": [
       "$0.0027759595 \\; \\mathrm{}$"
      ],
      "text/plain": [
       "<Quantity 0.00277596>"
      ]
     },
     "execution_count": 10,
     "metadata": {},
     "output_type": "execute_result"
    }
   ],
   "source": [
    "beta(T_corona, n_corona, B_corona)"
   ]
  },
  {
   "cell_type": "markdown",
   "id": "42d4e729",
   "metadata": {},
   "source": [
    "Now let's look at some chromospheric parametesr"
   ]
  },
  {
   "cell_type": "code",
   "execution_count": 17,
   "id": "9f15627b",
   "metadata": {},
   "outputs": [],
   "source": [
    "T_chromosphere = 6500 * u.K\n",
    "B_chromosphere = 50 * u.G  # increase from coronal value?\n",
    "n_chromosphere = 1e13 * u.cm ** -3  # double check from VAL C"
   ]
  },
  {
   "cell_type": "code",
   "execution_count": 18,
   "id": "980fed87",
   "metadata": {},
   "outputs": [
    {
     "data": {
      "text/latex": [
       "$0.090218685 \\; \\mathrm{}$"
      ],
      "text/plain": [
       "<Quantity 0.09021868>"
      ]
     },
     "execution_count": 18,
     "metadata": {},
     "output_type": "execute_result"
    }
   ],
   "source": [
    "beta(T_chromosphere, n_chromosphere, B_chromosphere)"
   ]
  },
  {
   "cell_type": "markdown",
   "id": "e3dbc7da",
   "metadata": {},
   "source": [
    "It's higher, but still pretty low!"
   ]
  },
  {
   "cell_type": "code",
   "execution_count": 19,
   "id": "dde04a5f",
   "metadata": {},
   "outputs": [],
   "source": [
    "T_photosphere = 5800 * u.K\n",
    "B_photosphere = 50 * u.G\n",
    "n_photosphere = 1e17 * u.cm ** -3"
   ]
  },
  {
   "cell_type": "code",
   "execution_count": 20,
   "id": "c5783b30",
   "metadata": {},
   "outputs": [
    {
     "data": {
      "text/latex": [
       "$805.02826 \\; \\mathrm{}$"
      ],
      "text/plain": [
       "<Quantity 805.02826228>"
      ]
     },
     "execution_count": 20,
     "metadata": {},
     "output_type": "execute_result"
    }
   ],
   "source": [
    "beta(T_photosphere, n_photosphere, B_photosphere)"
   ]
  },
  {
   "cell_type": "markdown",
   "id": "5e3f1895",
   "metadata": {},
   "source": [
    "Ok, that's bigger!  "
   ]
  },
  {
   "cell_type": "code",
   "execution_count": 24,
   "id": "4b230962",
   "metadata": {},
   "outputs": [],
   "source": [
    "T_sunspot = 4500 * u.K\n",
    "B_sunspot = 2 * u.kG"
   ]
  },
  {
   "cell_type": "code",
   "execution_count": 25,
   "id": "9824ec24",
   "metadata": {},
   "outputs": [
    {
     "data": {
      "text/latex": [
       "$0.39036931 \\; \\mathrm{}$"
      ],
      "text/plain": [
       "<Quantity 0.39036931>"
      ]
     },
     "execution_count": 25,
     "metadata": {},
     "output_type": "execute_result"
    }
   ],
   "source": [
    "beta(T_sunspot, n_photosphere, B_sunspot)"
   ]
  }
 ],
 "metadata": {
  "kernelspec": {
   "display_name": "Python 3 (ipykernel)",
   "language": "python",
   "name": "python3"
  },
  "language_info": {
   "codemirror_mode": {
    "name": "ipython",
    "version": 3
   },
   "file_extension": ".py",
   "mimetype": "text/x-python",
   "name": "python",
   "nbconvert_exporter": "python",
   "pygments_lexer": "ipython3",
   "version": "3.10.4"
  }
 },
 "nbformat": 4,
 "nbformat_minor": 5
}
