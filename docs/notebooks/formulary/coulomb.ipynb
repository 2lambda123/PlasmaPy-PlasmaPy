{
 "cells": [
  {
   "cell_type": "markdown",
   "id": "e59bc6b1",
   "metadata": {},
   "source": [
    "# Coulomb logarithms"
   ]
  },
  {
   "cell_type": "markdown",
   "id": "304b7591",
   "metadata": {},
   "source": [
    "Coulomb collisions are collisions between two charged particles where the interaction is governed solely by the electric field. Unlike head-on collisions, Coulomb collisions usually result in small deflections in particle trajectories. How much the trajectory is deflected depends on the distance between the two particles."
   ]
  },
  {
   "cell_type": "markdown",
   "id": "1039816a",
   "metadata": {},
   "source": [
    "[impact parameters]: https://en.wikipedia.org/wiki/Impact_parameter\n",
    "\n",
    "Coulomb collisions in a plasma occur at a range of [impact parameters].  The minimum and maximum impact parameters ($b_\\min$ and $b_\\max$, respectively) represent the range of distances of closest approach. While a typical Coulomb collision results in only a slight change in trajectory, the effects of these collisions are cumulative, and it is necessary to integrate over the range of impact parameters."
   ]
  },
  {
   "cell_type": "markdown",
   "id": "13fe2975",
   "metadata": {},
   "source": [
    "[Debye length]: https://en.wikipedia.org/wiki/Debye_length\n",
    "\n",
    "The Coulomb logarithm is given by $$\\ln{Λ} ≡ \\ln\\left(\\frac{b_\\max}{b_\\min}\\right),$$ where $b_\\min$ and $b_\\max$. Usually $b_\\max$ is given by the [Debye length], $λ_D$, because electric fields cancel each other out on length scales $≳ λ_D$ due to screening effects. The inner impact parameter is "
   ]
  },
  {
   "cell_type": "markdown",
   "id": "da4c0977",
   "metadata": {},
   "source": []
  },
  {
   "cell_type": "markdown",
   "id": "428e109d",
   "metadata": {},
   "source": [
    "\n"
   ]
  },
  {
   "cell_type": "code",
   "execution_count": 15,
   "id": "661a2a51",
   "metadata": {},
   "outputs": [],
   "source": [
    "from plasmapy.formulary import (\n",
    "    Coulomb_cross_section,\n",
    "    Coulomb_logarithm,\n",
    "    impact_parameter,\n",
    ")"
   ]
  },
  {
   "cell_type": "markdown",
   "id": "f0740c74",
   "metadata": {},
   "source": [
    "The `impact_parameter` function provides the minimum and maximum"
   ]
  },
  {
   "cell_type": "code",
   "execution_count": null,
   "id": "a5823db1",
   "metadata": {},
   "outputs": [],
   "source": []
  },
  {
   "cell_type": "code",
   "execution_count": 25,
   "id": "b6a09087",
   "metadata": {},
   "outputs": [],
   "source": [
    "T = 1 * u.MK\n",
    "n_e = 1e15 * u.m ** -3\n",
    "species = [\"e-\", \"p+\"]"
   ]
  },
  {
   "cell_type": "code",
   "execution_count": 36,
   "id": "58935fe2",
   "metadata": {},
   "outputs": [
    {
     "data": {
      "text/plain": [
       "18.906037846346248"
      ]
     },
     "execution_count": 36,
     "metadata": {},
     "output_type": "execute_result"
    }
   ],
   "source": [
    "Coulomb_logarithm(T, n_e, species, method=\"GMS-3\")"
   ]
  },
  {
   "cell_type": "code",
   "execution_count": 30,
   "id": "6de70259",
   "metadata": {},
   "outputs": [
    {
     "data": {
      "text/plain": [
       "(<Quantity 1.05163071e-11 m>, <Quantity 0.00218226 m>)"
      ]
     },
     "execution_count": 30,
     "metadata": {},
     "output_type": "execute_result"
    }
   ],
   "source": [
    "impact_parameter(T, n_e, species)"
   ]
  },
  {
   "cell_type": "code",
   "execution_count": 28,
   "id": "fa5ed981",
   "metadata": {},
   "outputs": [],
   "source": [
    "impact_parameter?"
   ]
  },
  {
   "cell_type": "code",
   "execution_count": null,
   "id": "fc2d92db",
   "metadata": {},
   "outputs": [],
   "source": []
  },
  {
   "cell_type": "code",
   "execution_count": null,
   "id": "d8c666eb",
   "metadata": {},
   "outputs": [],
   "source": []
  },
  {
   "cell_type": "code",
   "execution_count": null,
   "id": "7f75cf65",
   "metadata": {},
   "outputs": [],
   "source": []
  },
  {
   "cell_type": "code",
   "execution_count": null,
   "id": "947e35c5",
   "metadata": {},
   "outputs": [],
   "source": []
  },
  {
   "cell_type": "code",
   "execution_count": null,
   "id": "85d8b59a",
   "metadata": {},
   "outputs": [],
   "source": []
  },
  {
   "cell_type": "code",
   "execution_count": null,
   "id": "4fbee2dc",
   "metadata": {},
   "outputs": [],
   "source": []
  }
 ],
 "metadata": {
  "kernelspec": {
   "display_name": "Python 3 (ipykernel)",
   "language": "python",
   "name": "python3"
  },
  "language_info": {
   "codemirror_mode": {
    "name": "ipython",
    "version": 3
   },
   "file_extension": ".py",
   "mimetype": "text/x-python",
   "name": "python",
   "nbconvert_exporter": "python",
   "pygments_lexer": "ipython3",
   "version": "3.10.4"
  }
 },
 "nbformat": 4,
 "nbformat_minor": 5
}
