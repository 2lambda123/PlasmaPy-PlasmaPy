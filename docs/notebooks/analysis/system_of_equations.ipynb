{
 "cells": [
  {
   "cell_type": "code",
   "execution_count": 8,
   "metadata": {},
   "outputs": [],
   "source": [
    "from sympy import *\n",
    "\n",
    "init_printing()"
   ]
  },
  {
   "cell_type": "code",
   "execution_count": 9,
   "metadata": {},
   "outputs": [
    {
     "data": {
      "image/png": "[encoded data removed]",
      "text/latex": [
       "$\\displaystyle \\left( α_{1}, \\  α_{2}, \\  α_{3}\\right)$"
      ],
      "text/plain": [
       "(α_{1}, α_{2}, α_{3})"
      ]
     },
     "execution_count": 9,
     "metadata": {},
     "output_type": "execute_result"
    }
   ],
   "source": [
    "α = symbols(\"α_{1:4}\")"
   ]
  },
  {
   "cell_type": "code",
   "execution_count": 10,
   "metadata": {},
   "outputs": [
    {
     "data": {
      "image/png": "[encoded data removed]",
      "text/latex": [
       "$\\displaystyle \\left( β_{1}, \\  β_{2}, \\  β_{3}\\right)$"
      ],
      "text/plain": [
       "(β_{1}, β_{2}, β_{3})"
      ]
     },
     "execution_count": 10,
     "metadata": {},
     "output_type": "execute_result"
    }
   ],
   "source": [
    "β = symbols(\"β_{1:4}\")"
   ]
  },
  {
   "cell_type": "code",
   "execution_count": 11,
   "metadata": {},
   "outputs": [
    {
     "data": {
      "image/png": "[encoded data removed]",
      "text/latex": [
       "$\\displaystyle \\left( a_{1}, \\  a_{2}\\right)$"
      ],
      "text/plain": [
       "(a_{1}, a_{2})"
      ]
     },
     "execution_count": 11,
     "metadata": {},
     "output_type": "execute_result"
    }
   ],
   "source": [
    "a = symbols(\"a_{1:3}\")"
   ]
  },
  {
   "cell_type": "code",
   "execution_count": 12,
   "metadata": {},
   "outputs": [
    {
     "data": {
      "image/png": "[encoded data removed]",
      "text/latex": [
       "$\\displaystyle \\left( b_{1}, \\  b_{2}\\right)$"
      ],
      "text/plain": [
       "(b_{1}, b_{2})"
      ]
     },
     "execution_count": 12,
     "metadata": {},
     "output_type": "execute_result"
    }
   ],
   "source": [
    "b = symbols(\"b_{1:3}\")"
   ]
  },
  {
   "cell_type": "code",
   "execution_count": 13,
   "metadata": {},
   "outputs": [
    {
     "data": {
      "image/png": "[encoded data removed]",
      "text/latex": [
       "$\\displaystyle \\left( k_{1}, \\  k_{2}, \\  k_{3}\\right)$"
      ],
      "text/plain": [
       "(k_{1}, k_{2}, k_{3})"
      ]
     },
     "execution_count": 13,
     "metadata": {},
     "output_type": "execute_result"
    }
   ],
   "source": [
    "k = symbols(\"k_{1:4}\")"
   ]
  },
  {
   "cell_type": "code",
   "execution_count": 18,
   "metadata": {},
   "outputs": [
    {
     "data": {
      "text/plain": [
       "u"
      ]
     },
     "execution_count": 18,
     "metadata": {},
     "output_type": "execute_result"
    }
   ],
   "source": [
    "ubar = Function(\"u\")"
   ]
  },
  {
   "cell_type": "code",
   "execution_count": 20,
   "metadata": {},
   "outputs": [],
   "source": [
    "a, b, k, α, β = symbols(\"a b k α β\", cls=Idx)"
   ]
  },
  {
   "cell_type": "code",
   "execution_count": 32,
   "metadata": {},
   "outputs": [
    {
     "data": {
      "image/png": "[encoded data removed]",
      "text/latex": [
       "$\\displaystyle n$"
      ],
      "text/plain": [
       "n"
      ]
     },
     "execution_count": 32,
     "metadata": {},
     "output_type": "execute_result"
    }
   ],
   "source": [
    "n = symbols(\"n\", integer=True)"
   ]
  },
  {
   "cell_type": "code",
   "execution_count": 41,
   "metadata": {},
   "outputs": [
    {
     "data": {
      "image/png": "[encoded data removed]",
      "text/latex": [
       "$\\displaystyle Idx\\left(α, \\left( 0, \\  2\\right)\\right)$"
      ],
      "text/plain": [
       "α"
      ]
     },
     "execution_count": 41,
     "metadata": {},
     "output_type": "execute_result"
    }
   ],
   "source": [
    "α = Idx(\"α\", 3)"
   ]
  },
  {
   "cell_type": "code",
   "execution_count": 42,
   "metadata": {},
   "outputs": [
    {
     "data": {
      "image/png": "[encoded data removed]",
      "text/latex": [
       "$\\displaystyle Idx\\left(β, \\left( 0, \\  2\\right)\\right)$"
      ],
      "text/plain": [
       "β"
      ]
     },
     "execution_count": 42,
     "metadata": {},
     "output_type": "execute_result"
    }
   ],
   "source": [
    "β = Idx(\"β\", 3)"
   ]
  },
  {
   "cell_type": "code",
   "execution_count": 43,
   "metadata": {},
   "outputs": [
    {
     "data": {
      "image/png": "[encoded data removed]",
      "text/latex": [
       "$\\displaystyle Idx\\left(a, \\left( 0, \\  n - 1\\right)\\right)$"
      ],
      "text/plain": [
       "a"
      ]
     },
     "execution_count": 43,
     "metadata": {},
     "output_type": "execute_result"
    }
   ],
   "source": [
    "a = Idx(\"a\", n)"
   ]
  },
  {
   "cell_type": "code",
   "execution_count": 44,
   "metadata": {},
   "outputs": [
    {
     "data": {
      "image/png": "[encoded data removed]",
      "text/latex": [
       "$\\displaystyle Idx\\left(b, \\left( 0, \\  n - 1\\right)\\right)$"
      ],
      "text/plain": [
       "b"
      ]
     },
     "execution_count": 44,
     "metadata": {},
     "output_type": "execute_result"
    }
   ],
   "source": [
    "b = Idx(\"b\", n)"
   ]
  },
  {
   "cell_type": "code",
   "execution_count": 45,
   "metadata": {},
   "outputs": [
    {
     "data": {
      "image/png": "[encoded data removed]",
      "text/latex": [
       "$\\displaystyle Idx\\left(k, \\left( 0, \\  2\\right)\\right)$"
      ],
      "text/plain": [
       "k"
      ]
     },
     "execution_count": 45,
     "metadata": {},
     "output_type": "execute_result"
    }
   ],
   "source": [
    "k = Idx(\"k\", 3)"
   ]
  },
  {
   "cell_type": "code",
   "execution_count": 46,
   "metadata": {},
   "outputs": [
    {
     "data": {
      "image/png": "[encoded data removed]",
      "text/latex": [
       "$\\displaystyle u$"
      ],
      "text/plain": [
       "u"
      ]
     },
     "execution_count": 46,
     "metadata": {},
     "output_type": "execute_result"
    }
   ],
   "source": [
    "u = IndexedBase(\"u\", shape=(3, n))"
   ]
  },
  {
   "cell_type": "code",
   "execution_count": 47,
   "metadata": {},
   "outputs": [
    {
     "data": {
      "image/png": "[encoded data removed]",
      "text/latex": [
       "$\\displaystyle r$"
      ],
      "text/plain": [
       "r"
      ]
     },
     "execution_count": 47,
     "metadata": {},
     "output_type": "execute_result"
    }
   ],
   "source": [
    "N = IndexedBase(\"N\", shape=(3, 3, n, n))\n",
    "r = IndexedBase(\"r\", shape=(3, n))"
   ]
  },
  {
   "cell_type": "code",
   "execution_count": 57,
   "metadata": {},
   "outputs": [
    {
     "data": {
      "image/png": "[encoded data removed]",
      "text/latex": [
       "$\\displaystyle {u}_{Idx\\left(k, \\left( 0, \\  2\\right)\\right),Idx\\left(a, \\left( 0, \\  n - 1\\right)\\right)}$"
      ],
      "text/plain": [
       "u[k, a]"
      ]
     },
     "execution_count": 57,
     "metadata": {},
     "output_type": "execute_result"
    }
   ],
   "source": [
    "term1 = u[k, a]"
   ]
  },
  {
   "cell_type": "code",
   "execution_count": 66,
   "metadata": {},
   "outputs": [
    {
     "data": {
      "image/png": "[encoded data removed]",
      "text/latex": [
       "$\\displaystyle Λ$"
      ],
      "text/plain": [
       "Λ"
      ]
     },
     "execution_count": 66,
     "metadata": {},
     "output_type": "execute_result"
    }
   ],
   "source": [
    "Λ = IndexedBase(\"Λ\", shape=(3, n))"
   ]
  },
  {
   "cell_type": "code",
   "execution_count": 51,
   "metadata": {},
   "outputs": [
    {
     "data": {
      "image/png": "[encoded data removed]",
      "text/latex": [
       "$\\displaystyle {N}_{Idx\\left(α, \\left( 0, \\  2\\right)\\right),1,Idx\\left(a, \\left( 0, \\  n - 1\\right)\\right),Idx\\left(b, \\left( 0, \\  n - 1\\right)\\right)} {r}_{1,Idx\\left(a, \\left( 0, \\  n - 1\\right)\\right)} {u}_{1,Idx\\left(b, \\left( 0, \\  n - 1\\right)\\right)}$"
      ],
      "text/plain": [
       "N[α, 1, a, b]⋅r[1, a]⋅u[1, b]"
      ]
     },
     "execution_count": 51,
     "metadata": {},
     "output_type": "execute_result"
    }
   ],
   "source": [
    "N[α, 1, a, b] * r[1, a] * u[1, b]"
   ]
  },
  {
   "cell_type": "code",
   "execution_count": 52,
   "metadata": {},
   "outputs": [
    {
     "data": {
      "image/png": "[encoded data removed]",
      "text/latex": [
       "$\\displaystyle {N}_{Idx\\left(α, \\left( 0, \\  2\\right)\\right),1,Idx\\left(a, \\left( 0, \\  n - 1\\right)\\right),Idx\\left(b, \\left( 0, \\  n - 1\\right)\\right)} {r}_{1,Idx\\left(a, \\left( 0, \\  n - 1\\right)\\right)} {u}_{1,Idx\\left(b, \\left( 0, \\  n - 1\\right)\\right)} + {N}_{Idx\\left(α, \\left( 0, \\  2\\right)\\right),2,Idx\\left(a, \\left( 0, \\  n - 1\\right)\\right),Idx\\left(b, \\left( 0, \\  n - 1\\right)\\right)} {r}_{2,Idx\\left(a, \\left( 0, \\  n - 1\\right)\\right)} {u}_{2,Idx\\left(b, \\left( 0, \\  n - 1\\right)\\right)} + {N}_{Idx\\left(α, \\left( 0, \\  2\\right)\\right),3,Idx\\left(a, \\left( 0, \\  n - 1\\right)\\right),Idx\\left(b, \\left( 0, \\  n - 1\\right)\\right)} {r}_{3,Idx\\left(a, \\left( 0, \\  n - 1\\right)\\right)} {u}_{3,Idx\\left(b, \\left( 0, \\  n - 1\\right)\\right)}$"
      ],
      "text/plain": [
       "N[α, 1, a, b]⋅r[1, a]⋅u[1, b] + N[α, 2, a, b]⋅r[2, a]⋅u[2, b] + N[α, 3, a, b]⋅\n",
       "r[3, a]⋅u[3, b]"
      ]
     },
     "execution_count": 52,
     "metadata": {},
     "output_type": "execute_result"
    }
   ],
   "source": [
    "N[α, 1, a, b] * r[1, a] * u[1, b] + N[α, 2, a, b] * r[2, a] * u[2, b] + N[\n",
    "    α, 3, a, b\n",
    "] * r[3, a] * u[3, b]"
   ]
  },
  {
   "cell_type": "code",
   "execution_count": 55,
   "metadata": {},
   "outputs": [
    {
     "data": {
      "image/png": "[encoded data removed]",
      "text/latex": [
       "$\\displaystyle \\sum_{Idx\\left(b, \\left( 0, \\  n - 1\\right)\\right)=0}^{n - 1} \\left({N}_{Idx\\left(α, \\left( 0, \\  2\\right)\\right),1,Idx\\left(a, \\left( 0, \\  n - 1\\right)\\right),Idx\\left(b, \\left( 0, \\  n - 1\\right)\\right)} {r}_{1,Idx\\left(a, \\left( 0, \\  n - 1\\right)\\right)} {u}_{1,Idx\\left(b, \\left( 0, \\  n - 1\\right)\\right)} + {N}_{Idx\\left(α, \\left( 0, \\  2\\right)\\right),2,Idx\\left(a, \\left( 0, \\  n - 1\\right)\\right),Idx\\left(b, \\left( 0, \\  n - 1\\right)\\right)} {r}_{2,Idx\\left(a, \\left( 0, \\  n - 1\\right)\\right)} {u}_{2,Idx\\left(b, \\left( 0, \\  n - 1\\right)\\right)} + {N}_{Idx\\left(α, \\left( 0, \\  2\\right)\\right),3,Idx\\left(a, \\left( 0, \\  n - 1\\right)\\right),Idx\\left(b, \\left( 0, \\  n - 1\\right)\\right)} {r}_{3,Idx\\left(a, \\left( 0, \\  n - 1\\right)\\right)} {u}_{3,Idx\\left(b, \\left( 0, \\  n - 1\\right)\\right)}\\right)$"
      ],
      "text/plain": [
       "n - 1                                                                         \n",
       " ___                                                                          \n",
       " ╲                                                                            \n",
       "  ╲                                                                           \n",
       "  ╱   (N[α, 1, a, b]⋅r[1, a]⋅u[1, b] + N[α, 2, a, b]⋅r[2, a]⋅u[2, b] + N[α, 3,\n",
       " ╱                                                                            \n",
       " ‾‾‾                                                                          \n",
       "b = 0                                                                         \n",
       "\n",
       "                       \n",
       "                       \n",
       "                       \n",
       "                       \n",
       " a, b]⋅r[3, a]⋅u[3, b])\n",
       "                       \n",
       "                       \n",
       "                       "
      ]
     },
     "execution_count": 55,
     "metadata": {},
     "output_type": "execute_result"
    }
   ],
   "source": [
    "Sum(\n",
    "    N[α, 1, a, b] * r[1, a] * u[1, b]\n",
    "    + N[α, 2, a, b] * r[2, a] * u[2, b]\n",
    "    + N[α, 3, a, b] * r[3, a] * u[3, b],\n",
    "    b,\n",
    ")"
   ]
  },
  {
   "cell_type": "code",
   "execution_count": 58,
   "metadata": {},
   "outputs": [
    {
     "data": {
      "text/latex": [
       "$\\displaystyle \\sum_{\\substack{0 \\leq Idx\\left(b, \\left( 0, \\  n - 1\\right)\\right) \\leq n - 1\\\\0 \\leq Idx\\left(α, \\left( 0, \\  2\\right)\\right) \\leq 2}} \\left({N}_{Idx\\left(α, \\left( 0, \\  2\\right)\\right),1,Idx\\left(a, \\left( 0, \\  n - 1\\right)\\right),Idx\\left(b, \\left( 0, \\  n - 1\\right)\\right)} {r}_{1,Idx\\left(a, \\left( 0, \\  n - 1\\right)\\right)} {u}_{1,Idx\\left(b, \\left( 0, \\  n - 1\\right)\\right)} + {N}_{Idx\\left(α, \\left( 0, \\  2\\right)\\right),2,Idx\\left(a, \\left( 0, \\  n - 1\\right)\\right),Idx\\left(b, \\left( 0, \\  n - 1\\right)\\right)} {r}_{2,Idx\\left(a, \\left( 0, \\  n - 1\\right)\\right)} {u}_{2,Idx\\left(b, \\left( 0, \\  n - 1\\right)\\right)} + {N}_{Idx\\left(α, \\left( 0, \\  2\\right)\\right),3,Idx\\left(a, \\left( 0, \\  n - 1\\right)\\right),Idx\\left(b, \\left( 0, \\  n - 1\\right)\\right)} {r}_{3,Idx\\left(a, \\left( 0, \\  n - 1\\right)\\right)} {u}_{3,Idx\\left(b, \\left( 0, \\  n - 1\\right)\\right)}\\right)$"
      ],
      "text/plain": [
       "  2   n - 1                                                                   \n",
       " ___   ___                                                                    \n",
       " ╲     ╲                                                                      \n",
       "  ╲     ╲                                                                     \n",
       "  ╱     ╱   (N[α, 1, a, b]⋅r[1, a]⋅u[1, b] + N[α, 2, a, b]⋅r[2, a]⋅u[2, b] + N\n",
       " ╱     ╱                                                                      \n",
       " ‾‾‾   ‾‾‾                                                                    \n",
       "α = 0 b = 0                                                                   \n",
       "\n",
       "                             \n",
       "                             \n",
       "                             \n",
       "                             \n",
       "[α, 3, a, b]⋅r[3, a]⋅u[3, b])\n",
       "                             \n",
       "                             \n",
       "                             "
      ]
     },
     "execution_count": 58,
     "metadata": {},
     "output_type": "execute_result"
    }
   ],
   "source": [
    "term2 = Sum(\n",
    "    Sum(\n",
    "        N[α, 1, a, b] * r[1, a] * u[1, b]\n",
    "        + N[α, 2, a, b] * r[2, a] * u[2, b]\n",
    "        + N[α, 3, a, b] * r[3, a] * u[3, b],\n",
    "        b,\n",
    "    ),\n",
    "    α,\n",
    ")"
   ]
  },
  {
   "cell_type": "code",
   "execution_count": 59,
   "metadata": {},
   "outputs": [
    {
     "data": {
      "image/png": "[encoded data removed]",
      "text/latex": [
       "$\\displaystyle R$"
      ],
      "text/plain": [
       "R"
      ]
     },
     "execution_count": 59,
     "metadata": {},
     "output_type": "execute_result"
    }
   ],
   "source": [
    "rhs = symbols(\"R\")"
   ]
  },
  {
   "cell_type": "code",
   "execution_count": 61,
   "metadata": {},
   "outputs": [
    {
     "data": {
      "text/latex": [
       "$\\displaystyle {u}_{Idx\\left(k, \\left( 0, \\  2\\right)\\right),Idx\\left(a, \\left( 0, \\  n - 1\\right)\\right)} + \\sum_{\\substack{0 \\leq Idx\\left(b, \\left( 0, \\  n - 1\\right)\\right) \\leq n - 1\\\\0 \\leq Idx\\left(α, \\left( 0, \\  2\\right)\\right) \\leq 2}} \\left({N}_{Idx\\left(α, \\left( 0, \\  2\\right)\\right),1,Idx\\left(a, \\left( 0, \\  n - 1\\right)\\right),Idx\\left(b, \\left( 0, \\  n - 1\\right)\\right)} {r}_{1,Idx\\left(a, \\left( 0, \\  n - 1\\right)\\right)} {u}_{1,Idx\\left(b, \\left( 0, \\  n - 1\\right)\\right)} + {N}_{Idx\\left(α, \\left( 0, \\  2\\right)\\right),2,Idx\\left(a, \\left( 0, \\  n - 1\\right)\\right),Idx\\left(b, \\left( 0, \\  n - 1\\right)\\right)} {r}_{2,Idx\\left(a, \\left( 0, \\  n - 1\\right)\\right)} {u}_{2,Idx\\left(b, \\left( 0, \\  n - 1\\right)\\right)} + {N}_{Idx\\left(α, \\left( 0, \\  2\\right)\\right),3,Idx\\left(a, \\left( 0, \\  n - 1\\right)\\right),Idx\\left(b, \\left( 0, \\  n - 1\\right)\\right)} {r}_{3,Idx\\left(a, \\left( 0, \\  n - 1\\right)\\right)} {u}_{3,Idx\\left(b, \\left( 0, \\  n - 1\\right)\\right)}\\right) = R$"
      ],
      "text/plain": [
       "            2   n - 1                                                         \n",
       "           ___   ___                                                          \n",
       "           ╲     ╲                                                            \n",
       "            ╲     ╲                                                           \n",
       "u[k, a] +   ╱     ╱   (N[α, 1, a, b]⋅r[1, a]⋅u[1, b] + N[α, 2, a, b]⋅r[2, a]⋅u\n",
       "           ╱     ╱                                                            \n",
       "           ‾‾‾   ‾‾‾                                                          \n",
       "          α = 0 b = 0                                                         \n",
       "\n",
       "                                           \n",
       "                                           \n",
       "                                           \n",
       "                                           \n",
       "[2, b] + N[α, 3, a, b]⋅r[3, a]⋅u[3, b]) = R\n",
       "                                           \n",
       "                                           \n",
       "                                           "
      ]
     },
     "execution_count": 61,
     "metadata": {},
     "output_type": "execute_result"
    }
   ],
   "source": [
    "eq34 = Eq(term1 + term2, rhs)"
   ]
  },
  {
   "cell_type": "code",
   "execution_count": 64,
   "metadata": {},
   "outputs": [
    {
     "data": {
      "text/latex": [
       "$\\displaystyle {u}_{Idx\\left(k, \\left( 0, \\  2\\right)\\right),Idx\\left(a, \\left( 0, \\  n - 1\\right)\\right)} + \\sum_{\\substack{0 \\leq Idx\\left(b, \\left( 0, \\  n - 1\\right)\\right) \\leq n - 1\\\\0 \\leq Idx\\left(α, \\left( 0, \\  2\\right)\\right) \\leq 2}} {N}_{Idx\\left(α, \\left( 0, \\  2\\right)\\right),1,Idx\\left(a, \\left( 0, \\  n - 1\\right)\\right),Idx\\left(b, \\left( 0, \\  n - 1\\right)\\right)} {r}_{1,Idx\\left(a, \\left( 0, \\  n - 1\\right)\\right)} {u}_{1,Idx\\left(b, \\left( 0, \\  n - 1\\right)\\right)} + \\sum_{\\substack{0 \\leq Idx\\left(b, \\left( 0, \\  n - 1\\right)\\right) \\leq n - 1\\\\0 \\leq Idx\\left(α, \\left( 0, \\  2\\right)\\right) \\leq 2}} {N}_{Idx\\left(α, \\left( 0, \\  2\\right)\\right),2,Idx\\left(a, \\left( 0, \\  n - 1\\right)\\right),Idx\\left(b, \\left( 0, \\  n - 1\\right)\\right)} {r}_{2,Idx\\left(a, \\left( 0, \\  n - 1\\right)\\right)} {u}_{2,Idx\\left(b, \\left( 0, \\  n - 1\\right)\\right)} + \\sum_{\\substack{0 \\leq Idx\\left(b, \\left( 0, \\  n - 1\\right)\\right) \\leq n - 1\\\\0 \\leq Idx\\left(α, \\left( 0, \\  2\\right)\\right) \\leq 2}} {N}_{Idx\\left(α, \\left( 0, \\  2\\right)\\right),3,Idx\\left(a, \\left( 0, \\  n - 1\\right)\\right),Idx\\left(b, \\left( 0, \\  n - 1\\right)\\right)} {r}_{3,Idx\\left(a, \\left( 0, \\  n - 1\\right)\\right)} {u}_{3,Idx\\left(b, \\left( 0, \\  n - 1\\right)\\right)} = R$"
      ],
      "text/plain": [
       "            2   n - 1                                   2   n - 1             \n",
       "           ___   ___                                   ___   ___              \n",
       "           ╲     ╲                                     ╲     ╲                \n",
       "            ╲     ╲                                     ╲     ╲               \n",
       "u[k, a] +   ╱     ╱   N[α, 1, a, b]⋅r[1, a]⋅u[1, b] +   ╱     ╱   N[α, 2, a, b\n",
       "           ╱     ╱                                     ╱     ╱                \n",
       "           ‾‾‾   ‾‾‾                                   ‾‾‾   ‾‾‾              \n",
       "          α = 0 b = 0                                 α = 0 b = 0             \n",
       "\n",
       "                      2   n - 1                                  \n",
       "                     ___   ___                                   \n",
       "                     ╲     ╲                                     \n",
       "                      ╲     ╲                                    \n",
       "]⋅r[2, a]⋅u[2, b] +   ╱     ╱   N[α, 3, a, b]⋅r[3, a]⋅u[3, b] = R\n",
       "                     ╱     ╱                                     \n",
       "                     ‾‾‾   ‾‾‾                                   \n",
       "                    α = 0 b = 0                                  "
      ]
     },
     "execution_count": 64,
     "metadata": {},
     "output_type": "execute_result"
    }
   ],
   "source": [
    "eq34.expand()"
   ]
  },
  {
   "cell_type": "code",
   "execution_count": 76,
   "metadata": {},
   "outputs": [
    {
     "data": {
      "text/latex": [
       "$\\displaystyle \\left\\{ {Λ}_{Idx\\left(k, \\left( 0, \\  2\\right)\\right),Idx\\left(a, \\left( 0, \\  n - 1\\right)\\right)} : - \\sum_{\\substack{0 \\leq Idx\\left(b, \\left( 0, \\  n - 1\\right)\\right) \\leq n - 1\\\\0 \\leq Idx\\left(β, \\left( 0, \\  2\\right)\\right) \\leq 2}} {N}_{Idx\\left(k, \\left( 0, \\  2\\right)\\right),Idx\\left(β, \\left( 0, \\  2\\right)\\right),Idx\\left(a, \\left( 0, \\  n - 1\\right)\\right),Idx\\left(b, \\left( 0, \\  n - 1\\right)\\right)} {u}_{Idx\\left(β, \\left( 0, \\  2\\right)\\right),Idx\\left(b, \\left( 0, \\  n - 1\\right)\\right)}\\right\\}$"
      ],
      "text/plain": [
       "⎧            2   n - 1                      ⎫\n",
       "⎪           ___   ___                       ⎪\n",
       "⎪           ╲     ╲                         ⎪\n",
       "⎪            ╲     ╲                        ⎪\n",
       "⎨Λ[k, a]: -  ╱     ╱   N[k, β, a, b]⋅u[β, b]⎬\n",
       "⎪           ╱     ╱                         ⎪\n",
       "⎪           ‾‾‾   ‾‾‾                       ⎪\n",
       "⎪          β = 0 b = 0                      ⎪\n",
       "⎩                                           ⎭"
      ]
     },
     "execution_count": 76,
     "metadata": {},
     "output_type": "execute_result"
    }
   ],
   "source": [
    "backsubstitutions = {Λ[k, a]: -Sum(Sum(N[k, β, a, b] * u[β, b], b), β)}"
   ]
  },
  {
   "cell_type": "code",
   "execution_count": 72,
   "metadata": {},
   "outputs": [
    {
     "data": {
      "image/png": "[encoded data removed]",
      "text/latex": [
       "$\\displaystyle R + \\sum_{Idx\\left(k, \\left( 0, \\  2\\right)\\right)=0}^{2} {r}_{Idx\\left(k, \\left( 0, \\  2\\right)\\right),Idx\\left(a, \\left( 0, \\  n - 1\\right)\\right)} {Λ}_{Idx\\left(k, \\left( 0, \\  2\\right)\\right),Idx\\left(a, \\left( 0, \\  n - 1\\right)\\right)}$"
      ],
      "text/plain": [
       "      2                  \n",
       "     ___                 \n",
       "     ╲                   \n",
       "      ╲                  \n",
       "R +   ╱   r[k, a]⋅Λ[k, a]\n",
       "     ╱                   \n",
       "     ‾‾‾                 \n",
       "    k = 0                "
      ]
     },
     "execution_count": 72,
     "metadata": {},
     "output_type": "execute_result"
    }
   ],
   "source": [
    "eq33_rhs = Sum(Λ[k, a] * r[k, a], k) + rhs"
   ]
  }
 ],
 "metadata": {
  "kernelspec": {
   "display_name": "Python 3",
   "language": "python",
   "name": "python3"
  },
  "language_info": {
   "codemirror_mode": {
    "name": "ipython",
    "version": 3
   },
   "file_extension": ".py",
   "mimetype": "text/x-python",
   "name": "python",
   "nbconvert_exporter": "python",
   "pygments_lexer": "ipython3",
   "version": "3.9.2"
  },
  "widgets": {
   "application/vnd.jupyter.widget-state+json": {
    "state": {},
    "version_major": 2,
    "version_minor": 0
   }
  }
 },
 "nbformat": 4,
 "nbformat_minor": 4
}
