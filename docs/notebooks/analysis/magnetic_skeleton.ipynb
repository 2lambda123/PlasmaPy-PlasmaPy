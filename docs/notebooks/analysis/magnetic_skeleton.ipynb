{
 "cells": [
  {
   "cell_type": "code",
   "execution_count": null,
   "id": "1da37c8d",
   "metadata": {},
   "outputs": [],
   "source": [
    "# Magnetic Skeleton Finder\n",
    "\n",
    "[Magnetic Skeleton Finder]: ../../api_static/plasmapy.analysis.nullpoint.rst\n",
    "\n",
    "The [magnetic skeleton finder] is functionality that is designed to find and analyze 3D magnetic skeleton strucutres using a trilinear method as described in [Haynes et al. (2010)](https://doi.org/10.1063/1.3467499)\n",
    "In this notebook we will briefly cover how the [magnetic skeleton finder] utilizes the method described in the paper in order to describe the structures of magnetic field."
   ]
  },
  {
   "cell_type": "code",
   "execution_count": null,
   "id": "7fa5b757",
   "metadata": {},
   "outputs": [],
   "source": [
    "## Contents:\n",
    "\n",
    "1. [How Magnetic Skeleton Finder works](#How-Magnetic-Skeleton-Finder-works)\n",
    "    1. [Locating the null points](#Locating-a-null-point)\n",
    "1. [Running through examples](#Running_through-examples)\n",
    "    1. [Arbitrary Regular Grid](#Arbitrary-regular-grid)\n",
    "        "
   ]
  }
 ],
 "metadata": {
  "kernelspec": {
   "display_name": "Python 3 (ipykernel)",
   "language": "python",
   "name": "python3"
  },
  "language_info": {
   "codemirror_mode": {
    "name": "ipython",
    "version": 3
   },
   "file_extension": ".py",
   "mimetype": "text/x-python",
   "name": "python",
   "nbconvert_exporter": "python",
   "pygments_lexer": "ipython3",
   "version": "3.10.4"
  }
 },
 "nbformat": 4,
 "nbformat_minor": 5
}
