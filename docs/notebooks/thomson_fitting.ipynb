{
 "cells": [
  {
   "cell_type": "markdown",
   "metadata": {},
   "source": [
    "# Fitting Thomson Scattering Spectra"
   ]
  },
  {
   "cell_type": "markdown",
   "metadata": {},
   "source": [
    "This function can be used to fit 1D Thomson spectra. How you collapse experimental data to a nice 1D spectrum is (for now) your problem. This notebook (and the function itself) is still a rough draft."
   ]
  },
  {
   "cell_type": "code",
   "execution_count": null,
   "metadata": {},
   "outputs": [],
   "source": [
    "%matplotlib inline\n",
    "\n",
    "import astropy.units as u\n",
    "import matplotlib.pyplot as plt\n",
    "import numpy as np\n",
    "\n",
    "from plasmapy.diagnostics import thomson"
   ]
  },
  {
   "cell_type": "markdown",
   "metadata": {},
   "source": [
    "To demonstrate the fitting capabilities, we'll first generate some synthetic Thomson data using `thomson.spectral_density` and then adding noise (on the scape of the EPW feature)."
   ]
  },
  {
   "cell_type": "code",
   "execution_count": null,
   "metadata": {},
   "outputs": [],
   "source": [
    "# Generate theoretical spectrum\n",
    "probe_wavelength = 532*u.nm\n",
    "wavelengths = np.arange(probe_wavelength.value-60, probe_wavelength.value+60, 0.01)*u.nm\n",
    "probe_vec = np.array([1, 0, 0])\n",
    "scattering_angle = np.deg2rad(63)\n",
    "scatter_vec = np.array([np.cos(scattering_angle), np.sin(scattering_angle), 0])\n",
    "\n",
    "n = 2e17*u.cm**-3\n",
    "ion_species = [ 'C-12 5+']\n",
    "Te = 1e5*u.K\n",
    "Ti = np.array([50]) * u.eV\n",
    "electron_vel = np.array([[0, 0, 0]])*u.km/u.s\n",
    "ion_vel =  np.array([[0, 0, 0]])*u.km/u.s\n",
    "\n",
    "alpha, Skw_theory = thomson.spectral_density(wavelengths, probe_wavelength,\n",
    "                     n, Te, Ti, ion_species=ion_species, \n",
    "                     electron_vel=electron_vel,ion_vel=ion_vel,\n",
    "                     probe_vec=probe_vec, scatter_vec=scatter_vec)\n",
    "\n",
    "# Add noise\n",
    "noise_level = 1e-14*u.s/u.rad\n",
    "Skw_noisy = Skw_theory + (np.random.rand(wavelengths.size)-0.5)*noise_level\n",
    "\n",
    "\n",
    "\n",
    "\n",
    "# PLOTTING\n",
    "\n",
    "fig, ax = plt.subplots(ncols=2, figsize=(12,4))\n",
    "fig.subplots_adjust(wspace=0.2)\n",
    "\n",
    "for a in ax:\n",
    "    a.set_xlabel(\"Wavelength (nm)\")\n",
    "    a.set_ylabel(\"Skw\")\n",
    "ax[0].set_xlim(531, 533)\n",
    "ax[0].set_title(\"Ion Acoustic Wave\")\n",
    "ax[0].plot(wavelengths, Skw_noisy)\n",
    "ax[0].plot(wavelengths, Skw_theory, linewidth=3)\n",
    "\n",
    "ax[1].set_xlim(520, 545)\n",
    "ax[1].set_ylim(0, 5e-14)\n",
    "ax[1].set_title(\"Electron Plasma Wave\")\n",
    "ax[1].plot(wavelengths, Skw_noisy)\n",
    "ax[1].plot(wavelengths, Skw_theory, linewidth=3)\n"
   ]
  },
  {
   "cell_type": "markdown",
   "metadata": {},
   "source": [
    "Now, we'll use the `thomson.fit_thomson` function to fit this noisey data. First, we create an array of variable names that we want to vary in the fit."
   ]
  },
  {
   "cell_type": "code",
   "execution_count": null,
   "metadata": {},
   "outputs": [],
   "source": [
    "fit_vars = ['n','Te']"
   ]
  },
  {
   "cell_type": "markdown",
   "metadata": {},
   "source": [
    "The remainder of the fitting function arguments are exactly the same as the `thomson.spectral_density` arguments, with the addition of `spectral_density` which is the data to be fitted. All inputs will be treated as known quantites except those listed in the `fit_vars` array which will be treated as initial guesses.\n",
    "\n",
    "In order to illustrate the fitting process, we'll intentionally set incorrect guesses for the density and electron temperaure."
   ]
  },
  {
   "cell_type": "code",
   "execution_count": null,
   "metadata": {},
   "outputs": [],
   "source": [
    "n_guess = 4e16 * u.cm**-3\n",
    "Te_guess = 2e5*u.K\n",
    "\n",
    "result = thomson.fit_thomson(wavelengths, probe_wavelength,\n",
    "                      Skw_noisy,\n",
    "                      fit_vars,\n",
    "                      ion_species = ion_species,\n",
    "                      probe_vec=probe_vec, scatter_vec=scatter_vec,\n",
    "                      n = n_guess,\n",
    "                      Te = Te_guess,\n",
    "                      Ti = Ti,\n",
    "                      electron_vel = electron_vel, ion_vel = ion_vel,\n",
    "                      )\n",
    "\n",
    "print(f\"Te from fit: {result['Te0']}\")\n",
    "print(f\"n from fit: {result['n']}\")"
   ]
  },
  {
   "cell_type": "markdown",
   "metadata": {},
   "source": [
    "The results converge..."
   ]
  },
  {
   "cell_type": "code",
   "execution_count": null,
   "metadata": {},
   "outputs": [],
   "source": [
    "Te_fit = result['Te0']*u.K\n",
    "alpha, Skw_fit = thomson.spectral_density(wavelengths, probe_wavelength,\n",
    "                     n, Te_fit, Ti, ion_species=ion_species, \n",
    "                     electron_vel=electron_vel,ion_vel=ion_vel,\n",
    "                     probe_vec=probe_vec, scatter_vec=scatter_vec)\n",
    "\n",
    "fig, ax = plt.subplots(ncols=2, figsize=(12,4))\n",
    "fig.subplots_adjust(wspace=0.2)\n",
    "\n",
    "for a in ax:\n",
    "    a.set_xlabel(\"Wavelength (nm)\")\n",
    "    a.set_ylabel(\"Skw\")\n",
    "ax[0].set_xlim(531, 533)\n",
    "ax[0].set_title(\"Ion Acoustic Wave\")\n",
    "ax[0].plot(wavelengths, Skw_noisy)\n",
    "ax[0].plot(wavelengths, Skw_theory, linewidth=3)\n",
    "ax[0].plot(wavelengths, Skw_fit)\n",
    "\n",
    "ax[1].set_xlim(520, 545)\n",
    "ax[1].set_ylim(0, 5e-14)\n",
    "ax[1].set_title(\"Electron Plasma Wave\")\n",
    "ax[1].plot(wavelengths, Skw_noisy)\n",
    "ax[1].plot(wavelengths, Skw_theory, linewidth=3)\n",
    "ax[1].plot(wavelengths, Skw_fit)"
   ]
  },
  {
   "cell_type": "markdown",
   "metadata": {},
   "source": [
    "## Fitting Scattering Spectra with Multiple Populations"
   ]
  },
  {
   "cell_type": "markdown",
   "metadata": {},
   "source": [
    "This function is capable of fitting spectra generated by multiple populations of either ions or electrons. Since the `lmfit` module used for fitting only accepts scalar parameters, the quantites corresponding to different species are split into separate parameters using the naming scheme Te0, Te1 etc."
   ]
  },
  {
   "cell_type": "code",
   "execution_count": null,
   "metadata": {},
   "outputs": [],
   "source": []
  }
 ],
 "metadata": {
  "kernelspec": {
   "display_name": "Python 3",
   "language": "python",
   "name": "python3"
  },
  "language_info": {
   "codemirror_mode": {
    "name": "ipython",
    "version": 3
   },
   "file_extension": ".py",
   "mimetype": "text/x-python",
   "name": "python",
   "nbconvert_exporter": "python",
   "pygments_lexer": "ipython3",
   "version": "3.7.6"
  }
 },
 "nbformat": 4,
 "nbformat_minor": 4
}
