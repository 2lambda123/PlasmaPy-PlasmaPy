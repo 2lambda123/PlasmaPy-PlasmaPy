{
  "cells": [
    {
      "cell_type": "code",
      "execution_count": null,
      "metadata": {
        "collapsed": false
      },
      "outputs": [],
      "source": [
        "%matplotlib inline"
      ]
    },
    {
      "cell_type": "markdown",
      "metadata": {},
      "source": [
        "\nAnalysing ITER parameters\n=========================\n\nLet's try to look at ITER plasma conditions using the `physics` subpackage.\n"
      ]
    },
    {
      "cell_type": "code",
      "execution_count": null,
      "metadata": {
        "collapsed": false
      },
      "outputs": [],
      "source": [
        "from astropy import units as u\nfrom plasmapy import formulary\nimport matplotlib.pyplot as plt\nimport numpy as np\nfrom mpl_toolkits.mplot3d import Axes3D"
      ]
    },
    {
      "cell_type": "markdown",
      "metadata": {},
      "source": [
        "The radius of electric field shielding clouds, also known as the Debye length,\nwould be\n\n"
      ]
    },
    {
      "cell_type": "code",
      "execution_count": null,
      "metadata": {
        "collapsed": false
      },
      "outputs": [],
      "source": [
        "electron_temperature = 8.8 * u.keV\nelectron_concentration = 10.1e19 / u.m**3\nprint(formulary.Debye_length(electron_temperature, electron_concentration))"
      ]
    },
    {
      "cell_type": "markdown",
      "metadata": {},
      "source": [
        "Note that we can also neglect the unit for the concentration, as\n1/m^3 is the a standard unit for this kind of Quantity:\n\n"
      ]
    },
    {
      "cell_type": "code",
      "execution_count": null,
      "metadata": {
        "collapsed": false
      },
      "outputs": [],
      "source": [
        "print(formulary.Debye_length(electron_temperature, 10.1e19))"
      ]
    },
    {
      "cell_type": "markdown",
      "metadata": {},
      "source": [
        "Assuming the magnetic field as 5.3 Teslas (which is the value at the major\nradius):\n\n"
      ]
    },
    {
      "cell_type": "code",
      "execution_count": null,
      "metadata": {
        "collapsed": false
      },
      "outputs": [],
      "source": [
        "B = 5.3 * u.T\n\nprint(formulary.gyrofrequency(B, particle='e'))\n\nprint(formulary.gyroradius(B, T_i=electron_temperature, particle='e'))"
      ]
    },
    {
      "cell_type": "markdown",
      "metadata": {},
      "source": [
        "The electron inertial length would be\n\n"
      ]
    },
    {
      "cell_type": "code",
      "execution_count": null,
      "metadata": {
        "collapsed": false
      },
      "outputs": [],
      "source": [
        "print(formulary.inertial_length(electron_concentration, particle='e'))"
      ]
    },
    {
      "cell_type": "markdown",
      "metadata": {},
      "source": [
        "In these conditions, they should reach thermal velocities of about\n\n"
      ]
    },
    {
      "cell_type": "code",
      "execution_count": null,
      "metadata": {
        "collapsed": false
      },
      "outputs": [],
      "source": [
        "print(formulary.thermal_speed(T=electron_temperature, particle='e'))"
      ]
    },
    {
      "cell_type": "markdown",
      "metadata": {},
      "source": [
        "And the Langmuir wave plasma frequency should be on the order of\n\n"
      ]
    },
    {
      "cell_type": "code",
      "execution_count": null,
      "metadata": {
        "collapsed": false
      },
      "outputs": [],
      "source": [
        "print(formulary.plasma_frequency(electron_concentration))"
      ]
    },
    {
      "cell_type": "markdown",
      "metadata": {},
      "source": [
        "Let's try to recreate some plots and get a feel for some of these quantities.\nWe will also compare our data to real-world plasma situations.\n\n"
      ]
    },
    {
      "cell_type": "code",
      "execution_count": null,
      "metadata": {
        "collapsed": false
      },
      "outputs": [],
      "source": [
        "n_e = np.logspace(4, 30, 100) / u.m**3\nplt.plot(n_e, formulary.plasma_frequency(n_e))\nplt.scatter(\n    electron_concentration,\n    formulary.plasma_frequency(electron_concentration),\n    label=\"Our Data\")\n\n# IRT1 Tokamak Data\n# http://article.sapub.org/pdf/10.5923.j.jnpp.20110101.03.pdf\nn_e = 1.2e19 / u.m**3\nT_e = 136.8323 * u.eV\nB = 0.82 * u.T\nplt.scatter(n_e, formulary.plasma_frequency(n_e), label=\"IRT1 Tokamak\")\n\n# Wendelstein 7-X Stellerator Data\n# https://nucleus.iaea.org/sites/fusionportal/Shared%20Documents/FEC%202016/fec2016-preprints/preprint0541.pdf\nn_e = 3e19 / u.m**3\nT_e = 6 * u.keV\nB = 3 * u.T\nplt.scatter(n_e, formulary.plasma_frequency(n_e), label=\"W7-X Stellerator\")\n\n# Solar Corona\n# Estimated by Nick Murphy\nn_e = 1e15 / u.m**3\nT_e = 1e6 * u.K\nB = 0.005 * u.T\nT_e.to(u.eV, equivalencies=u.temperature_energy())\nplt.scatter(n_e, formulary.plasma_frequency(n_e), label=\"Solar Corona\")\n\n# Interstellar (warm neutral) Medium\n# Estimated by Nick Murphy\nn_e = 1e6 / u.m**3\nT_e = 5e3 * u.K\nB = 0.005 * u.T\nT_e.to(u.eV, equivalencies=u.temperature_energy())\nplt.scatter(n_e, formulary.plasma_frequency(n_e), label=\"Interstellar Medium\")\n\n# Solar Wind at 1 AU\n# Estimated by Nick Murphy\nn_e = 7e6 / u.m**3\nT_e = 1e5 * u.K\nB = 5e-9 * u.T\nT_e.to(u.eV, equivalencies=u.temperature_energy())\nplt.scatter(n_e, formulary.plasma_frequency(n_e), label=\"Solar Wind (1AU)\")\n\n\nplt.xlabel(\"Electron Concentration (m^-3)\")\nplt.ylabel(\"Langmuir Wave Plasma Frequency (rad/s)\")\nplt.grid()\nplt.xscale(\"log\")\nplt.yscale(\"log\")\nplt.legend()\nplt.title(\"Log-scale plot of plasma frequencies\")\nplt.show()"
      ]
    }
  ],
  "metadata": {
    "kernelspec": {
      "display_name": "Python 3",
      "language": "python",
      "name": "python3"
    },
    "language_info": {
      "codemirror_mode": {
        "name": "ipython",
        "version": 3
      },
      "file_extension": ".py",
      "mimetype": "text/x-python",
      "name": "python",
      "nbconvert_exporter": "python",
      "pygments_lexer": "ipython3",
      "version": "3.8.2"
    }
  },
  "nbformat": 4,
  "nbformat_minor": 0
}
