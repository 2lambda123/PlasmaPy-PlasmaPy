{
 "cells": [
  {
   "cell_type": "markdown",
   "metadata": {},
   "source": [
    "# MHD Shock solver"
   ]
  },
  {
   "cell_type": "markdown",
   "metadata": {},
   "source": [
    "## Equations"
   ]
  },
  {
   "cell_type": "code",
   "execution_count": 36,
   "metadata": {},
   "outputs": [],
   "source": [
    "%config InteractiveShell.ast_node_interactivity = 'last_expr_or_assign'"
   ]
  },
  {
   "cell_type": "code",
   "execution_count": 37,
   "metadata": {},
   "outputs": [
    {
     "data": {
      "image/png": "[encoded data removed]",
      "text/latex": [
       "$\\displaystyle \\left( {B_x}_{1}, \\  {B_x}_{2}\\right)$"
      ],
      "text/plain": [
       "({B_x}_{1}, {B_x}_{2})"
      ]
     },
     "execution_count": 37,
     "metadata": {},
     "output_type": "execute_result"
    }
   ],
   "source": [
    "import sympy\n",
    "sympy.init_printing()\n",
    "def pair_across_jump(symbol, **assumptions):\n",
    "    return sympy.symbols(\"{\" + symbol + \"}_{1:3}\", **assumptions)\n",
    "Bx = pair_across_jump(\"B_x\", real=True)"
   ]
  },
  {
   "cell_type": "code",
   "execution_count": 38,
   "metadata": {},
   "outputs": [
    {
     "data": {
      "image/png": "[encoded data removed]",
      "text/latex": [
       "$\\displaystyle \\left( {V_x}_{1}, \\  {V_x}_{2}\\right)$"
      ],
      "text/plain": [
       "({V_x}_{1}, {V_x}_{2})"
      ]
     },
     "execution_count": 38,
     "metadata": {},
     "output_type": "execute_result"
    }
   ],
   "source": [
    "Vx = pair_across_jump(\"V_x\", real=True)"
   ]
  },
  {
   "cell_type": "code",
   "execution_count": 39,
   "metadata": {},
   "outputs": [
    {
     "data": {
      "image/png": "[encoded data removed]",
      "text/latex": [
       "$\\displaystyle \\left( {V_y}_{1}, \\  {V_y}_{2}\\right)$"
      ],
      "text/plain": [
       "({V_y}_{1}, {V_y}_{2})"
      ]
     },
     "execution_count": 39,
     "metadata": {},
     "output_type": "execute_result"
    }
   ],
   "source": [
    "Vy = pair_across_jump(\"V_y\", real=True)"
   ]
  },
  {
   "cell_type": "code",
   "execution_count": 40,
   "metadata": {},
   "outputs": [
    {
     "data": {
      "image/png": "[encoded data removed]",
      "text/latex": [
       "$\\displaystyle \\left( {B_y}_{1}, \\  {B_y}_{2}\\right)$"
      ],
      "text/plain": [
       "({B_y}_{1}, {B_y}_{2})"
      ]
     },
     "execution_count": 40,
     "metadata": {},
     "output_type": "execute_result"
    }
   ],
   "source": [
    "By = pair_across_jump(\"B_y\", real=True)"
   ]
  },
  {
   "cell_type": "code",
   "execution_count": 41,
   "metadata": {},
   "outputs": [
    {
     "data": {
      "image/png": "[encoded data removed]",
      "text/latex": [
       "$\\displaystyle {B_x}_{1} = {B_x}_{2}$"
      ],
      "text/plain": [
       "{B_x}_{1} = {B_x}_{2}"
      ]
     },
     "execution_count": 41,
     "metadata": {},
     "output_type": "execute_result"
    }
   ],
   "source": [
    "Eq933 = sympy.Eq(Bx[0], Bx[1])"
   ]
  },
  {
   "cell_type": "code",
   "execution_count": 42,
   "metadata": {},
   "outputs": [
    {
     "data": {
      "image/png": "[encoded data removed]",
      "text/latex": [
       "$\\displaystyle - {B_x}_{1} {V_y}_{1} + {B_y}_{1} {V_x}_{1} = - {B_x}_{2} {V_y}_{2} + {B_y}_{2} {V_x}_{2}$"
      ],
      "text/plain": [
       "-{B_x}_{1}⋅{V_y}_{1} + {B_y}_{1}⋅{V_x}_{1} = -{B_x}_{2}⋅{V_y}_{2} + {B_y}_{2}⋅\n",
       "{V_x}_{2}"
      ]
     },
     "execution_count": 42,
     "metadata": {},
     "output_type": "execute_result"
    }
   ],
   "source": [
    "Eq934 = sympy.Eq(Vx[0] * By[0] - Vy[0] * Bx[0],\n",
    "                 Vx[1] * By[1] - Vy[1] * Bx[1])"
   ]
  },
  {
   "cell_type": "code",
   "execution_count": 43,
   "metadata": {},
   "outputs": [
    {
     "data": {
      "image/png": "[encoded data removed]",
      "text/latex": [
       "$\\displaystyle \\left( {\\rho}_{1}, \\  {\\rho}_{2}\\right)$"
      ],
      "text/plain": [
       "({\\rho}_{1}, {\\rho}_{2})"
      ]
     },
     "execution_count": 43,
     "metadata": {},
     "output_type": "execute_result"
    }
   ],
   "source": [
    "rho = pair_across_jump(r\"\\rho\", positive=True)"
   ]
  },
  {
   "cell_type": "code",
   "execution_count": 44,
   "metadata": {},
   "outputs": [
    {
     "data": {
      "image/png": "[encoded data removed]",
      "text/latex": [
       "$\\displaystyle {V_x}_{1} {\\rho}_{1} = {V_x}_{2} {\\rho}_{2}$"
      ],
      "text/plain": [
       "{V_x}_{1}⋅{\\rho}_{1} = {V_x}_{2}⋅{\\rho}_{2}"
      ]
     },
     "execution_count": 44,
     "metadata": {},
     "output_type": "execute_result"
    }
   ],
   "source": [
    "Eq935 = sympy.Eq(rho[0] * Vx[0],\n",
    "                 rho[1] * Vx[1])"
   ]
  },
  {
   "cell_type": "code",
   "execution_count": 45,
   "metadata": {},
   "outputs": [
    {
     "data": {
      "image/png": "[encoded data removed]",
      "text/latex": [
       "$\\displaystyle \\left( {p}_{1}, \\  {p}_{2}\\right)$"
      ],
      "text/plain": [
       "({p}_{1}, {p}_{2})"
      ]
     },
     "execution_count": 45,
     "metadata": {},
     "output_type": "execute_result"
    }
   ],
   "source": [
    "p = pair_across_jump(\"p\", positive = True)"
   ]
  },
  {
   "cell_type": "code",
   "execution_count": 46,
   "metadata": {},
   "outputs": [
    {
     "data": {
      "image/png": "[encoded data removed]",
      "text/latex": [
       "$\\displaystyle \\mu_0$"
      ],
      "text/plain": [
       "\\mu₀"
      ]
     },
     "execution_count": 46,
     "metadata": {},
     "output_type": "execute_result"
    }
   ],
   "source": [
    "mu_0 = sympy.symbols(\"\\mu_0\", positive = True)"
   ]
  },
  {
   "cell_type": "code",
   "execution_count": 47,
   "metadata": {},
   "outputs": [
    {
     "data": {
      "image/png": "[encoded data removed]",
      "text/latex": [
       "$\\displaystyle {V_x}_{1}^{2} {\\rho}_{1} + {p}_{1} + \\frac{{B_y}_{1}^{2}}{2 \\mu_0} = {V_x}_{2}^{2} {\\rho}_{2} + {p}_{2} + \\frac{{B_y}_{2}^{2}}{2 \\mu_0}$"
      ],
      "text/plain": [
       "                                           2                                  \n",
       "         2                        {B_y}_{1}             2                     \n",
       "{V_x}_{1} ⋅{\\rho}_{1} + {p}_{1} + ────────── = {V_x}_{2} ⋅{\\rho}_{2} + {p}_{2}\n",
       "                                    2⋅\\mu₀                                    \n",
       "\n",
       "            2\n",
       "   {B_y}_{2} \n",
       " + ──────────\n",
       "     2⋅\\mu₀  "
      ]
     },
     "execution_count": 47,
     "metadata": {},
     "output_type": "execute_result"
    }
   ],
   "source": [
    "Eq936 = sympy.Eq(rho[0] * Vx[0]**2 + p[0] + By[0]**2 / 2 / mu_0,\n",
    "                 rho[1] * Vx[1]**2 + p[1] + By[1]**2 / 2 / mu_0)"
   ]
  },
  {
   "cell_type": "code",
   "execution_count": 48,
   "metadata": {},
   "outputs": [
    {
     "data": {
      "image/png": "[encoded data removed]",
      "text/latex": [
       "$\\displaystyle {V_x}_{1} {V_y}_{1} {\\rho}_{1} - \\frac{{B_x}_{1} {B_y}_{1}}{\\mu_0} = {V_x}_{2} {V_y}_{2} {\\rho}_{2} - \\frac{{B_x}_{2} {B_y}_{2}}{\\mu_0}$"
      ],
      "text/plain": [
       "                                 {B_x}_{1}⋅{B_y}_{1}                          \n",
       "{V_x}_{1}⋅{V_y}_{1}⋅{\\rho}_{1} - ─────────────────── = {V_x}_{2}⋅{V_y}_{2}⋅{\\r\n",
       "                                         \\mu₀                                 \n",
       "\n",
       "          {B_x}_{2}⋅{B_y}_{2}\n",
       "ho}_{2} - ───────────────────\n",
       "                  \\mu₀       "
      ]
     },
     "execution_count": 48,
     "metadata": {},
     "output_type": "execute_result"
    }
   ],
   "source": [
    "Eq937 = sympy.Eq(rho[0] * Vx[0] * Vy[0] - Bx[0] * By[0] / mu_0,\n",
    "                 rho[1] * Vx[1] * Vy[1] - Bx[1] * By[1] / mu_0)"
   ]
  },
  {
   "cell_type": "code",
   "execution_count": 49,
   "metadata": {},
   "outputs": [
    {
     "data": {
      "image/png": "[encoded data removed]",
      "text/latex": [
       "$\\displaystyle \\left( {V_x}_{1}^{2} + {V_y}_{1}^{2}, \\  {V_x}_{2}^{2} + {V_y}_{2}^{2}\\right)$"
      ],
      "text/plain": [
       "⎛         2            2           2            2⎞\n",
       "⎝{V_x}_{1}  + {V_y}_{1} , {V_x}_{2}  + {V_y}_{2} ⎠"
      ]
     },
     "execution_count": 49,
     "metadata": {},
     "output_type": "execute_result"
    }
   ],
   "source": [
    "V2 = (Vx[0]**2 + Vy[0]**2, Vx[1]**2 + Vy[1]**2)"
   ]
  },
  {
   "cell_type": "code",
   "execution_count": 50,
   "metadata": {},
   "outputs": [
    {
     "data": {
      "image/png": "[encoded data removed]",
      "text/latex": [
       "$\\displaystyle \\Gamma$"
      ],
      "text/plain": [
       "Γ"
      ]
     },
     "execution_count": 50,
     "metadata": {},
     "output_type": "execute_result"
    }
   ],
   "source": [
    "Gamma = sympy.symbols(\"Gamma\", positive=True)"
   ]
  },
  {
   "cell_type": "code",
   "execution_count": 51,
   "metadata": {},
   "outputs": [
    {
     "data": {
      "image/png": "[encoded data removed]",
      "text/latex": [
       "$\\displaystyle \\frac{\\Gamma {V_x}_{1} {p}_{1}}{\\Gamma - 1} + 0.5 {V_x}_{1} {\\rho}_{1} \\left({V_x}_{1}^{2} + {V_y}_{1}^{2}\\right) + \\frac{{B_y}_{1} \\left(- {B_x}_{1} {V_y}_{1} + {B_y}_{1} {V_x}_{1}\\right)}{\\mu_0} = \\frac{\\Gamma {V_x}_{2} {p}_{2}}{\\Gamma - 1} + 0.5 {V_x}_{2} {\\rho}_{2} \\left({V_x}_{2}^{2} + {V_y}_{2}^{2}\\right) + \\frac{{B_y}_{2} \\left(- {B_x}_{2} {V_y}_{2} + {B_y}_{2} {V_x}_{2}\\right)}{\\mu_0}$"
      ],
      "text/plain": [
       "Γ⋅{V_x}_{1}⋅{p}_{1}                            ⎛         2            2⎞   {B_\n",
       "─────────────────── + 0.5⋅{V_x}_{1}⋅{\\rho}_{1}⋅⎝{V_x}_{1}  + {V_y}_{1} ⎠ + ───\n",
       "       Γ - 1                                                                  \n",
       "\n",
       "y}_{1}⋅(-{B_x}_{1}⋅{V_y}_{1} + {B_y}_{1}⋅{V_x}_{1})   Γ⋅{V_x}_{2}⋅{p}_{2}     \n",
       "─────────────────────────────────────────────────── = ─────────────────── + 0.\n",
       "                      \\mu₀                                   Γ - 1            \n",
       "\n",
       "                       ⎛         2            2⎞   {B_y}_{2}⋅(-{B_x}_{2}⋅{V_y}\n",
       "5⋅{V_x}_{2}⋅{\\rho}_{2}⋅⎝{V_x}_{2}  + {V_y}_{2} ⎠ + ───────────────────────────\n",
       "                                                                            \\m\n",
       "\n",
       "_{2} + {B_y}_{2}⋅{V_x}_{2})\n",
       "───────────────────────────\n",
       "u₀                         "
      ]
     },
     "execution_count": 51,
     "metadata": {},
     "output_type": "execute_result"
    }
   ],
   "source": [
    "Eq938 = sympy.Eq(\n",
    "    1/2 * rho[0] * V2[0] * Vx[0] + Gamma / (Gamma - 1) * p[0] * Vx[0] + By[0] * (Vx[0] * By[0] - Vy[0] * Bx[0]) / mu_0,\n",
    "    1/2 * rho[1] * V2[1] * Vx[1] + Gamma / (Gamma - 1) * p[1] * Vx[1] + By[1] * (Vx[1] * By[1] - Vy[1] * Bx[1]) / mu_0,\n",
    ")"
   ]
  },
  {
   "cell_type": "code",
   "execution_count": 52,
   "metadata": {},
   "outputs": [
    {
     "data": {
      "image/png": "[encoded data removed]",
      "text/latex": [
       "$\\displaystyle \\left[ {B_x}_{1} = {B_x}_{2}, \\  - {B_x}_{1} {V_y}_{1} + {B_y}_{1} {V_x}_{1} = - {B_x}_{2} {V_y}_{2} + {B_y}_{2} {V_x}_{2}, \\  {V_x}_{1} {\\rho}_{1} = {V_x}_{2} {\\rho}_{2}, \\  {V_x}_{1}^{2} {\\rho}_{1} + {p}_{1} + \\frac{{B_y}_{1}^{2}}{2 \\mu_0} = {V_x}_{2}^{2} {\\rho}_{2} + {p}_{2} + \\frac{{B_y}_{2}^{2}}{2 \\mu_0}, \\  {V_x}_{1} {V_y}_{1} {\\rho}_{1} - \\frac{{B_x}_{1} {B_y}_{1}}{\\mu_0} = {V_x}_{2} {V_y}_{2} {\\rho}_{2} - \\frac{{B_x}_{2} {B_y}_{2}}{\\mu_0}, \\  \\frac{\\Gamma {V_x}_{1} {p}_{1}}{\\Gamma - 1} + 0.5 {V_x}_{1} {\\rho}_{1} \\left({V_x}_{1}^{2} + {V_y}_{1}^{2}\\right) + \\frac{{B_y}_{1} \\left(- {B_x}_{1} {V_y}_{1} + {B_y}_{1} {V_x}_{1}\\right)}{\\mu_0} = \\frac{\\Gamma {V_x}_{2} {p}_{2}}{\\Gamma - 1} + 0.5 {V_x}_{2} {\\rho}_{2} \\left({V_x}_{2}^{2} + {V_y}_{2}^{2}\\right) + \\frac{{B_y}_{2} \\left(- {B_x}_{2} {V_y}_{2} + {B_y}_{2} {V_x}_{2}\\right)}{\\mu_0}\\right]$"
      ],
      "text/plain": [
       "⎡                                                                             \n",
       "⎢                                                                             \n",
       "⎢{B_x}_{1} = {B_x}_{2}, -{B_x}_{1}⋅{V_y}_{1} + {B_y}_{1}⋅{V_x}_{1} = -{B_x}_{2\n",
       "⎣                                                                             \n",
       "\n",
       "                                                                              \n",
       "                                                                              \n",
       "}⋅{V_y}_{2} + {B_y}_{2}⋅{V_x}_{2}, {V_x}_{1}⋅{\\rho}_{1} = {V_x}_{2}⋅{\\rho}_{2}\n",
       "                                                                              \n",
       "\n",
       "                                             2                                \n",
       "           2                        {B_y}_{1}             2                   \n",
       ", {V_x}_{1} ⋅{\\rho}_{1} + {p}_{1} + ────────── = {V_x}_{2} ⋅{\\rho}_{2} + {p}_{\n",
       "                                      2⋅\\mu₀                                  \n",
       "\n",
       "              2                                                               \n",
       "     {B_y}_{2}                                    {B_x}_{1}⋅{B_y}_{1}         \n",
       "2} + ──────────, {V_x}_{1}⋅{V_y}_{1}⋅{\\rho}_{1} - ─────────────────── = {V_x}_\n",
       "       2⋅\\mu₀                                             \\mu₀                \n",
       "\n",
       "                                                                              \n",
       "                           {B_x}_{2}⋅{B_y}_{2}  Γ⋅{V_x}_{1}⋅{p}_{1}           \n",
       "{2}⋅{V_y}_{2}⋅{\\rho}_{2} - ───────────────────, ─────────────────── + 0.5⋅{V_x\n",
       "                                   \\mu₀                Γ - 1                  \n",
       "\n",
       "                                                                              \n",
       "                 ⎛         2            2⎞   {B_y}_{1}⋅(-{B_x}_{1}⋅{V_y}_{1} +\n",
       "}_{1}⋅{\\rho}_{1}⋅⎝{V_x}_{1}  + {V_y}_{1} ⎠ + ─────────────────────────────────\n",
       "                                                                      \\mu₀    \n",
       "\n",
       "                                                                              \n",
       " {B_y}_{1}⋅{V_x}_{1})   Γ⋅{V_x}_{2}⋅{p}_{2}                            ⎛      \n",
       "───────────────────── = ─────────────────── + 0.5⋅{V_x}_{2}⋅{\\rho}_{2}⋅⎝{V_x}_\n",
       "                               Γ - 1                                          \n",
       "\n",
       "                                                                           ⎤\n",
       "   2            2⎞   {B_y}_{2}⋅(-{B_x}_{2}⋅{V_y}_{2} + {B_y}_{2}⋅{V_x}_{2})⎥\n",
       "{2}  + {V_y}_{2} ⎠ + ──────────────────────────────────────────────────────⎥\n",
       "                                              \\mu₀                         ⎦"
      ]
     },
     "execution_count": 52,
     "metadata": {},
     "output_type": "execute_result"
    }
   ],
   "source": [
    "all_equations = [Eq933, Eq934, Eq935, Eq936, Eq937, Eq938]"
   ]
  },
  {
   "cell_type": "code",
   "execution_count": 53,
   "metadata": {},
   "outputs": [
    {
     "data": {
      "text/plain": [
       "{'Bx0': {B_x}_{1},\n",
       " 'Bx1': {B_x}_{2},\n",
       " 'By0': {B_y}_{1},\n",
       " 'By1': {B_y}_{2},\n",
       " 'Vx0': {V_x}_{1},\n",
       " 'Vx1': {V_x}_{2},\n",
       " 'Vy0': {V_y}_{1},\n",
       " 'Vy1': {V_y}_{2},\n",
       " 'p0': {p}_{1},\n",
       " 'p1': {p}_{2},\n",
       " 'rho0': {\\rho}_{1},\n",
       " 'rho1': {\\rho}_{2}}"
      ]
     },
     "execution_count": 53,
     "metadata": {},
     "output_type": "execute_result"
    }
   ],
   "source": [
    "names_to_symbols_dict = {}\n",
    "for key, pair in {\n",
    "    \"Bx\": Bx,\n",
    "    \"By\": By,\n",
    "    \"Vx\": Vx,\n",
    "    \"Vy\": Vy,\n",
    "    \"p\": p,\n",
    "    \"rho\": rho}.items():\n",
    "    for i, value in enumerate(pair):\n",
    "        names_to_symbols_dict[f\"{key}{i}\"] = value\n",
    "names_to_symbols_dict"
   ]
  },
  {
   "cell_type": "markdown",
   "metadata": {},
   "source": [
    "## Initial interface design"
   ]
  },
  {
   "cell_type": "code",
   "execution_count": 56,
   "metadata": {},
   "outputs": [],
   "source": [
    "import time"
   ]
  },
  {
   "cell_type": "code",
   "execution_count": 71,
   "metadata": {},
   "outputs": [],
   "source": [
    "import astropy.units as u\n",
    "from astropy import constants\n",
    "from plasmapy.utils.decorators import validate_quantities"
   ]
  },
  {
   "cell_type": "code",
   "execution_count": 118,
   "metadata": {},
   "outputs": [
    {
     "name": "stderr",
     "output_type": "stream",
     "text": [
      "WARNING: UnitsWarning: The argument 'gamma' to function solve_RH() has no specified units. Assuming units of . To silence this warning, explicitly pass in an astropy Quantity (e.g. 5. * astropy.units.cm) (see http://docs.astropy.org/en/stable/units/) [plasmapy.utils.decorators.validators]\n"
     ]
    },
    {
     "name": "stdout",
     "output_type": "stream",
     "text": [
      "I'll try to solve for these 6 unknowns:\n"
     ]
    },
    {
     "data": {
      "image/png": "[encoded data removed]",
      "text/latex": [
       "$\\displaystyle \\left[ {B_x}_{2}, \\  {B_y}_{2}, \\  {V_x}_{2}, \\  {V_y}_{2}, \\  {\\rho}_{2}, \\  {p}_{2}\\right]$"
      ],
      "text/plain": [
       "[{B_x}_{2}, {B_y}_{2}, {V_x}_{2}, {V_y}_{2}, {\\rho}_{2}, {p}_{2}]"
      ]
     },
     "metadata": {},
     "output_type": "display_data"
    },
    {
     "name": "stdout",
     "output_type": "stream",
     "text": [
      "Given these substitutions in SI units\n"
     ]
    },
    {
     "data": {
      "image/png": "[encoded data removed]",
      "text/latex": [
       "$\\displaystyle \\left\\{ \\Gamma : 2.0, \\  \\mu_0 : 1.25663706212e-06, \\  {B_x}_{1} : 1.0, \\  {B_y}_{1} : 1.0, \\  {V_x}_{1} : 1.0, \\  {V_y}_{1} : 1.0, \\  {\\rho}_{1} : 1.0, \\  {p}_{1} : 1.0\\right\\}$"
      ],
      "text/plain": [
       "{Γ: 2.0, \\mu₀: 1.25663706212e-06, {B_x}_{1}: 1.0, {B_y}_{1}: 1.0, {V_x}_{1}: 1\n",
       ".0, {V_y}_{1}: 1.0, {\\rho}_{1}: 1.0, {p}_{1}: 1.0}"
      ]
     },
     "metadata": {},
     "output_type": "display_data"
    },
    {
     "name": "stdout",
     "output_type": "stream",
     "text": [
      "These are the 6 equations I'll be trying to solve:\n"
     ]
    },
    {
     "data": {
      "image/png": "[encoded data removed]",
      "text/latex": [
       "$\\displaystyle \\left[ 1.0 = {B_x}_{2}, \\  0 = - {B_x}_{2} {V_y}_{2} + {B_y}_{2} {V_x}_{2}, \\  1.0 = {V_x}_{2} {\\rho}_{2}, \\  397889.357513138 = 397887.357513138 {B_y}_{2}^{2} + {V_x}_{2}^{2} {\\rho}_{2} + {p}_{2}, \\  -795773.715026276 = - 795774.715026276 {B_x}_{2} {B_y}_{2} + {V_x}_{2} {V_y}_{2} {\\rho}_{2}, \\  3.0 = 795774.715026276 {B_y}_{2} \\left(- {B_x}_{2} {V_y}_{2} + {B_y}_{2} {V_x}_{2}\\right) + 0.5 {V_x}_{2} {\\rho}_{2} \\left({V_x}_{2}^{2} + {V_y}_{2}^{2}\\right) + 2.0 {V_x}_{2} {p}_{2}\\right]$"
      ],
      "text/plain": [
       "⎡                                                                             \n",
       "⎣1.0 = {B_x}_{2}, 0 = -{B_x}_{2}⋅{V_y}_{2} + {B_y}_{2}⋅{V_x}_{2}, 1.0 = {V_x}_\n",
       "\n",
       "                                                             2            2   \n",
       "{2}⋅{\\rho}_{2}, 397889.357513138 = 397887.357513138⋅{B_y}_{2}  + {V_x}_{2} ⋅{\\\n",
       "\n",
       "                                                                              \n",
       "rho}_{2} + {p}_{2}, -795773.715026276 = -795774.715026276⋅{B_x}_{2}⋅{B_y}_{2} \n",
       "\n",
       "                                                                              \n",
       "+ {V_x}_{2}⋅{V_y}_{2}⋅{\\rho}_{2}, 3.0 = 795774.715026276⋅{B_y}_{2}⋅(-{B_x}_{2}\n",
       "\n",
       "                                                             ⎛         2      \n",
       "⋅{V_y}_{2} + {B_y}_{2}⋅{V_x}_{2}) + 0.5⋅{V_x}_{2}⋅{\\rho}_{2}⋅⎝{V_x}_{2}  + {V_\n",
       "\n",
       "      2⎞                        ⎤\n",
       "y}_{2} ⎠ + 2.0⋅{V_x}_{2}⋅{p}_{2}⎦"
      ]
     },
     "metadata": {},
     "output_type": "display_data"
    },
    {
     "name": "stdout",
     "output_type": "stream",
     "text": [
      "Here I go!\n",
      "That took 6.81s...\n",
      "We got 2 different solutions.\n"
     ]
    },
    {
     "data": {
      "text/plain": [
       "[{'Bx1': <Quantity 1. T>,\n",
       "  'By1': <Quantity 1. T>,\n",
       "  'Vx1': <Quantity 0.99999958 m / s>,\n",
       "  'Vy1': <Quantity 0.99999958 m / s>,\n",
       "  'rho1': <Quantity 1.00000042 1 / m3>,\n",
       "  'p1': <Quantity 1.00000084 Pa>},\n",
       " {'Bx1': <Quantity 1. T>,\n",
       "  'By1': <Quantity 1. T>,\n",
       "  'Vx1': <Quantity 1. m / s>,\n",
       "  'Vy1': <Quantity 1. m / s>,\n",
       "  'rho1': <Quantity 1. 1 / m3>,\n",
       "  'p1': <Quantity 1. Pa>}]"
      ]
     },
     "execution_count": 118,
     "metadata": {},
     "output_type": "execute_result"
    }
   ],
   "source": [
    "@validate_quantities\n",
    "def solve_RH(\n",
    "    gamma: u.dimensionless_unscaled,\n",
    "    Bx0: u.T = None,\n",
    "    Bx1: u.T = None,\n",
    "    By0: u.T = None,\n",
    "    By1: u.T = None,\n",
    "    Vx0: u.m/u.s = None,\n",
    "    Vx1: u.m/u.s = None,\n",
    "    Vy0: u.m/u.s = None,\n",
    "    Vy1: u.m/u.s = None,\n",
    "    rho0: u.m**-3 = None,\n",
    "    rho1: u.m**-3 = None,\n",
    "    p0: u.Pa = None,\n",
    "    p1: u.Pa = None,\n",
    "    **sympy_flags,\n",
    "):\n",
    "    all_arguments = dict(\n",
    "        Bx0=Bx0,\n",
    "        Bx1=Bx1,\n",
    "        By0=By0,\n",
    "        By1=By1,\n",
    "        Vx0=Vx0,\n",
    "        Vx1=Vx1,\n",
    "        Vy0=Vy0,\n",
    "        Vy1=Vy1,\n",
    "        rho0=rho0,\n",
    "        rho1=rho1,\n",
    "        p0=p0,\n",
    "        p1=p1,\n",
    "    )\n",
    "    if not sympy_flags:\n",
    "        sympy_flags[\"simplify\"] = False\n",
    "        sympy_flags[\"rational\"] = False\n",
    "        \n",
    "    for key, value in all_arguments.items():\n",
    "        if value is not None:\n",
    "            all_arguments[key] = value.si.value\n",
    "            \n",
    "    specified_arguments = {arg: value for arg, value in all_arguments.items() if value is not None}\n",
    "    assert len(specified_arguments) == 6, \"Problem is either overconstrained or underconstrained\"\n",
    "    \n",
    "    solve_for_these_names = [arg for arg in all_arguments if arg not in specified_arguments]\n",
    "    solve_for_these = [names_to_symbols_dict[arg] for arg in solve_for_these_names]\n",
    "    print(f\"I'll try to solve for these {len(solve_for_these)} unknowns:\")\n",
    "    display(solve_for_these)\n",
    "    \n",
    "    substitutions = {names_to_symbols_dict[key]: value for key, value in specified_arguments.items()}\n",
    "    substitutions[Gamma] = gamma.si.value\n",
    "    substitutions[mu_0] = constants.mu0.si.value\n",
    "    print(\"Given these substitutions in SI units\")\n",
    "    display(substitutions)\n",
    "    \n",
    "    subs_equations = [eq.subs(substitutions) for eq in all_equations]\n",
    "    print(f\"These are the {len(subs_equations)} equations I'll be trying to solve:\")\n",
    "    display(subs_equations)\n",
    "    \n",
    "    print(\"Here I go!\")\n",
    "    start_time = time.time()\n",
    "    solution = sympy.solve(subs_equations, solve_for_these,\n",
    "                           simplify=False,\n",
    "#                            rational=True,\n",
    "                          )\n",
    "    end_time = time.time()\n",
    "    runtime = end_time - start_time\n",
    "    print(f\"That took {runtime:.2f}s...\")\n",
    "    print(f\"We got {len(solution)} different solutions.\")\n",
    "    solution_dicts = [dict(zip(solve_for_these_names, sol)) for sol in solution]\n",
    "    \n",
    "    # ensure output dictionaries have proper units\n",
    "    for solution_dict in solution_dicts:\n",
    "        for key, value in solution_dict.items():\n",
    "            if \"B\" in key:\n",
    "                solution_dict[key] *= u.T\n",
    "            elif \"V\" in key:\n",
    "                solution_dict[key] *= u.m / u.s\n",
    "            elif \"rho\" in key:\n",
    "                solution_dict[key] *= u.m**-3\n",
    "            elif \"p\" in key:\n",
    "                solution_dict[key] *= u.Pa\n",
    "            else:\n",
    "                raise ValueError(f\"What kind of a key is {key}?\")\n",
    "    return solution_dicts\n",
    "    \n",
    "output = solve_RH(\n",
    "    gamma=2,\n",
    "    Bx0=1 * u.T,\n",
    "    By0=1 * u.T,\n",
    "    Vx0=1 * u.m/u.s,\n",
    "    Vy0=1 * u.m/u.s,\n",
    "    rho0=1 * u.m**-3,\n",
    "    p0=1 * u.Pa\n",
    ")"
   ]
  },
  {
   "cell_type": "code",
   "execution_count": null,
   "metadata": {},
   "outputs": [
    {
     "name": "stderr",
     "output_type": "stream",
     "text": [
      "WARNING: UnitsWarning: The argument 'gamma' to function solve_RH() has no specified units. Assuming units of . To silence this warning, explicitly pass in an astropy Quantity (e.g. 5. * astropy.units.cm) (see http://docs.astropy.org/en/stable/units/) [plasmapy.utils.decorators.validators]\n"
     ]
    },
    {
     "name": "stdout",
     "output_type": "stream",
     "text": [
      "I'll try to solve for these 6 unknowns:\n"
     ]
    },
    {
     "data": {
      "image/png": "[encoded data removed]",
      "text/latex": [
       "$\\displaystyle \\left[ {B_x}_{2}, \\  {B_y}_{2}, \\  {V_x}_{2}, \\  {V_y}_{2}, \\  {\\rho}_{2}, \\  {p}_{2}\\right]$"
      ],
      "text/plain": [
       "[{B_x}_{2}, {B_y}_{2}, {V_x}_{2}, {V_y}_{2}, {\\rho}_{2}, {p}_{2}]"
      ]
     },
     "metadata": {},
     "output_type": "display_data"
    },
    {
     "name": "stdout",
     "output_type": "stream",
     "text": [
      "Given these substitutions in SI units\n"
     ]
    },
    {
     "data": {
      "image/png": "[encoded data removed]",
      "text/latex": [
       "$\\displaystyle \\left\\{ \\Gamma : 2.0, \\  \\mu_0 : 1.25663706212e-06, \\  {B_x}_{1} : 0.6666666666666666, \\  {B_y}_{1} : 0.6666666666666666, \\  {V_x}_{1} : 1.0, \\  {V_y}_{1} : 1.0, \\  {\\rho}_{1} : 1.0, \\  {p}_{1} : 1.0\\right\\}$"
      ],
      "text/plain": [
       "{Γ: 2.0, \\mu₀: 1.25663706212e-06, {B_x}_{1}: 0.6666666666666666, {B_y}_{1}: 0.\n",
       "6666666666666666, {V_x}_{1}: 1.0, {V_y}_{1}: 1.0, {\\rho}_{1}: 1.0, {p}_{1}: 1.\n",
       "0}"
      ]
     },
     "metadata": {},
     "output_type": "display_data"
    },
    {
     "name": "stdout",
     "output_type": "stream",
     "text": [
      "These are the 6 equations I'll be trying to solve:\n"
     ]
    },
    {
     "data": {
      "image/png": "[encoded data removed]",
      "text/latex": [
       "$\\displaystyle \\left[ 0.666666666666667 = {B_x}_{2}, \\  0 = - {B_x}_{2} {V_y}_{2} + {B_y}_{2} {V_x}_{2}, \\  1.0 = {V_x}_{2} {\\rho}_{2}, \\  176840.825561395 = 397887.357513138 {B_y}_{2}^{2} + {V_x}_{2}^{2} {\\rho}_{2} + {p}_{2}, \\  -353676.651122789 = - 795774.715026276 {B_x}_{2} {B_y}_{2} + {V_x}_{2} {V_y}_{2} {\\rho}_{2}, \\  3.0 = 795774.715026276 {B_y}_{2} \\left(- {B_x}_{2} {V_y}_{2} + {B_y}_{2} {V_x}_{2}\\right) + 0.5 {V_x}_{2} {\\rho}_{2} \\left({V_x}_{2}^{2} + {V_y}_{2}^{2}\\right) + 2.0 {V_x}_{2} {p}_{2}\\right]$"
      ],
      "text/plain": [
       "⎡                                                                             \n",
       "⎣0.666666666666667 = {B_x}_{2}, 0 = -{B_x}_{2}⋅{V_y}_{2} + {B_y}_{2}⋅{V_x}_{2}\n",
       "\n",
       "                                                                           2  \n",
       ", 1.0 = {V_x}_{2}⋅{\\rho}_{2}, 176840.825561395 = 397887.357513138⋅{B_y}_{2}  +\n",
       "\n",
       "          2                                                                   \n",
       " {V_x}_{2} ⋅{\\rho}_{2} + {p}_{2}, -353676.651122789 = -795774.715026276⋅{B_x}_\n",
       "\n",
       "                                                                              \n",
       "{2}⋅{B_y}_{2} + {V_x}_{2}⋅{V_y}_{2}⋅{\\rho}_{2}, 3.0 = 795774.715026276⋅{B_y}_{\n",
       "\n",
       "                                                                           ⎛  \n",
       "2}⋅(-{B_x}_{2}⋅{V_y}_{2} + {B_y}_{2}⋅{V_x}_{2}) + 0.5⋅{V_x}_{2}⋅{\\rho}_{2}⋅⎝{V\n",
       "\n",
       "       2            2⎞                        ⎤\n",
       "_x}_{2}  + {V_y}_{2} ⎠ + 2.0⋅{V_x}_{2}⋅{p}_{2}⎦"
      ]
     },
     "metadata": {},
     "output_type": "display_data"
    },
    {
     "name": "stdout",
     "output_type": "stream",
     "text": [
      "Here I go!\n"
     ]
    }
   ],
   "source": [
    "output = solve_RH(\n",
    "    gamma = 2,\n",
    "    Bx0=2/3 * u.T,\n",
    "    By0=2/3 * u.T,\n",
    "    Vx0=1 * u.m/u.s,\n",
    "    Vy0=1 * u.m/u.s,\n",
    "    rho0=1 * u.m**-3,\n",
    "    p0=1 * u.Pa,\n",
    ")"
   ]
  },
  {
   "cell_type": "code",
   "execution_count": null,
   "metadata": {},
   "outputs": [],
   "source": [
    "output = solve_RH(\n",
    "    gamma = 2,\n",
    "    Bx0=0 * u.T,\n",
    "    By0=0 * u.T,\n",
    "    Vx0=1 * u.m/u.s,\n",
    "    Vy0=1 * u.m/u.s,\n",
    "    rho0=1 * u.m**-3,\n",
    "    p0=1 * u.Pa,\n",
    ")"
   ]
  },
  {
   "cell_type": "code",
   "execution_count": 106,
   "metadata": {},
   "outputs": [
    {
     "data": {
      "text/plain": [
       "\u001b[0;31mSignature:\u001b[0m \u001b[0msympy\u001b[0m\u001b[0;34m.\u001b[0m\u001b[0msolve\u001b[0m\u001b[0;34m(\u001b[0m\u001b[0mf\u001b[0m\u001b[0;34m,\u001b[0m \u001b[0;34m*\u001b[0m\u001b[0msymbols\u001b[0m\u001b[0;34m,\u001b[0m \u001b[0;34m**\u001b[0m\u001b[0mflags\u001b[0m\u001b[0;34m)\u001b[0m\u001b[0;34m\u001b[0m\u001b[0;34m\u001b[0m\u001b[0m\n",
       "\u001b[0;31mDocstring:\u001b[0m\n",
       "Algebraically solves equations and systems of equations.\n",
       "\n",
       "Currently supported are:\n",
       "    - polynomial,\n",
       "    - transcendental\n",
       "    - piecewise combinations of the above\n",
       "    - systems of linear and polynomial equations\n",
       "    - systems containing relational expressions.\n",
       "\n",
       "Input is formed as:\n",
       "\n",
       "* f\n",
       "    - a single Expr or Poly that must be zero,\n",
       "    - an Equality\n",
       "    - a Relational expression\n",
       "    - a Boolean\n",
       "    - iterable of one or more of the above\n",
       "\n",
       "* symbols (object(s) to solve for) specified as\n",
       "    - none given (other non-numeric objects will be used)\n",
       "    - single symbol\n",
       "    - denested list of symbols\n",
       "      e.g. solve(f, x, y)\n",
       "    - ordered iterable of symbols\n",
       "      e.g. solve(f, [x, y])\n",
       "\n",
       "* flags\n",
       "    'dict'=True (default is False)\n",
       "        return list (perhaps empty) of solution mappings\n",
       "    'set'=True (default is False)\n",
       "        return list of symbols and set of tuple(s) of solution(s)\n",
       "    'exclude=[] (default)'\n",
       "        don't try to solve for any of the free symbols in exclude;\n",
       "        if expressions are given, the free symbols in them will\n",
       "        be extracted automatically.\n",
       "    'check=True (default)'\n",
       "        If False, don't do any testing of solutions. This can be\n",
       "        useful if one wants to include solutions that make any\n",
       "        denominator zero.\n",
       "    'numerical=True (default)'\n",
       "        do a fast numerical check if ``f`` has only one symbol.\n",
       "    'minimal=True (default is False)'\n",
       "        a very fast, minimal testing.\n",
       "    'warn=True (default is False)'\n",
       "        show a warning if checksol() could not conclude.\n",
       "    'simplify=True (default)'\n",
       "        simplify all but polynomials of order 3 or greater before\n",
       "        returning them and (if check is not False) use the\n",
       "        general simplify function on the solutions and the\n",
       "        expression obtained when they are substituted into the\n",
       "        function which should be zero\n",
       "    'force=True (default is False)'\n",
       "        make positive all symbols without assumptions regarding sign.\n",
       "    'rational=True (default)'\n",
       "        recast Floats as Rational; if this option is not used, the\n",
       "        system containing floats may fail to solve because of issues\n",
       "        with polys. If rational=None, Floats will be recast as\n",
       "        rationals but the answer will be recast as Floats. If the\n",
       "        flag is False then nothing will be done to the Floats.\n",
       "    'manual=True (default is False)'\n",
       "        do not use the polys/matrix method to solve a system of\n",
       "        equations, solve them one at a time as you might \"manually\"\n",
       "    'implicit=True (default is False)'\n",
       "        allows solve to return a solution for a pattern in terms of\n",
       "        other functions that contain that pattern; this is only\n",
       "        needed if the pattern is inside of some invertible function\n",
       "        like cos, exp, ....\n",
       "    'particular=True (default is False)'\n",
       "        instructs solve to try to find a particular solution to a linear\n",
       "        system with as many zeros as possible; this is very expensive\n",
       "    'quick=True (default is False)'\n",
       "        when using particular=True, use a fast heuristic instead to find a\n",
       "        solution with many zeros (instead of using the very slow method\n",
       "        guaranteed to find the largest number of zeros possible)\n",
       "    'cubics=True (default)'\n",
       "        return explicit solutions when cubic expressions are encountered\n",
       "    'quartics=True (default)'\n",
       "        return explicit solutions when quartic expressions are encountered\n",
       "    'quintics=True (default)'\n",
       "        return explicit solutions (if possible) when quintic expressions\n",
       "        are encountered\n",
       "\n",
       "Examples\n",
       "========\n",
       "\n",
       "The output varies according to the input and can be seen by example::\n",
       "\n",
       "    >>> from sympy import solve, Poly, Eq, Function, exp\n",
       "    >>> from sympy.abc import x, y, z, a, b\n",
       "    >>> f = Function('f')\n",
       "\n",
       "* boolean or univariate Relational\n",
       "\n",
       "    >>> solve(x < 3)\n",
       "    (-oo < x) & (x < 3)\n",
       "\n",
       "\n",
       "* to always get a list of solution mappings, use flag dict=True\n",
       "\n",
       "    >>> solve(x - 3, dict=True)\n",
       "    [{x: 3}]\n",
       "    >>> sol = solve([x - 3, y - 1], dict=True)\n",
       "    >>> sol\n",
       "    [{x: 3, y: 1}]\n",
       "    >>> sol[0][x]\n",
       "    3\n",
       "    >>> sol[0][y]\n",
       "    1\n",
       "\n",
       "\n",
       "* to get a list of symbols and set of solution(s) use flag set=True\n",
       "\n",
       "    >>> solve([x**2 - 3, y - 1], set=True)\n",
       "    ([x, y], {(-sqrt(3), 1), (sqrt(3), 1)})\n",
       "\n",
       "\n",
       "* single expression and single symbol that is in the expression\n",
       "\n",
       "    >>> solve(x - y, x)\n",
       "    [y]\n",
       "    >>> solve(x - 3, x)\n",
       "    [3]\n",
       "    >>> solve(Eq(x, 3), x)\n",
       "    [3]\n",
       "    >>> solve(Poly(x - 3), x)\n",
       "    [3]\n",
       "    >>> solve(x**2 - y**2, x, set=True)\n",
       "    ([x], {(-y,), (y,)})\n",
       "    >>> solve(x**4 - 1, x, set=True)\n",
       "    ([x], {(-1,), (1,), (-I,), (I,)})\n",
       "\n",
       "* single expression with no symbol that is in the expression\n",
       "\n",
       "    >>> solve(3, x)\n",
       "    []\n",
       "    >>> solve(x - 3, y)\n",
       "    []\n",
       "\n",
       "* single expression with no symbol given\n",
       "\n",
       "      In this case, all free symbols will be selected as potential\n",
       "      symbols to solve for. If the equation is univariate then a list\n",
       "      of solutions is returned; otherwise -- as is the case when symbols are\n",
       "      given as an iterable of length > 1 -- a list of mappings will be returned.\n",
       "\n",
       "        >>> solve(x - 3)\n",
       "        [3]\n",
       "        >>> solve(x**2 - y**2)\n",
       "        [{x: -y}, {x: y}]\n",
       "        >>> solve(z**2*x**2 - z**2*y**2)\n",
       "        [{x: -y}, {x: y}, {z: 0}]\n",
       "        >>> solve(z**2*x - z**2*y**2)\n",
       "        [{x: y**2}, {z: 0}]\n",
       "\n",
       "* when an object other than a Symbol is given as a symbol, it is\n",
       "  isolated algebraically and an implicit solution may be obtained.\n",
       "  This is mostly provided as a convenience to save one from replacing\n",
       "  the object with a Symbol and solving for that Symbol. It will only\n",
       "  work if the specified object can be replaced with a Symbol using the\n",
       "  subs method.\n",
       "\n",
       "      >>> solve(f(x) - x, f(x))\n",
       "      [x]\n",
       "      >>> solve(f(x).diff(x) - f(x) - x, f(x).diff(x))\n",
       "      [x + f(x)]\n",
       "      >>> solve(f(x).diff(x) - f(x) - x, f(x))\n",
       "      [-x + Derivative(f(x), x)]\n",
       "      >>> solve(x + exp(x)**2, exp(x), set=True)\n",
       "      ([exp(x)], {(-sqrt(-x),), (sqrt(-x),)})\n",
       "\n",
       "      >>> from sympy import Indexed, IndexedBase, Tuple, sqrt\n",
       "      >>> A = IndexedBase('A')\n",
       "      >>> eqs = Tuple(A[1] + A[2] - 3, A[1] - A[2] + 1)\n",
       "      >>> solve(eqs, eqs.atoms(Indexed))\n",
       "      {A[1]: 1, A[2]: 2}\n",
       "\n",
       "    * To solve for a *symbol* implicitly, use 'implicit=True':\n",
       "\n",
       "        >>> solve(x + exp(x), x)\n",
       "        [-LambertW(1)]\n",
       "        >>> solve(x + exp(x), x, implicit=True)\n",
       "        [-exp(x)]\n",
       "\n",
       "    * It is possible to solve for anything that can be targeted with\n",
       "      subs:\n",
       "\n",
       "        >>> solve(x + 2 + sqrt(3), x + 2)\n",
       "        [-sqrt(3)]\n",
       "        >>> solve((x + 2 + sqrt(3), x + 4 + y), y, x + 2)\n",
       "        {y: -2 + sqrt(3), x + 2: -sqrt(3)}\n",
       "\n",
       "    * Nothing heroic is done in this implicit solving so you may end up\n",
       "      with a symbol still in the solution:\n",
       "\n",
       "        >>> eqs = (x*y + 3*y + sqrt(3), x + 4 + y)\n",
       "        >>> solve(eqs, y, x + 2)\n",
       "        {y: -sqrt(3)/(x + 3), x + 2: (-2*x - 6 + sqrt(3))/(x + 3)}\n",
       "        >>> solve(eqs, y*x, x)\n",
       "        {x: -y - 4, x*y: -3*y - sqrt(3)}\n",
       "\n",
       "    * if you attempt to solve for a number remember that the number\n",
       "      you have obtained does not necessarily mean that the value is\n",
       "      equivalent to the expression obtained:\n",
       "\n",
       "        >>> solve(sqrt(2) - 1, 1)\n",
       "        [sqrt(2)]\n",
       "        >>> solve(x - y + 1, 1)  # /!\\ -1 is targeted, too\n",
       "        [x/(y - 1)]\n",
       "        >>> [_.subs(z, -1) for _ in solve((x - y + 1).subs(-1, z), 1)]\n",
       "        [-x + y]\n",
       "\n",
       "    * To solve for a function within a derivative, use dsolve.\n",
       "\n",
       "* single expression and more than 1 symbol\n",
       "\n",
       "    * when there is a linear solution\n",
       "\n",
       "        >>> solve(x - y**2, x, y)\n",
       "        [(y**2, y)]\n",
       "        >>> solve(x**2 - y, x, y)\n",
       "        [(x, x**2)]\n",
       "        >>> solve(x**2 - y, x, y, dict=True)\n",
       "        [{y: x**2}]\n",
       "\n",
       "    * when undetermined coefficients are identified\n",
       "\n",
       "        * that are linear\n",
       "\n",
       "            >>> solve((a + b)*x - b + 2, a, b)\n",
       "            {a: -2, b: 2}\n",
       "\n",
       "        * that are nonlinear\n",
       "\n",
       "            >>> solve((a + b)*x - b**2 + 2, a, b, set=True)\n",
       "            ([a, b], {(-sqrt(2), sqrt(2)), (sqrt(2), -sqrt(2))})\n",
       "\n",
       "    * if there is no linear solution then the first successful\n",
       "      attempt for a nonlinear solution will be returned\n",
       "\n",
       "        >>> solve(x**2 - y**2, x, y, dict=True)\n",
       "        [{x: -y}, {x: y}]\n",
       "        >>> solve(x**2 - y**2/exp(x), x, y, dict=True)\n",
       "        [{x: 2*LambertW(-y/2)}, {x: 2*LambertW(y/2)}]\n",
       "        >>> solve(x**2 - y**2/exp(x), y, x)\n",
       "        [(-x*sqrt(exp(x)), x), (x*sqrt(exp(x)), x)]\n",
       "\n",
       "* iterable of one or more of the above\n",
       "\n",
       "    * involving relationals or bools\n",
       "\n",
       "        >>> solve([x < 3, x - 2])\n",
       "        Eq(x, 2)\n",
       "        >>> solve([x > 3, x - 2])\n",
       "        False\n",
       "\n",
       "    * when the system is linear\n",
       "\n",
       "        * with a solution\n",
       "\n",
       "            >>> solve([x - 3], x)\n",
       "            {x: 3}\n",
       "            >>> solve((x + 5*y - 2, -3*x + 6*y - 15), x, y)\n",
       "            {x: -3, y: 1}\n",
       "            >>> solve((x + 5*y - 2, -3*x + 6*y - 15), x, y, z)\n",
       "            {x: -3, y: 1}\n",
       "            >>> solve((x + 5*y - 2, -3*x + 6*y - z), z, x, y)\n",
       "            {x: 2 - 5*y, z: 21*y - 6}\n",
       "\n",
       "        * without a solution\n",
       "\n",
       "            >>> solve([x + 3, x - 3])\n",
       "            []\n",
       "\n",
       "    * when the system is not linear\n",
       "\n",
       "        >>> solve([x**2 + y -2, y**2 - 4], x, y, set=True)\n",
       "        ([x, y], {(-2, -2), (0, 2), (2, -2)})\n",
       "\n",
       "    * if no symbols are given, all free symbols will be selected and a list\n",
       "      of mappings returned\n",
       "\n",
       "        >>> solve([x - 2, x**2 + y])\n",
       "        [{x: 2, y: -4}]\n",
       "        >>> solve([x - 2, x**2 + f(x)], {f(x), x})\n",
       "        [{x: 2, f(x): -4}]\n",
       "\n",
       "    * if any equation doesn't depend on the symbol(s) given it will be\n",
       "      eliminated from the equation set and an answer may be given\n",
       "      implicitly in terms of variables that were not of interest\n",
       "\n",
       "        >>> solve([x - y, y - 3], x)\n",
       "        {x: y}\n",
       "\n",
       "Notes\n",
       "=====\n",
       "\n",
       "solve() with check=True (default) will run through the symbol tags to\n",
       "elimate unwanted solutions.  If no assumptions are included all possible\n",
       "solutions will be returned.\n",
       "\n",
       "    >>> from sympy import Symbol, solve\n",
       "    >>> x = Symbol(\"x\")\n",
       "    >>> solve(x**2 - 1)\n",
       "    [-1, 1]\n",
       "\n",
       "By using the positive tag only one solution will be returned:\n",
       "\n",
       "    >>> pos = Symbol(\"pos\", positive=True)\n",
       "    >>> solve(pos**2 - 1)\n",
       "    [1]\n",
       "\n",
       "\n",
       "Assumptions aren't checked when `solve()` input involves\n",
       "relationals or bools.\n",
       "\n",
       "When the solutions are checked, those that make any denominator zero\n",
       "are automatically excluded. If you do not want to exclude such solutions\n",
       "then use the check=False option:\n",
       "\n",
       "    >>> from sympy import sin, limit\n",
       "    >>> solve(sin(x)/x)  # 0 is excluded\n",
       "    [pi]\n",
       "\n",
       "If check=False then a solution to the numerator being zero is found: x = 0.\n",
       "In this case, this is a spurious solution since sin(x)/x has the well known\n",
       "limit (without dicontinuity) of 1 at x = 0:\n",
       "\n",
       "    >>> solve(sin(x)/x, check=False)\n",
       "    [0, pi]\n",
       "\n",
       "In the following case, however, the limit exists and is equal to the\n",
       "value of x = 0 that is excluded when check=True:\n",
       "\n",
       "    >>> eq = x**2*(1/x - z**2/x)\n",
       "    >>> solve(eq, x)\n",
       "    []\n",
       "    >>> solve(eq, x, check=False)\n",
       "    [0]\n",
       "    >>> limit(eq, x, 0, '-')\n",
       "    0\n",
       "    >>> limit(eq, x, 0, '+')\n",
       "    0\n",
       "\n",
       "Disabling high-order, explicit solutions\n",
       "----------------------------------------\n",
       "\n",
       "When solving polynomial expressions, one might not want explicit solutions\n",
       "(which can be quite long). If the expression is univariate, CRootOf\n",
       "instances will be returned instead:\n",
       "\n",
       "    >>> solve(x**3 - x + 1)\n",
       "    [-1/((-1/2 - sqrt(3)*I/2)*(3*sqrt(69)/2 + 27/2)**(1/3)) - (-1/2 -\n",
       "    sqrt(3)*I/2)*(3*sqrt(69)/2 + 27/2)**(1/3)/3, -(-1/2 +\n",
       "    sqrt(3)*I/2)*(3*sqrt(69)/2 + 27/2)**(1/3)/3 - 1/((-1/2 +\n",
       "    sqrt(3)*I/2)*(3*sqrt(69)/2 + 27/2)**(1/3)), -(3*sqrt(69)/2 +\n",
       "    27/2)**(1/3)/3 - 1/(3*sqrt(69)/2 + 27/2)**(1/3)]\n",
       "    >>> solve(x**3 - x + 1, cubics=False)\n",
       "    [CRootOf(x**3 - x + 1, 0),\n",
       "     CRootOf(x**3 - x + 1, 1),\n",
       "     CRootOf(x**3 - x + 1, 2)]\n",
       "\n",
       "    If the expression is multivariate, no solution might be returned:\n",
       "\n",
       "    >>> solve(x**3 - x + a, x, cubics=False)\n",
       "    []\n",
       "\n",
       "Sometimes solutions will be obtained even when a flag is False because the\n",
       "expression could be factored. In the following example, the equation can\n",
       "be factored as the product of a linear and a quadratic factor so explicit\n",
       "solutions (which did not require solving a cubic expression) are obtained:\n",
       "\n",
       "    >>> eq = x**3 + 3*x**2 + x - 1\n",
       "    >>> solve(eq, cubics=False)\n",
       "    [-1, -1 + sqrt(2), -sqrt(2) - 1]\n",
       "\n",
       "Solving equations involving radicals\n",
       "------------------------------------\n",
       "\n",
       "Because of SymPy's use of the principle root (issue #8789), some solutions\n",
       "to radical equations will be missed unless check=False:\n",
       "\n",
       "    >>> from sympy import root\n",
       "    >>> eq = root(x**3 - 3*x**2, 3) + 1 - x\n",
       "    >>> solve(eq)\n",
       "    []\n",
       "    >>> solve(eq, check=False)\n",
       "    [1/3]\n",
       "\n",
       "In the above example there is only a single solution to the\n",
       "equation. Other expressions will yield spurious roots which\n",
       "must be checked manually; roots which give a negative argument\n",
       "to odd-powered radicals will also need special checking:\n",
       "\n",
       "    >>> from sympy import real_root, S\n",
       "    >>> eq = root(x, 3) - root(x, 5) + S(1)/7\n",
       "    >>> solve(eq)  # this gives 2 solutions but misses a 3rd\n",
       "    [CRootOf(7*_p**5 - 7*_p**3 + 1, 1)**15,\n",
       "    CRootOf(7*_p**5 - 7*_p**3 + 1, 2)**15]\n",
       "    >>> sol = solve(eq, check=False)\n",
       "    >>> [abs(eq.subs(x,i).n(2)) for i in sol]\n",
       "    [0.48, 0.e-110, 0.e-110, 0.052, 0.052]\n",
       "\n",
       "    The first solution is negative so real_root must be used to see\n",
       "    that it satisfies the expression:\n",
       "\n",
       "    >>> abs(real_root(eq.subs(x, sol[0])).n(2))\n",
       "    0.e-110\n",
       "\n",
       "If the roots of the equation are not real then more care will be\n",
       "necessary to find the roots, especially for higher order equations.\n",
       "Consider the following expression:\n",
       "\n",
       "    >>> expr = root(x, 3) - root(x, 5)\n",
       "\n",
       "We will construct a known value for this expression at x = 3 by selecting\n",
       "the 1-th root for each radical:\n",
       "\n",
       "    >>> expr1 = root(x, 3, 1) - root(x, 5, 1)\n",
       "    >>> v = expr1.subs(x, -3)\n",
       "\n",
       "The solve function is unable to find any exact roots to this equation:\n",
       "\n",
       "    >>> eq = Eq(expr, v); eq1 = Eq(expr1, v)\n",
       "    >>> solve(eq, check=False), solve(eq1, check=False)\n",
       "    ([], [])\n",
       "\n",
       "The function unrad, however, can be used to get a form of the equation for\n",
       "which numerical roots can be found:\n",
       "\n",
       "    >>> from sympy.solvers.solvers import unrad\n",
       "    >>> from sympy import nroots\n",
       "    >>> e, (p, cov) = unrad(eq)\n",
       "    >>> pvals = nroots(e)\n",
       "    >>> inversion = solve(cov, x)[0]\n",
       "    >>> xvals = [inversion.subs(p, i) for i in pvals]\n",
       "\n",
       "Although eq or eq1 could have been used to find xvals, the solution can\n",
       "only be verified with expr1:\n",
       "\n",
       "    >>> z = expr - v\n",
       "    >>> [xi.n(chop=1e-9) for xi in xvals if abs(z.subs(x, xi).n()) < 1e-9]\n",
       "    []\n",
       "    >>> z1 = expr1 - v\n",
       "    >>> [xi.n(chop=1e-9) for xi in xvals if abs(z1.subs(x, xi).n()) < 1e-9]\n",
       "    [-3.0]\n",
       "\n",
       "See Also\n",
       "========\n",
       "\n",
       "    - rsolve() for solving recurrence relationships\n",
       "    - dsolve() for solving differential equations\n",
       "\u001b[0;31mFile:\u001b[0m      /progs/miniconda3/envs/py38/lib/python3.8/site-packages/sympy/solvers/solvers.py\n",
       "\u001b[0;31mType:\u001b[0m      function\n"
      ]
     },
     "metadata": {},
     "output_type": "display_data"
    }
   ],
   "source": [
    "sympy.solve?"
   ]
  }
 ],
 "metadata": {
  "kernelspec": {
   "display_name": "Python 3",
   "language": "python",
   "name": "python3"
  },
  "language_info": {
   "codemirror_mode": {
    "name": "ipython",
    "version": 3
   },
   "file_extension": ".py",
   "mimetype": "text/x-python",
   "name": "python",
   "nbconvert_exporter": "python",
   "pygments_lexer": "ipython3",
   "version": "3.8.2"
  },
  "widgets": {
   "application/vnd.jupyter.widget-state+json": {
    "state": {},
    "version_major": 2,
    "version_minor": 0
   }
  }
 },
 "nbformat": 4,
 "nbformat_minor": 4
}
