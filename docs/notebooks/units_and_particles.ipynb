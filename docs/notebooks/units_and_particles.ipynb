{
 "cells": [
  {
   "cell_type": "markdown",
   "id": "6e8f0d92",
   "metadata": {},
   "source": [
    "# Units and Particles"
   ]
  },
  {
   "cell_type": "markdown",
   "id": "08e138a0",
   "metadata": {},
   "source": [
    "This notebook introduces some of the most commonly used functionality when working with PlasmaPy..."
   ]
  },
  {
   "cell_type": "markdown",
   "id": "d3b12077",
   "metadata": {},
   "source": [
    "## Working with Astropy units"
   ]
  },
  {
   "cell_type": "markdown",
   "id": "e9ccbb06",
   "metadata": {},
   "source": [
    "The `astropy.units` subpackage is..."
   ]
  },
  {
   "cell_type": "code",
   "execution_count": null,
   "id": "8437650a",
   "metadata": {},
   "outputs": [],
   "source": [
    "import astropy.units as u"
   ]
  },
  {
   "cell_type": "markdown",
   "id": "ccc6659f",
   "metadata": {},
   "source": [
    "Constants"
   ]
  },
  {
   "cell_type": "code",
   "execution_count": 29,
   "id": "a6354b93",
   "metadata": {},
   "outputs": [],
   "source": [
    "from astropy import constants"
   ]
  },
  {
   "cell_type": "markdown",
   "id": "19e178a9",
   "metadata": {},
   "source": [
    "## Working with PlasmaPy particles"
   ]
  },
  {
   "cell_type": "markdown",
   "id": "0c7eeced",
   "metadata": {},
   "source": [
    "The `plasmapy.particles` subpackage is..."
   ]
  },
  {
   "cell_type": "code",
   "execution_count": 3,
   "id": "24125310",
   "metadata": {},
   "outputs": [],
   "source": [
    "from plasmapy.particles import *"
   ]
  },
  {
   "cell_type": "markdown",
   "id": "e224284a",
   "metadata": {},
   "source": [
    "### Functions"
   ]
  },
  {
   "cell_type": "markdown",
   "id": "7696deba",
   "metadata": {},
   "source": [
    "There are a few functions that provide us with information about the different particles that show up in plasmas. The input of these functions is a representation of a particle, such as a string for the atomic symbol or the element name."
   ]
  },
  {
   "cell_type": "code",
   "execution_count": null,
   "id": "006b8d3e",
   "metadata": {},
   "outputs": [],
   "source": [
    "atomic_number(\"Fe\")"
   ]
  },
  {
   "cell_type": "code",
   "execution_count": 5,
   "id": "8a0af199",
   "metadata": {
    "scrolled": true
   },
   "outputs": [
    {
     "data": {
      "text/plain": [
       "'Og'"
      ]
     },
     "execution_count": 5,
     "metadata": {},
     "output_type": "execute_result"
    }
   ],
   "source": [
    "atomic_symbol(\"oganesson\")"
   ]
  },
  {
   "cell_type": "markdown",
   "id": "2aa5af34",
   "metadata": {},
   "source": [
    "We can provide a number to represent the atomic number."
   ]
  },
  {
   "cell_type": "code",
   "execution_count": 6,
   "id": "69958326",
   "metadata": {},
   "outputs": [
    {
     "data": {
      "text/plain": [
       "'iron'"
      ]
     },
     "execution_count": 6,
     "metadata": {},
     "output_type": "execute_result"
    }
   ],
   "source": [
    "element_name(26)"
   ]
  },
  {
   "cell_type": "markdown",
   "id": "cca89cef",
   "metadata": {},
   "source": [
    "We can also use standard symbols or the names of particles."
   ]
  },
  {
   "cell_type": "code",
   "execution_count": 7,
   "id": "16ca5b6f",
   "metadata": {},
   "outputs": [
    {
     "data": {
      "text/latex": [
       "$1.6021766 \\times 10^{-19} \\; \\mathrm{C}$"
      ],
      "text/plain": [
       "<<class 'astropy.constants.codata2018.EMCODATA2018'> name='Electron charge' value=1.602176634e-19 uncertainty=0.0 unit='C' reference='CODATA 2018'>"
      ]
     },
     "execution_count": 7,
     "metadata": {},
     "output_type": "execute_result"
    }
   ],
   "source": [
    "electric_charge(\"p+\")"
   ]
  },
  {
   "cell_type": "code",
   "execution_count": 9,
   "id": "35d8e49e",
   "metadata": {},
   "outputs": [
    {
     "data": {
      "text/plain": [
       "-1"
      ]
     },
     "execution_count": 9,
     "metadata": {},
     "output_type": "execute_result"
    }
   ],
   "source": [
    "charge_number(\"electron\")"
   ]
  },
  {
   "cell_type": "markdown",
   "id": "e498e01e",
   "metadata": {},
   "source": [
    "We can even use the symbols for many particles directly.  In a Jupyter notebook, type `\\alpha` and press tab to create \"α\"."
   ]
  },
  {
   "cell_type": "code",
   "execution_count": 12,
   "id": "493a2d6f",
   "metadata": {},
   "outputs": [
    {
     "data": {
      "text/latex": [
       "$6.6446572 \\times 10^{-27} \\; \\mathrm{kg}$"
      ],
      "text/plain": [
       "<Quantity 6.64465719e-27 kg>"
      ]
     },
     "execution_count": 12,
     "metadata": {},
     "output_type": "execute_result"
    }
   ],
   "source": [
    "particle_mass(\"α\")"
   ]
  },
  {
   "cell_type": "markdown",
   "id": "8f2e5b30",
   "metadata": {},
   "source": [
    "There is flexibility in how we represent particles, including ions.  "
   ]
  },
  {
   "cell_type": "code",
   "execution_count": 13,
   "id": "a65e15da",
   "metadata": {},
   "outputs": [
    {
     "data": {
      "text/latex": [
       "$9.2870305 \\times 10^{-26} \\; \\mathrm{kg}$"
      ],
      "text/plain": [
       "<Quantity 9.28703048e-26 kg>"
      ]
     },
     "execution_count": 13,
     "metadata": {},
     "output_type": "execute_result"
    }
   ],
   "source": [
    "particle_mass(\"Fe-56 13+\")"
   ]
  },
  {
   "cell_type": "code",
   "execution_count": 14,
   "id": "05e03a8b",
   "metadata": {},
   "outputs": [
    {
     "data": {
      "text/latex": [
       "$9.2870305 \\times 10^{-26} \\; \\mathrm{kg}$"
      ],
      "text/plain": [
       "<Quantity 9.28703048e-26 kg>"
      ]
     },
     "execution_count": 14,
     "metadata": {},
     "output_type": "execute_result"
    }
   ],
   "source": [
    "particle_mass(\"iron-56 +13\")"
   ]
  },
  {
   "cell_type": "code",
   "execution_count": 17,
   "id": "0dd9541b",
   "metadata": {},
   "outputs": [
    {
     "data": {
      "text/latex": [
       "$9.2870305 \\times 10^{-26} \\; \\mathrm{kg}$"
      ],
      "text/plain": [
       "<Quantity 9.28703048e-26 kg>"
      ]
     },
     "execution_count": 17,
     "metadata": {},
     "output_type": "execute_result"
    }
   ],
   "source": [
    "particle_mass(\"iron-56+++++++++++++\")"
   ]
  },
  {
   "cell_type": "markdown",
   "id": "d3adf3a6",
   "metadata": {},
   "source": [
    "Most of these functions take additional arguments, with `Z` typically representing the charge number of an ion and `mass_numb` representing the mass number of an isotope. These arguments are *keyword-only* to avoid ambiguity."
   ]
  },
  {
   "cell_type": "code",
   "execution_count": 20,
   "id": "61e0f960",
   "metadata": {},
   "outputs": [
    {
     "data": {
      "text/latex": [
       "$9.2870305 \\times 10^{-26} \\; \\mathrm{kg}$"
      ],
      "text/plain": [
       "<Quantity 9.28703048e-26 kg>"
      ]
     },
     "execution_count": 20,
     "metadata": {},
     "output_type": "execute_result"
    }
   ],
   "source": [
    "particle_mass(\"Fe\", Z=13, mass_numb=56)"
   ]
  },
  {
   "cell_type": "markdown",
   "id": "53a1d993",
   "metadata": {},
   "source": [
    "### Classes"
   ]
  },
  {
   "cell_type": "markdown",
   "id": "3c2c3835",
   "metadata": {},
   "source": [
    "Up until now, we have been using functions that accept representations of particles and then return particle properties. With the `Particle` class, we can create particle *objects*."
   ]
  },
  {
   "cell_type": "code",
   "execution_count": 22,
   "id": "fe9f824a",
   "metadata": {},
   "outputs": [],
   "source": [
    "proton = Particle(\"p+\")\n",
    "electron = Particle(\"electron\")\n",
    "iron56_nuclide = Particle(\"Fe\", Z=26, mass_numb=56)"
   ]
  },
  {
   "cell_type": "markdown",
   "id": "160df55b",
   "metadata": {},
   "source": [
    "After doing that, we can access the properties of these particles as attributes."
   ]
  },
  {
   "cell_type": "code",
   "execution_count": 23,
   "id": "bebcc477",
   "metadata": {},
   "outputs": [
    {
     "data": {
      "text/latex": [
       "$1.6726219 \\times 10^{-27} \\; \\mathrm{kg}$"
      ],
      "text/plain": [
       "<Quantity 1.67262192e-27 kg>"
      ]
     },
     "execution_count": 23,
     "metadata": {},
     "output_type": "execute_result"
    }
   ],
   "source": [
    "proton.mass"
   ]
  },
  {
   "cell_type": "code",
   "execution_count": 24,
   "id": "df0f2eed",
   "metadata": {},
   "outputs": [
    {
     "data": {
      "text/latex": [
       "$-1.6021766 \\times 10^{-19} \\; \\mathrm{C}$"
      ],
      "text/plain": [
       "<Quantity -1.60217663e-19 C>"
      ]
     },
     "execution_count": 24,
     "metadata": {},
     "output_type": "execute_result"
    }
   ],
   "source": [
    "electron.charge"
   ]
  },
  {
   "cell_type": "code",
   "execution_count": 25,
   "id": "116cd6ad",
   "metadata": {},
   "outputs": [
    {
     "data": {
      "text/plain": [
       "-1"
      ]
     },
     "execution_count": 25,
     "metadata": {},
     "output_type": "execute_result"
    }
   ],
   "source": [
    "electron.charge_number"
   ]
  },
  {
   "cell_type": "code",
   "execution_count": 26,
   "id": "99d22bd3",
   "metadata": {},
   "outputs": [
    {
     "data": {
      "text/latex": [
       "$7.8868678 \\times 10^{-11} \\; \\mathrm{J}$"
      ],
      "text/plain": [
       "<Quantity 7.88686781e-11 J>"
      ]
     },
     "execution_count": 26,
     "metadata": {},
     "output_type": "execute_result"
    }
   ],
   "source": [
    "iron56_nuclide.binding_energy"
   ]
  },
  {
   "cell_type": "markdown",
   "id": "8986cef8",
   "metadata": {},
   "source": [
    "We can get antiparticles too.  There's the `antiparticle` attribute, and we can also use a tilde as an invert operator."
   ]
  },
  {
   "cell_type": "code",
   "execution_count": 27,
   "id": "f6663952",
   "metadata": {},
   "outputs": [
    {
     "data": {
      "text/plain": [
       "Particle(\"e+\")"
      ]
     },
     "execution_count": 27,
     "metadata": {},
     "output_type": "execute_result"
    }
   ],
   "source": [
    "electron.antiparticle"
   ]
  },
  {
   "cell_type": "code",
   "execution_count": 28,
   "id": "180a1edf",
   "metadata": {},
   "outputs": [
    {
     "data": {
      "text/plain": [
       "Particle(\"p-\")"
      ]
     },
     "execution_count": 28,
     "metadata": {},
     "output_type": "execute_result"
    }
   ],
   "source": [
    "~proton"
   ]
  },
  {
   "cell_type": "markdown",
   "id": "4c8c2a63",
   "metadata": {},
   "source": [
    "Sometimes we want to use a particle with custom properties.  For that we can use the `CustomParticle` class."
   ]
  },
  {
   "cell_type": "code",
   "execution_count": 41,
   "id": "35b94505",
   "metadata": {},
   "outputs": [],
   "source": [
    "custom_particle = CustomParticle(\n",
    "    9.27e-26 * u.kg, 13.6 * constants.e.si, symbol=\"Fe 13.6+\"\n",
    ")"
   ]
  },
  {
   "cell_type": "code",
   "execution_count": 42,
   "id": "8a4b412b",
   "metadata": {},
   "outputs": [
    {
     "data": {
      "text/latex": [
       "$9.27 \\times 10^{-26} \\; \\mathrm{kg}$"
      ],
      "text/plain": [
       "<Quantity 9.27e-26 kg>"
      ]
     },
     "execution_count": 42,
     "metadata": {},
     "output_type": "execute_result"
    }
   ],
   "source": [
    "custom_particle.mass"
   ]
  },
  {
   "cell_type": "code",
   "execution_count": 43,
   "id": "a2da2b3b",
   "metadata": {},
   "outputs": [
    {
     "data": {
      "text/latex": [
       "$2.1789602 \\times 10^{-18} \\; \\mathrm{C}$"
      ],
      "text/plain": [
       "<Quantity 2.17896022e-18 C>"
      ]
     },
     "execution_count": 43,
     "metadata": {},
     "output_type": "execute_result"
    }
   ],
   "source": [
    "custom_particle.charge"
   ]
  },
  {
   "cell_type": "code",
   "execution_count": 44,
   "id": "ecb450f6",
   "metadata": {},
   "outputs": [
    {
     "data": {
      "text/plain": [
       "'Fe 13.6+'"
      ]
     },
     "execution_count": 44,
     "metadata": {},
     "output_type": "execute_result"
    }
   ],
   "source": [
    "custom_particle.symbol"
   ]
  },
  {
   "cell_type": "markdown",
   "id": "21a992a9",
   "metadata": {},
   "source": [
    "If we do not include one of the physical quantities, it gets set to `numpy.nan` in the appropriate units."
   ]
  },
  {
   "cell_type": "code",
   "execution_count": 47,
   "id": "a31c421a",
   "metadata": {},
   "outputs": [
    {
     "data": {
      "text/latex": [
       "${\\rm NaN} \\; \\mathrm{C}$"
      ],
      "text/plain": [
       "<Quantity nan C>"
      ]
     },
     "execution_count": 47,
     "metadata": {},
     "output_type": "execute_result"
    }
   ],
   "source": [
    "CustomParticle(9.27e-26 * u.kg).charge"
   ]
  },
  {
   "cell_type": "markdown",
   "id": "496bb8ed",
   "metadata": {},
   "source": [
    "When we add `Particle` and/or `CustomParticle` objects together, we get a `ParticleList` that includes all the particles."
   ]
  },
  {
   "cell_type": "code",
   "execution_count": 51,
   "id": "8039dcef",
   "metadata": {},
   "outputs": [
    {
     "data": {
      "text/plain": [
       "ParticleList(['p+', 'e-', 'Fe 13.6+'])"
      ]
     },
     "execution_count": 51,
     "metadata": {},
     "output_type": "execute_result"
    }
   ],
   "source": [
    "proton + electron + custom_particle"
   ]
  },
  {
   "cell_type": "markdown",
   "id": "9f7b9e49",
   "metadata": {},
   "source": [
    "We can use a `ParticleList` to access the properties of multiple particles at once."
   ]
  },
  {
   "cell_type": "code",
   "execution_count": 52,
   "id": "f0c80aca",
   "metadata": {},
   "outputs": [],
   "source": [
    "iron_ions = ParticleList([\"Fe 12+\", \"Fe 13+\", \"Fe 14+\"])"
   ]
  },
  {
   "cell_type": "code",
   "execution_count": 53,
   "id": "28e92257",
   "metadata": {},
   "outputs": [
    {
     "data": {
      "text/latex": [
       "$[9.2721873 \\times 10^{-26},~9.2720962 \\times 10^{-26},~9.2720051 \\times 10^{-26}] \\; \\mathrm{kg}$"
      ],
      "text/plain": [
       "<Quantity [9.27218729e-26, 9.27209620e-26, 9.27200510e-26] kg>"
      ]
     },
     "execution_count": 53,
     "metadata": {},
     "output_type": "execute_result"
    }
   ],
   "source": [
    "iron_ions.mass"
   ]
  },
  {
   "cell_type": "code",
   "execution_count": 54,
   "id": "f8e64224",
   "metadata": {},
   "outputs": [
    {
     "data": {
      "text/latex": [
       "$[1.922612 \\times 10^{-18},~2.0828296 \\times 10^{-18},~2.2430473 \\times 10^{-18}] \\; \\mathrm{C}$"
      ],
      "text/plain": [
       "<Quantity [1.92261196e-18, 2.08282962e-18, 2.24304729e-18] C>"
      ]
     },
     "execution_count": 54,
     "metadata": {},
     "output_type": "execute_result"
    }
   ],
   "source": [
    "iron_ions.charge"
   ]
  },
  {
   "cell_type": "code",
   "execution_count": 55,
   "id": "e86ce789",
   "metadata": {},
   "outputs": [
    {
     "data": {
      "text/plain": [
       "['Fe 12+', 'Fe 13+', 'Fe 14+']"
      ]
     },
     "execution_count": 55,
     "metadata": {},
     "output_type": "execute_result"
    }
   ],
   "source": [
    "iron_ions.symbols"
   ]
  },
  {
   "cell_type": "markdown",
   "id": "efe199c8",
   "metadata": {},
   "source": [
    "### Nuclear reactions"
   ]
  },
  {
   "cell_type": "markdown",
   "id": "58fb006b",
   "metadata": {},
   "source": [
    "We can use `plasmapy.particles` to calculate the energy of a nuclear reaction.  To do this, we redefined the `>` operator."
   ]
  },
  {
   "cell_type": "code",
   "execution_count": 58,
   "id": "d8a9ab9e",
   "metadata": {},
   "outputs": [],
   "source": [
    "deuteron = Particle(\"D+\")\n",
    "triton = Particle(\"T+\")\n",
    "alpha = Particle(\"α\")\n",
    "neutron = Particle(\"n\")"
   ]
  },
  {
   "cell_type": "code",
   "execution_count": 60,
   "id": "cb95c644",
   "metadata": {},
   "outputs": [],
   "source": [
    "energy = deuteron + triton > alpha + neutron"
   ]
  },
  {
   "cell_type": "code",
   "execution_count": 62,
   "id": "e7a4c236",
   "metadata": {},
   "outputs": [
    {
     "data": {
      "text/latex": [
       "$17.589253 \\; \\mathrm{MeV}$"
      ],
      "text/plain": [
       "<Quantity 17.58925276 MeV>"
      ]
     },
     "execution_count": 62,
     "metadata": {},
     "output_type": "execute_result"
    }
   ],
   "source": [
    "energy.to(\"MeV\")"
   ]
  },
  {
   "cell_type": "code",
   "execution_count": null,
   "id": "61fc88f0",
   "metadata": {},
   "outputs": [],
   "source": []
  }
 ],
 "metadata": {
  "kernelspec": {
   "display_name": "Python 3 (ipykernel)",
   "language": "python",
   "name": "python3"
  },
  "language_info": {
   "codemirror_mode": {
    "name": "ipython",
    "version": 3
   },
   "file_extension": ".py",
   "mimetype": "text/x-python",
   "name": "python",
   "nbconvert_exporter": "python",
   "pygments_lexer": "ipython3",
   "version": "3.9.4"
  }
 },
 "nbformat": 4,
 "nbformat_minor": 5
}
