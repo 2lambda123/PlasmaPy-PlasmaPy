{
 "cells": [
  {
   "cell_type": "markdown",
   "id": "43ca7731",
   "metadata": {},
   "source": [
    "# Units and Particles"
   ]
  },
  {
   "cell_type": "markdown",
   "id": "c81d2924",
   "metadata": {},
   "source": [
    "This notebook introduces some of the most commonly used functionality when working with PlasmaPy..."
   ]
  },
  {
   "cell_type": "markdown",
   "id": "5bad1997",
   "metadata": {},
   "source": [
    "## Working with units"
   ]
  },
  {
   "cell_type": "markdown",
   "id": "fcc38891",
   "metadata": {},
   "source": [
    "The `astropy.units` subpackage is..."
   ]
  },
  {
   "cell_type": "code",
   "execution_count": null,
   "id": "3a32da01",
   "metadata": {},
   "outputs": [],
   "source": [
    "import astropy.units as u"
   ]
  },
  {
   "cell_type": "code",
   "execution_count": null,
   "id": "e90ce51a",
   "metadata": {},
   "outputs": [],
   "source": []
  },
  {
   "cell_type": "markdown",
   "id": "4e410079",
   "metadata": {},
   "source": [
    "## Working with particles"
   ]
  },
  {
   "cell_type": "markdown",
   "id": "d1284fb7",
   "metadata": {},
   "source": [
    "The `plasmapy.particles` subpackage is..."
   ]
  },
  {
   "cell_type": "code",
   "execution_count": null,
   "id": "a9100a36",
   "metadata": {},
   "outputs": [],
   "source": [
    "from plasmapy import particles"
   ]
  },
  {
   "cell_type": "code",
   "execution_count": null,
   "id": "c2e6a73a",
   "metadata": {},
   "outputs": [],
   "source": []
  }
 ],
 "metadata": {
  "kernelspec": {
   "display_name": "Python 3 (ipykernel)",
   "language": "python",
   "name": "python3"
  },
  "language_info": {
   "codemirror_mode": {
    "name": "ipython",
    "version": 3
   },
   "file_extension": ".py",
   "mimetype": "text/x-python",
   "name": "python",
   "nbconvert_exporter": "python",
   "pygments_lexer": "ipython3",
   "version": "3.9.4"
  }
 },
 "nbformat": 4,
 "nbformat_minor": 5
}
