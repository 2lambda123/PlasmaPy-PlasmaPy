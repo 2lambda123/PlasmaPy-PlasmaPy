{
 "cells": [
  {
   "cell_type": "markdown",
   "id": "9361ef47",
   "metadata": {},
   "source": [
    "# Units and Particles"
   ]
  },
  {
   "cell_type": "markdown",
   "id": "06486480",
   "metadata": {},
   "source": [
    "This notebook introduces some of the most commonly used functionality when working with PlasmaPy..."
   ]
  },
  {
   "cell_type": "markdown",
   "id": "9456b677",
   "metadata": {},
   "source": [
    "## Working with units"
   ]
  },
  {
   "cell_type": "markdown",
   "id": "fe701ee9",
   "metadata": {},
   "source": [
    "The `astropy.units` subpackage is..."
   ]
  },
  {
   "cell_type": "code",
   "execution_count": 3,
   "id": "a7d8b612",
   "metadata": {},
   "outputs": [],
   "source": [
    "import astropy.units as u"
   ]
  },
  {
   "cell_type": "code",
   "execution_count": null,
   "id": "82d517a5",
   "metadata": {},
   "outputs": [],
   "source": []
  },
  {
   "cell_type": "markdown",
   "id": "4fa359a0",
   "metadata": {},
   "source": [
    "## Working with particles"
   ]
  },
  {
   "cell_type": "markdown",
   "id": "fc50968d",
   "metadata": {},
   "source": [
    "The `plasmapy.particles` subpackage is..."
   ]
  },
  {
   "cell_type": "code",
   "execution_count": null,
   "id": "2de29cc5",
   "metadata": {},
   "outputs": [],
   "source": [
    "import plasmapy.particles as prt"
   ]
  }
 ],
 "metadata": {
  "kernelspec": {
   "display_name": "Python 3 (ipykernel)",
   "language": "python",
   "name": "python3"
  },
  "language_info": {
   "codemirror_mode": {
    "name": "ipython",
    "version": 3
   },
   "file_extension": ".py",
   "mimetype": "text/x-python",
   "name": "python",
   "nbconvert_exporter": "python",
   "pygments_lexer": "ipython3",
   "version": "3.9.4"
  }
 },
 "nbformat": 4,
 "nbformat_minor": 5
}
