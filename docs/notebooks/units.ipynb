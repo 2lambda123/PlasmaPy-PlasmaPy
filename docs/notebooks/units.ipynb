{
 "cells": [
  {
   "cell_type": "markdown",
   "id": "6e8f0d92",
   "metadata": {},
   "source": [
    "# Units and Particles"
   ]
  },
  {
   "cell_type": "markdown",
   "id": "08e138a0",
   "metadata": {},
   "source": [
    "This notebook introduces some of the most commonly used functionality when working with PlasmaPy..."
   ]
  },
  {
   "cell_type": "markdown",
   "id": "d3b12077",
   "metadata": {},
   "source": [
    "## Units"
   ]
  },
  {
   "cell_type": "markdown",
   "id": "c4345f02",
   "metadata": {},
   "source": [
    "In scientific programming, it is common to represent physical quantities as numbers."
   ]
  },
  {
   "cell_type": "code",
   "execution_count": null,
   "id": "f972590b",
   "metadata": {},
   "outputs": [],
   "source": [
    "distance_in_miles = 5\n",
    "time_in_hours = 60\n",
    "velocity_in_mph = distance_in_miles / time_in_hours"
   ]
  },
  {
   "cell_type": "markdown",
   "id": "cba4bfd7",
   "metadata": {},
   "source": [
    "Representing physical quantities as numbers comes with some risks, such as accidentally performing operations with different units like `time_in_seconds + time_in_hours` or incompatible units like `length + time`."
   ]
  },
  {
   "cell_type": "markdown",
   "id": "c5457e25",
   "metadata": {},
   "source": [
    "To avoid situations like this, we can use `astropy.units`. It's standard to import this subpackage as `u`."
   ]
  },
  {
   "cell_type": "code",
   "execution_count": null,
   "id": "7e367b35",
   "metadata": {},
   "outputs": [],
   "source": [
    "import astropy.units as u"
   ]
  },
  {
   "cell_type": "markdown",
   "id": "e9ccbb06",
   "metadata": {},
   "source": [
    "We can combine a number with a unit by multiplying them together."
   ]
  },
  {
   "cell_type": "code",
   "execution_count": null,
   "id": "8437650a",
   "metadata": {},
   "outputs": [],
   "source": [
    "distance = 8 * u.km"
   ]
  },
  {
   "cell_type": "markdown",
   "id": "ccc6659f",
   "metadata": {},
   "source": [
    "The `distance` object that we created is a `Quantity` that combines a number (or array of numbers) with a physical unit."
   ]
  },
  {
   "cell_type": "code",
   "execution_count": null,
   "id": "a6354b93",
   "metadata": {},
   "outputs": [],
   "source": [
    "type(distance)"
   ]
  },
  {
   "cell_type": "markdown",
   "id": "a60e9ea9",
   "metadata": {},
   "source": [
    "Operations between `Quantity` objects handle unit operations automatically."
   ]
  },
  {
   "cell_type": "code",
   "execution_count": null,
   "id": "c36788db",
   "metadata": {},
   "outputs": [],
   "source": [
    "time = 60 * u.hr\n",
    "velocity = distance / time\n",
    "print(velocity)"
   ]
  },
  {
   "cell_type": "markdown",
   "id": "b910a84b",
   "metadata": {},
   "source": [
    "We can convert a `Quantity` to different units using the `.to` method of a `Quantity`. This method accepts strings that represent a unit (including compound units) or a unit object."
   ]
  },
  {
   "cell_type": "code",
   "execution_count": null,
   "id": "80f4f133",
   "metadata": {},
   "outputs": [],
   "source": [
    "velocity.to(\"m/s\")"
   ]
  },
  {
   "cell_type": "code",
   "execution_count": null,
   "id": "21c46ef1",
   "metadata": {},
   "outputs": [],
   "source": [
    "velocity.to(u.m / u.s)"
   ]
  },
  {
   "cell_type": "markdown",
   "id": "c1e742ca",
   "metadata": {},
   "source": [
    "The `.si` and `.cgs` attributes provide the `Quantity` in SI or CGS units, respectively."
   ]
  },
  {
   "cell_type": "code",
   "execution_count": null,
   "id": "02bda4d2",
   "metadata": {},
   "outputs": [],
   "source": [
    "velocity.si"
   ]
  },
  {
   "cell_type": "code",
   "execution_count": null,
   "id": "560a0cfe",
   "metadata": {},
   "outputs": [],
   "source": [
    "velocity.cgs"
   ]
  },
  {
   "cell_type": "markdown",
   "id": "0bf1220a",
   "metadata": {},
   "source": [
    "We can add two `Quantity` objects together if they have different units, as long as they have compatible physical types."
   ]
  },
  {
   "cell_type": "code",
   "execution_count": null,
   "id": "1ac6484b",
   "metadata": {},
   "outputs": [],
   "source": [
    "1 * u.m + 1 * u.cm"
   ]
  },
  {
   "cell_type": "markdown",
   "id": "8b37659f",
   "metadata": {},
   "source": [
    "When we attempt operations with physically incompatible units, an exception is raised. This helps us prevent common errors."
   ]
  },
  {
   "cell_type": "code",
   "execution_count": null,
   "id": "c9a40ff5",
   "metadata": {},
   "outputs": [],
   "source": [
    "3 * u.m + 3 * u.s"
   ]
  },
  {
   "cell_type": "markdown",
   "id": "67eee358",
   "metadata": {},
   "source": [
    "We can create dimensionless `Quantity` objects too."
   ]
  },
  {
   "cell_type": "code",
   "execution_count": null,
   "id": "aa30f4e6",
   "metadata": {},
   "outputs": [],
   "source": [
    "3 * u.dimensionless_unscaled"
   ]
  },
  {
   "cell_type": "markdown",
   "id": "4f52643b",
   "metadata": {},
   "source": [
    "We can use `astropy.units` to help create recipes with ridiculous units."
   ]
  },
  {
   "cell_type": "code",
   "execution_count": null,
   "id": "71b3bfa1",
   "metadata": {},
   "outputs": [],
   "source": [
    "volume = u.barn * u.Mpc\n",
    "volume.to(u.imperial.tsp)"
   ]
  },
  {
   "cell_type": "markdown",
   "id": "07c3b9c1",
   "metadata": {},
   "source": [
    "It is common for plasma physicists to use electron-volts (eV) as units of temperature, or rather as the temperature divided by the Boltzmann constant. When working with a units package, this can cause some problems.  To handle this, `astropy.units` has built-in *equivalencies*. "
   ]
  },
  {
   "cell_type": "code",
   "execution_count": null,
   "id": "afac5b4a",
   "metadata": {},
   "outputs": [],
   "source": [
    "thermal_energy_per_particle = 1 * u.eV\n",
    "thermal_energy_per_particle.to(\"K\", equivalencies=u.temperature_energy())"
   ]
  },
  {
   "cell_type": "markdown",
   "id": "b714de6a",
   "metadata": {},
   "source": [
    "We can access most commonly needed physical constants from `astropy.constants`."
   ]
  },
  {
   "cell_type": "code",
   "execution_count": null,
   "id": "746a79a7",
   "metadata": {},
   "outputs": [],
   "source": [
    "from astropy import constants"
   ]
  },
  {
   "cell_type": "code",
   "execution_count": null,
   "id": "f6fcb7fb",
   "metadata": {},
   "outputs": [],
   "source": [
    "constants.c"
   ]
  },
  {
   "cell_type": "code",
   "execution_count": null,
   "id": "d2d59d08",
   "metadata": {},
   "outputs": [],
   "source": [
    "constants.k_B"
   ]
  },
  {
   "cell_type": "markdown",
   "id": "19e178a9",
   "metadata": {},
   "source": [
    "## Working with PlasmaPy particles"
   ]
  },
  {
   "cell_type": "markdown",
   "id": "0c7eeced",
   "metadata": {},
   "source": [
    "The `plasmapy.particles` subpackage is..."
   ]
  },
  {
   "cell_type": "code",
   "execution_count": null,
   "id": "24125310",
   "metadata": {},
   "outputs": [],
   "source": [
    "from plasmapy.particles import *"
   ]
  },
  {
   "cell_type": "markdown",
   "id": "e224284a",
   "metadata": {},
   "source": [
    "### Functions"
   ]
  },
  {
   "cell_type": "markdown",
   "id": "7696deba",
   "metadata": {},
   "source": [
    "There are a few functions that provide us with information about the different particles that show up in plasmas. The input of these functions is a representation of a particle, such as a string for the atomic symbol or the element name."
   ]
  },
  {
   "cell_type": "code",
   "execution_count": null,
   "id": "006b8d3e",
   "metadata": {},
   "outputs": [],
   "source": [
    "atomic_number(\"Fe\")"
   ]
  },
  {
   "cell_type": "code",
   "execution_count": null,
   "id": "8a0af199",
   "metadata": {
    "scrolled": true
   },
   "outputs": [],
   "source": [
    "atomic_symbol(\"oganesson\")"
   ]
  },
  {
   "cell_type": "markdown",
   "id": "2aa5af34",
   "metadata": {},
   "source": [
    "We can provide a number to represent the atomic number."
   ]
  },
  {
   "cell_type": "code",
   "execution_count": null,
   "id": "69958326",
   "metadata": {},
   "outputs": [],
   "source": [
    "element_name(26)"
   ]
  },
  {
   "cell_type": "markdown",
   "id": "cca89cef",
   "metadata": {},
   "source": [
    "We can also use standard symbols or the names of particles."
   ]
  },
  {
   "cell_type": "code",
   "execution_count": null,
   "id": "16ca5b6f",
   "metadata": {},
   "outputs": [],
   "source": [
    "electric_charge(\"p+\")"
   ]
  },
  {
   "cell_type": "code",
   "execution_count": null,
   "id": "35d8e49e",
   "metadata": {},
   "outputs": [],
   "source": [
    "charge_number(\"electron\")"
   ]
  },
  {
   "cell_type": "markdown",
   "id": "e498e01e",
   "metadata": {},
   "source": [
    "We can even use the symbols for many particles directly.  In a Jupyter notebook, type `\\alpha` and press tab to create \"α\"."
   ]
  },
  {
   "cell_type": "code",
   "execution_count": null,
   "id": "493a2d6f",
   "metadata": {},
   "outputs": [],
   "source": [
    "particle_mass(\"α\")"
   ]
  },
  {
   "cell_type": "markdown",
   "id": "8f2e5b30",
   "metadata": {},
   "source": [
    "There is flexibility in how we represent particles, including ions.  "
   ]
  },
  {
   "cell_type": "code",
   "execution_count": null,
   "id": "a65e15da",
   "metadata": {},
   "outputs": [],
   "source": [
    "particle_mass(\"Fe-56 13+\")"
   ]
  },
  {
   "cell_type": "code",
   "execution_count": null,
   "id": "05e03a8b",
   "metadata": {},
   "outputs": [],
   "source": [
    "particle_mass(\"iron-56 +13\")"
   ]
  },
  {
   "cell_type": "code",
   "execution_count": null,
   "id": "0dd9541b",
   "metadata": {},
   "outputs": [],
   "source": [
    "particle_mass(\"iron-56+++++++++++++\")"
   ]
  },
  {
   "cell_type": "markdown",
   "id": "d3adf3a6",
   "metadata": {},
   "source": [
    "Most of these functions take additional arguments, with `Z` typically representing the charge number of an ion and `mass_numb` representing the mass number of an isotope. These arguments are *keyword-only* to avoid ambiguity."
   ]
  },
  {
   "cell_type": "code",
   "execution_count": null,
   "id": "61e0f960",
   "metadata": {},
   "outputs": [],
   "source": [
    "particle_mass(\"Fe\", Z=13, mass_numb=56)"
   ]
  },
  {
   "cell_type": "markdown",
   "id": "53a1d993",
   "metadata": {},
   "source": [
    "### Classes"
   ]
  },
  {
   "cell_type": "markdown",
   "id": "3c2c3835",
   "metadata": {},
   "source": [
    "Up until now, we have been using functions that accept representations of particles and then return particle properties. With the `Particle` class, we can create particle *objects*."
   ]
  },
  {
   "cell_type": "code",
   "execution_count": null,
   "id": "fe9f824a",
   "metadata": {},
   "outputs": [],
   "source": [
    "proton = Particle(\"p+\")\n",
    "electron = Particle(\"electron\")\n",
    "iron56_nuclide = Particle(\"Fe\", Z=26, mass_numb=56)"
   ]
  },
  {
   "cell_type": "markdown",
   "id": "160df55b",
   "metadata": {},
   "source": [
    "After doing that, we can access the properties of these particles as attributes."
   ]
  },
  {
   "cell_type": "code",
   "execution_count": null,
   "id": "bebcc477",
   "metadata": {},
   "outputs": [],
   "source": [
    "proton.mass"
   ]
  },
  {
   "cell_type": "code",
   "execution_count": null,
   "id": "df0f2eed",
   "metadata": {},
   "outputs": [],
   "source": [
    "electron.charge"
   ]
  },
  {
   "cell_type": "code",
   "execution_count": null,
   "id": "116cd6ad",
   "metadata": {},
   "outputs": [],
   "source": [
    "electron.charge_number"
   ]
  },
  {
   "cell_type": "code",
   "execution_count": null,
   "id": "99d22bd3",
   "metadata": {},
   "outputs": [],
   "source": [
    "iron56_nuclide.binding_energy"
   ]
  },
  {
   "cell_type": "markdown",
   "id": "8986cef8",
   "metadata": {},
   "source": [
    "We can get antiparticles too.  There's the `antiparticle` attribute, and we can also use a tilde as an invert operator."
   ]
  },
  {
   "cell_type": "code",
   "execution_count": null,
   "id": "f6663952",
   "metadata": {},
   "outputs": [],
   "source": [
    "electron.antiparticle"
   ]
  },
  {
   "cell_type": "code",
   "execution_count": null,
   "id": "180a1edf",
   "metadata": {},
   "outputs": [],
   "source": [
    "~proton"
   ]
  },
  {
   "cell_type": "markdown",
   "id": "4c8c2a63",
   "metadata": {},
   "source": [
    "Sometimes we want to use a particle with custom properties.  For that we can use the `CustomParticle` class."
   ]
  },
  {
   "cell_type": "code",
   "execution_count": null,
   "id": "35b94505",
   "metadata": {},
   "outputs": [],
   "source": [
    "custom_particle = CustomParticle(\n",
    "    9.27e-26 * u.kg, 13.6 * constants.e.si, symbol=\"Fe 13.6+\"\n",
    ")"
   ]
  },
  {
   "cell_type": "code",
   "execution_count": null,
   "id": "8a4b412b",
   "metadata": {},
   "outputs": [],
   "source": [
    "custom_particle.mass"
   ]
  },
  {
   "cell_type": "code",
   "execution_count": null,
   "id": "a2da2b3b",
   "metadata": {},
   "outputs": [],
   "source": [
    "custom_particle.charge"
   ]
  },
  {
   "cell_type": "code",
   "execution_count": null,
   "id": "ecb450f6",
   "metadata": {},
   "outputs": [],
   "source": [
    "custom_particle.symbol"
   ]
  },
  {
   "cell_type": "markdown",
   "id": "21a992a9",
   "metadata": {},
   "source": [
    "If we do not include one of the physical quantities, it gets set to `numpy.nan` in the appropriate units."
   ]
  },
  {
   "cell_type": "code",
   "execution_count": null,
   "id": "a31c421a",
   "metadata": {},
   "outputs": [],
   "source": [
    "CustomParticle(9.27e-26 * u.kg).charge"
   ]
  },
  {
   "cell_type": "markdown",
   "id": "496bb8ed",
   "metadata": {},
   "source": [
    "When we add `Particle` and/or `CustomParticle` objects together, we get a `ParticleList` that includes all the particles."
   ]
  },
  {
   "cell_type": "code",
   "execution_count": null,
   "id": "8039dcef",
   "metadata": {},
   "outputs": [],
   "source": [
    "proton + electron + custom_particle"
   ]
  },
  {
   "cell_type": "markdown",
   "id": "9f7b9e49",
   "metadata": {},
   "source": [
    "We can use a `ParticleList` to access the properties of multiple particles at once."
   ]
  },
  {
   "cell_type": "code",
   "execution_count": null,
   "id": "f0c80aca",
   "metadata": {},
   "outputs": [],
   "source": [
    "iron_ions = ParticleList([\"Fe 12+\", \"Fe 13+\", \"Fe 14+\"])"
   ]
  },
  {
   "cell_type": "code",
   "execution_count": null,
   "id": "28e92257",
   "metadata": {},
   "outputs": [],
   "source": [
    "iron_ions.mass"
   ]
  },
  {
   "cell_type": "code",
   "execution_count": null,
   "id": "f8e64224",
   "metadata": {},
   "outputs": [],
   "source": [
    "iron_ions.charge"
   ]
  },
  {
   "cell_type": "code",
   "execution_count": null,
   "id": "e86ce789",
   "metadata": {},
   "outputs": [],
   "source": [
    "iron_ions.symbols"
   ]
  },
  {
   "cell_type": "markdown",
   "id": "efe199c8",
   "metadata": {},
   "source": [
    "### Nuclear reactions"
   ]
  },
  {
   "cell_type": "markdown",
   "id": "58fb006b",
   "metadata": {},
   "source": [
    "We can use `plasmapy.particles` to calculate the energy of a nuclear reaction.  To do this, we redefined the `>` operator."
   ]
  },
  {
   "cell_type": "code",
   "execution_count": null,
   "id": "d8a9ab9e",
   "metadata": {},
   "outputs": [],
   "source": [
    "deuteron = Particle(\"D+\")\n",
    "triton = Particle(\"T+\")\n",
    "alpha = Particle(\"α\")\n",
    "neutron = Particle(\"n\")"
   ]
  },
  {
   "cell_type": "code",
   "execution_count": null,
   "id": "cb95c644",
   "metadata": {},
   "outputs": [],
   "source": [
    "energy = deuteron + triton > alpha + neutron"
   ]
  },
  {
   "cell_type": "code",
   "execution_count": null,
   "id": "e7a4c236",
   "metadata": {},
   "outputs": [],
   "source": [
    "energy.to(\"MeV\")"
   ]
  }
 ],
 "metadata": {
  "kernelspec": {
   "display_name": "Python 3 (ipykernel)",
   "language": "python",
   "name": "python3"
  },
  "language_info": {
   "codemirror_mode": {
    "name": "ipython",
    "version": 3
   },
   "file_extension": ".py",
   "mimetype": "text/x-python",
   "name": "python",
   "nbconvert_exporter": "python",
   "pygments_lexer": "ipython3",
   "version": "3.9.4"
  }
 },
 "nbformat": 4,
 "nbformat_minor": 5
}
