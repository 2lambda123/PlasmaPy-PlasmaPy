{
 "cells": [
  {
   "cell_type": "markdown",
   "id": "6e8f0d92",
   "metadata": {},
   "source": [
    "# Units and Constants"
   ]
  },
  {
   "cell_type": "markdown",
   "id": "08e138a0",
   "metadata": {},
   "source": [
    "This notebook introduces some of the most commonly used functionality when working with PlasmaPy..."
   ]
  },
  {
   "cell_type": "markdown",
   "id": "d3b12077",
   "metadata": {},
   "source": [
    "## Units"
   ]
  },
  {
   "cell_type": "markdown",
   "id": "c4345f02",
   "metadata": {},
   "source": [
    "In scientific programming, it is common to represent physical quantities as numbers."
   ]
  },
  {
   "cell_type": "code",
   "execution_count": null,
   "id": "f972590b",
   "metadata": {},
   "outputs": [],
   "source": [
    "distance_in_miles = 5\n",
    "time_in_hours = 60\n",
    "velocity_in_mph = distance_in_miles / time_in_hours"
   ]
  },
  {
   "cell_type": "markdown",
   "id": "cba4bfd7",
   "metadata": {},
   "source": [
    "Representing physical quantities as numbers comes with some risks, such as accidentally performing operations with different units like `time_in_seconds + time_in_hours` or incompatible units like `length + time`."
   ]
  },
  {
   "cell_type": "markdown",
   "id": "c5457e25",
   "metadata": {},
   "source": [
    "To avoid situations like this, we can use `astropy.units`. It's standard to import this subpackage as `u`."
   ]
  },
  {
   "cell_type": "code",
   "execution_count": null,
   "id": "7e367b35",
   "metadata": {},
   "outputs": [],
   "source": [
    "import astropy.units as u"
   ]
  },
  {
   "cell_type": "markdown",
   "id": "e9ccbb06",
   "metadata": {},
   "source": [
    "We can combine a number with a unit by multiplying them together."
   ]
  },
  {
   "cell_type": "code",
   "execution_count": null,
   "id": "8437650a",
   "metadata": {},
   "outputs": [],
   "source": [
    "distance = 8 * u.km"
   ]
  },
  {
   "cell_type": "markdown",
   "id": "ccc6659f",
   "metadata": {},
   "source": [
    "The `distance` object that we created is a `Quantity` that combines a number (or array of numbers) with a physical unit."
   ]
  },
  {
   "cell_type": "code",
   "execution_count": null,
   "id": "a6354b93",
   "metadata": {},
   "outputs": [],
   "source": [
    "type(distance)"
   ]
  },
  {
   "cell_type": "markdown",
   "id": "a60e9ea9",
   "metadata": {},
   "source": [
    "Operations between `Quantity` objects handle unit operations automatically."
   ]
  },
  {
   "cell_type": "code",
   "execution_count": null,
   "id": "c36788db",
   "metadata": {},
   "outputs": [],
   "source": [
    "time = 60 * u.hr\n",
    "velocity = distance / time\n",
    "print(velocity)"
   ]
  },
  {
   "cell_type": "markdown",
   "id": "b910a84b",
   "metadata": {},
   "source": [
    "We can convert a `Quantity` to different units using the `.to` method of a `Quantity`. This method accepts strings that represent a unit (including compound units) or a unit object."
   ]
  },
  {
   "cell_type": "code",
   "execution_count": null,
   "id": "80f4f133",
   "metadata": {},
   "outputs": [],
   "source": [
    "velocity.to(\"m/s\")"
   ]
  },
  {
   "cell_type": "code",
   "execution_count": null,
   "id": "21c46ef1",
   "metadata": {},
   "outputs": [],
   "source": [
    "velocity.to(u.m / u.s)"
   ]
  },
  {
   "cell_type": "markdown",
   "id": "c1e742ca",
   "metadata": {},
   "source": [
    "The `.si` and `.cgs` attributes provide the `Quantity` in SI or CGS units, respectively."
   ]
  },
  {
   "cell_type": "code",
   "execution_count": null,
   "id": "02bda4d2",
   "metadata": {},
   "outputs": [],
   "source": [
    "velocity.si"
   ]
  },
  {
   "cell_type": "code",
   "execution_count": null,
   "id": "560a0cfe",
   "metadata": {},
   "outputs": [],
   "source": [
    "velocity.cgs"
   ]
  },
  {
   "cell_type": "markdown",
   "id": "0bf1220a",
   "metadata": {},
   "source": [
    "We can add two `Quantity` objects together if they have different units, as long as they have compatible physical types."
   ]
  },
  {
   "cell_type": "code",
   "execution_count": null,
   "id": "1ac6484b",
   "metadata": {},
   "outputs": [],
   "source": [
    "1 * u.m + 1 * u.cm"
   ]
  },
  {
   "cell_type": "markdown",
   "id": "8b37659f",
   "metadata": {},
   "source": [
    "When we attempt operations with physically incompatible units, an exception is raised. This helps us prevent common errors."
   ]
  },
  {
   "cell_type": "code",
   "execution_count": null,
   "id": "c9a40ff5",
   "metadata": {},
   "outputs": [],
   "source": [
    "3 * u.m + 3 * u.s"
   ]
  },
  {
   "cell_type": "markdown",
   "id": "67eee358",
   "metadata": {},
   "source": [
    "We can create dimensionless `Quantity` objects too."
   ]
  },
  {
   "cell_type": "code",
   "execution_count": null,
   "id": "aa30f4e6",
   "metadata": {},
   "outputs": [],
   "source": [
    "3 * u.dimensionless_unscaled"
   ]
  },
  {
   "cell_type": "markdown",
   "id": "4f52643b",
   "metadata": {},
   "source": [
    "We can use `astropy.units` to help create recipes with ridiculous units."
   ]
  },
  {
   "cell_type": "code",
   "execution_count": null,
   "id": "71b3bfa1",
   "metadata": {},
   "outputs": [],
   "source": [
    "volume = u.barn * u.Mpc\n",
    "volume.to(u.imperial.tsp)"
   ]
  },
  {
   "cell_type": "markdown",
   "id": "07c3b9c1",
   "metadata": {},
   "source": [
    "It is common for plasma physicists to use electron-volts (eV) as units of temperature, or rather as the temperature divided by the Boltzmann constant. When working with a units package, this can cause some problems.  To handle this, `astropy.units` has built-in *equivalencies*. "
   ]
  },
  {
   "cell_type": "code",
   "execution_count": null,
   "id": "afac5b4a",
   "metadata": {},
   "outputs": [],
   "source": [
    "thermal_energy_per_particle = 1 * u.eV\n",
    "thermal_energy_per_particle.to(\"K\", equivalencies=u.temperature_energy())"
   ]
  },
  {
   "cell_type": "markdown",
   "id": "0a367ca3",
   "metadata": {},
   "source": [
    "## Contants"
   ]
  },
  {
   "cell_type": "markdown",
   "id": "b714de6a",
   "metadata": {},
   "source": [
    "We can access most commonly needed physical constants from `astropy.constants`."
   ]
  },
  {
   "cell_type": "code",
   "execution_count": null,
   "id": "746a79a7",
   "metadata": {},
   "outputs": [],
   "source": [
    "from astropy import constants"
   ]
  },
  {
   "cell_type": "code",
   "execution_count": null,
   "id": "f6fcb7fb",
   "metadata": {},
   "outputs": [],
   "source": [
    "constants.c"
   ]
  },
  {
   "cell_type": "code",
   "execution_count": null,
   "id": "d2d59d08",
   "metadata": {},
   "outputs": [],
   "source": [
    "constants.k_B"
   ]
  }
 ],
 "metadata": {
  "kernelspec": {
   "display_name": "Python 3 (ipykernel)",
   "language": "python",
   "name": "python3"
  },
  "language_info": {
   "codemirror_mode": {
    "name": "ipython",
    "version": 3
   },
   "file_extension": ".py",
   "mimetype": "text/x-python",
   "name": "python",
   "nbconvert_exporter": "python",
   "pygments_lexer": "ipython3",
   "version": "3.9.4"
  }
 },
 "nbformat": 4,
 "nbformat_minor": 5
}
