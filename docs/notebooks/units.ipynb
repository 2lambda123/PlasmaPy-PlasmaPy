{
 "cells": [
  {
   "cell_type": "markdown",
   "id": "6e8f0d92",
   "metadata": {},
   "source": [
    "# Units\n",
    "\n",
    "[`astropy.units`]: https://docs.astropy.org/en/stable/units/index.html\n",
    "\n",
    "This notebook introduces [`astropy.units`] with an emphasis on the functionality needed to work with [`plasmapy.particles`], [`plasmapy.formulary`], and other PlasmaPy subpackages."
   ]
  },
  {
   "cell_type": "markdown",
   "id": "5ee04dbb",
   "metadata": {},
   "source": [
    "## Getting started with `astropy.units`"
   ]
  },
  {
   "cell_type": "markdown",
   "id": "c4345f02",
   "metadata": {},
   "source": [
    "In scientific programming, it is common to represent physical quantities as numbers."
   ]
  },
  {
   "cell_type": "code",
   "execution_count": 17,
   "id": "f972590b",
   "metadata": {},
   "outputs": [
    {
     "name": "stdout",
     "output_type": "stream",
     "text": [
      "25.0\n"
     ]
    }
   ],
   "source": [
    "distance_in_miles = 50\n",
    "time_in_hours = 2\n",
    "velocity_in_mph = distance_in_miles / time_in_hours\n",
    "print(velocity_in_mph)"
   ]
  },
  {
   "cell_type": "markdown",
   "id": "cba4bfd7",
   "metadata": {},
   "source": [
    "However, this comes with some risks. We might accidentally perform operations with different units like `time_in_seconds + time_in_hours`. We might even accidentally perform operations with physically incompatible units like `length + time`."
   ]
  },
  {
   "cell_type": "markdown",
   "id": "1c9ccdc4",
   "metadata": {},
   "source": [
    "[`astropy.units`]: https://docs.astropy.org/en/stable/units/index.html\n",
    "\n",
    "To avoid situations like this, we can use [`astropy.units`]. This subpackage is usually imported as `u`."
   ]
  },
  {
   "cell_type": "code",
   "execution_count": 18,
   "id": "7e367b35",
   "metadata": {},
   "outputs": [],
   "source": [
    "import astropy.units as u"
   ]
  },
  {
   "cell_type": "markdown",
   "id": "e9ccbb06",
   "metadata": {},
   "source": [
    "Instead of using a number to represent a physical quantity, we multiply that number with a unit."
   ]
  },
  {
   "cell_type": "code",
   "execution_count": 19,
   "id": "8437650a",
   "metadata": {},
   "outputs": [
    {
     "name": "stdout",
     "output_type": "stream",
     "text": [
      "80.0 km\n"
     ]
    }
   ],
   "source": [
    "distance = 80 * u.km\n",
    "print(distance)"
   ]
  },
  {
   "cell_type": "markdown",
   "id": "ccc6659f",
   "metadata": {},
   "source": [
    "[`Quantity`]: https://docs.astropy.org/en/stable/api/astropy.units.Quantity.html#astropy.units.Quantity\n",
    "\n",
    "This operation creates a [`Quantity`]: a number, sequency, or array with a physical unit."
   ]
  },
  {
   "cell_type": "code",
   "execution_count": 20,
   "id": "a6354b93",
   "metadata": {},
   "outputs": [
    {
     "data": {
      "text/plain": [
       "astropy.units.quantity.Quantity"
      ]
     },
     "execution_count": 20,
     "metadata": {},
     "output_type": "execute_result"
    }
   ],
   "source": [
    "type(distance)"
   ]
  },
  {
   "cell_type": "markdown",
   "id": "a60e9ea9",
   "metadata": {},
   "source": [
    "[`Quantity`]: https://docs.astropy.org/en/stable/api/astropy.units.Quantity.html#astropy.units.Quantity\n",
    "\n",
    "Operations between [`Quantity`] objects handle the unit conversions automatically.  We can add two `Quantity` objects together if they have different units, as long as they have compatible physical types."
   ]
  },
  {
   "cell_type": "code",
   "execution_count": 25,
   "id": "65e08284",
   "metadata": {},
   "outputs": [
    {
     "data": {
      "text/latex": [
       "$1.02 \\; \\mathrm{m}$"
      ],
      "text/plain": [
       "<Quantity 1.02 m>"
      ]
     },
     "execution_count": 25,
     "metadata": {},
     "output_type": "execute_result"
    }
   ],
   "source": [
    "1 * u.m + 2 * u.cm"
   ]
  },
  {
   "cell_type": "markdown",
   "id": "edb43067",
   "metadata": {},
   "source": [
    "[`Quantity`]: https://docs.astropy.org/en/stable/api/astropy.units.Quantity.html#astropy.units.Quantity\n",
    "\n",
    "We can create [`Quantity`] objects with compound units."
   ]
  },
  {
   "cell_type": "code",
   "execution_count": 26,
   "id": "c36788db",
   "metadata": {},
   "outputs": [
    {
     "name": "stdout",
     "output_type": "stream",
     "text": [
      "40.0 km / h\n"
     ]
    }
   ],
   "source": [
    "time = 2 * u.hr\n",
    "velocity = distance / time\n",
    "print(velocity)"
   ]
  },
  {
   "cell_type": "markdown",
   "id": "ac7a916e",
   "metadata": {},
   "source": [
    "We can create dimensionless `Quantity` objects too."
   ]
  },
  {
   "cell_type": "code",
   "execution_count": null,
   "id": "8cde5f7b",
   "metadata": {},
   "outputs": [],
   "source": [
    "3 * u.dimensionless_unscaled"
   ]
  },
  {
   "cell_type": "markdown",
   "id": "b910a84b",
   "metadata": {},
   "source": [
    "[`Quantity`]: https://docs.astropy.org/en/stable/api/astropy.units.Quantity.html#astropy.units.Quantity\n",
    "[`.to`]: https://docs.astropy.org/en/stable/api/astropy.units.Quantity.html#astropy.units.Quantity.to\n",
    "\n",
    "If we want to convert a [`Quantity`] to different units, we can use its [`.to`] method. This method accepts strings that represent a unit (including compound units) or a unit object."
   ]
  },
  {
   "cell_type": "code",
   "execution_count": null,
   "id": "80f4f133",
   "metadata": {},
   "outputs": [],
   "source": [
    "velocity.to(\"m/s\")"
   ]
  },
  {
   "cell_type": "code",
   "execution_count": null,
   "id": "21c46ef1",
   "metadata": {},
   "outputs": [],
   "source": [
    "velocity.to(u.m / u.s)"
   ]
  },
  {
   "cell_type": "markdown",
   "id": "c1e742ca",
   "metadata": {},
   "source": [
    "[`Quantity`]: https://docs.astropy.org/en/stable/api/astropy.units.Quantity.html#astropy.units.Quantity\n",
    "[`.si`]: https://docs.astropy.org/en/stable/api/astropy.units.Quantity.html#astropy.units.Quantity.si\n",
    "[`.cgs`]: https://docs.astropy.org/en/stable/api/astropy.units.Quantity.html#astropy.units.Quantity.cgs\n",
    "\n",
    "The [`.si`] and [`.cgs`] attributes convert the [`Quantity`] to SI or CGS units, respectively."
   ]
  },
  {
   "cell_type": "code",
   "execution_count": 22,
   "id": "02bda4d2",
   "metadata": {},
   "outputs": [
    {
     "data": {
      "text/latex": [
       "$11.111111 \\; \\mathrm{\\frac{m}{s}}$"
      ],
      "text/plain": [
       "<Quantity 11.11111111 m / s>"
      ]
     },
     "execution_count": 22,
     "metadata": {},
     "output_type": "execute_result"
    }
   ],
   "source": [
    "velocity.si"
   ]
  },
  {
   "cell_type": "code",
   "execution_count": 23,
   "id": "560a0cfe",
   "metadata": {},
   "outputs": [
    {
     "data": {
      "text/latex": [
       "$1111.1111 \\; \\mathrm{\\frac{cm}{s}}$"
      ],
      "text/plain": [
       "<Quantity 1111.11111111 cm / s>"
      ]
     },
     "execution_count": 23,
     "metadata": {},
     "output_type": "execute_result"
    }
   ],
   "source": [
    "velocity.cgs"
   ]
  },
  {
   "cell_type": "markdown",
   "id": "8b37659f",
   "metadata": {},
   "source": [
    "Attempting an operation between physically incompatible units gives us an error, which we can use to find bugs in our code."
   ]
  },
  {
   "cell_type": "code",
   "execution_count": null,
   "id": "c9a40ff5",
   "metadata": {},
   "outputs": [],
   "source": [
    "3 * u.m + 3 * u.s"
   ]
  },
  {
   "cell_type": "markdown",
   "id": "be0c5349",
   "metadata": {},
   "source": [
    "## Equivalencies"
   ]
  },
  {
   "cell_type": "markdown",
   "id": "07c3b9c1",
   "metadata": {},
   "source": [
    "Plasma scientists often use electron-volts (eV) as units of temperature, or more accurately, to describe the thermal energy per particle. However, we cannot convert eV to K because an eV is a unit of energy rather than temperature."
   ]
  },
  {
   "cell_type": "code",
   "execution_count": 27,
   "id": "6b6fafd6",
   "metadata": {},
   "outputs": [
    {
     "ename": "UnitConversionError",
     "evalue": "'eV' (energy/torque/work) and 'K' (temperature) are not convertible",
     "output_type": "error",
     "traceback": [
      "\u001b[0;31m---------------------------------------------------------------------------\u001b[0m",
      "\u001b[0;31mUnitConversionError\u001b[0m                       Traceback (most recent call last)",
      "\u001b[0;32m/tmp/ipykernel_40629/3112342201.py\u001b[0m in \u001b[0;36m<module>\u001b[0;34m\u001b[0m\n\u001b[0;32m----> 1\u001b[0;31m \u001b[0mu\u001b[0m\u001b[0;34m.\u001b[0m\u001b[0meV\u001b[0m\u001b[0;34m.\u001b[0m\u001b[0mto\u001b[0m\u001b[0;34m(\u001b[0m\u001b[0;34m'K'\u001b[0m\u001b[0;34m)\u001b[0m\u001b[0;34m\u001b[0m\u001b[0;34m\u001b[0m\u001b[0m\n\u001b[0m",
      "\u001b[0;32m~/.miniconda/lib/python3.9/site-packages/astropy/units/core.py\u001b[0m in \u001b[0;36mto\u001b[0;34m(self, other, value, equivalencies)\u001b[0m\n\u001b[1;32m   1133\u001b[0m             \u001b[0;32mreturn\u001b[0m \u001b[0mUNITY\u001b[0m\u001b[0;34m\u001b[0m\u001b[0;34m\u001b[0m\u001b[0m\n\u001b[1;32m   1134\u001b[0m         \u001b[0;32melse\u001b[0m\u001b[0;34m:\u001b[0m\u001b[0;34m\u001b[0m\u001b[0;34m\u001b[0m\u001b[0m\n\u001b[0;32m-> 1135\u001b[0;31m             return self._get_converter(Unit(other),\n\u001b[0m\u001b[1;32m   1136\u001b[0m                                        equivalencies=equivalencies)(value)\n\u001b[1;32m   1137\u001b[0m \u001b[0;34m\u001b[0m\u001b[0m\n",
      "\u001b[0;32m~/.miniconda/lib/python3.9/site-packages/astropy/units/core.py\u001b[0m in \u001b[0;36m_get_converter\u001b[0;34m(self, other, equivalencies)\u001b[0m\n\u001b[1;32m   1064\u001b[0m                             \u001b[0;32mpass\u001b[0m\u001b[0;34m\u001b[0m\u001b[0;34m\u001b[0m\u001b[0m\n\u001b[1;32m   1065\u001b[0m \u001b[0;34m\u001b[0m\u001b[0m\n\u001b[0;32m-> 1066\u001b[0;31m             \u001b[0;32mraise\u001b[0m \u001b[0mexc\u001b[0m\u001b[0;34m\u001b[0m\u001b[0;34m\u001b[0m\u001b[0m\n\u001b[0m\u001b[1;32m   1067\u001b[0m \u001b[0;34m\u001b[0m\u001b[0m\n\u001b[1;32m   1068\u001b[0m     \u001b[0;32mdef\u001b[0m \u001b[0m_to\u001b[0m\u001b[0;34m(\u001b[0m\u001b[0mself\u001b[0m\u001b[0;34m,\u001b[0m \u001b[0mother\u001b[0m\u001b[0;34m)\u001b[0m\u001b[0;34m:\u001b[0m\u001b[0;34m\u001b[0m\u001b[0;34m\u001b[0m\u001b[0m\n",
      "\u001b[0;32m~/.miniconda/lib/python3.9/site-packages/astropy/units/core.py\u001b[0m in \u001b[0;36m_get_converter\u001b[0;34m(self, other, equivalencies)\u001b[0m\n\u001b[1;32m   1049\u001b[0m         \u001b[0;31m# if that doesn't work, maybe we can do it with equivalencies?\u001b[0m\u001b[0;34m\u001b[0m\u001b[0;34m\u001b[0m\u001b[0;34m\u001b[0m\u001b[0m\n\u001b[1;32m   1050\u001b[0m         \u001b[0;32mtry\u001b[0m\u001b[0;34m:\u001b[0m\u001b[0;34m\u001b[0m\u001b[0;34m\u001b[0m\u001b[0m\n\u001b[0;32m-> 1051\u001b[0;31m             return self._apply_equivalencies(\n\u001b[0m\u001b[1;32m   1052\u001b[0m                 self, other, self._normalize_equivalencies(equivalencies))\n\u001b[1;32m   1053\u001b[0m         \u001b[0;32mexcept\u001b[0m \u001b[0mUnitsError\u001b[0m \u001b[0;32mas\u001b[0m \u001b[0mexc\u001b[0m\u001b[0;34m:\u001b[0m\u001b[0;34m\u001b[0m\u001b[0;34m\u001b[0m\u001b[0m\n",
      "\u001b[0;32m~/.miniconda/lib/python3.9/site-packages/astropy/units/core.py\u001b[0m in \u001b[0;36m_apply_equivalencies\u001b[0;34m(self, unit, other, equivalencies)\u001b[0m\n\u001b[1;32m   1025\u001b[0m         \u001b[0mother_str\u001b[0m \u001b[0;34m=\u001b[0m \u001b[0mget_err_str\u001b[0m\u001b[0;34m(\u001b[0m\u001b[0mother\u001b[0m\u001b[0;34m)\u001b[0m\u001b[0;34m\u001b[0m\u001b[0;34m\u001b[0m\u001b[0m\n\u001b[1;32m   1026\u001b[0m \u001b[0;34m\u001b[0m\u001b[0m\n\u001b[0;32m-> 1027\u001b[0;31m         raise UnitConversionError(\n\u001b[0m\u001b[1;32m   1028\u001b[0m             f\"{unit_str} and {other_str} are not convertible\")\n\u001b[1;32m   1029\u001b[0m \u001b[0;34m\u001b[0m\u001b[0m\n",
      "\u001b[0;31mUnitConversionError\u001b[0m: 'eV' (energy/torque/work) and 'K' (temperature) are not convertible"
     ]
    }
   ],
   "source": [
    "u.eV.to(\"K\")"
   ]
  },
  {
   "cell_type": "markdown",
   "id": "9299c8a1",
   "metadata": {},
   "source": [
    "[`astropy.units`]: https://docs.astropy.org/en/stable/units/index.html\n",
    "[equivalencies]: https://docs.astropy.org/en/stable/units/equivalencies.html\n",
    "[`u.temperature_energy()`]: https://docs.astropy.org/en/stable/units/equivalencies.html#temperature-energy-equivalency\n",
    "\n",
    "To handle situations like this, [`astropy.units`] has built-in [equivalencies]. The conversion from eV to K can be done by using the [`u.temperature_energy()`] equivalency."
   ]
  },
  {
   "cell_type": "code",
   "execution_count": 42,
   "id": "afac5b4a",
   "metadata": {},
   "outputs": [
    {
     "data": {
      "text/latex": [
       "$11604.518 \\; \\mathrm{K}$"
      ],
      "text/plain": [
       "<Quantity 11604.51812155 K>"
      ]
     },
     "execution_count": 42,
     "metadata": {},
     "output_type": "execute_result"
    }
   ],
   "source": [
    "(1 * u.eV).to(\"K\", equivalencies=u.temperature_energy())"
   ]
  },
  {
   "cell_type": "markdown",
   "id": "7ec6d857",
   "metadata": {},
   "source": [
    "## Using `astropy.constants`"
   ]
  },
  {
   "cell_type": "markdown",
   "id": "b714de6a",
   "metadata": {},
   "source": [
    "[`astropy.constants`]: https://docs.astropy.org/en/stable/constants/index.html\n",
    "\n",
    "We can use [`astropy.constants`] to access the most commonly needed physical constants."
   ]
  },
  {
   "cell_type": "code",
   "execution_count": 40,
   "id": "746a79a7",
   "metadata": {},
   "outputs": [
    {
     "name": "stdout",
     "output_type": "stream",
     "text": [
      "  Name   = Speed of light in vacuum\n",
      "  Value  = 299792458.0\n",
      "  Uncertainty  = 0.0\n",
      "  Unit  = m / s\n",
      "  Reference = CODATA 2018\n"
     ]
    }
   ],
   "source": [
    "from astropy.constants import c, e, k_B\n",
    "\n",
    "print(c)"
   ]
  },
  {
   "cell_type": "markdown",
   "id": "c3ee9feb",
   "metadata": {},
   "source": [
    "[`Constant`]: https://docs.astropy.org/en/stable/api/astropy.constants.Constant.html#astropy.constants.Constant\n",
    "[`Quantity`]: https://docs.astropy.org/en/stable/api/astropy.units.Quantity.html#astropy.units.Quantity\n",
    "[`u.temperature_energy()`]: https://docs.astropy.org/en/stable/units/equivalencies.html#temperature-energy-equivalency\n",
    "\n",
    "A [`Constant`] behaves very similarly to a [`Quantity`]. For example, we can use the Boltzmann constant to mimic the behavior of [`u.temperature_energy()`]."
   ]
  },
  {
   "cell_type": "code",
   "execution_count": 56,
   "id": "d2d59d08",
   "metadata": {},
   "outputs": [
    {
     "name": "stdout",
     "output_type": "stream",
     "text": [
      "6.962710872930049 MK\n"
     ]
    }
   ],
   "source": [
    "thermal_energy_per_particle = 0.6 * u.keV\n",
    "temperature = thermal_energy_per_particle / k_B\n",
    "print(temperature.to(\"MK\"))"
   ]
  }
 ],
 "metadata": {
  "kernelspec": {
   "display_name": "Python 3 (ipykernel)",
   "language": "python",
   "name": "python3"
  },
  "language_info": {
   "codemirror_mode": {
    "name": "ipython",
    "version": 3
   },
   "file_extension": ".py",
   "mimetype": "text/x-python",
   "name": "python",
   "nbconvert_exporter": "python",
   "pygments_lexer": "ipython3",
   "version": "3.9.4"
  }
 },
 "nbformat": 4,
 "nbformat_minor": 5
}
