{
 "cells": [
  {
   "cell_type": "markdown",
   "id": "06f7f570",
   "metadata": {},
   "source": [
    "# Stix Dispersion Solver\n",
    "\n",
    "[stix]: ../../api_static/plasmapy.dispersion.analytical.stix_.rst\n",
    "[bellan2012]: https://doi.org/10.1029/2012JA017856\n",
    "[stix1992]: https://link.springer.com/book/9780883188590\n",
    "\n",
    "This notebook details the functionality of the [stix()][stix] function. This is an analytical solution of equation 8 in [Bellan 2012][bellan2012], the function is defined by Stix [1992] in section 1-3 to be:\n",
    "\n",
    "$$\n",
    "        (S\\sin^{2}(\\theta) + P\\cos^{2}(\\theta))(ck/\\omega)^{4}\n",
    "            - [\n",
    "                RL\\sin^{2}(\\theta) + PS(1 + \\cos^{2}(\\theta))\n",
    "            ](ck/\\omega)^{2} + PRL = 0\n",
    "$$\n",
    "where,\n",
    "\n",
    "$$\n",
    "        \\mathbf{B_o} = B_{o} \\mathbf{\\hat{z}}   \n",
    "         \\cos \\theta = \\frac{k_z}{k} \\\\\n",
    "        \\mathbf{k} = k_{\\rm x} \\hat{x} + k_{\\rm z} \\hat{z}\n",
    "$$\n",
    "\n",
    "$$\n",
    "        S = 1 - \\sum_{s} \\frac{\\omega^{2}_{p,s}}{\\omega^{2} -\n",
    "            \\omega^{2}_{c,s}}\\hspace{2.5cm}\n",
    "        P = 1 - \\sum_{s} \\frac{\\omega^{2}_{p,s}}{\\omega^{2}}\\hspace{2.5cm}\n",
    "        D = \\sum_{s}\n",
    "            \\frac{\\omega_{c,s}}{\\omega}\n",
    "            \\frac{\\omega^{2}_{p,s}}{\\omega^{2} -\n",
    "            \\omega_{c,s}^{2}}\n",
    "$$\n",
    "\n",
    "$$\n",
    "        R = S + D \\hspace{1cm} L = S - D\n",
    "$$\n",
    "\n",
    "$\\omega$ is the wave frequency, $k$ is the wavenumber, $\\theta$ is the wave propagation angle with respect to the background magntic field $\\mathbf{B_o}$, $s$ corresponds to plasma species $s$, $\\omega_{p,s}$ is the plasma frequency of species $s$, and $\\omega_{c,s}$ is the gyrofrequency of species $s$.\n",
    "\n",
    "<div class=\"alert alert-info\">\n",
    "Note\n",
    "\n",
    "The derivation of this dispersion relation assumed: \n",
    "* zero temperature for all plasma species ($T_{s}=0$)\n",
    "* quasi-neutrallity\n",
    "* a uniform background magntic field $\\mathbf{B_o} = B_{o} \\mathbf{\\hat{z}}$\n",
    "* no D.C. electric field $\\mathbf{E_o}=0$\n",
    "* zero-order quantities for all plasma parameters (densities, electric-field, magnetic field, particle speeds, etc.) are constant in time and space\n",
    "* first-order perturbations in plasma parameters vary like $\\sim e^{\\left [ i (\\textbf{k}\\cdot\\textbf{r} - \\omega t)\\right ]}$\n",
    "    \n",
    "</div>  \n",
    "\n",
    "Due to the cold plasma assumption, this equation is valid for all $\\omega$ and $k$ given $\\frac{\\omega}{k_{z}} \\gg v_{Th}$ for all thermal speeds $v_{Th}$ of all plasma species and $k_{x} r_{L} \\ll 1$ for all gyroradii $r_{L}$ of all plasma species. The relation predicts $k \\to 0$ when any one of P, R or L vanish (cutoffs) and $k \\to \\infty$ for perpendicular propagation during wave resonance $S \\to 0$.\n",
    "  \n",
    "\n",
    "## Contents\n",
    "\n",
    "1. [Wave Normal to the Surface](#Wave-normal-to-the-surface)\n",
    "2. "
   ]
  },
  {
   "cell_type": "code",
   "execution_count": null,
   "id": "6c39b442",
   "metadata": {},
   "outputs": [],
   "source": [
    "from astropy import units as u\n",
    "import matplotlib.pyplot as plt\n",
    "import numpy as np\n",
    "\n",
    "from plasmapy.particles import Particle\n",
    "from plasmapy.dispersion.analytical.stix_ import stix\n"
   ]
  },
  {
   "cell_type": "markdown",
   "id": "f5d0b2fc",
   "metadata": {},
   "source": [
    "## Wave Normal to the Surface\n",
    "\n",
    "Below we define the required parameters to compute the wave numbers."
   ]
  },
  {
   "cell_type": "code",
   "execution_count": null,
   "id": "ab1a4b91",
   "metadata": {},
   "outputs": [],
   "source": [
    "# define input parameters\n",
    "inputs = {\n",
    "    \"theta\": 0 * u.rad,\n",
    "    \"ions\": [Particle(\"p\")],\n",
    "    \"n_i\": 1e12 * u.cm**-3,\n",
    "    \"B\": 0.434634 * u.T,\n",
    "    \"w\": 4.16321e4 * u.rad / u.s,\n",
    "}\n",
    "\n",
    "# compute\n",
    "omega = stix(**inputs)"
   ]
  },
  {
   "cell_type": "markdown",
   "id": "57d74632",
   "metadata": {},
   "source": [
    "[Quantity]: https://docs.astropy.org/en/stable/api/astropy.units.Quantity.html#astropy.units.Quantity\n",
    "\n",
    "The computed wavenubmers in units (rad/m) are returned in a dictionary (shape $N \\times M \\times 4$), with the keys representing $\\theta$ and the values (instances of Astropy [Quantity]) being the wavenumbers. The first dimension maps to the $w$ array, the second dimension maps to the $theta$ array, and the third dimension maps to the four roots of the Stix polynomial.\n",
    "* $k[0]$ is the square root of the positive quadratic solution\n",
    "* $k[1] = -k[0]$\n",
    "* $k[2]$ is the square root of the negative quadratic solution\n",
    "* $k[3] = -k[2]$\n",
    "\n",
    "Let's plot the results."
   ]
  },
  {
   "cell_type": "code",
   "execution_count": null,
   "id": "761f2782",
   "metadata": {},
   "outputs": [],
   "source": []
  }
 ],
 "metadata": {
  "kernelspec": {
   "display_name": "Python 3 (ipykernel)",
   "language": "python",
   "name": "python3"
  },
  "language_info": {
   "codemirror_mode": {
    "name": "ipython",
    "version": 3
   },
   "file_extension": ".py",
   "mimetype": "text/x-python",
   "name": "python",
   "nbconvert_exporter": "python",
   "pygments_lexer": "ipython3",
   "version": "3.8.10"
  }
 },
 "nbformat": 4,
 "nbformat_minor": 5
}
