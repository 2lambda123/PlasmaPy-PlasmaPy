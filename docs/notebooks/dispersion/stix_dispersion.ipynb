{
 "cells": [
  {
   "cell_type": "markdown",
   "id": "06f7f570",
   "metadata": {},
   "source": [
    "# Stix Dispersion Solver\n",
    "\n",
    "[stix]: ../../api_static/plasmapy.dispersion.analytical.stix_.rst\n",
    "[bellan2012]: https://doi.org/10.1029/2012JA017856\n",
    "[stix1992]: https://link.springer.com/book/9780883188590\n",
    "\n",
    "This notebook details the functionality of the [stix()][stix] function. This is an analytical solution of equation 8 in [Bellan 2012][bellan2012], the function is defined by Stix [1992] in section 1-3 to be:\n",
    "\n",
    "$$\n",
    "        (S\\sin^{2}(\\theta) + P\\cos^{2}(\\theta))(ck/\\omega)^{4}\n",
    "            - [\n",
    "                RL\\sin^{2}(\\theta) + PS(1 + \\cos^{2}(\\theta))\n",
    "            ](ck/\\omega)^{2} + PRL = 0\n",
    "$$\n",
    "where,\n",
    "\n",
    "$$\n",
    "        \\mathbf{B_o} = B_{o} \\mathbf{\\hat{z}}   \n",
    "         \\cos \\theta = \\frac{k_z}{k} \\\\\n",
    "        \\mathbf{k} = k_{\\rm x} \\hat{x} + k_{\\rm z} \\hat{z}\n",
    "$$\n",
    "\n",
    "$$\n",
    "        S = 1 - \\sum_{s} \\frac{\\omega^{2}_{p,s}}{\\omega^{2} -\n",
    "            \\omega^{2}_{c,s}}\\hspace{2.5cm}\n",
    "        P = 1 - \\sum_{s} \\frac{\\omega^{2}_{p,s}}{\\omega^{2}}\\hspace{2.5cm}\n",
    "        D = \\sum_{s}\n",
    "            \\frac{\\omega_{c,s}}{\\omega}\n",
    "            \\frac{\\omega^{2}_{p,s}}{\\omega^{2} -\n",
    "            \\omega_{c,s}^{2}}\n",
    "$$\n",
    "\n",
    "$$\n",
    "        R = S + D \\hspace{1cm} L = S - D\n",
    "$$\n",
    "\n",
    "$\\omega$ is the wave frequency, $k$ is the wavenumber, $\\theta$ is the wave propagation angle with respect to the background magntic field $\\mathbf{B_o}$, $s$ corresponds to plasma species $s$, $\\omega_{p,s}$ is the plasma frequency of species $s$, and $\\omega_{c,s}$ is the gyrofrequency of species $s$.\n",
    "\n",
    "<div class=\"alert alert-info\">\n",
    "Note\n",
    "\n",
    "The derivation of this dispersion relation assumed: \n",
    "* zero temperature for all plasma species ($T_{s}=0$)\n",
    "* quasi-neutrallity\n",
    "* a uniform background magntic field $\\mathbf{B_o} = B_{o} \\mathbf{\\hat{z}}$\n",
    "* no D.C. electric field $\\mathbf{E_o}=0$\n",
    "* zero-order quantities for all plasma parameters (densities, electric-field, magnetic field, particle speeds, etc.) are constant in time and space\n",
    "* first-order perturbations in plasma parameters vary like $\\sim e^{\\left [ i (\\textbf{k}\\cdot\\textbf{r} - \\omega t)\\right ]}$\n",
    "    \n",
    "</div>  \n",
    "\n",
    "Due to the cold plasma assumption, this equation is valid for all $\\omega$ and $k$ given $\\frac{\\omega}{k_{z}} \\gg v_{Th}$ for all thermal speeds $v_{Th}$ of all plasma species and $k_{x} r_{L} \\ll 1$ for all gyroradii $r_{L}$ of all plasma species. The relation predicts $k \\to 0$ when any one of P, R or L vanish (cutoffs) and $k \\to \\infty$ for perpendicular propagation during wave resonance $S \\to 0$.\n",
    " \n",
    "\n",
    "## Contents\n",
    "\n",
    "1. [Wave Normal to the Surface](#Wave-normal-to-the-surface)\n",
    "2. [Comparision with Bellan](#Comparision-with-bellan)\n",
    "3. "
   ]
  },
  {
   "cell_type": "code",
   "execution_count": 1,
   "id": "6c39b442",
   "metadata": {},
   "outputs": [],
   "source": [
    "from astropy import units as u\n",
    "import matplotlib.pyplot as plt\n",
    "import numpy as np\n",
    "\n",
    "from astropy.constants.si import c\n",
    "from astropy.constants import eps0\n",
    "\n",
    "from plasmapy.dispersion.analytical.stix_ import stix\n",
    "from plasmapy.dispersion.analytical.two_fluid_ import two_fluid\n",
    "from plasmapy.formulary.frequencies import gyrofrequency, plasma_frequency\n",
    "from plasmapy.formulary.lengths import inertial_length\n",
    "from plasmapy.formulary import speeds\n",
    "from plasmapy.particles import Particle\n"
   ]
  },
  {
   "cell_type": "markdown",
   "id": "f5d0b2fc",
   "metadata": {},
   "source": [
    "## Wave Normal to the Surface\n",
    "\n",
    "Below we define the required parameters to compute the wave numbers."
   ]
  },
  {
   "cell_type": "code",
   "execution_count": 2,
   "id": "ab1a4b91",
   "metadata": {},
   "outputs": [],
   "source": [
    "# define input parameters\n",
    "inputs_1 = {\n",
    "    \"theta\": np.linspace(0, np.pi, 50) * u.rad,\n",
    "    \"ions\": [Particle(\"p\"),],\n",
    "    \"n_i\": [2.0e12,] * u.cm**-3,\n",
    "    \"B\": 0.43463 * np.sqrt(2) * u.T,\n",
    "    \"w\": 500000 * 2 * np.pi * u.rad / u.s,\n",
    "}\n",
    "\n",
    "# define a meshgrid based on the number of theta values\n",
    "omegas, thetas = np.meshgrid(\n",
    "    inputs_1[\"w\"].value, inputs_1[\"theta\"].value, indexing=\"ij\"\n",
    ")\n",
    "omegas = np.dstack((omegas,)*4).squeeze()\n",
    "thetas = np.dstack((thetas,)*4).squeeze()\n",
    "\n",
    "# compute k values\n",
    "k = stix(**inputs_1)"
   ]
  },
  {
   "cell_type": "markdown",
   "id": "57d74632",
   "metadata": {},
   "source": [
    "[Quantity]: https://docs.astropy.org/en/stable/api/astropy.units.Quantity.html#astropy.units.Quantity\n",
    "\n",
    "The computed wavenubmers in units (rad/m) are returned in a dictionary (shape $N \\times M \\times 4$), with the keys representing $\\theta$ and the values (instances of Astropy [Quantity]) being the wavenumbers. The first dimension maps to the $w$ array, the second dimension maps to the $theta$ array, and the third dimension maps to the four roots of the Stix polynomial.\n",
    "* $k[0]$ is the square root of the positive quadratic solution\n",
    "* $k[1] = -k[0]$\n",
    "* $k[2]$ is the square root of the negative quadratic solution\n",
    "* $k[3] = -k[2]$\n",
    "\n",
    "Below the values for $u_{x}$ and $u_{z}$ are calculated."
   ]
  },
  {
   "cell_type": "code",
   "execution_count": 3,
   "id": "761f2782",
   "metadata": {},
   "outputs": [],
   "source": [
    "# calculate ux and uz\n",
    "mask = np.imag(k) == 0\n",
    "ux = omegas[mask] * np.sin(thetas[mask]) / (k.value[mask] * c.value)\n",
    "uz = omegas[mask] * np.cos(thetas[mask]) / (k.value[mask] * c.value)\n"
   ]
  },
  {
   "cell_type": "markdown",
   "id": "4084ffc7",
   "metadata": {},
   "source": [
    "Let's plot the results."
   ]
  },
  {
   "cell_type": "code",
   "execution_count": 4,
   "id": "bcb06d10",
   "metadata": {},
   "outputs": [
    {
     "name": "stderr",
     "output_type": "stream",
     "text": [
      "/Users/elliotjohnson/opt/anaconda3/envs/test/lib/python3.9/site-packages/matplotlib/collections.py:196: ComplexWarning: Casting complex values to real discards the imaginary part\n",
      "  offsets = np.asanyarray(offsets, float)\n"
     ]
    },
    {
     "data": {
      "image/png": "[encoded data removed]",
      "text/plain": [
       "<Figure size 460.8x552.96 with 1 Axes>"
      ]
     },
     "metadata": {
      "needs_background": "light"
     },
     "output_type": "display_data"
    }
   ],
   "source": [
    "# plotting the results\n",
    "\n",
    "fs = 14  # default font size\n",
    "figwidth, figheight = plt.rcParams[\"figure.figsize\"]\n",
    "figheight = 1.6 * figheight\n",
    "fig = plt.figure(figsize=[figwidth, figheight])\n",
    "\n",
    "plt.scatter(ux[0], uz[0])\n",
    "\n",
    "# adjust axes\n",
    "plt.xlabel(r\"$u_{x}$\", fontsize=fs)\n",
    "plt.ylabel(r\"$u_{z}$\", fontsize=fs)\n",
    "\n",
    "\n",
    "plt.tick_params(\n",
    "    which=\"both\",\n",
    "    direction=\"in\",\n",
    "    width=1,\n",
    "    labelsize=fs,\n",
    "    right=True,\n",
    "    length=5,\n",
    ")\n",
    "plt.show()\n",
    "\n"
   ]
  },
  {
   "cell_type": "markdown",
   "id": "92791878",
   "metadata": {},
   "source": [
    "Following on, the figures from Stix [1992] can be reproduced."
   ]
  },
  {
   "cell_type": "code",
   "execution_count": 5,
   "id": "ffbad4f1",
   "metadata": {
    "scrolled": false
   },
   "outputs": [
    {
     "data": {
      "text/plain": [
       "<Figure size 432x288 with 0 Axes>"
      ]
     },
     "metadata": {},
     "output_type": "display_data"
    },
    {
     "data": {
      "image/png": "[encoded data removed]",
      "text/plain": [
       "<Figure size 1080x1080 with 4 Axes>"
      ]
     },
     "metadata": {
      "needs_background": "light"
     },
     "output_type": "display_data"
    }
   ],
   "source": [
    "# define inputs\n",
    "inputs_2 = {\n",
    "    \"theta\": np.linspace(0, np.pi, 50) * u.rad,\n",
    "    \"ions\": Particle(\"p\"),\n",
    "    \"n_i\": 1e15 * u.cm**-3,\n",
    "    \"B\": 0.434 * u.T,\n",
    "    \"w\": (37125810) * u.rad / u.s,\n",
    "}\n",
    "\n",
    "inputs_3 = {\n",
    "    \"theta\": np.linspace(0, np.pi, 50) * u.rad,\n",
    "    \"ions\": Particle(\"p\"),\n",
    "    \"n_i\": 1e15 * u.cm**-3,\n",
    "    \"B\": 0.434534 * u.T,\n",
    "    \"w\": (2 * 10**10) * u.rad / u.s,\n",
    "}\n",
    "\n",
    "\n",
    "inputs_4 = {\n",
    "    \"theta\": np.linspace(0, np.pi, 50) * u.rad,\n",
    "    \"ions\": Particle(\"p\"),\n",
    "    \"n_i\": 1e15 * u.cm**-3,\n",
    "    \"B\": 0.434600 * u.T,\n",
    "    \"w\": (54 * 10**9) * u.rad / u.s,\n",
    "}\n",
    "\n",
    "\n",
    "inputs_5 = {\n",
    "    \"theta\": np.linspace(0, np.pi, 50) * u.rad,\n",
    "    \"ions\": Particle(\"p\"),\n",
    "    \"n_i\": 1e15 * u.cm**-3,\n",
    "    \"B\": 0.434634 * u.T,\n",
    "    \"w\": (58 * 10**7) * u.rad / u.s,\n",
    "}\n",
    "\n",
    "\n",
    "inputs = [inputs_2, inputs_3, inputs_4, inputs_5]\n",
    "ux = {}\n",
    "uz = {}\n",
    "\n",
    "for i, inpt in enumerate(inputs):\n",
    "    omegas, thetas = np.meshgrid(\n",
    "        inpt[\"w\"].value, inpt[\"theta\"].value, indexing=\"ij\"\n",
    "    )\n",
    "    omegas = np.dstack((omegas,)*4).squeeze()\n",
    "    thetas = np.dstack((thetas,)*4).squeeze()\n",
    "\n",
    "    k = stix(**inpt)\n",
    "\n",
    "    mask = np.imag(k) == 0\n",
    "    ux[i] = omegas[mask] * np.sin(thetas[mask]) / (k.value[mask] * c.value)\n",
    "    uz[i] = omegas[mask] * np.cos(thetas[mask]) / (k.value[mask] * c.value)\n",
    "\n",
    "\n",
    "fs = 14  # default font size\n",
    "figwidth, figheight = plt.rcParams[\"figure.figsize\"]\n",
    "figheight = 1.6 * figheight\n",
    "fig = plt.figure()\n",
    "fig, axs = plt.subplots(2, 2, figsize=[15, 15])\n",
    "\n",
    "\n",
    "axs[0, 0].scatter(ux[0], uz[0])\n",
    "axs[0, 0].set_title('Stix: Fig. 1-2', fontsize=fs)\n",
    "\n",
    "axs[0, 1].scatter(ux[1], uz[1])\n",
    "axs[0, 1].set_title('Stix: Fig. 1-3', fontsize=fs)\n",
    "\n",
    "axs[1, 0].scatter(ux[2], uz[2])\n",
    "axs[1, 0].set_title('Stix: Fig. 1-', fontsize=fs)\n",
    "\n",
    "axs[1, 1].scatter(ux[3], uz[3])\n",
    "axs[1, 1].set_title('Stix: Fig. 1-', fontsize=fs)\n",
    "\n",
    "plt.show()\n"
   ]
  },
  {
   "cell_type": "markdown",
   "id": "fd5120ec",
   "metadata": {},
   "source": [
    "## Comparision with Bellan\n",
    "\n",
    "Below we run a comparision between the solution provided in Bellan [2012] and our own solutions computed from [stix()][stix]. To begin we first have to define some parameter."
   ]
  },
  {
   "cell_type": "markdown",
   "id": "6a69edd0",
   "metadata": {},
   "source": [
    "In the first instance a cold plasma limit of $T_{e} = \\, {\\rm K}$ and $T_{H+} = \\, {\\rm K}$ are assummed. In the second instance a warm plasma limit of $T_{e} = \\, {\\rm K}$ and $T_{H+} = \\, {\\rm K}$ are assummed."
   ]
  },
  {
   "cell_type": "code",
   "execution_count": 11,
   "id": "5fd049aa",
   "metadata": {},
   "outputs": [
    {
     "data": {
      "image/png": "[encoded data removed]",
      "text/plain": [
       "<Figure size 1080x1080 with 4 Axes>"
      ]
     },
     "metadata": {
      "needs_background": "light"
     },
     "output_type": "display_data"
    }
   ],
   "source": [
    "\n",
    "w_H = 500000 * 2 * np.pi \n",
    "\n",
    "inputs_H = {\n",
    "    \"theta\": np.linspace(0, np.pi/2, 50) * u.rad,\n",
    "    \"ion\": Particle(\"p\"),\n",
    "    \"n_i\": 2.0e12 * u.cm**-3,\n",
    "    \"B\": 0.434634 * u.T,\n",
    "    \"k\": (w_H/c.value) * u.rad / u.m,\n",
    "    \"T_e\": 1000 * u.K,\n",
    "    \"T_i\": 4.0e5 * u.K,\n",
    "}\n",
    "\n",
    "inputs_C = {\n",
    "    \"theta\": np.linspace(0, np.pi/2, 50) * u.rad,\n",
    "    \"ion\": Particle(\"p\"),\n",
    "    \"n_i\": 2.0e12 * u.cm**-3,\n",
    "    \"B\": 0.434634 * u.T,\n",
    "    \"k\": np.linspace(10**-7, 10**-2, 10000) * u.rad / u.m,\n",
    "    \"T_e\": 1000 * u.K,\n",
    "    \"T_i\": 4.0e5 * u.K,\n",
    "}\n",
    "\n",
    "\n",
    "inpts = [inputs_H, inputs_C]\n",
    "\n",
    "\n",
    "for i, inpt in enumerate(inpts):\n",
    "    k, thetas = np.meshgrid(inpt[\"k\"].value, inpt[\"theta\"].value, indexing=\"ij\")\n",
    "    \n",
    "    omegas = two_fluid(**inpt)\n",
    "    \n",
    "    va = speeds.va_(inpt[\"B\"], inpt[\"n_i\"], ion=inpt[\"ion\"])\n",
    "\n",
    "    two_fluid_plt = {}\n",
    "    \n",
    "    for mode, arr in omegas.items():\n",
    "        norm = (np.absolute(arr) / (k * va)).value ** 2\n",
    "        two_fluid_plt[mode] = {\n",
    "            \"x\": norm * np.sin(inpt[\"theta\"].to(u.rad).value),\n",
    "            \"y\": norm * np.cos(inpt[\"theta\"].to(u.rad).value),\n",
    "        }\n",
    "\n",
    "\n",
    "\n",
    "fig, axs = plt.subplots(4, 1, figsize=(15, 15))\n",
    "\n",
    "\n",
    "for mode, vals in two_fluid_plt.items():\n",
    "    axs[i].scatter(vals['x'], vals['y'])\n",
    "    #axs[i].scatter(ux[i], uz[i])\n",
    "\n",
    "\n",
    "plt.show()  \n",
    "\n",
    "#bellan style\n"
   ]
  },
  {
   "cell_type": "code",
   "execution_count": null,
   "id": "ab1c0595",
   "metadata": {},
   "outputs": [],
   "source": []
  },
  {
   "cell_type": "code",
   "execution_count": null,
   "id": "8ee706dc",
   "metadata": {},
   "outputs": [],
   "source": []
  },
  {
   "cell_type": "code",
   "execution_count": null,
   "id": "bdbbebcd",
   "metadata": {},
   "outputs": [],
   "source": []
  },
  {
   "cell_type": "code",
   "execution_count": null,
   "id": "7cd42be2",
   "metadata": {},
   "outputs": [],
   "source": [
    "gamma = plasma_frequency(n = inputs_5[\"n_i\"], particle=inputs_5[\"ions\"])/gyrofrequency(B=inputs_5[\"B\"], particle=inputs_5[\"ions\"], signed=True)\n",
    "beta = gyrofrequency(B=inputs_5[\"B\"], particle=inputs_5[\"ions\"], signed=True)/inputs_5[\"w\"]\n",
    "mu = plasma_frequency(n = inputs_5[\"n_i\"], particle=Particle(\"e\"))**2/plasma_frequency(n = inputs_5[\"n_i\"], particle=inputs_5[\"ions\"])**2\n",
    "print('gamma: ',gamma, ' beta: ', beta, ' mu: ', mu)\n",
    "\n",
    "gamma_k = 1000\n",
    "beta_k = 0.000769\n",
    "mu_k = 1836\n",
    "\n",
    "w_s = gyrofrequency(B=inputs_2[\"B\"], particle=inputs_2[\"ions\"], signed=True)/beta_k\n",
    "\n",
    "alpha = plasma_frequency(n = inputs_2[\"n_i\"], particle=Particle(\"e\"))**2/w_s**2\n",
    "\n",
    "b_2_s = 0.137*np.sqrt(inputs_2[\"n_i\"]*mu_k/(gamma_k))\n",
    "\n",
    "\n",
    "print('w: ', w_s,' b:', (b_2_s))"
   ]
  },
  {
   "cell_type": "markdown",
   "id": "8c15f6f2",
   "metadata": {},
   "source": [
    "two fluid\n",
    "cold and warm plasma limits\n",
    "change previous plots to line plots"
   ]
  }
 ],
 "metadata": {
  "kernelspec": {
   "display_name": "Python 3 (ipykernel)",
   "language": "python",
   "name": "python3"
  },
  "language_info": {
   "codemirror_mode": {
    "name": "ipython",
    "version": 3
   },
   "file_extension": ".py",
   "mimetype": "text/x-python",
   "name": "python",
   "nbconvert_exporter": "python",
   "pygments_lexer": "ipython3",
   "version": "3.9.13"
  }
 },
 "nbformat": 4,
 "nbformat_minor": 5
}
