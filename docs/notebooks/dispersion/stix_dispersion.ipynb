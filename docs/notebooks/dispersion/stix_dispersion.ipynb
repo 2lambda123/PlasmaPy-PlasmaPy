{
 "cells": [
  {
   "cell_type": "markdown",
   "metadata": {},
   "source": [
    "# Dispersion: Cold Plasma Dispersion Relation\n",
    "\n",
    "[sds]: ../../api/plasmapy.dispersion.analytical.stix_.stix.rst\n",
    "[bellan2012]: https://agupubs.onlinelibrary.wiley.com/doi/10.1029/2012JA017856\n",
    "\n",
    "This notebook dicsusses the usage of the \"cold plasma dispersion relation\" given by the funciton [stix()][sds].\n",
    "A dispersion relation is a relation between the frequency and the wavelength of a wave. In magnentised plasmas due to the magnetic field\n",
    "this relation becomes very complicated. To make the problem tractable, the so-called cold plasma approximation is used. Within this approximation, the dispersion relation is given by a polynomial equation of the 4th degree:\n",
    "\n",
    "$N^4 A(\\omega_{pe}, \\omega_{ce}, \\theta) + N^2 B(\\omega_{pe}, \\omega_{ce}, \\theta) + C(\\omega_{pe}, \\omega_{ce}) = 0$,\n",
    "\n",
    "where $N=ck/\\omega$ is the refractive index. This equation has four roots, which account for two propagating modes in forward and backward directions.\n",
    "The plasma properties and the propagation angle $\\theta$ enter through the coefficients $A, B, C$  "
   ]
  },
  {
   "cell_type": "code",
   "execution_count": 1,
   "metadata": {},
   "outputs": [],
   "source": [
    "%matplotlib inline\n",
    "\n",
    "import astropy.units as u\n",
    "import matplotlib.pyplot as plt\n",
    "import numpy as np\n",
    "\n",
    "from astropy.constants.si import c\n",
    "\n",
    "from plasmapy.dispersion.analytical.stix_ import stix\n",
    "from plasmapy.formulary.frequencies import gyrofrequency, plasma_frequency\n",
    "from plasmapy.particles import Particle"
   ]
  },
  {
   "cell_type": "code",
   "execution_count": 28,
   "metadata": {},
   "outputs": [
    {
     "name": "stdout",
     "output_type": "stream",
     "text": [
      "Help on function stix in module plasmapy.dispersion.analytical.stix_:\n",
      "\n",
      "stix(B: Unit(\"T\"), w: Unit(\"rad / s\"), ions: plasmapy.particles.particle_class.Particle, n_i: Unit(\"1 / m3\"), theta: Unit(\"rad\"))\n",
      "    Calculate the cold plasma dispersion function presented by\n",
      "    :cite:t:`stix:1992`, and discussed by :cite:t:`bellan:2012`.\n",
      "    This is an analytical solution of equation 8 in\n",
      "    :cite:t:`bellan:2012`.  See the **Notes** section below for\n",
      "    additional details.\n",
      "    \n",
      "    Parameters\n",
      "    ----------\n",
      "    B : `~astropy.units.Quantity`\n",
      "        The magnetic field magnitude in units convertible to T.\n",
      "    \n",
      "    w : `~astropy.units.Quantity`, single valued or 1-D array\n",
      "        Wavefrequency in units convertible to rad/s.  Either singled\n",
      "        valued or 1-D array of length :math:`N`.\n",
      "    \n",
      "    ions: a single or `list` of :term:`particle-like` object(s)\n",
      "        A list or single instance of :term:`particle-like` objects\n",
      "        representing the ion species (e.g., ``\"p\"`` for protons,\n",
      "        ``\"D+\"`` for deuterium, ``[\"H+\", \"He+\"]`` for hydrogen and\n",
      "        helium, etc.).  All ions must be positively charged.\n",
      "    \n",
      "    n_i: `~astropy.units.Quantity`, single valued or 1-D array\n",
      "        Ion number density in units convertible to m\\ :sup:`-3`.  Must\n",
      "        be single valued or equal length to ``ions``.\n",
      "    \n",
      "    theta: `~astropy.units.Quantity`, single valued or 1-D array\n",
      "        The angle of propagation of the wave with respect to the\n",
      "        magnetic field, :math:`\\cos^{-1}(k_z / k)`, in units convertible\n",
      "        to radians.  Either single valued or 1-D array of size\n",
      "        :math:`M`.\n",
      "    \n",
      "    Returns\n",
      "    -------\n",
      "    k : `~astropy.units.Quantity` of shape ``(N, M, 4)``\n",
      "        An array of wavenubmers in units rad/m (shape\n",
      "        :math:`N \\times M \\times 4`).  The first dimension maps to the\n",
      "        ``w`` array, the second dimension maps to the ``theta`` array,\n",
      "        and the third dimension maps to the four roots of the Stix\n",
      "        polynomial.\n",
      "    \n",
      "        * ``k[0]`` is the square root of the positive quadratic solution\n",
      "        * ``k[1] = -k[0]``\n",
      "        * ``k[2]`` is the square root of the negative quadratic solution\n",
      "        * ``k[3] = -k[2]``\n",
      "    \n",
      "    Raises\n",
      "    ------\n",
      "    `TypeError`\n",
      "        If applicable arguments are not instances of\n",
      "        `~astropy.units.Quantity` or cannot be converted into one.\n",
      "    \n",
      "    `ValueError`\n",
      "        Particles in ``ions`` are not positively charged ions.\n",
      "    \n",
      "    `ValueError`\n",
      "        The size of ``n_i`` is not the same as the length of ``ions``.\n",
      "    \n",
      "    ValueError\n",
      "        If of ``B`` or ``n_i`` is negative.\n",
      "    \n",
      "    ValueError\n",
      "        If ``w`` is negative or zero.\n",
      "    \n",
      "    ValueError\n",
      "        If ``w`` or ``theta`` are not single valued or a 1-D array.\n",
      "    \n",
      "    ~astropy.units.UnitTypeError\n",
      "        If applicable arguments do not have units convertible to the\n",
      "        expected units.\n",
      "    \n",
      "    Notes\n",
      "    -----\n",
      "    The cold plasma dispersion function is defined by\n",
      "    :cite:t:`stix:1992` in section 1-3 (and present by\n",
      "    :cite:t:`bellan:2012` in equation 8) to be\n",
      "    \n",
      "    .. math::\n",
      "        (S\\sin^{2}(\\theta) + P\\cos^{2}(\\theta))(ck/\\omega)^{4}\n",
      "            - [\n",
      "                RL\\sin^{2}(\\theta) + PS(1 + \\cos^{2}(\\theta))\n",
      "            ](ck/\\omega)^{2} + PRL = 0\n",
      "    \n",
      "    where,\n",
      "    \n",
      "    .. math::\n",
      "        \\mathbf{B_o} &= B_{o} \\mathbf{\\hat{z}} \\\\\n",
      "        \\cos \\theta &= \\frac{k_z}{k} \\\\\n",
      "        \\mathbf{k} &= k_{\\rm x} \\hat{x} + k_{\\rm z} \\hat{z}\n",
      "    \n",
      "    .. math::\n",
      "        S &= 1 - \\sum_{s} \\frac{\\omega^{2}_{p,s}}{\\omega^{2} -\n",
      "            \\omega^{2}_{c,s}}\\\\\n",
      "        P &= 1 - \\sum_{s} \\frac{\\omega^{2}_{p,s}}{\\omega^{2}}\\\\\n",
      "        D &= \\sum_{s}\n",
      "            \\frac{\\omega_{c,s}}{\\omega}\n",
      "            \\frac{\\omega^{2}_{p,s}}{\\omega^{2} -\n",
      "            \\omega_{c,s}^{2}}\n",
      "    \n",
      "    .. math::\n",
      "        R = S + D \\hspace{1cm} L = S - D\n",
      "    \n",
      "    :math:`\\omega` is the wave frequency, :math:`k` is the wavenumber,\n",
      "    :math:`\\theta` is the wave propagation angle with respect to the\n",
      "    background magntic field :math:`\\mathbf{B_o}`, :math:`s` corresponds\n",
      "    to plasma species :math:`s`, :math:`\\omega_{p,s}` is the plasma\n",
      "    frequency of species :math:`s`, and :math:`\\omega_{c,s}` is the\n",
      "    gyrofrequency of species :math:`s`. The derivation of this\n",
      "    dispersion relation assumed:\n",
      "    \n",
      "    * zero temperature for all plasma species (:math:`T_{s}=0`)\n",
      "    * quasi-neutrallity\n",
      "    * a uniform background magntic field\n",
      "      :math:`\\mathbf{B_o} = B_{o} \\mathbf{\\hat{z}}`\n",
      "    * no D.C. electric field :math:`\\mathbf{E_o}=0`\n",
      "    * zero-order quantities for all plasma parameters (densities,\n",
      "      electric-field, magnetic field, particle speeds, etc.) are\n",
      "      constant in time and space\n",
      "    * first-order perturbations in plasma parameters vary like\n",
      "      :math:`\\sim e^{\\left [ i (\\textbf{k}\\cdot\\textbf{r} - \\omega t)\\right ]}`\n",
      "    \n",
      "    Due to the cold plasma assumption, this equation is valid for all\n",
      "    :math:`\\omega` and :math:`k` given\n",
      "    :math:`\\frac{\\omega}{k_{z}} \\gg v_{Th}` for all thermal speeds\n",
      "    :math:`v_{Th}` of all plasma species and :math:`k_{x} r_{L} \\ll 1`\n",
      "    for all gyroradii :math:`r_{L}` of all plasma species.\n",
      "    \n",
      "    The relation predicts :math:`k \\to 0` when any one of P, R or L\n",
      "    vanish (cutoffs) and :math:`k \\to \\infty` for perpendicular\n",
      "    propagation during wave resonance :math:`S \\to 0`.\n",
      "    \n",
      "    Example\n",
      "    -------\n",
      "    >>> from astropy import units as u\n",
      "    >>> from plasmapy.particles import Particle\n",
      "    >>> from plasmapy.dispersion.analytical.stix_ import stix\n",
      "    >>> inputs = {\n",
      "    ...     \"B\": 8.3e-9 * u.T,\n",
      "    ...     \"w\": 0.001 * u.rad / u.s,\n",
      "    ...     \"ions\": [Particle(\"H+\"), Particle(\"He+\")],\n",
      "    ...     \"n_i\": [4.0e5,2.0e5] * u.m**-3,\n",
      "    ...     \"theta\": 30 * u.deg,\n",
      "    ... }\n",
      "    >>> stix(**inputs)\n",
      "    <Quantity [ 6.03817661e-09-0.j, -6.03817661e-09+0.j,\n",
      "        6.97262784e-09-0.j, -6.97262784e-09+0.j] rad / m>\n",
      "\n"
     ]
    }
   ],
   "source": [
    "help(stix)"
   ]
  },
  {
   "cell_type": "markdown",
   "metadata": {},
   "source": [
    "Let's the refractive index for some angles and different plasma densities"
   ]
  },
  {
   "cell_type": "code",
   "execution_count": 26,
   "metadata": {},
   "outputs": [],
   "source": [
    "N = 300 # number of different plasma densities\n",
    "n_i = np.linspace(1e10,3e17,N)*u.m**-3\n",
    "w_pe = plasma_frequency(n_i, Particle('e-')) # pasma frequency\n",
    "B = 0.06*u.T\n",
    "w_ce = gyrofrequency(B, Particle('e-'))\n",
    "w = 2*np.pi*2.45e9*u.rad/u.s # a typical microwave frequency\n",
    "# unitless parameters for plasma density and the magnetic field\n",
    "X = (w_pe/w)**2\n",
    "Y = w_ce/w\n",
    "theta = np.array([np.pi/2,np.pi/3])*u.rad # propagation angle\n",
    "ions = Particle('p+')\n",
    "\n",
    "\n",
    "k_arr = np.zeros((2,4,N),dtype=np.complex128)\n",
    "for i in range(0,N):\n",
    "    params = {'theta':theta,'w':w, 'ions':ions, 'n_i':n_i[i], 'B':B} \n",
    "    k = stix(**params)\n",
    "    k_arr[:,:,i] = k.value"
   ]
  },
  {
   "cell_type": "code",
   "execution_count": 30,
   "metadata": {},
   "outputs": [
    {
     "data": {
      "text/plain": [
       "<matplotlib.legend.Legend at 0x7f87fa5d3100>"
      ]
     },
     "execution_count": 30,
     "metadata": {},
     "output_type": "execute_result"
    },
    {
     "data": {
      "image/png": "[encoded data removed]",
      "text/plain": [
       "<Figure size 640x480 with 1 Axes>"
      ]
     },
     "metadata": {},
     "output_type": "display_data"
    }
   ],
   "source": [
    "plt.plot(X,k_arr[1,0,:].real*c/w, 'o', label = 'O-mode') # first mode\n",
    "plt.plot(X,k_arr[1,2,:].real*c/w, 'x', label = 'X-mode') # second mode\n",
    "plt.yscale('log')\n",
    "plt.xlabel('X ~ plasma density')\n",
    "plt.ylabel('refractive index')\n",
    "plt.xlim([0,2])\n",
    "plt.legend()"
   ]
  },
  {
   "cell_type": "markdown",
   "metadata": {},
   "source": [
    "Refractive indecies for both modes start at $N = 1$, since in vaccuum ($X=0$), the phase velocity equals to the speed of light.\n",
    "As $X$ increases, the refractive indecies decrease. When $N = 0$, there is a reflection. For the X-mode, the reflection happens at a low density than for the O-mode. The second branch of the X-mode, has a resonance where $N$ has a singularity. \n",
    "\n",
    "Using stix() function, it is possible to find the regions where the plasma waves can propagate, where the reflection and resonance occurs.   "
   ]
  }
 ],
 "metadata": {
  "kernelspec": {
   "display_name": "Python 3.9.13 ('.venv': venv)",
   "language": "python",
   "name": "python3"
  },
  "language_info": {
   "codemirror_mode": {
    "name": "ipython",
    "version": 3
   },
   "file_extension": ".py",
   "mimetype": "text/x-python",
   "name": "python",
   "nbconvert_exporter": "python",
   "pygments_lexer": "ipython3",
   "version": "3.10.8"
  },
  "orig_nbformat": 4,
  "vscode": {
   "interpreter": {
    "hash": "0b4e0e4de91804004765d33bccf5ffb3b9b9ea025f426d888821c87b05f52d58"
   }
  }
 },
 "nbformat": 4,
 "nbformat_minor": 2
}
