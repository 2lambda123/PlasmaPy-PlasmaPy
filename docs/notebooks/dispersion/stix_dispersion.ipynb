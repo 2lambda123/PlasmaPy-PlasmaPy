{
 "cells": [
  {
   "cell_type": "markdown",
   "metadata": {},
   "source": [
    "This notebook dicsusses the usage of the \"cold plasma dispersion relation\" given by the funciton stix().\n",
    "A dispersion relation is a relation between the frequency and the wavelength of a wave. In magnentised plasmas due to the magnetic field\n",
    "this relation becomes very complicated. To make the problem tractable, the so-called cold plasma approximation is used. Within this approximation, the dispersion relation is given by a polynomial equation of the 4th degree:\n",
    "\n",
    "$N^4 A(\\omega_{pe}, \\omega_{ce}, \\theta) + N^2 B(\\omega_{pe}, \\omega_{ce}, \\theta) + C(\\omega_{pe}, \\omega_{ce}) = 0$,\n",
    "where $N=ck/\\omega$ is the refractive index. This equation has four roots, which account for two propagating modes in forward and backward directions.\n",
    "The plasma properties and the angle propgation angle $\\theta$ enter through the coefficients $A, B, C$  "
   ]
  },
  {
   "cell_type": "code",
   "execution_count": 1,
   "metadata": {},
   "outputs": [],
   "source": [
    "%matplotlib inline\n",
    "\n",
    "import astropy.units as u\n",
    "import matplotlib.pyplot as plt\n",
    "import numpy as np\n",
    "\n",
    "from astropy.constants.si import c\n",
    "\n",
    "from plasmapy.dispersion.analytical.stix_ import stix\n",
    "from plasmapy.formulary.frequencies import gyrofrequency, plasma_frequency\n",
    "from plasmapy.particles import Particle"
   ]
  },
  {
   "cell_type": "code",
   "execution_count": 2,
   "metadata": {},
   "outputs": [
    {
     "name": "stdout",
     "output_type": "stream",
     "text": [
      "Help on function stix in module plasmapy.dispersion.analytical.stix_:\n",
      "\n",
      "stix(B: Unit(\"T\"), w: Unit(\"rad / s\"), ions: plasmapy.particles.particle_class.Particle, n_i: Unit(\"1 / m3\"), theta: Unit(\"rad\"))\n",
      "    Calculate the cold plasma dispersion function presented by\n",
      "    :cite:t:`stix:1992`, and discussed by :cite:t:`bellan:2012`.\n",
      "    This is an analytical solution of equation 8 in\n",
      "    :cite:t:`bellan:2012`.  See the **Notes** section below for\n",
      "    additional details.\n",
      "    \n",
      "    Parameters\n",
      "    ----------\n",
      "    B : `~astropy.units.Quantity`\n",
      "        The magnetic field magnitude in units convertible to T.\n",
      "    \n",
      "    w : `~astropy.units.Quantity`, single valued or 1-D array\n",
      "        Wavefrequency in units convertible to rad/s.  Either singled\n",
      "        valued or 1-D array of length :math:`N`.\n",
      "    \n",
      "    ions: a single or `list` of :term:`particle-like` object(s)\n",
      "        A list or single instance of :term:`particle-like` objects\n",
      "        representing the ion species (e.g., ``\"p\"`` for protons,\n",
      "        ``\"D+\"`` for deuterium, ``[\"H+\", \"He+\"]`` for hydrogen and\n",
      "        helium, etc.).  All ions must be positively charged.\n",
      "    \n",
      "    n_i: `~astropy.units.Quantity`, single valued or 1-D array\n",
      "        Ion number density in units convertible to m\\ :sup:`-3`.  Must\n",
      "        be single valued or equal length to ``ions``.\n",
      "    \n",
      "    theta: `~astropy.units.Quantity`, single valued or 1-D array\n",
      "        The angle of propagation of the wave with respect to the\n",
      "        magnetic field, :math:`\\cos^{-1}(k_z / k)`, in units convertible\n",
      "        to radians.  Either single valued or 1-D array of size\n",
      "        :math:`M`.\n",
      "    \n",
      "    Returns\n",
      "    -------\n",
      "    k : `~astropy.units.Quantity` of shape ``(N, M, 4)``\n",
      "        An array of wavenubmers in units rad/m (shape\n",
      "        :math:`N \\times M \\times 4`).  The first dimension maps to the\n",
      "        ``w`` array, the second dimension maps to the ``theta`` array,\n",
      "        and the third dimension maps to the four roots of the Stix\n",
      "        polynomial.\n",
      "    \n",
      "        * ``k[0]`` is the square root of the positive quadratic solution\n",
      "        * ``k[1] = -k[0]``\n",
      "        * ``k[2]`` is the square root of the negative quadratic solution\n",
      "        * ``k[3] = -k[2]``\n",
      "    \n",
      "    Raises\n",
      "    ------\n",
      "    `TypeError`\n",
      "        If applicable arguments are not instances of\n",
      "        `~astropy.units.Quantity` or cannot be converted into one.\n",
      "    \n",
      "    `ValueError`\n",
      "        Particles in ``ions`` are not positively charged ions.\n",
      "    \n",
      "    `ValueError`\n",
      "        The size of ``n_i`` is not the same as the length of ``ions``.\n",
      "    \n",
      "    ValueError\n",
      "        If of ``B`` or ``n_i`` is negative.\n",
      "    \n",
      "    ValueError\n",
      "        If ``w`` is negative or zero.\n",
      "    \n",
      "    ValueError\n",
      "        If ``w`` or ``theta`` are not single valued or a 1-D array.\n",
      "    \n",
      "    ~astropy.units.UnitTypeError\n",
      "        If applicable arguments do not have units convertible to the\n",
      "        expected units.\n",
      "    \n",
      "    Notes\n",
      "    -----\n",
      "    The cold plasma dispersion function is defined by\n",
      "    :cite:t:`stix:1992` in section 1-3 (and present by\n",
      "    :cite:t:`bellan:2012` in equation 8) to be\n",
      "    \n",
      "    .. math::\n",
      "        (S\\sin^{2}(\\theta) + P\\cos^{2}(\\theta))(ck/\\omega)^{4}\n",
      "            - [\n",
      "                RL\\sin^{2}(\\theta) + PS(1 + \\cos^{2}(\\theta))\n",
      "            ](ck/\\omega)^{2} + PRL = 0\n",
      "    \n",
      "    where,\n",
      "    \n",
      "    .. math::\n",
      "        \\mathbf{B_o} &= B_{o} \\mathbf{\\hat{z}} \\\\\n",
      "        \\cos \\theta &= \\frac{k_z}{k} \\\\\n",
      "        \\mathbf{k} &= k_{\\rm x} \\hat{x} + k_{\\rm z} \\hat{z}\n",
      "    \n",
      "    .. math::\n",
      "        S &= 1 - \\sum_{s} \\frac{\\omega^{2}_{p,s}}{\\omega^{2} -\n",
      "            \\omega^{2}_{c,s}}\\\\\n",
      "        P &= 1 - \\sum_{s} \\frac{\\omega^{2}_{p,s}}{\\omega^{2}}\\\\\n",
      "        D &= \\sum_{s}\n",
      "            \\frac{\\omega_{c,s}}{\\omega}\n",
      "            \\frac{\\omega^{2}_{p,s}}{\\omega^{2} -\n",
      "            \\omega_{c,s}^{2}}\n",
      "    \n",
      "    .. math::\n",
      "        R = S + D \\hspace{1cm} L = S - D\n",
      "    \n",
      "    :math:`\\omega` is the wave frequency, :math:`k` is the wavenumber,\n",
      "    :math:`\\theta` is the wave propagation angle with respect to the\n",
      "    background magntic field :math:`\\mathbf{B_o}`, :math:`s` corresponds\n",
      "    to plasma species :math:`s`, :math:`\\omega_{p,s}` is the plasma\n",
      "    frequency of species :math:`s`, and :math:`\\omega_{c,s}` is the\n",
      "    gyrofrequency of species :math:`s`. The derivation of this\n",
      "    dispersion relation assumed:\n",
      "    \n",
      "    * zero temperature for all plasma species (:math:`T_{s}=0`)\n",
      "    * quasi-neutrallity\n",
      "    * a uniform background magntic field\n",
      "      :math:`\\mathbf{B_o} = B_{o} \\mathbf{\\hat{z}}`\n",
      "    * no D.C. electric field :math:`\\mathbf{E_o}=0`\n",
      "    * zero-order quantities for all plasma parameters (densities,\n",
      "      electric-field, magnetic field, particle speeds, etc.) are\n",
      "      constant in time and space\n",
      "    * first-order perturbations in plasma parameters vary like\n",
      "      :math:`\\sim e^{\\left [ i (\\textbf{k}\\cdot\\textbf{r} - \\omega t)\\right ]}`\n",
      "    \n",
      "    Due to the cold plasma assumption, this equation is valid for all\n",
      "    :math:`\\omega` and :math:`k` given\n",
      "    :math:`\\frac{\\omega}{k_{z}} \\gg v_{Th}` for all thermal speeds\n",
      "    :math:`v_{Th}` of all plasma species and :math:`k_{x} r_{L} \\ll 1`\n",
      "    for all gyroradii :math:`r_{L}` of all plasma species.\n",
      "    \n",
      "    The relation predicts :math:`k \\to 0` when any one of P, R or L\n",
      "    vanish (cutoffs) and :math:`k \\to \\infty` for perpendicular\n",
      "    propagation during wave resonance :math:`S \\to 0`.\n",
      "    \n",
      "    Example\n",
      "    -------\n",
      "    >>> from astropy import units as u\n",
      "    >>> from plasmapy.particles import Particle\n",
      "    >>> from plasmapy.dispersion.analytical.stix_ import stix\n",
      "    >>> inputs = {\n",
      "    ...     \"B\": 8.3e-9 * u.T,\n",
      "    ...     \"w\": 0.001 * u.rad / u.s,\n",
      "    ...     \"ions\": [Particle(\"H+\"), Particle(\"He+\")],\n",
      "    ...     \"n_i\": [4.0e5,2.0e5] * u.m**-3,\n",
      "    ...     \"theta\": 30 * u.deg,\n",
      "    ... }\n",
      "    >>> stix(**inputs)\n",
      "    <Quantity [ 6.03817661e-09-0.j, -6.03817661e-09+0.j,\n",
      "        6.97262784e-09-0.j, -6.97262784e-09+0.j] rad / m>\n",
      "\n"
     ]
    }
   ],
   "source": [
    "help(stix)"
   ]
  },
  {
   "cell_type": "markdown",
   "metadata": {},
   "source": [
    "Let's the refractive index for three angles and different plasma densities"
   ]
  },
  {
   "cell_type": "code",
   "execution_count": 43,
   "metadata": {},
   "outputs": [
    {
     "name": "stdout",
     "output_type": "stream",
     "text": [
      "Y 0.6855303642204009\n"
     ]
    },
    {
     "ename": "TypeError",
     "evalue": "only dimensionless scalar quantities can be converted to Python scalars",
     "output_type": "error",
     "traceback": [
      "\u001b[1;31m---------------------------------------------------------------------------\u001b[0m",
      "\u001b[1;31mUnitConversionError\u001b[0m                       Traceback (most recent call last)",
      "File \u001b[1;32m~/PlasmaPy/.venv/lib64/python3.9/site-packages/astropy/units/quantity.py:899\u001b[0m, in \u001b[0;36mQuantity.to_value\u001b[1;34m(self, unit, equivalencies)\u001b[0m\n\u001b[0;32m    898\u001b[0m \u001b[39mtry\u001b[39;00m:\n\u001b[1;32m--> 899\u001b[0m     scale \u001b[39m=\u001b[39m \u001b[39mself\u001b[39;49m\u001b[39m.\u001b[39;49munit\u001b[39m.\u001b[39;49m_to(unit)\n\u001b[0;32m    900\u001b[0m \u001b[39mexcept\u001b[39;00m \u001b[39mException\u001b[39;00m:\n\u001b[0;32m    901\u001b[0m     \u001b[39m# Short-cut failed; try default (maybe equivalencies help).\u001b[39;00m\n",
      "File \u001b[1;32m~/PlasmaPy/.venv/lib64/python3.9/site-packages/astropy/units/core.py:1093\u001b[0m, in \u001b[0;36mUnitBase._to\u001b[1;34m(self, other)\u001b[0m\n\u001b[0;32m   1091\u001b[0m         \u001b[39mreturn\u001b[39;00m self_decomposed\u001b[39m.\u001b[39mscale \u001b[39m/\u001b[39m other_decomposed\u001b[39m.\u001b[39mscale\n\u001b[1;32m-> 1093\u001b[0m \u001b[39mraise\u001b[39;00m UnitConversionError(\n\u001b[0;32m   1094\u001b[0m     \u001b[39mf\u001b[39m\u001b[39m\"\u001b[39m\u001b[39m'\u001b[39m\u001b[39m{\u001b[39;00m\u001b[39mself\u001b[39m\u001b[39m!r}\u001b[39;00m\u001b[39m'\u001b[39m\u001b[39m is not a scaled version of \u001b[39m\u001b[39m'\u001b[39m\u001b[39m{\u001b[39;00mother\u001b[39m!r}\u001b[39;00m\u001b[39m'\u001b[39m\u001b[39m\"\u001b[39m)\n",
      "\u001b[1;31mUnitConversionError\u001b[0m: 'Unit(\"rad\")' is not a scaled version of 'Unit(dimensionless)'",
      "\nDuring handling of the above exception, another exception occurred:\n",
      "\u001b[1;31mUnitConversionError\u001b[0m                       Traceback (most recent call last)",
      "File \u001b[1;32m~/PlasmaPy/.venv/lib64/python3.9/site-packages/astropy/units/quantity.py:1257\u001b[0m, in \u001b[0;36mQuantity.__float__\u001b[1;34m(self)\u001b[0m\n\u001b[0;32m   1256\u001b[0m \u001b[39mtry\u001b[39;00m:\n\u001b[1;32m-> 1257\u001b[0m     \u001b[39mreturn\u001b[39;00m \u001b[39mfloat\u001b[39m(\u001b[39mself\u001b[39;49m\u001b[39m.\u001b[39;49mto_value(dimensionless_unscaled))\n\u001b[0;32m   1258\u001b[0m \u001b[39mexcept\u001b[39;00m (UnitsError, \u001b[39mTypeError\u001b[39;00m):\n",
      "File \u001b[1;32m~/PlasmaPy/.venv/lib64/python3.9/site-packages/astropy/units/quantity.py:902\u001b[0m, in \u001b[0;36mQuantity.to_value\u001b[1;34m(self, unit, equivalencies)\u001b[0m\n\u001b[0;32m    900\u001b[0m \u001b[39mexcept\u001b[39;00m \u001b[39mException\u001b[39;00m:\n\u001b[0;32m    901\u001b[0m     \u001b[39m# Short-cut failed; try default (maybe equivalencies help).\u001b[39;00m\n\u001b[1;32m--> 902\u001b[0m     value \u001b[39m=\u001b[39m \u001b[39mself\u001b[39;49m\u001b[39m.\u001b[39;49m_to_value(unit, equivalencies)\n\u001b[0;32m    903\u001b[0m \u001b[39melse\u001b[39;00m:\n",
      "File \u001b[1;32m~/PlasmaPy/.venv/lib64/python3.9/site-packages/astropy/units/quantity.py:809\u001b[0m, in \u001b[0;36mQuantity._to_value\u001b[1;34m(self, unit, equivalencies)\u001b[0m\n\u001b[0;32m    807\u001b[0m \u001b[39mif\u001b[39;00m \u001b[39mnot\u001b[39;00m \u001b[39mself\u001b[39m\u001b[39m.\u001b[39mdtype\u001b[39m.\u001b[39mnames \u001b[39mor\u001b[39;00m \u001b[39misinstance\u001b[39m(\u001b[39mself\u001b[39m\u001b[39m.\u001b[39munit, StructuredUnit):\n\u001b[0;32m    808\u001b[0m     \u001b[39m# Standard path, let unit to do work.\u001b[39;00m\n\u001b[1;32m--> 809\u001b[0m     \u001b[39mreturn\u001b[39;00m \u001b[39mself\u001b[39;49m\u001b[39m.\u001b[39;49munit\u001b[39m.\u001b[39;49mto(unit, \u001b[39mself\u001b[39;49m\u001b[39m.\u001b[39;49mview(np\u001b[39m.\u001b[39;49mndarray),\n\u001b[0;32m    810\u001b[0m                         equivalencies\u001b[39m=\u001b[39;49mequivalencies)\n\u001b[0;32m    812\u001b[0m \u001b[39melse\u001b[39;00m:\n\u001b[0;32m    813\u001b[0m     \u001b[39m# The .to() method of a simple unit cannot convert a structured\u001b[39;00m\n\u001b[0;32m    814\u001b[0m     \u001b[39m# dtype, so we work around it, by recursing.\u001b[39;00m\n\u001b[0;32m    815\u001b[0m     \u001b[39m# TODO: deprecate this?\u001b[39;00m\n\u001b[0;32m    816\u001b[0m     \u001b[39m# Convert simple to Structured on initialization?\u001b[39;00m\n",
      "File \u001b[1;32m~/PlasmaPy/.venv/lib64/python3.9/site-packages/astropy/units/core.py:1130\u001b[0m, in \u001b[0;36mUnitBase.to\u001b[1;34m(self, other, value, equivalencies)\u001b[0m\n\u001b[0;32m   1129\u001b[0m \u001b[39melse\u001b[39;00m:\n\u001b[1;32m-> 1130\u001b[0m     \u001b[39mreturn\u001b[39;00m \u001b[39mself\u001b[39;49m\u001b[39m.\u001b[39;49m_get_converter(Unit(other),\n\u001b[0;32m   1131\u001b[0m                                equivalencies\u001b[39m=\u001b[39;49mequivalencies)(value)\n",
      "File \u001b[1;32m~/PlasmaPy/.venv/lib64/python3.9/site-packages/astropy/units/core.py:1061\u001b[0m, in \u001b[0;36mUnitBase._get_converter\u001b[1;34m(self, other, equivalencies)\u001b[0m\n\u001b[0;32m   1059\u001b[0m                 \u001b[39mpass\u001b[39;00m\n\u001b[1;32m-> 1061\u001b[0m \u001b[39mraise\u001b[39;00m exc\n",
      "File \u001b[1;32m~/PlasmaPy/.venv/lib64/python3.9/site-packages/astropy/units/core.py:1046\u001b[0m, in \u001b[0;36mUnitBase._get_converter\u001b[1;34m(self, other, equivalencies)\u001b[0m\n\u001b[0;32m   1045\u001b[0m \u001b[39mtry\u001b[39;00m:\n\u001b[1;32m-> 1046\u001b[0m     \u001b[39mreturn\u001b[39;00m \u001b[39mself\u001b[39;49m\u001b[39m.\u001b[39;49m_apply_equivalencies(\n\u001b[0;32m   1047\u001b[0m         \u001b[39mself\u001b[39;49m, other, \u001b[39mself\u001b[39;49m\u001b[39m.\u001b[39;49m_normalize_equivalencies(equivalencies))\n\u001b[0;32m   1048\u001b[0m \u001b[39mexcept\u001b[39;00m UnitsError \u001b[39mas\u001b[39;00m exc:\n\u001b[0;32m   1049\u001b[0m     \u001b[39m# Last hope: maybe other knows how to do it?\u001b[39;00m\n\u001b[0;32m   1050\u001b[0m     \u001b[39m# We assume the equivalencies have the unit itself as first item.\u001b[39;00m\n\u001b[0;32m   1051\u001b[0m     \u001b[39m# TODO: maybe better for other to have a `_back_converter` method?\u001b[39;00m\n",
      "File \u001b[1;32m~/PlasmaPy/.venv/lib64/python3.9/site-packages/astropy/units/core.py:1022\u001b[0m, in \u001b[0;36mUnitBase._apply_equivalencies\u001b[1;34m(self, unit, other, equivalencies)\u001b[0m\n\u001b[0;32m   1020\u001b[0m other_str \u001b[39m=\u001b[39m get_err_str(other)\n\u001b[1;32m-> 1022\u001b[0m \u001b[39mraise\u001b[39;00m UnitConversionError(\n\u001b[0;32m   1023\u001b[0m     \u001b[39mf\u001b[39m\u001b[39m\"\u001b[39m\u001b[39m{\u001b[39;00munit_str\u001b[39m}\u001b[39;00m\u001b[39m and \u001b[39m\u001b[39m{\u001b[39;00mother_str\u001b[39m}\u001b[39;00m\u001b[39m are not convertible\u001b[39m\u001b[39m\"\u001b[39m)\n",
      "\u001b[1;31mUnitConversionError\u001b[0m: 'rad' (angle) and '' (dimensionless) are not convertible",
      "\nDuring handling of the above exception, another exception occurred:\n",
      "\u001b[1;31mTypeError\u001b[0m                                 Traceback (most recent call last)",
      "Cell \u001b[1;32mIn [43], line 10\u001b[0m\n\u001b[0;32m      8\u001b[0m \u001b[39mprint\u001b[39m(\u001b[39m'\u001b[39m\u001b[39mY\u001b[39m\u001b[39m'\u001b[39m,Y)\n\u001b[0;32m      9\u001b[0m theta_opt \u001b[39m=\u001b[39m np\u001b[39m.\u001b[39marccos(np\u001b[39m.\u001b[39msqrt(Y\u001b[39m/\u001b[39m(\u001b[39m1\u001b[39m\u001b[39m+\u001b[39mY)))\n\u001b[1;32m---> 10\u001b[0m theta \u001b[39m=\u001b[39m np\u001b[39m.\u001b[39;49marray([np\u001b[39m.\u001b[39;49mpi\u001b[39m/\u001b[39;49m\u001b[39m2\u001b[39;49m,theta_opt])\u001b[39m*\u001b[39mu\u001b[39m.\u001b[39mrad\n\u001b[0;32m     12\u001b[0m ions \u001b[39m=\u001b[39m Particle(\u001b[39m'\u001b[39m\u001b[39mp+\u001b[39m\u001b[39m'\u001b[39m)\n\u001b[0;32m     14\u001b[0m B \u001b[39m=\u001b[39m \u001b[39m0.06\u001b[39m\u001b[39m*\u001b[39mu\u001b[39m.\u001b[39mT\n",
      "File \u001b[1;32m~/PlasmaPy/.venv/lib64/python3.9/site-packages/astropy/units/quantity.py:1259\u001b[0m, in \u001b[0;36mQuantity.__float__\u001b[1;34m(self)\u001b[0m\n\u001b[0;32m   1257\u001b[0m     \u001b[39mreturn\u001b[39;00m \u001b[39mfloat\u001b[39m(\u001b[39mself\u001b[39m\u001b[39m.\u001b[39mto_value(dimensionless_unscaled))\n\u001b[0;32m   1258\u001b[0m \u001b[39mexcept\u001b[39;00m (UnitsError, \u001b[39mTypeError\u001b[39;00m):\n\u001b[1;32m-> 1259\u001b[0m     \u001b[39mraise\u001b[39;00m \u001b[39mTypeError\u001b[39;00m(\u001b[39m'\u001b[39m\u001b[39monly dimensionless scalar quantities can be \u001b[39m\u001b[39m'\u001b[39m\n\u001b[0;32m   1260\u001b[0m                     \u001b[39m'\u001b[39m\u001b[39mconverted to Python scalars\u001b[39m\u001b[39m'\u001b[39m)\n",
      "\u001b[1;31mTypeError\u001b[0m: only dimensionless scalar quantities can be converted to Python scalars"
     ]
    }
   ],
   "source": [
    "N = 200\n",
    "theta = np.array([np.pi/2, np.pi/6, np.pi/8])*u.rad\n",
    "n_i = np.linspace(1e10,3e17,N)*u.m**-3\n",
    "w_pe = plasma_frequency(n_i, Particle('e-'))\n",
    "w_ce = gyrofrequency(B, Particle('e-'))\n",
    "w = 2*np.pi*2.45e9*u.rad/u.s\n",
    "Y = w_ce/w\n",
    "print('Y',Y)\n",
    "theta_opt = np.arccos(np.sqrt(Y/(1+Y)))\n",
    "theta = np.array([np.pi/2,theta_opt])*u.rad\n",
    "\n",
    "ions = Particle('p+')\n",
    "\n",
    "B = 0.06*u.T\n",
    "k_arr = np.zeros((3,4,N),dtype=np.complex128)\n",
    "for i in range(0,N):\n",
    "    params = {'theta':theta,'w':w, 'ions':ions, 'n_i':n_i[i], 'B':B} \n",
    "    k = stix(**params)\n",
    "    k_arr[:,:,i] = k.value"
   ]
  },
  {
   "cell_type": "code",
   "execution_count": 36,
   "metadata": {},
   "outputs": [
    {
     "name": "stdout",
     "output_type": "stream",
     "text": [
      "Y 0.6855303642204009\n",
      "10552920064.632978 rad / s\n"
     ]
    },
    {
     "name": "stderr",
     "output_type": "stream",
     "text": [
      "/home/kirill/PlasmaPy/.venv/lib64/python3.9/site-packages/matplotlib/cbook/__init__.py:1369: ComplexWarning: Casting complex values to real discards the imaginary part\n",
      "  return np.asarray(x, float)\n"
     ]
    },
    {
     "data": {
      "image/png": "[encoded data removed]",
      "text/plain": [
       "<Figure size 640x480 with 1 Axes>"
      ]
     },
     "metadata": {},
     "output_type": "display_data"
    }
   ],
   "source": [
    "\n",
    "X = (w_pe/w)**2\n",
    "plt.plot(X,k_arr[2,0,:]*c/w)\n",
    "plt.plot(X,k_arr[2,2,:]*c/w)\n",
    "plt.yscale('log')\n",
    "print(w_ce)"
   ]
  },
  {
   "cell_type": "code",
   "execution_count": 5,
   "metadata": {},
   "outputs": [
    {
     "data": {
      "image/png": "[encoded data removed]",
      "text/plain": [
       "<Figure size 640x480 with 1 Axes>"
      ]
     },
     "metadata": {},
     "output_type": "display_data"
    }
   ],
   "source": [
    "plt.plot(X,(k_arr[2,0,:]*c/w).real)\n",
    "\n",
    "plt.yscale('log')"
   ]
  }
 ],
 "metadata": {
  "kernelspec": {
   "display_name": "Python 3.9.13 ('.venv': venv)",
   "language": "python",
   "name": "python3"
  },
  "language_info": {
   "codemirror_mode": {
    "name": "ipython",
    "version": 3
   },
   "file_extension": ".py",
   "mimetype": "text/x-python",
   "name": "python",
   "nbconvert_exporter": "python",
   "pygments_lexer": "ipython3",
   "version": "3.9.13"
  },
  "orig_nbformat": 4,
  "vscode": {
   "interpreter": {
    "hash": "0b4e0e4de91804004765d33bccf5ffb3b9b9ea025f426d888821c87b05f52d58"
   }
  }
 },
 "nbformat": 4,
 "nbformat_minor": 2
}
