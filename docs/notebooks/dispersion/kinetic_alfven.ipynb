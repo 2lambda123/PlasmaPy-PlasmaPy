{
 "cells": [
  {
   "cell_type": "markdown",
   "metadata": {
    "collapsed": true
   },
   "source": [
    "# Kinetic Alfvén Dispersion Relation\n",
    "\n",
    "[kinetic_alfvén]: ../../api_static/plasmapy.dispersion.numerical.kinetic_alfven_.rst\n",
    "[bellan2012]: https://doi.org/10.1029/2012JA017856\n",
    "[hasegawa1982]: https://doi.org/10.2172/5259641\n",
    "[morales1997]: https://doi.org/10.1063/1.872531\n",
    "[lotko1996]: https://doi.org/10.1029/95JA03712\n",
    "\n",
    "This notebook details the functionality of the [kinetic_alfvén()][kinetic_alfvén] function. This is a numerical solution to equation 5 in [Bellan 2012][bellan2012], the function is defined in [Morales 1997][morales1997] to be:\n",
    "\n",
    "$$\n",
    "         \\omega^2 = k_{\\rm z}^2 v_{\\rm A}^2 \\left(1 + \\frac{k_{\\rm x}^2\n",
    "        c_{\\rm s}^2}{\\omega_{\\rm ci}^2} \\right)\n",
    "$$\n",
    "\n",
    "where $c_{\\rm s}$ is the wave speed and $\\omega_{\\rm ci}$ as the gyrofrequency of the respective ion. Using the 2 × 2 matrix approach method from [Bellan 2012][bellan2012], this function computes the corresponding wave frequencies in units of rad / s. This approach comes from [Hasegawa 1982][hasegawa1982], [Morales 1997][morales1997] and [Lotko 1996][lotko1996]; who argued that a 3 × 3 matrix that describes warm plasma waves, is able to be represented as a 2 × 2 matrix because the compressional (i.e., fast) mode can be factored out. The result is that the determinant, when in the limit of $\\omega \\gg k_{z}^{2} c^{2}_{\\rm s}$, reduces to the kinetic Alfvén dispersion relation.  \n",
    "    \n",
    "<div class=\"alert alert-info\">\n",
    "Note\n",
    "\n",
    "The regions in which this equation is valid are:\n",
    "    \n",
    " * $\\omega \\ll \\omega_{\\rm ci}$\n",
    " * $\\nu_{\\rm Te} \\gg \\frac{\\omega}{k_{z}} \\gg \\nu_{\\rm Ti}$\n",
    " * There is no restriction on propagation angle.\n",
    "    \n",
    "with $\\nu_{\\rm Ti}$ standing for the thermal speed of the respective ion. \n",
    "    \n",
    "</div>\n",
    "\n",
    "## Contents\n",
    "\n",
    "1. [Wave Normal to the Surface](#Wave-normal-to-the-surface)\n",
    "2. [Comparison with Bellan](#Comparison-with-bellan)"
   ]
  },
  {
   "cell_type": "code",
   "execution_count": null,
   "metadata": {},
   "outputs": [],
   "source": []
  },
  {
   "cell_type": "code",
   "execution_count": null,
   "metadata": {},
   "outputs": [],
   "source": []
  }
 ],
 "metadata": {
  "kernelspec": {
   "display_name": "Python 3 (ipykernel)",
   "language": "python",
   "name": "python3"
  },
  "language_info": {
   "codemirror_mode": {
    "name": "ipython",
    "version": 3
   },
   "file_extension": ".py",
   "mimetype": "text/x-python",
   "name": "python",
   "nbconvert_exporter": "python",
   "pygments_lexer": "ipython3",
   "version": "3.9.13"
  }
 },
 "nbformat": 4,
 "nbformat_minor": 1
}
