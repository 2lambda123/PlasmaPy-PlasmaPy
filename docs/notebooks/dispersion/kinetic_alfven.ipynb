{
 "cells": [
  {
   "cell_type": "markdown",
   "metadata": {
    "collapsed": true
   },
   "source": [
    "# Kinetic Alfvén Dispersion Relation\n",
    "\n",
    "[kinetic_alfvén]: ../../api_static/plasmapy.dispersion.numerical.kinetic_alfven_.rst\n",
    "[bellan2012]: https://doi.org/10.1029/2012JA017856\n",
    "[hasegawa1982]: https://doi.org/10.2172/5259641\n",
    "[morales1997]: https://doi.org/10.1063/1.872531\n",
    "[lotko1996]: https://doi.org/10.1029/95JA03712\n",
    "\n",
    "This notebook details the functionality of the [kinetic_alfven()][kinetic_alfvén] function. This is a numerical solution to equation 5 in [Bellan 2012][bellan2012], the function is defined in [Morales 1997][morales1997] to be:\n",
    "\n",
    "$$\n",
    "         \\omega^2 = k_{\\rm z}^2 v_{\\rm A}^2 \\left(1 + \\frac{k_{\\rm x}^2\n",
    "        c_{\\rm s}^2}{\\omega_{\\rm ci}^2} \\right)\n",
    "$$\n",
    "\n",
    "where $c_{\\rm s}$ is the wave speed and $\\omega_{\\rm ci}$ as the gyrofrequency of the respective ion. Using the 2 × 2 matrix approach method from [Bellan 2012][bellan2012], this function computes the corresponding wave frequencies in units of rad / s. This approach comes from [Hasegawa 1982][hasegawa1982], [Morales 1997][morales1997] and [Lotko 1996][lotko1996]; who argued that a 3 × 3 matrix that describes warm plasma waves, is able to be represented as a 2 × 2 matrix because the compressional (i.e., fast) mode can be factored out. The result is that the determinant, when in the limit of $\\omega \\gg k_{z}^{2} c^{2}_{\\rm s}$, reduces to the kinetic Alfvén dispersion relation.  \n",
    "    \n",
    "<div class=\"alert alert-info\">\n",
    "Note\n",
    "\n",
    "The regions in which this equation is valid are:\n",
    "    \n",
    " * $\\omega \\ll \\omega_{\\rm ci}$\n",
    " * $\\nu_{\\rm Te} \\gg \\frac{\\omega}{k_{z}} \\gg \\nu_{\\rm Ti}$\n",
    " * There is no restriction on propagation angle.\n",
    "    \n",
    "with $\\nu_{\\rm Ti}$ standing for the thermal speed of the respective ion. \n",
    "    \n",
    "</div>\n",
    "\n",
    "## Contents\n",
    "\n",
    "1. [Wave Normal to the Surface](#Wave-normal-to-the-surface)"
   ]
  },
  {
   "cell_type": "code",
   "execution_count": 1,
   "metadata": {},
   "outputs": [
    {
     "ename": "ImportError",
     "evalue": "cannot import name 'kinetic_alfven_' from 'plasmapy.dispersion.numerical' (/Users/elliotjohnson/opt/anaconda3/envs/test/lib/python3.9/site-packages/plasmapy/dispersion/numerical/__init__.py)",
     "output_type": "error",
     "traceback": [
      "\u001b[0;31m---------------------------------------------------------------------------\u001b[0m",
      "\u001b[0;31mImportError\u001b[0m                               Traceback (most recent call last)",
      "Input \u001b[0;32mIn [1]\u001b[0m, in \u001b[0;36m<cell line: 4>\u001b[0;34m()\u001b[0m\n\u001b[1;32m      2\u001b[0m \u001b[38;5;28;01mfrom\u001b[39;00m \u001b[38;5;21;01mastropy\u001b[39;00m \u001b[38;5;28;01mimport\u001b[39;00m units \u001b[38;5;28;01mas\u001b[39;00m u\n\u001b[1;32m      3\u001b[0m \u001b[38;5;28;01mfrom\u001b[39;00m \u001b[38;5;21;01mplasmapy\u001b[39;00m\u001b[38;5;21;01m.\u001b[39;00m\u001b[38;5;21;01mparticles\u001b[39;00m \u001b[38;5;28;01mimport\u001b[39;00m Particle\n\u001b[0;32m----> 4\u001b[0m \u001b[38;5;28;01mfrom\u001b[39;00m \u001b[38;5;21;01mplasmapy\u001b[39;00m\u001b[38;5;21;01m.\u001b[39;00m\u001b[38;5;21;01mdispersion\u001b[39;00m\u001b[38;5;21;01m.\u001b[39;00m\u001b[38;5;21;01mnumerical\u001b[39;00m \u001b[38;5;28;01mimport\u001b[39;00m kinetic_alfven_\n",
      "\u001b[0;31mImportError\u001b[0m: cannot import name 'kinetic_alfven_' from 'plasmapy.dispersion.numerical' (/Users/elliotjohnson/opt/anaconda3/envs/test/lib/python3.9/site-packages/plasmapy/dispersion/numerical/__init__.py)"
     ]
    }
   ],
   "source": [
    "import numpy as np\n",
    "\n",
    "from astropy import units as u\n",
    "from matplotlib import pyplot as plt\n",
    "\n",
    "from plasmapy.dispersion.numerical.kinetic_alfven_ import kinetic_alfven\n",
    "from plasmapy.particles import Particle\n",
    "\n",
    "plt.rcParams[\"figure.figsize\"] = [10.5, 0.56 * 10.5]"
   ]
  },
  {
   "cell_type": "markdown",
   "metadata": {},
   "source": [
    "## Wave Normal to the Surface\n",
    "\n",
    "To calculate t"
   ]
  },
  {
   "cell_type": "code",
   "execution_count": null,
   "metadata": {},
   "outputs": [],
   "source": [
    "# define input parameters\n",
    "inputs = {\n",
    "    \"B\": 8.3e-9 * u.T,\n",
    "    \"ion\": Particle(\"p+\"),\n",
    "    \"k\": np.logspace(-7, -2, 2) * u.rad / u.m,\n",
    "    \"n_i\": 5 * u.m**-3,\n",
    "    \"T_e\": 1.6e6 * u.K,\n",
    "    \"T_i\": 4.0e5 * u.K,\n",
    "    \"theta\": 30 * u.deg,\n",
    "    \"gamma_e\": 3,\n",
    "    \"gamma_i\": 3,\n",
    "    \"z_mean\": 1,\n",
    "}\n",
    "\n",
    "# calculate values\n",
    "kinetic_alfven(**inputs)\n",
    "\n",
    "# define parameters for plots\n",
    "fs = 14  # default font size\n",
    "figwidth, figheight = plt.rcParams[\"figure.figsize\"]\n",
    "figheight = 1.6 * figheight\n",
    "fig = plt.figure(figsize=[figwidth, figheight])\n",
    "\n",
    "plt.tick_params(\n",
    "    which=\"both\",\n",
    "    direction=\"in\",\n",
    "    labelsize=fs,\n",
    "    right=True,\n",
    "    length=5,\n",
    ")\n",
    "\n",
    "# plot caption\n",
    "txt = f\"Fig. 1-1: .\""
   ]
  },
  {
   "cell_type": "code",
   "execution_count": null,
   "metadata": {},
   "outputs": [],
   "source": []
  }
 ],
 "metadata": {
  "kernelspec": {
   "display_name": "Python 3 (ipykernel)",
   "language": "python",
   "name": "python3"
  },
  "language_info": {
   "codemirror_mode": {
    "name": "ipython",
    "version": 3
   },
   "file_extension": ".py",
   "mimetype": "text/x-python",
   "name": "python",
   "nbconvert_exporter": "python",
   "pygments_lexer": "ipython3",
   "version": "3.9.13"
  }
 },
 "nbformat": 4,
 "nbformat_minor": 1
}
