{
 "cells": [
  {
   "cell_type": "markdown",
   "id": "06f7f570",
   "metadata": {
    "pycharm": {
     "name": "#%% md\n"
    }
   },
   "source": [
    "# Stix Dispersion Solver\n",
    "\n",
    "[stix]: ../../api_static/plasmapy.dispersion.analytical.stix_.rst\n",
    "[bellan2012]: https://doi.org/10.1029/2012JA017856\n",
    "[stix1992]: https://link.springer.com/book/9780883188590\n",
    "\n",
    "This notebook details the functionality of the [stix()][stix] function. This is an analytical solution of equation 8 in [Bellan 2012][bellan2012], the function is defined by Stix [1992] in section 1-3 to be:\n",
    "\n",
    "$$\n",
    "        (S\\sin^{2}(\\theta) + P\\cos^{2}(\\theta))(ck/\\omega)^{4}\n",
    "            - [\n",
    "                RL\\sin^{2}(\\theta) + PS(1 + \\cos^{2}(\\theta))\n",
    "            ](ck/\\omega)^{2} + PRL = 0\n",
    "$$\n",
    "\n",
    "where,\n",
    "\n",
    "$$\n",
    "        \\mathbf{B_o} = B_{o} \\mathbf{\\hat{z}}   \n",
    "         \\cos \\theta = \\frac{k_z}{k} \\\\\n",
    "        \\mathbf{k} = k_{\\rm x} \\hat{x} + k_{\\rm z} \\hat{z}\n",
    "$$\n",
    "\n",
    "$$\n",
    "        S = 1 - \\sum_{s} \\frac{\\omega^{2}_{p,s}}{\\omega^{2} -\n",
    "            \\omega^{2}_{c,s}}\\hspace{2.5cm}\n",
    "        P = 1 - \\sum_{s} \\frac{\\omega^{2}_{p,s}}{\\omega^{2}}\\hspace{2.5cm}\n",
    "        D = \\sum_{s}\n",
    "            \\frac{\\omega_{c,s}}{\\omega}\n",
    "            \\frac{\\omega^{2}_{p,s}}{\\omega^{2} -\n",
    "            \\omega_{c,s}^{2}}\n",
    "$$\n",
    "\n",
    "$$\n",
    "        R = S + D \\hspace{1cm} L = S - D\n",
    "$$\n",
    "\n",
    "$\\omega$ is the wave frequency, $k$ is the wavenumber, $\\theta$ is the wave propagation angle with respect to the background magntic field $\\mathbf{B_o}$, $s$ corresponds to plasma species $s$, $\\omega_{p,s}$ is the plasma frequency of species $s$, and $\\omega_{c,s}$ is the gyrofrequency of species $s$.\n",
    "\n",
    "<div class=\"alert alert-info\">\n",
    "Note\n",
    "\n",
    "The derivation of this dispersion relation assumed:\n",
    "    \n",
    " * zero temperature for all plasma species ($T_{s}=0$)\n",
    " * quasi-neutrallity\n",
    " * a uniform background magntic field $\\mathbf{B_o} = B_{o} \\mathbf{\\hat{z}}$\n",
    " * no D.C. electric field $\\mathbf{E_o}=0$\n",
    " * zero-order quantities for all plasma parameters (densities, electric-field, magnetic field, particle speeds, etc.) are constant in time and space\n",
    " * first-order perturbations in plasma parameters vary like $\\sim e^{\\left [ i (\\textbf{k}\\cdot\\textbf{r} - \\omega t)\\right ]}$\n",
    "    \n",
    "</div>  \n",
    "\n",
    "Due to the cold plasma assumption, this equation is valid for all $\\omega$ and $k$ given $\\frac{\\omega}{k_{z}} \\gg v_{Th}$ for all thermal speeds $v_{Th}$ of all plasma species and $k_{x} r_{L} \\ll 1$ for all gyroradii $r_{L}$ of all plasma species. The relation predicts $k \\to 0$ when any one of P, R or L vanish (cutoffs) and $k \\to \\infty$ for perpendicular propagation during wave resonance $S \\to 0$.\n",
    " \n",
    "\n",
    "## Contents\n",
    "\n",
    "1. [Wave Normal to the Surface](#Wave-normal-to-the-surface)\n",
    "2. [Comparison with Bellan](#Comparison-with-bellan)"
   ]
  },
  {
   "cell_type": "code",
   "execution_count": 1,
   "id": "6c39b442",
   "metadata": {
    "pycharm": {
     "name": "#%%\n"
    }
   },
   "outputs": [],
   "source": [
    "import functools\n",
    "import matplotlib.pyplot as plt\n",
    "import numpy as np\n",
    "import scipy\n",
    "import warnings\n",
    "\n",
    "from astropy import units as u\n",
    "from astropy.constants import eps0\n",
    "from astropy.constants.si import c\n",
    "\n",
    "from plasmapy.dispersion.analytical.stix_ import stix\n",
    "from plasmapy.dispersion.analytical.two_fluid_ import two_fluid\n",
    "from plasmapy.formulary import speeds\n",
    "from plasmapy.formulary.frequencies import gyrofrequency, plasma_frequency\n",
    "from plasmapy.formulary.lengths import inertial_length\n",
    "from plasmapy.particles import Particle\n",
    "\n",
    "np.set_printoptions(precision=4, threshold=20)\n",
    "\n",
    "plt.rcParams[\"figure.figsize\"] = [10.5, 0.56 * 10.5]"
   ]
  },
  {
   "cell_type": "markdown",
   "id": "f5d0b2fc",
   "metadata": {
    "pycharm": {
     "name": "#%% md\n"
    }
   },
   "source": [
    "## Wave Normal to the Surface\n",
    "\n",
    "Below we define the required parameters to compute the wave numbers."
   ]
  },
  {
   "cell_type": "code",
   "execution_count": 2,
   "id": "ab1a4b91",
   "metadata": {
    "pycharm": {
     "name": "#%%\n"
    }
   },
   "outputs": [],
   "source": [
    "# define input parameters\n",
    "inputs_1 = {\n",
    "    \"theta\": np.linspace(0, np.pi, 50) * u.rad,\n",
    "    \"ions\": Particle(\"p\"),\n",
    "    \"n_i\": 1e12 * u.cm**-3,\n",
    "    \"B\": 0.43463483142776164 * u.T,\n",
    "    \"w\": 41632.94534008216 * u.rad / u.s,\n",
    "}\n",
    "\n",
    "# define a meshgrid based on the number of theta values\n",
    "omegas, thetas = np.meshgrid(\n",
    "    inputs_1[\"w\"].value, inputs_1[\"theta\"].value, indexing=\"ij\"\n",
    ")\n",
    "omegas = np.dstack((omegas,) * 4).squeeze()\n",
    "thetas = np.dstack((thetas,) * 4).squeeze()\n",
    "\n",
    "# compute k values\n",
    "k = stix(**inputs_1)"
   ]
  },
  {
   "cell_type": "markdown",
   "id": "57d74632",
   "metadata": {
    "pycharm": {
     "name": "#%% md\n"
    }
   },
   "source": [
    "[Quantity]: https://docs.astropy.org/en/stable/api/astropy.units.Quantity.html#astropy.units.Quantity\n",
    "\n",
    "The computed wavenubmers in units (rad/m) are returned in a dictionary (shape $N \\times M \\times 4$), with the keys representing $\\theta$ and the values (instances of Astropy [Quantity]) being the wavenumbers. The first dimension maps to the $w$ array, the second dimension maps to the $\\theta$ array, and the third dimension maps to the four roots of the Stix polynomial.\n",
    "* $k[0]$ is the square root of the positive quadratic solution\n",
    "* $k[1] = -k[0]$\n",
    "* $k[2]$ is the square root of the negative quadratic solution\n",
    "* $k[3] = -k[2]$\n",
    "\n",
    "Below the values for $u_{x}$ and $u_{z}$ are calculated."
   ]
  },
  {
   "cell_type": "code",
   "execution_count": 3,
   "id": "761f2782",
   "metadata": {
    "pycharm": {
     "name": "#%%\n"
    }
   },
   "outputs": [],
   "source": [
    "# calculate ux and uz\n",
    "\n",
    "u_v = {}\n",
    "\n",
    "mask = np.imag(k) == 0\n",
    "\n",
    "va = speeds.va_(inputs_1[\"B\"], inputs_1[\"n_i\"], ion=inputs_1[\"ions\"])\n",
    "for arr in k:\n",
    "    val = 0\n",
    "    for item in arr:\n",
    "        val = val + item**2\n",
    "    norm = (np.sqrt(val) * va / inputs_1[\"w\"]).value ** 2\n",
    "    u_v = {\n",
    "        \"ux\": norm * omegas[mask] * np.sin(thetas[mask]) / (k.value[mask] * c.value),\n",
    "        \"uz\": norm * omegas[mask] * np.cos(thetas[mask]) / (k.value[mask] * c.value),\n",
    "    }"
   ]
  },
  {
   "cell_type": "markdown",
   "id": "4084ffc7",
   "metadata": {
    "pycharm": {
     "name": "#%% md\n"
    }
   },
   "source": [
    "Let's plot the results."
   ]
  },
  {
   "cell_type": "code",
   "execution_count": 4,
   "id": "bcb06d10",
   "metadata": {
    "pycharm": {
     "name": "#%%\n"
    }
   },
   "outputs": [
    {
     "name": "stderr",
     "output_type": "stream",
     "text": [
      "/Users/elliotjohnson/opt/anaconda3/envs/test/lib/python3.9/site-packages/matplotlib/collections.py:196: ComplexWarning: Casting complex values to real discards the imaginary part\n",
      "  offsets = np.asanyarray(offsets, float)\n",
      "/Users/elliotjohnson/opt/anaconda3/envs/test/lib/python3.9/site-packages/matplotlib/transforms.py:2877: ComplexWarning: Casting complex values to real discards the imaginary part\n",
      "  vmin, vmax = map(float, [vmin, vmax])\n"
     ]
    },
    {
     "data": {
      "image/png": "[encoded data removed]",
      "text/plain": [
       "<Figure size 756x677.376 with 1 Axes>"
      ]
     },
     "metadata": {
      "needs_background": "light"
     },
     "output_type": "display_data"
    }
   ],
   "source": [
    "# plotting the results\n",
    "\n",
    "fs = 14  # default font size\n",
    "figwidth, figheight = plt.rcParams[\"figure.figsize\"]\n",
    "figheight = 1.6 * figheight\n",
    "fig = plt.figure(figsize=[figwidth, figheight])\n",
    "\n",
    "plt.scatter(\n",
    "    u_v[\"ux\"],\n",
    "    u_v[\"uz\"],\n",
    "    label=\"Stix: Fig. 1-1\",\n",
    ")\n",
    "\n",
    "# adjust axes\n",
    "plt.xlabel(r\"$u_{x}$\", fontsize=fs)\n",
    "plt.ylabel(r\"$u_{z}$\", fontsize=fs)\n",
    "\n",
    "pad = 1.25\n",
    "plt.ylim(min(u_v[\"uz\"]) * pad, max(u_v[\"uz\"]) * pad)\n",
    "plt.xlim(min(u_v[\"ux\"]) * pad, max(u_v[\"ux\"]) * pad)\n",
    "\n",
    "plt.tick_params(\n",
    "    which=\"both\",\n",
    "    direction=\"in\",\n",
    "    labelsize=fs,\n",
    "    right=True,\n",
    "    length=5,\n",
    ")\n",
    "\n",
    "# plot caption\n",
    "txt = (\n",
    "    f\"Fig. 1-1: Waves normal surfaces, parameters represent \\nthe shear Alfén wave \"\n",
    "    \"and the compressional Alfvén wave. \\nThe zero-order magnetic field is directed along \"\n",
    "    \" the z-axis.\"\n",
    ")\n",
    "\n",
    "plt.figtext(0, -0.08, txt, ha=\"left\", fontsize=fs)\n",
    "plt.legend(loc=\"upper left\", markerscale=1, fontsize=fs)\n",
    "\n",
    "plt.show()"
   ]
  },
  {
   "cell_type": "markdown",
   "id": "68791198",
   "metadata": {
    "pycharm": {
     "name": "#%% md\n"
    }
   },
   "source": [
    "Here we can define the parameters for all the plots in Stix [1992]."
   ]
  },
  {
   "cell_type": "code",
   "execution_count": 5,
   "id": "198fe5d2",
   "metadata": {
    "pycharm": {
     "name": "#%%\n"
    }
   },
   "outputs": [],
   "source": [
    "# define inputs\n",
    "inputs_2 = {\n",
    "    \"theta\": np.linspace(0, np.pi, 50) * u.rad,\n",
    "    \"ions\": Particle(\"p\"),\n",
    "    \"n_i\": 1e12 * u.cm**-3,\n",
    "    \"B\": 0.434 * u.T,\n",
    "    \"w\": (37125810) * u.rad / u.s,\n",
    "}\n",
    "\n",
    "inputs_3 = {\n",
    "    \"theta\": np.linspace(0, np.pi, 50) * u.rad,\n",
    "    \"ions\": Particle(\"p\"),\n",
    "    \"n_i\": 1e12 * u.cm**-3,\n",
    "    \"B\": 0.434534 * u.T,\n",
    "    \"w\": (2 * 10**10) * u.rad / u.s,\n",
    "}\n",
    "\n",
    "\n",
    "inputs_4 = {\n",
    "    \"theta\": np.linspace(0, np.pi, 50) * u.rad,\n",
    "    \"ions\": Particle(\"p\"),\n",
    "    \"n_i\": 1e12 * u.cm**-3,\n",
    "    \"B\": 0.434600 * u.T,\n",
    "    \"w\": (54 * 10**9) * u.rad / u.s,\n",
    "}\n",
    "\n",
    "\n",
    "inputs_5 = {\n",
    "    \"theta\": np.linspace(0, np.pi, 50) * u.rad,\n",
    "    \"ions\": Particle(\"p\"),\n",
    "    \"n_i\": 1e12 * u.cm**-3,\n",
    "    \"B\": 0.434634 * u.T,\n",
    "    \"w\": (58 * 10**9) * u.rad / u.s,\n",
    "}\n",
    "\n",
    "# define a list of all inputs\n",
    "inputs = [inputs_1, inputs_2, inputs_3, inputs_4, inputs_5]"
   ]
  },
  {
   "cell_type": "markdown",
   "id": "92791878",
   "metadata": {
    "pycharm": {
     "name": "#%% md\n"
    }
   },
   "source": [
    "Following on, the same method implemented on the first set of input parameters can be implemented on the rest. After which the result for all inputs can be plotted."
   ]
  },
  {
   "cell_type": "code",
   "execution_count": 6,
   "id": "ffbad4f1",
   "metadata": {
    "pycharm": {
     "name": "#%%\n"
    }
   },
   "outputs": [],
   "source": [
    "stix_plt = {}\n",
    "\n",
    "ux = {}\n",
    "uz = {}\n",
    "\n",
    "for i in range(len(inputs)):\n",
    "    stix_plt[i] = {}\n",
    "\n",
    "\n",
    "for i, inpt in enumerate(inputs):\n",
    "    omegas, thetas = np.meshgrid(inpt[\"w\"].value, inpt[\"theta\"].value, indexing=\"ij\")\n",
    "    omegas = np.dstack((omegas,) * 4).squeeze()\n",
    "    thetas = np.dstack((thetas,) * 4).squeeze()\n",
    "\n",
    "    k = stix(**inpt)\n",
    "\n",
    "    mask = np.imag(k) == 0\n",
    "\n",
    "    va = speeds.va_(inpt[\"B\"], inpt[\"n_i\"], ion=inpt[\"ions\"])\n",
    "\n",
    "    for arr in k:\n",
    "        val = 0\n",
    "        for item in arr:\n",
    "            val = val + item**2\n",
    "        norm = (np.sqrt(val) * va / inpt[\"w\"]).value ** 2\n",
    "        stix_plt[i] = {\n",
    "            \"ux\": norm\n",
    "            * omegas[mask]\n",
    "            * np.sin(thetas[mask])\n",
    "            / (k.value[mask] * c.value),\n",
    "            \"uz\": norm\n",
    "            * omegas[mask]\n",
    "            * np.cos(thetas[mask])\n",
    "            / (k.value[mask] * c.value),\n",
    "        }"
   ]
  },
  {
   "cell_type": "markdown",
   "id": "d7bb34a5",
   "metadata": {
    "pycharm": {
     "name": "#%% md\n"
    }
   },
   "source": [
    "Plotting the results."
   ]
  },
  {
   "cell_type": "code",
   "execution_count": 7,
   "id": "91766a68",
   "metadata": {
    "pycharm": {
     "name": "#%%\n"
    }
   },
   "outputs": [
    {
     "data": {
      "image/png": "[encoded data removed]",
      "text/plain": [
       "<Figure size 432x460.8 with 4 Axes>"
      ]
     },
     "metadata": {
      "needs_background": "light"
     },
     "output_type": "display_data"
    }
   ],
   "source": [
    "fs = 14  # default font size\n",
    "figwidth, figheight = plt.rcParams[\"figure.figsize\"]\n",
    "figheight = 1.6 * figheight\n",
    "fig, axs = plt.subplots(2, 2, figsize=[figwidth, figheight])\n",
    "\n",
    "\n",
    "for i in range(2):\n",
    "    for j in range(2):\n",
    "        axs[i, j].scatter(\n",
    "            stix_plt[i + 2 * j + 1][\"ux\"], stix_plt[i + 2 * j + 1][\"uz\"], label=\"dfwd\"\n",
    "        )\n",
    "        axs[i, j].set_title(\"Stix: Fig. 1-\" + str(i + 2 * j + 2), fontsize=fs)\n",
    "\n",
    "        # adjust axes\n",
    "        axs[i, j].set(\n",
    "            ylabel=r\"$u_{z}$\",\n",
    "            xlabel=r\"$u_{z}$\",\n",
    "        )\n",
    "\n",
    "        pad = 1.25\n",
    "        axs[i, j].set_ylim(\n",
    "            min(stix_plt[i + 2 * j + 1][\"uz\"]) * pad,\n",
    "            max(stix_plt[i + 2 * j + 1][\"uz\"]) * pad,\n",
    "        )\n",
    "        axs[i, j].set_xlim(\n",
    "            min(stix_plt[i + 2 * j + 1][\"ux\"]) * pad,\n",
    "            max(stix_plt[i + 2 * j + 1][\"ux\"]) * pad,\n",
    "        )\n",
    "\n",
    "        axs[i, j].tick_params(\n",
    "            which=\"both\",\n",
    "            direction=\"in\",\n",
    "            labelsize=fs,\n",
    "            right=True,\n",
    "            length=5,\n",
    "        )\n",
    "\n",
    "\n",
    "# plot caption\n",
    "txt = (\n",
    "    f\"Waves normal surfaces, parameters represent \\nthe shear Alfén wave \"\n",
    "    \"and the compressional Alfvén wave. \\nThe zero-order magnetic field is directed along \"\n",
    "    \" the z-axis.\"\n",
    ")\n",
    "\n",
    "plt.figtext(0, -0.08, txt, ha=\"left\", fontsize=fs)\n",
    "\n",
    "\n",
    "plt.show()"
   ]
  },
  {
   "cell_type": "markdown",
   "id": "fd5120ec",
   "metadata": {
    "pycharm": {
     "name": "#%% md\n"
    }
   },
   "source": [
    "## Comparison with Bellan\n",
    "\n",
    "Below we run a Comparison between the solution provided in Bellan [2012] and our own solutions computed from [stix()][stix]. To begin we first have to define some parameter."
   ]
  },
  {
   "cell_type": "markdown",
   "id": "0bc5dcc9",
   "metadata": {
    "pycharm": {
     "name": "#%% md\n"
    }
   },
   "source": [
    "In the first instance a cold plasma limit of $T_{e} = \\, {\\rm K}$ and $T_{H+} = \\, {\\rm K}$ are assumed. In the second instance a warm plasma limit of $T_{e} = \\, {\\rm K}$ and $T_{H+} = \\, {\\rm K}$ are assumed."
   ]
  },
  {
   "cell_type": "code",
   "execution_count": 8,
   "id": "7a934bae",
   "metadata": {
    "pycharm": {
     "name": "#%%\n"
    }
   },
   "outputs": [],
   "source": [
    "def norm_bellan_plot(**inputs):\n",
    "    \"\"\"\n",
    "    Function creating Bellan style normalized\n",
    "    dependent and independent variables from given\n",
    "    dispersion parameters, wave-frequencies, and\n",
    "    wavenumbers.\n",
    "    \"\"\"\n",
    "    w = inputs[\"w\"]\n",
    "    k = inputs[\"k\"]\n",
    "    theta = inputs[\"theta\"]\n",
    "\n",
    "    if w.shape == k.shape:\n",
    "        pass\n",
    "    elif w.size == 1 or k.size == 1:\n",
    "        pass\n",
    "    elif w.ndim > 2 or k.ndim > 2:\n",
    "        raise ValueError\n",
    "    elif k.shape[0] != w.shape[0]:\n",
    "        raise ValueError\n",
    "    elif k.ndim > w.ndim:\n",
    "        w = np.repeat(w[..., np.newaxis], k.shape[1], axis=1)\n",
    "    elif k.ndim < w.ndim:\n",
    "        k = np.repeat(k[..., np.newaxis], w.shape[1], axis=1)\n",
    "\n",
    "    if theta.ndim != 1 or theta.size != w.shape[-1]:\n",
    "        raise ValueError\n",
    "\n",
    "    try:\n",
    "        ion = inputs[\"ion\"]\n",
    "    except KeyError:\n",
    "        ion = inputs[\"ions\"][0]\n",
    "    va = speeds.va_(inputs[\"B\"], inputs[\"n_i\"], ion=ion)\n",
    "\n",
    "    mag = ((w / (k * va)).to(u.dimensionless_unscaled).value) ** 2\n",
    "    theta = theta.to(u.radian).value\n",
    "\n",
    "    xnorm = mag * np.sin(theta)\n",
    "    ynorm = mag * np.cos(theta)\n",
    "\n",
    "    return np.array([xnorm, ynorm])"
   ]
  },
  {
   "cell_type": "markdown",
   "id": "1575fa79-6bc1-4fbf-8864-89fb528deab5",
   "metadata": {},
   "source": [
    "Let's solve the Bellan solution for identical plasma parameters, except for a Hot case and a Cold case temperature."
   ]
  },
  {
   "cell_type": "code",
   "execution_count": 9,
   "id": "311d3329-bc67-4350-81f9-1e48ef54ca0d",
   "metadata": {},
   "outputs": [],
   "source": [
    "# Bellan's original inputs\n",
    "# inputs = {\n",
    "#     \"B\": 400e-4 * u.T,\n",
    "#     \"ion\": Particle(\"He+\"),\n",
    "#     \"n_i\": 6.358e19 * u.m**-3,\n",
    "#     \"T_e\": 20 * u.eV,\n",
    "#     \"T_i\": 10 * u.eV,\n",
    "#     \"theta\": np.linspace(0, 90) * u.deg,\n",
    "#     \"k\": (2 * np.pi * u.rad) / (0.56547 * u.m),\n",
    "# }\n",
    "base_inputs = {\n",
    "    # \"k\": np.linspace(10**-7, 10**-2, 10000) * u.rad / u.m,\n",
    "    \"k\": (2 * np.pi * u.rad) / (0.56547 * u.m),\n",
    "    \"theta\": np.linspace(0, 0.49 * np.pi, 50) * u.rad,\n",
    "    \"ion\": Particle(\"He+\"),\n",
    "    \"n_i\": 6.358e19 * u.m**-3,\n",
    "    \"B\": 400e-4 * u.T,\n",
    "}\n",
    "hot_inputs = {\n",
    "    **base_inputs,\n",
    "    \"T_e\": 20 * u.eV,\n",
    "    \"T_i\": 10 * u.eV,\n",
    "}\n",
    "cold_inputs = {\n",
    "    **base_inputs,\n",
    "    \"T_e\": 0.1 * u.eV,\n",
    "    \"T_i\": 0.1 * u.eV,\n",
    "}\n",
    "\n",
    "w_tf_hot = two_fluid(**hot_inputs)\n",
    "w_tf_cold = two_fluid(**cold_inputs)"
   ]
  },
  {
   "cell_type": "markdown",
   "id": "a40dd1da-b1fe-45bd-9e34-54139fc45b44",
   "metadata": {},
   "source": [
    "Create normalized arrays for plotting."
   ]
  },
  {
   "cell_type": "code",
   "execution_count": 10,
   "id": "b081fab3-672e-4bff-98a9-e331b4ef61f3",
   "metadata": {},
   "outputs": [],
   "source": [
    "plt_tf_hot = {}\n",
    "for key, val in w_tf_hot.items():\n",
    "    plt_tf_hot[key] = norm_bellan_plot(**{**hot_inputs, \"w\": val})\n",
    "\n",
    "plt_tf_cold = {}\n",
    "for key, val in w_tf_cold.items():\n",
    "    plt_tf_cold[key] = norm_bellan_plot(**{**cold_inputs, \"w\": val})"
   ]
  },
  {
   "cell_type": "markdown",
   "id": "3e1a3fb9-f4e1-43c9-8f3d-1127eaff98d1",
   "metadata": {},
   "source": [
    "Setup Stix inputs using the Bellan inputs as a base."
   ]
  },
  {
   "cell_type": "code",
   "execution_count": 11,
   "id": "71ae8f86-a1ce-4d04-a39c-c366410eddd8",
   "metadata": {},
   "outputs": [],
   "source": [
    "stix_inputs = {**base_inputs, \"ions\": [base_inputs[\"ion\"]]}\n",
    "del stix_inputs[\"k\"]\n",
    "del stix_inputs[\"ion\"]"
   ]
  },
  {
   "cell_type": "markdown",
   "id": "77aa0f82-0eb9-4e46-8dbb-1fffd07a291b",
   "metadata": {},
   "source": [
    "Create a version of `stix()` that can be optimized by `scipy.optimize.root_scalar()`."
   ]
  },
  {
   "cell_type": "code",
   "execution_count": 12,
   "id": "d8dc6b69-0e6c-4835-8eaa-e64f8d9b9c00",
   "metadata": {},
   "outputs": [],
   "source": [
    "# Partially bind plasma parameter keywords to stix()\n",
    "_opt = stix_inputs.copy()\n",
    "del _opt[\"theta\"]\n",
    "stix_partial = functools.partial(stix, **_opt)\n",
    "\n",
    "\n",
    "def stix_optimize(w, theta, mode, k_expected):\n",
    "    \"\"\"\n",
    "    Returns `stix(**inputs) - k_expected`.\n",
    "\n",
    "    All parameters need to be stripped of units because\n",
    "    scipy and astropy.units do not always play nicely\n",
    "    with each other.\n",
    "    \"\"\"\n",
    "    w = np.abs(w)\n",
    "    results = stix_partial(w=w * u.rad / u.s, theta=theta * u.rad).value\n",
    "\n",
    "    # only consider real and positive solutions\n",
    "    real_mask = np.where(np.imag(results) == 0, True, False)\n",
    "    pos_mask = np.where(np.real(results) > 0, True, False)\n",
    "    mask = np.logical_and(real_mask, pos_mask)\n",
    "\n",
    "    # get the correct k to compare\n",
    "    if np.count_nonzero(mask) == 1:\n",
    "        results = np.real(results[mask][0])\n",
    "    elif mode == \"fast_mode\":\n",
    "        # fast_mode has a larger phase velocity than\n",
    "        # the alfven_mode, thus take the smaller k-value\n",
    "        results = np.min(np.real(results[mask]))\n",
    "    else:  # alfven_mode\n",
    "        results = np.max(np.real(results[mask]))\n",
    "\n",
    "    return results - k_expected"
   ]
  },
  {
   "cell_type": "markdown",
   "id": "9e4d87f2-4fae-4c0e-98eb-ee4e19244b61",
   "metadata": {},
   "source": [
    "Let's use the Cold case Bellan solution to solve for the Stix solution.  Note only the `fast_mode` and `slow_mode` solutions are being used to seed the Stix solution, because the `acoustic_mode` disappears in the cold plasma limit."
   ]
  },
  {
   "cell_type": "code",
   "execution_count": 13,
   "id": "c362f819-9b7e-4e8d-bb81-7cdbd6323a53",
   "metadata": {},
   "outputs": [
    {
     "data": {
      "text/plain": [
       "(11.111438815816198,\n",
       " {'fast_mode': array([11.1114, 11.1114, 11.1114, ..., 11.1114, 11.1114, 11.1114]),\n",
       "  'alfven_mode': array([11.1114, 11.1114, 11.1114, ..., 11.1114, 11.1114, 11.1114])},\n",
       " {'fast_mode': array([832492.762 , 832225.5109, 831424.7464, ..., 610986.8975,\n",
       "         610380.783 , 610018.7243]),\n",
       "  'alfven_mode': array([446821.8366, 446744.7733, 446512.9729, ...,  57294.2385,\n",
       "          38265.5608,  19153.5873])})"
      ]
     },
     "execution_count": 13,
     "metadata": {},
     "output_type": "execute_result"
    }
   ],
   "source": [
    "theta_arr = cold_inputs[\"theta\"].value\n",
    "k_expected = base_inputs[\"k\"].value\n",
    "k_stix = {}\n",
    "w_stix = {}\n",
    "for mode in (\"fast_mode\", \"alfven_mode\"):\n",
    "    w_arr = w_tf_cold[mode].value\n",
    "    k_stix[mode] = []\n",
    "    w_stix[mode] = []\n",
    "    for ii in range(w_arr.size):\n",
    "        w_guess = w_arr[ii]\n",
    "        _theta = theta_arr[ii]\n",
    "        result = scipy.optimize.root_scalar(\n",
    "            stix_optimize,\n",
    "            args=(_theta, mode, k_expected),\n",
    "            x0=w_guess,\n",
    "            x1=w_guess + 1e2,\n",
    "        )\n",
    "\n",
    "        # Append the wavefrequency (result.root) that\n",
    "        # corresponded to stix() returning k_expected\n",
    "        w_stix[mode].append(np.real(result.root))\n",
    "\n",
    "        # Double check and store the k-value\n",
    "        _k = stix(\n",
    "            **{\n",
    "                **stix_inputs,\n",
    "                \"w\": np.real(result.root) * u.rad / u.s,\n",
    "                \"theta\": theta_arr[ii] * u.rad,\n",
    "            }\n",
    "        ).value\n",
    "        real_mask = np.where(np.imag(_k) == 0, True, False)\n",
    "        pos_mask = np.where(np.real(_k) > 0, True, False)\n",
    "        mask = np.logical_and(real_mask, pos_mask)\n",
    "\n",
    "        _k = np.real(_k[mask])\n",
    "        mask = np.isclose(_k, base_inputs[\"k\"].value)\n",
    "        k_stix[mode].append(_k[mask][0])\n",
    "\n",
    "    k_stix[mode] = np.array(k_stix[mode])\n",
    "    w_stix[mode] = np.array(w_stix[mode])\n",
    "\n",
    "(\n",
    "    k_expected,\n",
    "    k_stix,\n",
    "    w_stix,\n",
    ")"
   ]
  },
  {
   "cell_type": "markdown",
   "id": "80a8f5f5-2305-42b3-bf8d-fefcb44dbd23",
   "metadata": {},
   "source": [
    "Create normalized arrays for plotting."
   ]
  },
  {
   "cell_type": "code",
   "execution_count": 14,
   "id": "42cfcb66-1f38-4f8b-8af8-e7c35ffa5270",
   "metadata": {},
   "outputs": [],
   "source": [
    "plt_stix = {}\n",
    "for key, val in k_stix.items():\n",
    "    plt_stix[key] = norm_bellan_plot(\n",
    "        **{**stix_inputs, \"k\": val * u.rad / u.m, \"w\": w_stix[key] * u.rad / u.s}\n",
    "    )"
   ]
  },
  {
   "cell_type": "code",
   "execution_count": 15,
   "id": "1b24162a-ffb1-45a2-bac9-e6967e18e035",
   "metadata": {},
   "outputs": [
    {
     "data": {
      "image/png": "[encoded data removed]",
      "text/plain": [
       "<Figure size 432x460.8 with 1 Axes>"
      ]
     },
     "metadata": {
      "needs_background": "light"
     },
     "output_type": "display_data"
    }
   ],
   "source": [
    "figwidth, figheight = plt.rcParams[\"figure.figsize\"]\n",
    "figheight = 1.6 * figheight\n",
    "fig = plt.figure(figsize=[figwidth, figheight])\n",
    "\n",
    "mode = \"fast_mode\"\n",
    "plt.plot(\n",
    "    plt_stix[mode][0, ...],\n",
    "    plt_stix[mode][1, ...],\n",
    "    \"--\",\n",
    "    linewidth=3,\n",
    "    label=\"Fast Mode - Stix\",\n",
    ")\n",
    "plt.plot(\n",
    "    plt_tf_cold[mode][0, ...],\n",
    "    plt_tf_cold[mode][1, ...],\n",
    "    label=\"Fast Mode - Bellan Cold Plasma\",\n",
    ")\n",
    "plt.plot(\n",
    "    plt_tf_hot[mode][0, ...],\n",
    "    plt_tf_hot[mode][1, ...],\n",
    "    label=\"Fast Mode - Bellan Hot Plasma\",\n",
    ")\n",
    "\n",
    "mode = \"alfven_mode\"\n",
    "plt.plot(\n",
    "    plt_stix[mode][0, ...],\n",
    "    plt_stix[mode][1, ...],\n",
    "    \"--\",\n",
    "    linewidth=3,\n",
    "    label=\"Alfvén Mode - Stix\",\n",
    ")\n",
    "plt.plot(\n",
    "    plt_tf_cold[mode][0, ...],\n",
    "    plt_tf_cold[mode][1, ...],\n",
    "    label=\"Alfvén Mode - Bellan Cold Plasma\",\n",
    ")\n",
    "plt.plot(\n",
    "    plt_tf_hot[mode][0, ...],\n",
    "    plt_tf_hot[mode][1, ...],\n",
    "    label=\"Alfvén Mode - Bellan Hot Plasma\",\n",
    ")\n",
    "\n",
    "# mode=\"acoustic_mode\"\n",
    "# plt.plot(plt_tf_cold[mode][0,...], plt_tf_cold[mode][1,...])\n",
    "# plt.plot(plt_tf_hot[mode][0,...], plt_tf_hot[mode][1,...])\n",
    "\n",
    "plt.legend(fontsize=fs)\n",
    "\n",
    "plt.xlabel(r\"$(\\omega / k v_{A})^{2} \\, \\sin \\theta$\", fontsize=fs)\n",
    "plt.ylabel(r\"$(\\omega / k v_{A})^{2} \\, \\cos \\theta$\", fontsize=fs)\n",
    "plt.xlim(0.0, 2.0)\n",
    "plt.ylim(0.0, 2.0);"
   ]
  },
  {
   "cell_type": "code",
   "execution_count": null,
   "id": "db943aa8-0263-4a69-846c-e5a3446dc88d",
   "metadata": {},
   "outputs": [],
   "source": []
  }
 ],
 "metadata": {
  "kernelspec": {
   "display_name": "Python 3 (ipykernel)",
   "language": "python",
   "name": "python3"
  },
  "language_info": {
   "codemirror_mode": {
    "name": "ipython",
    "version": 3
   },
   "file_extension": ".py",
   "mimetype": "text/x-python",
   "name": "python",
   "nbconvert_exporter": "python",
   "pygments_lexer": "ipython3",
   "version": "3.9.13"
  }
 },
 "nbformat": 4,
 "nbformat_minor": 5
}
