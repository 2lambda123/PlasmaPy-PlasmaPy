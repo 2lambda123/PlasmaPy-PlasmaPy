{
 "cells": [
  {
   "cell_type": "markdown",
   "metadata": {},
   "source": [
    "# Hollweg Dispersion Solver\n",
    "\n",
    "[tfds]: ../../api/plasmapy.dispersion.numerical.hollweg_.hollweg.rst\n",
    "[bellan2012]: https://doi.org/10.1029/2012JA017856\n",
    "[hollweg1999]: https://doi.org/10.1029/1998JA900132\n",
    "\n",
    "This notebook details the functionality of the [hollweg()][tfds] function.\n",
    "This function computes the wave frequencies for given wavenumbers and\n",
    "plasma parameters based on the solution presented by [Bellan 2012][bellan2012]\n",
    "to the [Hollweg 1999][hollweg1999] two fluid dispersion relation.\n",
    "The dispersion relation assumes a uniform magnetic field, no D.C\n",
    "electric field, quasi-neutrality, propogation nearly perpendicular to\n",
    "the magnetic field, low beta regime $c_{s} \\ll v_{A}$ ,\n",
    "and low frequency waves $\\omega \\ll \\omega_{ci}$ whcih equates to\n",
    "$$\n",
    "    \\left( \\frac{\\omega^2}{{k_z}^2 {v_A}^2} - 1 \\right)\n",
    "    \\left[\\omega^2\n",
    "        \\left(\\omega^2 - k^2 {v_A}^2 \\right)\n",
    "        - \\beta k^2 {v_A}^2 \\left( \\omega^2 - {k_z}^2 {v_A}^2 \\right)\n",
    "    \\right]\n",
    "    = \\omega^2 \\left(\\omega^2 - k^2 {v_A}^2 \\right) {k_x}^2 \\left(\n",
    "    \\frac{{c_s}^2}{{\\omega_{ci}}^2} - \\frac{c^2}{{\\omega_{pe}}^2}\n",
    "    \\frac{\\omega^2}{{k_z}^2 {v_A}^2} \\right)\n",
    "$$\n",
    "where\n"
   ]
  }
 ],
 "metadata": {
  "kernelspec": {
   "display_name": "Python 3",
   "language": "python",
   "name": "python3"
  },
  "language_info": {
   "codemirror_mode": {
    "name": "ipython",
    "version": 3
   },
   "file_extension": ".py",
   "mimetype": "text/x-python",
   "name": "python",
   "nbconvert_exporter": "python",
   "pygments_lexer": "ipython3",
   "version": "3.8.8"
  }
 },
 "nbformat": 4,
 "nbformat_minor": 4
}