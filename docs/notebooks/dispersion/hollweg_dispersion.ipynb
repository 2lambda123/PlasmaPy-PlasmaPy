{
 "cells": [
  {
   "cell_type": "markdown",
   "metadata": {},
   "source": [
    "# Hollweg Dispersion Solver\n",
    "\n",
    "[tfds]: ../../api/plasmapy.dispersion.numerical.hollweg_.hollweg.rst\n",
    "[bellan2012]: https://doi.org/10.1029/2012JA017856\n",
    "[hollweg1999]: https://doi.org/10.1029/1998JA900132\n",
    "\n",
    "This notebook details the functionality of the [hollweg()][tfds] function.\n",
    "This function computes the wave frequencies for given wavenumbers and\n",
    "plasma parameters based on the solution presented by [Bellan 2012][bellan2012]\n",
    "to the [Hollweg 1999][hollweg1999] two fluid dispersion relation.\n",
    "The dispersion relation assumes a uniform magnetic field, a zero D.C\n",
    "electric field, quasi-neutrality, propogation nearly perpendicular to\n",
    "the magnetic field, low-beta regime $c_{s} \\ll v_{A}$,\n",
    "and low-frequency waves $\\omega \\ll \\omega_{ci}$ which equates to\n",
    "\n",
    "$$\n",
    "    \\left( \\frac{\\omega^2}{{k_z}^2 {v_A}^2} - 1 \\right)\n",
    "    \\left[\\omega^2\n",
    "        \\left(\\omega^2 - k^2 {v_A}^2 \\right)\n",
    "        - \\beta k^2 {v_A}^2 \\left( \\omega^2 - {k_z}^2 {v_A}^2 \\right)\n",
    "    \\right]\n",
    "    = \\omega^2 \\left(\\omega^2 - k^2 {v_A}^2 \\right) {k_x}^2 \\left(\n",
    "    \\frac{{c_s}^2}{{\\omega_{ci}}^2} - \\frac{c^2}{{\\omega_{pe}}^2}\n",
    "    \\frac{\\omega^2}{{k_z}^2 {v_A}^2} \\right)\n",
    "$$\n",
    "\n",
    "where\n",
    "\n",
    "$$\\beta = c_{s}^2 / v_{A}^2$$\n",
    "\n",
    "$$k_{x} = k \\sin \\theta$$\n",
    "\n",
    "$$k_{z} = k \\cos \\theta$$\n",
    "\n",
    "$$\\mathbf{B_{o}} = B_{o} \\mathbf{\\hat{z}}$$\n",
    "\n",
    "$\\omega$ is the wave frequency, $k$ is the wavenumber\n",
    ", $v_{A}$ is the Alfvén velocity, $c_{s}$ is the ion\n",
    "sound speed, $\\omega_{ci}$ is the ion gyrofrequency, and\n",
    "$\\omega_{pe}$ is the electron plasma frequency.\n",
    "[Hollweg 1999][hollweg1999] asserts this expression is valid for\n",
    "arbitrary $c_{\rm s} / v_{\rm A} (\\beta)$ and\n",
    "$k_{\rm z} / k (\\beta)$.  Contrarily, [Bellan 2012][bellan2012]\n",
    "states in §1.7 that due to the inconsistent retention of the\n",
    "$\omega / \omega_{\rm ci} \ll 1$ terms the expression can\n",
    "only be valid if both $c_{\rm s} \ll v_{\rm A} (low \\beta)$ and\n",
    "the wave propgation is nearly perpendicular to the magnetic field.\n"
   ]
  }
 ],
 "metadata": {
  "kernelspec": {
   "display_name": "Python 3",
   "language": "python",
   "name": "python3"
  },
  "language_info": {
   "codemirror_mode": {
    "name": "ipython",
    "version": 3
   },
   "file_extension": ".py",
   "mimetype": "text/x-python",
   "name": "python",
   "nbconvert_exporter": "python",
   "pygments_lexer": "ipython3",
   "version": "3.8.8"
  }
 },
 "nbformat": 4,
 "nbformat_minor": 4
}
