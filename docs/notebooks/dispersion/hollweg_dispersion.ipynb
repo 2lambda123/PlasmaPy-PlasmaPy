{
 "cells": [
  {
   "cell_type": "markdown",
   "metadata": {},
   "source": [
    "# Hollweg Dispersion Solver\n",
    "\n",
    "[tfds]: ../../api/plasmapy.dispersion.numerical.hollweg_.hollweg.rst\n",
    "[bellan2012]: https://doi.org/10.1029/2012JA017856\n",
    "[hollweg1999]: https://doi.org/10.1029/1998JA900132\n",
    "\n",
    "This notebook details the functionality of the [hollweg()][tfds] function.   This function computes the fast, alfvén, and acoustic wave modes for given wavenumbers and plasma parameters.\n",
   ]
  },
 ],
 "metadata": {
  "kernelspec": {
   "display_name": "Python 3",
   "language": "python",
   "name": "python3"
  },
  "language_info": {
   "codemirror_mode": {
    "name": "ipython",
    "version": 3
   },
   "file_extension": ".py",
   "mimetype": "text/x-python",
   "name": "python",
   "nbconvert_exporter": "python",
   "pygments_lexer": "ipython3",
   "version": "3.8.8"
  }
 },
 "nbformat": 4,
 "nbformat_minor": 4
}
