{
 "metadata": {
  "language_info": {
   "codemirror_mode": {
    "name": "ipython",
    "version": 3
   },
   "file_extension": ".py",
   "mimetype": "text/x-python",
   "name": "python",
   "nbconvert_exporter": "python",
   "pygments_lexer": "ipython3",
   "version": "3.7.4-final"
  },
  "orig_nbformat": 2,
  "kernelspec": {
   "name": "Python 3.7.4 64-bit ('base': conda)",
   "display_name": "Python 3.7.4 64-bit ('base': conda)",
   "metadata": {
    "interpreter": {
     "hash": "94c8d8b2ad7099368e940d784d7eb590ce5d46f036c68246b73bb6a8c49795cc"
    }
   }
  }
 },
 "nbformat": 4,
 "nbformat_minor": 2,
 "cells": [
  {
   "cell_type": "code",
   "execution_count": null,
   "metadata": {},
   "outputs": [],
   "source": [
    "import matplotlib.pyplot as plt\n",
    "import numpy as np"
   ]
  },
  {
   "cell_type": "code",
   "execution_count": null,
   "metadata": {},
   "outputs": [],
   "source": [
    "import plasmapy.dispersion.two_fluid_dispersion_solver as tfds\n",
    "import plasmapy.formulary.parameters as pfp"
   ]
  },
  {
   "cell_type": "code",
   "execution_count": null,
   "metadata": {},
   "outputs": [],
   "source": [
    "help(plasmapy.dispersion.two_fluid_dispersion_solution)"
   ]
  },
  {
   "source": [
    "Take a look at the docs to docs to two_fluid_dispersion_solution() for more information"
   ],
   "cell_type": "markdown",
   "metadata": {}
  },
  {
   "source": [
    "Below we define the required parameters to compute the frequency"
   ],
   "cell_type": "markdown",
   "metadata": {}
  },
  {
   "cell_type": "code",
   "execution_count": null,
   "metadata": {},
   "outputs": [],
   "source": [
    "k = np.linspace(10**-7, 10**-2, 1E4) * u.m ** -1\n",
    "theta = 45 * u.deg\n",
    "n = 5 * u.cm ** -3\n",
    "B = 8.3E-9 * u.T\n",
    "T_e = 1.6e6 * u.K\n",
    "T_i = 4.e5 * u.K\n",
    "z = 1\n",
    "c = 3.e8 * u.m/u.s\n",
    "\n",
    "# we compute a few other parameters using functions inside the plasmapy.formulary.parameter for scaling the other derived parameters\n",
    "c_s = pfp.ion_sound_speed(T_e=T_e, T_i=T_i, n_e=z * n) #Sound speed\n",
    "v_A = pfp.Alfven_speed( B, n, ion='p+') # Alfven speed\n",
    "omega_ci = pfp.gyrofrequency(B=B, particle='p+', signed=False, Z=z) #Proton Gyrofrequency\n",
    "\n",
    "# Solve the dispersion equation for the aforememntioned parameters\n",
    "omega = two_fluid_dispersion_solution(n=n, B=B, T_e=T_e, T_i=T_i, theta=theta, z=z, k=k)\n"
   ]
  },
  {
   "source": [
    "Let's look at the output of the function"
   ],
   "cell_type": "markdown",
   "metadata": {}
  },
  {
   "cell_type": "code",
   "execution_count": null,
   "metadata": {},
   "outputs": [],
   "source": [
    "omega\n"
   ]
  },
  {
   "source": [
    "As expected, the output is a dictionary which has three different modes (fast, alfvenic and acoustic) as its keys and the corresponding data as the value of $\\omega$ in _rad/sec_"
   ],
   "cell_type": "markdown",
   "metadata": {}
  },
  {
   "cell_type": "code",
   "execution_count": null,
   "metadata": {},
   "outputs": [],
   "source": [
    "omega_fast     = omega['fast_mode']\n",
    "omega_alfven   = omega['alfven_mode']\n",
    "omega_acoustic = omega['acoustic_mode']\n",
    "\n",
    "# It usually makes more sense to scale wave number with inertial length, thus:\n",
    "k_prime = k * c_s/omega_ci\n",
    "\n",
    "fig = plt.figure( num=None, figsize=(5, 5), dpi=200, facecolor='w', edgecolor='gray' )\n",
    "fig.subplots_adjust( left=0.05, right=0.98, top=0.94, bottom=0.05, \n",
    "wspace=0., hspace=0. )\n",
    "\n",
    "axs = fig.add_subplot( 1, 1, 1 )\n",
    "axs.plot(k_prime, omega_fast, 'r.', ms=1, label='fast')\n",
    "axs.plot(k_prime, omega_alfven, 'b.', ms=1, label='alfven')\n",
    "axs.plot(k_prime, omega_acoustic, 'g.', ms=1, label='acoustic')\n",
    "axs.set_yscale('log')\n",
    "axs.set_xscale('log')\n",
    "axs.set_ylim(1.e-1, 3.e4)\n",
    "text = f'$v_A/c_s = {v_A/c_s:.1f}, c/v_A = 10^{np.log10(c/v_A):.0f}, \\\\theta = {theta[ind].value:.0f}^0$'\n",
    "axs.text(0.5,0.95, text, horizontalalignment='center', verticalalignment='center', transform=axs.transAxes, fontsize=16)\n",
    "axs.set_xlabel(r'$kc_s/\\Omega_i$', fontsize=20)\n",
    "axs.set_ylabel(r'$\\omega$', fontsize=20)\n",
    "\n",
    "axs.get_xaxis().set_tick_params( which='both', direction='in',\n",
    "labelbottom=True, bottom=True, width=.5, labelsize=14, \n",
    "labelrotation=0 )\n",
    "\n",
    "axs.get_yaxis().set_tick_params( which='both', direction='in',\n",
    "labelbottom=True, bottom=True, labelleft=True, left=True, labelright=False, right=True, width=.5, labelsize=14, labelrotation=0 )\n",
    "\n",
    "axs.legend(loc=3, markerscale=5, fontsize=14)\n"
   ]
  },
  {
   "source": [
    "Let us now look at the distribution of $\\omega$ on a k-$\\theta$ plane, where $\\theta$ is the direction of propagation"
   ],
   "cell_type": "markdown",
   "metadata": {}
  },
  {
   "cell_type": "code",
   "execution_count": null,
   "metadata": {},
   "outputs": [],
   "source": [
    "k = np.linspace(10**-7, 10**-2, 1E4) * u.m ** -1\n",
    "theta = np.linspace(5, 85, 100) * u.deg\n",
    "n = 5 * u.cm ** -3\n",
    "B = 8.3E-9 * u.T\n",
    "T_e = 1.6e6 * u.K\n",
    "T_i = 4.e5 * u.K\n",
    "z = 1\n",
    "c = 3.e8 * u.m/u.s\n",
    "\n",
    "# we compute a few other parameters using functions inside the plasmapy.formulary.parameter for scaling the other derived parameters\n",
    "c_s = pfp.ion_sound_speed(T_e=T_e, T_i=T_i, n_e=z * n) #Sound speed\n",
    "v_A = pfp.Alfven_speed( B, n, ion='p+') # Alfven speed\n",
    "omega_ci = pfp.gyrofrequency(B=B, particle='p+', signed=False, Z=z) #Proton Gyrofrequency\n",
    "\n",
    "# Solve the dispersion equation for the aforememntioned parameters\n",
    "omega = two_fluid_dispersion_solution(n=n, B=B, T_e=T_e, T_i=T_i, theta=theta, z=z, k=k)\n"
   ]
  },
  {
   "source": [],
   "cell_type": "markdown",
   "metadata": {}
  },
  {
   "cell_type": "code",
   "execution_count": null,
   "metadata": {},
   "outputs": [],
   "source": [
    "\n",
    "omega_fast     = omega['fast_mode'].value\n",
    "omega_alfven   = omega['alfven_mode'].value\n",
    "omega_acoustic = omega['acoustic_mode'].value\n",
    "\n",
    "k_prime = k * c_s/omega_ci\n",
    "\n",
    "fig = plt.figure( num=None, figsize=(5, 5), dpi=200, facecolor='w', edgecolor='gray' )\n",
    "fig.subplots_adjust( left=0.05, right=0.98, top=0.94, bottom=0.05, \n",
    "wspace=0., hspace=0. )\n",
    "\n",
    "axs = fig.add_subplot( 1, 1, 1 )\n",
    "im = axs.imshow(np.transpose(omega_fast), aspect='auto', origin='lower', extent=[np.min(k_prime.value), np.max(k_prime.value), np.min(theta.value), np.max(theta.value)], interpolation=None, cmap=plt.cm.Spectral, norm=colors.LogNorm(vmin=1.e0, vmax=5.e3))\n",
    "\n",
    "axs.set_xscale('linear')\n",
    "axs.set_xlabel(r'$kc_s/\\Omega_i$', fontsize=16)\n",
    "axs.set_ylabel(r'$\\theta$', fontsize=16)\n",
    "\n",
    "axs.get_xaxis().set_tick_params( which='both', direction='in',\n",
    "labelbottom=True, bottom=True, width=.5, labelsize=14, labelrotation=0 )\n",
    "\n",
    "axs.get_yaxis().set_tick_params( which='both', direction='in',\n",
    "labelbottom=True, bottom=True, left=True, right=True, width=.5, labelsize=14, labelrotation=0 )\n",
    "\n",
    "divider = make_axes_locatable(axs)\n",
    "cax = divider.append_axes(\"top\", size=\"5%\", pad=0.01 )\n",
    "cbar = plt.colorbar( im, cax=cax, orientation='horizontal', ticks=None, \n",
    "       fraction=0.05, pad=0.0 )\n",
    "cbar.ax.tick_params( axis='x', direction='in', pad=0.0, labeltop=True,\n",
    "                     labelbottom=False, color='k', top=True, bottom=False,\n",
    "                     labelsize=12 )\n",
    "cbar.ax.xaxis.set_label_position('top')\n",
    "\n",
    "cbar.set_label( r'$\\omega/\\Omega_{ci}$', fontsize=14, labelpad=2.50 )\n"
   ]
  },
  {
   "cell_type": "code",
   "execution_count": null,
   "metadata": {},
   "outputs": [],
   "source": []
  }
 ]
}