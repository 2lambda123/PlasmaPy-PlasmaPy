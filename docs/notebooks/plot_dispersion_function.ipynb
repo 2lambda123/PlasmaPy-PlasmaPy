{
  "cells": [
    {
      "cell_type": "code",
      "execution_count": null,
      "metadata": {
        "collapsed": false
      },
      "outputs": [],
      "source": [
        "%matplotlib inline"
      ]
    },
    {
      "cell_type": "markdown",
      "metadata": {},
      "source": [
        "\nThe plasma dispersion function\n==============================\n\nLet's import some basics (and `PlasmaPy`!)\n"
      ]
    },
    {
      "cell_type": "code",
      "execution_count": null,
      "metadata": {
        "collapsed": false
      },
      "outputs": [],
      "source": [
        "import numpy as np\nimport matplotlib.pyplot as plt"
      ]
    },
    {
      "cell_type": "code",
      "execution_count": null,
      "metadata": {
        "collapsed": false
      },
      "outputs": [],
      "source": [
        "import plasmapy.formulary.dispersionfunction\n\nhelp(plasmapy.formulary.dispersionfunction.plasma_dispersion_func)"
      ]
    },
    {
      "cell_type": "markdown",
      "metadata": {},
      "source": [
        "We'll now make some sample data to visualize the dispersion function:\n\n"
      ]
    },
    {
      "cell_type": "code",
      "execution_count": null,
      "metadata": {
        "collapsed": false
      },
      "outputs": [],
      "source": [
        "x = np.linspace(-1, 1, 1000)\nX, Y = np.meshgrid(x, x)\nZ = X + 1j * Y\nprint(Z.shape)"
      ]
    },
    {
      "cell_type": "markdown",
      "metadata": {},
      "source": [
        "Before we start plotting, let's make a visualization function first:\n\n"
      ]
    },
    {
      "cell_type": "code",
      "execution_count": null,
      "metadata": {
        "collapsed": false
      },
      "outputs": [],
      "source": [
        "def plot_complex(X, Y, Z, N=50):\n    fig, (real_axis, imag_axis) = plt.subplots(1, 2)\n    real_axis.contourf(X, Y, Z.real, N)\n    imag_axis.contourf(X, Y, Z.imag, N)\n    real_axis.set_title(\"Real values\")\n    imag_axis.set_title(\"Imaginary values\")\n    for ax in [real_axis, imag_axis]:\n        ax.set_xlabel(\"Real values\")\n        ax.set_ylabel(\"Imaginary values\")\n    fig.tight_layout()\n\n\nplot_complex(X, Y, Z)"
      ]
    },
    {
      "cell_type": "markdown",
      "metadata": {},
      "source": [
        "We can now apply our visualization function to our simple dispersion relation\n\n"
      ]
    },
    {
      "cell_type": "code",
      "execution_count": null,
      "metadata": {
        "collapsed": false
      },
      "outputs": [],
      "source": [
        "# sphinx_gallery_thumbnail_number = 2\nF = plasmapy.formulary.dispersionfunction.plasma_dispersion_func(Z)\nplot_complex(X, Y, F)"
      ]
    },
    {
      "cell_type": "markdown",
      "metadata": {},
      "source": [
        "So this is going to be a hack and I'm not 100% sure the dispersion function\nis quite what I think it is, but let's find the area where the dispersion\nfunction has a lesser than zero real part because I think it may be important\n(brb reading Fried and Conte):\n\n"
      ]
    },
    {
      "cell_type": "code",
      "execution_count": null,
      "metadata": {
        "collapsed": false
      },
      "outputs": [],
      "source": [
        "plot_complex(X, Y, F.real < 0)"
      ]
    },
    {
      "cell_type": "markdown",
      "metadata": {},
      "source": [
        "We can also visualize the derivative:\n\n"
      ]
    },
    {
      "cell_type": "code",
      "execution_count": null,
      "metadata": {
        "collapsed": false
      },
      "outputs": [],
      "source": [
        "F = plasmapy.formulary.dispersionfunction.plasma_dispersion_func_deriv(Z)\nplot_complex(X, Y, F)"
      ]
    },
    {
      "cell_type": "markdown",
      "metadata": {},
      "source": [
        "Plotting the same function on a larger area:\n\n"
      ]
    },
    {
      "cell_type": "code",
      "execution_count": null,
      "metadata": {
        "collapsed": false
      },
      "outputs": [],
      "source": [
        "x = np.linspace(-2, 2, 2000)\nX, Y = np.meshgrid(x, x)\nZ = X + 1j * Y\nprint(Z.shape)"
      ]
    },
    {
      "cell_type": "code",
      "execution_count": null,
      "metadata": {
        "collapsed": false
      },
      "outputs": [],
      "source": [
        "F = plasmapy.formulary.dispersionfunction.plasma_dispersion_func(Z)\nplot_complex(X, Y, F, 100)"
      ]
    },
    {
      "cell_type": "markdown",
      "metadata": {},
      "source": [
        "Now we examine the derivative of the dispersion function as a function\nof the phase velocity of an electromagnetic wave propagating through\nthe plasma. This is recreating figure 5.1 in:\nJ. Sheffield, D. Froula, S. H. Glenzer, and N. C. Luhmann Jr,\nPlasma scattering of electromagnetic radiation: theory and measurement\ntechniques. Chapter 5 Pg 106 (Academic press, 2010).\n\n"
      ]
    },
    {
      "cell_type": "code",
      "execution_count": null,
      "metadata": {
        "collapsed": false
      },
      "outputs": [],
      "source": [
        "xs = np.linspace(0, 4, 100)\nws = (-1 / 2) * plasmapy.formulary.dispersionfunction.plasma_dispersion_func_deriv(xs)\nwRe = np.real(ws)\nwIm = np.imag(ws)\n\nplt.plot(xs, wRe, label=\"Re\")\nplt.plot(xs, wIm, label=\"Im\")\nplt.axis([0, 4, -0.3, 1])\nplt.legend(loc='upper right',\n           frameon=False,\n           labelspacing=0.001,\n           fontsize=14,\n           borderaxespad=0.1)\nplt.show()"
      ]
    }
  ],
  "metadata": {
    "kernelspec": {
      "display_name": "Python 3",
      "language": "python",
      "name": "python3"
    },
    "language_info": {
      "codemirror_mode": {
        "name": "ipython",
        "version": 3
      },
      "file_extension": ".py",
      "mimetype": "text/x-python",
      "name": "python",
      "nbconvert_exporter": "python",
      "pygments_lexer": "ipython3",
      "version": "3.8.2"
    }
  },
  "nbformat": 4,
  "nbformat_minor": 0
}
