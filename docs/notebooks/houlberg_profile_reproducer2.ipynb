{
 "cells": [
  {
   "cell_type": "markdown",
   "id": "1dc033d5-d999-432f-aa59-46979f72d4d4",
   "metadata": {},
   "source": [
    "# Houlberg profile reproducer 2"
   ]
  },
  {
   "cell_type": "code",
   "execution_count": 1,
   "id": "b6f8d3b1-ddb4-43d5-b42a-34dc0aeb85cb",
   "metadata": {},
   "outputs": [],
   "source": [
    "import pandas as pd\n",
    "import matplotlib.pyplot as plt\n",
    "import sympy"
   ]
  },
  {
   "cell_type": "code",
   "execution_count": 2,
   "id": "08d0fd25-bd71-4eb9-8783-1c84672d8b6a",
   "metadata": {},
   "outputs": [
    {
     "ename": "SyntaxError",
     "evalue": "invalid syntax (<ipython-input-2-6c81b72b7edd>, line 1)",
     "output_type": "error",
     "traceback": [
      "\u001b[0;36m  File \u001b[0;32m\"<ipython-input-2-6c81b72b7edd>\"\u001b[0;36m, line \u001b[0;32m1\u001b[0m\n\u001b[0;31m    .T_data = pd.read_csv(\"/home/dominik/houlberg-profiles.csv\").drop(\"Zeff\", axis=1)\u001b[0m\n\u001b[0m    ^\u001b[0m\n\u001b[0;31mSyntaxError\u001b[0m\u001b[0;31m:\u001b[0m invalid syntax\n"
     ]
    }
   ],
   "source": [
    ".T_data = pd.read_csv(\"/home/dominik/houlberg-profiles.csv\").drop(\"Zeff\", axis=1)\n",
    "zeff = pd.read_csv(\"/home/dominik/houlberg-profiles-zeff.csv\")\n",
    "\n",
    "fig, (ax, ax2) = plt.subplots(2)\n",
    "T_data.plot(x=\"x\", ax=ax)\n",
    "zeff.plot(x=\"x\", ax=ax2, c=\"g\")"
   ]
  },
  {
   "cell_type": "code",
   "execution_count": null,
   "id": "fd269a0d-7f12-4cd2-984b-478b67429e45",
   "metadata": {},
   "outputs": [],
   "source": [
    "import sympy\n",
    "sympy.init_printing()\n",
    "rho = sympy.symbols(\"rho\")\n",
    "n_i = sympy.Function('n_i')(rho)\n",
    "n_e = sympy.Function('n_e')(rho)\n",
    "n_C = sympy.symbols('n_C') # flat\n",
    "Z_eff = sympy.Function(\"Z_{eff}\")(rho);"
   ]
  },
  {
   "attachments": {
    "64ed9f93-bbb6-477c-a405-ade60967c82f.png": {
     "image/png": "[encoded data removed]"
    }
   },
   "cell_type": "markdown",
   "id": "cf4e0560-b112-475e-b7f4-09d353f1da68",
   "metadata": {},
   "source": [
    "Sprawdziłem definicję $Z_{eff}$ u Hirshmana:\n",
    "\n",
    "![image.png](attachment:64ed9f93-bbb6-477c-a405-ade60967c82f.png)\n",
    "\n",
    "więc:"
   ]
  },
  {
   "cell_type": "code",
   "execution_count": null,
   "id": "2b924ca2-a0e4-4011-8df3-5cb4c74864e7",
   "metadata": {},
   "outputs": [],
   "source": [
    "Z_eff_from_elems = (n_i + 6**2 * n_C) / n_e\n",
    "equation = sympy.Eq(Z_eff,\n",
    "                    Z_eff_from_elems)"
   ]
  },
  {
   "cell_type": "markdown",
   "id": "c56f2ab1-6d92-4be1-bc7b-e7d520721ff9",
   "metadata": {},
   "source": [
    "Więc bardzo proste przekształcenie daje:"
   ]
  },
  {
   "cell_type": "code",
   "execution_count": null,
   "id": "d235e6bd-38ff-450a-8535-9ea804870aa5",
   "metadata": {},
   "outputs": [],
   "source": [
    "n_e_solution = sympy.solve(equation, n_e)[0]"
   ]
  },
  {
   "cell_type": "code",
   "execution_count": null,
   "id": "9caefcba-cba8-46da-b80d-f398b3cebadc",
   "metadata": {},
   "outputs": [],
   "source": [
    "values_at_zero = {   # blisko środka, rho = 0\n",
    "    Z_eff.subs(rho, 0): 1.36,\n",
    "    n_i.subs(rho, 0): 6.5e19,\n",
    "    n_C: 5e18,\n",
    "}\n",
    "values_at_zero[n_e] = ne0_value = n_e_solution.subs(rho, 0).subs(values_at_zero)\n",
    "\n",
    "values_at_zero"
   ]
  },
  {
   "cell_type": "code",
   "execution_count": null,
   "id": "ba1d8a8c-ec27-466c-a336-a7de485cc36e",
   "metadata": {},
   "outputs": [],
   "source": [
    "T0, Ta = sympy.symbols(r\"T_0 t_a\")\n",
    "T_profile = T0 * ((1 - Ta) * (1 - rho**2) + Ta)"
   ]
  },
  {
   "cell_type": "code",
   "execution_count": null,
   "id": "a719941c-4fcf-40f3-9918-b7d48895c4f9",
   "metadata": {},
   "outputs": [],
   "source": [
    "T_outputs = T_profile, T_profile.diff(rho)"
   ]
  },
  {
   "cell_type": "code",
   "execution_count": null,
   "id": "3e30087d-63b1-4ee1-bc5e-d28998afd42f",
   "metadata": {},
   "outputs": [],
   "source": [
    "ne0, nea, = sympy.symbols(r\"n_{e0} n_{ea}\")\n",
    "n_e_profile = ne0 * ((1 - nea) * sympy.sqrt(1 - rho**2) + nea)"
   ]
  },
  {
   "cell_type": "code",
   "execution_count": null,
   "id": "3cc1d65d-942b-4a1f-8a33-741173828271",
   "metadata": {},
   "outputs": [],
   "source": [
    "n_e_outputs = n_e_profile, n_e_profile.diff(rho)"
   ]
  },
  {
   "cell_type": "code",
   "execution_count": null,
   "id": "74f7b47f-46b5-49d0-9a88-e55581295f58",
   "metadata": {},
   "outputs": [],
   "source": [
    "n_i_profile = sympy.solve(equation, n_i)[0].subs(n_e, n_e_profile).simplify()"
   ]
  },
  {
   "cell_type": "code",
   "execution_count": null,
   "id": "4c72a905-879d-4f94-a743-fd979b48b119",
   "metadata": {},
   "outputs": [],
   "source": [
    "n_i_outputs = n_i_profile, n_i_profile.diff(rho).simplify()"
   ]
  },
  {
   "cell_type": "code",
   "execution_count": null,
   "id": "a3c5d1c9-f793-4e7e-821d-86b69244124c",
   "metadata": {},
   "outputs": [],
   "source": [
    "n_i_profile.diff(rho).subs(values_at_zero)"
   ]
  },
  {
   "cell_type": "code",
   "execution_count": null,
   "id": "4c82ee4a-be88-4c09-86c6-61594ac1624e",
   "metadata": {},
   "outputs": [],
   "source": [
    "values_general = {\n",
    "    ne0: ne0_value,\n",
    "    nea: 0.22,\n",
    "    Ta: 0.09,\n",
    "    T0: 1, # keV\n",
    "    n_C: 5e18,\n",
    "}"
   ]
  },
  {
   "cell_type": "code",
   "execution_count": null,
   "id": "32424a57-6cae-469b-bb40-0b8b15e541e3",
   "metadata": {},
   "outputs": [],
   "source": [
    "Zeff_vals = zeff.Zeff"
   ]
  },
  {
   "cell_type": "code",
   "execution_count": null,
   "id": "fac1cb05-f5b0-4d91-8c69-835d91222b46",
   "metadata": {},
   "outputs": [],
   "source": [
    "Zeff_grad = np.gradient(Zeff_vals, zeff.x)"
   ]
  },
  {
   "cell_type": "code",
   "execution_count": null,
   "id": "af61d956-da65-408b-bb36-bbecfb2d1c81",
   "metadata": {},
   "outputs": [],
   "source": [
    "from scipy import interpolate"
   ]
  },
  {
   "cell_type": "code",
   "execution_count": null,
   "id": "a7084d2c-fa57-4327-97f1-9085201e1b50",
   "metadata": {},
   "outputs": [],
   "source": [
    "spl = interpolate.(zeff.x, zeff.Zeff)\n",
    "\n",
    "fig, (ax1, ax2) = plt.subplots(2)\n",
    "zeff.plot(x=\"x\", lw=5, ax=ax1)\n",
    "ax1.plot(zeff.x, spl(zeff.x))\n",
    "plt.plot(zeff.x, spl.derivative(1)(zeff.x))"
   ]
  },
  {
   "cell_type": "code",
   "execution_count": null,
   "id": "d9680a71-83a9-4a18-b0dd-ae1e8fdeffea",
   "metadata": {},
   "outputs": [],
   "source": [
    "def funcify(expr, rho_vals, Zeff_spl, values):\n",
    "    functions = expr.subs(values), expr.diff(rho).subs(values)\n",
    "    args = (rho, Z_eff, Z_eff.diff(rho))\n",
    "    return sympy.lambdify(args,\n",
    "                   functions,\n",
    "                   modules='numpy')(rho_vals, Zeff_spl(rho_vals), Zeff_spl.derivative(1)(rho_vals))\n",
    "T_vals, dT_vals = funcify(T_profile, T_data.x.values, spl, values_general)"
   ]
  },
  {
   "cell_type": "code",
   "execution_count": null,
   "id": "09dd3e0c-bcca-469e-ab32-2a34ca6f42fc",
   "metadata": {},
   "outputs": [],
   "source": [
    "T_data.plot(x=\"x\", y=\"ToverT0\")\n",
    "plt.plot(T_data.x.values, T_vals)"
   ]
  },
  {
   "cell_type": "code",
   "execution_count": null,
   "id": "2ad26d82-d327-4bbe-8d70-59e7e1c18eb0",
   "metadata": {},
   "outputs": [],
   "source": [
    "n_e_vals, dn_e_vals = funcify(n_e_profile, T_data.x.values, spl, values_general)\n",
    "n_e_vals"
   ]
  },
  {
   "cell_type": "code",
   "execution_count": null,
   "id": "85fed0e2-de7c-4e7e-bd65-93e90821cf84",
   "metadata": {},
   "outputs": [],
   "source": [
    "T_data.plot(x=\"x\", y=\"neoverne0\")\n",
    "plt.plot(T_data.x.values, n_e_vals/values_general[ne0])"
   ]
  },
  {
   "cell_type": "code",
   "execution_count": null,
   "id": "bd93d5bb-e535-4fdc-8d7a-9be33e55a53b",
   "metadata": {},
   "outputs": [],
   "source": [
    "n_i_vals, dn_i_vals = funcify(n_i_profile, T_data.x.values, spl, values_general)\n",
    "n_i_vals"
   ]
  },
  {
   "cell_type": "code",
   "execution_count": null,
   "id": "e2728c9b-d0ea-4ba8-8098-ce0321c55b5f",
   "metadata": {},
   "outputs": [],
   "source": []
  }
 ],
 "metadata": {
  "kernelspec": {
   "display_name": "Python 3",
   "language": "python",
   "name": "python3"
  },
  "language_info": {
   "codemirror_mode": {
    "name": "ipython",
    "version": 3
   },
   "file_extension": ".py",
   "mimetype": "text/x-python",
   "name": "python",
   "nbconvert_exporter": "python",
   "pygments_lexer": "ipython3",
   "version": "3.9.5"
  },
  "widgets": {
   "application/vnd.jupyter.widget-state+json": {
    "state": {},
    "version_major": 2,
    "version_minor": 0
   }
  }
 },
 "nbformat": 4,
 "nbformat_minor": 5
}
