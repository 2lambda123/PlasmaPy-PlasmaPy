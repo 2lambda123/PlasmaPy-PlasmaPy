{
 "cells": [
  {
   "cell_type": "markdown",
   "metadata": {},
   "source": [
    "# Proton Radiography: Creating Synthetic Proton Radiographs by Particle Tracing"
   ]
  },
  {
   "cell_type": "markdown",
   "metadata": {},
   "source": [
    "Proton radiography is an diagnostic technique often used to interrogate the electric and magnetic fields inside high energy density plasmas. The area of interest is positioned between a bright source of protons and a detector plane. Electric and magnetc fields in the plasma deflect the protons, producing patterns on the detector. Since this represents a non-linear and line-integrated measurement of the fields, the interpretation of these \"proton radiographs\" is complicated.\n",
    "\n",
    "The SimPrad module contains tools to create synthetic proton radiographs given a grid of electric and magnetic field from either calculations or simulations. After the geometry of the problem has been set up during initialization, a partile tracing algorithm is run, tracking the positions of up to several million protons as they pass through the fields region. After all particles have reached the detector plane, a synthetic proton radiograph can be made by creating a 2D histogram in that plane."
   ]
  },
  {
   "cell_type": "code",
   "execution_count": null,
   "metadata": {},
   "outputs": [],
   "source": [
    "import astropy.constants as const\n",
    "import astropy.units as u\n",
    "import numpy as np\n",
    "\n",
    "import matplotlib.pyplot as plt\n",
    "from mpl_toolkits.mplot3d import Axes3D\n",
    "\n",
    "from plasmapy.diagnostics import proton_radiography as prad"
   ]
  },
  {
   "cell_type": "markdown",
   "metadata": {},
   "source": [
    "Several exampels of 3D grid of fields are included in the package. This example contains the radial electric field created by a Gaussian sphere of electric charge."
   ]
  },
  {
   "cell_type": "code",
   "execution_count": null,
   "metadata": {},
   "outputs": [],
   "source": [
    "grid, E, B = prad.test_fields(mode='electrostatic gaussian sphere')\n",
    "\n",
    "fig = plt.figure()\n",
    "ax = fig.add_subplot(111, projection='3d')\n",
    "ax.view_init(30,30)\n",
    "\n",
    "s = slice(None,None,20) # Plot only every 6th point\n",
    "ax.quiver(grid[s,s,s,0].to(u.mm).value, grid[s,s,s,1].to(u.mm).value,  grid[s,s,s,2].to(u.mm).value,\n",
    "           E[s,s,s,0].value, E[s,s,s,1].value, E[s,s,s,2].value, length=1e-10)\n",
    "\n",
    "ax.set_xlabel(\"X (mm)\")\n",
    "ax.set_ylabel(\"Y (mm)\")\n",
    "ax.set_zlabel(\"Z (mm)\")\n",
    "ax.set_title(\"Gaussian Potential Electric Field\")"
   ]
  },
  {
   "cell_type": "markdown",
   "metadata": {},
   "source": [
    "Prior to running the particle tracing algorithm, the simulation instance must be instatiated by providing some information about the setup, including:\n",
    "    - The location of the proton souce with respect to the origin of the field grid. Only point sources are supported. \n",
    "    \n",
    "    - The location of the center of the detector plane. The vector from this point to the origin of the field grid defines the normal vector of the detector plane. The horizontal axis of the detector plane is defined to be orthoganal to the z-axis of the field grid.\n",
    "    \n",
    "    - The energy of the protons. Lower energy protons will undergo more severe deflections.\n",
    "    \n",
    "The source and detector coordinates are entered as a 3-tuple in one of three coordinate systems: cartesian (x,y,z), spherical (r, theta, phi) or cylindrical (r, theta, z). All values should be astropy Quantities with units of either length or angle (degrees or radians) as appropriate. Note that the vector from the source to the detector should pass through the origin to maximize the number of particles that pass through the simulated fields."
   ]
  },
  {
   "cell_type": "code",
   "execution_count": null,
   "metadata": {},
   "outputs": [],
   "source": [
    "source = (0*u.mm,-10*u.mm, 0*u.mm)\n",
    "detector = (0*u.mm, 100*u.mm, 0*u.mm) \n",
    "\n",
    "sim = prad.SimPrad(grid, E, B, source, detector, \n",
    "                   proton_energy=14*u.MeV, geometry='cartesian')"
   ]
  },
  {
   "cell_type": "markdown",
   "metadata": {},
   "source": [
    "In order to run the simulation, a number of simulated particles must be selected (nparticles). The simulation timestep is automatically (and adaptively) calculated based on the proton energy, grid resolution, and field amplitudes."
   ]
  },
  {
   "cell_type": "code",
   "execution_count": null,
   "metadata": {
    "scrolled": true
   },
   "outputs": [],
   "source": [
    "sim.run(nparticles=2e5, max_theta = np.pi/6*u.rad)"
   ]
  },
  {
   "cell_type": "markdown",
   "metadata": {},
   "source": [
    "At the end of the simulation run, all particles are allowed to coast until they reach the detector plane."
   ]
  },
  {
   "cell_type": "code",
   "execution_count": null,
   "metadata": {},
   "outputs": [],
   "source": [
    "fig = plt.figure()\n",
    "ax = fig.add_subplot(111, projection='3d')\n",
    "ax.view_init(30,120)\n",
    "ax.set_xlabel('X (cm)')\n",
    "ax.set_ylabel('Y (cm)')\n",
    "ax.set_zlabel('Z (cm)')\n",
    "\n",
    "# Plot the source-to-detector axis\n",
    "ax.quiver(sim.source[0].to(u.cm).value, \n",
    "          sim.source[1].to(u.cm).value,\n",
    "          sim.source[2].to(u.cm).value,\n",
    "          sim.detector[0].to(u.cm).value, \n",
    "          sim.detector[1].to(u.cm).value,\n",
    "          sim.detector[2].to(u.cm).value, color='black')   \n",
    "\n",
    "# Plot the simulation field grid volume\n",
    "ax.scatter(0,0,0, color='green', marker='s', linewidth=5, label='Grid')\n",
    "\n",
    "# Plot the the proton source and detector plane locations\n",
    "ax.scatter(sim.source[0].to(u.cm).value, \n",
    "           sim.source[1].to(u.cm).value,\n",
    "           sim.source[2].to(u.cm).value, color='red', marker='*', linewidth=5, label='Source')\n",
    "\n",
    "ax.scatter(sim.detector[0].to(u.cm).value, \n",
    "           sim.detector[1].to(u.cm).value,\n",
    "           sim.detector[2].to(u.cm).value, color='blue', marker='*', linewidth=10, label='Detector')\n",
    "\n",
    "\n",
    "# Plot the final proton positions of some (not all) of the protons\n",
    "ind = slice(None,None,100)\n",
    "ax.scatter(sim.r[ind,0].to(u.cm).value, sim.r[ind,1].to(u.cm).value, sim.r[ind,2].to(u.cm).value)\n",
    "\n",
    "ax.legend()"
   ]
  },
  {
   "cell_type": "markdown",
   "metadata": {},
   "source": [
    "A 'synthetic proton radiograph' can then be constructed by creating a 2D histograpm of proton positions in the image plane."
   ]
  },
  {
   "cell_type": "code",
   "execution_count": null,
   "metadata": {
    "nbsphinx-thumbnail": {
     "tooltip": "Proton Radiography"
    }
   },
   "outputs": [],
   "source": [
    "size = np.array([[-20,20],[-20,20]])*1e-3*u.m\n",
    "bins = [200,200]\n",
    "hax, vax, intensity = sim.synthetic_radiograph(size=size, bins=bins)\n",
    "\n",
    "fig, ax = plt.subplots()\n",
    "plot = ax.pcolormesh(hax.to(u.cm).value, vax.to(u.cm).value,\n",
    "                     intensity.T, cmap='Blues_r')\n",
    "\n",
    "cb = fig.colorbar(plot)\n",
    "cb.ax.set_ylabel(\"Intensity\")\n",
    "\n",
    "ax.set_aspect('equal')\n",
    "ax.set_xlabel('X (cm), Image plane')\n",
    "ax.set_ylabel('Z (cm), Image plane')\n",
    "ax.set_title(\"Synthetic Proton Radiograph\")"
   ]
  },
  {
   "cell_type": "markdown",
   "metadata": {},
   "source": [
    "As expected, the outward-pointing electric field in the sphere has deflected the protons out of the central region, leaving a dark shadow."
   ]
  },
  {
   "cell_type": "code",
   "execution_count": null,
   "metadata": {},
   "outputs": [],
   "source": []
  }
 ],
 "metadata": {
  "kernelspec": {
   "display_name": "Python 3",
   "language": "python",
   "name": "python3"
  },
  "language_info": {
   "codemirror_mode": {
    "name": "ipython",
    "version": 3
   },
   "file_extension": ".py",
   "mimetype": "text/x-python",
   "name": "python",
   "nbconvert_exporter": "python",
   "pygments_lexer": "ipython3",
   "version": "3.7.6"
  }
 },
 "nbformat": 4,
 "nbformat_minor": 4
}
