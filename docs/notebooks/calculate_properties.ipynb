{
 "cells": [
  {
   "cell_type": "code",
   "execution_count": 335,
   "source": [
    "%matplotlib inline"
   ],
   "outputs": [],
   "metadata": {}
  },
  {
   "cell_type": "code",
   "execution_count": 336,
   "source": [
    "import ipywidgets as widgets\r\n",
    "from IPython.display import display\r\n",
    "from plasmapy.particles import Particle\r\n",
    "import astropy.units as units\r\n",
    "from inspect import signature\r\n",
    "import importlib\r\n",
    "import json"
   ],
   "outputs": [],
   "metadata": {}
  },
  {
   "cell_type": "code",
   "execution_count": 337,
   "source": [
    "values_container = dict()\r\n",
    "def create_label(label):\r\n",
    "    return widgets.Label(label)\r\n",
    "class GenericWidget:\r\n",
    "    def __init__(self, property_name,property_alias=\"\",values_cont=values_container):\r\n",
    "        self.property_name = property_name\r\n",
    "        self.property_alias = property_alias or property_name\r\n",
    "        self.widget = None\r\n",
    "        self.values_cont = values_cont\r\n",
    "        self.unit = None\r\n",
    "    def set_unit(self,unit):\r\n",
    "        self.unit = unit\r\n",
    "    def get_widget(self):\r\n",
    "        return self.widget\r\n",
    "    def set_place_holder(self,text):\r\n",
    "        self.widget.placeholder = text\r\n",
    "    def create_widget(self):\r\n",
    "        raise NotImplementedError()\r\n",
    "    def post_creation(self):\r\n",
    "        self.set_place_holder(\"\")\r\n",
    "        self.widget.observe(self.handle_change,names=\"value\")\r\n",
    "    def edge_case(self,value):\r\n",
    "        pass\r\n",
    "    def edge_case_condition(self,value):\r\n",
    "        return False\r\n",
    "    def try_change_value(self,value):\r\n",
    "        self.values_cont[self.property_name]=value\r\n",
    "    def display_error(self,value):\r\n",
    "        if self.widget:\r\n",
    "            self.widget.layout.border=\"2px solid red\"\r\n",
    "            self.widget.description = \"Invalid \"+self.property_alias\r\n",
    "    def convert_to_unit(self,change):\r\n",
    "        if self.unit:\r\n",
    "            return change.new*self.unit\r\n",
    "        return change.new\r\n",
    "    def handle_change(self,change):\r\n",
    "        value = self.convert_to_unit(change)\r\n",
    "        if self.edge_case_condition(value):\r\n",
    "            self.edge_case(value)\r\n",
    "        else:\r\n",
    "            try:\r\n",
    "                self.try_change_value(value)\r\n",
    "            except:\r\n",
    "                self.display_error(value)\r\n",
    "\r\n",
    "class FloatBox(GenericWidget):\r\n",
    "    def __init__(self, property_name,min=-1e50,max=1e50):\r\n",
    "        super().__init__(property_name)\r\n",
    "        self.min = min\r\n",
    "        self.max = max\r\n",
    "    def create_widget(self,style={\"description_width\": \"initial\"}):\r\n",
    "        self.widget = widgets.BoundedFloatText(name=self.property_name,min=self.min, \r\n",
    "            max=self.max, value=0, step=0.1,style=style)\r\n",
    "        self.post_creation()\r\n",
    "\r\n",
    "class ParticleBox(GenericWidget):\r\n",
    "    def __init__(self, property_name,property_alias=None):\r\n",
    "        super().__init__(property_name,property_alias=property_alias)\r\n",
    "\r\n",
    "    def edge_case_condition(self, value):\r\n",
    "        return value is None or value == \"\"\r\n",
    "    def edge_case(self, value):\r\n",
    "        self.values_cont[self.property_name] = None\r\n",
    "        self.widget.description = \"\"\r\n",
    "        self.widget.layout.border = \"1px solid black\"\r\n",
    "    def try_change_value(self, value):\r\n",
    "        ion = Particle(value)\r\n",
    "        self.values_cont[self.property_name] = ion\r\n",
    "        self.widget.layout.border=\"1px solid black\"\r\n",
    "        self.widget.description = \"\"\r\n",
    "\r\n",
    "    def create_widget(self,style={\"description_width\": \"initial\"}):\r\n",
    "        self.widget = widgets.Text(style=style)\r\n",
    "        self.post_creation()\r\n",
    "        self.set_place_holder(\"Enter ion type particle for e.g. p,He 2+\")\r\n",
    "\r\n",
    "def create_widget(widget_type,**kwargs):\r\n",
    "    unit = None\r\n",
    "    if 'unit' in kwargs:\r\n",
    "        unit = kwargs['unit']\r\n",
    "        del kwargs['unit']\r\n",
    "    widget_element = widget_type(**kwargs)\r\n",
    "    widget_element.create_widget()\r\n",
    "    if unit:\r\n",
    "        widget_element.set_unit(unit)\r\n",
    "    return widget_element.get_widget()\r\n",
    "    "
   ],
   "outputs": [],
   "metadata": {}
  },
  {
   "cell_type": "code",
   "execution_count": 338,
   "source": [
    "def colored(r, g, b, text):\r\n",
    "    return \"\\033[38;2;{};{};{}m{} \\033[38;2;255;255;255m\".format(r, g, b, text)\r\n",
    "class FunctionInfo:\r\n",
    "    def __init__(self, module_name, function_name, values_cont=values_container):\r\n",
    "        self.module = module_name\r\n",
    "        self.fname = function_name\r\n",
    "        self.fattr = getattr(importlib.import_module(module_name),function_name)\r\n",
    "        self.values_cont = values_cont\r\n",
    "        self.spec_combo = None\r\n",
    "        self.sig = list(signature(self.fattr).parameters.keys())\r\n",
    "        self.output_widget = widgets.Output()\r\n",
    "    def add_combo(self,spec_combo):\r\n",
    "        if not self.spec_combo:\r\n",
    "            self.spec_combo = []\r\n",
    "        self.spec_combo.append(spec_combo)\r\n",
    "    def get_output_widget(self):\r\n",
    "        return self.output_widget\r\n",
    "    def produce_arg(self, spec):\r\n",
    "        args_dict = dict()\r\n",
    "        for arg in spec:\r\n",
    "            if arg in self.values_cont and self.values_cont[arg] is not None:\r\n",
    "                args_dict[arg] = self.values_cont[arg]\r\n",
    "\r\n",
    "        return args_dict\r\n",
    "\r\n",
    "    def error_message(self,spec):\r\n",
    "        print(colored(0,0,0,\"[\"),end=\"\")\r\n",
    "        for arg in spec:\r\n",
    "            if arg in self.values_cont and self.values_cont[arg] is not None:\r\n",
    "                print(colored(0,128,0,arg+\":present,\"),end=\"\")\r\n",
    "            else:\r\n",
    "                print(colored(255,0,0,arg+\":missing,\"),end=\"\")\r\n",
    "        print(colored(0,0,0,\"]\"))\r\n",
    "    def process(self):\r\n",
    "        self.output_widget.clear_output()\r\n",
    "        args_dict = dict()\r\n",
    "        if self.spec_combo:\r\n",
    "           for spec in self.spec_combo:\r\n",
    "               args_dict = self.produce_arg(spec)\r\n",
    "               if len(args_dict) == len(spec):\r\n",
    "                   break\r\n",
    "        else:\r\n",
    "            args_dict = self.produce_arg(self.sig)\r\n",
    "        with self.output_widget:\r\n",
    "            try:\r\n",
    "                self.output_widget.layout.border=\"0px\"\r\n",
    "                print(self.fname+\" : \"+str(self.fattr(**args_dict)))\r\n",
    "            except Exception as e:\r\n",
    "                self.output_widget.layout.border=\"1px solid red\"\r\n",
    "                print(self.fname+\" : could not be computed one or more parameter is missing - check below for missing parameters\")\r\n",
    "                if self.spec_combo:\r\n",
    "                    for spec in self.spec_combo:\r\n",
    "                        self.error_message(spec)\r\n",
    "                else:\r\n",
    "                    self.error_message(self.sig)\r\n"
   ],
   "outputs": [],
   "metadata": {}
  },
  {
   "cell_type": "code",
   "execution_count": 339,
   "source": [
    "with open('properties_metadata.json') as f:\r\n",
    "    data = json.load(f)\r\n",
    "\r\n",
    "process_queue = []\r\n",
    "app = widgets.Tab()\r\n",
    "children = []\r\n",
    "for i,title in enumerate(data):\r\n",
    "    grid_layout = widgets.GridspecLayout(10,2,width=\"100%\")\r\n",
    "    for j,prop in enumerate(data[title]):\r\n",
    "        fn = FunctionInfo(prop[\"module_name\"],prop[\"function_name\"])\r\n",
    "        if \"spec_combo\" in prop:\r\n",
    "            for spec_combo in prop[\"spec_combo\"]:\r\n",
    "                fn.add_combo(spec_combo)\r\n",
    "        grid_layout[j,0] = create_label(prop[\"function_name\"]+\":\")\r\n",
    "        grid_layout[j,1] = fn.get_output_widget()\r\n",
    "        process_queue.append(fn)\r\n",
    "    children.append(grid_layout)\r\n",
    "    app.set_title(i,title)\r\n",
    "app.children = children"
   ],
   "outputs": [],
   "metadata": {}
  },
  {
   "cell_type": "code",
   "execution_count": 340,
   "source": [
    "def create_button():\r\n",
    "    button = widgets.Button(description=\"Calculate Properties\",button_style=\"info\")\r\n",
    "    return button\r\n",
    "\r\n",
    "def handle_button_click(event):\r\n",
    "    for fn in process_queue:\r\n",
    "        fn.process()"
   ],
   "outputs": [],
   "metadata": {}
  },
  {
   "cell_type": "code",
   "execution_count": 341,
   "source": [
    "grid = widgets.GridspecLayout(10, 2,width=\"700px\")\r\n",
    "grid.layout.margin=\"10px\"\r\n",
    "## Row 0 - Magnetic Field\r\n",
    "grid[0,0] = create_label(\"B - Magnetic Field Magnitude(T):\")\r\n",
    "grid[0,1] = create_widget(FloatBox,property_name=\"B\",unit=units.T)\r\n",
    "## Row 1 - Density\r\n",
    "grid[1,0] = create_label(\"\\u03C1 - Density(kg/m3):\")\r\n",
    "grid[1,1] = create_widget(FloatBox,property_name=\"density\",min=0,unit=units.kg/units.m**3)\r\n",
    "## Row 2 - Particle Type\r\n",
    "grid[2,0] = create_label(\"Particle(Ion):\")\r\n",
    "grid[2,1] = create_widget(ParticleBox,property_name=\"particle\",property_alias=\"ion_type\")\r\n",
    "\r\n",
    "calculate_button = widgets.Button(description=\"Calculate Properties\",button_style=\"info\")\r\n",
    "calculate_button.on_click(handle_button_click)\r\n",
    "grid[-1,0] = calculate_button\r\n",
    "display(grid)"
   ],
   "outputs": [
    {
     "output_type": "display_data",
     "data": {
      "text/plain": [
       "GridspecLayout(children=(Label(value='B - Magnetic Field Magnitude(T):', layout=Layout(grid_area='widget001'))…"
      ],
      "application/vnd.jupyter.widget-view+json": {
       "version_major": 2,
       "version_minor": 0,
       "model_id": "9f3b139c999c4beaa484f635de77c343"
      }
     },
     "metadata": {}
    }
   ],
   "metadata": {}
  },
  {
   "cell_type": "code",
   "execution_count": 342,
   "source": [
    "app"
   ],
   "outputs": [
    {
     "output_type": "display_data",
     "data": {
      "text/plain": [
       "Tab(children=(GridspecLayout(children=(Label(value='Alfven_speed:', layout=Layout(grid_area='widget001')), Out…"
      ],
      "application/vnd.jupyter.widget-view+json": {
       "version_major": 2,
       "version_minor": 0,
       "model_id": "9fa386f3da27477790dff7faa7af2db5"
      }
     },
     "metadata": {}
    }
   ],
   "metadata": {}
  }
 ],
 "metadata": {
  "interpreter": {
   "hash": "a1fafe92487e6823dbe852514612f53ec74aa37737c5bc2c8ee36ad7d3fbdcd4"
  },
  "kernelspec": {
   "name": "python3",
   "display_name": "Python 3.9.5 64-bit (windows store)"
  },
  "language_info": {
   "codemirror_mode": {
    "name": "ipython",
    "version": 3
   },
   "file_extension": ".py",
   "mimetype": "text/x-python",
   "name": "python",
   "nbconvert_exporter": "python",
   "pygments_lexer": "ipython3",
   "version": "3.9.5"
  }
 },
 "nbformat": 4,
 "nbformat_minor": 4
}