{
 "cells": [
  {
   "cell_type": "code",
   "execution_count": 251,
   "source": [
    "%matplotlib inline"
   ],
   "outputs": [],
   "metadata": {}
  },
  {
   "cell_type": "code",
   "execution_count": 252,
   "source": [
    "import ipywidgets\r\n",
    "from IPython.display import display\r\n",
    "from IPython.html import widgets"
   ],
   "outputs": [],
   "metadata": {}
  },
  {
   "cell_type": "code",
   "execution_count": 253,
   "source": [
    "## Temp\r\n",
    "values_container = dict()"
   ],
   "outputs": [],
   "metadata": {}
  },
  {
   "cell_type": "code",
   "execution_count": 257,
   "source": [
    "def create_float_box(property_name,min=-1e15,max=1e15):\r\n",
    "    float_box = widgets.BoundedFloatText(name=property_name,min=min, max=max, value=0, step=0.1)\r\n",
    "    def handle_var_change(change):\r\n",
    "        values_container[property_name] = change.new\r\n",
    "    float_box.observe(handle_var_change, names=\"value\")\r\n",
    "    return float_box\r\n",
    "\r\n",
    "def create_particle_type_box(property_name):\r\n",
    "    particle_type_box = widgets.Dropdown(\r\n",
    "        options=[None, \"electrons\", \"ions\", \"electrons+ions\"],\r\n",
    "        value=None,\r\n",
    "        disabled=False\r\n",
    "    )\r\n",
    "    def handle_particle_type_change(change):\r\n",
    "        values_container[property_name] = change.new\r\n",
    "    particle_type_box.observe(handle_particle_type_change, names=\"value\")\r\n",
    "    return particle_type_box\r\n",
    "\r\n",
    "def create_text_box(property_name):\r\n",
    "    text_box = widgets.Text(value=\"\", placeholder=\"Enter ion type particle for e.g. p,He 2+\", disabled=False)\r\n",
    "    def handle_text_change(change):\r\n",
    "        values_container[property_name] = change.new\r\n",
    "    text_box.observe(handle_text_change, names=\"value\")\r\n",
    "    return text_box"
   ],
   "outputs": [],
   "metadata": {}
  },
  {
   "cell_type": "code",
   "execution_count": 258,
   "source": [
    "grid = widgets.GridspecLayout(10, 2,width=\"700px\")\r\n",
    "## Row 0 - Magnetic Field\r\n",
    "grid[0,0] = widgets.Label(\"B - Magnetic Field Magnitude(T):\")\r\n",
    "grid[0,1] = create_float_box(\"magnetic_field_magnitude\")\r\n",
    "## Row 1 - Density\r\n",
    "grid[1,0] = widgets.Label(\"\\u03C1 - Density(kg/m3):\")\r\n",
    "grid[1,1] = create_float_box(\"density_value\",min=0)\r\n",
    "## Row 2 - Particle Type\r\n",
    "grid[2,0] = widgets.Label(\"Particle(Ion):\")\r\n",
    "grid[2,1] = create_text_box(\"particle_ion\")\r\n",
    "display(grid)"
   ],
   "outputs": [
    {
     "output_type": "display_data",
     "data": {
      "text/plain": [
       "GridspecLayout(children=(Label(value='B - Magnetic Field Magnitude(T):', layout=Layout(grid_area='widget001'))…"
      ],
      "application/vnd.jupyter.widget-view+json": {
       "version_major": 2,
       "version_minor": 0,
       "model_id": "3261c3b89de342b6bd408209de25a5c6"
      }
     },
     "metadata": {}
    }
   ],
   "metadata": {}
  },
  {
   "cell_type": "code",
   "execution_count": 259,
   "source": [
    "print(values_container)"
   ],
   "outputs": [
    {
     "output_type": "stream",
     "name": "stdout",
     "text": [
      "{}\n"
     ]
    }
   ],
   "metadata": {}
  },
  {
   "cell_type": "code",
   "execution_count": null,
   "source": [],
   "outputs": [],
   "metadata": {}
  }
 ],
 "metadata": {
  "interpreter": {
   "hash": "a1fafe92487e6823dbe852514612f53ec74aa37737c5bc2c8ee36ad7d3fbdcd4"
  },
  "kernelspec": {
   "display_name": "Python 3 (ipykernel)",
   "language": "python",
   "name": "python3"
  },
  "language_info": {
   "codemirror_mode": {
    "name": "ipython",
    "version": 3
   },
   "file_extension": ".py",
   "mimetype": "text/x-python",
   "name": "python",
   "nbconvert_exporter": "python",
   "pygments_lexer": "ipython3",
   "version": "3.9.5"
  }
 },
 "nbformat": 4,
 "nbformat_minor": 4
}