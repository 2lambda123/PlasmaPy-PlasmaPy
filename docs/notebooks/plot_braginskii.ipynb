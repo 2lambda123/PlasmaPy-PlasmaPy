{
  "cells": [
    {
      "cell_type": "code",
      "execution_count": null,
      "metadata": {
        "collapsed": false
      },
      "outputs": [],
      "source": [
        "%matplotlib inline"
      ]
    },
    {
      "cell_type": "markdown",
      "metadata": {},
      "source": [
        "\nBraginskii coefficients\n=========================\n\nA short example of how to calculate classical transport coefficients\nfrom Bragi\u0144ski's theory.\n"
      ]
    },
    {
      "cell_type": "code",
      "execution_count": null,
      "metadata": {
        "collapsed": false
      },
      "outputs": [],
      "source": [
        "from astropy import units as u\nfrom plasmapy.formulary import ClassicalTransport"
      ]
    },
    {
      "cell_type": "markdown",
      "metadata": {},
      "source": [
        "We'll use some sample ITER data, without much regard for whether\nthe regime is even fit for classical transport theory:\n\n"
      ]
    },
    {
      "cell_type": "code",
      "execution_count": null,
      "metadata": {
        "collapsed": false
      },
      "outputs": [],
      "source": [
        "thermal_energy_per_electron = 8.8 * u.keV\nelectron_concentration = 10.1e19 / u.m**3\n\nthermal_energy_per_ion = 8.0 * u.keV\nion_concentration = electron_concentration\nion = 'D+'  # a crude approximation"
      ]
    },
    {
      "cell_type": "markdown",
      "metadata": {},
      "source": [
        "We now make the default ClassicalTransport object:\n\n"
      ]
    },
    {
      "cell_type": "code",
      "execution_count": null,
      "metadata": {
        "collapsed": false
      },
      "outputs": [],
      "source": [
        "braginskii = ClassicalTransport(thermal_energy_per_electron,\n                                electron_concentration,\n                                thermal_energy_per_ion,\n                                ion_concentration,\n                                ion)"
      ]
    },
    {
      "cell_type": "markdown",
      "metadata": {},
      "source": [
        "These variables are calculated during initialization and can be\nreferred to straight away:\n\n"
      ]
    },
    {
      "cell_type": "code",
      "execution_count": null,
      "metadata": {
        "collapsed": false
      },
      "outputs": [],
      "source": [
        "print(braginskii.coulomb_log_ei)\nprint(braginskii.coulomb_log_ii)\nprint(braginskii.hall_e)\nprint(braginskii.hall_i)"
      ]
    },
    {
      "cell_type": "markdown",
      "metadata": {},
      "source": [
        "These quantities are not calculated during initialization and can be\nreferred to via methods. To signify the need to calculate them, we\ncall them via ().\n\n"
      ]
    },
    {
      "cell_type": "code",
      "execution_count": null,
      "metadata": {
        "collapsed": false
      },
      "outputs": [],
      "source": [
        "print(braginskii.resistivity)\nprint(braginskii.thermoelectric_conductivity)\nprint(braginskii.electron_thermal_conductivity)\nprint(braginskii.ion_thermal_conductivity)"
      ]
    },
    {
      "cell_type": "markdown",
      "metadata": {},
      "source": [
        "They also change with magnetization:\n\n"
      ]
    },
    {
      "cell_type": "code",
      "execution_count": null,
      "metadata": {
        "collapsed": false
      },
      "outputs": [],
      "source": [
        "mag_braginskii = ClassicalTransport(thermal_energy_per_electron,\n                                    electron_concentration,\n                                    thermal_energy_per_ion,\n                                    ion_concentration,\n                                    ion,\n                                    B = 0.1 * u.T)\n\nprint(mag_braginskii.resistivity)\nprint(mag_braginskii.thermoelectric_conductivity)\nprint(mag_braginskii.electron_thermal_conductivity)\nprint(mag_braginskii.ion_thermal_conductivity)"
      ]
    },
    {
      "cell_type": "markdown",
      "metadata": {},
      "source": [
        "They also change with direction with respect to the magnetic field. Here,\nwe choose to print out, as arrays, the (parallel, perpendicular,\nand cross) directions. Take a look at the docs to `ClassicalTransport`\nfor more information on these.\n\n"
      ]
    },
    {
      "cell_type": "code",
      "execution_count": null,
      "metadata": {
        "collapsed": false
      },
      "outputs": [],
      "source": [
        "all_direction_braginskii = ClassicalTransport(thermal_energy_per_electron,\n                                              electron_concentration,\n                                              thermal_energy_per_ion,\n                                              ion_concentration,\n                                              ion,\n                                              B = 0.1 * u.T,\n                                              field_orientation = 'all')\n\nprint(all_direction_braginskii.resistivity)\nprint(all_direction_braginskii.thermoelectric_conductivity)\nprint(all_direction_braginskii.electron_thermal_conductivity)\nprint(all_direction_braginskii.ion_thermal_conductivity)"
      ]
    },
    {
      "cell_type": "markdown",
      "metadata": {},
      "source": [
        "The viscosities return arrays:\n\n"
      ]
    },
    {
      "cell_type": "code",
      "execution_count": null,
      "metadata": {
        "collapsed": false
      },
      "outputs": [],
      "source": [
        "print(braginskii.electron_viscosity)\nprint(mag_braginskii.electron_viscosity)\nprint(braginskii.ion_viscosity)\nprint(mag_braginskii.ion_viscosity)"
      ]
    }
  ],
  "metadata": {
    "kernelspec": {
      "display_name": "Python 3",
      "language": "python",
      "name": "python3"
    },
    "language_info": {
      "codemirror_mode": {
        "name": "ipython",
        "version": 3
      },
      "file_extension": ".py",
      "mimetype": "text/x-python",
      "name": "python",
      "nbconvert_exporter": "python",
      "pygments_lexer": "ipython3",
      "version": "3.8.2"
    }
  },
  "nbformat": 4,
  "nbformat_minor": 0
}
