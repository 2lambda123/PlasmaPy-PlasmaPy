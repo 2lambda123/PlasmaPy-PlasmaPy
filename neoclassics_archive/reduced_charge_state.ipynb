{
 "cells": [
  {
   "cell_type": "markdown",
   "metadata": {
    "tags": []
   },
   "source": [
    "# Reduced charge state solution"
   ]
  },
  {
   "cell_type": "markdown",
   "metadata": {},
   "source": [
    "> When Eq. ~1! is expressed in terms of the parallel flows\n",
    "using Eq. ~19! to eliminate the poloidal flows# and the sums\n",
    "over the charge states j for species b are carried out, we\n",
    "obtain a set of three equations ( a = 1,2,3) for each charge\n",
    "state of each isotope,\n",
    "\n",
    "$$\\sum_\\beta (\\xi_{ai} M^a_{\\alpha \\beta} - \\hat{\\mu}^{ai}_{\\alpha\\beta}) \\hat{\\mu}_\\beta^{ai} - (\\beta_{cx,a} + \\beta_{an,\\alpha}) \\hat{u}_\\alpha^{ai} \n",
    "= \n",
    "- \\xi_{ai} =\\sum_\\beta \\sum_b N^{ab}_{\\alpha \\beta} \\bar{\\mu}_\\beta^b + \\sum_\\beta \\hat{\\mu}_{\\alpha\\beta}^{ai}S_{\\theta,\\beta}^{ai} - S_{E_\\parallel,\\alpha}^{ai} - S_{NBI\\parallel, \\alpha}^{ai}$$\n",
    "\n",
    "$$\\bar{\\mu}_\\beta^b = \\sum_j \\xi_{bj} \\hat{\\mu}_\\beta^{bj}$$"
   ]
  },
  {
   "cell_type": "code",
   "execution_count": 1,
   "metadata": {},
   "outputs": [],
   "source": [
    "import plasmaboundaries\n",
    "\n",
    "from plasmapy.plasma.symbolicequilibrium import SymbolicEquilibrium\n",
    "\n",
    "params = plasmaboundaries.ITER.copy()\n",
    "assert params[\"triangularity\"] <= 0.841  # for convex plasma surfaces\n",
    "eq = SymbolicEquilibrium(**params, B0=5.2, config=\"single-null\")\n",
    "fs = eq.get_flux_surface(-0.01);"
   ]
  },
  {
   "cell_type": "markdown",
   "metadata": {},
   "source": [
    "So we take the general equation (25)\n",
    "\n",
    "$$A^{ai} \\cdot \\hat{u}^{ai} = \\xi_{ai} \\Lambda^a (\\bar{u}^b) + S^{ai}$$"
   ]
  },
  {
   "cell_type": "markdown",
   "metadata": {},
   "source": [
    "This means every charge level has\n",
    "\n",
    "- [x] an $A^{ai}$ 3x3 matrix (28) using\n",
    "    - [x] script M\n",
    "    - [x] viscosities $\\hat{\\mu}_{\\alpha\\beta}^{ai}$\n",
    "    - [x] the charge weight $\\xi_{ai}$\n",
    "    - [x] beta coefficients\n",
    "- [ ] the $\\Lambda^a$ term which depends on the isotope only and involves script N and $\\hat{u}_\\beta^b$, summed over beta and b"
   ]
  },
  {
   "cell_type": "code",
   "execution_count": 2,
   "metadata": {},
   "outputs": [],
   "source": [
    "from plasmapy.formulary import neoclassical"
   ]
  },
  {
   "cell_type": "code",
   "execution_count": 3,
   "metadata": {},
   "outputs": [
    {
     "data": {
      "text/latex": [
       "$1 \\times 10^{20} \\; \\mathrm{\\frac{1}{m^{3}}}$"
      ],
      "text/plain": [
       "<Quantity 1.e+20 1 / m3>"
      ]
     },
     "execution_count": 3,
     "metadata": {},
     "output_type": "execute_result"
    }
   ],
   "source": [
    "from plasmapy.particles import IonizationStateCollection\n",
    "\n",
    "all_species = IonizationStateCollection(\n",
    "    {\n",
    "        \"H\": [0, 1],\n",
    "        #      \"D\": [0, 1],   raises ParticleError, why?\n",
    "        \"C\": [0, 0, 0, 0, 0, 0, 1],\n",
    "    },\n",
    "    n0=1e20 * u.m ** -3,\n",
    "    abundances={\"H\": 1, \"C\": 0.08},\n",
    "    T_e=10 * u.eV,\n",
    ")\n",
    "a = all_species[\"H\"]\n",
    "i = 1\n",
    "ai = a[i]\n",
    "all_species[\"H\"].n_e"
   ]
  },
  {
   "cell_type": "code",
   "execution_count": 4,
   "metadata": {},
   "outputs": [],
   "source": [
    "from plasmapy.formulary.neoclassical import ξ"
   ]
  },
  {
   "cell_type": "code",
   "execution_count": 5,
   "metadata": {},
   "outputs": [
    {
     "data": {
      "text/latex": [
       "$[0,~1] \\; \\mathrm{}$"
      ],
      "text/plain": [
       "<Quantity [0., 1.]>"
      ]
     },
     "execution_count": 5,
     "metadata": {},
     "output_type": "execute_result"
    }
   ],
   "source": [
    "ξ(all_species[\"H\"])"
   ]
  },
  {
   "cell_type": "code",
   "execution_count": 6,
   "metadata": {},
   "outputs": [
    {
     "data": {
      "text/latex": [
       "$[0,~1] \\; \\mathrm{}$"
      ],
      "text/plain": [
       "<Quantity [0., 1.]>"
      ]
     },
     "execution_count": 6,
     "metadata": {},
     "output_type": "execute_result"
    }
   ],
   "source": [
    "i = 1\n",
    "ξ(a)"
   ]
  },
  {
   "cell_type": "code",
   "execution_count": 7,
   "metadata": {},
   "outputs": [
    {
     "data": {
      "text/latex": [
       "$[[0,~0,~0],~\n",
       " [0,~0,~0],~\n",
       " [0,~0,~0]] \\; \\mathrm{\\frac{kg}{s\\,m^{3}}}$"
      ],
      "text/plain": [
       "<Quantity [[0., 0., 0.],\n",
       "           [0., 0., 0.],\n",
       "           [0., 0., 0.]] kg / (m3 s)>"
      ]
     },
     "execution_count": 7,
     "metadata": {},
     "output_type": "execute_result"
    }
   ],
   "source": [
    "beta_cx = np.zeros(3)  # TODO\n",
    "beta_an = np.zeros(3)  # TODO\n",
    "beta_coeffs = np.diag(beta_cx + beta_an) * u.kg / u.m ** 3 / u.s"
   ]
  },
  {
   "cell_type": "code",
   "execution_count": 8,
   "metadata": {},
   "outputs": [
    {
     "data": {
      "text/latex": [
       "$[[-1.242725,~1.5526236,~-1.6860537],~\n",
       " [1.5526236,~4.0043251,~4.6468194],~\n",
       " [-1.6860537,~4.6468194,~-7.8040079]] \\; \\mathrm{\\frac{kg}{s\\,m^{3}}}$"
      ],
      "text/plain": [
       "<Quantity [[-1.24272503,  1.55262355, -1.68605372],\n",
       "           [ 1.55262355,  4.0043251 ,  4.64681939],\n",
       "           [-1.68605372,  4.64681939, -7.80400786]] kg / (m3 s)>"
      ]
     },
     "execution_count": 8,
     "metadata": {},
     "output_type": "execute_result"
    }
   ],
   "source": [
    "neoclassical.M_script(a, all_species)"
   ]
  },
  {
   "cell_type": "code",
   "execution_count": 9,
   "metadata": {},
   "outputs": [],
   "source": [
    "# Aai = ξ(a)[i] * neoclassical.M_script(a, all_species) - mu_hat(ai) - beta_coeffs"
   ]
  },
  {
   "cell_type": "markdown",
   "metadata": {},
   "source": [
    "The really key equation seems to be $A^{ai} \\cdot \\hat{r}^{ai}_m = S^{ai}_m$, where m is the force source (1, 2, 3, pT, E, NBI and we can neglect the latter two for the first approximation);"
   ]
  },
  {
   "cell_type": "markdown",
   "metadata": {},
   "source": [
    "$S^{ai}_\\alpha$ here being just $\\xi_{ai} \\hat{e}_\\alpha$, the charge weight times a unit vector"
   ]
  },
  {
   "cell_type": "markdown",
   "metadata": {},
   "source": [
    "We can then do a bunch of inversions and get the $\\hat{r}_m^{ai}$'s. "
   ]
  },
  {
   "cell_type": "markdown",
   "metadata": {},
   "source": [
    "And then, the naive approach would be to combine them via the $\\Lambda_i$-weighted linear combination of equation 31 into the whole charge state flow $\\hat{u}^{ai}$."
   ]
  },
  {
   "cell_type": "markdown",
   "metadata": {},
   "source": [
    "But this still does not seem to be what they do. Instead they multiply (31) by $\\xi_{ai}$ and sum those over the charge states. This basically replaces the $(ai)$ species indices with $a$ isotope indices."
   ]
  },
  {
   "attachments": {
    "02b1dca0-21b1-4a26-bebc-84e4e869fc3f.png": {
     "image/png": "[encoded data removed]"
    }
   },
   "cell_type": "markdown",
   "metadata": {},
   "source": [
    "![image.png](attachment:02b1dca0-21b1-4a26-bebc-84e4e869fc3f.png)"
   ]
  },
  {
   "attachments": {
    "cffc7422-253d-49f6-8ed1-a590e8e56bdb.png": {
     "image/png": "[encoded data removed]"
    }
   },
   "cell_type": "markdown",
   "metadata": {},
   "source": [
    "Then they go back to 27\n",
    "\n",
    "![image.png](attachment:cffc7422-253d-49f6-8ed1-a590e8e56bdb.png)"
   ]
  },
  {
   "attachments": {
    "55009291-74ee-472d-ab3e-51f5cbe81bdc.png": {
     "image/png": "[encoded data removed]"
    }
   },
   "cell_type": "markdown",
   "metadata": {},
   "source": [
    "Essentially to back-substitute the $\\Lambda^a_i$s, and they get \"a linear set of 3n equations for three parallel flow components for the n isotopes\",\n",
    "\n",
    "![image.png](attachment:55009291-74ee-472d-ab3e-51f5cbe81bdc.png)"
   ]
  },
  {
   "cell_type": "markdown",
   "metadata": {},
   "source": [
    "**This** is the equation that gets solved, and the one to tackle the ingredients of next."
   ]
  },
  {
   "cell_type": "code",
   "execution_count": 10,
   "metadata": {},
   "outputs": [
    {
     "data": {
      "text/latex": [
       "$[[-1.054623,~0.088009671,~0.28232163],~\n",
       " [0.088009671,~0.14085007,~0.064903161],~\n",
       " [0.28232163,~0.064903161,~-0.14762642]] \\; \\mathrm{\\frac{m^{3}\\,s}{kg}}$"
      ],
      "text/plain": [
       "<Quantity [[-1.05462304,  0.08800967,  0.28232163],\n",
       "           [ 0.08800967,  0.14085007,  0.06490316],\n",
       "           [ 0.28232163,  0.06490316, -0.14762642]] m3 s / kg>"
      ]
     },
     "execution_count": 10,
     "metadata": {},
     "output_type": "execute_result"
    }
   ],
   "source": [
    "from plasmapy.formulary.neoclassical import rbar\n",
    "\n",
    "rbar(a, all_species, fs)"
   ]
  },
  {
   "cell_type": "code",
   "execution_count": null,
   "metadata": {},
   "outputs": [],
   "source": []
  },
  {
   "cell_type": "code",
   "execution_count": 11,
   "metadata": {},
   "outputs": [
    {
     "data": {
      "text/latex": [
       "$[[-0.14694517,~0.012117177,~0.016515475],~\n",
       " [0.012117177,~0.025664623,~0.012248355],~\n",
       " [0.016515475,~0.012248355,~-0.020389709]] \\; \\mathrm{\\frac{m^{3}\\,s}{kg}}$"
      ],
      "text/plain": [
       "<Quantity [[-0.14694517,  0.01211718,  0.01651547],\n",
       "           [ 0.01211718,  0.02566462,  0.01224836],\n",
       "           [ 0.01651547,  0.01224836, -0.02038971]] m3 s / kg>"
      ]
     },
     "execution_count": 11,
     "metadata": {},
     "output_type": "execute_result"
    }
   ],
   "source": [
    "rbar(all_species[\"C\"], all_species, fs)"
   ]
  },
  {
   "cell_type": "markdown",
   "metadata": {},
   "source": [
    "## The matrix equation solution; all the indices"
   ]
  },
  {
   "attachments": {
    "e642ef16-003f-4b49-aef0-62d4226fd528.png": {
     "image/png": "[encoded data removed]"
    }
   },
   "cell_type": "markdown",
   "metadata": {},
   "source": [
    "Okay, this is something stupid. They use\n",
    "\n",
    "![image.png](attachment:e642ef16-003f-4b49-aef0-62d4226fd528.png)"
   ]
  },
  {
   "cell_type": "markdown",
   "metadata": {},
   "source": [
    "The inner parenthesis has 3 components. Its indices are $(\\alpha = [1, 2, 3], \\beta, a, b)$"
   ]
  },
  {
   "cell_type": "markdown",
   "metadata": {},
   "source": [
    "This corresponds to a 4D ndarray."
   ]
  },
  {
   "attachments": {
    "8d324f02-b6fc-408b-bbff-2e3d470ff861.png": {
     "image/png": "[encoded data removed]"
    }
   },
   "cell_type": "markdown",
   "metadata": {},
   "source": [
    "I'm not yet sure why $\\beta$ is there on different \"rights\" thatn $\\alpha$. I guess its column vector status and \n",
    "\n",
    "![image.png](attachment:8d324f02-b6fc-408b-bbff-2e3d470ff861.png)\n",
    "\n",
    "signifies that it's supposed to be a column-row product?\n",
    "\n",
    "Anyway, let's think about this. We take $N_{\\alpha,\\beta}^{ab} \\bar{u}_\\beta^b$. Purely index notation for now and we'll worry about the minus sign later. This is a 4d matrix where, along axes 2 and 4, $\\bar{u}$ is applied. Okay.\n",
    "\n",
    "Summing along $\\beta, b$, we reduce this from a 4D (3, 3, N, N) matrix to a 2D (3, N) matrix. Cool. So this does have 3 rows, as shown in eq 27 above.\n",
    "\n",
    "Thus, $\\mathbf{\\Lambda}^a$.shape $= (3, N) \\implies \\mathbf{\\Lambda}^a = \\Lambda_\\gamma^a$.\n",
    "\n",
    "Note that given we don't yet know $\\bar{u}_\\beta^b$, we cannot actually compute this just yet. That's what we're going to solve for."
   ]
  },
  {
   "attachments": {
    "5319eb8b-6045-425b-834b-19c2019e2879.png": {
     "image/png": "[encoded data removed]"
    },
    "f02a0439-b89e-4ec7-bf1a-a88d63b9de53.png": {
     "image/png": "[encoded data removed]"
    }
   },
   "cell_type": "markdown",
   "metadata": {},
   "source": [
    "Onwards.\n",
    "\n",
    "![image.png](attachment:5319eb8b-6045-425b-834b-19c2019e2879.png)\n",
    "\n",
    "![image.png](attachment:f02a0439-b89e-4ec7-bf1a-a88d63b9de53.png)"
   ]
  },
  {
   "attachments": {
    "e5325121-a1b8-4e80-9c28-567e74b44796.png": {
     "image/png": "[encoded data removed]"
    }
   },
   "cell_type": "markdown",
   "metadata": {},
   "source": [
    "Take the \"matrix equation\" now. $\\mathbf{A}^{ai}$ was defined earlier as\n",
    "\n",
    "![image.png](attachment:e5325121-a1b8-4e80-9c28-567e74b44796.png)"
   ]
  },
  {
   "attachments": {
    "303c0300-e11e-421e-823d-094ad4478094.png": {
     "image/png": "[encoded data removed]"
    }
   },
   "cell_type": "markdown",
   "metadata": {},
   "source": [
    "and\n",
    "\n",
    "![image.png](attachment:303c0300-e11e-421e-823d-094ad4478094.png)"
   ]
  },
  {
   "cell_type": "markdown",
   "metadata": {},
   "source": [
    "So the matrix equation\n",
    "\n",
    "$$\\mathbf{A}^{ai} \\cdot \\hat{r}_m^{ai} = \\mathbf{S}_m^{ai}$$"
   ]
  },
  {
   "cell_type": "markdown",
   "metadata": {},
   "source": [
    "is in fact a, for each charge state $ai$, a $(3, 3) \\cdot (3,) = (3,)$ matrix equation."
   ]
  },
  {
   "cell_type": "markdown",
   "metadata": {},
   "source": [
    "Given that $m = (1, 2, 3, pT, E, NBI), [m] = 6$, that could be recast into a $(3, 3) \\cdot (3, 6) = (3, 6)$ matrix equation. In theory. Is that correct?"
   ]
  },
  {
   "cell_type": "code",
   "execution_count": 12,
   "metadata": {},
   "outputs": [
    {
     "data": {
      "text/plain": [
       "(3, 6)"
      ]
     },
     "execution_count": 12,
     "metadata": {},
     "output_type": "execute_result"
    }
   ],
   "source": [
    "Amatrix = np.random.random((3, 3))\n",
    "Smatrix = np.random.random((3, 6))\n",
    "np.linalg.solve(Amatrix, Smatrix).shape"
   ]
  },
  {
   "cell_type": "markdown",
   "metadata": {},
   "source": [
    "Yup! But that would require us to write $r_{\\gamma,m}^{ai}$ and $S_{\\gamma, m}^{ai}$. Where I chose $\\gamma$ to not collide with any existing moment order indices. Awesome."
   ]
  },
  {
   "cell_type": "markdown",
   "metadata": {},
   "source": [
    "Then equation 31 can be recast into a matrix product if we were to take a helper matrix $I_6$ (6-dim or m-dim identity) where the upper half is multiplied by $\\mathbf{\\Lambda}^a$... TODO"
   ]
  },
  {
   "cell_type": "markdown",
   "metadata": {},
   "source": [
    "But let's skip that for now and carry on. Let's rewrite 32...\n",
    "\n",
    "$$\\bar{r}_{\\gamma, m}^a \\equiv \\Sigma_i \\xi_{ai} \\hat{r}_{\\gamma, m}^{ai}$$"
   ]
  },
  {
   "attachments": {
    "acc370d0-236f-4ea4-94e0-be655c824a6f.png": {
     "image/png": "[encoded data removed]"
    }
   },
   "cell_type": "markdown",
   "metadata": {},
   "source": [
    "Still a (3, 6) array; and the superscript seems to imply it's going to be a (3, 6, N) array, where N is the number of isotopes in the system. This is a weird non-line\n",
    "\n",
    "sparse\n",
    "\n",
    "holy shit, this is a use case for sparse matrices\n",
    "\n",
    "because the number of charge states varies between different isotopes, right? Hydrogen has basically one, two when accounting for neutrals. Tungsten, though...\n",
    "\n",
    "[![image.png](attachment:acc370d0-236f-4ea4-94e0-be655c824a6f.png)](https://www-nds.iaea.org/exfor/servlet/X4sZvd?file=https://www-amdis.iaea.org/FLYCHK/ZBAR/zp074.zvd)\n",
    "\n",
    "Tungsten goes to like 80 or so. Okay. So we could imagine taking max(number of charge states in the system) = M and allocating this huge array of shape (3, 6, N, M). Well, that's a boatload of zeros, right? Sure. But if this were to be a sparse array, well... that solves both the memory problem of allocating a boatload of zeros, and the speed problem by just not taking the zeros into account.\n",
    "\n",
    "Huh.\n",
    "\n",
    "Huuuuuuh."
   ]
  },
  {
   "cell_type": "markdown",
   "metadata": {},
   "source": [
    "Something to think about. Still, (32) sidesteps this by essentially collapsing our sparse (3, 6, N, M) array into a dense (3, 6, N) array.\n",
    "\n",
    "(33) does exactly the thing I thought of above in 31. The shape on this thing is (3, 6, N), still. Right? I mean it has to be, no? 3 moment orders, 6 sources of flow, N isotopes. Yeah, that sounds about right. And the trick with the block `[[Lambda * eye(3)], 0], [0, eye(3)]]` array still should apply. Okayo."
   ]
  },
  {
   "cell_type": "markdown",
   "metadata": {},
   "source": [
    "Well, now they combine (27) with (33). This means, in our (3, 6, N) matrix equation, TODO\n",
    "\n",
    "I honestly think I need to disregard their way of writing (34) and write it myself, with my own notation, from scratch. Let's do that, tbh."
   ]
  },
  {
   "cell_type": "markdown",
   "metadata": {},
   "source": [
    "$$\\bar{u}_k^a = \\Lambda_1^a \\bar{r}_{k, 1}^a + \\Lambda_2^a \\bar{r}_{k, 2}^a + \\Lambda_3^a \\bar{r}_{k, 3}^a + \\bar{r}_{k,pT}^a + \\bar{r}_{k,E}^a + \\bar{r}_{k, NBI}^a$$"
   ]
  },
  {
   "cell_type": "markdown",
   "metadata": {},
   "source": [
    "$$\\bar{u}_k^a = \\Lambda_\\alpha^a \\bar{r}_{k, \\alpha}^a + \\bar{r}_{k,pT}^a + \\bar{r}_{k,E}^a + \\bar{r}_{k, NBI}^a$$"
   ]
  },
  {
   "cell_type": "markdown",
   "metadata": {},
   "source": [
    "$$\\bar{u}_k^a = -N^{ab}_{\\alpha\\beta} \\bar{u}^b_\\beta \\bar{r}_{k, \\alpha}^a + \\bar{r}_{k,pT}^a + \\bar{r}_{k,E}^a + \\bar{r}_{k, NBI}^a$$"
   ]
  },
  {
   "cell_type": "markdown",
   "metadata": {},
   "source": [
    "| Quantity               | Shape   | Notes                                  |\n",
    "|------------------------|---------|----------------------------------------|\n",
    "| $\\bar{u}_\\gamma^a$     | 3, N    |we solve for this!                      |\n",
    "| $\\bar{r}_{\\gamma,m}^a$ | 3, 6, N |all responses, +rhs                     |\n",
    "| $\\Lambda_\\gamma^a$     | 3, N    |$-N^{ab}_{\\gamma \\beta} \\bar{u}_\\beta^b$; contraction of (3, 3, N, N) with (1, 3, 1, N)|"
   ]
  },
  {
   "cell_type": "markdown",
   "metadata": {},
   "source": [
    "Now we use (with the summation convention)\n",
    "\n",
    "$$\\Lambda^a_\\gamma = -N^{ab}_{\\gamma \\beta} \\bar{u}_\\beta^b$$"
   ]
  },
  {
   "cell_type": "markdown",
   "metadata": {},
   "source": [
    "Subsitute:\n",
    "\n",
    "$$\\bar{u}_\\gamma^a = -\\sum_{m=(1,2,3)} N_{\\gamma\\beta}^{ab}\\bar{u}_\\beta^b \\bar{r}_{\\gamma, m}^a + \\sum_{m=(pT, E, \\text{NBI})} \\bar{r}_{\\gamma, m}^a$$"
   ]
  },
  {
   "cell_type": "markdown",
   "metadata": {},
   "source": [
    "$$\\bar{u}_\\gamma^a = - \\sum_{b,\\beta} N_{\\gamma\\beta}^{ab}\\bar{u}_\\beta^b \\bar{r}_{\\gamma, \\beta}^a + \\sum_{m=(pT, E, \\text{NBI})} \\bar{r}_{\\gamma, m}^a$$"
   ]
  },
  {
   "cell_type": "markdown",
   "metadata": {},
   "source": [
    "$$\\bar{u}_\\gamma^a +\\sum_{b,\\beta}N_{\\gamma\\beta}^{ab} \\bar{r}_{\\gamma, \\beta}^a \\bar{u}_\\beta^b = \\sum_{m=(pT, E, \\text{NBI})} \\bar{r}_{\\gamma, m}^a$$"
   ]
  },
  {
   "cell_type": "markdown",
   "metadata": {},
   "source": [
    "$$(3, N) + (3, 3, N, N) \\otimes (3, 3, N) = (3, N)$$"
   ]
  },
  {
   "cell_type": "code",
   "execution_count": 13,
   "metadata": {},
   "outputs": [],
   "source": [
    "from plasmapy.formulary.neoclassical import *"
   ]
  },
  {
   "cell_type": "code",
   "execution_count": 14,
   "metadata": {},
   "outputs": [
    {
     "data": {
      "text/plain": [
       "[[(<IonizationState instance for H>, <IonizationState instance for H>),\n",
       "  (<IonizationState instance for H>, <IonizationState instance for C>)],\n",
       " [(<IonizationState instance for C>, <IonizationState instance for H>),\n",
       "  (<IonizationState instance for C>, <IonizationState instance for C>)]]"
      ]
     },
     "execution_count": 14,
     "metadata": {},
     "output_type": "execute_result"
    }
   ],
   "source": [
    "lista = [[(a, b) for b in all_species] for a in all_species]"
   ]
  },
  {
   "cell_type": "code",
   "execution_count": 15,
   "metadata": {},
   "outputs": [
    {
     "data": {
      "text/plain": [
       "2"
      ]
     },
     "execution_count": 15,
     "metadata": {},
     "output_type": "execute_result"
    }
   ],
   "source": [
    "len_all_species = 2  # TODO"
   ]
  },
  {
   "cell_type": "code",
   "execution_count": 16,
   "metadata": {},
   "outputs": [
    {
     "data": {
      "text/latex": [
       "$[[0.80012818,~-0.019036459,~0.094870491,~-1.2514532,~0.024836816,~0.039454775],~\n",
       " [0.016679564,~0.96953418,~0.021809858,~0.1044354,~0.039748668,~0.009070292],~\n",
       " [0.053505503,~-0.014038529,~0.95039207,~0.33501287,~0.018316031,~-0.020630963],~\n",
       " [-0.11230445,~-0.018916803,~0.012387323,~0.38058884,~-0.058294373,~0.1234376],~\n",
       " [0.0092606845,~-0.040066479,~0.0091867983,~0.051076974,~0.8765304,~0.091544903],~\n",
       " [0.012622131,~-0.019121593,~-0.015293167,~0.069616912,~-0.058925455,~0.84760616]] \\; \\mathrm{}$"
      ],
      "text/plain": [
       "<Quantity [[ 0.80012818, -0.01903646,  0.09487049, -1.25145317,\n",
       "             0.02483682,  0.03945478],\n",
       "           [ 0.01667956,  0.96953418,  0.02180986,  0.1044354 ,\n",
       "             0.03974867,  0.00907029],\n",
       "           [ 0.0535055 , -0.01403853,  0.95039207,  0.33501287,\n",
       "             0.01831603, -0.02063096],\n",
       "           [-0.11230445, -0.0189168 ,  0.01238732,  0.38058884,\n",
       "            -0.05829437,  0.1234376 ],\n",
       "           [ 0.00926068, -0.04006648,  0.0091868 ,  0.05107697,\n",
       "             0.8765304 ,  0.0915449 ],\n",
       "           [ 0.01262213, -0.01912159, -0.01529317,  0.06961691,\n",
       "            -0.05892545,  0.84760616]]>"
      ]
     },
     "execution_count": 16,
     "metadata": {},
     "output_type": "execute_result"
    }
   ],
   "source": [
    "output_matrix = eq34matrix(all_species, fs)"
   ]
  },
  {
   "cell_type": "code",
   "execution_count": 17,
   "metadata": {},
   "outputs": [
    {
     "data": {
      "text/plain": [
       "<matplotlib.colorbar.Colorbar at 0x7f0f03f5c430>"
      ]
     },
     "execution_count": 17,
     "metadata": {},
     "output_type": "execute_result"
    },
    {
     "data": {
      "image/png": "[encoded data removed]",
      "text/plain": [
       "<Figure size 1000x800 with 2 Axes>"
      ]
     },
     "metadata": {},
     "output_type": "display_data"
    }
   ],
   "source": [
    "plt.imshow(output_matrix)\n",
    "plt.colorbar()"
   ]
  },
  {
   "cell_type": "markdown",
   "metadata": {},
   "source": [
    "## Source terms"
   ]
  },
  {
   "cell_type": "markdown",
   "metadata": {},
   "source": [
    "TODO add temperatures field to IonizationState rather than T_i argument\n",
    "TODO Fhat definition may need psi' correction; this would be proportional to flux of B through a bit of surface at that radius."
   ]
  },
  {
   "cell_type": "code",
   "execution_count": 18,
   "metadata": {},
   "outputs": [],
   "source": [
    "from astropy import constants"
   ]
  },
  {
   "cell_type": "code",
   "execution_count": 19,
   "metadata": {},
   "outputs": [
    {
     "data": {
      "text/latex": [
       "$1.6021766 \\times 10^{-19} \\; \\mathrm{C}$"
      ],
      "text/plain": [
       "<<class 'astropy.constants.codata2018.EMCODATA2018'> name='Electron charge' value=1.602176634e-19 uncertainty=0.0 unit='C' reference='CODATA 2018'>"
      ]
     },
     "execution_count": 19,
     "metadata": {},
     "output_type": "execute_result"
    }
   ],
   "source": [
    "ai.ion.charge"
   ]
  },
  {
   "cell_type": "code",
   "execution_count": 21,
   "metadata": {},
   "outputs": [
    {
     "data": {
      "text/latex": [
       "$[-0.15595747,~-0.013389261,~0.025988002] \\; \\mathrm{\\frac{J^{2}\\,s}{A\\,kg\\,m^{3}}}$"
      ],
      "text/plain": [
       "<Quantity [-0.15595747, -0.01338926,  0.025988  ] J2 s / (A kg m3)>"
      ]
     },
     "execution_count": 21,
     "metadata": {},
     "output_type": "execute_result"
    }
   ],
   "source": [
    "# S_pt_1 = Eq21a = fs.Fhat * pressure_gradient / (a.integer_charges * a.number_densities)\n",
    "# S_pt_2 = Eq21b = fs.Fhat * constants.k_B * temperature_gradient / a.integer_charges\n",
    "\n",
    "# electric_potential_gradient = 1 * u.V / u.m\n",
    "\n",
    "# S_er = fs.Fhat * electric_potential_gradient\n",
    "\n",
    "# effective_pressure_gradient = a.integer_charges * a.number_densities * electric_potential_gradient\n",
    "\n",
    "\n",
    "# S_pt_1_effective = fs.Fhat * effective_pressure_gradient / (a.integer_charges * a.number_densities)\n",
    "\n",
    "# S_pt = fs.Fhat / a.integer_charges / a.number_densities\n",
    "\n",
    "# μ = mu_hat(i, a, all_species, fs)\n",
    "\n",
    "# # S_pt_ai =\n",
    "# pressure_gradient[i] * μ[0,0] + a.number_densities[i] * constants.k_B * temperature_gradient[i] * μ[0,1]\n",
    "\n",
    "# pressure_gradient[i] * μ[1,0] + a.number_densities[i] * constants.k_B * temperature_gradient[i] * μ[1,1]\n",
    "\n",
    "# Spt = (fs.Fhat / ai.integer_charge / ai.number_density * u.Quantity([pressure_gradient[i] * μ[0,0] + a.number_densities[i] * constants.k_B * temperature_gradient[i] * μ[0,1],\n",
    "#                                                                      pressure_gradient[i] * μ[1,0] + a.number_densities[i] * constants.k_B * temperature_gradient[i] * μ[1,1]])).si\n",
    "\n",
    "\n",
    "def rbar_sources(a, all_species, flux_surface, beta_coeffs=None) -> u.Quantity:\n",
    "    fs = flux_surface\n",
    "    if beta_coeffs is not None:\n",
    "        # TODO should be a dict or sth\n",
    "        raise NotImplementedError\n",
    "    else:\n",
    "        beta_cx = np.zeros(3)  # TODO\n",
    "        beta_an = np.zeros(3)  # TODO\n",
    "        beta_coeffs = np.diag(beta_cx + beta_an) * u.kg / u.m ** 3 / u.s\n",
    "    pressures = (a.number_densities * constants.k_B * a.T_e).to(u.Pa)\n",
    "\n",
    "    num_charge_states = len(a.integer_charges)\n",
    "    temperatures = u.Quantity([a.T_e] * num_charge_states)\n",
    "\n",
    "    # TODO make these inputs\n",
    "    density_gradient = u.Quantity(num_charge_states * [1e18 * u.m ** -3 / u.m])\n",
    "    temperature_gradient = u.Quantity(num_charge_states * [10 * u.K / u.m])\n",
    "\n",
    "    # but not this, this is dervied\n",
    "    pressure_gradient = constants.k_B * (\n",
    "        temperatures * density_gradient + a.number_densities * temperature_gradient\n",
    "    )\n",
    "\n",
    "    def gen():\n",
    "        for i, ai in enumerate(a):\n",
    "            if ξ(a)[i] == 0:\n",
    "                continue  # won't add anything to sum anyway, and matrix gets singular\n",
    "            Aai = (\n",
    "                ξ(a)[i] * M_script(a, all_species)\n",
    "                - mu_hat(i, a, all_species, flux_surface)\n",
    "                - beta_coeffs\n",
    "            )\n",
    "            μ = mu_hat(i, a, all_species, fs)\n",
    "            Spt = (\n",
    "                fs.Fhat\n",
    "                / ai.ion.charge\n",
    "                / ai.number_density\n",
    "                * u.Quantity(\n",
    "                    [\n",
    "                        pressure_gradient[i] * μ[0, 0]\n",
    "                        + a.number_densities[i]\n",
    "                        * constants.k_B\n",
    "                        * temperature_gradient[i]\n",
    "                        * μ[0, 1],\n",
    "                        pressure_gradient[i] * μ[1, 0]\n",
    "                        + a.number_densities[i]\n",
    "                        * constants.k_B\n",
    "                        * temperature_gradient[i]\n",
    "                        * μ[1, 1],\n",
    "                    ]\n",
    "                )\n",
    "            ).si\n",
    "            Spt = np.append(Spt, 0)\n",
    "            S_matrix = Spt\n",
    "            rai_as_rows = np.linalg.solve(Aai, S_matrix)\n",
    "            # TODO does not include r_pT, r_E, r_NBI yet\n",
    "            rbar_ingredient = ξ(a)[i] * rai_as_rows\n",
    "            yield rbar_ingredient\n",
    "\n",
    "    return sum(gen())\n",
    "\n",
    "\n",
    "rbar_sources(a, all_species, fs)"
   ]
  },
  {
   "cell_type": "code",
   "execution_count": 22,
   "metadata": {},
   "outputs": [
    {
     "data": {
      "text/latex": [
       "$[[-1.054623,~0.088009671,~0.28232163],~\n",
       " [0.088009671,~0.14085007,~0.064903161],~\n",
       " [0.28232163,~0.064903161,~-0.14762642],~\n",
       " [-0.14694517,~0.012117177,~0.016515475],~\n",
       " [0.012117177,~0.025664623,~0.012248355],~\n",
       " [0.016515475,~0.012248355,~-0.020389709]] \\; \\mathrm{\\frac{m^{3}\\,s}{kg}}$"
      ],
      "text/plain": [
       "<Quantity [[-1.05462304,  0.08800967,  0.28232163],\n",
       "           [ 0.08800967,  0.14085007,  0.06490316],\n",
       "           [ 0.28232163,  0.06490316, -0.14762642],\n",
       "           [-0.14694517,  0.01211718,  0.01651547],\n",
       "           [ 0.01211718,  0.02566462,  0.01224836],\n",
       "           [ 0.01651547,  0.01224836, -0.02038971]] m3 s / kg>"
      ]
     },
     "execution_count": 22,
     "metadata": {},
     "output_type": "execute_result"
    }
   ],
   "source": [
    "original_rhs = np.concatenate([rbar(a, all_species, fs) for a in all_species])\n",
    "original_rhs"
   ]
  },
  {
   "cell_type": "code",
   "execution_count": 23,
   "metadata": {},
   "outputs": [
    {
     "data": {
      "text/latex": [
       "$[-0.15595747,~-0.013389261,~0.025988002,~-0.027381896,~0.0016505412,~0.002767476] \\; \\mathrm{\\frac{V}{m}}$"
      ],
      "text/plain": [
       "<Quantity [-0.15595747, -0.01338926,  0.025988  , -0.0273819 ,  0.00165054,\n",
       "            0.00276748] V / m>"
      ]
     },
     "execution_count": 23,
     "metadata": {},
     "output_type": "execute_result"
    }
   ],
   "source": [
    "rhs = np.concatenate([rbar_sources(a, all_species, fs) for a in all_species]).si\n",
    "rhs"
   ]
  },
  {
   "cell_type": "code",
   "execution_count": 24,
   "metadata": {},
   "outputs": [
    {
     "data": {
      "text/latex": [
       "$[[0.80012818,~-0.019036459,~0.094870491,~-1.2514532,~0.024836816,~0.039454775],~\n",
       " [0.016679564,~0.96953418,~0.021809858,~0.1044354,~0.039748668,~0.009070292],~\n",
       " [0.053505503,~-0.014038529,~0.95039207,~0.33501287,~0.018316031,~-0.020630963],~\n",
       " [-0.11230445,~-0.018916803,~0.012387323,~0.38058884,~-0.058294373,~0.1234376],~\n",
       " [0.0092606845,~-0.040066479,~0.0091867983,~0.051076974,~0.8765304,~0.091544903],~\n",
       " [0.012622131,~-0.019121593,~-0.015293167,~0.069616912,~-0.058925455,~0.84760616]] \\; \\mathrm{}$"
      ],
      "text/plain": [
       "<Quantity [[ 0.80012818, -0.01903646,  0.09487049, -1.25145317,\n",
       "             0.02483682,  0.03945478],\n",
       "           [ 0.01667956,  0.96953418,  0.02180986,  0.1044354 ,\n",
       "             0.03974867,  0.00907029],\n",
       "           [ 0.0535055 , -0.01403853,  0.95039207,  0.33501287,\n",
       "             0.01831603, -0.02063096],\n",
       "           [-0.11230445, -0.0189168 ,  0.01238732,  0.38058884,\n",
       "            -0.05829437,  0.1234376 ],\n",
       "           [ 0.00926068, -0.04006648,  0.0091868 ,  0.05107697,\n",
       "             0.8765304 ,  0.0915449 ],\n",
       "           [ 0.01262213, -0.01912159, -0.01529317,  0.06961691,\n",
       "            -0.05892545,  0.84760616]]>"
      ]
     },
     "execution_count": 24,
     "metadata": {},
     "output_type": "execute_result"
    }
   ],
   "source": [
    "lhs = eq34matrix(all_species, fs)\n",
    "lhs"
   ]
  },
  {
   "cell_type": "code",
   "execution_count": 25,
   "metadata": {},
   "outputs": [
    {
     "data": {
      "text/latex": [
       "$[-0.65237041,~0.022566327,~0.16316816,~-0.2787691,~0.020087778,~0.040725717] \\; \\mathrm{\\frac{V}{m}}$"
      ],
      "text/plain": [
       "<Quantity [-0.65237041,  0.02256633,  0.16316816, -0.2787691 ,  0.02008778,\n",
       "            0.04072572] V / m>"
      ]
     },
     "execution_count": 25,
     "metadata": {},
     "output_type": "execute_result"
    }
   ],
   "source": [
    "ubar = np.linalg.solve(lhs, rhs)\n",
    "ubar"
   ]
  },
  {
   "attachments": {
    "a665c467-1576-42cb-b0d1-4241ee26d1cf.png": {
     "image/png": "[encoded data removed]"
    }
   },
   "cell_type": "markdown",
   "metadata": {},
   "source": [
    "And then they get the flows for each charge state using\n",
    "\n",
    "![image.png](attachment:a665c467-1576-42cb-b0d1-4241ee26d1cf.png)"
   ]
  },
  {
   "cell_type": "markdown",
   "metadata": {},
   "source": [
    "And now we use equation 31 to get $u^{ai}$ back from $\\bar{u}$. Oh shit, that uses the per isotope responses. Crap. How do we do that, then?\n",
    "\n",
    "Well, we can now pretty much directly..."
   ]
  },
  {
   "cell_type": "code",
   "execution_count": 26,
   "metadata": {},
   "outputs": [
    {
     "data": {
      "text/plain": [
       "[<Quantity [ 0.43107543, -0.44750103,  0.40955016] kg V / (m4 s)>,\n",
       " <Quantity [ 1.97263447, -0.95000427,  0.35613348] kg V / (m4 s)>]"
      ]
     },
     "execution_count": 26,
     "metadata": {},
     "output_type": "execute_result"
    }
   ],
   "source": [
    "Λs = []\n",
    "for I, a in enumerate(all_species):\n",
    "\n",
    "    def gen():\n",
    "        i = 3 * I\n",
    "        for J, b in enumerate(all_species):\n",
    "            j = 3 * J\n",
    "            ubar_b = ubar[j : j + 3]\n",
    "            yield (N_script(a, b) * ubar_b.reshape(1, -1)).sum(axis=1)\n",
    "\n",
    "    Λs.append(-sum(gen()))\n",
    "\n",
    "\n",
    "Λs"
   ]
  },
  {
   "cell_type": "code",
   "execution_count": 27,
   "metadata": {},
   "outputs": [
    {
     "data": {
      "text/plain": [
       "<IonizationState instance for C>"
      ]
     },
     "execution_count": 27,
     "metadata": {},
     "output_type": "execute_result"
    }
   ],
   "source": [
    "b = all_species[\"C\"]"
   ]
  },
  {
   "cell_type": "code",
   "execution_count": 28,
   "metadata": {},
   "outputs": [
    {
     "data": {
      "text/latex": [
       "$[[5.8647005,~-4.3985254,~2.7490784],~\n",
       " [-4.3985254,~9.8966821,~-10.309044],~\n",
       " [2.7490784,~-10.309044,~15.034022]] \\; \\mathrm{\\frac{kg}{s\\,m^{3}}}$"
      ],
      "text/plain": [
       "<Quantity [[  5.86470052,  -4.39852539,   2.74907837],\n",
       "           [ -4.39852539,   9.89668213, -10.30904389],\n",
       "           [  2.74907837, -10.30904389,  15.03402234]] kg / (m3 s)>"
      ]
     },
     "execution_count": 28,
     "metadata": {},
     "output_type": "execute_result"
    }
   ],
   "source": [
    "N_script(a, b)"
   ]
  },
  {
   "cell_type": "code",
   "execution_count": 29,
   "metadata": {},
   "outputs": [
    {
     "data": {
      "text/latex": [
       "$[[-3.8259571,~-0.099258561,~0.44856207],~\n",
       " [2.8694678,~0.22333176,~-1.6821078],~\n",
       " [-1.7934174,~-0.23263725,~2.4530738]] \\; \\mathrm{\\frac{J^{2}}{A\\,m^{6}}}$"
      ],
      "text/plain": [
       "<Quantity [[-3.8259571 , -0.09925856,  0.44856207],\n",
       "           [ 2.86946782,  0.22333176, -1.68210775],\n",
       "           [-1.79341739, -0.23263725,  2.4530738 ]] J2 / (A m6)>"
      ]
     },
     "execution_count": 29,
     "metadata": {},
     "output_type": "execute_result"
    }
   ],
   "source": [
    "(ubar[:3] * N_script(a, b)).si"
   ]
  },
  {
   "cell_type": "code",
   "execution_count": 30,
   "metadata": {},
   "outputs": [
    {
     "name": "stdout",
     "output_type": "stream",
     "text": [
      "0 <IonizationState instance for H> [ 0.43107543 -0.44750103  0.40955016] kg V / (m4 s)\n",
      "1 <IonizationState instance for C> [ 1.97263447 -0.95000427  0.35613348] kg V / (m4 s)\n"
     ]
    }
   ],
   "source": [
    "for (I, (a, Λ)) in enumerate(zip(all_species, Λs)):\n",
    "    print(I, a, Λ)"
   ]
  },
  {
   "cell_type": "code",
   "execution_count": 31,
   "metadata": {},
   "outputs": [
    {
     "data": {
      "text/plain": [
       "<IonizationState instance for H>"
      ]
     },
     "execution_count": 31,
     "metadata": {},
     "output_type": "execute_result"
    }
   ],
   "source": [
    "a = all_species[\"H\"]"
   ]
  },
  {
   "cell_type": "code",
   "execution_count": 32,
   "metadata": {},
   "outputs": [
    {
     "data": {
      "text/latex": [
       "$[0,~1] \\; \\mathrm{}$"
      ],
      "text/plain": [
       "<Quantity [0., 1.]>"
      ]
     },
     "execution_count": 32,
     "metadata": {},
     "output_type": "execute_result"
    }
   ],
   "source": [
    "ξ(a)"
   ]
  },
  {
   "cell_type": "code",
   "execution_count": 33,
   "metadata": {},
   "outputs": [
    {
     "data": {
      "text/latex": [
       "$[0.43107543,~-0.44750103,~0.40955016] \\; \\mathrm{\\frac{V\\,kg}{s\\,m^{4}}}$"
      ],
      "text/plain": [
       "<Quantity [ 0.43107543, -0.44750103,  0.40955016] kg V / (m4 s)>"
      ]
     },
     "execution_count": 33,
     "metadata": {},
     "output_type": "execute_result"
    }
   ],
   "source": [
    "Λ = Λs[0]"
   ]
  },
  {
   "cell_type": "code",
   "execution_count": 34,
   "metadata": {},
   "outputs": [
    {
     "data": {
      "text/latex": [
       "$[[-1.2814361,~1.604824,~-1.7450736],~\n",
       " [1.604824,~3.8939085,~4.7810107],~\n",
       " [-1.7450736,~4.7810107,~-8.0091988]] \\; \\mathrm{\\frac{kg}{s\\,m^{3}}}$"
      ],
      "text/plain": [
       "<Quantity [[-1.28143607,  1.60482396, -1.74507365],\n",
       "           [ 1.60482396,  3.89390847,  4.7810107 ],\n",
       "           [-1.74507365,  4.7810107 , -8.00919883]] kg / (m3 s)>"
      ]
     },
     "execution_count": 34,
     "metadata": {},
     "output_type": "execute_result"
    }
   ],
   "source": [
    "Aai = ξ(a)[i] * M_script(a, all_species) - mu_hat(i, a, all_species, fs) - beta_coeffs"
   ]
  },
  {
   "cell_type": "code",
   "execution_count": 35,
   "metadata": {},
   "outputs": [
    {
     "data": {
      "text/latex": [
       "$[[0.43107543,~-0,~0],~\n",
       " [0,~-0.44750103,~0],~\n",
       " [0,~-0,~0.40955016]] \\; \\mathrm{\\frac{V\\,kg}{s\\,m^{4}}}$"
      ],
      "text/plain": [
       "<Quantity [[ 0.43107543, -0.        ,  0.        ],\n",
       "           [ 0.        , -0.44750103,  0.        ],\n",
       "           [ 0.        , -0.        ,  0.40955016]] kg V / (m4 s)>"
      ]
     },
     "execution_count": 35,
     "metadata": {},
     "output_type": "execute_result"
    }
   ],
   "source": [
    "S_ai = ξ(a)[i] * np.eye(3) * Λ.reshape(1, -1)"
   ]
  },
  {
   "cell_type": "code",
   "execution_count": 36,
   "metadata": {},
   "outputs": [
    {
     "data": {
      "text/latex": [
       "$[[-0.45462208,~-0.039384418,~0.11562487],~\n",
       " [0.037938806,~-0.06303055,~0.0265811],~\n",
       " [0.12170192,~-0.029044231,~-0.060460423]] \\; \\mathrm{\\frac{V}{m}}$"
      ],
      "text/plain": [
       "<Quantity [[-0.45462208, -0.03938442,  0.11562487],\n",
       "           [ 0.03793881, -0.06303055,  0.0265811 ],\n",
       "           [ 0.12170192, -0.02904423, -0.06046042]] V / m>"
      ]
     },
     "execution_count": 36,
     "metadata": {},
     "output_type": "execute_result"
    }
   ],
   "source": [
    "rai_as_rows = np.linalg.solve(Aai, S_ai)"
   ]
  },
  {
   "cell_type": "code",
   "execution_count": 37,
   "metadata": {},
   "outputs": [
    {
     "data": {
      "text/latex": [
       "$[0.13301115,~-0.17817193,~0] \\; \\mathrm{\\frac{J^{2}}{A\\,m^{6}}}$"
      ],
      "text/plain": [
       "<Quantity [ 0.13301115, -0.17817193,  0.        ] J2 / (A m6)>"
      ]
     },
     "execution_count": 37,
     "metadata": {},
     "output_type": "execute_result"
    }
   ],
   "source": [
    "pressures = (a.number_densities * constants.k_B * a.T_e).to(u.Pa)\n",
    "\n",
    "num_charge_states = len(a.integer_charges)\n",
    "temperatures = u.Quantity([a.T_e] * num_charge_states)\n",
    "\n",
    "# TODO make these inputs\n",
    "density_gradient = u.Quantity(num_charge_states * [1e18 * u.m ** -3 / u.m])\n",
    "temperature_gradient = u.Quantity(num_charge_states * [10 * u.K / u.m])\n",
    "\n",
    "# but not this, this is dervied\n",
    "pressure_gradient = constants.k_B * (\n",
    "    temperatures * density_gradient + a.number_densities * temperature_gradient\n",
    ")\n",
    "μ = mu_hat(i, a, all_species, fs)\n",
    "Spt = (\n",
    "    fs.Fhat\n",
    "    / ai.ion.charge\n",
    "    / ai.number_density\n",
    "    * u.Quantity(\n",
    "        [\n",
    "            pressure_gradient[i] * μ[0, 0]\n",
    "            + a.number_densities[i] * constants.k_B * temperature_gradient[i] * μ[0, 1],\n",
    "            pressure_gradient[i] * μ[1, 0]\n",
    "            + a.number_densities[i] * constants.k_B * temperature_gradient[i] * μ[1, 1],\n",
    "        ]\n",
    "    )\n",
    ").si\n",
    "Spt = np.append(Spt, 0)"
   ]
  },
  {
   "cell_type": "code",
   "execution_count": 38,
   "metadata": {},
   "outputs": [
    {
     "data": {
      "text/latex": [
       "$1 \\; \\mathrm{\\frac{kg}{s\\,m^{3}}}$"
      ],
      "text/plain": [
       "<Quantity 1. kg / (m3 s)>"
      ]
     },
     "execution_count": 38,
     "metadata": {},
     "output_type": "execute_result"
    }
   ],
   "source": [
    "actual_unit_of_μ = (Spt.unit * u.C * (1 / u.m ** 3) / (u.Pa / u.m)).si\n",
    "actual_unit_of_μ"
   ]
  },
  {
   "cell_type": "code",
   "execution_count": 39,
   "metadata": {},
   "outputs": [
    {
     "data": {
      "text/latex": [
       "$\\mathrm{\\frac{kg}{s\\,m^{3}}}$"
      ],
      "text/plain": [
       "Unit(\"kg / (m3 s)\")"
      ]
     },
     "execution_count": 39,
     "metadata": {},
     "output_type": "execute_result"
    }
   ],
   "source": [
    "μ.unit"
   ]
  },
  {
   "cell_type": "code",
   "execution_count": 40,
   "metadata": {},
   "outputs": [
    {
     "data": {
      "text/latex": [
       "$\\mathrm{\\frac{kg}{s\\,m^{3}}}$"
      ],
      "text/plain": [
       "Unit(\"kg / (m3 s)\")"
      ]
     },
     "execution_count": 40,
     "metadata": {},
     "output_type": "execute_result"
    }
   ],
   "source": [
    "Aai.unit"
   ]
  },
  {
   "cell_type": "code",
   "execution_count": 41,
   "metadata": {},
   "outputs": [
    {
     "data": {
      "text/latex": [
       "$\\mathrm{m^{2}}$"
      ],
      "text/plain": [
       "Unit(\"m2\")"
      ]
     },
     "execution_count": 41,
     "metadata": {},
     "output_type": "execute_result"
    }
   ],
   "source": [
    "(u.Pa * u.s / μ.unit).si"
   ]
  },
  {
   "cell_type": "code",
   "execution_count": 42,
   "metadata": {},
   "outputs": [
    {
     "data": {
      "text/latex": [
       "$1 \\; \\mathrm{}$"
      ],
      "text/plain": [
       "<Quantity 1.>"
      ]
     },
     "execution_count": 42,
     "metadata": {},
     "output_type": "execute_result"
    }
   ],
   "source": [
    "intended_unit_of_μ = ((u.V / u.m) * u.C * (1 / u.m ** 3) / (u.Pa / u.m)).si\n",
    "intended_unit_of_μ"
   ]
  },
  {
   "cell_type": "code",
   "execution_count": 43,
   "metadata": {},
   "outputs": [
    {
     "data": {
      "text/latex": [
       "$1 \\; \\mathrm{\\frac{kg}{s\\,m^{3}}}$"
      ],
      "text/plain": [
       "<Quantity 1. kg / (m3 s)>"
      ]
     },
     "execution_count": 43,
     "metadata": {},
     "output_type": "execute_result"
    }
   ],
   "source": [
    "actual_unit_of_μ / intended_unit_of_μ"
   ]
  },
  {
   "cell_type": "code",
   "execution_count": 44,
   "metadata": {},
   "outputs": [
    {
     "data": {
      "text/latex": [
       "$[130686.09] \\; \\mathrm{\\frac{1}{s}}$"
      ],
      "text/plain": [
       "<Quantity [130686.08742149] 1 / s>"
      ]
     },
     "execution_count": 44,
     "metadata": {},
     "output_type": "execute_result"
    }
   ],
   "source": [
    "neoclassical._integrand(1, 1, 1, 1, a, all_species, fs)"
   ]
  },
  {
   "cell_type": "code",
   "execution_count": 45,
   "metadata": {},
   "outputs": [
    {
     "data": {
      "text/latex": [
       "$[[-0.45462208,~-0.039384418,~0.11562487],~\n",
       " [0.037938806,~-0.06303055,~0.0265811],~\n",
       " [0.12170192,~-0.029044231,~-0.060460423]] \\; \\mathrm{\\frac{V}{m}}$"
      ],
      "text/plain": [
       "<Quantity [[-0.45462208, -0.03938442,  0.11562487],\n",
       "           [ 0.03793881, -0.06303055,  0.0265811 ],\n",
       "           [ 0.12170192, -0.02904423, -0.06046042]] V / m>"
      ]
     },
     "execution_count": 45,
     "metadata": {},
     "output_type": "execute_result"
    }
   ],
   "source": [
    "rai_as_rows"
   ]
  },
  {
   "cell_type": "code",
   "execution_count": 46,
   "metadata": {},
   "outputs": [
    {
     "data": {
      "text/plain": [
       "array([-0.16311102, -0.00066649,  0.01318639])"
      ]
     },
     "execution_count": 46,
     "metadata": {},
     "output_type": "execute_result"
    }
   ],
   "source": [
    "order_flow_sum = (Λ.reshape(-1, 1) * rai_as_rows).sum(axis=0).si.value  # TODO fix units"
   ]
  },
  {
   "cell_type": "code",
   "execution_count": 47,
   "metadata": {},
   "outputs": [
    {
     "data": {
      "text/latex": [
       "$[[-1.2814361,~1.604824,~-1.7450736],~\n",
       " [1.604824,~3.8939085,~4.7810107],~\n",
       " [-1.7450736,~4.7810107,~-8.0091988]] \\; \\mathrm{\\frac{kg}{s\\,m^{3}}}$"
      ],
      "text/plain": [
       "<Quantity [[-1.28143607,  1.60482396, -1.74507365],\n",
       "           [ 1.60482396,  3.89390847,  4.7810107 ],\n",
       "           [-1.74507365,  4.7810107 , -8.00919883]] kg / (m3 s)>"
      ]
     },
     "execution_count": 47,
     "metadata": {},
     "output_type": "execute_result"
    }
   ],
   "source": [
    "Aai"
   ]
  },
  {
   "cell_type": "code",
   "execution_count": 48,
   "metadata": {},
   "outputs": [
    {
     "data": {
      "text/plain": [
       "array([-0.15595747, -0.01338926,  0.025988  ])"
      ]
     },
     "execution_count": 48,
     "metadata": {},
     "output_type": "execute_result"
    }
   ],
   "source": [
    "rpt_row = np.linalg.solve(Aai, Spt).si.value"
   ]
  },
  {
   "cell_type": "code",
   "execution_count": 50,
   "metadata": {},
   "outputs": [
    {
     "data": {
      "text/plain": [
       "array([-0.3190685 , -0.01405575,  0.0391744 ])"
      ]
     },
     "execution_count": 50,
     "metadata": {},
     "output_type": "execute_result"
    }
   ],
   "source": [
    "flows = order_flow_sum + rpt_row  # Eq31"
   ]
  },
  {
   "cell_type": "code",
   "execution_count": 53,
   "metadata": {},
   "outputs": [
    {
     "name": "stderr",
     "output_type": "stream",
     "text": [
      "/usr/lib/python3.9/site-packages/astropy/units/quantity.py:477: RuntimeWarning: invalid value encountered in true_divide\n",
      "  result = super().__array_ufunc__(function, method, *arrays, **kwargs)\n"
     ]
    },
    {
     "data": {
      "text/plain": [
       "array([nan, nan, nan])"
      ]
     },
     "execution_count": 53,
     "metadata": {},
     "output_type": "execute_result"
    }
   ],
   "source": [
    "def get_flows():\n",
    "    original_rhs = np.concatenate([rbar(a, all_species, fs) for a in all_species])\n",
    "    rhs = np.concatenate([rbar_sources(a, all_species, fs) for a in all_species]).si\n",
    "    lhs = eq34matrix(all_species, fs)\n",
    "    ubar = np.linalg.solve(lhs, rhs)\n",
    "\n",
    "    # use Eq31 to get charge state flows from isotopic flows\n",
    "    Λs = []\n",
    "    for I, a in enumerate(all_species):\n",
    "\n",
    "        def gen():\n",
    "            i = 3 * I\n",
    "            for J, b in enumerate(all_species):\n",
    "                j = 3 * J\n",
    "                ubar_b = ubar[j : j + 3]\n",
    "                yield (N_script(a, b) * ubar_b.reshape(1, -1)).sum(axis=1)\n",
    "\n",
    "        Λs.append(-sum(gen()))\n",
    "    Aai = (\n",
    "        ξ(a)[i] * M_script(a, all_species) - mu_hat(i, a, all_species, fs) - beta_coeffs\n",
    "    )\n",
    "    Λ = Λs[0]  # TODO double check this indexing\n",
    "    S_ai = ξ(a)[i] * np.eye(3) * Λ.reshape(1, -1)\n",
    "    rai_as_rows = np.linalg.solve(Aai, S_ai)\n",
    "\n",
    "    pressures = (a.number_densities * constants.k_B * a.T_e).to(u.Pa)\n",
    "\n",
    "    num_charge_states = len(a.integer_charges)\n",
    "    temperatures = u.Quantity([a.T_e] * num_charge_states)\n",
    "\n",
    "    # TODO make these inputs\n",
    "    density_gradient = u.Quantity(num_charge_states * [1e18 * u.m ** -3 / u.m])\n",
    "    temperature_gradient = u.Quantity(num_charge_states * [10 * u.K / u.m])\n",
    "\n",
    "    # but not this, this is dervied\n",
    "    pressure_gradient = constants.k_B * (\n",
    "        temperatures * density_gradient + a.number_densities * temperature_gradient\n",
    "    )\n",
    "    μ = mu_hat(i, a, all_species, fs)\n",
    "    Spt = (\n",
    "        fs.Fhat\n",
    "        / ai.ion.charge\n",
    "        / ai.number_density\n",
    "        * u.Quantity(\n",
    "            [\n",
    "                pressure_gradient[i] * μ[0, 0]\n",
    "                + a.number_densities[i]\n",
    "                * constants.k_B\n",
    "                * temperature_gradient[i]\n",
    "                * μ[0, 1],\n",
    "                pressure_gradient[i] * μ[1, 0]\n",
    "                + a.number_densities[i]\n",
    "                * constants.k_B\n",
    "                * temperature_gradient[i]\n",
    "                * μ[1, 1],\n",
    "            ]\n",
    "        )\n",
    "    ).si\n",
    "    Spt = np.append(Spt, 0)\n",
    "    order_flow_sum = (\n",
    "        (Λ.reshape(-1, 1) * rai_as_rows).sum(axis=0).si.value\n",
    "    )  # TODO fix units\n",
    "    rpt_row = np.linalg.solve(Aai, Spt).si.value\n",
    "    flows = order_flow_sum + rpt_row  # Eq31\n",
    "    return flows\n",
    "\n",
    "\n",
    "get_flows()"
   ]
  },
  {
   "cell_type": "markdown",
   "metadata": {},
   "source": [
    "# Particle and heat fluxes"
   ]
  },
  {
   "cell_type": "code",
   "execution_count": 52,
   "metadata": {},
   "outputs": [
    {
     "data": {
      "text/plain": [
       "<IonizationState instance for C>"
      ]
     },
     "execution_count": 52,
     "metadata": {},
     "output_type": "execute_result"
    }
   ],
   "source": [
    "a = all_species[\"C\"]  # TODO verfiy!!!"
   ]
  },
  {
   "cell_type": "code",
   "execution_count": 53,
   "metadata": {},
   "outputs": [
    {
     "data": {
      "text/plain": [
       "IonicLevel('C 6+', ionic_fraction=1.0)"
      ]
     },
     "execution_count": 53,
     "metadata": {},
     "output_type": "execute_result"
    }
   ],
   "source": [
    "i = 6\n",
    "ai = a[i]"
   ]
  },
  {
   "cell_type": "code",
   "execution_count": 54,
   "metadata": {},
   "outputs": [
    {
     "data": {
      "text/latex": [
       "$[-0.15597208,~-0.013390549,~0.025990441] \\; \\mathrm{\\frac{V}{m}}$"
      ],
      "text/plain": [
       "<Quantity [-0.15597208, -0.01339055,  0.02599044] V / m>"
      ]
     },
     "execution_count": 54,
     "metadata": {},
     "output_type": "execute_result"
    }
   ],
   "source": [
    "u_velocity = rpt_row  # TODO replace with full form once units are okay"
   ]
  },
  {
   "cell_type": "code",
   "execution_count": 55,
   "metadata": {},
   "outputs": [
    {
     "name": "stderr",
     "output_type": "stream",
     "text": [
      "/usr/lib/python3.9/site-packages/astropy/units/quantity.py:477: RuntimeWarning: invalid value encountered in true_divide\n",
      "  result = super().__array_ufunc__(function, method, *arrays, **kwargs)\n"
     ]
    },
    {
     "data": {
      "text/plain": [
       "[<Quantity [7.17989491e+00, 4.94972378e-03, 0.00000000e+00] J / (C m)>,\n",
       " <Quantity [7.17989491e+00, 4.94972378e-03, 0.00000000e+00] J / (C m)>,\n",
       " <Quantity [7.17989491e+00, 4.94972378e-03, 0.00000000e+00] J / (C m)>,\n",
       " <Quantity [7.17989491e+00, 4.94972378e-03, 0.00000000e+00] J / (C m)>,\n",
       " <Quantity [7.17989491e+00, 4.94972378e-03, 0.00000000e+00] J / (C m)>,\n",
       " <Quantity [7.17989491e+00, 4.94972378e-03, 0.00000000e+00] J / (C m)>,\n",
       " <Quantity [7.18484464e+00, 4.94972378e-03, 0.00000000e+00] J / (C m)>]"
      ]
     },
     "execution_count": 55,
     "metadata": {},
     "output_type": "execute_result"
    }
   ],
   "source": [
    "def thermodynamic_forces(\n",
    "    a, density_gradient=1e18 * u.m ** -3 / u.m, temperature_gradient=10 * u.K / u.m,\n",
    "):\n",
    "    num_charge_states = len(a.integer_charges)\n",
    "    temperatures = u.Quantity([a.T_e] * num_charge_states)\n",
    "\n",
    "    density_gradient = u.Quantity(num_charge_states * [density_gradient])\n",
    "    temperature_gradient = u.Quantity(num_charge_states * [temperature_gradient])\n",
    "\n",
    "    # but not this, this is dervied\n",
    "    pressure_gradient = constants.k_B * (\n",
    "        temperatures * density_gradient + a.number_densities * temperature_gradient\n",
    "    )\n",
    "\n",
    "    for i in range(num_charge_states):\n",
    "        μ = mu_hat(i, a, all_species, fs)\n",
    "        thermodynamic_forces = u.Quantity(\n",
    "            [\n",
    "                fs.Fhat / ai.ion.charge / ai.number_density * pressure_gradient[i],\n",
    "                fs.Fhat / ai.ion.charge * constants.k_B * temperature_gradient[i],\n",
    "            ]\n",
    "        )\n",
    "\n",
    "        thermodynamic_forces = np.append(thermodynamic_forces, 0)\n",
    "        yield thermodynamic_forces\n",
    "\n",
    "\n",
    "list(thermodynamic_forces(a))"
   ]
  },
  {
   "cell_type": "code",
   "execution_count": 56,
   "metadata": {},
   "outputs": [
    {
     "data": {
      "text/latex": [
       "$[7.1848446,~0.0049497238,~0] \\; \\mathrm{\\frac{J}{C\\,m}}$"
      ],
      "text/plain": [
       "<Quantity [7.18484464e+00, 4.94972378e-03, 0.00000000e+00] J / (C m)>"
      ]
     },
     "execution_count": 56,
     "metadata": {},
     "output_type": "execute_result"
    }
   ],
   "source": [
    "td_forces = list(thermodynamic_forces(a))[i]"
   ]
  },
  {
   "cell_type": "markdown",
   "metadata": {},
   "source": [
    "TODO flux surface average drops units..."
   ]
  },
  {
   "cell_type": "code",
   "execution_count": 57,
   "metadata": {},
   "outputs": [
    {
     "data": {
      "text/latex": [
       "$34.48007 \\; \\mathrm{T^{2}}$"
      ],
      "text/plain": [
       "<Quantity 34.48007017 T2>"
      ]
     },
     "execution_count": 57,
     "metadata": {},
     "output_type": "execute_result"
    }
   ],
   "source": [
    "B2fsav = fs.flux_surface_average(fs.B2) * u.T ** 2  # flux surface averaged B^2"
   ]
  },
  {
   "cell_type": "code",
   "execution_count": 58,
   "metadata": {},
   "outputs": [
    {
     "data": {
      "text/latex": [
       "$[0.2038532,~-0.000244803,~0.00075378156] \\; \\mathrm{\\frac{V}{m\\,T^{2}}}$"
      ],
      "text/plain": [
       "<Quantity [ 0.2038532 , -0.0002448 ,  0.00075378] V / (m T2)>"
      ]
     },
     "execution_count": 58,
     "metadata": {},
     "output_type": "execute_result"
    }
   ],
   "source": [
    "u_θ = (u_velocity + td_forces) / B2fsav"
   ]
  },
  {
   "cell_type": "code",
   "execution_count": 59,
   "metadata": {},
   "outputs": [
    {
     "data": {
      "text/latex": [
       "$-2.849915 \\times 10^{17} \\; \\mathrm{\\frac{1}{s\\,m^{2}}}$"
      ],
      "text/plain": [
       "<Quantity -2.84991502e+17 1 / (m2 s)>"
      ]
     },
     "execution_count": 59,
     "metadata": {},
     "output_type": "execute_result"
    }
   ],
   "source": [
    "Γ_BP = -(fs.Fhat / ai.ion.charge * (μ[0, :] * u_θ).sum()).si"
   ]
  },
  {
   "cell_type": "code",
   "execution_count": 60,
   "metadata": {},
   "outputs": [
    {
     "data": {
      "text/latex": [
       "$[-0.010642241,~-2.7032917 \\times 10^{-5},~-0.00010116065] \\; \\mathrm{\\frac{A}{m^{2}}}$"
      ],
      "text/plain": [
       "<Quantity [-1.06422415e-02, -2.70329168e-05, -1.01160651e-04] A / m2>"
      ]
     },
     "execution_count": 60,
     "metadata": {},
     "output_type": "execute_result"
    }
   ],
   "source": [
    "(μ[1, :] * u_θ).si"
   ]
  },
  {
   "cell_type": "code",
   "execution_count": 61,
   "metadata": {},
   "outputs": [
    {
     "ename": "IndexError",
     "evalue": "index 6 is out of bounds for axis 0 with size 2",
     "output_type": "error",
     "traceback": [
      "\u001b[0;31m---------------------------------------------------------------------------\u001b[0m",
      "\u001b[0;31mIndexError\u001b[0m                                Traceback (most recent call last)",
      "\u001b[0;32m<ipython-input-61-5dfb4b814c17>\u001b[0m in \u001b[0;36m<module>\u001b[0;34m\u001b[0m\n\u001b[0;32m----> 1\u001b[0;31m \u001b[0;34m(\u001b[0m\u001b[0mfs\u001b[0m\u001b[0;34m.\u001b[0m\u001b[0mFhat\u001b[0m \u001b[0;34m*\u001b[0m \u001b[0mconstants\u001b[0m\u001b[0;34m.\u001b[0m\u001b[0mk_B\u001b[0m \u001b[0;34m*\u001b[0m \u001b[0mtemperatures\u001b[0m\u001b[0;34m[\u001b[0m\u001b[0mi\u001b[0m\u001b[0;34m]\u001b[0m \u001b[0;34m/\u001b[0m \u001b[0mai\u001b[0m\u001b[0;34m.\u001b[0m\u001b[0mion\u001b[0m\u001b[0;34m.\u001b[0m\u001b[0mcharge\u001b[0m\u001b[0;34m)\u001b[0m\u001b[0;34m\u001b[0m\u001b[0;34m\u001b[0m\u001b[0m\n\u001b[0m",
      "\u001b[0;32m/usr/lib/python3.9/site-packages/astropy/units/quantity.py\u001b[0m in \u001b[0;36m__getitem__\u001b[0;34m(self, key)\u001b[0m\n\u001b[1;32m   1037\u001b[0m     \u001b[0;32mdef\u001b[0m \u001b[0m__getitem__\u001b[0m\u001b[0;34m(\u001b[0m\u001b[0mself\u001b[0m\u001b[0;34m,\u001b[0m \u001b[0mkey\u001b[0m\u001b[0;34m)\u001b[0m\u001b[0;34m:\u001b[0m\u001b[0;34m\u001b[0m\u001b[0;34m\u001b[0m\u001b[0m\n\u001b[1;32m   1038\u001b[0m         \u001b[0;32mtry\u001b[0m\u001b[0;34m:\u001b[0m\u001b[0;34m\u001b[0m\u001b[0;34m\u001b[0m\u001b[0m\n\u001b[0;32m-> 1039\u001b[0;31m             \u001b[0mout\u001b[0m \u001b[0;34m=\u001b[0m \u001b[0msuper\u001b[0m\u001b[0;34m(\u001b[0m\u001b[0;34m)\u001b[0m\u001b[0;34m.\u001b[0m\u001b[0m__getitem__\u001b[0m\u001b[0;34m(\u001b[0m\u001b[0mkey\u001b[0m\u001b[0;34m)\u001b[0m\u001b[0;34m\u001b[0m\u001b[0;34m\u001b[0m\u001b[0m\n\u001b[0m\u001b[1;32m   1040\u001b[0m         \u001b[0;32mexcept\u001b[0m \u001b[0mIndexError\u001b[0m\u001b[0;34m:\u001b[0m\u001b[0;34m\u001b[0m\u001b[0;34m\u001b[0m\u001b[0m\n\u001b[1;32m   1041\u001b[0m             \u001b[0;31m# We want zero-dimensional Quantity objects to behave like scalars,\u001b[0m\u001b[0;34m\u001b[0m\u001b[0;34m\u001b[0m\u001b[0;34m\u001b[0m\u001b[0m\n",
      "\u001b[0;31mIndexError\u001b[0m: index 6 is out of bounds for axis 0 with size 2"
     ]
    }
   ],
   "source": [
    "(fs.Fhat * constants.k_B * temperatures[i] / ai.ion.charge)"
   ]
  },
  {
   "cell_type": "code",
   "execution_count": null,
   "metadata": {},
   "outputs": [],
   "source": [
    "# TODO verify unit; does not look right\n",
    "q_BP = -(\n",
    "    fs.Fhat * constants.k_B * temperatures[i] / ai.ion.charge * (μ[1, :] * u_θ).sum()\n",
    ").si"
   ]
  },
  {
   "cell_type": "code",
   "execution_count": null,
   "metadata": {},
   "outputs": [],
   "source": [
    "Binv2fsav = fs.flux_surface_average(1 / fs.B2) / u.T ** 2\n",
    "Γ_PS = -fs.Fhat / ai.ion.charge * ξ(a)[i] / B2fsav * (1 - B2fsav * Binv2fsav)"
   ]
  },
  {
   "cell_type": "code",
   "execution_count": null,
   "metadata": {},
   "outputs": [],
   "source": [
    "np.array(list(thermodynamic_forces(a)))"
   ]
  },
  {
   "cell_type": "code",
   "execution_count": null,
   "metadata": {},
   "outputs": [],
   "source": [
    "((u.Pa * u.T / u.m) / (u.kg / u.m ** 3 / u.s)).si"
   ]
  },
  {
   "cell_type": "code",
   "execution_count": null,
   "metadata": {},
   "outputs": [],
   "source": [
    "sum(\n",
    "    (ξ(b)[:, np.newaxis] * np.array(list(thermodynamic_forces(b)))).sum(axis=0)\n",
    "    * N_script(a, b)[0]\n",
    "    for b in all_species\n",
    ") + (M_script(a, all_species)[0, :] * list(thermodynamic_forces(a))[i]).si"
   ]
  },
  {
   "cell_type": "code",
   "execution_count": null,
   "metadata": {},
   "outputs": [],
   "source": []
  },
  {
   "cell_type": "code",
   "execution_count": null,
   "metadata": {},
   "outputs": [],
   "source": [
    "sum(thermodynamic_forces(a))"
   ]
  },
  {
   "cell_type": "code",
   "execution_count": null,
   "metadata": {},
   "outputs": [],
   "source": []
  },
  {
   "cell_type": "code",
   "execution_count": null,
   "metadata": {},
   "outputs": [],
   "source": []
  },
  {
   "cell_type": "code",
   "execution_count": null,
   "metadata": {},
   "outputs": [],
   "source": [
    "Out[260] + Out[258]"
   ]
  },
  {
   "cell_type": "code",
   "execution_count": null,
   "metadata": {},
   "outputs": [],
   "source": []
  },
  {
   "cell_type": "code",
   "execution_count": null,
   "metadata": {},
   "outputs": [],
   "source": [
    "[ξ(b) * N]"
   ]
  },
  {
   "cell_type": "code",
   "execution_count": null,
   "metadata": {},
   "outputs": [],
   "source": [
    "def gen():\n",
    "    for b in all_species:\n",
    "        pressures = (b.number_densities * constants.k_B * b.T_e).to(u.Pa)\n",
    "\n",
    "        num_charge_states = len(b.integer_charges)\n",
    "        temperatures = u.Quantity([b.T_e] * num_charge_states)\n",
    "\n",
    "        # TODO make these inputs\n",
    "        density_gradient = u.Quantity(num_charge_states * [1e18 * u.m ** -3 / u.m])\n",
    "        temperature_gradient = u.Quantity(num_charge_states * [10 * u.K / u.m])\n",
    "\n",
    "        # but not this, this is dervied\n",
    "        pressure_gradient = constants.k_B * (\n",
    "            temperatures * density_gradient + b.number_densities * temperature_gradient\n",
    "        )\n",
    "\n",
    "        μ = mu_hat(i, a, all_species, fs)\n",
    "        thermodynamic_forces = u.Quantity(\n",
    "            [\n",
    "                fs.Fhat / ai.ion.charge / ai.number_density * pressure_gradient[i],\n",
    "                fs.Fhat / ai.ion.charge * constants.k_B * temperature_gradient[i],\n",
    "            ]\n",
    "        )\n",
    "\n",
    "        thermodynamic_forces = np.append(thermodynamic_forces, 0)\n",
    "        yield ξ(b) * N_script(a, all_species)[0, :] * thermodynamic_forces"
   ]
  },
  {
   "cell_type": "code",
   "execution_count": null,
   "metadata": {},
   "outputs": [],
   "source": [
    "# -fs.Fhat / ai.ion.charge *"
   ]
  },
  {
   "cell_type": "markdown",
   "metadata": {},
   "source": [
    "## Local flow velocities"
   ]
  },
  {
   "cell_type": "code",
   "execution_count": null,
   "metadata": {},
   "outputs": [],
   "source": [
    "fs.Bt = fs.Bphivals\n",
    "\n",
    "Eq45a = fs.Bp\n",
    "Eq45b = fs.Bt * 1 - 1 / fs.Bt\n",
    "Eq45c = fs.Bmag * 1 - 1 / fs.Bmag\n",
    "Eq45d = fs.Bp / fs.Bmag / fs.Bt\n",
    "plt.plot(fs.lp, Eq45a)\n",
    "plt.plot(fs.lp, Eq45b)\n",
    "plt.plot(fs.lp, Eq45c)\n",
    "plt.plot(fs.lp, Eq45d)"
   ]
  },
  {
   "cell_type": "markdown",
   "metadata": {},
   "source": [
    "# Diffusion coefficients"
   ]
  },
  {
   "cell_type": "code",
   "execution_count": null,
   "metadata": {},
   "outputs": [],
   "source": [
    "Γ = Γ_BP  # TODO PLACEHOLDER"
   ]
  },
  {
   "cell_type": "code",
   "execution_count": null,
   "metadata": {},
   "outputs": [],
   "source": [
    "a.number_densities"
   ]
  },
  {
   "cell_type": "code",
   "execution_count": null,
   "metadata": {},
   "outputs": [],
   "source": []
  },
  {
   "cell_type": "code",
   "execution_count": null,
   "metadata": {},
   "outputs": [],
   "source": [
    "temperature_gradient"
   ]
  },
  {
   "cell_type": "code",
   "execution_count": null,
   "metadata": {},
   "outputs": [],
   "source": [
    "a.number_densities"
   ]
  },
  {
   "cell_type": "code",
   "execution_count": null,
   "metadata": {},
   "outputs": [],
   "source": [
    "temperature_gradient"
   ]
  },
  {
   "cell_type": "code",
   "execution_count": null,
   "metadata": {},
   "outputs": [],
   "source": [
    "D_C_T_e = -Γ / a.number_densities / (temperature_gradient / a.T_e)"
   ]
  },
  {
   "cell_type": "code",
   "execution_count": null,
   "metadata": {},
   "outputs": [],
   "source": [
    "from plasmaboundaries import NSTX_single_null\n",
    "\n",
    "NSTX_single_null"
   ]
  },
  {
   "cell_type": "code",
   "execution_count": null,
   "metadata": {},
   "outputs": [],
   "source": [
    "from plasmaboundaries import NSTX_double_null\n",
    "\n",
    "NSTX_double_null"
   ]
  },
  {
   "cell_type": "code",
   "execution_count": null,
   "metadata": {},
   "outputs": [],
   "source": [
    "NSTX_Bt0 = 0.3 * u.T\n",
    "NSTX_R0 = 0.8 * u.m\n",
    "NSTX_a0 = 0.64 * u.m\n",
    "NSTX_I = 1 * u.MA"
   ]
  },
  {
   "cell_type": "code",
   "execution_count": null,
   "metadata": {},
   "outputs": [],
   "source": [
    "def get_derivatives():\n",
    "\n",
    "    from sympy.abc import C, D, x\n",
    "\n",
    "    T = C * (1 - x ** 2) + D\n",
    "    n_e = C * (1 - x ** 2) ** 0.5 + D\n",
    "    return T.diff(x).simplify(), n_e.diff(x).simplify()\n",
    "\n",
    "\n",
    "get_derivatives()"
   ]
  },
  {
   "cell_type": "code",
   "execution_count": null,
   "metadata": {},
   "outputs": [],
   "source": [
    "ρ_normed = np.linspace(0, 1, 100)\n",
    "T0_min = 0.5 * u.keV\n",
    "T0_max = 2 * u.keV\n",
    "n_D0 = 6.5e19 * u.m ** -3\n",
    "n_C = 5e18 * u.m ** -3\n",
    "\n",
    "T0 = T0_max  # they scan, but I don't bother for now\n",
    "Ta = 0.05 * T0\n",
    "T = (T0 - Ta) * (1 - ρ_normed ** 2) + Ta\n",
    "Tprime = -2 * (T0 - Ta) * ρ_normed / u.m\n",
    "plt.plot(ρ_normed, T)\n",
    "plt.plot(ρ_normed, Tprime)\n",
    "\n",
    "plt.figure()\n",
    "ne0 = n_D0  # TODO double check\n",
    "nea = 0.3 * ne0\n",
    "n_e = (ne0 - nea) * (1 - ρ_normed ** 2) ** 0.5 + nea\n",
    "n_e_prime = (-(ne0 - nea) * ρ_normed * (1 - ρ_normed ** 2) ** -0.5) / u.m\n",
    "plt.plot(ρ_normed, n_e)\n",
    "plt.plot(ρ_normed, n_e_prime)"
   ]
  },
  {
   "cell_type": "code",
   "execution_count": null,
   "metadata": {},
   "outputs": [],
   "source": [
    "index_middle = 50\n",
    "D_C_T_e = -Γ / n_e[index_middle] / (Tprime[index_middle] / T[index_middle])"
   ]
  }
 ],
 "metadata": {
  "kernelspec": {
   "display_name": "Python 3",
   "language": "python",
   "name": "python3"
  },
  "language_info": {
   "codemirror_mode": {
    "name": "ipython",
    "version": 3
   },
   "file_extension": ".py",
   "mimetype": "text/x-python",
   "name": "python",
   "nbconvert_exporter": "python",
   "pygments_lexer": "ipython3",
   "version": "3.9.3"
  },
  "widgets": {
   "application/vnd.jupyter.widget-state+json": {
    "state": {},
    "version_major": 2,
    "version_minor": 0
   }
  }
 },
 "nbformat": 4,
 "nbformat_minor": 4
}
